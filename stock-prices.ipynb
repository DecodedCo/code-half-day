{
 "cells": [
  {
   "cell_type": "markdown",
   "metadata": {},
   "source": [
    "# Pulling Stock Data\n",
    "This is a Python notebook to analyze Stock data based on ticker symbols.\n"
   ]
  },
  {
   "cell_type": "markdown",
   "metadata": {},
   "source": [
    "## 0. Programming in Python\n",
    "Let's start by seeing how to make variables, functions, and logic in Python."
   ]
  },
  {
   "cell_type": "markdown",
   "metadata": {},
   "source": [
    "### Variables\n",
    "Variables can take on many data types, from `'Strings'` to numbers (`0`), `True`/`False` and even functions.\n",
    "\n",
    "Type **`x = 'Hello world!'`** in the box below, then press **`Shift + Enter`** to execute the code."
   ]
  },
  {
   "cell_type": "code",
   "execution_count": null,
   "metadata": {
    "collapsed": true
   },
   "outputs": [],
   "source": []
  },
  {
   "cell_type": "markdown",
   "metadata": {},
   "source": [
    "Nothing happened... That's because we've only just created the variable `x`. Now to show the value of the variable, we need to type **`x`**. Again, press **`Shift + Enter`** to execute the code."
   ]
  },
  {
   "cell_type": "code",
   "execution_count": null,
   "metadata": {},
   "outputs": [],
   "source": []
  },
  {
   "cell_type": "markdown",
   "metadata": {},
   "source": [
    "### Functions\n",
    "Functions can take on any name - you get to choose - but the syntax for defining a function is always the same. Functions can also operate on one or more `variable` that gets defined when you initially create the function. These variables are a placeholder for what to do with any data that gets sent to the function when it is used.\n",
    "- First, define the name of the function with **`def nameOfFunction():`**\n",
    "- Then, if you want to send a variable to the function, put that variable name between the ().\n",
    "- Lastly, on the next line, tab in one tab, and write the instructions for what the function will do.\n",
    "\n",
    "Below, type **`def myFunction(y):`** on the first line, then hit `Enter` and type **`return y + 3`**.  Press **`Shift + Enter`** to save that function.\n",
    "\n",
    "In the box below that, type **`myFunction(3)`** - what do you expect it to return when you press **`Shift + Enter`**?"
   ]
  },
  {
   "cell_type": "code",
   "execution_count": null,
   "metadata": {
    "collapsed": true
   },
   "outputs": [],
   "source": []
  },
  {
   "cell_type": "code",
   "execution_count": null,
   "metadata": {},
   "outputs": [],
   "source": []
  },
  {
   "cell_type": "markdown",
   "metadata": {},
   "source": [
    "### Logic\n",
    "Logic is the last piece of the programming foundation; this will test some comparison, and depending on whether the comparison is `True` or `False`, one outcome will result.\n",
    "\n",
    "We've put the basic structure in the box below, but you need to add a comparison in the `()` to test: e.g. **`(5 > 3)`** or **`('a' == 'a')`**. Press **`Shift + Enter`** to run the logic below."
   ]
  },
  {
   "cell_type": "code",
   "execution_count": null,
   "metadata": {},
   "outputs": [],
   "source": [
    "if ():\n",
    "   print 'The comparison is True'\n",
    "else:\n",
    "   print 'The comparison is False'"
   ]
  },
  {
   "cell_type": "markdown",
   "metadata": {},
   "source": [
    "### Wrap Up\n",
    "So that's it!  Variables, functions, and logic are the building blocks of programming in any language.\n",
    "\n",
    "Now that you've got a handle on those, we're going to get a bit more complicated working with our data.\n",
    "\n",
    "*Note: Just like above, you'll need to press `Shift + Enter` to run any code in an `In [ ]:` box.*\n",
    "\n",
    "## <font color='green'>You're now finished with this section! Let your facilitators know, and have a break.</font>\n",
    "\n",
    "![done](https://media.giphy.com/media/XreQmk7ETCak0/giphy.gif)"
   ]
  },
  {
   "cell_type": "markdown",
   "metadata": {},
   "source": [
    "## 1. Sourcing Data\n",
    "To begin working with our data, let's use an API called [Quandl](https://www.quandl.com) to bring in stock data.\n",
    "\n",
    "We need to first `import quandl` to get the Quandl library of functions, then set our API key. The key for today is **`Byjzu4U8rmR1iEhZnp7V`** - copy and paste that between the `\"\"` below."
   ]
  },
  {
   "cell_type": "code",
   "execution_count": null,
   "metadata": {},
   "outputs": [],
   "source": [
    "!pip install quandl\n",
    "import quandl\n",
    "quandl.ApiConfig.api_key = \"\""
   ]
  },
  {
   "cell_type": "markdown",
   "metadata": {},
   "source": [
    "Now that we've got our connection to quandl, let's pull a single stock (`AAPL`) and store that in a variable called `data`.\n",
    "\n",
    "Add **`WIKI/AAPL`** between the `\"\"` below."
   ]
  },
  {
   "cell_type": "code",
   "execution_count": null,
   "metadata": {
    "collapsed": true
   },
   "outputs": [],
   "source": [
    "data = quandl.get(\"\", rows=5)"
   ]
  },
  {
   "cell_type": "markdown",
   "metadata": {},
   "source": [
    "To find out the type of data, we can type **`print type(data)`**."
   ]
  },
  {
   "cell_type": "code",
   "execution_count": null,
   "metadata": {},
   "outputs": [],
   "source": []
  },
  {
   "cell_type": "markdown",
   "metadata": {},
   "source": [
    "And if we want to look at the data itself, we can type **`data`** below."
   ]
  },
  {
   "cell_type": "code",
   "execution_count": null,
   "metadata": {},
   "outputs": [],
   "source": []
  },
  {
   "cell_type": "markdown",
   "metadata": {},
   "source": [
    "To assess the health of each stock, let's find the `Close` price for each stock. If you notice above, that's the 4th column.\n",
    "\n",
    "Based on Quandl's [API documentation](https://docs.quandl.com/docs/time-series-2), we can extract just that column by adding **`.4`** after `WIKI/AAPL` to get **`WIKI/AAPL.4`**:"
   ]
  },
  {
   "cell_type": "code",
   "execution_count": null,
   "metadata": {},
   "outputs": [],
   "source": [
    "data = quandl.get(\"WIKI/AAPL\", rows=5, collapse='monthly')\n",
    "data"
   ]
  },
  {
   "cell_type": "markdown",
   "metadata": {},
   "source": [
    "That's great! But now we want to show data for the last 10 years.\n",
    "\n",
    "First, we need to have Python tell us what today's date is. We've written most of this for you, but you need to **add a line to output the value of `start_date`**."
   ]
  },
  {
   "cell_type": "code",
   "execution_count": null,
   "metadata": {
    "collapsed": true
   },
   "outputs": [],
   "source": [
    "import datetime\n",
    "start_date = (datetime.datetime.now() - datetime.timedelta(days=10*365)).strftime('%Y-%m-01')\n"
   ]
  },
  {
   "cell_type": "markdown",
   "metadata": {},
   "source": [
    "Now we need to add a new parameter to our Quandl get request. After `collapse='monthly'`, add a comma and then **`start_date=start_date`** inside the parenthesis.\n",
    "\n",
    "Then, to save space in the notebook, we're only going to show the top five rows of data using `data.head(5)`.\n",
    "\n",
    "How could you show the top 10 rows instead?"
   ]
  },
  {
   "cell_type": "code",
   "execution_count": null,
   "metadata": {},
   "outputs": [],
   "source": [
    "data = quandl.get(\"WIKI/AAPL.4\", rows=120, collapse='monthly')\n",
    "data.head(5)"
   ]
  },
  {
   "cell_type": "markdown",
   "metadata": {},
   "source": [
    "Python comes with a number of great visualization tools built in.\n",
    "\n",
    "Let's do a quick visualization of the data to see if it looks right:"
   ]
  },
  {
   "cell_type": "code",
   "execution_count": null,
   "metadata": {},
   "outputs": [],
   "source": [
    "%matplotlib inline\n",
    "!pip install mpld3 # install a package to let us zoom into our plots\n",
    "import mpld3\n",
    "mpld3.enable_notebook()\n",
    "\n",
    "ax = data.plot()"
   ]
  },
  {
   "cell_type": "markdown",
   "metadata": {},
   "source": [
    "Uh-oh! Looks like there's a problem: There's a big drop in AAPL stock in 2014!\n",
    "\n",
    "Why?!  Well, a quick Google shows they [split their stock](https://www.washingtonpost.com/news/the-switch/wp/2014/06/09/apples-stock-price-just-dropped-more-than-500-a-share-but-dont-panic/). \n",
    "\n",
    "Luckily, Quandl has accounted for that. Instead of `Close`, we'll need to use the `Adjusted Close` price (column 11) from Quandl.\n",
    "\n",
    "Modify the code below to get the **11**th column instead of the 4th."
   ]
  },
  {
   "cell_type": "code",
   "execution_count": null,
   "metadata": {},
   "outputs": [],
   "source": [
    "data = quandl.get(\"WIKI/AAPL.4\", rows=120, collapse='monthly', start_date=start_date)\n",
    "ax = data.plot()"
   ]
  },
  {
   "cell_type": "markdown",
   "metadata": {},
   "source": [
    "Great! Let's now focus on the full portfolio.\n",
    "\n",
    "\n",
    "## <font color='green'>You're now finished with this section! Let your facilitators know, and have a break.</font>\n",
    "\n",
    "![done](https://media.giphy.com/media/3o7TKLpxzkbvjwEgSc/giphy.gif)"
   ]
  },
  {
   "cell_type": "markdown",
   "metadata": {},
   "source": [
    "## 2. Sourcing more Data\n",
    "\n",
    "Now that we have access to stock data, let's pull in our list of Warren's 2003 aquisitions.\n",
    "\n",
    "First, we need to bring in the cleaned CSV file we exported from Open Refine, and store it as a variable. Let's call it `buffett`.\n",
    "\n",
    "Now let's take the output of the Open Refine scrubbing step and replace **`your_clean_csv.csv`** with that output,  :"
   ]
  },
  {
   "cell_type": "code",
   "execution_count": null,
   "metadata": {},
   "outputs": [],
   "source": [
    "from pandas import read_csv\n",
    "buffett = read_csv('your_clean_csv.csv')\n",
    "buffett.head(5)"
   ]
  },
  {
   "cell_type": "markdown",
   "metadata": {},
   "source": [
    "Next we want to choose some of those stocks for our analysis. We could either type out the ticker symbol (e.g. `MSFT`) by hand, or we could refer to the `buffett` variable in order to select the ticker symbols. Let's choose the first 3 stocks from `buffett`. Replace `buffett['TICKER'][0:0]` with `buffett['TICKER']`**`[0:3]`**:"
   ]
  },
  {
   "cell_type": "code",
   "execution_count": null,
   "metadata": {},
   "outputs": [],
   "source": [
    "symbols = [ 'WIKI/%s.11' % ticker for ticker in buffett['TICKER'][0:0] ]\n",
    "symbols"
   ]
  },
  {
   "cell_type": "markdown",
   "metadata": {},
   "source": [
    "We can now load in the symbol data from quandl:"
   ]
  },
  {
   "cell_type": "code",
   "execution_count": null,
   "metadata": {},
   "outputs": [],
   "source": [
    "data = quandl.get(symbols, rows=121, collapse='monthly', start_date=start_date)\n",
    "data.head(5)"
   ]
  },
  {
   "cell_type": "markdown",
   "metadata": {},
   "source": [
    "Don't worry about any missing values for early data. Let's have a look at the end of the data, type **`data.tail(5)`** below and run the cell:"
   ]
  },
  {
   "cell_type": "code",
   "execution_count": null,
   "metadata": {},
   "outputs": [],
   "source": []
  },
  {
   "cell_type": "markdown",
   "metadata": {},
   "source": [
    "Let's clean up the column name to just their symbol name by removing `WIKI/` and ` - Close` from each column name.\n",
    "\n",
    "We can iterate over the columns using the `for col in data.columns` syntax:"
   ]
  },
  {
   "cell_type": "code",
   "execution_count": null,
   "metadata": {},
   "outputs": [],
   "source": [
    "data.columns = [col.replace(' - Adj. Close','').replace('WIKI/','') for col in data.columns]\n",
    "data.tail(5)"
   ]
  },
  {
   "cell_type": "markdown",
   "metadata": {},
   "source": [
    "Let's have another quick look at the data, to make sure everything looks good.\n",
    "\n",
    "Add the code to plot the `data` (hint: you've used this code above already):"
   ]
  },
  {
   "cell_type": "code",
   "execution_count": null,
   "metadata": {},
   "outputs": [],
   "source": []
  },
  {
   "cell_type": "markdown",
   "metadata": {},
   "source": [
    "Explore the data by using the icons in the bottom left corner of the plot. \n",
    "\n",
    "It looks like we have some incomplete data.\n",
    "\n",
    "Further investigation reveals that we only have data for Kraft Heinz (KHC) from July 2015 onwards. We'll need to remember this for later, as this might affect our analysis.\n",
    "\n",
    "From now on, we won't change the `data` variable, but make copies of it.\n",
    "\n",
    "## <font color='green'>You're now finished with this section! Let your facilitators know, and have a break.</font>\n",
    "\n",
    "![done](https://media.giphy.com/media/26FL2NwYBOq3Z6C6Q/giphy.gif)"
   ]
  },
  {
   "cell_type": "markdown",
   "metadata": {},
   "source": [
    "## 3. Analysis\n",
    "\n",
    "Data analysis is all about answering questions. In this case Warren has one question - what will the prices of his stocks be in the future?\n",
    "\n",
    "To answer that question we are going to build our own Time Series Forecasting model from the ground up. This model will use the historic data that we have collected to forecast predictions for the future. We'll test it on one stock's data as we go.\n",
    "\n",
    "Before we get started, we need to extract all of the data for one stock as a `list` of numbers (it's easier to work with them this way). \n",
    "\n",
    "**Complete the code below to extract the data for Apple stock:**"
   ]
  },
  {
   "cell_type": "code",
   "execution_count": null,
   "metadata": {},
   "outputs": [],
   "source": [
    "apple = data['SYMBOL'].values"
   ]
  },
  {
   "cell_type": "markdown",
   "metadata": {},
   "source": [
    "Now we begin building.\n",
    "\n",
    "If we have a number that jumps up and down over time, as the Apple stock price does, what might be a good way to guess where it will next be? Taking an average price might be a good starting point.\n",
    "\n",
    "Complete the function below to calculate the average price of Apple stock over the whole `series`. Some built-in functions that might help are:\n",
    "- `sum(x)`, which will find the total of all values in x\n",
    "- `len(x)`, which will find the number of elements in x\n",
    "- `+`, `-`, `*`, `/`, the basic arithmetic operators\n",
    "\n",
    "Write your code in place of `#TODO`:"
   ]
  },
  {
   "cell_type": "code",
   "execution_count": null,
   "metadata": {
    "scrolled": true
   },
   "outputs": [],
   "source": [
    "def average(series):\n",
    "    return #TODO\n",
    "\n",
    "# Print prediction\n",
    "pred1 = average(apple)\n",
    "print \"Next month's Apple stock should be worth: \", pred1"
   ]
  },
  {
   "cell_type": "markdown",
   "metadata": {},
   "source": [
    "We have our prediction. How can we judge whether that's a good prediction or not?\n",
    "\n",
    "One way is to run our model on all but the last data point of our `series` (using the `series[:-1]` syntax) and see how well it predicts the true value. This technique is called **cross validation** and is used frequently in data analysis and machine learning. \n",
    "\n",
    "Let's see how well it works as a prediction for next month's value by visualizing it. Run the code below to import a couple of tools and plot Apple's stock with our new <font color='red'>prediction</font> against the <font color='blue'>Apple data</font> :\n"
   ]
  },
  {
   "cell_type": "code",
   "execution_count": null,
   "metadata": {},
   "outputs": [],
   "source": [
    "import numpy as np\n",
    "import matplotlib.pyplot as plt\n",
    "\n",
    "# Recalculate the predicted stock price for _this_ month:\n",
    "pred1 = average(apple[:-1]) # don't include this month's actual value\n",
    "print \"This month's stock price should be:\", pred1\n",
    "print \"It was actually:\", apple[-1]\n",
    "# Let's plot this visually as well:\n",
    "results1 = np.append(apple[:-1], pred1) # append all but the last points with our predicted point\n",
    "_,ax = plt.subplots() # get ready for two plots on the same graph\n",
    "_,_,_ = ax.plot(results1, color = \"red\"), ax.plot(apple, color = \"blue\"), plt.show() # plot blue = actual and red = predicted"
   ]
  },
  {
   "cell_type": "markdown",
   "metadata": {},
   "source": [
    "Yikes. The true value is way off!\n",
    "\n",
    "The problem is that we are taking an average over the entire time series, and that hasn't taken in to account the change in the *level* of our prices over time. One way we can solve this is by taking a 'moving average' that only takes an average of the last *n* stocks. It is called a 'moving average' as the window of values that it uses shifts along as we get new data:\n",
    "\n",
    "![movingavg](https://user-images.githubusercontent.com/534681/30615807-16ee0d0e-9d5e-11e7-834a-6728edc8ad24.png)\n",
    "\n",
    "Complete the code in the `moving_average` function below to take a recent average of the last 5 months of Apple's stock price.\n",
    "\n",
    "*HINT: `x[-n:]` only uses the last n numbers in a `list` x*"
   ]
  },
  {
   "cell_type": "code",
   "execution_count": null,
   "metadata": {},
   "outputs": [],
   "source": [
    "def  moving_average(series, n):\n",
    "    return #TODO\n",
    "\n",
    "# Print and plot prediction\n",
    "pred2 = moving_average(apple[:-1], 5)\n",
    "print \"This month's stock price should be: \", pred2\n",
    "print \"It was actually:\", apple[-1]\n",
    "\n",
    "results2 = np.append(apple[:-1], pred2)\n",
    "_,ax = plt.subplots()\n",
    "_,_,_ = ax.plot(results2, color = \"red\"), ax.plot(apple, color = \"blue\"), plt.show()"
   ]
  },
  {
   "attachments": {},
   "cell_type": "markdown",
   "metadata": {},
   "source": [
    "That looks better - you might want to zoom in to the top right corner to get a better look.\n",
    "\n",
    "However, we're giving equal importance to all of the recent stock prices in our model.\n",
    "\n",
    "To prioritize the most recent, we can multiply each of the last *n* stock prices by a number, called a weight, and then take an average. **What combination of weights work best?**\n",
    "\n",
    "*NOTE: these weights should increase in the direction of time and always add up to 1!*\n",
    "\n",
    "![weights](https://user-images.githubusercontent.com/534681/30828050-44e27a3c-a20a-11e7-892c-6498ec9cd579.png)"
   ]
  },
  {
   "cell_type": "code",
   "execution_count": null,
   "metadata": {},
   "outputs": [],
   "source": [
    "def weighted_average(series, weights):\n",
    "    result = 0.0\n",
    "    weights.reverse()\n",
    "    for n in range(len(weights)):\n",
    "        result += series[-n-1] * weights[n]\n",
    "    return result\n",
    "\n",
    "weights = [,,,] # TODO: enter weights that add to 1\n",
    "\n",
    "# Print and plot prediction\n",
    "pred3 = weighted_average(apple[:-1], weights)\n",
    "print \"This month's stock should be: \", pred3\n",
    "print \"It was actually:\", apple[-1]\n",
    "results3 = np.append(apple[:-1], pred3)\n",
    "_,ax = plt.subplots()\n",
    "_,_,_ = ax.plot(results3, color = \"red\"), ax.plot(apple, color = \"blue\"), plt.show()"
   ]
  },
  {
   "attachments": {},
   "cell_type": "markdown",
   "metadata": {},
   "source": [
    "You've now trained your model to a fairly accurate prediction of the future. But will your weights always predict Apple stock this well?\n",
    "\n",
    "Probably not, because this model only is only using the last few stock prices, and throwing the rest away. What if we want to use all the data?\n",
    "\n",
    "One clever trick, devised by mathematicians Poisson, Holt and Roberts, is to overlap lots of small moving average windows, taking the output (weighted average) of one window as a data point in the next. Specifically, the windows are of size two, using weights $\\alpha$ and $(1 - \\alpha)$ (remember, weights have to add up to 1, so they can both be defined by one variable). This is process is *recursive*, as it take the output from one step as the input of the next, starting from the first pair of values and repeating through all values.\n",
    "\n",
    "If you'd like to see that in a formula, it is:\n",
    "\n",
    "$$\\hat{y}_t = \\alpha y_t + (1 - \\alpha)\\hat{y}_{t-1}$$\n",
    "\n",
    "where $\\hat{y}_t$ is the predicted price at time *t*, and $\\alpha$ is the one value we use to calculate the two weights, $\\alpha$ and $(1 - \\alpha)$.\n",
    "\n",
    "![weights](https://user-images.githubusercontent.com/534681/30828078-61da2a54-a20a-11e7-85f2-a020fab25d5b.png)\n",
    "\n",
    "Before moving on, find the answer to the following questions:\n",
    "\n",
    "1. What does this *parameter*   $\\alpha$   control? Experiment with different values to find out.\n",
    "2. How far in to the future can this model accurately predict?\n",
    "\n",
    "Set **alpha = 0.7** and see how changing this value affects the predictions:"
   ]
  },
  {
   "cell_type": "code",
   "execution_count": null,
   "metadata": {},
   "outputs": [],
   "source": [
    "def exponential_smoothing(series, alpha, predictions):\n",
    "    smoothed = [series[0]] # first value is same as series\n",
    "    for n in range(1, len(series) + predictions):\n",
    "        if n >= len(series): # we are forecasting\n",
    "            value = smoothed[-1]\n",
    "        else:\n",
    "            value = series[n]\n",
    "        smoothed.append(alpha * value + (1 - alpha) * smoothed[n-1]) \n",
    "    return smoothed\n",
    "\n",
    "alpha = # TODO: try 0.7\n",
    "predictions = 5 # how many predictions do you want to make?\n",
    "\n",
    "# Plot prediction\n",
    "pred4_full = exponential_smoothing(apple[:-predictions], alpha = alpha, predictions = predictions)\n",
    "_,ax = plt.subplots()\n",
    "_,_,_ = ax.plot(pred4_full, color = \"red\"), ax.plot(apple, color = \"blue\"), plt.show()"
   ]
  },
  {
   "cell_type": "markdown",
   "metadata": {},
   "source": [
    "As you will have seen from your experiments, the blue line is our true data and the red line is our *model* of that data. The good thing about models is that we can use them to model the unseen future, as well as the known past. \n",
    "\n",
    "However, at the moment our model isn't doing a great job on the future part. \n",
    "\n",
    "The main issue seems to be that it only tracks the values of the data. That is because our model looks only at the **level** of the values, so the best it can do is give us the same values back. We need it to also consider the **trend** of the data, which is the size of the jump between adjacent values.\n",
    "\n",
    "Before, with exponential smoothing, we iteratively updated the level. Now, with *Double* Exponential Smoothing (DES), we iteratively update the level *and* trend in the same way, and then add them together to make our prediction. This introduces a second parameter, $\\beta$ (beta), which defines the two weights used to itereatively update the trend.\n",
    "\n",
    "The weights, `alpha` and `beta` have been preassigned some values below, but the model is poor. **Your task is to find values for these parameters that give a good prediction of the future.**\n",
    "\n",
    "*NOTE: the `test_points` variable cuts your model's data short, so that you can 'test' how well your model predicts unknown data. This is currently set at 5 - lower values make things easier and higher values make it much harder! Bonus points for generating a good fit using 7 test points or more.*"
   ]
  },
  {
   "cell_type": "code",
   "execution_count": null,
   "metadata": {},
   "outputs": [],
   "source": [
    "# Define double exponential smoothing\n",
    "def d_e_s(series, alpha, beta, predictions):\n",
    "    smoothed = [series[0]]\n",
    "    for n in range(1, len(series)+ predictions):\n",
    "        if n == 1:\n",
    "            level, trend = series[0], series[1] - series[0]\n",
    "        if n >= len(series): # we are forecasting\n",
    "            value = smoothed[-1]\n",
    "        else:\n",
    "            value = series[n]\n",
    "        last_level, level = level, alpha*value + (1-alpha)*(level+trend)\n",
    "        trend = beta*(level-last_level) + (1-beta)*trend\n",
    "        smoothed.append(level+trend)\n",
    "    return smoothed\n",
    "\n",
    "# Define a function to plot the model\n",
    "def plot_d_e_s(series, test_points, forecast_points, alpha=0.1, beta=0.5):\n",
    "    pred5_full = d_e_s(series[:-test_points], alpha = alpha, beta = beta, predictions = test_points*forecast_points)\n",
    "    _,ax = plt.subplots()\n",
    "    _,_,_ = ax.plot(pred5_full, color = \"red\"), ax.plot(apple, color = \"blue\"), plt.show()\n",
    "\n",
    "# Create an interactive plot with apple stock\n",
    "from ipywidgets import interact, interactive, fixed, interact_manual\n",
    "interact(plot_d_e_s, series=fixed(apple), test_points=5, forecast_points=3, alpha=(0,2,0.1), beta=(0,2,0.1))"
   ]
  },
  {
   "cell_type": "markdown",
   "metadata": {},
   "source": [
    "Congratulations! We have built a model that can predict the future. Remember your values of **`alpha`** and **`beta`** for the next step.\n",
    "\n",
    "This is a simplistic introduction to time series analysis, although these methods are the foundation to many of the cutting edge techniques used currently. If you'd like to like to investigate further, we recommend following the introduction here:\n",
    "\n",
    "https://datascience.ibm.com/exchange/public/entry/view/815137c868b916821dec777bdc23013c\n",
    "\n",
    "## <font color='green'>You're now finished with this section! Let your facilitators know, and have a break.</font>\n",
    "\n",
    "![done](https://media.giphy.com/media/R6aNZ3Uc1aR1K/giphy.gif)"
   ]
  },
  {
   "cell_type": "markdown",
   "metadata": {},
   "source": [
    "## 4. Preparing for Visualization\n",
    "\n",
    "Let's get our data ready for a more snazzy visualization.\n",
    "\n",
    "Based on the [D3.js show reel](https://bl.ocks.org/mbostock/1256572), we need the data to be arranged like this:\n",
    "\n",
    "```\n",
    "symbol,date,price\n",
    "MSFT,Jan 2000,39.81\n",
    "MSFT,Feb 2000,36.35\n",
    "MSFT,Mar 2000,43.22\n",
    "MSFT,Apr 2000,28.37\n",
    "MSFT,May 2000,25.45```\n",
    "\n",
    "### 4.1 Replotting with forecasts\n",
    "\n",
    "First, we need to calculate our predictions for each stock (using the **$\\alpha$** and **$\\beta$** values you've chosen) and append them to the end of our dataframe. We will predict 3 months ahead.\n",
    "\n",
    "Update **alpha** and **beta** with the values you found above:"
   ]
  },
  {
   "cell_type": "code",
   "execution_count": null,
   "metadata": {},
   "outputs": [],
   "source": [
    "!pip install --upgrade pandas # upgrade pandas\n",
    "import pandas as pd\n",
    "\n",
    "numberofmonths = 3 # how many predictions do we want to make?\n",
    "\n",
    "# Here we need to add numberofmonths onto the end of the dataframe using data.reindex:\n",
    "data2 = data.reindex(pd.date_range(datetime.datetime.now().date(), periods=121 + numberofmonths, freq='MS')+pd.DateOffset(days=-1, months=-120),fill_value=\"NaN\")\n",
    "\n",
    "alpha = #TODO - what value did you optimize for above?\n",
    "beta = #TODO - what value did you optimize for above?\n",
    "\n",
    "for i, column in enumerate(data):\n",
    "    if column == 'KHC': # select only the range of dates for which we have data\n",
    "        stock = data2[column].iloc[94:-numberofmonths].values\n",
    "    else:\n",
    "        stock = data2[column].iloc[:-numberofmonths].values\n",
    "    forecast = d_e_s(stock, alpha = alpha, beta = beta, predictions = numberofmonths) # create our forecast\n",
    "    \n",
    "    col_forecast = pd.Series(forecast[-numberofmonths:], index = pd.date_range(start= datetime.datetime.now().date(), periods=numberofmonths, freq='MS') + pd.DateOffset(days=-1, months=1))\n",
    "    data2[column].iloc[-numberofmonths:] = col_forecast\n",
    "    \n",
    "data2.tail(6)"
   ]
  },
  {
   "cell_type": "markdown",
   "metadata": {},
   "source": [
    "How did your model fair on the other stocks? Let's visualize the results!\n",
    "\n",
    "Below, we create two overlapping plots, one with the existing data and one with our forecasts, marked in red. So that we can see the relative trends, we'll only look at the range where we have data for KHC:"
   ]
  },
  {
   "cell_type": "code",
   "execution_count": null,
   "metadata": {},
   "outputs": [],
   "source": [
    "fig, ax = plt.subplots()\n",
    "_ = ax.plot(data2.iloc[:-numberofmonths])\n",
    "_ = ax.plot(data2.iloc[-(numberofmonths+1):], color = \"Red\")"
   ]
  },
  {
   "cell_type": "markdown",
   "metadata": {},
   "source": [
    "What do you notice about our forecasts?\n",
    "\n",
    "### 4.2 Exporting for further visualization\n",
    "\n",
    "Next, we want to rearrange all of the data to be more like what we need for D3. Python comes with a function called `unstack()` that does just that!\n",
    "\n",
    "Below, make a variable called **`datalist`** and set it equal to **`data2.unstack()`**.\n",
    "\n",
    "Then show the top 10 rows of the datalist. (Hint, you've used this type of function before)"
   ]
  },
  {
   "cell_type": "code",
   "execution_count": null,
   "metadata": {
    "collapsed": true
   },
   "outputs": [],
   "source": []
  },
  {
   "cell_type": "markdown",
   "metadata": {},
   "source": [
    "Almost there! We've done the hard work, now we just need it in a CSV format.\n",
    "\n",
    "We've written this bit of code to clean the data a bit more and to output the data in a comma-separated value format."
   ]
  },
  {
   "cell_type": "code",
   "execution_count": null,
   "metadata": {
    "collapsed": true
   },
   "outputs": [],
   "source": [
    "csv = datalist.to_csv(header=True, index_label=['symbol','date','price'], date_format='%b %Y', index=True)\n",
    "csv = csv.replace(\"price,0\",\"price\") # remove addition of ',0' on first line\n",
    "print csv"
   ]
  },
  {
   "cell_type": "markdown",
   "metadata": {},
   "source": [
    "We could copy & paste this into a new CSV file for our D3.js visualization, or we could write code to do that for us.\n",
    "\n",
    "To make the downloadable file, we've got to bring in a library called `base64` which will encode the file. Then we use that to create the file and add a bit of HTML to make it so we can download the file.\n",
    "\n",
    "Run the cell below, and download the resulting **`stocks.csv`** file."
   ]
  },
  {
   "cell_type": "code",
   "execution_count": null,
   "metadata": {
    "collapsed": true
   },
   "outputs": [],
   "source": [
    "import base64\n",
    "from IPython.display import HTML\n",
    "\n",
    "b64 = base64.b64encode(csv.encode())\n",
    "payload = b64.decode()\n",
    "html = '<a download=\"{filename}\" href=\"data:text/csv;base64,{payload}\" target=\"_blank\">{filename}</a>'\n",
    "html = html.format(payload=payload,title=\"stocks.csv\",filename=\"stocks.csv\")\n",
    "HTML(html)\n"
   ]
  },
  {
   "cell_type": "markdown",
   "metadata": {},
   "source": [
    "Now you can import this file into your D3.js visualization."
   ]
  },
  {
   "cell_type": "markdown",
   "metadata": {},
   "source": [
    "## <font color='green'>You're done!</font>\n",
    "\n",
    "![done](https://media.giphy.com/media/15BuyagtKucHm/giphy.gif)"
   ]
  }
 ],
 "metadata": {
  "kernelspec": {
   "display_name": "Python 2",
   "language": "python",
   "name": "python2"
  },
  "language_info": {
   "codemirror_mode": {
    "name": "ipython",
    "version": 2
   },
   "file_extension": ".py",
   "mimetype": "text/x-python",
   "name": "python",
   "nbconvert_exporter": "python",
   "pygments_lexer": "ipython2",
   "version": "2.7.13rc1"
  },
  "widgets": {
   "state": {},
   "version": "1.1.2"
  }
 },
 "nbformat": 4,
 "nbformat_minor": 2
}
