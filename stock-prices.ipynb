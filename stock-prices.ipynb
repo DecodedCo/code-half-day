{
 "cells": [
  {
   "cell_type": "markdown",
   "metadata": {},
   "source": [
    "# Pulling Stock Data\n",
    "This is a Python notebook to analyze Stock data based on ticker symbols.\n"
   ]
  },
  {
   "cell_type": "markdown",
   "metadata": {},
   "source": [
    "## 0. Programming in Python\n",
    "Let's start by seeing how to make variables, functions, and logic in Python."
   ]
  },
  {
   "cell_type": "markdown",
   "metadata": {},
   "source": [
    "### Variables\n",
    "Variables can take on many data types, from `'Strings'` to numbers (`0`), `True`/`False` and even functions.\n",
    "\n",
    "Type **`x = 'Hello world!'`** in the box below, then press **`Shift + Enter`** to execute the code."
   ]
  },
  {
   "cell_type": "code",
   "execution_count": 2,
   "metadata": {
    "collapsed": true
   },
   "outputs": [],
   "source": [
    "x = 'Hello world!'"
   ]
  },
  {
   "cell_type": "markdown",
   "metadata": {},
   "source": [
    "Nothing happened... That's because we've only just created the variable `x`. Now to show the value of the variable, we need to type **`x`**. Again, press **`Shift + Enter`** to execute the code."
   ]
  },
  {
   "cell_type": "code",
   "execution_count": 3,
   "metadata": {},
   "outputs": [
    {
     "data": {
      "text/plain": [
       "'Hello world!'"
      ]
     },
     "execution_count": 3,
     "metadata": {},
     "output_type": "execute_result"
    }
   ],
   "source": [
    "x"
   ]
  },
  {
   "cell_type": "markdown",
   "metadata": {},
   "source": [
    "### Functions\n",
    "Functions can take on any name - you get to choose - but the syntax for defining a function is always the same. Functions can also operate on one or more `variable` that gets defined when you initially create the function. These variables are a placeholder for what to do with any data that gets sent to the function when it is used.\n",
    "- First, define the name of the function with **`def nameOfFunction():`**\n",
    "- Then, if you want to send a variable to the function, put that variable name between the ().\n",
    "- Lastly, on the next line, tab in one tab, and write the instructions for what the function will do.\n",
    "\n",
    "Below, type **`def myFunction(y):`** on the first line, then hit `Enter` and type **`return y + 3`**.  Press **`Shift + Enter`** to save that function.\n",
    "\n",
    "In the box below that, type **`myFunction(3)`** - what do you expect it to return when you press **`Shift + Enter`**?"
   ]
  },
  {
   "cell_type": "code",
   "execution_count": 4,
   "metadata": {
    "collapsed": true
   },
   "outputs": [],
   "source": [
    "def myFunction(y):\n",
    "    return y + 3"
   ]
  },
  {
   "cell_type": "code",
   "execution_count": 5,
   "metadata": {},
   "outputs": [
    {
     "data": {
      "text/plain": [
       "6"
      ]
     },
     "execution_count": 5,
     "metadata": {},
     "output_type": "execute_result"
    }
   ],
   "source": [
    "myFunction(3)"
   ]
  },
  {
   "cell_type": "markdown",
   "metadata": {},
   "source": [
    "### Logic\n",
    "Logic is the last piece of the programming foundation; this will test some comparison, and depending on whether the comparison is `True` or `False`, one outcome will result.\n",
    "\n",
    "We've put the basic structure in the box below, but you need to add a comparison in the `()` to test: e.g. **`(5 > 3)`** or **`('a' == 'a')`**. Press **`Shift + Enter`** to run the logic below."
   ]
  },
  {
   "cell_type": "code",
   "execution_count": 6,
   "metadata": {},
   "outputs": [
    {
     "name": "stdout",
     "output_type": "stream",
     "text": [
      "The comparison is False\n"
     ]
    }
   ],
   "source": [
    "if (5 > 9):\n",
    "   print 'The comparison is True'\n",
    "else:\n",
    "   print 'The comparison is False'"
   ]
  },
  {
   "cell_type": "markdown",
   "metadata": {},
   "source": [
    "### Wrap Up\n",
    "So that's it!  Variables, functions, and logic are the building blocks of programming in any language.\n",
    "\n",
    "Now that you've got a handle on those, we're going to get a bit more complicated working with our data.\n",
    "\n",
    "*Note: Just like above, you'll need to press `Shift + Enter` to run any code in an `In [ ]:` box.*\n",
    "\n",
    "## <font color='green'>You're now finished with this section! Let your facilitators know, and have a break.</font>\n",
    "\n",
    "![done](https://media.giphy.com/media/XreQmk7ETCak0/giphy.gif)"
   ]
  },
  {
   "cell_type": "markdown",
   "metadata": {},
   "source": [
    "## 1. Sourcing Data\n",
    "To begin working with our data, let's use an API called [Quandl](https://www.quandl.com) to bring in stock data.\n",
    "\n",
    "We need to first `import quandl` to get the Quandl library of functions, then set our API key. The key for today is **`Byjzu4U8rmR1iEhZnp7V`** - copy and paste that between the `\"\"` below."
   ]
  },
  {
   "cell_type": "code",
   "execution_count": 7,
   "metadata": {},
   "outputs": [
    {
     "name": "stdout",
     "output_type": "stream",
     "text": [
      "Requirement already satisfied: quandl in /Library/Frameworks/Python.framework/Versions/2.7/lib/python2.7/site-packages\n",
      "Requirement already satisfied: python-dateutil in /Library/Frameworks/Python.framework/Versions/2.7/lib/python2.7/site-packages (from quandl)\n",
      "Requirement already satisfied: six in /Library/Frameworks/Python.framework/Versions/2.7/lib/python2.7/site-packages (from quandl)\n",
      "Requirement already satisfied: pandas>=0.14 in /Library/Frameworks/Python.framework/Versions/2.7/lib/python2.7/site-packages (from quandl)\n",
      "Requirement already satisfied: numpy>=1.8 in /Library/Frameworks/Python.framework/Versions/2.7/lib/python2.7/site-packages (from quandl)\n",
      "Requirement already satisfied: more-itertools in /Library/Frameworks/Python.framework/Versions/2.7/lib/python2.7/site-packages (from quandl)\n",
      "Requirement already satisfied: requests<2.18,>=2.7.0 in /Library/Frameworks/Python.framework/Versions/2.7/lib/python2.7/site-packages (from quandl)\n",
      "Requirement already satisfied: inflection>=0.3.1 in /Library/Frameworks/Python.framework/Versions/2.7/lib/python2.7/site-packages (from quandl)\n",
      "Requirement already satisfied: pytz>=2011k in /Library/Frameworks/Python.framework/Versions/2.7/lib/python2.7/site-packages (from pandas>=0.14->quandl)\n",
      "Requirement already satisfied: chardet<3.1.0,>=3.0.2 in /Library/Frameworks/Python.framework/Versions/2.7/lib/python2.7/site-packages (from requests<2.18,>=2.7.0->quandl)\n",
      "Requirement already satisfied: certifi>=2017.4.17 in /Library/Frameworks/Python.framework/Versions/2.7/lib/python2.7/site-packages (from requests<2.18,>=2.7.0->quandl)\n",
      "Requirement already satisfied: idna<2.6,>=2.5 in /Library/Frameworks/Python.framework/Versions/2.7/lib/python2.7/site-packages (from requests<2.18,>=2.7.0->quandl)\n",
      "Requirement already satisfied: urllib3<1.22,>=1.21.1 in /Library/Frameworks/Python.framework/Versions/2.7/lib/python2.7/site-packages (from requests<2.18,>=2.7.0->quandl)\n"
     ]
    }
   ],
   "source": [
    "!pip install quandl\n",
    "import quandl\n",
    "quandl.ApiConfig.api_key = \"Byjzu4U8rmR1iEhZnp7V\""
   ]
  },
  {
   "cell_type": "markdown",
   "metadata": {},
   "source": [
    "Now that we've got our connection to quandl, let's pull a single stock (`AAPL`) and store that in a variable called `data`.\n",
    "\n",
    "Add **`WIKI/AAPL`** between the `\"\"` below."
   ]
  },
  {
   "cell_type": "code",
   "execution_count": 8,
   "metadata": {
    "collapsed": true
   },
   "outputs": [],
   "source": [
    "data = quandl.get(\"WIKI/AAPL\", rows=5)"
   ]
  },
  {
   "cell_type": "markdown",
   "metadata": {},
   "source": [
    "To find out the type of data, we can type **`print type(data)`**."
   ]
  },
  {
   "cell_type": "code",
   "execution_count": 9,
   "metadata": {},
   "outputs": [
    {
     "name": "stdout",
     "output_type": "stream",
     "text": [
      "<class 'pandas.core.frame.DataFrame'>\n"
     ]
    }
   ],
   "source": [
    "print type(data)"
   ]
  },
  {
   "cell_type": "markdown",
   "metadata": {},
   "source": [
    "And if we want to look at the data itself, we can type **`data`** below."
   ]
  },
  {
   "cell_type": "code",
   "execution_count": 10,
   "metadata": {},
   "outputs": [
    {
     "data": {
      "text/html": [
       "<div>\n",
       "<style>\n",
       "    .dataframe thead tr:only-child th {\n",
       "        text-align: right;\n",
       "    }\n",
       "\n",
       "    .dataframe thead th {\n",
       "        text-align: left;\n",
       "    }\n",
       "\n",
       "    .dataframe tbody tr th {\n",
       "        vertical-align: top;\n",
       "    }\n",
       "</style>\n",
       "<table border=\"1\" class=\"dataframe\">\n",
       "  <thead>\n",
       "    <tr style=\"text-align: right;\">\n",
       "      <th></th>\n",
       "      <th>Open</th>\n",
       "      <th>High</th>\n",
       "      <th>Low</th>\n",
       "      <th>Close</th>\n",
       "      <th>Volume</th>\n",
       "      <th>Ex-Dividend</th>\n",
       "      <th>Split Ratio</th>\n",
       "      <th>Adj. Open</th>\n",
       "      <th>Adj. High</th>\n",
       "      <th>Adj. Low</th>\n",
       "      <th>Adj. Close</th>\n",
       "      <th>Adj. Volume</th>\n",
       "    </tr>\n",
       "    <tr>\n",
       "      <th>Date</th>\n",
       "      <th></th>\n",
       "      <th></th>\n",
       "      <th></th>\n",
       "      <th></th>\n",
       "      <th></th>\n",
       "      <th></th>\n",
       "      <th></th>\n",
       "      <th></th>\n",
       "      <th></th>\n",
       "      <th></th>\n",
       "      <th></th>\n",
       "      <th></th>\n",
       "    </tr>\n",
       "  </thead>\n",
       "  <tbody>\n",
       "    <tr>\n",
       "      <th>2017-09-18</th>\n",
       "      <td>160.11</td>\n",
       "      <td>160.50</td>\n",
       "      <td>157.995</td>\n",
       "      <td>158.67</td>\n",
       "      <td>27939718.0</td>\n",
       "      <td>0.0</td>\n",
       "      <td>1.0</td>\n",
       "      <td>160.11</td>\n",
       "      <td>160.50</td>\n",
       "      <td>157.995</td>\n",
       "      <td>158.67</td>\n",
       "      <td>27939718.0</td>\n",
       "    </tr>\n",
       "    <tr>\n",
       "      <th>2017-09-19</th>\n",
       "      <td>159.51</td>\n",
       "      <td>159.77</td>\n",
       "      <td>158.440</td>\n",
       "      <td>158.73</td>\n",
       "      <td>20347352.0</td>\n",
       "      <td>0.0</td>\n",
       "      <td>1.0</td>\n",
       "      <td>159.51</td>\n",
       "      <td>159.77</td>\n",
       "      <td>158.440</td>\n",
       "      <td>158.73</td>\n",
       "      <td>20347352.0</td>\n",
       "    </tr>\n",
       "    <tr>\n",
       "      <th>2017-09-20</th>\n",
       "      <td>157.90</td>\n",
       "      <td>158.26</td>\n",
       "      <td>153.830</td>\n",
       "      <td>156.07</td>\n",
       "      <td>51693239.0</td>\n",
       "      <td>0.0</td>\n",
       "      <td>1.0</td>\n",
       "      <td>157.90</td>\n",
       "      <td>158.26</td>\n",
       "      <td>153.830</td>\n",
       "      <td>156.07</td>\n",
       "      <td>51693239.0</td>\n",
       "    </tr>\n",
       "    <tr>\n",
       "      <th>2017-09-21</th>\n",
       "      <td>155.80</td>\n",
       "      <td>155.80</td>\n",
       "      <td>152.750</td>\n",
       "      <td>153.39</td>\n",
       "      <td>36643382.0</td>\n",
       "      <td>0.0</td>\n",
       "      <td>1.0</td>\n",
       "      <td>155.80</td>\n",
       "      <td>155.80</td>\n",
       "      <td>152.750</td>\n",
       "      <td>153.39</td>\n",
       "      <td>36643382.0</td>\n",
       "    </tr>\n",
       "    <tr>\n",
       "      <th>2017-09-22</th>\n",
       "      <td>152.02</td>\n",
       "      <td>152.27</td>\n",
       "      <td>150.560</td>\n",
       "      <td>151.89</td>\n",
       "      <td>46114424.0</td>\n",
       "      <td>0.0</td>\n",
       "      <td>1.0</td>\n",
       "      <td>152.02</td>\n",
       "      <td>152.27</td>\n",
       "      <td>150.560</td>\n",
       "      <td>151.89</td>\n",
       "      <td>46114424.0</td>\n",
       "    </tr>\n",
       "  </tbody>\n",
       "</table>\n",
       "</div>"
      ],
      "text/plain": [
       "              Open    High      Low   Close      Volume  Ex-Dividend  \\\n",
       "Date                                                                   \n",
       "2017-09-18  160.11  160.50  157.995  158.67  27939718.0          0.0   \n",
       "2017-09-19  159.51  159.77  158.440  158.73  20347352.0          0.0   \n",
       "2017-09-20  157.90  158.26  153.830  156.07  51693239.0          0.0   \n",
       "2017-09-21  155.80  155.80  152.750  153.39  36643382.0          0.0   \n",
       "2017-09-22  152.02  152.27  150.560  151.89  46114424.0          0.0   \n",
       "\n",
       "            Split Ratio  Adj. Open  Adj. High  Adj. Low  Adj. Close  \\\n",
       "Date                                                                  \n",
       "2017-09-18          1.0     160.11     160.50   157.995      158.67   \n",
       "2017-09-19          1.0     159.51     159.77   158.440      158.73   \n",
       "2017-09-20          1.0     157.90     158.26   153.830      156.07   \n",
       "2017-09-21          1.0     155.80     155.80   152.750      153.39   \n",
       "2017-09-22          1.0     152.02     152.27   150.560      151.89   \n",
       "\n",
       "            Adj. Volume  \n",
       "Date                     \n",
       "2017-09-18   27939718.0  \n",
       "2017-09-19   20347352.0  \n",
       "2017-09-20   51693239.0  \n",
       "2017-09-21   36643382.0  \n",
       "2017-09-22   46114424.0  "
      ]
     },
     "execution_count": 10,
     "metadata": {},
     "output_type": "execute_result"
    }
   ],
   "source": [
    "data"
   ]
  },
  {
   "cell_type": "markdown",
   "metadata": {},
   "source": [
    "To assess the health of each stock, let's find the `Close` price for each stock. If you notice above, that's the 4th column.\n",
    "\n",
    "Based on Quandl's [API documentation](https://docs.quandl.com/docs/time-series-2), we can extract just that column by adding **`.4`** after `WIKI/AAPL` to get `WIKI/AAPL.4`:"
   ]
  },
  {
   "cell_type": "code",
   "execution_count": 11,
   "metadata": {},
   "outputs": [
    {
     "data": {
      "text/html": [
       "<div>\n",
       "<style>\n",
       "    .dataframe thead tr:only-child th {\n",
       "        text-align: right;\n",
       "    }\n",
       "\n",
       "    .dataframe thead th {\n",
       "        text-align: left;\n",
       "    }\n",
       "\n",
       "    .dataframe tbody tr th {\n",
       "        vertical-align: top;\n",
       "    }\n",
       "</style>\n",
       "<table border=\"1\" class=\"dataframe\">\n",
       "  <thead>\n",
       "    <tr style=\"text-align: right;\">\n",
       "      <th></th>\n",
       "      <th>Open</th>\n",
       "      <th>High</th>\n",
       "      <th>Low</th>\n",
       "      <th>Close</th>\n",
       "      <th>Volume</th>\n",
       "      <th>Ex-Dividend</th>\n",
       "      <th>Split Ratio</th>\n",
       "      <th>Adj. Open</th>\n",
       "      <th>Adj. High</th>\n",
       "      <th>Adj. Low</th>\n",
       "      <th>Adj. Close</th>\n",
       "      <th>Adj. Volume</th>\n",
       "    </tr>\n",
       "    <tr>\n",
       "      <th>Date</th>\n",
       "      <th></th>\n",
       "      <th></th>\n",
       "      <th></th>\n",
       "      <th></th>\n",
       "      <th></th>\n",
       "      <th></th>\n",
       "      <th></th>\n",
       "      <th></th>\n",
       "      <th></th>\n",
       "      <th></th>\n",
       "      <th></th>\n",
       "      <th></th>\n",
       "    </tr>\n",
       "  </thead>\n",
       "  <tbody>\n",
       "    <tr>\n",
       "      <th>1980-12-31</th>\n",
       "      <td>34.25</td>\n",
       "      <td>34.25</td>\n",
       "      <td>34.13</td>\n",
       "      <td>34.13</td>\n",
       "      <td>159600.0</td>\n",
       "      <td>0.0</td>\n",
       "      <td>1.0</td>\n",
       "      <td>0.503571</td>\n",
       "      <td>0.503571</td>\n",
       "      <td>0.501807</td>\n",
       "      <td>0.501807</td>\n",
       "      <td>8937600.0</td>\n",
       "    </tr>\n",
       "    <tr>\n",
       "      <th>1981-01-31</th>\n",
       "      <td>28.50</td>\n",
       "      <td>28.50</td>\n",
       "      <td>28.25</td>\n",
       "      <td>28.25</td>\n",
       "      <td>206200.0</td>\n",
       "      <td>0.0</td>\n",
       "      <td>1.0</td>\n",
       "      <td>0.419030</td>\n",
       "      <td>0.419030</td>\n",
       "      <td>0.415355</td>\n",
       "      <td>0.415355</td>\n",
       "      <td>11547200.0</td>\n",
       "    </tr>\n",
       "    <tr>\n",
       "      <th>1981-02-28</th>\n",
       "      <td>26.50</td>\n",
       "      <td>26.75</td>\n",
       "      <td>26.50</td>\n",
       "      <td>26.50</td>\n",
       "      <td>65900.0</td>\n",
       "      <td>0.0</td>\n",
       "      <td>1.0</td>\n",
       "      <td>0.389625</td>\n",
       "      <td>0.393300</td>\n",
       "      <td>0.389625</td>\n",
       "      <td>0.389625</td>\n",
       "      <td>3690400.0</td>\n",
       "    </tr>\n",
       "    <tr>\n",
       "      <th>1981-03-31</th>\n",
       "      <td>24.75</td>\n",
       "      <td>24.75</td>\n",
       "      <td>24.50</td>\n",
       "      <td>24.50</td>\n",
       "      <td>71400.0</td>\n",
       "      <td>0.0</td>\n",
       "      <td>1.0</td>\n",
       "      <td>0.363895</td>\n",
       "      <td>0.363895</td>\n",
       "      <td>0.360219</td>\n",
       "      <td>0.360219</td>\n",
       "      <td>3998400.0</td>\n",
       "    </tr>\n",
       "    <tr>\n",
       "      <th>1981-04-30</th>\n",
       "      <td>28.38</td>\n",
       "      <td>28.62</td>\n",
       "      <td>28.38</td>\n",
       "      <td>28.38</td>\n",
       "      <td>56300.0</td>\n",
       "      <td>0.0</td>\n",
       "      <td>1.0</td>\n",
       "      <td>0.417266</td>\n",
       "      <td>0.420795</td>\n",
       "      <td>0.417266</td>\n",
       "      <td>0.417266</td>\n",
       "      <td>3152800.0</td>\n",
       "    </tr>\n",
       "  </tbody>\n",
       "</table>\n",
       "</div>"
      ],
      "text/plain": [
       "             Open   High    Low  Close    Volume  Ex-Dividend  Split Ratio  \\\n",
       "Date                                                                         \n",
       "1980-12-31  34.25  34.25  34.13  34.13  159600.0          0.0          1.0   \n",
       "1981-01-31  28.50  28.50  28.25  28.25  206200.0          0.0          1.0   \n",
       "1981-02-28  26.50  26.75  26.50  26.50   65900.0          0.0          1.0   \n",
       "1981-03-31  24.75  24.75  24.50  24.50   71400.0          0.0          1.0   \n",
       "1981-04-30  28.38  28.62  28.38  28.38   56300.0          0.0          1.0   \n",
       "\n",
       "            Adj. Open  Adj. High  Adj. Low  Adj. Close  Adj. Volume  \n",
       "Date                                                                 \n",
       "1980-12-31   0.503571   0.503571  0.501807    0.501807    8937600.0  \n",
       "1981-01-31   0.419030   0.419030  0.415355    0.415355   11547200.0  \n",
       "1981-02-28   0.389625   0.393300  0.389625    0.389625    3690400.0  \n",
       "1981-03-31   0.363895   0.363895  0.360219    0.360219    3998400.0  \n",
       "1981-04-30   0.417266   0.420795  0.417266    0.417266    3152800.0  "
      ]
     },
     "execution_count": 11,
     "metadata": {},
     "output_type": "execute_result"
    }
   ],
   "source": [
    "data = quandl.get(\"WIKI/AAPL\", rows=5, collapse='monthly')\n",
    "data"
   ]
  },
  {
   "cell_type": "markdown",
   "metadata": {},
   "source": [
    "That's great! But now we want to show data for the last 10 years.\n",
    "\n",
    "First, we need to have Python tell us what today's date is. We've written most of this for you, but you need to add a line to output the value of `start_date`."
   ]
  },
  {
   "cell_type": "code",
   "execution_count": 12,
   "metadata": {
    "collapsed": true
   },
   "outputs": [],
   "source": [
    "import datetime\n",
    "start_date = (datetime.datetime.now() - datetime.timedelta(days=10*365)).strftime('%Y-%m-01')\n"
   ]
  },
  {
   "cell_type": "markdown",
   "metadata": {},
   "source": [
    "Now we need to add a new parameter to our Quandl get request. After `collapse='monthly'`, add a comma and then **`start_date=start_date`** inside the parenthesis.\n",
    "\n",
    "Then, to save space in the notebook, we're only going to show the top five rows of data using `data.head(5)`.\n",
    "\n",
    "How could you show the top 10 rows instead?"
   ]
  },
  {
   "cell_type": "code",
   "execution_count": 13,
   "metadata": {},
   "outputs": [
    {
     "data": {
      "text/html": [
       "<div>\n",
       "<style>\n",
       "    .dataframe thead tr:only-child th {\n",
       "        text-align: right;\n",
       "    }\n",
       "\n",
       "    .dataframe thead th {\n",
       "        text-align: left;\n",
       "    }\n",
       "\n",
       "    .dataframe tbody tr th {\n",
       "        vertical-align: top;\n",
       "    }\n",
       "</style>\n",
       "<table border=\"1\" class=\"dataframe\">\n",
       "  <thead>\n",
       "    <tr style=\"text-align: right;\">\n",
       "      <th></th>\n",
       "      <th>Close</th>\n",
       "    </tr>\n",
       "    <tr>\n",
       "      <th>Date</th>\n",
       "      <th></th>\n",
       "    </tr>\n",
       "  </thead>\n",
       "  <tbody>\n",
       "    <tr>\n",
       "      <th>1980-12-31</th>\n",
       "      <td>34.13</td>\n",
       "    </tr>\n",
       "    <tr>\n",
       "      <th>1981-01-31</th>\n",
       "      <td>28.25</td>\n",
       "    </tr>\n",
       "    <tr>\n",
       "      <th>1981-02-28</th>\n",
       "      <td>26.50</td>\n",
       "    </tr>\n",
       "    <tr>\n",
       "      <th>1981-03-31</th>\n",
       "      <td>24.50</td>\n",
       "    </tr>\n",
       "    <tr>\n",
       "      <th>1981-04-30</th>\n",
       "      <td>28.38</td>\n",
       "    </tr>\n",
       "  </tbody>\n",
       "</table>\n",
       "</div>"
      ],
      "text/plain": [
       "            Close\n",
       "Date             \n",
       "1980-12-31  34.13\n",
       "1981-01-31  28.25\n",
       "1981-02-28  26.50\n",
       "1981-03-31  24.50\n",
       "1981-04-30  28.38"
      ]
     },
     "execution_count": 13,
     "metadata": {},
     "output_type": "execute_result"
    }
   ],
   "source": [
    "data = quandl.get(\"WIKI/AAPL.4\", rows=120, collapse='monthly')\n",
    "data.head(5)"
   ]
  },
  {
   "cell_type": "markdown",
   "metadata": {},
   "source": [
    "Python comes with a number of great visualization tools built in.\n",
    "\n",
    "Let's do a quick visualization of the data to see if it looks right:"
   ]
  },
  {
   "cell_type": "code",
   "execution_count": 14,
   "metadata": {},
   "outputs": [
    {
     "name": "stdout",
     "output_type": "stream",
     "text": [
      "Requirement already satisfied: mpld3 in /Library/Frameworks/Python.framework/Versions/2.7/lib/python2.7/site-packages\r\n"
     ]
    },
    {
     "data": {
      "image/png": "[encoded data removed]",
      "text/html": [
       "\n",
       "\n",
       "<style>\n",
       "\n",
       "</style>\n",
       "\n",
       "<div id=\"fig_el3347544632818081376841479\"></div>\n",
       "<script>\n",
       "function mpld3_load_lib(url, callback){\n",
       "  var s = document.createElement('script');\n",
       "  s.src = url;\n",
       "  s.async = true;\n",
       "  s.onreadystatechange = s.onload = callback;\n",
       "  s.onerror = function(){console.warn(\"failed to load library \" + url);};\n",
       "  document.getElementsByTagName(\"head\")[0].appendChild(s);\n",
       "}\n",
       "\n",
       "if(typeof(mpld3) !== \"undefined\" && mpld3._mpld3IsLoaded){\n",
       "   // already loaded: just create the figure\n",
       "   !function(mpld3){\n",
       "       \n",
       "       mpld3.draw_figure(\"fig_el3347544632818081376841479\", {\"axes\": [{\"xlim\": [131.0, 250.0], \"yscale\": \"linear\", \"axesbg\": \"#FFFFFF\", \"texts\": [{\"v_baseline\": \"hanging\", \"h_anchor\": \"middle\", \"color\": \"#000000\", \"text\": \"Date\", \"coordinates\": \"axes\", \"zorder\": 3, \"alpha\": 1, \"fontsize\": 10.0, \"position\": [0.49999999999999994, -0.09657836644591611], \"rotation\": -0.0, \"id\": \"el334754463459600\"}, {\"v_baseline\": \"auto\", \"h_anchor\": \"start\", \"color\": \"#000000\", \"text\": \"Close\", \"coordinates\": \"axes\", \"zorder\": 1000003.0, \"alpha\": 1, \"fontsize\": 10.0, \"position\": [0.892099761051374, 0.9218175128771156], \"rotation\": -0.0, \"id\": \"el334754464182608\"}], \"zoomable\": true, \"images\": [], \"xdomain\": [[1980, 11, 31, 0, 0, 0, 0], [1990, 10, 30, 0, 0, 0, 0]], \"ylim\": [9.425, 82.575], \"paths\": [{\"edgecolor\": \"#CCCCCC\", \"facecolor\": \"#FFFFFF\", \"edgewidth\": 1.0, \"pathcodes\": [\"M\", \"L\", \"S\", \"L\", \"S\", \"L\", \"S\", \"L\", \"S\", \"Z\"], \"yindex\": 1, \"coordinates\": \"axes\", \"dasharray\": \"none\", \"zorder\": 1000000.0, \"alpha\": 0.8, \"xindex\": 0, \"data\": \"data03\", \"id\": \"el334754379912144\"}], \"sharey\": [], \"sharex\": [], \"axesbgalpha\": null, \"axes\": [{\"scale\": \"linear\", \"tickformat\": null, \"grid\": {\"gridOn\": false}, \"visible\": true, \"fontsize\": 10.0, \"position\": \"bottom\", \"nticks\": 10, \"tickvalues\": null}, {\"scale\": \"linear\", \"tickformat\": null, \"grid\": {\"gridOn\": false}, \"visible\": true, \"fontsize\": 10.0, \"position\": \"left\", \"nticks\": 10, \"tickvalues\": null}], \"lines\": [{\"drawstyle\": \"default\", \"color\": \"#1F77B4\", \"yindex\": 1, \"coordinates\": \"data\", \"dasharray\": \"none\", \"zorder\": 2, \"alpha\": 1, \"xindex\": 0, \"linewidth\": 1.5, \"data\": \"data01\", \"id\": \"el334754463615312\"}, {\"drawstyle\": \"default\", \"color\": \"#1F77B4\", \"yindex\": 1, \"coordinates\": \"axes\", \"dasharray\": \"none\", \"zorder\": 1000002.0, \"alpha\": 1, \"xindex\": 0, \"linewidth\": 1.5, \"data\": \"data02\", \"id\": \"el334754464183504\"}], \"markers\": [], \"id\": \"el334754463283536\", \"ydomain\": [9.425, 82.575], \"collections\": [], \"xscale\": \"date\", \"bbox\": [0.125, 0.125, 0.775, 0.755]}], \"height\": 288.0, \"width\": 432.0, \"plugins\": [{\"type\": \"reset\"}, {\"enabled\": false, \"button\": true, \"type\": \"zoom\"}, {\"enabled\": false, \"button\": true, \"type\": \"boxzoom\"}], \"data\": {\"data02\": [[0.8084677419354839, 0.9379139072847682], [0.8682048984468339, 0.9379139072847682]], \"data03\": [[0.8024940262843488, 0.8942236938925681], [0.9790919952210274, 0.8942236938925681], [0.9850657108721624, 0.8942236938925681], [0.9850657108721624, 0.9034216335540839], [0.9850657108721624, 0.9678072111846947], [0.9850657108721624, 0.9770051508462105], [0.9790919952210274, 0.9770051508462105], [0.8024940262843488, 0.9770051508462105], [0.7965203106332138, 0.9770051508462105], [0.7965203106332138, 0.9678072111846947], [0.7965203106332138, 0.9034216335540839], [0.7965203106332138, 0.8942236938925681], [0.8024940262843488, 0.8942236938925681]], \"data01\": [[131.0, 34.13], [132.0, 28.25], [133.0, 26.5], [134.0, 24.5], [135.0, 28.38], [136.0, 33.13], [137.0, 26.0], [138.0, 25.0], [139.0, 20.13], [140.0, 15.25], [141.0, 20.0], [142.0, 18.63], [143.0, 22.13], [144.0, 20.38], [145.0, 18.25], [146.0, 16.88], [147.0, 14.75], [148.0, 14.0], [149.0, 12.75], [150.0, 13.5], [151.0, 18.0], [152.0, 18.25], [153.0, 25.37], [154.0, 31.88], [155.0, 29.87], [156.0, 40.87], [157.0, 45.62], [158.0, 42.25], [159.0, 50.5], [160.0, 57.75], [161.0, 48.88], [162.0, 34.88], [163.0, 37.25], [164.0, 23.13], [165.0, 22.63], [166.0, 20.38], [167.0, 24.38], [168.0, 24.75], [169.0, 26.25], [170.0, 24.75], [171.0, 31.38], [172.0, 29.37], [173.0, 26.5], [174.0, 25.5], [175.0, 26.5], [176.0, 25.12], [177.0, 24.87], [178.0, 24.75], [179.0, 29.12], [180.0, 29.0], [181.0, 24.75], [182.0, 22.12], [183.0, 21.25], [184.0, 17.37], [185.0, 18.0], [186.0, 15.88], [187.0, 15.0], [188.0, 15.75], [189.0, 18.62], [190.0, 20.12], [191.0, 22.0], [192.0, 23.12], [193.0, 25.0], [194.0, 28.25], [195.0, 30.25], [196.0, 37.0], [197.0, 35.88], [198.0, 31.25], [199.0, 37.0], [200.0, 33.5], [201.0, 34.63], [202.0, 40.0], [203.0, 40.5], [204.0, 55.5], [205.0, 70.0], [206.0, 64.5], [207.0, 79.25], [208.0, 79.0], [209.0, 40.5], [210.0, 41.25], [211.0, 54.0], [212.0, 56.5], [213.0, 38.63], [214.0, 33.0], [215.0, 42.0], [216.0, 41.5], [217.0, 43.0], [218.0, 40.0], [219.0, 41.0], [220.0, 41.5], [221.0, 46.25], [222.0, 44.38], [223.0, 39.88], [224.0, 43.25], [225.0, 38.63], [226.0, 37.63], [227.0, 40.25], [228.0, 37.75], [229.0, 36.25], [230.0, 35.63], [231.0, 39.0], [232.0, 47.75], [233.0, 41.25], [234.0, 39.75], [235.0, 44.5], [236.0, 44.5], [237.0, 46.5], [238.0, 44.25], [239.0, 35.25], [240.0, 34.0], [241.0, 34.0], [242.0, 40.25], [243.0, 39.38], [244.0, 41.25], [245.0, 44.75], [246.0, 42.0], [247.0, 37.0], [248.0, 29.0], [249.0, 30.75], [250.0, 36.75]]}, \"id\": \"el334754463281808\"});\n",
       "   }(mpld3);\n",
       "}else if(typeof define === \"function\" && define.amd){\n",
       "   // require.js is available: use it to load d3/mpld3\n",
       "   require.config({paths: {d3: \"https://mpld3.github.io/js/d3.v3.min\"}});\n",
       "   require([\"d3\"], function(d3){\n",
       "      window.d3 = d3;\n",
       "      mpld3_load_lib(\"https://mpld3.github.io/js/mpld3.v0.3.js\", function(){\n",
       "         \n",
       "         mpld3.draw_figure(\"fig_el3347544632818081376841479\", {\"axes\": [{\"xlim\": [131.0, 250.0], \"yscale\": \"linear\", \"axesbg\": \"#FFFFFF\", \"texts\": [{\"v_baseline\": \"hanging\", \"h_anchor\": \"middle\", \"color\": \"#000000\", \"text\": \"Date\", \"coordinates\": \"axes\", \"zorder\": 3, \"alpha\": 1, \"fontsize\": 10.0, \"position\": [0.49999999999999994, -0.09657836644591611], \"rotation\": -0.0, \"id\": \"el334754463459600\"}, {\"v_baseline\": \"auto\", \"h_anchor\": \"start\", \"color\": \"#000000\", \"text\": \"Close\", \"coordinates\": \"axes\", \"zorder\": 1000003.0, \"alpha\": 1, \"fontsize\": 10.0, \"position\": [0.892099761051374, 0.9218175128771156], \"rotation\": -0.0, \"id\": \"el334754464182608\"}], \"zoomable\": true, \"images\": [], \"xdomain\": [[1980, 11, 31, 0, 0, 0, 0], [1990, 10, 30, 0, 0, 0, 0]], \"ylim\": [9.425, 82.575], \"paths\": [{\"edgecolor\": \"#CCCCCC\", \"facecolor\": \"#FFFFFF\", \"edgewidth\": 1.0, \"pathcodes\": [\"M\", \"L\", \"S\", \"L\", \"S\", \"L\", \"S\", \"L\", \"S\", \"Z\"], \"yindex\": 1, \"coordinates\": \"axes\", \"dasharray\": \"none\", \"zorder\": 1000000.0, \"alpha\": 0.8, \"xindex\": 0, \"data\": \"data03\", \"id\": \"el334754379912144\"}], \"sharey\": [], \"sharex\": [], \"axesbgalpha\": null, \"axes\": [{\"scale\": \"linear\", \"tickformat\": null, \"grid\": {\"gridOn\": false}, \"visible\": true, \"fontsize\": 10.0, \"position\": \"bottom\", \"nticks\": 10, \"tickvalues\": null}, {\"scale\": \"linear\", \"tickformat\": null, \"grid\": {\"gridOn\": false}, \"visible\": true, \"fontsize\": 10.0, \"position\": \"left\", \"nticks\": 10, \"tickvalues\": null}], \"lines\": [{\"drawstyle\": \"default\", \"color\": \"#1F77B4\", \"yindex\": 1, \"coordinates\": \"data\", \"dasharray\": \"none\", \"zorder\": 2, \"alpha\": 1, \"xindex\": 0, \"linewidth\": 1.5, \"data\": \"data01\", \"id\": \"el334754463615312\"}, {\"drawstyle\": \"default\", \"color\": \"#1F77B4\", \"yindex\": 1, \"coordinates\": \"axes\", \"dasharray\": \"none\", \"zorder\": 1000002.0, \"alpha\": 1, \"xindex\": 0, \"linewidth\": 1.5, \"data\": \"data02\", \"id\": \"el334754464183504\"}], \"markers\": [], \"id\": \"el334754463283536\", \"ydomain\": [9.425, 82.575], \"collections\": [], \"xscale\": \"date\", \"bbox\": [0.125, 0.125, 0.775, 0.755]}], \"height\": 288.0, \"width\": 432.0, \"plugins\": [{\"type\": \"reset\"}, {\"enabled\": false, \"button\": true, \"type\": \"zoom\"}, {\"enabled\": false, \"button\": true, \"type\": \"boxzoom\"}], \"data\": {\"data02\": [[0.8084677419354839, 0.9379139072847682], [0.8682048984468339, 0.9379139072847682]], \"data03\": [[0.8024940262843488, 0.8942236938925681], [0.9790919952210274, 0.8942236938925681], [0.9850657108721624, 0.8942236938925681], [0.9850657108721624, 0.9034216335540839], [0.9850657108721624, 0.9678072111846947], [0.9850657108721624, 0.9770051508462105], [0.9790919952210274, 0.9770051508462105], [0.8024940262843488, 0.9770051508462105], [0.7965203106332138, 0.9770051508462105], [0.7965203106332138, 0.9678072111846947], [0.7965203106332138, 0.9034216335540839], [0.7965203106332138, 0.8942236938925681], [0.8024940262843488, 0.8942236938925681]], \"data01\": [[131.0, 34.13], [132.0, 28.25], [133.0, 26.5], [134.0, 24.5], [135.0, 28.38], [136.0, 33.13], [137.0, 26.0], [138.0, 25.0], [139.0, 20.13], [140.0, 15.25], [141.0, 20.0], [142.0, 18.63], [143.0, 22.13], [144.0, 20.38], [145.0, 18.25], [146.0, 16.88], [147.0, 14.75], [148.0, 14.0], [149.0, 12.75], [150.0, 13.5], [151.0, 18.0], [152.0, 18.25], [153.0, 25.37], [154.0, 31.88], [155.0, 29.87], [156.0, 40.87], [157.0, 45.62], [158.0, 42.25], [159.0, 50.5], [160.0, 57.75], [161.0, 48.88], [162.0, 34.88], [163.0, 37.25], [164.0, 23.13], [165.0, 22.63], [166.0, 20.38], [167.0, 24.38], [168.0, 24.75], [169.0, 26.25], [170.0, 24.75], [171.0, 31.38], [172.0, 29.37], [173.0, 26.5], [174.0, 25.5], [175.0, 26.5], [176.0, 25.12], [177.0, 24.87], [178.0, 24.75], [179.0, 29.12], [180.0, 29.0], [181.0, 24.75], [182.0, 22.12], [183.0, 21.25], [184.0, 17.37], [185.0, 18.0], [186.0, 15.88], [187.0, 15.0], [188.0, 15.75], [189.0, 18.62], [190.0, 20.12], [191.0, 22.0], [192.0, 23.12], [193.0, 25.0], [194.0, 28.25], [195.0, 30.25], [196.0, 37.0], [197.0, 35.88], [198.0, 31.25], [199.0, 37.0], [200.0, 33.5], [201.0, 34.63], [202.0, 40.0], [203.0, 40.5], [204.0, 55.5], [205.0, 70.0], [206.0, 64.5], [207.0, 79.25], [208.0, 79.0], [209.0, 40.5], [210.0, 41.25], [211.0, 54.0], [212.0, 56.5], [213.0, 38.63], [214.0, 33.0], [215.0, 42.0], [216.0, 41.5], [217.0, 43.0], [218.0, 40.0], [219.0, 41.0], [220.0, 41.5], [221.0, 46.25], [222.0, 44.38], [223.0, 39.88], [224.0, 43.25], [225.0, 38.63], [226.0, 37.63], [227.0, 40.25], [228.0, 37.75], [229.0, 36.25], [230.0, 35.63], [231.0, 39.0], [232.0, 47.75], [233.0, 41.25], [234.0, 39.75], [235.0, 44.5], [236.0, 44.5], [237.0, 46.5], [238.0, 44.25], [239.0, 35.25], [240.0, 34.0], [241.0, 34.0], [242.0, 40.25], [243.0, 39.38], [244.0, 41.25], [245.0, 44.75], [246.0, 42.0], [247.0, 37.0], [248.0, 29.0], [249.0, 30.75], [250.0, 36.75]]}, \"id\": \"el334754463281808\"});\n",
       "      });\n",
       "    });\n",
       "}else{\n",
       "    // require.js not available: dynamically load d3 & mpld3\n",
       "    mpld3_load_lib(\"https://mpld3.github.io/js/d3.v3.min.js\", function(){\n",
       "         mpld3_load_lib(\"https://mpld3.github.io/js/mpld3.v0.3.js\", function(){\n",
       "                 \n",
       "                 mpld3.draw_figure(\"fig_el3347544632818081376841479\", {\"axes\": [{\"xlim\": [131.0, 250.0], \"yscale\": \"linear\", \"axesbg\": \"#FFFFFF\", \"texts\": [{\"v_baseline\": \"hanging\", \"h_anchor\": \"middle\", \"color\": \"#000000\", \"text\": \"Date\", \"coordinates\": \"axes\", \"zorder\": 3, \"alpha\": 1, \"fontsize\": 10.0, \"position\": [0.49999999999999994, -0.09657836644591611], \"rotation\": -0.0, \"id\": \"el334754463459600\"}, {\"v_baseline\": \"auto\", \"h_anchor\": \"start\", \"color\": \"#000000\", \"text\": \"Close\", \"coordinates\": \"axes\", \"zorder\": 1000003.0, \"alpha\": 1, \"fontsize\": 10.0, \"position\": [0.892099761051374, 0.9218175128771156], \"rotation\": -0.0, \"id\": \"el334754464182608\"}], \"zoomable\": true, \"images\": [], \"xdomain\": [[1980, 11, 31, 0, 0, 0, 0], [1990, 10, 30, 0, 0, 0, 0]], \"ylim\": [9.425, 82.575], \"paths\": [{\"edgecolor\": \"#CCCCCC\", \"facecolor\": \"#FFFFFF\", \"edgewidth\": 1.0, \"pathcodes\": [\"M\", \"L\", \"S\", \"L\", \"S\", \"L\", \"S\", \"L\", \"S\", \"Z\"], \"yindex\": 1, \"coordinates\": \"axes\", \"dasharray\": \"none\", \"zorder\": 1000000.0, \"alpha\": 0.8, \"xindex\": 0, \"data\": \"data03\", \"id\": \"el334754379912144\"}], \"sharey\": [], \"sharex\": [], \"axesbgalpha\": null, \"axes\": [{\"scale\": \"linear\", \"tickformat\": null, \"grid\": {\"gridOn\": false}, \"visible\": true, \"fontsize\": 10.0, \"position\": \"bottom\", \"nticks\": 10, \"tickvalues\": null}, {\"scale\": \"linear\", \"tickformat\": null, \"grid\": {\"gridOn\": false}, \"visible\": true, \"fontsize\": 10.0, \"position\": \"left\", \"nticks\": 10, \"tickvalues\": null}], \"lines\": [{\"drawstyle\": \"default\", \"color\": \"#1F77B4\", \"yindex\": 1, \"coordinates\": \"data\", \"dasharray\": \"none\", \"zorder\": 2, \"alpha\": 1, \"xindex\": 0, \"linewidth\": 1.5, \"data\": \"data01\", \"id\": \"el334754463615312\"}, {\"drawstyle\": \"default\", \"color\": \"#1F77B4\", \"yindex\": 1, \"coordinates\": \"axes\", \"dasharray\": \"none\", \"zorder\": 1000002.0, \"alpha\": 1, \"xindex\": 0, \"linewidth\": 1.5, \"data\": \"data02\", \"id\": \"el334754464183504\"}], \"markers\": [], \"id\": \"el334754463283536\", \"ydomain\": [9.425, 82.575], \"collections\": [], \"xscale\": \"date\", \"bbox\": [0.125, 0.125, 0.775, 0.755]}], \"height\": 288.0, \"width\": 432.0, \"plugins\": [{\"type\": \"reset\"}, {\"enabled\": false, \"button\": true, \"type\": \"zoom\"}, {\"enabled\": false, \"button\": true, \"type\": \"boxzoom\"}], \"data\": {\"data02\": [[0.8084677419354839, 0.9379139072847682], [0.8682048984468339, 0.9379139072847682]], \"data03\": [[0.8024940262843488, 0.8942236938925681], [0.9790919952210274, 0.8942236938925681], [0.9850657108721624, 0.8942236938925681], [0.9850657108721624, 0.9034216335540839], [0.9850657108721624, 0.9678072111846947], [0.9850657108721624, 0.9770051508462105], [0.9790919952210274, 0.9770051508462105], [0.8024940262843488, 0.9770051508462105], [0.7965203106332138, 0.9770051508462105], [0.7965203106332138, 0.9678072111846947], [0.7965203106332138, 0.9034216335540839], [0.7965203106332138, 0.8942236938925681], [0.8024940262843488, 0.8942236938925681]], \"data01\": [[131.0, 34.13], [132.0, 28.25], [133.0, 26.5], [134.0, 24.5], [135.0, 28.38], [136.0, 33.13], [137.0, 26.0], [138.0, 25.0], [139.0, 20.13], [140.0, 15.25], [141.0, 20.0], [142.0, 18.63], [143.0, 22.13], [144.0, 20.38], [145.0, 18.25], [146.0, 16.88], [147.0, 14.75], [148.0, 14.0], [149.0, 12.75], [150.0, 13.5], [151.0, 18.0], [152.0, 18.25], [153.0, 25.37], [154.0, 31.88], [155.0, 29.87], [156.0, 40.87], [157.0, 45.62], [158.0, 42.25], [159.0, 50.5], [160.0, 57.75], [161.0, 48.88], [162.0, 34.88], [163.0, 37.25], [164.0, 23.13], [165.0, 22.63], [166.0, 20.38], [167.0, 24.38], [168.0, 24.75], [169.0, 26.25], [170.0, 24.75], [171.0, 31.38], [172.0, 29.37], [173.0, 26.5], [174.0, 25.5], [175.0, 26.5], [176.0, 25.12], [177.0, 24.87], [178.0, 24.75], [179.0, 29.12], [180.0, 29.0], [181.0, 24.75], [182.0, 22.12], [183.0, 21.25], [184.0, 17.37], [185.0, 18.0], [186.0, 15.88], [187.0, 15.0], [188.0, 15.75], [189.0, 18.62], [190.0, 20.12], [191.0, 22.0], [192.0, 23.12], [193.0, 25.0], [194.0, 28.25], [195.0, 30.25], [196.0, 37.0], [197.0, 35.88], [198.0, 31.25], [199.0, 37.0], [200.0, 33.5], [201.0, 34.63], [202.0, 40.0], [203.0, 40.5], [204.0, 55.5], [205.0, 70.0], [206.0, 64.5], [207.0, 79.25], [208.0, 79.0], [209.0, 40.5], [210.0, 41.25], [211.0, 54.0], [212.0, 56.5], [213.0, 38.63], [214.0, 33.0], [215.0, 42.0], [216.0, 41.5], [217.0, 43.0], [218.0, 40.0], [219.0, 41.0], [220.0, 41.5], [221.0, 46.25], [222.0, 44.38], [223.0, 39.88], [224.0, 43.25], [225.0, 38.63], [226.0, 37.63], [227.0, 40.25], [228.0, 37.75], [229.0, 36.25], [230.0, 35.63], [231.0, 39.0], [232.0, 47.75], [233.0, 41.25], [234.0, 39.75], [235.0, 44.5], [236.0, 44.5], [237.0, 46.5], [238.0, 44.25], [239.0, 35.25], [240.0, 34.0], [241.0, 34.0], [242.0, 40.25], [243.0, 39.38], [244.0, 41.25], [245.0, 44.75], [246.0, 42.0], [247.0, 37.0], [248.0, 29.0], [249.0, 30.75], [250.0, 36.75]]}, \"id\": \"el334754463281808\"});\n",
       "            })\n",
       "         });\n",
       "}\n",
       "</script>"
      ],
      "text/plain": [
       "<matplotlib.figure.Figure at 0x10a084690>"
      ]
     },
     "metadata": {},
     "output_type": "display_data"
    }
   ],
   "source": [
    "%matplotlib inline\n",
    "!pip install mpld3 # install a package to let us zoon into our plots\n",
    "import mpld3\n",
    "mpld3.enable_notebook()\n",
    "\n",
    "ax = data.plot()"
   ]
  },
  {
   "cell_type": "markdown",
   "metadata": {},
   "source": [
    "Uh-oh! Looks like there's a problem: There's a big drop in AAPL stock in 2014!\n",
    "\n",
    "Why?!  Well, a quick Google shows they [split their stock](https://www.washingtonpost.com/news/the-switch/wp/2014/06/09/apples-stock-price-just-dropped-more-than-500-a-share-but-dont-panic/). \n",
    "\n",
    "Luckily, Quandl has accounted for that. Instead of `Close`, we'll need to use the `Adjusted Close` price (column 11) from Quandl.\n",
    "\n",
    "Modify the code below to get the 11th column instead of the 4th."
   ]
  },
  {
   "cell_type": "code",
   "execution_count": 15,
   "metadata": {},
   "outputs": [
    {
     "data": {
      "image/png": "[encoded data removed]",
      "text/html": [
       "\n",
       "\n",
       "<style>\n",
       "\n",
       "</style>\n",
       "\n",
       "<div id=\"fig_el3347544656535843657725320\"></div>\n",
       "<script>\n",
       "function mpld3_load_lib(url, callback){\n",
       "  var s = document.createElement('script');\n",
       "  s.src = url;\n",
       "  s.async = true;\n",
       "  s.onreadystatechange = s.onload = callback;\n",
       "  s.onerror = function(){console.warn(\"failed to load library \" + url);};\n",
       "  document.getElementsByTagName(\"head\")[0].appendChild(s);\n",
       "}\n",
       "\n",
       "if(typeof(mpld3) !== \"undefined\" && mpld3._mpld3IsLoaded){\n",
       "   // already loaded: just create the figure\n",
       "   !function(mpld3){\n",
       "       \n",
       "       mpld3.draw_figure(\"fig_el3347544656535843657725320\", {\"axes\": [{\"xlim\": [452.0, 571.0], \"yscale\": \"linear\", \"axesbg\": \"#FFFFFF\", \"texts\": [{\"v_baseline\": \"hanging\", \"h_anchor\": \"middle\", \"color\": \"#000000\", \"text\": \"Date\", \"coordinates\": \"axes\", \"zorder\": 3, \"alpha\": 1, \"fontsize\": 10.0, \"position\": [0.49999999999999994, -0.09657836644591611], \"rotation\": -0.0, \"id\": \"el334754465819344\"}, {\"v_baseline\": \"auto\", \"h_anchor\": \"start\", \"color\": \"#000000\", \"text\": \"Adj. Close\", \"coordinates\": \"axes\", \"zorder\": 1000003.0, \"alpha\": 1, \"fontsize\": 10.0, \"position\": [0.8248954599761051, 0.9218175128771156], \"rotation\": -0.0, \"id\": \"el334754467796624\"}], \"zoomable\": true, \"images\": [], \"xdomain\": [[2007, 8, 30, 0, 0, 0, 0], [2017, 7, 31, 0, 0, 0, 0]], \"ylim\": [3.317097807398749, 171.65156677107626], \"paths\": [{\"edgecolor\": \"#CCCCCC\", \"facecolor\": \"#FFFFFF\", \"edgewidth\": 1.0, \"pathcodes\": [\"M\", \"L\", \"S\", \"L\", \"S\", \"L\", \"S\", \"L\", \"S\", \"Z\"], \"yindex\": 1, \"coordinates\": \"axes\", \"dasharray\": \"none\", \"zorder\": 1000000.0, \"alpha\": 0.8, \"xindex\": 0, \"data\": \"data03\", \"id\": \"el334754467794128\"}], \"sharey\": [], \"sharex\": [], \"axesbgalpha\": null, \"axes\": [{\"scale\": \"linear\", \"tickformat\": null, \"grid\": {\"gridOn\": false}, \"visible\": true, \"fontsize\": 10.0, \"position\": \"bottom\", \"nticks\": 10, \"tickvalues\": null}, {\"scale\": \"linear\", \"tickformat\": null, \"grid\": {\"gridOn\": false}, \"visible\": true, \"fontsize\": 10.0, \"position\": \"left\", \"nticks\": 10, \"tickvalues\": null}], \"lines\": [{\"drawstyle\": \"default\", \"color\": \"#1F77B4\", \"yindex\": 1, \"coordinates\": \"data\", \"dasharray\": \"none\", \"zorder\": 2, \"alpha\": 1, \"xindex\": 0, \"linewidth\": 1.5, \"data\": \"data01\", \"id\": \"el334754467423888\"}, {\"drawstyle\": \"default\", \"color\": \"#1F77B4\", \"yindex\": 1, \"coordinates\": \"axes\", \"dasharray\": \"none\", \"zorder\": 1000002.0, \"alpha\": 1, \"xindex\": 0, \"linewidth\": 1.5, \"data\": \"data02\", \"id\": \"el334754467797520\"}], \"markers\": [], \"id\": \"el334754465768336\", \"ydomain\": [3.317097807398749, 171.65156677107626], \"collections\": [], \"xscale\": \"date\", \"bbox\": [0.125, 0.125, 0.775, 0.755]}], \"height\": 288.0, \"width\": 432.0, \"plugins\": [{\"type\": \"reset\"}, {\"enabled\": false, \"button\": true, \"type\": \"zoom\"}, {\"enabled\": false, \"button\": true, \"type\": \"boxzoom\"}], \"data\": {\"data02\": [[0.741263440860215, 0.9379139072847682], [0.801000597371565, 0.9379139072847682]], \"data03\": [[0.73528972520908, 0.8942236938925681], [0.9790919952210274, 0.8942236938925681], [0.9850657108721624, 0.8942236938925681], [0.9850657108721624, 0.9034216335540839], [0.9850657108721624, 0.9678072111846947], [0.9850657108721624, 0.9770051508462105], [0.9790919952210274, 0.9770051508462105], [0.73528972520908, 0.9770051508462105], [0.7293160095579451, 0.9770051508462105], [0.7293160095579451, 0.9678072111846947], [0.7293160095579451, 0.9034216335540839], [0.7293160095579451, 0.8942236938925681], [0.73528972520908, 0.8942236938925681]], \"data01\": [[452.0, 19.723034011231], [453.0, 24.411222456723], [454.0, 23.417809718684], [455.0, 25.456040769822], [456.0, 17.395646600379], [457.0, 16.066812485072], [458.0, 18.441750052855], [459.0, 22.354999454314], [460.0, 24.257005731542], [461.0, 21.518373720209], [462.0, 20.427290389556], [463.0, 21.786967849899], [464.0, 14.606894153362], [465.0, 13.826814551823], [466.0, 11.909386602077], [467.0, 10.968664578475], [468.0, 11.582961200445], [469.0, 11.477579771571], [470.0, 13.509385125826], [471.0, 16.170908774569], [472.0, 17.453477872322], [473.0, 18.304240139569], [474.0, 20.997892272724], [475.0, 21.6173294522], [476.0, 23.820058343531], [477.0, 24.22487724713], [478.0, 25.691221275723], [479.0, 27.081999108977], [480.0, 24.682772406979], [481.0, 26.296521922057], [482.0, 30.200775347881], [483.0, 33.553703981184], [484.0, 33.012660303675], [485.0, 32.325110737244], [486.0, 33.060210460605], [487.0, 31.24173824285], [488.0, 36.465829808345], [489.0, 38.680124954064], [490.0, 39.98711169997], [491.0, 41.453455728563], [492.0, 43.607349323587], [493.0, 45.392407917553], [494.0, 44.788071125751], [495.0, 44.996584989589], [496.0, 44.701002932993], [497.0, 43.138273451162], [498.0, 50.182122373789], [499.0, 49.456018626063], [500.0, 49.00493470491], [501.0, 52.019871682192], [502.0, 49.118026970042], [503.0, 52.048144748475], [504.0, 58.664042258726], [505.0, 69.711100339167], [506.0, 77.050531318391], [507.0, 75.049569309172], [508.0, 74.246357198856], [509.0, 75.052139587925], [510.0, 78.491172559453], [511.0, 85.857594115654], [512.0, 86.098295836876], [513.0, 76.83353816507], [514.0, 75.896485214554], [515.0, 69.009794690466], [516.0, 59.065900168086], [517.0, 57.562728311726], [518.0, 57.727044210395], [519.0, 57.742693343602], [520.0, 59.041313847026], [521.0, 52.056549256254], [522.0, 59.40824208744], [523.0, 64.384993720396], [524.0, 63.001924723734], [525.0, 69.074424870362], [526.0, 73.914215436527], [527.0, 74.572181819196], [528.0, 66.541004275586], [529.0, 70.365411763138], [530.0, 71.76940390268], [531.0, 78.903021106928], [532.0, 85.114261733663], [533.0, 87.468686256501], [534.0, 89.98177559584], [535.0, 96.956206806577], [536.0, 95.30085693427], [537.0, 102.15873497669], [538.0, 112.98399738955], [539.0, 104.8614616317], [540.0, 111.30248998705], [541.0, 122.5157567099], [542.0, 118.67223733001], [543.0, 119.35892069317], [544.0, 124.76735316852], [545.0, 120.11778685264], [546.0, 116.16733143492], [547.0, 108.47643694077], [548.0, 105.77318412236], [549.0, 114.96039565823], [550.0, 114.29538877569], [551.0, 101.69680999602], [552.0, 94.044912454993], [553.0, 93.919781198699], [554.0, 105.86737979984], [555.0, 91.054300233386], [556.0, 97.591938528951], [557.0, 93.428693404443], [558.0, 101.84313953637], [559.0, 104.24847718874], [560.0, 111.07719459177], [561.0, 111.55864373242], [562.0, 109.15491652711], [563.0, 114.38945378366], [564.0, 119.85115020417], [565.0, 135.8803615489], [566.0, 142.49633360184], [567.0, 142.48641460326], [568.0, 152.14268890314], [569.0, 143.43800769724], [570.0, 148.24848941629], [571.0, 164.0]]}, \"id\": \"el334754465653584\"});\n",
       "   }(mpld3);\n",
       "}else if(typeof define === \"function\" && define.amd){\n",
       "   // require.js is available: use it to load d3/mpld3\n",
       "   require.config({paths: {d3: \"https://mpld3.github.io/js/d3.v3.min\"}});\n",
       "   require([\"d3\"], function(d3){\n",
       "      window.d3 = d3;\n",
       "      mpld3_load_lib(\"https://mpld3.github.io/js/mpld3.v0.3.js\", function(){\n",
       "         \n",
       "         mpld3.draw_figure(\"fig_el3347544656535843657725320\", {\"axes\": [{\"xlim\": [452.0, 571.0], \"yscale\": \"linear\", \"axesbg\": \"#FFFFFF\", \"texts\": [{\"v_baseline\": \"hanging\", \"h_anchor\": \"middle\", \"color\": \"#000000\", \"text\": \"Date\", \"coordinates\": \"axes\", \"zorder\": 3, \"alpha\": 1, \"fontsize\": 10.0, \"position\": [0.49999999999999994, -0.09657836644591611], \"rotation\": -0.0, \"id\": \"el334754465819344\"}, {\"v_baseline\": \"auto\", \"h_anchor\": \"start\", \"color\": \"#000000\", \"text\": \"Adj. Close\", \"coordinates\": \"axes\", \"zorder\": 1000003.0, \"alpha\": 1, \"fontsize\": 10.0, \"position\": [0.8248954599761051, 0.9218175128771156], \"rotation\": -0.0, \"id\": \"el334754467796624\"}], \"zoomable\": true, \"images\": [], \"xdomain\": [[2007, 8, 30, 0, 0, 0, 0], [2017, 7, 31, 0, 0, 0, 0]], \"ylim\": [3.317097807398749, 171.65156677107626], \"paths\": [{\"edgecolor\": \"#CCCCCC\", \"facecolor\": \"#FFFFFF\", \"edgewidth\": 1.0, \"pathcodes\": [\"M\", \"L\", \"S\", \"L\", \"S\", \"L\", \"S\", \"L\", \"S\", \"Z\"], \"yindex\": 1, \"coordinates\": \"axes\", \"dasharray\": \"none\", \"zorder\": 1000000.0, \"alpha\": 0.8, \"xindex\": 0, \"data\": \"data03\", \"id\": \"el334754467794128\"}], \"sharey\": [], \"sharex\": [], \"axesbgalpha\": null, \"axes\": [{\"scale\": \"linear\", \"tickformat\": null, \"grid\": {\"gridOn\": false}, \"visible\": true, \"fontsize\": 10.0, \"position\": \"bottom\", \"nticks\": 10, \"tickvalues\": null}, {\"scale\": \"linear\", \"tickformat\": null, \"grid\": {\"gridOn\": false}, \"visible\": true, \"fontsize\": 10.0, \"position\": \"left\", \"nticks\": 10, \"tickvalues\": null}], \"lines\": [{\"drawstyle\": \"default\", \"color\": \"#1F77B4\", \"yindex\": 1, \"coordinates\": \"data\", \"dasharray\": \"none\", \"zorder\": 2, \"alpha\": 1, \"xindex\": 0, \"linewidth\": 1.5, \"data\": \"data01\", \"id\": \"el334754467423888\"}, {\"drawstyle\": \"default\", \"color\": \"#1F77B4\", \"yindex\": 1, \"coordinates\": \"axes\", \"dasharray\": \"none\", \"zorder\": 1000002.0, \"alpha\": 1, \"xindex\": 0, \"linewidth\": 1.5, \"data\": \"data02\", \"id\": \"el334754467797520\"}], \"markers\": [], \"id\": \"el334754465768336\", \"ydomain\": [3.317097807398749, 171.65156677107626], \"collections\": [], \"xscale\": \"date\", \"bbox\": [0.125, 0.125, 0.775, 0.755]}], \"height\": 288.0, \"width\": 432.0, \"plugins\": [{\"type\": \"reset\"}, {\"enabled\": false, \"button\": true, \"type\": \"zoom\"}, {\"enabled\": false, \"button\": true, \"type\": \"boxzoom\"}], \"data\": {\"data02\": [[0.741263440860215, 0.9379139072847682], [0.801000597371565, 0.9379139072847682]], \"data03\": [[0.73528972520908, 0.8942236938925681], [0.9790919952210274, 0.8942236938925681], [0.9850657108721624, 0.8942236938925681], [0.9850657108721624, 0.9034216335540839], [0.9850657108721624, 0.9678072111846947], [0.9850657108721624, 0.9770051508462105], [0.9790919952210274, 0.9770051508462105], [0.73528972520908, 0.9770051508462105], [0.7293160095579451, 0.9770051508462105], [0.7293160095579451, 0.9678072111846947], [0.7293160095579451, 0.9034216335540839], [0.7293160095579451, 0.8942236938925681], [0.73528972520908, 0.8942236938925681]], \"data01\": [[452.0, 19.723034011231], [453.0, 24.411222456723], [454.0, 23.417809718684], [455.0, 25.456040769822], [456.0, 17.395646600379], [457.0, 16.066812485072], [458.0, 18.441750052855], [459.0, 22.354999454314], [460.0, 24.257005731542], [461.0, 21.518373720209], [462.0, 20.427290389556], [463.0, 21.786967849899], [464.0, 14.606894153362], [465.0, 13.826814551823], [466.0, 11.909386602077], [467.0, 10.968664578475], [468.0, 11.582961200445], [469.0, 11.477579771571], [470.0, 13.509385125826], [471.0, 16.170908774569], [472.0, 17.453477872322], [473.0, 18.304240139569], [474.0, 20.997892272724], [475.0, 21.6173294522], [476.0, 23.820058343531], [477.0, 24.22487724713], [478.0, 25.691221275723], [479.0, 27.081999108977], [480.0, 24.682772406979], [481.0, 26.296521922057], [482.0, 30.200775347881], [483.0, 33.553703981184], [484.0, 33.012660303675], [485.0, 32.325110737244], [486.0, 33.060210460605], [487.0, 31.24173824285], [488.0, 36.465829808345], [489.0, 38.680124954064], [490.0, 39.98711169997], [491.0, 41.453455728563], [492.0, 43.607349323587], [493.0, 45.392407917553], [494.0, 44.788071125751], [495.0, 44.996584989589], [496.0, 44.701002932993], [497.0, 43.138273451162], [498.0, 50.182122373789], [499.0, 49.456018626063], [500.0, 49.00493470491], [501.0, 52.019871682192], [502.0, 49.118026970042], [503.0, 52.048144748475], [504.0, 58.664042258726], [505.0, 69.711100339167], [506.0, 77.050531318391], [507.0, 75.049569309172], [508.0, 74.246357198856], [509.0, 75.052139587925], [510.0, 78.491172559453], [511.0, 85.857594115654], [512.0, 86.098295836876], [513.0, 76.83353816507], [514.0, 75.896485214554], [515.0, 69.009794690466], [516.0, 59.065900168086], [517.0, 57.562728311726], [518.0, 57.727044210395], [519.0, 57.742693343602], [520.0, 59.041313847026], [521.0, 52.056549256254], [522.0, 59.40824208744], [523.0, 64.384993720396], [524.0, 63.001924723734], [525.0, 69.074424870362], [526.0, 73.914215436527], [527.0, 74.572181819196], [528.0, 66.541004275586], [529.0, 70.365411763138], [530.0, 71.76940390268], [531.0, 78.903021106928], [532.0, 85.114261733663], [533.0, 87.468686256501], [534.0, 89.98177559584], [535.0, 96.956206806577], [536.0, 95.30085693427], [537.0, 102.15873497669], [538.0, 112.98399738955], [539.0, 104.8614616317], [540.0, 111.30248998705], [541.0, 122.5157567099], [542.0, 118.67223733001], [543.0, 119.35892069317], [544.0, 124.76735316852], [545.0, 120.11778685264], [546.0, 116.16733143492], [547.0, 108.47643694077], [548.0, 105.77318412236], [549.0, 114.96039565823], [550.0, 114.29538877569], [551.0, 101.69680999602], [552.0, 94.044912454993], [553.0, 93.919781198699], [554.0, 105.86737979984], [555.0, 91.054300233386], [556.0, 97.591938528951], [557.0, 93.428693404443], [558.0, 101.84313953637], [559.0, 104.24847718874], [560.0, 111.07719459177], [561.0, 111.55864373242], [562.0, 109.15491652711], [563.0, 114.38945378366], [564.0, 119.85115020417], [565.0, 135.8803615489], [566.0, 142.49633360184], [567.0, 142.48641460326], [568.0, 152.14268890314], [569.0, 143.43800769724], [570.0, 148.24848941629], [571.0, 164.0]]}, \"id\": \"el334754465653584\"});\n",
       "      });\n",
       "    });\n",
       "}else{\n",
       "    // require.js not available: dynamically load d3 & mpld3\n",
       "    mpld3_load_lib(\"https://mpld3.github.io/js/d3.v3.min.js\", function(){\n",
       "         mpld3_load_lib(\"https://mpld3.github.io/js/mpld3.v0.3.js\", function(){\n",
       "                 \n",
       "                 mpld3.draw_figure(\"fig_el3347544656535843657725320\", {\"axes\": [{\"xlim\": [452.0, 571.0], \"yscale\": \"linear\", \"axesbg\": \"#FFFFFF\", \"texts\": [{\"v_baseline\": \"hanging\", \"h_anchor\": \"middle\", \"color\": \"#000000\", \"text\": \"Date\", \"coordinates\": \"axes\", \"zorder\": 3, \"alpha\": 1, \"fontsize\": 10.0, \"position\": [0.49999999999999994, -0.09657836644591611], \"rotation\": -0.0, \"id\": \"el334754465819344\"}, {\"v_baseline\": \"auto\", \"h_anchor\": \"start\", \"color\": \"#000000\", \"text\": \"Adj. Close\", \"coordinates\": \"axes\", \"zorder\": 1000003.0, \"alpha\": 1, \"fontsize\": 10.0, \"position\": [0.8248954599761051, 0.9218175128771156], \"rotation\": -0.0, \"id\": \"el334754467796624\"}], \"zoomable\": true, \"images\": [], \"xdomain\": [[2007, 8, 30, 0, 0, 0, 0], [2017, 7, 31, 0, 0, 0, 0]], \"ylim\": [3.317097807398749, 171.65156677107626], \"paths\": [{\"edgecolor\": \"#CCCCCC\", \"facecolor\": \"#FFFFFF\", \"edgewidth\": 1.0, \"pathcodes\": [\"M\", \"L\", \"S\", \"L\", \"S\", \"L\", \"S\", \"L\", \"S\", \"Z\"], \"yindex\": 1, \"coordinates\": \"axes\", \"dasharray\": \"none\", \"zorder\": 1000000.0, \"alpha\": 0.8, \"xindex\": 0, \"data\": \"data03\", \"id\": \"el334754467794128\"}], \"sharey\": [], \"sharex\": [], \"axesbgalpha\": null, \"axes\": [{\"scale\": \"linear\", \"tickformat\": null, \"grid\": {\"gridOn\": false}, \"visible\": true, \"fontsize\": 10.0, \"position\": \"bottom\", \"nticks\": 10, \"tickvalues\": null}, {\"scale\": \"linear\", \"tickformat\": null, \"grid\": {\"gridOn\": false}, \"visible\": true, \"fontsize\": 10.0, \"position\": \"left\", \"nticks\": 10, \"tickvalues\": null}], \"lines\": [{\"drawstyle\": \"default\", \"color\": \"#1F77B4\", \"yindex\": 1, \"coordinates\": \"data\", \"dasharray\": \"none\", \"zorder\": 2, \"alpha\": 1, \"xindex\": 0, \"linewidth\": 1.5, \"data\": \"data01\", \"id\": \"el334754467423888\"}, {\"drawstyle\": \"default\", \"color\": \"#1F77B4\", \"yindex\": 1, \"coordinates\": \"axes\", \"dasharray\": \"none\", \"zorder\": 1000002.0, \"alpha\": 1, \"xindex\": 0, \"linewidth\": 1.5, \"data\": \"data02\", \"id\": \"el334754467797520\"}], \"markers\": [], \"id\": \"el334754465768336\", \"ydomain\": [3.317097807398749, 171.65156677107626], \"collections\": [], \"xscale\": \"date\", \"bbox\": [0.125, 0.125, 0.775, 0.755]}], \"height\": 288.0, \"width\": 432.0, \"plugins\": [{\"type\": \"reset\"}, {\"enabled\": false, \"button\": true, \"type\": \"zoom\"}, {\"enabled\": false, \"button\": true, \"type\": \"boxzoom\"}], \"data\": {\"data02\": [[0.741263440860215, 0.9379139072847682], [0.801000597371565, 0.9379139072847682]], \"data03\": [[0.73528972520908, 0.8942236938925681], [0.9790919952210274, 0.8942236938925681], [0.9850657108721624, 0.8942236938925681], [0.9850657108721624, 0.9034216335540839], [0.9850657108721624, 0.9678072111846947], [0.9850657108721624, 0.9770051508462105], [0.9790919952210274, 0.9770051508462105], [0.73528972520908, 0.9770051508462105], [0.7293160095579451, 0.9770051508462105], [0.7293160095579451, 0.9678072111846947], [0.7293160095579451, 0.9034216335540839], [0.7293160095579451, 0.8942236938925681], [0.73528972520908, 0.8942236938925681]], \"data01\": [[452.0, 19.723034011231], [453.0, 24.411222456723], [454.0, 23.417809718684], [455.0, 25.456040769822], [456.0, 17.395646600379], [457.0, 16.066812485072], [458.0, 18.441750052855], [459.0, 22.354999454314], [460.0, 24.257005731542], [461.0, 21.518373720209], [462.0, 20.427290389556], [463.0, 21.786967849899], [464.0, 14.606894153362], [465.0, 13.826814551823], [466.0, 11.909386602077], [467.0, 10.968664578475], [468.0, 11.582961200445], [469.0, 11.477579771571], [470.0, 13.509385125826], [471.0, 16.170908774569], [472.0, 17.453477872322], [473.0, 18.304240139569], [474.0, 20.997892272724], [475.0, 21.6173294522], [476.0, 23.820058343531], [477.0, 24.22487724713], [478.0, 25.691221275723], [479.0, 27.081999108977], [480.0, 24.682772406979], [481.0, 26.296521922057], [482.0, 30.200775347881], [483.0, 33.553703981184], [484.0, 33.012660303675], [485.0, 32.325110737244], [486.0, 33.060210460605], [487.0, 31.24173824285], [488.0, 36.465829808345], [489.0, 38.680124954064], [490.0, 39.98711169997], [491.0, 41.453455728563], [492.0, 43.607349323587], [493.0, 45.392407917553], [494.0, 44.788071125751], [495.0, 44.996584989589], [496.0, 44.701002932993], [497.0, 43.138273451162], [498.0, 50.182122373789], [499.0, 49.456018626063], [500.0, 49.00493470491], [501.0, 52.019871682192], [502.0, 49.118026970042], [503.0, 52.048144748475], [504.0, 58.664042258726], [505.0, 69.711100339167], [506.0, 77.050531318391], [507.0, 75.049569309172], [508.0, 74.246357198856], [509.0, 75.052139587925], [510.0, 78.491172559453], [511.0, 85.857594115654], [512.0, 86.098295836876], [513.0, 76.83353816507], [514.0, 75.896485214554], [515.0, 69.009794690466], [516.0, 59.065900168086], [517.0, 57.562728311726], [518.0, 57.727044210395], [519.0, 57.742693343602], [520.0, 59.041313847026], [521.0, 52.056549256254], [522.0, 59.40824208744], [523.0, 64.384993720396], [524.0, 63.001924723734], [525.0, 69.074424870362], [526.0, 73.914215436527], [527.0, 74.572181819196], [528.0, 66.541004275586], [529.0, 70.365411763138], [530.0, 71.76940390268], [531.0, 78.903021106928], [532.0, 85.114261733663], [533.0, 87.468686256501], [534.0, 89.98177559584], [535.0, 96.956206806577], [536.0, 95.30085693427], [537.0, 102.15873497669], [538.0, 112.98399738955], [539.0, 104.8614616317], [540.0, 111.30248998705], [541.0, 122.5157567099], [542.0, 118.67223733001], [543.0, 119.35892069317], [544.0, 124.76735316852], [545.0, 120.11778685264], [546.0, 116.16733143492], [547.0, 108.47643694077], [548.0, 105.77318412236], [549.0, 114.96039565823], [550.0, 114.29538877569], [551.0, 101.69680999602], [552.0, 94.044912454993], [553.0, 93.919781198699], [554.0, 105.86737979984], [555.0, 91.054300233386], [556.0, 97.591938528951], [557.0, 93.428693404443], [558.0, 101.84313953637], [559.0, 104.24847718874], [560.0, 111.07719459177], [561.0, 111.55864373242], [562.0, 109.15491652711], [563.0, 114.38945378366], [564.0, 119.85115020417], [565.0, 135.8803615489], [566.0, 142.49633360184], [567.0, 142.48641460326], [568.0, 152.14268890314], [569.0, 143.43800769724], [570.0, 148.24848941629], [571.0, 164.0]]}, \"id\": \"el334754465653584\"});\n",
       "            })\n",
       "         });\n",
       "}\n",
       "</script>"
      ],
      "text/plain": [
       "<matplotlib.figure.Figure at 0x10a2c7750>"
      ]
     },
     "metadata": {},
     "output_type": "display_data"
    }
   ],
   "source": [
    "data = quandl.get(\"WIKI/AAPL.11\", rows=120, collapse='monthly', start_date=start_date)\n",
    "ax = data.plot()"
   ]
  },
  {
   "cell_type": "markdown",
   "metadata": {},
   "source": [
    "Great! Let's now focus on the full portfolio.\n",
    "\n",
    "\n",
    "## <font color='green'>You're now finished with this section! Let your facilitators know, and have a break.</font>\n",
    "\n",
    "![done](https://media.giphy.com/media/3o7TKLpxzkbvjwEgSc/giphy.gif)"
   ]
  },
  {
   "cell_type": "markdown",
   "metadata": {},
   "source": [
    "## 2. Sourcing more Data\n",
    "\n",
    "Now that we have access to stock data, let's pull in our list of Warren's 2003 aquisitions.\n",
    "\n",
    "First, we need to bring in the cleaned CSV file we exported from Open Refine, and store it as a variable. Let's call it `buffett`.\n",
    "\n",
    "Now let's take the output of the Open Refine scrubbing step and replace `your_clean_csv.csv` with that output,  :"
   ]
  },
  {
   "cell_type": "code",
   "execution_count": 16,
   "metadata": {},
   "outputs": [
    {
     "data": {
      "text/html": [
       "<div>\n",
       "<style>\n",
       "    .dataframe thead tr:only-child th {\n",
       "        text-align: right;\n",
       "    }\n",
       "\n",
       "    .dataframe thead th {\n",
       "        text-align: left;\n",
       "    }\n",
       "\n",
       "    .dataframe tbody tr th {\n",
       "        vertical-align: top;\n",
       "    }\n",
       "</style>\n",
       "<table border=\"1\" class=\"dataframe\">\n",
       "  <thead>\n",
       "    <tr style=\"text-align: right;\">\n",
       "      <th></th>\n",
       "      <th>COMPANY</th>\n",
       "      <th>TICKER</th>\n",
       "      <th># OF SHARES</th>\n",
       "      <th>PRICE (8/24/2017)</th>\n",
       "      <th>CITY</th>\n",
       "      <th>PURCHASE DATE</th>\n",
       "      <th>REGION</th>\n",
       "      <th>CEO</th>\n",
       "      <th>EMPLOYEES</th>\n",
       "      <th>WARREN COMMENT</th>\n",
       "    </tr>\n",
       "  </thead>\n",
       "  <tbody>\n",
       "    <tr>\n",
       "      <th>0</th>\n",
       "      <td>Kraft Heinz (KHC)</td>\n",
       "      <td>KHC</td>\n",
       "      <td>325,634,818</td>\n",
       "      <td>$82.80</td>\n",
       "      <td>Chicago, IL</td>\n",
       "      <td>9/27/2005</td>\n",
       "      <td>Central</td>\n",
       "      <td>Bernard Hees (2015–)</td>\n",
       "      <td>41,000 (2017)</td>\n",
       "      <td>Without a doubt</td>\n",
       "    </tr>\n",
       "    <tr>\n",
       "      <th>1</th>\n",
       "      <td>Wells Fargo (WFC)</td>\n",
       "      <td>WFC</td>\n",
       "      <td>467,987,270</td>\n",
       "      <td>$52.16</td>\n",
       "      <td>San Francisco, CA</td>\n",
       "      <td>7/7/2002</td>\n",
       "      <td>West</td>\n",
       "      <td>Timothy J. Sloan (Oct 12, 2016–)</td>\n",
       "      <td>NaN</td>\n",
       "      <td>It is decidedly so</td>\n",
       "    </tr>\n",
       "    <tr>\n",
       "      <th>2</th>\n",
       "      <td>Apple Inc. (AAPL)</td>\n",
       "      <td>AAPL</td>\n",
       "      <td>130,191,960</td>\n",
       "      <td>$159.27</td>\n",
       "      <td>Cupertino, CA</td>\n",
       "      <td>9/23/2006</td>\n",
       "      <td>West</td>\n",
       "      <td>Tim Cook</td>\n",
       "      <td>NaN</td>\n",
       "      <td>Concentrate and ask again</td>\n",
       "    </tr>\n",
       "    <tr>\n",
       "      <th>3</th>\n",
       "      <td>The Coca Cola Company (KO)</td>\n",
       "      <td>KO</td>\n",
       "      <td>400,000,000</td>\n",
       "      <td>$45.41</td>\n",
       "      <td>Atlanta, GA</td>\n",
       "      <td>12/10/2003</td>\n",
       "      <td>Southeast</td>\n",
       "      <td>James Quincey (May 1, 2017–)</td>\n",
       "      <td>NaN</td>\n",
       "      <td>Reply hazy try again</td>\n",
       "    </tr>\n",
       "    <tr>\n",
       "      <th>4</th>\n",
       "      <td>American Express Co (AXP)</td>\n",
       "      <td>AXP</td>\n",
       "      <td>151,610,700</td>\n",
       "      <td>$85.36</td>\n",
       "      <td>New York City, NY</td>\n",
       "      <td>6/2/2013</td>\n",
       "      <td>Northeast</td>\n",
       "      <td>Kenneth I. Chenault (Jan 2001–)</td>\n",
       "      <td>NaN</td>\n",
       "      <td>It is decidedly so</td>\n",
       "    </tr>\n",
       "  </tbody>\n",
       "</table>\n",
       "</div>"
      ],
      "text/plain": [
       "                      COMPANY TICKER  # OF SHARES PRICE (8/24/2017)  \\\n",
       "0           Kraft Heinz (KHC)    KHC  325,634,818            $82.80   \n",
       "1           Wells Fargo (WFC)    WFC  467,987,270            $52.16   \n",
       "2           Apple Inc. (AAPL)   AAPL  130,191,960           $159.27   \n",
       "3  The Coca Cola Company (KO)     KO  400,000,000            $45.41   \n",
       "4   American Express Co (AXP)    AXP  151,610,700            $85.36   \n",
       "\n",
       "                CITY PURCHASE DATE     REGION  \\\n",
       "0        Chicago, IL     9/27/2005    Central   \n",
       "1  San Francisco, CA      7/7/2002       West   \n",
       "2      Cupertino, CA     9/23/2006       West   \n",
       "3        Atlanta, GA    12/10/2003  Southeast   \n",
       "4  New York City, NY      6/2/2013  Northeast   \n",
       "\n",
       "                                CEO      EMPLOYEES             WARREN COMMENT  \n",
       "0              Bernard Hees (2015–)  41,000 (2017)            Without a doubt  \n",
       "1  Timothy J. Sloan (Oct 12, 2016–)            NaN         It is decidedly so  \n",
       "2                          Tim Cook            NaN  Concentrate and ask again  \n",
       "3      James Quincey (May 1, 2017–)            NaN       Reply hazy try again  \n",
       "4   Kenneth I. Chenault (Jan 2001–)            NaN         It is decidedly so  "
      ]
     },
     "execution_count": 16,
     "metadata": {},
     "output_type": "execute_result"
    }
   ],
   "source": [
    "from pandas import read_csv\n",
    "buffett = read_csv('WB_portfolio_for_Decoded-2017_0824-csv.csv')\n",
    "buffett.head(5)"
   ]
  },
  {
   "cell_type": "markdown",
   "metadata": {},
   "source": [
    "Next we want to choose some of those stocks for our analysis. We could either type out the ticker symbol (e.g. `MSFT`) by hand, or we could refer to the `buffett` variable in order to select the ticker symbols. Let's choose the first 3 stocks from `buffett`. Replace `buffett[0:0]` with **`buffett[0:3]`**:"
   ]
  },
  {
   "cell_type": "code",
   "execution_count": 17,
   "metadata": {},
   "outputs": [
    {
     "data": {
      "text/plain": [
       "['WIKI/KHC.11', 'WIKI/WFC.11', 'WIKI/AAPL.11']"
      ]
     },
     "execution_count": 17,
     "metadata": {},
     "output_type": "execute_result"
    }
   ],
   "source": [
    "symbols = [ 'WIKI/%s.11' % ticker for ticker in buffett['TICKER'][0:3] ]\n",
    "symbols"
   ]
  },
  {
   "cell_type": "markdown",
   "metadata": {},
   "source": [
    "We can now load in the symbol data from quandl:"
   ]
  },
  {
   "cell_type": "code",
   "execution_count": 18,
   "metadata": {},
   "outputs": [
    {
     "data": {
      "text/html": [
       "<div>\n",
       "<style>\n",
       "    .dataframe thead tr:only-child th {\n",
       "        text-align: right;\n",
       "    }\n",
       "\n",
       "    .dataframe thead th {\n",
       "        text-align: left;\n",
       "    }\n",
       "\n",
       "    .dataframe tbody tr th {\n",
       "        vertical-align: top;\n",
       "    }\n",
       "</style>\n",
       "<table border=\"1\" class=\"dataframe\">\n",
       "  <thead>\n",
       "    <tr style=\"text-align: right;\">\n",
       "      <th></th>\n",
       "      <th>WIKI/KHC - Adj. Close</th>\n",
       "      <th>WIKI/WFC - Adj. Close</th>\n",
       "      <th>WIKI/AAPL - Adj. Close</th>\n",
       "    </tr>\n",
       "    <tr>\n",
       "      <th>Date</th>\n",
       "      <th></th>\n",
       "      <th></th>\n",
       "      <th></th>\n",
       "    </tr>\n",
       "  </thead>\n",
       "  <tbody>\n",
       "    <tr>\n",
       "      <th>2007-09-30</th>\n",
       "      <td>NaN</td>\n",
       "      <td>27.366091</td>\n",
       "      <td>19.723034</td>\n",
       "    </tr>\n",
       "    <tr>\n",
       "      <th>2007-10-31</th>\n",
       "      <td>NaN</td>\n",
       "      <td>26.129162</td>\n",
       "      <td>24.411222</td>\n",
       "    </tr>\n",
       "    <tr>\n",
       "      <th>2007-11-30</th>\n",
       "      <td>NaN</td>\n",
       "      <td>25.166378</td>\n",
       "      <td>23.417810</td>\n",
       "    </tr>\n",
       "    <tr>\n",
       "      <th>2007-12-31</th>\n",
       "      <td>NaN</td>\n",
       "      <td>23.428090</td>\n",
       "      <td>25.456041</td>\n",
       "    </tr>\n",
       "    <tr>\n",
       "      <th>2008-01-31</th>\n",
       "      <td>NaN</td>\n",
       "      <td>26.446814</td>\n",
       "      <td>17.395647</td>\n",
       "    </tr>\n",
       "  </tbody>\n",
       "</table>\n",
       "</div>"
      ],
      "text/plain": [
       "            WIKI/KHC - Adj. Close  WIKI/WFC - Adj. Close  \\\n",
       "Date                                                       \n",
       "2007-09-30                    NaN              27.366091   \n",
       "2007-10-31                    NaN              26.129162   \n",
       "2007-11-30                    NaN              25.166378   \n",
       "2007-12-31                    NaN              23.428090   \n",
       "2008-01-31                    NaN              26.446814   \n",
       "\n",
       "            WIKI/AAPL - Adj. Close  \n",
       "Date                                \n",
       "2007-09-30               19.723034  \n",
       "2007-10-31               24.411222  \n",
       "2007-11-30               23.417810  \n",
       "2007-12-31               25.456041  \n",
       "2008-01-31               17.395647  "
      ]
     },
     "execution_count": 18,
     "metadata": {},
     "output_type": "execute_result"
    }
   ],
   "source": [
    "data = quandl.get(symbols, rows=121, collapse='monthly', start_date=start_date)\n",
    "data.head(5)"
   ]
  },
  {
   "cell_type": "code",
   "execution_count": 19,
   "metadata": {},
   "outputs": [
    {
     "data": {
      "text/html": [
       "<div>\n",
       "<style>\n",
       "    .dataframe thead tr:only-child th {\n",
       "        text-align: right;\n",
       "    }\n",
       "\n",
       "    .dataframe thead th {\n",
       "        text-align: left;\n",
       "    }\n",
       "\n",
       "    .dataframe tbody tr th {\n",
       "        vertical-align: top;\n",
       "    }\n",
       "</style>\n",
       "<table border=\"1\" class=\"dataframe\">\n",
       "  <thead>\n",
       "    <tr style=\"text-align: right;\">\n",
       "      <th></th>\n",
       "      <th>WIKI/KHC - Adj. Close</th>\n",
       "      <th>WIKI/WFC - Adj. Close</th>\n",
       "      <th>WIKI/AAPL - Adj. Close</th>\n",
       "    </tr>\n",
       "    <tr>\n",
       "      <th>Date</th>\n",
       "      <th></th>\n",
       "      <th></th>\n",
       "      <th></th>\n",
       "    </tr>\n",
       "  </thead>\n",
       "  <tbody>\n",
       "    <tr>\n",
       "      <th>2017-05-31</th>\n",
       "      <td>91.538594</td>\n",
       "      <td>50.770724</td>\n",
       "      <td>152.142689</td>\n",
       "    </tr>\n",
       "    <tr>\n",
       "      <th>2017-06-30</th>\n",
       "      <td>85.005796</td>\n",
       "      <td>55.009891</td>\n",
       "      <td>143.438008</td>\n",
       "    </tr>\n",
       "    <tr>\n",
       "      <th>2017-07-31</th>\n",
       "      <td>86.832597</td>\n",
       "      <td>53.550505</td>\n",
       "      <td>148.248489</td>\n",
       "    </tr>\n",
       "    <tr>\n",
       "      <th>2017-08-31</th>\n",
       "      <td>80.750000</td>\n",
       "      <td>51.070000</td>\n",
       "      <td>164.000000</td>\n",
       "    </tr>\n",
       "    <tr>\n",
       "      <th>2017-09-30</th>\n",
       "      <td>77.520000</td>\n",
       "      <td>54.250000</td>\n",
       "      <td>151.890000</td>\n",
       "    </tr>\n",
       "  </tbody>\n",
       "</table>\n",
       "</div>"
      ],
      "text/plain": [
       "            WIKI/KHC - Adj. Close  WIKI/WFC - Adj. Close  \\\n",
       "Date                                                       \n",
       "2017-05-31              91.538594              50.770724   \n",
       "2017-06-30              85.005796              55.009891   \n",
       "2017-07-31              86.832597              53.550505   \n",
       "2017-08-31              80.750000              51.070000   \n",
       "2017-09-30              77.520000              54.250000   \n",
       "\n",
       "            WIKI/AAPL - Adj. Close  \n",
       "Date                                \n",
       "2017-05-31              152.142689  \n",
       "2017-06-30              143.438008  \n",
       "2017-07-31              148.248489  \n",
       "2017-08-31              164.000000  \n",
       "2017-09-30              151.890000  "
      ]
     },
     "execution_count": 19,
     "metadata": {},
     "output_type": "execute_result"
    }
   ],
   "source": [
    "data.tail(5)"
   ]
  },
  {
   "cell_type": "markdown",
   "metadata": {},
   "source": [
    "Let's clean up the column name to just their symbol name by removing `WIKI/` and ` - Close` from each column name.\n",
    "\n",
    "We can iterate over the columns using the `for col in data.columns` syntax:"
   ]
  },
  {
   "cell_type": "code",
   "execution_count": 20,
   "metadata": {},
   "outputs": [
    {
     "data": {
      "text/html": [
       "<div>\n",
       "<style>\n",
       "    .dataframe thead tr:only-child th {\n",
       "        text-align: right;\n",
       "    }\n",
       "\n",
       "    .dataframe thead th {\n",
       "        text-align: left;\n",
       "    }\n",
       "\n",
       "    .dataframe tbody tr th {\n",
       "        vertical-align: top;\n",
       "    }\n",
       "</style>\n",
       "<table border=\"1\" class=\"dataframe\">\n",
       "  <thead>\n",
       "    <tr style=\"text-align: right;\">\n",
       "      <th></th>\n",
       "      <th>KHC</th>\n",
       "      <th>WFC</th>\n",
       "      <th>AAPL</th>\n",
       "    </tr>\n",
       "    <tr>\n",
       "      <th>Date</th>\n",
       "      <th></th>\n",
       "      <th></th>\n",
       "      <th></th>\n",
       "    </tr>\n",
       "  </thead>\n",
       "  <tbody>\n",
       "    <tr>\n",
       "      <th>2007-09-30</th>\n",
       "      <td>NaN</td>\n",
       "      <td>27.366091</td>\n",
       "      <td>19.723034</td>\n",
       "    </tr>\n",
       "    <tr>\n",
       "      <th>2007-10-31</th>\n",
       "      <td>NaN</td>\n",
       "      <td>26.129162</td>\n",
       "      <td>24.411222</td>\n",
       "    </tr>\n",
       "    <tr>\n",
       "      <th>2007-11-30</th>\n",
       "      <td>NaN</td>\n",
       "      <td>25.166378</td>\n",
       "      <td>23.417810</td>\n",
       "    </tr>\n",
       "    <tr>\n",
       "      <th>2007-12-31</th>\n",
       "      <td>NaN</td>\n",
       "      <td>23.428090</td>\n",
       "      <td>25.456041</td>\n",
       "    </tr>\n",
       "    <tr>\n",
       "      <th>2008-01-31</th>\n",
       "      <td>NaN</td>\n",
       "      <td>26.446814</td>\n",
       "      <td>17.395647</td>\n",
       "    </tr>\n",
       "  </tbody>\n",
       "</table>\n",
       "</div>"
      ],
      "text/plain": [
       "            KHC        WFC       AAPL\n",
       "Date                                 \n",
       "2007-09-30  NaN  27.366091  19.723034\n",
       "2007-10-31  NaN  26.129162  24.411222\n",
       "2007-11-30  NaN  25.166378  23.417810\n",
       "2007-12-31  NaN  23.428090  25.456041\n",
       "2008-01-31  NaN  26.446814  17.395647"
      ]
     },
     "execution_count": 20,
     "metadata": {},
     "output_type": "execute_result"
    }
   ],
   "source": [
    "data.columns = [col.replace(' - Adj. Close','').replace('WIKI/','') for col in data.columns]\n",
    "data.head(5)"
   ]
  },
  {
   "cell_type": "markdown",
   "metadata": {},
   "source": [
    "Let's have another quick look at the data, to make sure everything looks good.\n",
    "\n",
    "Add the code to plot the `data` (hint: you've used this code above already):"
   ]
  },
  {
   "cell_type": "code",
   "execution_count": 21,
   "metadata": {},
   "outputs": [
    {
     "data": {
      "text/plain": [
       "<matplotlib.axes._subplots.AxesSubplot at 0x10a58bf50>"
      ]
     },
     "execution_count": 21,
     "metadata": {},
     "output_type": "execute_result"
    },
    {
     "data": {
      "image/png": "[encoded data removed]",
      "text/html": [
       "\n",
       "\n",
       "<style>\n",
       "\n",
       "</style>\n",
       "\n",
       "<div id=\"fig_el3347544687623206154359514\"></div>\n",
       "<script>\n",
       "function mpld3_load_lib(url, callback){\n",
       "  var s = document.createElement('script');\n",
       "  s.src = url;\n",
       "  s.async = true;\n",
       "  s.onreadystatechange = s.onload = callback;\n",
       "  s.onerror = function(){console.warn(\"failed to load library \" + url);};\n",
       "  document.getElementsByTagName(\"head\")[0].appendChild(s);\n",
       "}\n",
       "\n",
       "if(typeof(mpld3) !== \"undefined\" && mpld3._mpld3IsLoaded){\n",
       "   // already loaded: just create the figure\n",
       "   !function(mpld3){\n",
       "       \n",
       "       mpld3.draw_figure(\"fig_el3347544687623206154359514\", {\"axes\": [{\"xlim\": [452.0, 572.0], \"yscale\": \"linear\", \"axesbg\": \"#FFFFFF\", \"texts\": [{\"v_baseline\": \"hanging\", \"h_anchor\": \"middle\", \"color\": \"#000000\", \"text\": \"Date\", \"coordinates\": \"axes\", \"zorder\": 3, \"alpha\": 1, \"fontsize\": 10.0, \"position\": [0.49999999999999994, -0.09657836644591611], \"rotation\": -0.0, \"id\": \"el334754467857360\"}, {\"v_baseline\": \"auto\", \"h_anchor\": \"start\", \"color\": \"#000000\", \"text\": \"KHC\", \"coordinates\": \"axes\", \"zorder\": 1000003.0, \"alpha\": 1, \"fontsize\": 10.0, \"position\": [0.11051373954599761, 0.9218175128771156], \"rotation\": -0.0, \"id\": \"el334754471412688\"}, {\"v_baseline\": \"auto\", \"h_anchor\": \"start\", \"color\": \"#000000\", \"text\": \"WFC\", \"coordinates\": \"axes\", \"zorder\": 1000003.0, \"alpha\": 1, \"fontsize\": 10.0, \"position\": [0.11051373954599761, 0.8528329654157469], \"rotation\": -0.0, \"id\": \"el334754471456272\"}, {\"v_baseline\": \"auto\", \"h_anchor\": \"start\", \"color\": \"#000000\", \"text\": \"AAPL\", \"coordinates\": \"axes\", \"zorder\": 1000003.0, \"alpha\": 1, \"fontsize\": 10.0, \"position\": [0.11051373954599761, 0.7838484179543782], \"rotation\": -0.0, \"id\": \"el334754471458896\"}], \"zoomable\": true, \"images\": [], \"xdomain\": [[2007, 8, 30, 0, 0, 0, 0], [2017, 8, 30, 0, 0, 0, 0]], \"ylim\": [2.2867777196021004, 171.7006296323999], \"paths\": [{\"edgecolor\": \"#CCCCCC\", \"facecolor\": \"#FFFFFF\", \"edgewidth\": 1.0, \"pathcodes\": [\"M\", \"L\", \"S\", \"L\", \"S\", \"L\", \"S\", \"L\", \"S\", \"Z\"], \"yindex\": 1, \"coordinates\": \"axes\", \"dasharray\": \"none\", \"zorder\": 1000000.0, \"alpha\": 0.8, \"xindex\": 0, \"data\": \"data03\", \"id\": \"el334754471324816\"}], \"sharey\": [], \"sharex\": [], \"axesbgalpha\": null, \"axes\": [{\"scale\": \"linear\", \"tickformat\": null, \"grid\": {\"gridOn\": false}, \"visible\": true, \"fontsize\": 10.0, \"position\": \"bottom\", \"nticks\": 10, \"tickvalues\": null}, {\"scale\": \"linear\", \"tickformat\": null, \"grid\": {\"gridOn\": false}, \"visible\": true, \"fontsize\": 10.0, \"position\": \"left\", \"nticks\": 10, \"tickvalues\": null}], \"lines\": [{\"drawstyle\": \"default\", \"color\": \"#1F77B4\", \"yindex\": 1, \"coordinates\": \"data\", \"dasharray\": \"none\", \"zorder\": 2, \"alpha\": 1, \"xindex\": 0, \"linewidth\": 1.5, \"data\": \"data01\", \"id\": \"el334754469357584\"}, {\"drawstyle\": \"default\", \"color\": \"#FF7F0E\", \"yindex\": 2, \"coordinates\": \"data\", \"dasharray\": \"none\", \"zorder\": 2, \"alpha\": 1, \"xindex\": 0, \"linewidth\": 1.5, \"data\": \"data01\", \"id\": \"el334754471325328\"}, {\"drawstyle\": \"default\", \"color\": \"#2CA02C\", \"yindex\": 3, \"coordinates\": \"data\", \"dasharray\": \"none\", \"zorder\": 2, \"alpha\": 1, \"xindex\": 0, \"linewidth\": 1.5, \"data\": \"data01\", \"id\": \"el334754468895632\"}, {\"drawstyle\": \"default\", \"color\": \"#1F77B4\", \"yindex\": 1, \"coordinates\": \"axes\", \"dasharray\": \"none\", \"zorder\": 1000002.0, \"alpha\": 1, \"xindex\": 0, \"linewidth\": 1.5, \"data\": \"data02\", \"id\": \"el334754471413520\"}, {\"drawstyle\": \"default\", \"color\": \"#FF7F0E\", \"yindex\": 2, \"coordinates\": \"axes\", \"dasharray\": \"none\", \"zorder\": 1000002.0, \"alpha\": 1, \"xindex\": 0, \"linewidth\": 1.5, \"data\": \"data02\", \"id\": \"el334754471457168\"}, {\"drawstyle\": \"default\", \"color\": \"#2CA02C\", \"yindex\": 3, \"coordinates\": \"axes\", \"dasharray\": \"none\", \"zorder\": 1000002.0, \"alpha\": 1, \"xindex\": 0, \"linewidth\": 1.5, \"data\": \"data02\", \"id\": \"el334754471459792\"}], \"markers\": [], \"id\": \"el334754468555600\", \"ydomain\": [2.2867777196021004, 171.7006296323999], \"collections\": [], \"xscale\": \"date\", \"bbox\": [0.125, 0.125, 0.775, 0.755]}], \"height\": 288.0, \"width\": 432.0, \"plugins\": [{\"type\": \"reset\"}, {\"enabled\": false, \"button\": true, \"type\": \"zoom\"}, {\"enabled\": false, \"button\": true, \"type\": \"boxzoom\"}], \"data\": {\"data02\": [[0.026881720430107503, 0.9379139072847682, 0.8689293598233996, 0.7999448123620309], [0.08661887694145756, 0.9379139072847682, 0.8689293598233996, 0.7999448123620309]], \"data03\": [[0.020908004778972505, 0.7562545989698307], [0.19190561529271202, 0.7562545989698307], [0.19787933094384705, 0.7562545989698307], [0.19787933094384705, 0.7654525386313465], [0.19787933094384705, 0.9678072111846947], [0.19787933094384705, 0.9770051508462105], [0.19190561529271202, 0.9770051508462105], [0.020908004778972505, 0.9770051508462105], [0.014934289127837508, 0.9770051508462105], [0.014934289127837508, 0.9678072111846947], [0.014934289127837508, 0.7654525386313465], [0.014934289127837508, 0.7562545989698307], [0.020908004778972505, 0.7562545989698307]], \"data01\": [[452.0, NaN, 27.366091029719, 19.723034011231], [453.0, NaN, 26.129162153867, 24.411222456723], [454.0, NaN, 25.166378433743, 23.417809718684], [455.0, NaN, 23.428090191635, 25.456040769822], [456.0, NaN, 26.446813969225, 17.395646600379], [457.0, NaN, 22.916878264786, 16.066812485072], [458.0, NaN, 22.814955781912, 18.441750052855], [459.0, NaN, 23.324568196284, 22.354999454314], [460.0, NaN, 21.839512782252, 24.257005731542], [461.0, NaN, 18.813508472198, 21.518373720209], [462.0, NaN, 23.978311640144, 20.427290389556], [463.0, NaN, 24.247286432544, 21.786967849899], [464.0, NaN, 30.062790215176, 14.606894153362], [465.0, NaN, 27.275193360691, 13.826814551823], [466.0, NaN, 23.390226016419, 11.909386602077], [467.0, NaN, 23.867908029216, 10.968664578475], [468.0, NaN, 15.302017020088, 11.582961200445], [469.0, NaN, 9.987407352002, 11.477579771571], [470.0, NaN, 11.753775263844, 13.509385125826], [471.0, NaN, 16.516365381286, 16.170908774569], [472.0, NaN, 21.087051779849, 17.453477872322], [473.0, NaN, 20.061642203104, 18.304240139569], [474.0, NaN, 20.227030844514, 20.997892272724], [475.0, NaN, 22.798086403311, 21.6173294522], [476.0, NaN, 23.344842835948, 23.820058343531], [477.0, NaN, 22.798086403311, 24.22487724713], [478.0, NaN, 23.272169314678, 25.691221275723], [479.0, NaN, 22.400707910241, 27.081999108977], [480.0, NaN, 23.595854979183, 24.682772406979], [481.0, NaN, 22.731513444209, 26.296521922057], [482.0, NaN, 25.874348880168, 30.200775347881], [483.0, NaN, 27.528910392749, 33.553703981184], [484.0, NaN, 23.890473279224, 33.012660303675], [485.0, NaN, 21.31739686121, 32.325110737244], [486.0, NaN, 23.091070896928, 33.060210460605], [487.0, NaN, 19.64544591999, 31.24173824285], [488.0, NaN, 20.95097130703, 36.465829808345], [489.0, NaN, 21.739291748406, 38.680124954064], [490.0, NaN, 22.741515837121, 39.98711169997], [491.0, NaN, 25.900756184946, 41.453455728563], [492.0, NaN, 27.095918538753, 43.607349323587], [493.0, NaN, 27.003395476407, 45.392407917553], [494.0, NaN, 26.601924878653, 44.788071125751], [495.0, NaN, 24.42075159942, 44.996584989589], [496.0, NaN, 23.899191524973, 44.701002932993], [497.0, NaN, 23.638044208345, 43.138273451162], [498.0, NaN, 23.536954924489, 50.182122373789], [499.0, NaN, 22.083565037547, 49.456018626063], [500.0, NaN, 20.408260103664, 49.00493470491], [501.0, NaN, 21.922803452983, 52.019871682192], [502.0, NaN, 21.984155875193, 49.118026970042], [503.0, NaN, 23.429363337986, 52.048144748475], [504.0, NaN, 24.832064698932, 58.664042258726], [505.0, NaN, 26.70711138368, 69.711100339167], [506.0, NaN, 29.227048519308, 77.050531318391], [507.0, NaN, 28.606380382914, 75.049569309172], [508.0, NaN, 27.617624986873, 74.246357198856], [509.0, NaN, 28.815394058067, 75.052139587925], [510.0, NaN, 29.13422467414, 78.491172559453], [511.0, NaN, 29.514551732024, 85.857594115654], [512.0, NaN, 29.948206620828, 86.098295836876], [513.0, NaN, 29.219666407637, 76.83353816507], [514.0, NaN, 28.821283697695, 75.896485214554], [515.0, NaN, 29.842819654262, 69.009794690466], [516.0, NaN, 30.627742687255, 59.065900168086], [517.0, NaN, 30.8475800594, 57.562728311726], [518.0, NaN, 32.527137582588, 57.727044210395], [519.0, NaN, 33.397693576283, 57.742693343602], [520.0, NaN, 35.935834675552, 59.041313847026], [521.0, NaN, 36.57390621603, 52.056549256254], [522.0, NaN, 38.550155570567, 59.40824208744], [523.0, NaN, 36.657933387445, 64.384993720396], [524.0, NaN, 36.872098528949, 63.001924723734], [525.0, NaN, 38.094624545034, 69.074424870362], [526.0, NaN, 39.559129248138, 73.914215436527], [527.0, NaN, 40.799283686175, 74.572181819196], [528.0, NaN, 40.745363928, 66.541004275586], [529.0, NaN, 41.998867254847, 70.365411763138], [530.0, NaN, 45.002663878847, 71.76940390268], [531.0, NaN, 44.912188076919, 78.903021106928], [532.0, NaN, 46.269189547841, 85.114261733663], [533.0, NaN, 47.891071339789, 87.468686256501], [534.0, NaN, 46.378529893365, 89.98177559584], [535.0, NaN, 47.198262137537, 96.956206806577], [536.0, NaN, 47.592804375467, 95.30085693427], [537.0, NaN, 48.712203283084, 102.15873497669], [538.0, NaN, 50.314422309488, 112.98399738955], [539.0, NaN, 50.628425679261, 104.8614616317], [540.0, NaN, 47.950161642963, 111.30248998705], [541.0, NaN, 50.934686156653, 122.5157567099], [542.0, NaN, 50.572128616936, 118.67223733001], [543.0, NaN, 51.222872918992, 119.35892069317], [544.0, NaN, 52.377573352296, 124.76735316852], [545.0, NaN, 52.639648415531, 120.11778685264], [546.0, 74.490493466069, 54.165299676508, 116.16733143492], [547.0, 68.107200896496, 50.240631438077, 108.47643694077], [548.0, 66.120037864559, 48.375331414687, 105.77318412236], [549.0, 73.084481886868, 51.003708720373, 114.96039565823], [550.0, 69.632842445394, 52.264738901248, 114.29538877569], [551.0, 69.307892228966, 51.562816818001, 101.69680999602], [552.0, 74.356433031791, 47.645332758797, 94.044912454993], [553.0, 73.365775968595, 44.856276527438, 93.919781198699], [554.0, 75.384149765237, 46.232939745672, 105.86737979984], [555.0, 74.913958403412, 47.781685866184, 91.054300233386], [556.0, 80.3716622509, 48.865637028736, 97.591938528951], [557.0, 85.482445918496, 45.599578086949, 93.428693404443], [558.0, 83.463251615041, 46.216179185104, 101.84313953637], [559.0, 87.041420911462, 49.333677703594, 104.24847718874], [560.0, 87.060873681807, 43.001874974707, 111.07719459177], [561.0, 86.51619611213, 44.681939195715, 111.55864373242], [562.0, 79.999518046349, 51.824163421622, 109.15491652711], [563.0, 85.554904051527, 53.968814175464, 114.38945378366], [564.0, 87.485082257911, 55.163551125094, 119.85115020417], [565.0, 89.660206937187, 57.066697924081, 135.8803615489], [566.0, 89.558241906473, 54.877892302252, 142.49633360184], [567.0, 89.104582713906, 53.083466071743, 142.48641460326], [568.0, 91.538593974175, 50.770723940011, 152.14268890314], [569.0, 85.005796269727, 55.00989076097, 143.43800769724], [570.0, 86.832596843615, 53.550505461951, 148.24848941629], [571.0, 80.75, 51.07, 164.0], [572.0, 77.52, 54.25, 151.89]]}, \"id\": \"el334754468762320\"});\n",
       "   }(mpld3);\n",
       "}else if(typeof define === \"function\" && define.amd){\n",
       "   // require.js is available: use it to load d3/mpld3\n",
       "   require.config({paths: {d3: \"https://mpld3.github.io/js/d3.v3.min\"}});\n",
       "   require([\"d3\"], function(d3){\n",
       "      window.d3 = d3;\n",
       "      mpld3_load_lib(\"https://mpld3.github.io/js/mpld3.v0.3.js\", function(){\n",
       "         \n",
       "         mpld3.draw_figure(\"fig_el3347544687623206154359514\", {\"axes\": [{\"xlim\": [452.0, 572.0], \"yscale\": \"linear\", \"axesbg\": \"#FFFFFF\", \"texts\": [{\"v_baseline\": \"hanging\", \"h_anchor\": \"middle\", \"color\": \"#000000\", \"text\": \"Date\", \"coordinates\": \"axes\", \"zorder\": 3, \"alpha\": 1, \"fontsize\": 10.0, \"position\": [0.49999999999999994, -0.09657836644591611], \"rotation\": -0.0, \"id\": \"el334754467857360\"}, {\"v_baseline\": \"auto\", \"h_anchor\": \"start\", \"color\": \"#000000\", \"text\": \"KHC\", \"coordinates\": \"axes\", \"zorder\": 1000003.0, \"alpha\": 1, \"fontsize\": 10.0, \"position\": [0.11051373954599761, 0.9218175128771156], \"rotation\": -0.0, \"id\": \"el334754471412688\"}, {\"v_baseline\": \"auto\", \"h_anchor\": \"start\", \"color\": \"#000000\", \"text\": \"WFC\", \"coordinates\": \"axes\", \"zorder\": 1000003.0, \"alpha\": 1, \"fontsize\": 10.0, \"position\": [0.11051373954599761, 0.8528329654157469], \"rotation\": -0.0, \"id\": \"el334754471456272\"}, {\"v_baseline\": \"auto\", \"h_anchor\": \"start\", \"color\": \"#000000\", \"text\": \"AAPL\", \"coordinates\": \"axes\", \"zorder\": 1000003.0, \"alpha\": 1, \"fontsize\": 10.0, \"position\": [0.11051373954599761, 0.7838484179543782], \"rotation\": -0.0, \"id\": \"el334754471458896\"}], \"zoomable\": true, \"images\": [], \"xdomain\": [[2007, 8, 30, 0, 0, 0, 0], [2017, 8, 30, 0, 0, 0, 0]], \"ylim\": [2.2867777196021004, 171.7006296323999], \"paths\": [{\"edgecolor\": \"#CCCCCC\", \"facecolor\": \"#FFFFFF\", \"edgewidth\": 1.0, \"pathcodes\": [\"M\", \"L\", \"S\", \"L\", \"S\", \"L\", \"S\", \"L\", \"S\", \"Z\"], \"yindex\": 1, \"coordinates\": \"axes\", \"dasharray\": \"none\", \"zorder\": 1000000.0, \"alpha\": 0.8, \"xindex\": 0, \"data\": \"data03\", \"id\": \"el334754471324816\"}], \"sharey\": [], \"sharex\": [], \"axesbgalpha\": null, \"axes\": [{\"scale\": \"linear\", \"tickformat\": null, \"grid\": {\"gridOn\": false}, \"visible\": true, \"fontsize\": 10.0, \"position\": \"bottom\", \"nticks\": 10, \"tickvalues\": null}, {\"scale\": \"linear\", \"tickformat\": null, \"grid\": {\"gridOn\": false}, \"visible\": true, \"fontsize\": 10.0, \"position\": \"left\", \"nticks\": 10, \"tickvalues\": null}], \"lines\": [{\"drawstyle\": \"default\", \"color\": \"#1F77B4\", \"yindex\": 1, \"coordinates\": \"data\", \"dasharray\": \"none\", \"zorder\": 2, \"alpha\": 1, \"xindex\": 0, \"linewidth\": 1.5, \"data\": \"data01\", \"id\": \"el334754469357584\"}, {\"drawstyle\": \"default\", \"color\": \"#FF7F0E\", \"yindex\": 2, \"coordinates\": \"data\", \"dasharray\": \"none\", \"zorder\": 2, \"alpha\": 1, \"xindex\": 0, \"linewidth\": 1.5, \"data\": \"data01\", \"id\": \"el334754471325328\"}, {\"drawstyle\": \"default\", \"color\": \"#2CA02C\", \"yindex\": 3, \"coordinates\": \"data\", \"dasharray\": \"none\", \"zorder\": 2, \"alpha\": 1, \"xindex\": 0, \"linewidth\": 1.5, \"data\": \"data01\", \"id\": \"el334754468895632\"}, {\"drawstyle\": \"default\", \"color\": \"#1F77B4\", \"yindex\": 1, \"coordinates\": \"axes\", \"dasharray\": \"none\", \"zorder\": 1000002.0, \"alpha\": 1, \"xindex\": 0, \"linewidth\": 1.5, \"data\": \"data02\", \"id\": \"el334754471413520\"}, {\"drawstyle\": \"default\", \"color\": \"#FF7F0E\", \"yindex\": 2, \"coordinates\": \"axes\", \"dasharray\": \"none\", \"zorder\": 1000002.0, \"alpha\": 1, \"xindex\": 0, \"linewidth\": 1.5, \"data\": \"data02\", \"id\": \"el334754471457168\"}, {\"drawstyle\": \"default\", \"color\": \"#2CA02C\", \"yindex\": 3, \"coordinates\": \"axes\", \"dasharray\": \"none\", \"zorder\": 1000002.0, \"alpha\": 1, \"xindex\": 0, \"linewidth\": 1.5, \"data\": \"data02\", \"id\": \"el334754471459792\"}], \"markers\": [], \"id\": \"el334754468555600\", \"ydomain\": [2.2867777196021004, 171.7006296323999], \"collections\": [], \"xscale\": \"date\", \"bbox\": [0.125, 0.125, 0.775, 0.755]}], \"height\": 288.0, \"width\": 432.0, \"plugins\": [{\"type\": \"reset\"}, {\"enabled\": false, \"button\": true, \"type\": \"zoom\"}, {\"enabled\": false, \"button\": true, \"type\": \"boxzoom\"}], \"data\": {\"data02\": [[0.026881720430107503, 0.9379139072847682, 0.8689293598233996, 0.7999448123620309], [0.08661887694145756, 0.9379139072847682, 0.8689293598233996, 0.7999448123620309]], \"data03\": [[0.020908004778972505, 0.7562545989698307], [0.19190561529271202, 0.7562545989698307], [0.19787933094384705, 0.7562545989698307], [0.19787933094384705, 0.7654525386313465], [0.19787933094384705, 0.9678072111846947], [0.19787933094384705, 0.9770051508462105], [0.19190561529271202, 0.9770051508462105], [0.020908004778972505, 0.9770051508462105], [0.014934289127837508, 0.9770051508462105], [0.014934289127837508, 0.9678072111846947], [0.014934289127837508, 0.7654525386313465], [0.014934289127837508, 0.7562545989698307], [0.020908004778972505, 0.7562545989698307]], \"data01\": [[452.0, NaN, 27.366091029719, 19.723034011231], [453.0, NaN, 26.129162153867, 24.411222456723], [454.0, NaN, 25.166378433743, 23.417809718684], [455.0, NaN, 23.428090191635, 25.456040769822], [456.0, NaN, 26.446813969225, 17.395646600379], [457.0, NaN, 22.916878264786, 16.066812485072], [458.0, NaN, 22.814955781912, 18.441750052855], [459.0, NaN, 23.324568196284, 22.354999454314], [460.0, NaN, 21.839512782252, 24.257005731542], [461.0, NaN, 18.813508472198, 21.518373720209], [462.0, NaN, 23.978311640144, 20.427290389556], [463.0, NaN, 24.247286432544, 21.786967849899], [464.0, NaN, 30.062790215176, 14.606894153362], [465.0, NaN, 27.275193360691, 13.826814551823], [466.0, NaN, 23.390226016419, 11.909386602077], [467.0, NaN, 23.867908029216, 10.968664578475], [468.0, NaN, 15.302017020088, 11.582961200445], [469.0, NaN, 9.987407352002, 11.477579771571], [470.0, NaN, 11.753775263844, 13.509385125826], [471.0, NaN, 16.516365381286, 16.170908774569], [472.0, NaN, 21.087051779849, 17.453477872322], [473.0, NaN, 20.061642203104, 18.304240139569], [474.0, NaN, 20.227030844514, 20.997892272724], [475.0, NaN, 22.798086403311, 21.6173294522], [476.0, NaN, 23.344842835948, 23.820058343531], [477.0, NaN, 22.798086403311, 24.22487724713], [478.0, NaN, 23.272169314678, 25.691221275723], [479.0, NaN, 22.400707910241, 27.081999108977], [480.0, NaN, 23.595854979183, 24.682772406979], [481.0, NaN, 22.731513444209, 26.296521922057], [482.0, NaN, 25.874348880168, 30.200775347881], [483.0, NaN, 27.528910392749, 33.553703981184], [484.0, NaN, 23.890473279224, 33.012660303675], [485.0, NaN, 21.31739686121, 32.325110737244], [486.0, NaN, 23.091070896928, 33.060210460605], [487.0, NaN, 19.64544591999, 31.24173824285], [488.0, NaN, 20.95097130703, 36.465829808345], [489.0, NaN, 21.739291748406, 38.680124954064], [490.0, NaN, 22.741515837121, 39.98711169997], [491.0, NaN, 25.900756184946, 41.453455728563], [492.0, NaN, 27.095918538753, 43.607349323587], [493.0, NaN, 27.003395476407, 45.392407917553], [494.0, NaN, 26.601924878653, 44.788071125751], [495.0, NaN, 24.42075159942, 44.996584989589], [496.0, NaN, 23.899191524973, 44.701002932993], [497.0, NaN, 23.638044208345, 43.138273451162], [498.0, NaN, 23.536954924489, 50.182122373789], [499.0, NaN, 22.083565037547, 49.456018626063], [500.0, NaN, 20.408260103664, 49.00493470491], [501.0, NaN, 21.922803452983, 52.019871682192], [502.0, NaN, 21.984155875193, 49.118026970042], [503.0, NaN, 23.429363337986, 52.048144748475], [504.0, NaN, 24.832064698932, 58.664042258726], [505.0, NaN, 26.70711138368, 69.711100339167], [506.0, NaN, 29.227048519308, 77.050531318391], [507.0, NaN, 28.606380382914, 75.049569309172], [508.0, NaN, 27.617624986873, 74.246357198856], [509.0, NaN, 28.815394058067, 75.052139587925], [510.0, NaN, 29.13422467414, 78.491172559453], [511.0, NaN, 29.514551732024, 85.857594115654], [512.0, NaN, 29.948206620828, 86.098295836876], [513.0, NaN, 29.219666407637, 76.83353816507], [514.0, NaN, 28.821283697695, 75.896485214554], [515.0, NaN, 29.842819654262, 69.009794690466], [516.0, NaN, 30.627742687255, 59.065900168086], [517.0, NaN, 30.8475800594, 57.562728311726], [518.0, NaN, 32.527137582588, 57.727044210395], [519.0, NaN, 33.397693576283, 57.742693343602], [520.0, NaN, 35.935834675552, 59.041313847026], [521.0, NaN, 36.57390621603, 52.056549256254], [522.0, NaN, 38.550155570567, 59.40824208744], [523.0, NaN, 36.657933387445, 64.384993720396], [524.0, NaN, 36.872098528949, 63.001924723734], [525.0, NaN, 38.094624545034, 69.074424870362], [526.0, NaN, 39.559129248138, 73.914215436527], [527.0, NaN, 40.799283686175, 74.572181819196], [528.0, NaN, 40.745363928, 66.541004275586], [529.0, NaN, 41.998867254847, 70.365411763138], [530.0, NaN, 45.002663878847, 71.76940390268], [531.0, NaN, 44.912188076919, 78.903021106928], [532.0, NaN, 46.269189547841, 85.114261733663], [533.0, NaN, 47.891071339789, 87.468686256501], [534.0, NaN, 46.378529893365, 89.98177559584], [535.0, NaN, 47.198262137537, 96.956206806577], [536.0, NaN, 47.592804375467, 95.30085693427], [537.0, NaN, 48.712203283084, 102.15873497669], [538.0, NaN, 50.314422309488, 112.98399738955], [539.0, NaN, 50.628425679261, 104.8614616317], [540.0, NaN, 47.950161642963, 111.30248998705], [541.0, NaN, 50.934686156653, 122.5157567099], [542.0, NaN, 50.572128616936, 118.67223733001], [543.0, NaN, 51.222872918992, 119.35892069317], [544.0, NaN, 52.377573352296, 124.76735316852], [545.0, NaN, 52.639648415531, 120.11778685264], [546.0, 74.490493466069, 54.165299676508, 116.16733143492], [547.0, 68.107200896496, 50.240631438077, 108.47643694077], [548.0, 66.120037864559, 48.375331414687, 105.77318412236], [549.0, 73.084481886868, 51.003708720373, 114.96039565823], [550.0, 69.632842445394, 52.264738901248, 114.29538877569], [551.0, 69.307892228966, 51.562816818001, 101.69680999602], [552.0, 74.356433031791, 47.645332758797, 94.044912454993], [553.0, 73.365775968595, 44.856276527438, 93.919781198699], [554.0, 75.384149765237, 46.232939745672, 105.86737979984], [555.0, 74.913958403412, 47.781685866184, 91.054300233386], [556.0, 80.3716622509, 48.865637028736, 97.591938528951], [557.0, 85.482445918496, 45.599578086949, 93.428693404443], [558.0, 83.463251615041, 46.216179185104, 101.84313953637], [559.0, 87.041420911462, 49.333677703594, 104.24847718874], [560.0, 87.060873681807, 43.001874974707, 111.07719459177], [561.0, 86.51619611213, 44.681939195715, 111.55864373242], [562.0, 79.999518046349, 51.824163421622, 109.15491652711], [563.0, 85.554904051527, 53.968814175464, 114.38945378366], [564.0, 87.485082257911, 55.163551125094, 119.85115020417], [565.0, 89.660206937187, 57.066697924081, 135.8803615489], [566.0, 89.558241906473, 54.877892302252, 142.49633360184], [567.0, 89.104582713906, 53.083466071743, 142.48641460326], [568.0, 91.538593974175, 50.770723940011, 152.14268890314], [569.0, 85.005796269727, 55.00989076097, 143.43800769724], [570.0, 86.832596843615, 53.550505461951, 148.24848941629], [571.0, 80.75, 51.07, 164.0], [572.0, 77.52, 54.25, 151.89]]}, \"id\": \"el334754468762320\"});\n",
       "      });\n",
       "    });\n",
       "}else{\n",
       "    // require.js not available: dynamically load d3 & mpld3\n",
       "    mpld3_load_lib(\"https://mpld3.github.io/js/d3.v3.min.js\", function(){\n",
       "         mpld3_load_lib(\"https://mpld3.github.io/js/mpld3.v0.3.js\", function(){\n",
       "                 \n",
       "                 mpld3.draw_figure(\"fig_el3347544687623206154359514\", {\"axes\": [{\"xlim\": [452.0, 572.0], \"yscale\": \"linear\", \"axesbg\": \"#FFFFFF\", \"texts\": [{\"v_baseline\": \"hanging\", \"h_anchor\": \"middle\", \"color\": \"#000000\", \"text\": \"Date\", \"coordinates\": \"axes\", \"zorder\": 3, \"alpha\": 1, \"fontsize\": 10.0, \"position\": [0.49999999999999994, -0.09657836644591611], \"rotation\": -0.0, \"id\": \"el334754467857360\"}, {\"v_baseline\": \"auto\", \"h_anchor\": \"start\", \"color\": \"#000000\", \"text\": \"KHC\", \"coordinates\": \"axes\", \"zorder\": 1000003.0, \"alpha\": 1, \"fontsize\": 10.0, \"position\": [0.11051373954599761, 0.9218175128771156], \"rotation\": -0.0, \"id\": \"el334754471412688\"}, {\"v_baseline\": \"auto\", \"h_anchor\": \"start\", \"color\": \"#000000\", \"text\": \"WFC\", \"coordinates\": \"axes\", \"zorder\": 1000003.0, \"alpha\": 1, \"fontsize\": 10.0, \"position\": [0.11051373954599761, 0.8528329654157469], \"rotation\": -0.0, \"id\": \"el334754471456272\"}, {\"v_baseline\": \"auto\", \"h_anchor\": \"start\", \"color\": \"#000000\", \"text\": \"AAPL\", \"coordinates\": \"axes\", \"zorder\": 1000003.0, \"alpha\": 1, \"fontsize\": 10.0, \"position\": [0.11051373954599761, 0.7838484179543782], \"rotation\": -0.0, \"id\": \"el334754471458896\"}], \"zoomable\": true, \"images\": [], \"xdomain\": [[2007, 8, 30, 0, 0, 0, 0], [2017, 8, 30, 0, 0, 0, 0]], \"ylim\": [2.2867777196021004, 171.7006296323999], \"paths\": [{\"edgecolor\": \"#CCCCCC\", \"facecolor\": \"#FFFFFF\", \"edgewidth\": 1.0, \"pathcodes\": [\"M\", \"L\", \"S\", \"L\", \"S\", \"L\", \"S\", \"L\", \"S\", \"Z\"], \"yindex\": 1, \"coordinates\": \"axes\", \"dasharray\": \"none\", \"zorder\": 1000000.0, \"alpha\": 0.8, \"xindex\": 0, \"data\": \"data03\", \"id\": \"el334754471324816\"}], \"sharey\": [], \"sharex\": [], \"axesbgalpha\": null, \"axes\": [{\"scale\": \"linear\", \"tickformat\": null, \"grid\": {\"gridOn\": false}, \"visible\": true, \"fontsize\": 10.0, \"position\": \"bottom\", \"nticks\": 10, \"tickvalues\": null}, {\"scale\": \"linear\", \"tickformat\": null, \"grid\": {\"gridOn\": false}, \"visible\": true, \"fontsize\": 10.0, \"position\": \"left\", \"nticks\": 10, \"tickvalues\": null}], \"lines\": [{\"drawstyle\": \"default\", \"color\": \"#1F77B4\", \"yindex\": 1, \"coordinates\": \"data\", \"dasharray\": \"none\", \"zorder\": 2, \"alpha\": 1, \"xindex\": 0, \"linewidth\": 1.5, \"data\": \"data01\", \"id\": \"el334754469357584\"}, {\"drawstyle\": \"default\", \"color\": \"#FF7F0E\", \"yindex\": 2, \"coordinates\": \"data\", \"dasharray\": \"none\", \"zorder\": 2, \"alpha\": 1, \"xindex\": 0, \"linewidth\": 1.5, \"data\": \"data01\", \"id\": \"el334754471325328\"}, {\"drawstyle\": \"default\", \"color\": \"#2CA02C\", \"yindex\": 3, \"coordinates\": \"data\", \"dasharray\": \"none\", \"zorder\": 2, \"alpha\": 1, \"xindex\": 0, \"linewidth\": 1.5, \"data\": \"data01\", \"id\": \"el334754468895632\"}, {\"drawstyle\": \"default\", \"color\": \"#1F77B4\", \"yindex\": 1, \"coordinates\": \"axes\", \"dasharray\": \"none\", \"zorder\": 1000002.0, \"alpha\": 1, \"xindex\": 0, \"linewidth\": 1.5, \"data\": \"data02\", \"id\": \"el334754471413520\"}, {\"drawstyle\": \"default\", \"color\": \"#FF7F0E\", \"yindex\": 2, \"coordinates\": \"axes\", \"dasharray\": \"none\", \"zorder\": 1000002.0, \"alpha\": 1, \"xindex\": 0, \"linewidth\": 1.5, \"data\": \"data02\", \"id\": \"el334754471457168\"}, {\"drawstyle\": \"default\", \"color\": \"#2CA02C\", \"yindex\": 3, \"coordinates\": \"axes\", \"dasharray\": \"none\", \"zorder\": 1000002.0, \"alpha\": 1, \"xindex\": 0, \"linewidth\": 1.5, \"data\": \"data02\", \"id\": \"el334754471459792\"}], \"markers\": [], \"id\": \"el334754468555600\", \"ydomain\": [2.2867777196021004, 171.7006296323999], \"collections\": [], \"xscale\": \"date\", \"bbox\": [0.125, 0.125, 0.775, 0.755]}], \"height\": 288.0, \"width\": 432.0, \"plugins\": [{\"type\": \"reset\"}, {\"enabled\": false, \"button\": true, \"type\": \"zoom\"}, {\"enabled\": false, \"button\": true, \"type\": \"boxzoom\"}], \"data\": {\"data02\": [[0.026881720430107503, 0.9379139072847682, 0.8689293598233996, 0.7999448123620309], [0.08661887694145756, 0.9379139072847682, 0.8689293598233996, 0.7999448123620309]], \"data03\": [[0.020908004778972505, 0.7562545989698307], [0.19190561529271202, 0.7562545989698307], [0.19787933094384705, 0.7562545989698307], [0.19787933094384705, 0.7654525386313465], [0.19787933094384705, 0.9678072111846947], [0.19787933094384705, 0.9770051508462105], [0.19190561529271202, 0.9770051508462105], [0.020908004778972505, 0.9770051508462105], [0.014934289127837508, 0.9770051508462105], [0.014934289127837508, 0.9678072111846947], [0.014934289127837508, 0.7654525386313465], [0.014934289127837508, 0.7562545989698307], [0.020908004778972505, 0.7562545989698307]], \"data01\": [[452.0, NaN, 27.366091029719, 19.723034011231], [453.0, NaN, 26.129162153867, 24.411222456723], [454.0, NaN, 25.166378433743, 23.417809718684], [455.0, NaN, 23.428090191635, 25.456040769822], [456.0, NaN, 26.446813969225, 17.395646600379], [457.0, NaN, 22.916878264786, 16.066812485072], [458.0, NaN, 22.814955781912, 18.441750052855], [459.0, NaN, 23.324568196284, 22.354999454314], [460.0, NaN, 21.839512782252, 24.257005731542], [461.0, NaN, 18.813508472198, 21.518373720209], [462.0, NaN, 23.978311640144, 20.427290389556], [463.0, NaN, 24.247286432544, 21.786967849899], [464.0, NaN, 30.062790215176, 14.606894153362], [465.0, NaN, 27.275193360691, 13.826814551823], [466.0, NaN, 23.390226016419, 11.909386602077], [467.0, NaN, 23.867908029216, 10.968664578475], [468.0, NaN, 15.302017020088, 11.582961200445], [469.0, NaN, 9.987407352002, 11.477579771571], [470.0, NaN, 11.753775263844, 13.509385125826], [471.0, NaN, 16.516365381286, 16.170908774569], [472.0, NaN, 21.087051779849, 17.453477872322], [473.0, NaN, 20.061642203104, 18.304240139569], [474.0, NaN, 20.227030844514, 20.997892272724], [475.0, NaN, 22.798086403311, 21.6173294522], [476.0, NaN, 23.344842835948, 23.820058343531], [477.0, NaN, 22.798086403311, 24.22487724713], [478.0, NaN, 23.272169314678, 25.691221275723], [479.0, NaN, 22.400707910241, 27.081999108977], [480.0, NaN, 23.595854979183, 24.682772406979], [481.0, NaN, 22.731513444209, 26.296521922057], [482.0, NaN, 25.874348880168, 30.200775347881], [483.0, NaN, 27.528910392749, 33.553703981184], [484.0, NaN, 23.890473279224, 33.012660303675], [485.0, NaN, 21.31739686121, 32.325110737244], [486.0, NaN, 23.091070896928, 33.060210460605], [487.0, NaN, 19.64544591999, 31.24173824285], [488.0, NaN, 20.95097130703, 36.465829808345], [489.0, NaN, 21.739291748406, 38.680124954064], [490.0, NaN, 22.741515837121, 39.98711169997], [491.0, NaN, 25.900756184946, 41.453455728563], [492.0, NaN, 27.095918538753, 43.607349323587], [493.0, NaN, 27.003395476407, 45.392407917553], [494.0, NaN, 26.601924878653, 44.788071125751], [495.0, NaN, 24.42075159942, 44.996584989589], [496.0, NaN, 23.899191524973, 44.701002932993], [497.0, NaN, 23.638044208345, 43.138273451162], [498.0, NaN, 23.536954924489, 50.182122373789], [499.0, NaN, 22.083565037547, 49.456018626063], [500.0, NaN, 20.408260103664, 49.00493470491], [501.0, NaN, 21.922803452983, 52.019871682192], [502.0, NaN, 21.984155875193, 49.118026970042], [503.0, NaN, 23.429363337986, 52.048144748475], [504.0, NaN, 24.832064698932, 58.664042258726], [505.0, NaN, 26.70711138368, 69.711100339167], [506.0, NaN, 29.227048519308, 77.050531318391], [507.0, NaN, 28.606380382914, 75.049569309172], [508.0, NaN, 27.617624986873, 74.246357198856], [509.0, NaN, 28.815394058067, 75.052139587925], [510.0, NaN, 29.13422467414, 78.491172559453], [511.0, NaN, 29.514551732024, 85.857594115654], [512.0, NaN, 29.948206620828, 86.098295836876], [513.0, NaN, 29.219666407637, 76.83353816507], [514.0, NaN, 28.821283697695, 75.896485214554], [515.0, NaN, 29.842819654262, 69.009794690466], [516.0, NaN, 30.627742687255, 59.065900168086], [517.0, NaN, 30.8475800594, 57.562728311726], [518.0, NaN, 32.527137582588, 57.727044210395], [519.0, NaN, 33.397693576283, 57.742693343602], [520.0, NaN, 35.935834675552, 59.041313847026], [521.0, NaN, 36.57390621603, 52.056549256254], [522.0, NaN, 38.550155570567, 59.40824208744], [523.0, NaN, 36.657933387445, 64.384993720396], [524.0, NaN, 36.872098528949, 63.001924723734], [525.0, NaN, 38.094624545034, 69.074424870362], [526.0, NaN, 39.559129248138, 73.914215436527], [527.0, NaN, 40.799283686175, 74.572181819196], [528.0, NaN, 40.745363928, 66.541004275586], [529.0, NaN, 41.998867254847, 70.365411763138], [530.0, NaN, 45.002663878847, 71.76940390268], [531.0, NaN, 44.912188076919, 78.903021106928], [532.0, NaN, 46.269189547841, 85.114261733663], [533.0, NaN, 47.891071339789, 87.468686256501], [534.0, NaN, 46.378529893365, 89.98177559584], [535.0, NaN, 47.198262137537, 96.956206806577], [536.0, NaN, 47.592804375467, 95.30085693427], [537.0, NaN, 48.712203283084, 102.15873497669], [538.0, NaN, 50.314422309488, 112.98399738955], [539.0, NaN, 50.628425679261, 104.8614616317], [540.0, NaN, 47.950161642963, 111.30248998705], [541.0, NaN, 50.934686156653, 122.5157567099], [542.0, NaN, 50.572128616936, 118.67223733001], [543.0, NaN, 51.222872918992, 119.35892069317], [544.0, NaN, 52.377573352296, 124.76735316852], [545.0, NaN, 52.639648415531, 120.11778685264], [546.0, 74.490493466069, 54.165299676508, 116.16733143492], [547.0, 68.107200896496, 50.240631438077, 108.47643694077], [548.0, 66.120037864559, 48.375331414687, 105.77318412236], [549.0, 73.084481886868, 51.003708720373, 114.96039565823], [550.0, 69.632842445394, 52.264738901248, 114.29538877569], [551.0, 69.307892228966, 51.562816818001, 101.69680999602], [552.0, 74.356433031791, 47.645332758797, 94.044912454993], [553.0, 73.365775968595, 44.856276527438, 93.919781198699], [554.0, 75.384149765237, 46.232939745672, 105.86737979984], [555.0, 74.913958403412, 47.781685866184, 91.054300233386], [556.0, 80.3716622509, 48.865637028736, 97.591938528951], [557.0, 85.482445918496, 45.599578086949, 93.428693404443], [558.0, 83.463251615041, 46.216179185104, 101.84313953637], [559.0, 87.041420911462, 49.333677703594, 104.24847718874], [560.0, 87.060873681807, 43.001874974707, 111.07719459177], [561.0, 86.51619611213, 44.681939195715, 111.55864373242], [562.0, 79.999518046349, 51.824163421622, 109.15491652711], [563.0, 85.554904051527, 53.968814175464, 114.38945378366], [564.0, 87.485082257911, 55.163551125094, 119.85115020417], [565.0, 89.660206937187, 57.066697924081, 135.8803615489], [566.0, 89.558241906473, 54.877892302252, 142.49633360184], [567.0, 89.104582713906, 53.083466071743, 142.48641460326], [568.0, 91.538593974175, 50.770723940011, 152.14268890314], [569.0, 85.005796269727, 55.00989076097, 143.43800769724], [570.0, 86.832596843615, 53.550505461951, 148.24848941629], [571.0, 80.75, 51.07, 164.0], [572.0, 77.52, 54.25, 151.89]]}, \"id\": \"el334754468762320\"});\n",
       "            })\n",
       "         });\n",
       "}\n",
       "</script>"
      ],
      "text/plain": [
       "<matplotlib.figure.Figure at 0x10a5be6d0>"
      ]
     },
     "metadata": {},
     "output_type": "display_data"
    }
   ],
   "source": [
    "data.plot()"
   ]
  },
  {
   "cell_type": "markdown",
   "metadata": {},
   "source": [
    "Explore the data by using the icons in the bottom left corner of the plot. \n",
    "\n",
    "It looks like we have some incomplete data.\n",
    "\n",
    "Further investigation reveals that we only have data for Kraft Heinz (KHC) from July 2015 to September 2017, and we're missing September 2017 for WFC and AAPL. We'll need to remember this for later, as this might affect our analysis.\n",
    "\n",
    "## <font color='green'>You're now finished with this section! Let your facilitators know, and have a break.</font>\n",
    "\n",
    "![done](https://media.giphy.com/media/26FL2NwYBOq3Z6C6Q/giphy.gif)"
   ]
  },
  {
   "cell_type": "markdown",
   "metadata": {},
   "source": [
    "## 3. Analysis\n",
    "\n",
    "Data analysis is all about answering questions. In this case Warren has one question - what will the prices of his stocks be in the future?\n",
    "\n",
    "To answer that question we are going to build our own Time Series Forecasting model from the ground up. This model will use the historic data that we have collected to forecast predictions for the future. We'll test it on one stock's data as we go.\n",
    "\n",
    "Before we get started, we need to extract all of the data for one stock as a `list` of numbers (it's easier to work with them this way). \n",
    "\n",
    "**Complete the code below to extract the data for Apple stock:**"
   ]
  },
  {
   "cell_type": "code",
   "execution_count": 23,
   "metadata": {},
   "outputs": [],
   "source": [
    "apple = data['AAPL'].values"
   ]
  },
  {
   "cell_type": "markdown",
   "metadata": {},
   "source": [
    "Now we begin building.\n",
    "\n",
    "If we have a number that jumps up and down over time, as the Apple stock price does, what might be a good way to guess where it will next be? Taking an average price might be a good starting point.\n",
    "\n",
    "Complete the function below to calculate the average price of Apple stock over the whole `series`. Some built-in functions that might help are:\n",
    "- `sum(x)`, which will find the total of all values in x\n",
    "- `len(x)`, which will find the number of elements in x\n",
    "- `+`, `-`, `*`, `/`, the basic arithmetic operators\n",
    "\n",
    "Write your code in place of `#TODO`:"
   ]
  },
  {
   "cell_type": "code",
   "execution_count": 24,
   "metadata": {
    "scrolled": true
   },
   "outputs": [
    {
     "name": "stdout",
     "output_type": "stream",
     "text": [
      "\n",
      "Next month's Apple stock should be worth:  67.1615495168\n"
     ]
    }
   ],
   "source": [
    "def average(series):\n",
    "    return sum(series)/len(series)\n",
    "\n",
    "# Print prediction\n",
    "pred1 = average(apple)\n",
    "print \"\\nNext month's Apple stock should be worth: \", pred1"
   ]
  },
  {
   "cell_type": "markdown",
   "metadata": {},
   "source": [
    "We have our prediction. How can we judge whether that's a good prediction or not?\n",
    "\n",
    "One way is to run our model on all but the last data point of our `series` (using the `series[:-1]` syntax) and see how well it predicts the true value. This technique is called **cross validation** and is used frequently in data analysis and machine learning. \n",
    "\n",
    "Let's see how well it works as a prediction for next month's value by visualizing it. Run the code below to import a couple of tools and plot Apple's stock with our new <font color='red'>prediction</font> against the <font color='blue'>Apple data</font> :\n"
   ]
  },
  {
   "cell_type": "code",
   "execution_count": 25,
   "metadata": {},
   "outputs": [
    {
     "name": "stdout",
     "output_type": "stream",
     "text": [
      "This month's stock price should be: 66.4554790961\n",
      "It was actually: 151.89\n",
      "56.2476271669 %\n"
     ]
    },
    {
     "data": {
      "image/png": "[encoded data removed]",
      "text/html": [
       "\n",
       "\n",
       "<style>\n",
       "\n",
       "</style>\n",
       "\n",
       "<div id=\"fig_el3347544747977765029591539\"></div>\n",
       "<script>\n",
       "function mpld3_load_lib(url, callback){\n",
       "  var s = document.createElement('script');\n",
       "  s.src = url;\n",
       "  s.async = true;\n",
       "  s.onreadystatechange = s.onload = callback;\n",
       "  s.onerror = function(){console.warn(\"failed to load library \" + url);};\n",
       "  document.getElementsByTagName(\"head\")[0].appendChild(s);\n",
       "}\n",
       "\n",
       "if(typeof(mpld3) !== \"undefined\" && mpld3._mpld3IsLoaded){\n",
       "   // already loaded: just create the figure\n",
       "   !function(mpld3){\n",
       "       \n",
       "       mpld3.draw_figure(\"fig_el3347544747977765029591539\", {\"axes\": [{\"xlim\": [-6.0, 126.0], \"yscale\": \"linear\", \"axesbg\": \"#FFFFFF\", \"texts\": [], \"zoomable\": true, \"images\": [], \"xdomain\": [-6.0, 126.0], \"ylim\": [3.317097807398749, 171.65156677107626], \"paths\": [], \"sharey\": [], \"sharex\": [], \"axesbgalpha\": null, \"axes\": [{\"scale\": \"linear\", \"tickformat\": null, \"grid\": {\"gridOn\": false}, \"visible\": true, \"fontsize\": 10.0, \"position\": \"bottom\", \"nticks\": 9, \"tickvalues\": null}, {\"scale\": \"linear\", \"tickformat\": null, \"grid\": {\"gridOn\": false}, \"visible\": true, \"fontsize\": 10.0, \"position\": \"left\", \"nticks\": 10, \"tickvalues\": null}], \"lines\": [{\"drawstyle\": \"default\", \"color\": \"#FF0000\", \"yindex\": 1, \"coordinates\": \"data\", \"dasharray\": \"none\", \"zorder\": 2, \"alpha\": 1, \"xindex\": 0, \"linewidth\": 1.5, \"data\": \"data01\", \"id\": \"el334754474796560\"}, {\"drawstyle\": \"default\", \"color\": \"#0000FF\", \"yindex\": 2, \"coordinates\": \"data\", \"dasharray\": \"none\", \"zorder\": 2, \"alpha\": 1, \"xindex\": 0, \"linewidth\": 1.5, \"data\": \"data01\", \"id\": \"el334754477515216\"}], \"markers\": [], \"id\": \"el334754475251472\", \"ydomain\": [3.317097807398749, 171.65156677107626], \"collections\": [], \"xscale\": \"linear\", \"bbox\": [0.125, 0.125, 0.775, 0.755]}], \"height\": 288.0, \"width\": 432.0, \"plugins\": [{\"type\": \"reset\"}, {\"enabled\": false, \"button\": true, \"type\": \"zoom\"}, {\"enabled\": false, \"button\": true, \"type\": \"boxzoom\"}], \"data\": {\"data01\": [[0.0, 19.723034011231, 19.723034011231], [1.0, 24.411222456723, 24.411222456723], [2.0, 23.417809718684, 23.417809718684], [3.0, 25.456040769822, 25.456040769822], [4.0, 17.395646600379, 17.395646600379], [5.0, 16.066812485072, 16.066812485072], [6.0, 18.441750052855, 18.441750052855], [7.0, 22.354999454314, 22.354999454314], [8.0, 24.257005731542, 24.257005731542], [9.0, 21.518373720209, 21.518373720209], [10.0, 20.427290389556, 20.427290389556], [11.0, 21.786967849899, 21.786967849899], [12.0, 14.606894153362, 14.606894153362], [13.0, 13.826814551823, 13.826814551823], [14.0, 11.909386602077, 11.909386602077], [15.0, 10.968664578475, 10.968664578475], [16.0, 11.582961200445, 11.582961200445], [17.0, 11.477579771571, 11.477579771571], [18.0, 13.509385125826, 13.509385125826], [19.0, 16.170908774569, 16.170908774569], [20.0, 17.453477872322, 17.453477872322], [21.0, 18.304240139569, 18.304240139569], [22.0, 20.997892272724, 20.997892272724], [23.0, 21.6173294522, 21.6173294522], [24.0, 23.820058343531, 23.820058343531], [25.0, 24.22487724713, 24.22487724713], [26.0, 25.691221275723, 25.691221275723], [27.0, 27.081999108977, 27.081999108977], [28.0, 24.682772406979, 24.682772406979], [29.0, 26.296521922057, 26.296521922057], [30.0, 30.200775347881, 30.200775347881], [31.0, 33.553703981184, 33.553703981184], [32.0, 33.012660303675, 33.012660303675], [33.0, 32.325110737244, 32.325110737244], [34.0, 33.060210460605, 33.060210460605], [35.0, 31.24173824285, 31.24173824285], [36.0, 36.465829808345, 36.465829808345], [37.0, 38.680124954064, 38.680124954064], [38.0, 39.98711169997, 39.98711169997], [39.0, 41.453455728563, 41.453455728563], [40.0, 43.607349323587, 43.607349323587], [41.0, 45.392407917553, 45.392407917553], [42.0, 44.788071125751, 44.788071125751], [43.0, 44.996584989589, 44.996584989589], [44.0, 44.701002932993, 44.701002932993], [45.0, 43.138273451162, 43.138273451162], [46.0, 50.182122373789, 50.182122373789], [47.0, 49.456018626063, 49.456018626063], [48.0, 49.00493470491, 49.00493470491], [49.0, 52.019871682192, 52.019871682192], [50.0, 49.118026970042, 49.118026970042], [51.0, 52.048144748475, 52.048144748475], [52.0, 58.664042258726, 58.664042258726], [53.0, 69.711100339167, 69.711100339167], [54.0, 77.050531318391, 77.050531318391], [55.0, 75.049569309172, 75.049569309172], [56.0, 74.246357198856, 74.246357198856], [57.0, 75.052139587925, 75.052139587925], [58.0, 78.491172559453, 78.491172559453], [59.0, 85.857594115654, 85.857594115654], [60.0, 86.098295836876, 86.098295836876], [61.0, 76.83353816507, 76.83353816507], [62.0, 75.896485214554, 75.896485214554], [63.0, 69.009794690466, 69.009794690466], [64.0, 59.065900168086, 59.065900168086], [65.0, 57.562728311726, 57.562728311726], [66.0, 57.727044210395, 57.727044210395], [67.0, 57.742693343602, 57.742693343602], [68.0, 59.041313847026, 59.041313847026], [69.0, 52.056549256254, 52.056549256254], [70.0, 59.40824208744, 59.40824208744], [71.0, 64.384993720396, 64.384993720396], [72.0, 63.001924723734, 63.001924723734], [73.0, 69.074424870362, 69.074424870362], [74.0, 73.914215436527, 73.914215436527], [75.0, 74.572181819196, 74.572181819196], [76.0, 66.541004275586, 66.541004275586], [77.0, 70.365411763138, 70.365411763138], [78.0, 71.76940390268, 71.76940390268], [79.0, 78.903021106928, 78.903021106928], [80.0, 85.114261733663, 85.114261733663], [81.0, 87.468686256501, 87.468686256501], [82.0, 89.98177559584, 89.98177559584], [83.0, 96.956206806577, 96.956206806577], [84.0, 95.30085693427, 95.30085693427], [85.0, 102.15873497669, 102.15873497669], [86.0, 112.98399738955, 112.98399738955], [87.0, 104.8614616317, 104.8614616317], [88.0, 111.30248998705, 111.30248998705], [89.0, 122.5157567099, 122.5157567099], [90.0, 118.67223733001, 118.67223733001], [91.0, 119.35892069317, 119.35892069317], [92.0, 124.76735316852, 124.76735316852], [93.0, 120.11778685264, 120.11778685264], [94.0, 116.16733143492, 116.16733143492], [95.0, 108.47643694077, 108.47643694077], [96.0, 105.77318412236, 105.77318412236], [97.0, 114.96039565823, 114.96039565823], [98.0, 114.29538877569, 114.29538877569], [99.0, 101.69680999602, 101.69680999602], [100.0, 94.044912454993, 94.044912454993], [101.0, 93.919781198699, 93.919781198699], [102.0, 105.86737979984, 105.86737979984], [103.0, 91.054300233386, 91.054300233386], [104.0, 97.591938528951, 97.591938528951], [105.0, 93.428693404443, 93.428693404443], [106.0, 101.84313953637, 101.84313953637], [107.0, 104.24847718874, 104.24847718874], [108.0, 111.07719459177, 111.07719459177], [109.0, 111.55864373242, 111.55864373242], [110.0, 109.15491652711, 109.15491652711], [111.0, 114.38945378366, 114.38945378366], [112.0, 119.85115020417, 119.85115020417], [113.0, 135.8803615489, 135.8803615489], [114.0, 142.49633360184, 142.49633360184], [115.0, 142.48641460326, 142.48641460326], [116.0, 152.14268890314, 152.14268890314], [117.0, 143.43800769724, 143.43800769724], [118.0, 148.24848941629, 148.24848941629], [119.0, 164.0, 164.0], [120.0, 66.45547909614011, 151.89]]}, \"id\": \"el334754474797776\"});\n",
       "   }(mpld3);\n",
       "}else if(typeof define === \"function\" && define.amd){\n",
       "   // require.js is available: use it to load d3/mpld3\n",
       "   require.config({paths: {d3: \"https://mpld3.github.io/js/d3.v3.min\"}});\n",
       "   require([\"d3\"], function(d3){\n",
       "      window.d3 = d3;\n",
       "      mpld3_load_lib(\"https://mpld3.github.io/js/mpld3.v0.3.js\", function(){\n",
       "         \n",
       "         mpld3.draw_figure(\"fig_el3347544747977765029591539\", {\"axes\": [{\"xlim\": [-6.0, 126.0], \"yscale\": \"linear\", \"axesbg\": \"#FFFFFF\", \"texts\": [], \"zoomable\": true, \"images\": [], \"xdomain\": [-6.0, 126.0], \"ylim\": [3.317097807398749, 171.65156677107626], \"paths\": [], \"sharey\": [], \"sharex\": [], \"axesbgalpha\": null, \"axes\": [{\"scale\": \"linear\", \"tickformat\": null, \"grid\": {\"gridOn\": false}, \"visible\": true, \"fontsize\": 10.0, \"position\": \"bottom\", \"nticks\": 9, \"tickvalues\": null}, {\"scale\": \"linear\", \"tickformat\": null, \"grid\": {\"gridOn\": false}, \"visible\": true, \"fontsize\": 10.0, \"position\": \"left\", \"nticks\": 10, \"tickvalues\": null}], \"lines\": [{\"drawstyle\": \"default\", \"color\": \"#FF0000\", \"yindex\": 1, \"coordinates\": \"data\", \"dasharray\": \"none\", \"zorder\": 2, \"alpha\": 1, \"xindex\": 0, \"linewidth\": 1.5, \"data\": \"data01\", \"id\": \"el334754474796560\"}, {\"drawstyle\": \"default\", \"color\": \"#0000FF\", \"yindex\": 2, \"coordinates\": \"data\", \"dasharray\": \"none\", \"zorder\": 2, \"alpha\": 1, \"xindex\": 0, \"linewidth\": 1.5, \"data\": \"data01\", \"id\": \"el334754477515216\"}], \"markers\": [], \"id\": \"el334754475251472\", \"ydomain\": [3.317097807398749, 171.65156677107626], \"collections\": [], \"xscale\": \"linear\", \"bbox\": [0.125, 0.125, 0.775, 0.755]}], \"height\": 288.0, \"width\": 432.0, \"plugins\": [{\"type\": \"reset\"}, {\"enabled\": false, \"button\": true, \"type\": \"zoom\"}, {\"enabled\": false, \"button\": true, \"type\": \"boxzoom\"}], \"data\": {\"data01\": [[0.0, 19.723034011231, 19.723034011231], [1.0, 24.411222456723, 24.411222456723], [2.0, 23.417809718684, 23.417809718684], [3.0, 25.456040769822, 25.456040769822], [4.0, 17.395646600379, 17.395646600379], [5.0, 16.066812485072, 16.066812485072], [6.0, 18.441750052855, 18.441750052855], [7.0, 22.354999454314, 22.354999454314], [8.0, 24.257005731542, 24.257005731542], [9.0, 21.518373720209, 21.518373720209], [10.0, 20.427290389556, 20.427290389556], [11.0, 21.786967849899, 21.786967849899], [12.0, 14.606894153362, 14.606894153362], [13.0, 13.826814551823, 13.826814551823], [14.0, 11.909386602077, 11.909386602077], [15.0, 10.968664578475, 10.968664578475], [16.0, 11.582961200445, 11.582961200445], [17.0, 11.477579771571, 11.477579771571], [18.0, 13.509385125826, 13.509385125826], [19.0, 16.170908774569, 16.170908774569], [20.0, 17.453477872322, 17.453477872322], [21.0, 18.304240139569, 18.304240139569], [22.0, 20.997892272724, 20.997892272724], [23.0, 21.6173294522, 21.6173294522], [24.0, 23.820058343531, 23.820058343531], [25.0, 24.22487724713, 24.22487724713], [26.0, 25.691221275723, 25.691221275723], [27.0, 27.081999108977, 27.081999108977], [28.0, 24.682772406979, 24.682772406979], [29.0, 26.296521922057, 26.296521922057], [30.0, 30.200775347881, 30.200775347881], [31.0, 33.553703981184, 33.553703981184], [32.0, 33.012660303675, 33.012660303675], [33.0, 32.325110737244, 32.325110737244], [34.0, 33.060210460605, 33.060210460605], [35.0, 31.24173824285, 31.24173824285], [36.0, 36.465829808345, 36.465829808345], [37.0, 38.680124954064, 38.680124954064], [38.0, 39.98711169997, 39.98711169997], [39.0, 41.453455728563, 41.453455728563], [40.0, 43.607349323587, 43.607349323587], [41.0, 45.392407917553, 45.392407917553], [42.0, 44.788071125751, 44.788071125751], [43.0, 44.996584989589, 44.996584989589], [44.0, 44.701002932993, 44.701002932993], [45.0, 43.138273451162, 43.138273451162], [46.0, 50.182122373789, 50.182122373789], [47.0, 49.456018626063, 49.456018626063], [48.0, 49.00493470491, 49.00493470491], [49.0, 52.019871682192, 52.019871682192], [50.0, 49.118026970042, 49.118026970042], [51.0, 52.048144748475, 52.048144748475], [52.0, 58.664042258726, 58.664042258726], [53.0, 69.711100339167, 69.711100339167], [54.0, 77.050531318391, 77.050531318391], [55.0, 75.049569309172, 75.049569309172], [56.0, 74.246357198856, 74.246357198856], [57.0, 75.052139587925, 75.052139587925], [58.0, 78.491172559453, 78.491172559453], [59.0, 85.857594115654, 85.857594115654], [60.0, 86.098295836876, 86.098295836876], [61.0, 76.83353816507, 76.83353816507], [62.0, 75.896485214554, 75.896485214554], [63.0, 69.009794690466, 69.009794690466], [64.0, 59.065900168086, 59.065900168086], [65.0, 57.562728311726, 57.562728311726], [66.0, 57.727044210395, 57.727044210395], [67.0, 57.742693343602, 57.742693343602], [68.0, 59.041313847026, 59.041313847026], [69.0, 52.056549256254, 52.056549256254], [70.0, 59.40824208744, 59.40824208744], [71.0, 64.384993720396, 64.384993720396], [72.0, 63.001924723734, 63.001924723734], [73.0, 69.074424870362, 69.074424870362], [74.0, 73.914215436527, 73.914215436527], [75.0, 74.572181819196, 74.572181819196], [76.0, 66.541004275586, 66.541004275586], [77.0, 70.365411763138, 70.365411763138], [78.0, 71.76940390268, 71.76940390268], [79.0, 78.903021106928, 78.903021106928], [80.0, 85.114261733663, 85.114261733663], [81.0, 87.468686256501, 87.468686256501], [82.0, 89.98177559584, 89.98177559584], [83.0, 96.956206806577, 96.956206806577], [84.0, 95.30085693427, 95.30085693427], [85.0, 102.15873497669, 102.15873497669], [86.0, 112.98399738955, 112.98399738955], [87.0, 104.8614616317, 104.8614616317], [88.0, 111.30248998705, 111.30248998705], [89.0, 122.5157567099, 122.5157567099], [90.0, 118.67223733001, 118.67223733001], [91.0, 119.35892069317, 119.35892069317], [92.0, 124.76735316852, 124.76735316852], [93.0, 120.11778685264, 120.11778685264], [94.0, 116.16733143492, 116.16733143492], [95.0, 108.47643694077, 108.47643694077], [96.0, 105.77318412236, 105.77318412236], [97.0, 114.96039565823, 114.96039565823], [98.0, 114.29538877569, 114.29538877569], [99.0, 101.69680999602, 101.69680999602], [100.0, 94.044912454993, 94.044912454993], [101.0, 93.919781198699, 93.919781198699], [102.0, 105.86737979984, 105.86737979984], [103.0, 91.054300233386, 91.054300233386], [104.0, 97.591938528951, 97.591938528951], [105.0, 93.428693404443, 93.428693404443], [106.0, 101.84313953637, 101.84313953637], [107.0, 104.24847718874, 104.24847718874], [108.0, 111.07719459177, 111.07719459177], [109.0, 111.55864373242, 111.55864373242], [110.0, 109.15491652711, 109.15491652711], [111.0, 114.38945378366, 114.38945378366], [112.0, 119.85115020417, 119.85115020417], [113.0, 135.8803615489, 135.8803615489], [114.0, 142.49633360184, 142.49633360184], [115.0, 142.48641460326, 142.48641460326], [116.0, 152.14268890314, 152.14268890314], [117.0, 143.43800769724, 143.43800769724], [118.0, 148.24848941629, 148.24848941629], [119.0, 164.0, 164.0], [120.0, 66.45547909614011, 151.89]]}, \"id\": \"el334754474797776\"});\n",
       "      });\n",
       "    });\n",
       "}else{\n",
       "    // require.js not available: dynamically load d3 & mpld3\n",
       "    mpld3_load_lib(\"https://mpld3.github.io/js/d3.v3.min.js\", function(){\n",
       "         mpld3_load_lib(\"https://mpld3.github.io/js/mpld3.v0.3.js\", function(){\n",
       "                 \n",
       "                 mpld3.draw_figure(\"fig_el3347544747977765029591539\", {\"axes\": [{\"xlim\": [-6.0, 126.0], \"yscale\": \"linear\", \"axesbg\": \"#FFFFFF\", \"texts\": [], \"zoomable\": true, \"images\": [], \"xdomain\": [-6.0, 126.0], \"ylim\": [3.317097807398749, 171.65156677107626], \"paths\": [], \"sharey\": [], \"sharex\": [], \"axesbgalpha\": null, \"axes\": [{\"scale\": \"linear\", \"tickformat\": null, \"grid\": {\"gridOn\": false}, \"visible\": true, \"fontsize\": 10.0, \"position\": \"bottom\", \"nticks\": 9, \"tickvalues\": null}, {\"scale\": \"linear\", \"tickformat\": null, \"grid\": {\"gridOn\": false}, \"visible\": true, \"fontsize\": 10.0, \"position\": \"left\", \"nticks\": 10, \"tickvalues\": null}], \"lines\": [{\"drawstyle\": \"default\", \"color\": \"#FF0000\", \"yindex\": 1, \"coordinates\": \"data\", \"dasharray\": \"none\", \"zorder\": 2, \"alpha\": 1, \"xindex\": 0, \"linewidth\": 1.5, \"data\": \"data01\", \"id\": \"el334754474796560\"}, {\"drawstyle\": \"default\", \"color\": \"#0000FF\", \"yindex\": 2, \"coordinates\": \"data\", \"dasharray\": \"none\", \"zorder\": 2, \"alpha\": 1, \"xindex\": 0, \"linewidth\": 1.5, \"data\": \"data01\", \"id\": \"el334754477515216\"}], \"markers\": [], \"id\": \"el334754475251472\", \"ydomain\": [3.317097807398749, 171.65156677107626], \"collections\": [], \"xscale\": \"linear\", \"bbox\": [0.125, 0.125, 0.775, 0.755]}], \"height\": 288.0, \"width\": 432.0, \"plugins\": [{\"type\": \"reset\"}, {\"enabled\": false, \"button\": true, \"type\": \"zoom\"}, {\"enabled\": false, \"button\": true, \"type\": \"boxzoom\"}], \"data\": {\"data01\": [[0.0, 19.723034011231, 19.723034011231], [1.0, 24.411222456723, 24.411222456723], [2.0, 23.417809718684, 23.417809718684], [3.0, 25.456040769822, 25.456040769822], [4.0, 17.395646600379, 17.395646600379], [5.0, 16.066812485072, 16.066812485072], [6.0, 18.441750052855, 18.441750052855], [7.0, 22.354999454314, 22.354999454314], [8.0, 24.257005731542, 24.257005731542], [9.0, 21.518373720209, 21.518373720209], [10.0, 20.427290389556, 20.427290389556], [11.0, 21.786967849899, 21.786967849899], [12.0, 14.606894153362, 14.606894153362], [13.0, 13.826814551823, 13.826814551823], [14.0, 11.909386602077, 11.909386602077], [15.0, 10.968664578475, 10.968664578475], [16.0, 11.582961200445, 11.582961200445], [17.0, 11.477579771571, 11.477579771571], [18.0, 13.509385125826, 13.509385125826], [19.0, 16.170908774569, 16.170908774569], [20.0, 17.453477872322, 17.453477872322], [21.0, 18.304240139569, 18.304240139569], [22.0, 20.997892272724, 20.997892272724], [23.0, 21.6173294522, 21.6173294522], [24.0, 23.820058343531, 23.820058343531], [25.0, 24.22487724713, 24.22487724713], [26.0, 25.691221275723, 25.691221275723], [27.0, 27.081999108977, 27.081999108977], [28.0, 24.682772406979, 24.682772406979], [29.0, 26.296521922057, 26.296521922057], [30.0, 30.200775347881, 30.200775347881], [31.0, 33.553703981184, 33.553703981184], [32.0, 33.012660303675, 33.012660303675], [33.0, 32.325110737244, 32.325110737244], [34.0, 33.060210460605, 33.060210460605], [35.0, 31.24173824285, 31.24173824285], [36.0, 36.465829808345, 36.465829808345], [37.0, 38.680124954064, 38.680124954064], [38.0, 39.98711169997, 39.98711169997], [39.0, 41.453455728563, 41.453455728563], [40.0, 43.607349323587, 43.607349323587], [41.0, 45.392407917553, 45.392407917553], [42.0, 44.788071125751, 44.788071125751], [43.0, 44.996584989589, 44.996584989589], [44.0, 44.701002932993, 44.701002932993], [45.0, 43.138273451162, 43.138273451162], [46.0, 50.182122373789, 50.182122373789], [47.0, 49.456018626063, 49.456018626063], [48.0, 49.00493470491, 49.00493470491], [49.0, 52.019871682192, 52.019871682192], [50.0, 49.118026970042, 49.118026970042], [51.0, 52.048144748475, 52.048144748475], [52.0, 58.664042258726, 58.664042258726], [53.0, 69.711100339167, 69.711100339167], [54.0, 77.050531318391, 77.050531318391], [55.0, 75.049569309172, 75.049569309172], [56.0, 74.246357198856, 74.246357198856], [57.0, 75.052139587925, 75.052139587925], [58.0, 78.491172559453, 78.491172559453], [59.0, 85.857594115654, 85.857594115654], [60.0, 86.098295836876, 86.098295836876], [61.0, 76.83353816507, 76.83353816507], [62.0, 75.896485214554, 75.896485214554], [63.0, 69.009794690466, 69.009794690466], [64.0, 59.065900168086, 59.065900168086], [65.0, 57.562728311726, 57.562728311726], [66.0, 57.727044210395, 57.727044210395], [67.0, 57.742693343602, 57.742693343602], [68.0, 59.041313847026, 59.041313847026], [69.0, 52.056549256254, 52.056549256254], [70.0, 59.40824208744, 59.40824208744], [71.0, 64.384993720396, 64.384993720396], [72.0, 63.001924723734, 63.001924723734], [73.0, 69.074424870362, 69.074424870362], [74.0, 73.914215436527, 73.914215436527], [75.0, 74.572181819196, 74.572181819196], [76.0, 66.541004275586, 66.541004275586], [77.0, 70.365411763138, 70.365411763138], [78.0, 71.76940390268, 71.76940390268], [79.0, 78.903021106928, 78.903021106928], [80.0, 85.114261733663, 85.114261733663], [81.0, 87.468686256501, 87.468686256501], [82.0, 89.98177559584, 89.98177559584], [83.0, 96.956206806577, 96.956206806577], [84.0, 95.30085693427, 95.30085693427], [85.0, 102.15873497669, 102.15873497669], [86.0, 112.98399738955, 112.98399738955], [87.0, 104.8614616317, 104.8614616317], [88.0, 111.30248998705, 111.30248998705], [89.0, 122.5157567099, 122.5157567099], [90.0, 118.67223733001, 118.67223733001], [91.0, 119.35892069317, 119.35892069317], [92.0, 124.76735316852, 124.76735316852], [93.0, 120.11778685264, 120.11778685264], [94.0, 116.16733143492, 116.16733143492], [95.0, 108.47643694077, 108.47643694077], [96.0, 105.77318412236, 105.77318412236], [97.0, 114.96039565823, 114.96039565823], [98.0, 114.29538877569, 114.29538877569], [99.0, 101.69680999602, 101.69680999602], [100.0, 94.044912454993, 94.044912454993], [101.0, 93.919781198699, 93.919781198699], [102.0, 105.86737979984, 105.86737979984], [103.0, 91.054300233386, 91.054300233386], [104.0, 97.591938528951, 97.591938528951], [105.0, 93.428693404443, 93.428693404443], [106.0, 101.84313953637, 101.84313953637], [107.0, 104.24847718874, 104.24847718874], [108.0, 111.07719459177, 111.07719459177], [109.0, 111.55864373242, 111.55864373242], [110.0, 109.15491652711, 109.15491652711], [111.0, 114.38945378366, 114.38945378366], [112.0, 119.85115020417, 119.85115020417], [113.0, 135.8803615489, 135.8803615489], [114.0, 142.49633360184, 142.49633360184], [115.0, 142.48641460326, 142.48641460326], [116.0, 152.14268890314, 152.14268890314], [117.0, 143.43800769724, 143.43800769724], [118.0, 148.24848941629, 148.24848941629], [119.0, 164.0, 164.0], [120.0, 66.45547909614011, 151.89]]}, \"id\": \"el334754474797776\"});\n",
       "            })\n",
       "         });\n",
       "}\n",
       "</script>"
      ],
      "text/plain": [
       "<matplotlib.figure.Figure at 0x10ab7fed0>"
      ]
     },
     "metadata": {},
     "output_type": "display_data"
    }
   ],
   "source": [
    "import numpy as np\n",
    "import matplotlib.pyplot as plt\n",
    "\n",
    "# Recalculate the predicted stock price for _this_ month:\n",
    "pred1 = average(apple[:-1]) # don't include this month's actual value\n",
    "print \"This month's stock price should be:\", pred1\n",
    "print \"It was actually:\", apple[-1]\n",
    "results1 = np.append(apple[:-1], pred1) # append all but the last points with our predicted point\n",
    "_,ax = plt.subplots()\n",
    "_,_,_ = ax.plot(results1, color = \"red\"), ax.plot(apple, color = \"blue\"), plt.show() # "
   ]
  },
  {
   "cell_type": "markdown",
   "metadata": {},
   "source": [
    "Yikes. The true value for last month's price was **`156`**, so we're about $90 off!\n",
    "\n",
    "The problem is that we are taking an average over the entire time series, and that hasn't taken in to account the change in the *level* of our prices over time. One way we can solve this is by taking a 'moving average' that only takes an average of the last *n* stocks. It is called a 'moving average' as the window of values that it uses shifts along as we get new data:\n",
    "\n",
    "![movingavg](https://user-images.githubusercontent.com/534681/30615807-16ee0d0e-9d5e-11e7-834a-6728edc8ad24.png)\n",
    "\n",
    "Complete the code in the `moving_average` function below to take a recent average of the last 5 months of Apple's stock price.\n",
    "\n",
    "*HINT: `x[-n:]` only uses the last n numbers in a `list` x*"
   ]
  },
  {
   "cell_type": "code",
   "execution_count": 26,
   "metadata": {},
   "outputs": [
    {
     "name": "stdout",
     "output_type": "stream",
     "text": [
      "This month's stock price should be:  150.063120124\n",
      "It was actually: 151.89\n"
     ]
    },
    {
     "data": {
      "image/png": "[encoded data removed]",
      "text/html": [
       "\n",
       "\n",
       "<style>\n",
       "\n",
       "</style>\n",
       "\n",
       "<div id=\"fig_el3347544743521444255053335\"></div>\n",
       "<script>\n",
       "function mpld3_load_lib(url, callback){\n",
       "  var s = document.createElement('script');\n",
       "  s.src = url;\n",
       "  s.async = true;\n",
       "  s.onreadystatechange = s.onload = callback;\n",
       "  s.onerror = function(){console.warn(\"failed to load library \" + url);};\n",
       "  document.getElementsByTagName(\"head\")[0].appendChild(s);\n",
       "}\n",
       "\n",
       "if(typeof(mpld3) !== \"undefined\" && mpld3._mpld3IsLoaded){\n",
       "   // already loaded: just create the figure\n",
       "   !function(mpld3){\n",
       "       \n",
       "       mpld3.draw_figure(\"fig_el3347544743521444255053335\", {\"axes\": [{\"xlim\": [-6.0, 126.0], \"yscale\": \"linear\", \"axesbg\": \"#FFFFFF\", \"texts\": [], \"zoomable\": true, \"images\": [], \"xdomain\": [-6.0, 126.0], \"ylim\": [3.317097807398749, 171.65156677107626], \"paths\": [], \"sharey\": [], \"sharex\": [], \"axesbgalpha\": null, \"axes\": [{\"scale\": \"linear\", \"tickformat\": null, \"grid\": {\"gridOn\": false}, \"visible\": true, \"fontsize\": 10.0, \"position\": \"bottom\", \"nticks\": 9, \"tickvalues\": null}, {\"scale\": \"linear\", \"tickformat\": null, \"grid\": {\"gridOn\": false}, \"visible\": true, \"fontsize\": 10.0, \"position\": \"left\", \"nticks\": 10, \"tickvalues\": null}], \"lines\": [{\"drawstyle\": \"default\", \"color\": \"#FF0000\", \"yindex\": 1, \"coordinates\": \"data\", \"dasharray\": \"none\", \"zorder\": 2, \"alpha\": 1, \"xindex\": 0, \"linewidth\": 1.5, \"data\": \"data01\", \"id\": \"el334754475237008\"}, {\"drawstyle\": \"default\", \"color\": \"#0000FF\", \"yindex\": 2, \"coordinates\": \"data\", \"dasharray\": \"none\", \"zorder\": 2, \"alpha\": 1, \"xindex\": 0, \"linewidth\": 1.5, \"data\": \"data01\", \"id\": \"el334754474842320\"}], \"markers\": [], \"id\": \"el334754477517520\", \"ydomain\": [3.317097807398749, 171.65156677107626], \"collections\": [], \"xscale\": \"linear\", \"bbox\": [0.125, 0.125, 0.775, 0.755]}], \"height\": 288.0, \"width\": 432.0, \"plugins\": [{\"type\": \"reset\"}, {\"enabled\": false, \"button\": true, \"type\": \"zoom\"}, {\"enabled\": false, \"button\": true, \"type\": \"boxzoom\"}], \"data\": {\"data01\": [[0.0, 19.723034011231, 19.723034011231], [1.0, 24.411222456723, 24.411222456723], [2.0, 23.417809718684, 23.417809718684], [3.0, 25.456040769822, 25.456040769822], [4.0, 17.395646600379, 17.395646600379], [5.0, 16.066812485072, 16.066812485072], [6.0, 18.441750052855, 18.441750052855], [7.0, 22.354999454314, 22.354999454314], [8.0, 24.257005731542, 24.257005731542], [9.0, 21.518373720209, 21.518373720209], [10.0, 20.427290389556, 20.427290389556], [11.0, 21.786967849899, 21.786967849899], [12.0, 14.606894153362, 14.606894153362], [13.0, 13.826814551823, 13.826814551823], [14.0, 11.909386602077, 11.909386602077], [15.0, 10.968664578475, 10.968664578475], [16.0, 11.582961200445, 11.582961200445], [17.0, 11.477579771571, 11.477579771571], [18.0, 13.509385125826, 13.509385125826], [19.0, 16.170908774569, 16.170908774569], [20.0, 17.453477872322, 17.453477872322], [21.0, 18.304240139569, 18.304240139569], [22.0, 20.997892272724, 20.997892272724], [23.0, 21.6173294522, 21.6173294522], [24.0, 23.820058343531, 23.820058343531], [25.0, 24.22487724713, 24.22487724713], [26.0, 25.691221275723, 25.691221275723], [27.0, 27.081999108977, 27.081999108977], [28.0, 24.682772406979, 24.682772406979], [29.0, 26.296521922057, 26.296521922057], [30.0, 30.200775347881, 30.200775347881], [31.0, 33.553703981184, 33.553703981184], [32.0, 33.012660303675, 33.012660303675], [33.0, 32.325110737244, 32.325110737244], [34.0, 33.060210460605, 33.060210460605], [35.0, 31.24173824285, 31.24173824285], [36.0, 36.465829808345, 36.465829808345], [37.0, 38.680124954064, 38.680124954064], [38.0, 39.98711169997, 39.98711169997], [39.0, 41.453455728563, 41.453455728563], [40.0, 43.607349323587, 43.607349323587], [41.0, 45.392407917553, 45.392407917553], [42.0, 44.788071125751, 44.788071125751], [43.0, 44.996584989589, 44.996584989589], [44.0, 44.701002932993, 44.701002932993], [45.0, 43.138273451162, 43.138273451162], [46.0, 50.182122373789, 50.182122373789], [47.0, 49.456018626063, 49.456018626063], [48.0, 49.00493470491, 49.00493470491], [49.0, 52.019871682192, 52.019871682192], [50.0, 49.118026970042, 49.118026970042], [51.0, 52.048144748475, 52.048144748475], [52.0, 58.664042258726, 58.664042258726], [53.0, 69.711100339167, 69.711100339167], [54.0, 77.050531318391, 77.050531318391], [55.0, 75.049569309172, 75.049569309172], [56.0, 74.246357198856, 74.246357198856], [57.0, 75.052139587925, 75.052139587925], [58.0, 78.491172559453, 78.491172559453], [59.0, 85.857594115654, 85.857594115654], [60.0, 86.098295836876, 86.098295836876], [61.0, 76.83353816507, 76.83353816507], [62.0, 75.896485214554, 75.896485214554], [63.0, 69.009794690466, 69.009794690466], [64.0, 59.065900168086, 59.065900168086], [65.0, 57.562728311726, 57.562728311726], [66.0, 57.727044210395, 57.727044210395], [67.0, 57.742693343602, 57.742693343602], [68.0, 59.041313847026, 59.041313847026], [69.0, 52.056549256254, 52.056549256254], [70.0, 59.40824208744, 59.40824208744], [71.0, 64.384993720396, 64.384993720396], [72.0, 63.001924723734, 63.001924723734], [73.0, 69.074424870362, 69.074424870362], [74.0, 73.914215436527, 73.914215436527], [75.0, 74.572181819196, 74.572181819196], [76.0, 66.541004275586, 66.541004275586], [77.0, 70.365411763138, 70.365411763138], [78.0, 71.76940390268, 71.76940390268], [79.0, 78.903021106928, 78.903021106928], [80.0, 85.114261733663, 85.114261733663], [81.0, 87.468686256501, 87.468686256501], [82.0, 89.98177559584, 89.98177559584], [83.0, 96.956206806577, 96.956206806577], [84.0, 95.30085693427, 95.30085693427], [85.0, 102.15873497669, 102.15873497669], [86.0, 112.98399738955, 112.98399738955], [87.0, 104.8614616317, 104.8614616317], [88.0, 111.30248998705, 111.30248998705], [89.0, 122.5157567099, 122.5157567099], [90.0, 118.67223733001, 118.67223733001], [91.0, 119.35892069317, 119.35892069317], [92.0, 124.76735316852, 124.76735316852], [93.0, 120.11778685264, 120.11778685264], [94.0, 116.16733143492, 116.16733143492], [95.0, 108.47643694077, 108.47643694077], [96.0, 105.77318412236, 105.77318412236], [97.0, 114.96039565823, 114.96039565823], [98.0, 114.29538877569, 114.29538877569], [99.0, 101.69680999602, 101.69680999602], [100.0, 94.044912454993, 94.044912454993], [101.0, 93.919781198699, 93.919781198699], [102.0, 105.86737979984, 105.86737979984], [103.0, 91.054300233386, 91.054300233386], [104.0, 97.591938528951, 97.591938528951], [105.0, 93.428693404443, 93.428693404443], [106.0, 101.84313953637, 101.84313953637], [107.0, 104.24847718874, 104.24847718874], [108.0, 111.07719459177, 111.07719459177], [109.0, 111.55864373242, 111.55864373242], [110.0, 109.15491652711, 109.15491652711], [111.0, 114.38945378366, 114.38945378366], [112.0, 119.85115020417, 119.85115020417], [113.0, 135.8803615489, 135.8803615489], [114.0, 142.49633360184, 142.49633360184], [115.0, 142.48641460326, 142.48641460326], [116.0, 152.14268890314, 152.14268890314], [117.0, 143.43800769724, 143.43800769724], [118.0, 148.24848941629, 148.24848941629], [119.0, 164.0, 164.0], [120.0, 150.063120123986, 151.89]]}, \"id\": \"el334754474352144\"});\n",
       "   }(mpld3);\n",
       "}else if(typeof define === \"function\" && define.amd){\n",
       "   // require.js is available: use it to load d3/mpld3\n",
       "   require.config({paths: {d3: \"https://mpld3.github.io/js/d3.v3.min\"}});\n",
       "   require([\"d3\"], function(d3){\n",
       "      window.d3 = d3;\n",
       "      mpld3_load_lib(\"https://mpld3.github.io/js/mpld3.v0.3.js\", function(){\n",
       "         \n",
       "         mpld3.draw_figure(\"fig_el3347544743521444255053335\", {\"axes\": [{\"xlim\": [-6.0, 126.0], \"yscale\": \"linear\", \"axesbg\": \"#FFFFFF\", \"texts\": [], \"zoomable\": true, \"images\": [], \"xdomain\": [-6.0, 126.0], \"ylim\": [3.317097807398749, 171.65156677107626], \"paths\": [], \"sharey\": [], \"sharex\": [], \"axesbgalpha\": null, \"axes\": [{\"scale\": \"linear\", \"tickformat\": null, \"grid\": {\"gridOn\": false}, \"visible\": true, \"fontsize\": 10.0, \"position\": \"bottom\", \"nticks\": 9, \"tickvalues\": null}, {\"scale\": \"linear\", \"tickformat\": null, \"grid\": {\"gridOn\": false}, \"visible\": true, \"fontsize\": 10.0, \"position\": \"left\", \"nticks\": 10, \"tickvalues\": null}], \"lines\": [{\"drawstyle\": \"default\", \"color\": \"#FF0000\", \"yindex\": 1, \"coordinates\": \"data\", \"dasharray\": \"none\", \"zorder\": 2, \"alpha\": 1, \"xindex\": 0, \"linewidth\": 1.5, \"data\": \"data01\", \"id\": \"el334754475237008\"}, {\"drawstyle\": \"default\", \"color\": \"#0000FF\", \"yindex\": 2, \"coordinates\": \"data\", \"dasharray\": \"none\", \"zorder\": 2, \"alpha\": 1, \"xindex\": 0, \"linewidth\": 1.5, \"data\": \"data01\", \"id\": \"el334754474842320\"}], \"markers\": [], \"id\": \"el334754477517520\", \"ydomain\": [3.317097807398749, 171.65156677107626], \"collections\": [], \"xscale\": \"linear\", \"bbox\": [0.125, 0.125, 0.775, 0.755]}], \"height\": 288.0, \"width\": 432.0, \"plugins\": [{\"type\": \"reset\"}, {\"enabled\": false, \"button\": true, \"type\": \"zoom\"}, {\"enabled\": false, \"button\": true, \"type\": \"boxzoom\"}], \"data\": {\"data01\": [[0.0, 19.723034011231, 19.723034011231], [1.0, 24.411222456723, 24.411222456723], [2.0, 23.417809718684, 23.417809718684], [3.0, 25.456040769822, 25.456040769822], [4.0, 17.395646600379, 17.395646600379], [5.0, 16.066812485072, 16.066812485072], [6.0, 18.441750052855, 18.441750052855], [7.0, 22.354999454314, 22.354999454314], [8.0, 24.257005731542, 24.257005731542], [9.0, 21.518373720209, 21.518373720209], [10.0, 20.427290389556, 20.427290389556], [11.0, 21.786967849899, 21.786967849899], [12.0, 14.606894153362, 14.606894153362], [13.0, 13.826814551823, 13.826814551823], [14.0, 11.909386602077, 11.909386602077], [15.0, 10.968664578475, 10.968664578475], [16.0, 11.582961200445, 11.582961200445], [17.0, 11.477579771571, 11.477579771571], [18.0, 13.509385125826, 13.509385125826], [19.0, 16.170908774569, 16.170908774569], [20.0, 17.453477872322, 17.453477872322], [21.0, 18.304240139569, 18.304240139569], [22.0, 20.997892272724, 20.997892272724], [23.0, 21.6173294522, 21.6173294522], [24.0, 23.820058343531, 23.820058343531], [25.0, 24.22487724713, 24.22487724713], [26.0, 25.691221275723, 25.691221275723], [27.0, 27.081999108977, 27.081999108977], [28.0, 24.682772406979, 24.682772406979], [29.0, 26.296521922057, 26.296521922057], [30.0, 30.200775347881, 30.200775347881], [31.0, 33.553703981184, 33.553703981184], [32.0, 33.012660303675, 33.012660303675], [33.0, 32.325110737244, 32.325110737244], [34.0, 33.060210460605, 33.060210460605], [35.0, 31.24173824285, 31.24173824285], [36.0, 36.465829808345, 36.465829808345], [37.0, 38.680124954064, 38.680124954064], [38.0, 39.98711169997, 39.98711169997], [39.0, 41.453455728563, 41.453455728563], [40.0, 43.607349323587, 43.607349323587], [41.0, 45.392407917553, 45.392407917553], [42.0, 44.788071125751, 44.788071125751], [43.0, 44.996584989589, 44.996584989589], [44.0, 44.701002932993, 44.701002932993], [45.0, 43.138273451162, 43.138273451162], [46.0, 50.182122373789, 50.182122373789], [47.0, 49.456018626063, 49.456018626063], [48.0, 49.00493470491, 49.00493470491], [49.0, 52.019871682192, 52.019871682192], [50.0, 49.118026970042, 49.118026970042], [51.0, 52.048144748475, 52.048144748475], [52.0, 58.664042258726, 58.664042258726], [53.0, 69.711100339167, 69.711100339167], [54.0, 77.050531318391, 77.050531318391], [55.0, 75.049569309172, 75.049569309172], [56.0, 74.246357198856, 74.246357198856], [57.0, 75.052139587925, 75.052139587925], [58.0, 78.491172559453, 78.491172559453], [59.0, 85.857594115654, 85.857594115654], [60.0, 86.098295836876, 86.098295836876], [61.0, 76.83353816507, 76.83353816507], [62.0, 75.896485214554, 75.896485214554], [63.0, 69.009794690466, 69.009794690466], [64.0, 59.065900168086, 59.065900168086], [65.0, 57.562728311726, 57.562728311726], [66.0, 57.727044210395, 57.727044210395], [67.0, 57.742693343602, 57.742693343602], [68.0, 59.041313847026, 59.041313847026], [69.0, 52.056549256254, 52.056549256254], [70.0, 59.40824208744, 59.40824208744], [71.0, 64.384993720396, 64.384993720396], [72.0, 63.001924723734, 63.001924723734], [73.0, 69.074424870362, 69.074424870362], [74.0, 73.914215436527, 73.914215436527], [75.0, 74.572181819196, 74.572181819196], [76.0, 66.541004275586, 66.541004275586], [77.0, 70.365411763138, 70.365411763138], [78.0, 71.76940390268, 71.76940390268], [79.0, 78.903021106928, 78.903021106928], [80.0, 85.114261733663, 85.114261733663], [81.0, 87.468686256501, 87.468686256501], [82.0, 89.98177559584, 89.98177559584], [83.0, 96.956206806577, 96.956206806577], [84.0, 95.30085693427, 95.30085693427], [85.0, 102.15873497669, 102.15873497669], [86.0, 112.98399738955, 112.98399738955], [87.0, 104.8614616317, 104.8614616317], [88.0, 111.30248998705, 111.30248998705], [89.0, 122.5157567099, 122.5157567099], [90.0, 118.67223733001, 118.67223733001], [91.0, 119.35892069317, 119.35892069317], [92.0, 124.76735316852, 124.76735316852], [93.0, 120.11778685264, 120.11778685264], [94.0, 116.16733143492, 116.16733143492], [95.0, 108.47643694077, 108.47643694077], [96.0, 105.77318412236, 105.77318412236], [97.0, 114.96039565823, 114.96039565823], [98.0, 114.29538877569, 114.29538877569], [99.0, 101.69680999602, 101.69680999602], [100.0, 94.044912454993, 94.044912454993], [101.0, 93.919781198699, 93.919781198699], [102.0, 105.86737979984, 105.86737979984], [103.0, 91.054300233386, 91.054300233386], [104.0, 97.591938528951, 97.591938528951], [105.0, 93.428693404443, 93.428693404443], [106.0, 101.84313953637, 101.84313953637], [107.0, 104.24847718874, 104.24847718874], [108.0, 111.07719459177, 111.07719459177], [109.0, 111.55864373242, 111.55864373242], [110.0, 109.15491652711, 109.15491652711], [111.0, 114.38945378366, 114.38945378366], [112.0, 119.85115020417, 119.85115020417], [113.0, 135.8803615489, 135.8803615489], [114.0, 142.49633360184, 142.49633360184], [115.0, 142.48641460326, 142.48641460326], [116.0, 152.14268890314, 152.14268890314], [117.0, 143.43800769724, 143.43800769724], [118.0, 148.24848941629, 148.24848941629], [119.0, 164.0, 164.0], [120.0, 150.063120123986, 151.89]]}, \"id\": \"el334754474352144\"});\n",
       "      });\n",
       "    });\n",
       "}else{\n",
       "    // require.js not available: dynamically load d3 & mpld3\n",
       "    mpld3_load_lib(\"https://mpld3.github.io/js/d3.v3.min.js\", function(){\n",
       "         mpld3_load_lib(\"https://mpld3.github.io/js/mpld3.v0.3.js\", function(){\n",
       "                 \n",
       "                 mpld3.draw_figure(\"fig_el3347544743521444255053335\", {\"axes\": [{\"xlim\": [-6.0, 126.0], \"yscale\": \"linear\", \"axesbg\": \"#FFFFFF\", \"texts\": [], \"zoomable\": true, \"images\": [], \"xdomain\": [-6.0, 126.0], \"ylim\": [3.317097807398749, 171.65156677107626], \"paths\": [], \"sharey\": [], \"sharex\": [], \"axesbgalpha\": null, \"axes\": [{\"scale\": \"linear\", \"tickformat\": null, \"grid\": {\"gridOn\": false}, \"visible\": true, \"fontsize\": 10.0, \"position\": \"bottom\", \"nticks\": 9, \"tickvalues\": null}, {\"scale\": \"linear\", \"tickformat\": null, \"grid\": {\"gridOn\": false}, \"visible\": true, \"fontsize\": 10.0, \"position\": \"left\", \"nticks\": 10, \"tickvalues\": null}], \"lines\": [{\"drawstyle\": \"default\", \"color\": \"#FF0000\", \"yindex\": 1, \"coordinates\": \"data\", \"dasharray\": \"none\", \"zorder\": 2, \"alpha\": 1, \"xindex\": 0, \"linewidth\": 1.5, \"data\": \"data01\", \"id\": \"el334754475237008\"}, {\"drawstyle\": \"default\", \"color\": \"#0000FF\", \"yindex\": 2, \"coordinates\": \"data\", \"dasharray\": \"none\", \"zorder\": 2, \"alpha\": 1, \"xindex\": 0, \"linewidth\": 1.5, \"data\": \"data01\", \"id\": \"el334754474842320\"}], \"markers\": [], \"id\": \"el334754477517520\", \"ydomain\": [3.317097807398749, 171.65156677107626], \"collections\": [], \"xscale\": \"linear\", \"bbox\": [0.125, 0.125, 0.775, 0.755]}], \"height\": 288.0, \"width\": 432.0, \"plugins\": [{\"type\": \"reset\"}, {\"enabled\": false, \"button\": true, \"type\": \"zoom\"}, {\"enabled\": false, \"button\": true, \"type\": \"boxzoom\"}], \"data\": {\"data01\": [[0.0, 19.723034011231, 19.723034011231], [1.0, 24.411222456723, 24.411222456723], [2.0, 23.417809718684, 23.417809718684], [3.0, 25.456040769822, 25.456040769822], [4.0, 17.395646600379, 17.395646600379], [5.0, 16.066812485072, 16.066812485072], [6.0, 18.441750052855, 18.441750052855], [7.0, 22.354999454314, 22.354999454314], [8.0, 24.257005731542, 24.257005731542], [9.0, 21.518373720209, 21.518373720209], [10.0, 20.427290389556, 20.427290389556], [11.0, 21.786967849899, 21.786967849899], [12.0, 14.606894153362, 14.606894153362], [13.0, 13.826814551823, 13.826814551823], [14.0, 11.909386602077, 11.909386602077], [15.0, 10.968664578475, 10.968664578475], [16.0, 11.582961200445, 11.582961200445], [17.0, 11.477579771571, 11.477579771571], [18.0, 13.509385125826, 13.509385125826], [19.0, 16.170908774569, 16.170908774569], [20.0, 17.453477872322, 17.453477872322], [21.0, 18.304240139569, 18.304240139569], [22.0, 20.997892272724, 20.997892272724], [23.0, 21.6173294522, 21.6173294522], [24.0, 23.820058343531, 23.820058343531], [25.0, 24.22487724713, 24.22487724713], [26.0, 25.691221275723, 25.691221275723], [27.0, 27.081999108977, 27.081999108977], [28.0, 24.682772406979, 24.682772406979], [29.0, 26.296521922057, 26.296521922057], [30.0, 30.200775347881, 30.200775347881], [31.0, 33.553703981184, 33.553703981184], [32.0, 33.012660303675, 33.012660303675], [33.0, 32.325110737244, 32.325110737244], [34.0, 33.060210460605, 33.060210460605], [35.0, 31.24173824285, 31.24173824285], [36.0, 36.465829808345, 36.465829808345], [37.0, 38.680124954064, 38.680124954064], [38.0, 39.98711169997, 39.98711169997], [39.0, 41.453455728563, 41.453455728563], [40.0, 43.607349323587, 43.607349323587], [41.0, 45.392407917553, 45.392407917553], [42.0, 44.788071125751, 44.788071125751], [43.0, 44.996584989589, 44.996584989589], [44.0, 44.701002932993, 44.701002932993], [45.0, 43.138273451162, 43.138273451162], [46.0, 50.182122373789, 50.182122373789], [47.0, 49.456018626063, 49.456018626063], [48.0, 49.00493470491, 49.00493470491], [49.0, 52.019871682192, 52.019871682192], [50.0, 49.118026970042, 49.118026970042], [51.0, 52.048144748475, 52.048144748475], [52.0, 58.664042258726, 58.664042258726], [53.0, 69.711100339167, 69.711100339167], [54.0, 77.050531318391, 77.050531318391], [55.0, 75.049569309172, 75.049569309172], [56.0, 74.246357198856, 74.246357198856], [57.0, 75.052139587925, 75.052139587925], [58.0, 78.491172559453, 78.491172559453], [59.0, 85.857594115654, 85.857594115654], [60.0, 86.098295836876, 86.098295836876], [61.0, 76.83353816507, 76.83353816507], [62.0, 75.896485214554, 75.896485214554], [63.0, 69.009794690466, 69.009794690466], [64.0, 59.065900168086, 59.065900168086], [65.0, 57.562728311726, 57.562728311726], [66.0, 57.727044210395, 57.727044210395], [67.0, 57.742693343602, 57.742693343602], [68.0, 59.041313847026, 59.041313847026], [69.0, 52.056549256254, 52.056549256254], [70.0, 59.40824208744, 59.40824208744], [71.0, 64.384993720396, 64.384993720396], [72.0, 63.001924723734, 63.001924723734], [73.0, 69.074424870362, 69.074424870362], [74.0, 73.914215436527, 73.914215436527], [75.0, 74.572181819196, 74.572181819196], [76.0, 66.541004275586, 66.541004275586], [77.0, 70.365411763138, 70.365411763138], [78.0, 71.76940390268, 71.76940390268], [79.0, 78.903021106928, 78.903021106928], [80.0, 85.114261733663, 85.114261733663], [81.0, 87.468686256501, 87.468686256501], [82.0, 89.98177559584, 89.98177559584], [83.0, 96.956206806577, 96.956206806577], [84.0, 95.30085693427, 95.30085693427], [85.0, 102.15873497669, 102.15873497669], [86.0, 112.98399738955, 112.98399738955], [87.0, 104.8614616317, 104.8614616317], [88.0, 111.30248998705, 111.30248998705], [89.0, 122.5157567099, 122.5157567099], [90.0, 118.67223733001, 118.67223733001], [91.0, 119.35892069317, 119.35892069317], [92.0, 124.76735316852, 124.76735316852], [93.0, 120.11778685264, 120.11778685264], [94.0, 116.16733143492, 116.16733143492], [95.0, 108.47643694077, 108.47643694077], [96.0, 105.77318412236, 105.77318412236], [97.0, 114.96039565823, 114.96039565823], [98.0, 114.29538877569, 114.29538877569], [99.0, 101.69680999602, 101.69680999602], [100.0, 94.044912454993, 94.044912454993], [101.0, 93.919781198699, 93.919781198699], [102.0, 105.86737979984, 105.86737979984], [103.0, 91.054300233386, 91.054300233386], [104.0, 97.591938528951, 97.591938528951], [105.0, 93.428693404443, 93.428693404443], [106.0, 101.84313953637, 101.84313953637], [107.0, 104.24847718874, 104.24847718874], [108.0, 111.07719459177, 111.07719459177], [109.0, 111.55864373242, 111.55864373242], [110.0, 109.15491652711, 109.15491652711], [111.0, 114.38945378366, 114.38945378366], [112.0, 119.85115020417, 119.85115020417], [113.0, 135.8803615489, 135.8803615489], [114.0, 142.49633360184, 142.49633360184], [115.0, 142.48641460326, 142.48641460326], [116.0, 152.14268890314, 152.14268890314], [117.0, 143.43800769724, 143.43800769724], [118.0, 148.24848941629, 148.24848941629], [119.0, 164.0, 164.0], [120.0, 150.063120123986, 151.89]]}, \"id\": \"el334754474352144\"});\n",
       "            })\n",
       "         });\n",
       "}\n",
       "</script>"
      ],
      "text/plain": [
       "<matplotlib.figure.Figure at 0x10ab13210>"
      ]
     },
     "metadata": {},
     "output_type": "display_data"
    }
   ],
   "source": [
    "def  moving_average(series, n):\n",
    "    return average(series[-n:])\n",
    "\n",
    "# Print and plot prediction\n",
    "pred2 = moving_average(apple[:-1], 5)\n",
    "print \"This month's stock price should be: \", pred2\n",
    "print \"It was actually:\", apple[-1]\n",
    "\n",
    "results2 = np.append(apple[:-1], pred2)\n",
    "_,ax = plt.subplots()\n",
    "_,_,_ = ax.plot(results2, color = \"red\"), ax.plot(apple, color = \"blue\"), plt.show()"
   ]
  },
  {
   "attachments": {},
   "cell_type": "markdown",
   "metadata": {},
   "source": [
    "That looks better - you might want to zoom in to the top right corner to get a better look.\n",
    "\n",
    "However, we're giving equal importance to all of the recent stock prices in our model.\n",
    "\n",
    "To prioritize the most recent, we can multiply each of the last *n* stock prices by a number, called a weight, and then take an average. **What combination of weights work best?**\n",
    "\n",
    "*NOTE: these weights should increase in the direction of time and always add up to 1!*\n",
    "\n",
    "![weights](https://user-images.githubusercontent.com/534681/30828050-44e27a3c-a20a-11e7-892c-6498ec9cd579.png)"
   ]
  },
  {
   "cell_type": "code",
   "execution_count": 27,
   "metadata": {},
   "outputs": [
    {
     "name": "stdout",
     "output_type": "stream",
     "text": [
      "This month's stock should be:  153.976417255\n",
      "It was actually: 151.89\n"
     ]
    },
    {
     "data": {
      "image/png": "[encoded data removed]",
      "text/html": [
       "\n",
       "\n",
       "<style>\n",
       "\n",
       "</style>\n",
       "\n",
       "<div id=\"fig_el3347544752379685039295388\"></div>\n",
       "<script>\n",
       "function mpld3_load_lib(url, callback){\n",
       "  var s = document.createElement('script');\n",
       "  s.src = url;\n",
       "  s.async = true;\n",
       "  s.onreadystatechange = s.onload = callback;\n",
       "  s.onerror = function(){console.warn(\"failed to load library \" + url);};\n",
       "  document.getElementsByTagName(\"head\")[0].appendChild(s);\n",
       "}\n",
       "\n",
       "if(typeof(mpld3) !== \"undefined\" && mpld3._mpld3IsLoaded){\n",
       "   // already loaded: just create the figure\n",
       "   !function(mpld3){\n",
       "       \n",
       "       mpld3.draw_figure(\"fig_el3347544752379685039295388\", {\"axes\": [{\"xlim\": [-6.0, 126.0], \"yscale\": \"linear\", \"axesbg\": \"#FFFFFF\", \"texts\": [], \"zoomable\": true, \"images\": [], \"xdomain\": [-6.0, 126.0], \"ylim\": [3.317097807398749, 171.65156677107626], \"paths\": [], \"sharey\": [], \"sharex\": [], \"axesbgalpha\": null, \"axes\": [{\"scale\": \"linear\", \"tickformat\": null, \"grid\": {\"gridOn\": false}, \"visible\": true, \"fontsize\": 10.0, \"position\": \"bottom\", \"nticks\": 9, \"tickvalues\": null}, {\"scale\": \"linear\", \"tickformat\": null, \"grid\": {\"gridOn\": false}, \"visible\": true, \"fontsize\": 10.0, \"position\": \"left\", \"nticks\": 10, \"tickvalues\": null}], \"lines\": [{\"drawstyle\": \"default\", \"color\": \"#FF0000\", \"yindex\": 1, \"coordinates\": \"data\", \"dasharray\": \"none\", \"zorder\": 2, \"alpha\": 1, \"xindex\": 0, \"linewidth\": 1.5, \"data\": \"data01\", \"id\": \"el334754468409040\"}, {\"drawstyle\": \"default\", \"color\": \"#0000FF\", \"yindex\": 2, \"coordinates\": \"data\", \"dasharray\": \"none\", \"zorder\": 2, \"alpha\": 1, \"xindex\": 0, \"linewidth\": 1.5, \"data\": \"data01\", \"id\": \"el334754468852368\"}], \"markers\": [], \"id\": \"el334754468809488\", \"ydomain\": [3.317097807398749, 171.65156677107626], \"collections\": [], \"xscale\": \"linear\", \"bbox\": [0.125, 0.125, 0.775, 0.755]}], \"height\": 288.0, \"width\": 432.0, \"plugins\": [{\"type\": \"reset\"}, {\"enabled\": false, \"button\": true, \"type\": \"zoom\"}, {\"enabled\": false, \"button\": true, \"type\": \"boxzoom\"}], \"data\": {\"data01\": [[0.0, 19.723034011231, 19.723034011231], [1.0, 24.411222456723, 24.411222456723], [2.0, 23.417809718684, 23.417809718684], [3.0, 25.456040769822, 25.456040769822], [4.0, 17.395646600379, 17.395646600379], [5.0, 16.066812485072, 16.066812485072], [6.0, 18.441750052855, 18.441750052855], [7.0, 22.354999454314, 22.354999454314], [8.0, 24.257005731542, 24.257005731542], [9.0, 21.518373720209, 21.518373720209], [10.0, 20.427290389556, 20.427290389556], [11.0, 21.786967849899, 21.786967849899], [12.0, 14.606894153362, 14.606894153362], [13.0, 13.826814551823, 13.826814551823], [14.0, 11.909386602077, 11.909386602077], [15.0, 10.968664578475, 10.968664578475], [16.0, 11.582961200445, 11.582961200445], [17.0, 11.477579771571, 11.477579771571], [18.0, 13.509385125826, 13.509385125826], [19.0, 16.170908774569, 16.170908774569], [20.0, 17.453477872322, 17.453477872322], [21.0, 18.304240139569, 18.304240139569], [22.0, 20.997892272724, 20.997892272724], [23.0, 21.6173294522, 21.6173294522], [24.0, 23.820058343531, 23.820058343531], [25.0, 24.22487724713, 24.22487724713], [26.0, 25.691221275723, 25.691221275723], [27.0, 27.081999108977, 27.081999108977], [28.0, 24.682772406979, 24.682772406979], [29.0, 26.296521922057, 26.296521922057], [30.0, 30.200775347881, 30.200775347881], [31.0, 33.553703981184, 33.553703981184], [32.0, 33.012660303675, 33.012660303675], [33.0, 32.325110737244, 32.325110737244], [34.0, 33.060210460605, 33.060210460605], [35.0, 31.24173824285, 31.24173824285], [36.0, 36.465829808345, 36.465829808345], [37.0, 38.680124954064, 38.680124954064], [38.0, 39.98711169997, 39.98711169997], [39.0, 41.453455728563, 41.453455728563], [40.0, 43.607349323587, 43.607349323587], [41.0, 45.392407917553, 45.392407917553], [42.0, 44.788071125751, 44.788071125751], [43.0, 44.996584989589, 44.996584989589], [44.0, 44.701002932993, 44.701002932993], [45.0, 43.138273451162, 43.138273451162], [46.0, 50.182122373789, 50.182122373789], [47.0, 49.456018626063, 49.456018626063], [48.0, 49.00493470491, 49.00493470491], [49.0, 52.019871682192, 52.019871682192], [50.0, 49.118026970042, 49.118026970042], [51.0, 52.048144748475, 52.048144748475], [52.0, 58.664042258726, 58.664042258726], [53.0, 69.711100339167, 69.711100339167], [54.0, 77.050531318391, 77.050531318391], [55.0, 75.049569309172, 75.049569309172], [56.0, 74.246357198856, 74.246357198856], [57.0, 75.052139587925, 75.052139587925], [58.0, 78.491172559453, 78.491172559453], [59.0, 85.857594115654, 85.857594115654], [60.0, 86.098295836876, 86.098295836876], [61.0, 76.83353816507, 76.83353816507], [62.0, 75.896485214554, 75.896485214554], [63.0, 69.009794690466, 69.009794690466], [64.0, 59.065900168086, 59.065900168086], [65.0, 57.562728311726, 57.562728311726], [66.0, 57.727044210395, 57.727044210395], [67.0, 57.742693343602, 57.742693343602], [68.0, 59.041313847026, 59.041313847026], [69.0, 52.056549256254, 52.056549256254], [70.0, 59.40824208744, 59.40824208744], [71.0, 64.384993720396, 64.384993720396], [72.0, 63.001924723734, 63.001924723734], [73.0, 69.074424870362, 69.074424870362], [74.0, 73.914215436527, 73.914215436527], [75.0, 74.572181819196, 74.572181819196], [76.0, 66.541004275586, 66.541004275586], [77.0, 70.365411763138, 70.365411763138], [78.0, 71.76940390268, 71.76940390268], [79.0, 78.903021106928, 78.903021106928], [80.0, 85.114261733663, 85.114261733663], [81.0, 87.468686256501, 87.468686256501], [82.0, 89.98177559584, 89.98177559584], [83.0, 96.956206806577, 96.956206806577], [84.0, 95.30085693427, 95.30085693427], [85.0, 102.15873497669, 102.15873497669], [86.0, 112.98399738955, 112.98399738955], [87.0, 104.8614616317, 104.8614616317], [88.0, 111.30248998705, 111.30248998705], [89.0, 122.5157567099, 122.5157567099], [90.0, 118.67223733001, 118.67223733001], [91.0, 119.35892069317, 119.35892069317], [92.0, 124.76735316852, 124.76735316852], [93.0, 120.11778685264, 120.11778685264], [94.0, 116.16733143492, 116.16733143492], [95.0, 108.47643694077, 108.47643694077], [96.0, 105.77318412236, 105.77318412236], [97.0, 114.96039565823, 114.96039565823], [98.0, 114.29538877569, 114.29538877569], [99.0, 101.69680999602, 101.69680999602], [100.0, 94.044912454993, 94.044912454993], [101.0, 93.919781198699, 93.919781198699], [102.0, 105.86737979984, 105.86737979984], [103.0, 91.054300233386, 91.054300233386], [104.0, 97.591938528951, 97.591938528951], [105.0, 93.428693404443, 93.428693404443], [106.0, 101.84313953637, 101.84313953637], [107.0, 104.24847718874, 104.24847718874], [108.0, 111.07719459177, 111.07719459177], [109.0, 111.55864373242, 111.55864373242], [110.0, 109.15491652711, 109.15491652711], [111.0, 114.38945378366, 114.38945378366], [112.0, 119.85115020417, 119.85115020417], [113.0, 135.8803615489, 135.8803615489], [114.0, 142.49633360184, 142.49633360184], [115.0, 142.48641460326, 142.48641460326], [116.0, 152.14268890314, 152.14268890314], [117.0, 143.43800769724, 143.43800769724], [118.0, 148.24848941629, 148.24848941629], [119.0, 164.0, 164.0], [120.0, 153.97641725464902, 151.89]]}, \"id\": \"el334754475237968\"});\n",
       "   }(mpld3);\n",
       "}else if(typeof define === \"function\" && define.amd){\n",
       "   // require.js is available: use it to load d3/mpld3\n",
       "   require.config({paths: {d3: \"https://mpld3.github.io/js/d3.v3.min\"}});\n",
       "   require([\"d3\"], function(d3){\n",
       "      window.d3 = d3;\n",
       "      mpld3_load_lib(\"https://mpld3.github.io/js/mpld3.v0.3.js\", function(){\n",
       "         \n",
       "         mpld3.draw_figure(\"fig_el3347544752379685039295388\", {\"axes\": [{\"xlim\": [-6.0, 126.0], \"yscale\": \"linear\", \"axesbg\": \"#FFFFFF\", \"texts\": [], \"zoomable\": true, \"images\": [], \"xdomain\": [-6.0, 126.0], \"ylim\": [3.317097807398749, 171.65156677107626], \"paths\": [], \"sharey\": [], \"sharex\": [], \"axesbgalpha\": null, \"axes\": [{\"scale\": \"linear\", \"tickformat\": null, \"grid\": {\"gridOn\": false}, \"visible\": true, \"fontsize\": 10.0, \"position\": \"bottom\", \"nticks\": 9, \"tickvalues\": null}, {\"scale\": \"linear\", \"tickformat\": null, \"grid\": {\"gridOn\": false}, \"visible\": true, \"fontsize\": 10.0, \"position\": \"left\", \"nticks\": 10, \"tickvalues\": null}], \"lines\": [{\"drawstyle\": \"default\", \"color\": \"#FF0000\", \"yindex\": 1, \"coordinates\": \"data\", \"dasharray\": \"none\", \"zorder\": 2, \"alpha\": 1, \"xindex\": 0, \"linewidth\": 1.5, \"data\": \"data01\", \"id\": \"el334754468409040\"}, {\"drawstyle\": \"default\", \"color\": \"#0000FF\", \"yindex\": 2, \"coordinates\": \"data\", \"dasharray\": \"none\", \"zorder\": 2, \"alpha\": 1, \"xindex\": 0, \"linewidth\": 1.5, \"data\": \"data01\", \"id\": \"el334754468852368\"}], \"markers\": [], \"id\": \"el334754468809488\", \"ydomain\": [3.317097807398749, 171.65156677107626], \"collections\": [], \"xscale\": \"linear\", \"bbox\": [0.125, 0.125, 0.775, 0.755]}], \"height\": 288.0, \"width\": 432.0, \"plugins\": [{\"type\": \"reset\"}, {\"enabled\": false, \"button\": true, \"type\": \"zoom\"}, {\"enabled\": false, \"button\": true, \"type\": \"boxzoom\"}], \"data\": {\"data01\": [[0.0, 19.723034011231, 19.723034011231], [1.0, 24.411222456723, 24.411222456723], [2.0, 23.417809718684, 23.417809718684], [3.0, 25.456040769822, 25.456040769822], [4.0, 17.395646600379, 17.395646600379], [5.0, 16.066812485072, 16.066812485072], [6.0, 18.441750052855, 18.441750052855], [7.0, 22.354999454314, 22.354999454314], [8.0, 24.257005731542, 24.257005731542], [9.0, 21.518373720209, 21.518373720209], [10.0, 20.427290389556, 20.427290389556], [11.0, 21.786967849899, 21.786967849899], [12.0, 14.606894153362, 14.606894153362], [13.0, 13.826814551823, 13.826814551823], [14.0, 11.909386602077, 11.909386602077], [15.0, 10.968664578475, 10.968664578475], [16.0, 11.582961200445, 11.582961200445], [17.0, 11.477579771571, 11.477579771571], [18.0, 13.509385125826, 13.509385125826], [19.0, 16.170908774569, 16.170908774569], [20.0, 17.453477872322, 17.453477872322], [21.0, 18.304240139569, 18.304240139569], [22.0, 20.997892272724, 20.997892272724], [23.0, 21.6173294522, 21.6173294522], [24.0, 23.820058343531, 23.820058343531], [25.0, 24.22487724713, 24.22487724713], [26.0, 25.691221275723, 25.691221275723], [27.0, 27.081999108977, 27.081999108977], [28.0, 24.682772406979, 24.682772406979], [29.0, 26.296521922057, 26.296521922057], [30.0, 30.200775347881, 30.200775347881], [31.0, 33.553703981184, 33.553703981184], [32.0, 33.012660303675, 33.012660303675], [33.0, 32.325110737244, 32.325110737244], [34.0, 33.060210460605, 33.060210460605], [35.0, 31.24173824285, 31.24173824285], [36.0, 36.465829808345, 36.465829808345], [37.0, 38.680124954064, 38.680124954064], [38.0, 39.98711169997, 39.98711169997], [39.0, 41.453455728563, 41.453455728563], [40.0, 43.607349323587, 43.607349323587], [41.0, 45.392407917553, 45.392407917553], [42.0, 44.788071125751, 44.788071125751], [43.0, 44.996584989589, 44.996584989589], [44.0, 44.701002932993, 44.701002932993], [45.0, 43.138273451162, 43.138273451162], [46.0, 50.182122373789, 50.182122373789], [47.0, 49.456018626063, 49.456018626063], [48.0, 49.00493470491, 49.00493470491], [49.0, 52.019871682192, 52.019871682192], [50.0, 49.118026970042, 49.118026970042], [51.0, 52.048144748475, 52.048144748475], [52.0, 58.664042258726, 58.664042258726], [53.0, 69.711100339167, 69.711100339167], [54.0, 77.050531318391, 77.050531318391], [55.0, 75.049569309172, 75.049569309172], [56.0, 74.246357198856, 74.246357198856], [57.0, 75.052139587925, 75.052139587925], [58.0, 78.491172559453, 78.491172559453], [59.0, 85.857594115654, 85.857594115654], [60.0, 86.098295836876, 86.098295836876], [61.0, 76.83353816507, 76.83353816507], [62.0, 75.896485214554, 75.896485214554], [63.0, 69.009794690466, 69.009794690466], [64.0, 59.065900168086, 59.065900168086], [65.0, 57.562728311726, 57.562728311726], [66.0, 57.727044210395, 57.727044210395], [67.0, 57.742693343602, 57.742693343602], [68.0, 59.041313847026, 59.041313847026], [69.0, 52.056549256254, 52.056549256254], [70.0, 59.40824208744, 59.40824208744], [71.0, 64.384993720396, 64.384993720396], [72.0, 63.001924723734, 63.001924723734], [73.0, 69.074424870362, 69.074424870362], [74.0, 73.914215436527, 73.914215436527], [75.0, 74.572181819196, 74.572181819196], [76.0, 66.541004275586, 66.541004275586], [77.0, 70.365411763138, 70.365411763138], [78.0, 71.76940390268, 71.76940390268], [79.0, 78.903021106928, 78.903021106928], [80.0, 85.114261733663, 85.114261733663], [81.0, 87.468686256501, 87.468686256501], [82.0, 89.98177559584, 89.98177559584], [83.0, 96.956206806577, 96.956206806577], [84.0, 95.30085693427, 95.30085693427], [85.0, 102.15873497669, 102.15873497669], [86.0, 112.98399738955, 112.98399738955], [87.0, 104.8614616317, 104.8614616317], [88.0, 111.30248998705, 111.30248998705], [89.0, 122.5157567099, 122.5157567099], [90.0, 118.67223733001, 118.67223733001], [91.0, 119.35892069317, 119.35892069317], [92.0, 124.76735316852, 124.76735316852], [93.0, 120.11778685264, 120.11778685264], [94.0, 116.16733143492, 116.16733143492], [95.0, 108.47643694077, 108.47643694077], [96.0, 105.77318412236, 105.77318412236], [97.0, 114.96039565823, 114.96039565823], [98.0, 114.29538877569, 114.29538877569], [99.0, 101.69680999602, 101.69680999602], [100.0, 94.044912454993, 94.044912454993], [101.0, 93.919781198699, 93.919781198699], [102.0, 105.86737979984, 105.86737979984], [103.0, 91.054300233386, 91.054300233386], [104.0, 97.591938528951, 97.591938528951], [105.0, 93.428693404443, 93.428693404443], [106.0, 101.84313953637, 101.84313953637], [107.0, 104.24847718874, 104.24847718874], [108.0, 111.07719459177, 111.07719459177], [109.0, 111.55864373242, 111.55864373242], [110.0, 109.15491652711, 109.15491652711], [111.0, 114.38945378366, 114.38945378366], [112.0, 119.85115020417, 119.85115020417], [113.0, 135.8803615489, 135.8803615489], [114.0, 142.49633360184, 142.49633360184], [115.0, 142.48641460326, 142.48641460326], [116.0, 152.14268890314, 152.14268890314], [117.0, 143.43800769724, 143.43800769724], [118.0, 148.24848941629, 148.24848941629], [119.0, 164.0, 164.0], [120.0, 153.97641725464902, 151.89]]}, \"id\": \"el334754475237968\"});\n",
       "      });\n",
       "    });\n",
       "}else{\n",
       "    // require.js not available: dynamically load d3 & mpld3\n",
       "    mpld3_load_lib(\"https://mpld3.github.io/js/d3.v3.min.js\", function(){\n",
       "         mpld3_load_lib(\"https://mpld3.github.io/js/mpld3.v0.3.js\", function(){\n",
       "                 \n",
       "                 mpld3.draw_figure(\"fig_el3347544752379685039295388\", {\"axes\": [{\"xlim\": [-6.0, 126.0], \"yscale\": \"linear\", \"axesbg\": \"#FFFFFF\", \"texts\": [], \"zoomable\": true, \"images\": [], \"xdomain\": [-6.0, 126.0], \"ylim\": [3.317097807398749, 171.65156677107626], \"paths\": [], \"sharey\": [], \"sharex\": [], \"axesbgalpha\": null, \"axes\": [{\"scale\": \"linear\", \"tickformat\": null, \"grid\": {\"gridOn\": false}, \"visible\": true, \"fontsize\": 10.0, \"position\": \"bottom\", \"nticks\": 9, \"tickvalues\": null}, {\"scale\": \"linear\", \"tickformat\": null, \"grid\": {\"gridOn\": false}, \"visible\": true, \"fontsize\": 10.0, \"position\": \"left\", \"nticks\": 10, \"tickvalues\": null}], \"lines\": [{\"drawstyle\": \"default\", \"color\": \"#FF0000\", \"yindex\": 1, \"coordinates\": \"data\", \"dasharray\": \"none\", \"zorder\": 2, \"alpha\": 1, \"xindex\": 0, \"linewidth\": 1.5, \"data\": \"data01\", \"id\": \"el334754468409040\"}, {\"drawstyle\": \"default\", \"color\": \"#0000FF\", \"yindex\": 2, \"coordinates\": \"data\", \"dasharray\": \"none\", \"zorder\": 2, \"alpha\": 1, \"xindex\": 0, \"linewidth\": 1.5, \"data\": \"data01\", \"id\": \"el334754468852368\"}], \"markers\": [], \"id\": \"el334754468809488\", \"ydomain\": [3.317097807398749, 171.65156677107626], \"collections\": [], \"xscale\": \"linear\", \"bbox\": [0.125, 0.125, 0.775, 0.755]}], \"height\": 288.0, \"width\": 432.0, \"plugins\": [{\"type\": \"reset\"}, {\"enabled\": false, \"button\": true, \"type\": \"zoom\"}, {\"enabled\": false, \"button\": true, \"type\": \"boxzoom\"}], \"data\": {\"data01\": [[0.0, 19.723034011231, 19.723034011231], [1.0, 24.411222456723, 24.411222456723], [2.0, 23.417809718684, 23.417809718684], [3.0, 25.456040769822, 25.456040769822], [4.0, 17.395646600379, 17.395646600379], [5.0, 16.066812485072, 16.066812485072], [6.0, 18.441750052855, 18.441750052855], [7.0, 22.354999454314, 22.354999454314], [8.0, 24.257005731542, 24.257005731542], [9.0, 21.518373720209, 21.518373720209], [10.0, 20.427290389556, 20.427290389556], [11.0, 21.786967849899, 21.786967849899], [12.0, 14.606894153362, 14.606894153362], [13.0, 13.826814551823, 13.826814551823], [14.0, 11.909386602077, 11.909386602077], [15.0, 10.968664578475, 10.968664578475], [16.0, 11.582961200445, 11.582961200445], [17.0, 11.477579771571, 11.477579771571], [18.0, 13.509385125826, 13.509385125826], [19.0, 16.170908774569, 16.170908774569], [20.0, 17.453477872322, 17.453477872322], [21.0, 18.304240139569, 18.304240139569], [22.0, 20.997892272724, 20.997892272724], [23.0, 21.6173294522, 21.6173294522], [24.0, 23.820058343531, 23.820058343531], [25.0, 24.22487724713, 24.22487724713], [26.0, 25.691221275723, 25.691221275723], [27.0, 27.081999108977, 27.081999108977], [28.0, 24.682772406979, 24.682772406979], [29.0, 26.296521922057, 26.296521922057], [30.0, 30.200775347881, 30.200775347881], [31.0, 33.553703981184, 33.553703981184], [32.0, 33.012660303675, 33.012660303675], [33.0, 32.325110737244, 32.325110737244], [34.0, 33.060210460605, 33.060210460605], [35.0, 31.24173824285, 31.24173824285], [36.0, 36.465829808345, 36.465829808345], [37.0, 38.680124954064, 38.680124954064], [38.0, 39.98711169997, 39.98711169997], [39.0, 41.453455728563, 41.453455728563], [40.0, 43.607349323587, 43.607349323587], [41.0, 45.392407917553, 45.392407917553], [42.0, 44.788071125751, 44.788071125751], [43.0, 44.996584989589, 44.996584989589], [44.0, 44.701002932993, 44.701002932993], [45.0, 43.138273451162, 43.138273451162], [46.0, 50.182122373789, 50.182122373789], [47.0, 49.456018626063, 49.456018626063], [48.0, 49.00493470491, 49.00493470491], [49.0, 52.019871682192, 52.019871682192], [50.0, 49.118026970042, 49.118026970042], [51.0, 52.048144748475, 52.048144748475], [52.0, 58.664042258726, 58.664042258726], [53.0, 69.711100339167, 69.711100339167], [54.0, 77.050531318391, 77.050531318391], [55.0, 75.049569309172, 75.049569309172], [56.0, 74.246357198856, 74.246357198856], [57.0, 75.052139587925, 75.052139587925], [58.0, 78.491172559453, 78.491172559453], [59.0, 85.857594115654, 85.857594115654], [60.0, 86.098295836876, 86.098295836876], [61.0, 76.83353816507, 76.83353816507], [62.0, 75.896485214554, 75.896485214554], [63.0, 69.009794690466, 69.009794690466], [64.0, 59.065900168086, 59.065900168086], [65.0, 57.562728311726, 57.562728311726], [66.0, 57.727044210395, 57.727044210395], [67.0, 57.742693343602, 57.742693343602], [68.0, 59.041313847026, 59.041313847026], [69.0, 52.056549256254, 52.056549256254], [70.0, 59.40824208744, 59.40824208744], [71.0, 64.384993720396, 64.384993720396], [72.0, 63.001924723734, 63.001924723734], [73.0, 69.074424870362, 69.074424870362], [74.0, 73.914215436527, 73.914215436527], [75.0, 74.572181819196, 74.572181819196], [76.0, 66.541004275586, 66.541004275586], [77.0, 70.365411763138, 70.365411763138], [78.0, 71.76940390268, 71.76940390268], [79.0, 78.903021106928, 78.903021106928], [80.0, 85.114261733663, 85.114261733663], [81.0, 87.468686256501, 87.468686256501], [82.0, 89.98177559584, 89.98177559584], [83.0, 96.956206806577, 96.956206806577], [84.0, 95.30085693427, 95.30085693427], [85.0, 102.15873497669, 102.15873497669], [86.0, 112.98399738955, 112.98399738955], [87.0, 104.8614616317, 104.8614616317], [88.0, 111.30248998705, 111.30248998705], [89.0, 122.5157567099, 122.5157567099], [90.0, 118.67223733001, 118.67223733001], [91.0, 119.35892069317, 119.35892069317], [92.0, 124.76735316852, 124.76735316852], [93.0, 120.11778685264, 120.11778685264], [94.0, 116.16733143492, 116.16733143492], [95.0, 108.47643694077, 108.47643694077], [96.0, 105.77318412236, 105.77318412236], [97.0, 114.96039565823, 114.96039565823], [98.0, 114.29538877569, 114.29538877569], [99.0, 101.69680999602, 101.69680999602], [100.0, 94.044912454993, 94.044912454993], [101.0, 93.919781198699, 93.919781198699], [102.0, 105.86737979984, 105.86737979984], [103.0, 91.054300233386, 91.054300233386], [104.0, 97.591938528951, 97.591938528951], [105.0, 93.428693404443, 93.428693404443], [106.0, 101.84313953637, 101.84313953637], [107.0, 104.24847718874, 104.24847718874], [108.0, 111.07719459177, 111.07719459177], [109.0, 111.55864373242, 111.55864373242], [110.0, 109.15491652711, 109.15491652711], [111.0, 114.38945378366, 114.38945378366], [112.0, 119.85115020417, 119.85115020417], [113.0, 135.8803615489, 135.8803615489], [114.0, 142.49633360184, 142.49633360184], [115.0, 142.48641460326, 142.48641460326], [116.0, 152.14268890314, 152.14268890314], [117.0, 143.43800769724, 143.43800769724], [118.0, 148.24848941629, 148.24848941629], [119.0, 164.0, 164.0], [120.0, 153.97641725464902, 151.89]]}, \"id\": \"el334754475237968\"});\n",
       "            })\n",
       "         });\n",
       "}\n",
       "</script>"
      ],
      "text/plain": [
       "<matplotlib.figure.Figure at 0x10abeb650>"
      ]
     },
     "metadata": {},
     "output_type": "display_data"
    }
   ],
   "source": [
    "def weighted_average(series, weights):\n",
    "    result = 0.0\n",
    "    weights.reverse()\n",
    "    for n in range(len(weights)):\n",
    "        result += series[-n-1] * weights[n]\n",
    "    return result\n",
    "\n",
    "weights = [0.1,0.2,0.3,0.4]\n",
    "\n",
    "# Print and plot prediction\n",
    "pred3 = weighted_average(apple[:-1], weights)\n",
    "print \"This month's stock should be: \", pred3\n",
    "print \"It was actually:\", apple[-1]\n",
    "results3 = np.append(apple[:-1], pred3)\n",
    "_,ax = plt.subplots()\n",
    "_,_,_ = ax.plot(results3, color = \"red\"), ax.plot(apple, color = \"blue\"), plt.show()"
   ]
  },
  {
   "attachments": {},
   "cell_type": "markdown",
   "metadata": {},
   "source": [
    "You've now trained your model to an accurate prediction of the future. But will your weights always predict Apple stock this well?\n",
    "\n",
    "Probably not, because this model only is only using the last few stock prices, and throwing the rest away. What if we want to use all the data?\n",
    "\n",
    "One clever trick, devised by mathematicians Poisson, Holt and Roberts, is to overlap lots of small moving average windows, taking the output (weighted average) of one window as a data point in the next. Specifically, the windows are of size two, using weights $\\alpha$ and $(1 - \\alpha)$ (remember, weights have to add up to 1, so they can both be defined by one variable). This is process is *recursive*, as it take the output from one step as the input of the next, starting from the first pair of values and repeating through all values.\n",
    "\n",
    "If you'd like to see that in a formula, it is:\n",
    "\n",
    "$$\\hat{y}_t = \\alpha y_t + (1 - \\alpha)\\hat{y}_{t-1}$$\n",
    "\n",
    "where $\\hat{y}_t$ is the predicted price at time *t*, and $\\alpha$ is the one value we use to calculate the two weights, $\\alpha$ and $(1 - \\alpha)$.\n",
    "\n",
    "![weights](https://user-images.githubusercontent.com/534681/30828078-61da2a54-a20a-11e7-85f2-a020fab25d5b.png)\n",
    "\n",
    "Before moving on, find the answer to the following questions:\n",
    "\n",
    "1. What does this *parameter*   $\\alpha$   control? Experiment with different values to find out.\n",
    "2. How far in to the future can this model accurately predict?"
   ]
  },
  {
   "cell_type": "code",
   "execution_count": 28,
   "metadata": {},
   "outputs": [
    {
     "data": {
      "image/png": "[encoded data removed]",
      "text/html": [
       "\n",
       "\n",
       "<style>\n",
       "\n",
       "</style>\n",
       "\n",
       "<div id=\"fig_el3347544780263847049048580\"></div>\n",
       "<script>\n",
       "function mpld3_load_lib(url, callback){\n",
       "  var s = document.createElement('script');\n",
       "  s.src = url;\n",
       "  s.async = true;\n",
       "  s.onreadystatechange = s.onload = callback;\n",
       "  s.onerror = function(){console.warn(\"failed to load library \" + url);};\n",
       "  document.getElementsByTagName(\"head\")[0].appendChild(s);\n",
       "}\n",
       "\n",
       "if(typeof(mpld3) !== \"undefined\" && mpld3._mpld3IsLoaded){\n",
       "   // already loaded: just create the figure\n",
       "   !function(mpld3){\n",
       "       \n",
       "       mpld3.draw_figure(\"fig_el3347544780263847049048580\", {\"axes\": [{\"xlim\": [-6.0, 126.0], \"yscale\": \"linear\", \"axesbg\": \"#FFFFFF\", \"texts\": [], \"zoomable\": true, \"images\": [], \"xdomain\": [-6.0, 126.0], \"ylim\": [3.317097807398749, 171.65156677107626], \"paths\": [], \"sharey\": [], \"sharex\": [], \"axesbgalpha\": null, \"axes\": [{\"scale\": \"linear\", \"tickformat\": null, \"grid\": {\"gridOn\": false}, \"visible\": true, \"fontsize\": 10.0, \"position\": \"bottom\", \"nticks\": 9, \"tickvalues\": null}, {\"scale\": \"linear\", \"tickformat\": null, \"grid\": {\"gridOn\": false}, \"visible\": true, \"fontsize\": 10.0, \"position\": \"left\", \"nticks\": 10, \"tickvalues\": null}], \"lines\": [{\"drawstyle\": \"default\", \"color\": \"#FF0000\", \"yindex\": 1, \"coordinates\": \"data\", \"dasharray\": \"none\", \"zorder\": 2, \"alpha\": 1, \"xindex\": 0, \"linewidth\": 1.5, \"data\": \"data01\", \"id\": \"el334754464746064\"}, {\"drawstyle\": \"default\", \"color\": \"#0000FF\", \"yindex\": 2, \"coordinates\": \"data\", \"dasharray\": \"none\", \"zorder\": 2, \"alpha\": 1, \"xindex\": 0, \"linewidth\": 1.5, \"data\": \"data01\", \"id\": \"el334754468700688\"}], \"markers\": [], \"id\": \"el334754477822672\", \"ydomain\": [3.317097807398749, 171.65156677107626], \"collections\": [], \"xscale\": \"linear\", \"bbox\": [0.125, 0.125, 0.775, 0.755]}], \"height\": 288.0, \"width\": 432.0, \"plugins\": [{\"type\": \"reset\"}, {\"enabled\": false, \"button\": true, \"type\": \"zoom\"}, {\"enabled\": false, \"button\": true, \"type\": \"boxzoom\"}], \"data\": {\"data01\": [[0.0, 19.723034011231, 19.723034011231], [1.0, 23.0047659230754, 24.411222456723], [2.0, 23.293896580001423, 23.417809718684], [3.0, 24.807397512875827, 25.456040769822], [4.0, 19.61917187412805, 17.395646600379], [5.0, 17.132520301788816, 16.066812485072], [6.0, 18.048981127535143, 18.441750052855], [7.0, 21.063193956280344, 22.354999454314], [8.0, 23.2988621989635, 24.257005731542], [9.0, 22.052520263835348, 21.518373720209], [10.0, 20.9148593518398, 20.427290389556], [11.0, 21.525335300481238, 21.786967849899], [12.0, 16.682426497497772, 14.606894153362], [13.0, 14.683498135525433, 13.826814551823], [14.0, 12.74162006211153, 11.909386602077], [15.0, 11.500551223565958, 10.968664578475], [16.0, 11.558238207381288, 11.582961200445], [17.0, 11.501777302314087, 11.477579771571], [18.0, 12.907102778772426, 13.509385125826], [19.0, 15.191766975830028, 16.170908774569], [20.0, 16.77496460337441, 17.453477872322], [21.0, 17.84545747871062, 18.304240139569], [22.0, 20.052161834519985, 20.997892272724], [23.0, 21.147779166895997, 21.6173294522], [24.0, 23.018374590540496, 23.820058343531], [25.0, 23.86292645015315, 24.22487724713], [26.0, 25.142732828052043, 25.691221275723], [27.0, 26.500219224699514, 27.081999108977], [28.0, 25.228006452295155, 24.682772406979], [29.0, 25.975967281128447, 26.296521922057], [30.0, 28.933332927855233, 30.200775347881], [31.0, 32.16759266518537, 33.553703981184], [32.0, 32.75914001212811, 33.012660303675], [33.0, 32.455319519709235, 32.325110737244], [34.0, 32.878743178336265, 33.060210460605], [35.0, 31.73283972349588, 31.24173824285], [36.0, 35.04593278289026, 36.465829808345], [37.0, 37.58986730271188, 38.680124954064], [38.0, 39.267938380792565, 39.98711169997], [39.0, 40.79780052423187, 41.453455728563], [40.0, 42.76448468378046, 43.607349323587], [41.0, 44.604030947421236, 45.392407917553], [42.0, 44.73285907225207, 44.788071125751], [43.0, 44.917467214387926, 44.996584989589], [44.0, 44.76594221741148, 44.701002932993], [45.0, 43.62657408103684, 43.138273451162], [46.0, 48.215457885963346, 50.182122373789], [47.0, 49.0838504040331, 49.456018626063], [48.0, 49.02860941464693, 49.00493470491], [49.0, 51.122493001928476, 52.019871682192], [50.0, 49.719366779607945, 49.118026970042], [51.0, 51.34951135781489, 52.048144748475], [52.0, 56.46968298845267, 58.664042258726], [53.0, 65.7386751339527, 69.711100339167], [54.0, 73.6569744630595, 77.050531318391], [55.0, 74.63179085533825, 75.049569309172], [56.0, 74.36198729580067, 74.246357198856], [57.0, 74.84509390028771, 75.052139587925], [58.0, 77.39734896170341, 78.491172559453], [59.0, 83.31952056946882, 85.857594115654], [60.0, 85.26466325665385, 86.098295836876], [61.0, 79.36287569254515, 76.83353816507], [62.0, 76.93640235795135, 75.896485214554], [63.0, 71.3877769907116, 69.009794690466], [64.0, 62.762463214873684, 59.065900168086], [65.0, 59.12264878267031, 57.562728311726], [66.0, 58.14572558207759, 57.727044210395], [67.0, 57.863603015144676, 57.742693343602], [68.0, 58.6880005974616, 59.041313847026], [69.0, 54.045984658616284, 52.056549256254], [70.0, 57.799564858792884, 59.40824208744], [71.0, 62.40936506191506, 64.384993720396], [72.0, 62.82415682518832, 63.001924723734], [73.0, 67.1993444568099, 69.074424870362], [74.0, 71.89975414261187, 73.914215436527], [75.0, 73.77045351622077, 74.572181819196], [76.0, 68.70983904777644, 66.541004275586], [77.0, 69.86873994852954, 70.365411763138], [78.0, 71.19920471643485, 71.76940390268], [79.0, 76.59187618978005, 78.903021106928], [80.0, 82.55754607049812, 85.114261733663], [81.0, 85.99534420070013, 87.468686256501], [82.0, 88.78584617729804, 89.98177559584], [83.0, 94.50509861779331, 96.956206806577], [84.0, 95.062129439327, 95.30085693427], [85.0, 100.02975331548109, 102.15873497669], [86.0, 109.09772416732932, 112.98399738955], [87.0, 106.13234039238878, 104.8614616317], [88.0, 109.75144510865164, 111.30248998705], [89.0, 118.68646322952549, 122.5157567099], [90.0, 118.67650509986464, 118.67223733001], [91.0, 119.1541960151784, 119.35892069317], [92.0, 123.08340602251752, 124.76735316852], [93.0, 121.00747260360325, 120.11778685264], [94.0, 117.61937378552497, 116.16733143492], [95.0, 111.21931799419649, 108.47643694077], [96.0, 107.40702428391094, 105.77318412236], [97.0, 112.69438424593429, 114.96039565823], [98.0, 113.81508741676329, 114.29538877569], [99.0, 105.33229322224298, 101.69680999602], [100.0, 97.431126685168, 94.044912454993], [101.0, 94.9731848446397, 93.919781198699], [102.0, 102.59912131327991, 105.86737979984], [103.0, 94.51774655735417, 91.054300233386], [104.0, 96.66968093747195, 97.591938528951], [105.0, 94.40098966435168, 93.428693404443], [106.0, 99.61049457476452, 101.84313953637], [107.0, 102.85708240454736, 104.24847718874], [108.0, 108.61116093560321, 111.07719459177], [109.0, 110.67439889337496, 111.55864373242], [110.0, 109.61076123698949, 109.15491652711], [111.0, 109.61076123698949, 114.38945378366], [112.0, 109.61076123698949, 119.85115020417], [113.0, 109.61076123698949, 135.8803615489], [114.0, 109.61076123698949, 142.49633360184], [115.0, 109.61076123698949, 142.48641460326], [116.0, 109.61076123698949, 152.14268890314], [117.0, 109.61076123698949, 143.43800769724], [118.0, 109.61076123698949, 148.24848941629], [119.0, 109.61076123698949, 164.0], [120.0, 109.61076123698949, 151.89]]}, \"id\": \"el334754478026384\"});\n",
       "   }(mpld3);\n",
       "}else if(typeof define === \"function\" && define.amd){\n",
       "   // require.js is available: use it to load d3/mpld3\n",
       "   require.config({paths: {d3: \"https://mpld3.github.io/js/d3.v3.min\"}});\n",
       "   require([\"d3\"], function(d3){\n",
       "      window.d3 = d3;\n",
       "      mpld3_load_lib(\"https://mpld3.github.io/js/mpld3.v0.3.js\", function(){\n",
       "         \n",
       "         mpld3.draw_figure(\"fig_el3347544780263847049048580\", {\"axes\": [{\"xlim\": [-6.0, 126.0], \"yscale\": \"linear\", \"axesbg\": \"#FFFFFF\", \"texts\": [], \"zoomable\": true, \"images\": [], \"xdomain\": [-6.0, 126.0], \"ylim\": [3.317097807398749, 171.65156677107626], \"paths\": [], \"sharey\": [], \"sharex\": [], \"axesbgalpha\": null, \"axes\": [{\"scale\": \"linear\", \"tickformat\": null, \"grid\": {\"gridOn\": false}, \"visible\": true, \"fontsize\": 10.0, \"position\": \"bottom\", \"nticks\": 9, \"tickvalues\": null}, {\"scale\": \"linear\", \"tickformat\": null, \"grid\": {\"gridOn\": false}, \"visible\": true, \"fontsize\": 10.0, \"position\": \"left\", \"nticks\": 10, \"tickvalues\": null}], \"lines\": [{\"drawstyle\": \"default\", \"color\": \"#FF0000\", \"yindex\": 1, \"coordinates\": \"data\", \"dasharray\": \"none\", \"zorder\": 2, \"alpha\": 1, \"xindex\": 0, \"linewidth\": 1.5, \"data\": \"data01\", \"id\": \"el334754464746064\"}, {\"drawstyle\": \"default\", \"color\": \"#0000FF\", \"yindex\": 2, \"coordinates\": \"data\", \"dasharray\": \"none\", \"zorder\": 2, \"alpha\": 1, \"xindex\": 0, \"linewidth\": 1.5, \"data\": \"data01\", \"id\": \"el334754468700688\"}], \"markers\": [], \"id\": \"el334754477822672\", \"ydomain\": [3.317097807398749, 171.65156677107626], \"collections\": [], \"xscale\": \"linear\", \"bbox\": [0.125, 0.125, 0.775, 0.755]}], \"height\": 288.0, \"width\": 432.0, \"plugins\": [{\"type\": \"reset\"}, {\"enabled\": false, \"button\": true, \"type\": \"zoom\"}, {\"enabled\": false, \"button\": true, \"type\": \"boxzoom\"}], \"data\": {\"data01\": [[0.0, 19.723034011231, 19.723034011231], [1.0, 23.0047659230754, 24.411222456723], [2.0, 23.293896580001423, 23.417809718684], [3.0, 24.807397512875827, 25.456040769822], [4.0, 19.61917187412805, 17.395646600379], [5.0, 17.132520301788816, 16.066812485072], [6.0, 18.048981127535143, 18.441750052855], [7.0, 21.063193956280344, 22.354999454314], [8.0, 23.2988621989635, 24.257005731542], [9.0, 22.052520263835348, 21.518373720209], [10.0, 20.9148593518398, 20.427290389556], [11.0, 21.525335300481238, 21.786967849899], [12.0, 16.682426497497772, 14.606894153362], [13.0, 14.683498135525433, 13.826814551823], [14.0, 12.74162006211153, 11.909386602077], [15.0, 11.500551223565958, 10.968664578475], [16.0, 11.558238207381288, 11.582961200445], [17.0, 11.501777302314087, 11.477579771571], [18.0, 12.907102778772426, 13.509385125826], [19.0, 15.191766975830028, 16.170908774569], [20.0, 16.77496460337441, 17.453477872322], [21.0, 17.84545747871062, 18.304240139569], [22.0, 20.052161834519985, 20.997892272724], [23.0, 21.147779166895997, 21.6173294522], [24.0, 23.018374590540496, 23.820058343531], [25.0, 23.86292645015315, 24.22487724713], [26.0, 25.142732828052043, 25.691221275723], [27.0, 26.500219224699514, 27.081999108977], [28.0, 25.228006452295155, 24.682772406979], [29.0, 25.975967281128447, 26.296521922057], [30.0, 28.933332927855233, 30.200775347881], [31.0, 32.16759266518537, 33.553703981184], [32.0, 32.75914001212811, 33.012660303675], [33.0, 32.455319519709235, 32.325110737244], [34.0, 32.878743178336265, 33.060210460605], [35.0, 31.73283972349588, 31.24173824285], [36.0, 35.04593278289026, 36.465829808345], [37.0, 37.58986730271188, 38.680124954064], [38.0, 39.267938380792565, 39.98711169997], [39.0, 40.79780052423187, 41.453455728563], [40.0, 42.76448468378046, 43.607349323587], [41.0, 44.604030947421236, 45.392407917553], [42.0, 44.73285907225207, 44.788071125751], [43.0, 44.917467214387926, 44.996584989589], [44.0, 44.76594221741148, 44.701002932993], [45.0, 43.62657408103684, 43.138273451162], [46.0, 48.215457885963346, 50.182122373789], [47.0, 49.0838504040331, 49.456018626063], [48.0, 49.02860941464693, 49.00493470491], [49.0, 51.122493001928476, 52.019871682192], [50.0, 49.719366779607945, 49.118026970042], [51.0, 51.34951135781489, 52.048144748475], [52.0, 56.46968298845267, 58.664042258726], [53.0, 65.7386751339527, 69.711100339167], [54.0, 73.6569744630595, 77.050531318391], [55.0, 74.63179085533825, 75.049569309172], [56.0, 74.36198729580067, 74.246357198856], [57.0, 74.84509390028771, 75.052139587925], [58.0, 77.39734896170341, 78.491172559453], [59.0, 83.31952056946882, 85.857594115654], [60.0, 85.26466325665385, 86.098295836876], [61.0, 79.36287569254515, 76.83353816507], [62.0, 76.93640235795135, 75.896485214554], [63.0, 71.3877769907116, 69.009794690466], [64.0, 62.762463214873684, 59.065900168086], [65.0, 59.12264878267031, 57.562728311726], [66.0, 58.14572558207759, 57.727044210395], [67.0, 57.863603015144676, 57.742693343602], [68.0, 58.6880005974616, 59.041313847026], [69.0, 54.045984658616284, 52.056549256254], [70.0, 57.799564858792884, 59.40824208744], [71.0, 62.40936506191506, 64.384993720396], [72.0, 62.82415682518832, 63.001924723734], [73.0, 67.1993444568099, 69.074424870362], [74.0, 71.89975414261187, 73.914215436527], [75.0, 73.77045351622077, 74.572181819196], [76.0, 68.70983904777644, 66.541004275586], [77.0, 69.86873994852954, 70.365411763138], [78.0, 71.19920471643485, 71.76940390268], [79.0, 76.59187618978005, 78.903021106928], [80.0, 82.55754607049812, 85.114261733663], [81.0, 85.99534420070013, 87.468686256501], [82.0, 88.78584617729804, 89.98177559584], [83.0, 94.50509861779331, 96.956206806577], [84.0, 95.062129439327, 95.30085693427], [85.0, 100.02975331548109, 102.15873497669], [86.0, 109.09772416732932, 112.98399738955], [87.0, 106.13234039238878, 104.8614616317], [88.0, 109.75144510865164, 111.30248998705], [89.0, 118.68646322952549, 122.5157567099], [90.0, 118.67650509986464, 118.67223733001], [91.0, 119.1541960151784, 119.35892069317], [92.0, 123.08340602251752, 124.76735316852], [93.0, 121.00747260360325, 120.11778685264], [94.0, 117.61937378552497, 116.16733143492], [95.0, 111.21931799419649, 108.47643694077], [96.0, 107.40702428391094, 105.77318412236], [97.0, 112.69438424593429, 114.96039565823], [98.0, 113.81508741676329, 114.29538877569], [99.0, 105.33229322224298, 101.69680999602], [100.0, 97.431126685168, 94.044912454993], [101.0, 94.9731848446397, 93.919781198699], [102.0, 102.59912131327991, 105.86737979984], [103.0, 94.51774655735417, 91.054300233386], [104.0, 96.66968093747195, 97.591938528951], [105.0, 94.40098966435168, 93.428693404443], [106.0, 99.61049457476452, 101.84313953637], [107.0, 102.85708240454736, 104.24847718874], [108.0, 108.61116093560321, 111.07719459177], [109.0, 110.67439889337496, 111.55864373242], [110.0, 109.61076123698949, 109.15491652711], [111.0, 109.61076123698949, 114.38945378366], [112.0, 109.61076123698949, 119.85115020417], [113.0, 109.61076123698949, 135.8803615489], [114.0, 109.61076123698949, 142.49633360184], [115.0, 109.61076123698949, 142.48641460326], [116.0, 109.61076123698949, 152.14268890314], [117.0, 109.61076123698949, 143.43800769724], [118.0, 109.61076123698949, 148.24848941629], [119.0, 109.61076123698949, 164.0], [120.0, 109.61076123698949, 151.89]]}, \"id\": \"el334754478026384\"});\n",
       "      });\n",
       "    });\n",
       "}else{\n",
       "    // require.js not available: dynamically load d3 & mpld3\n",
       "    mpld3_load_lib(\"https://mpld3.github.io/js/d3.v3.min.js\", function(){\n",
       "         mpld3_load_lib(\"https://mpld3.github.io/js/mpld3.v0.3.js\", function(){\n",
       "                 \n",
       "                 mpld3.draw_figure(\"fig_el3347544780263847049048580\", {\"axes\": [{\"xlim\": [-6.0, 126.0], \"yscale\": \"linear\", \"axesbg\": \"#FFFFFF\", \"texts\": [], \"zoomable\": true, \"images\": [], \"xdomain\": [-6.0, 126.0], \"ylim\": [3.317097807398749, 171.65156677107626], \"paths\": [], \"sharey\": [], \"sharex\": [], \"axesbgalpha\": null, \"axes\": [{\"scale\": \"linear\", \"tickformat\": null, \"grid\": {\"gridOn\": false}, \"visible\": true, \"fontsize\": 10.0, \"position\": \"bottom\", \"nticks\": 9, \"tickvalues\": null}, {\"scale\": \"linear\", \"tickformat\": null, \"grid\": {\"gridOn\": false}, \"visible\": true, \"fontsize\": 10.0, \"position\": \"left\", \"nticks\": 10, \"tickvalues\": null}], \"lines\": [{\"drawstyle\": \"default\", \"color\": \"#FF0000\", \"yindex\": 1, \"coordinates\": \"data\", \"dasharray\": \"none\", \"zorder\": 2, \"alpha\": 1, \"xindex\": 0, \"linewidth\": 1.5, \"data\": \"data01\", \"id\": \"el334754464746064\"}, {\"drawstyle\": \"default\", \"color\": \"#0000FF\", \"yindex\": 2, \"coordinates\": \"data\", \"dasharray\": \"none\", \"zorder\": 2, \"alpha\": 1, \"xindex\": 0, \"linewidth\": 1.5, \"data\": \"data01\", \"id\": \"el334754468700688\"}], \"markers\": [], \"id\": \"el334754477822672\", \"ydomain\": [3.317097807398749, 171.65156677107626], \"collections\": [], \"xscale\": \"linear\", \"bbox\": [0.125, 0.125, 0.775, 0.755]}], \"height\": 288.0, \"width\": 432.0, \"plugins\": [{\"type\": \"reset\"}, {\"enabled\": false, \"button\": true, \"type\": \"zoom\"}, {\"enabled\": false, \"button\": true, \"type\": \"boxzoom\"}], \"data\": {\"data01\": [[0.0, 19.723034011231, 19.723034011231], [1.0, 23.0047659230754, 24.411222456723], [2.0, 23.293896580001423, 23.417809718684], [3.0, 24.807397512875827, 25.456040769822], [4.0, 19.61917187412805, 17.395646600379], [5.0, 17.132520301788816, 16.066812485072], [6.0, 18.048981127535143, 18.441750052855], [7.0, 21.063193956280344, 22.354999454314], [8.0, 23.2988621989635, 24.257005731542], [9.0, 22.052520263835348, 21.518373720209], [10.0, 20.9148593518398, 20.427290389556], [11.0, 21.525335300481238, 21.786967849899], [12.0, 16.682426497497772, 14.606894153362], [13.0, 14.683498135525433, 13.826814551823], [14.0, 12.74162006211153, 11.909386602077], [15.0, 11.500551223565958, 10.968664578475], [16.0, 11.558238207381288, 11.582961200445], [17.0, 11.501777302314087, 11.477579771571], [18.0, 12.907102778772426, 13.509385125826], [19.0, 15.191766975830028, 16.170908774569], [20.0, 16.77496460337441, 17.453477872322], [21.0, 17.84545747871062, 18.304240139569], [22.0, 20.052161834519985, 20.997892272724], [23.0, 21.147779166895997, 21.6173294522], [24.0, 23.018374590540496, 23.820058343531], [25.0, 23.86292645015315, 24.22487724713], [26.0, 25.142732828052043, 25.691221275723], [27.0, 26.500219224699514, 27.081999108977], [28.0, 25.228006452295155, 24.682772406979], [29.0, 25.975967281128447, 26.296521922057], [30.0, 28.933332927855233, 30.200775347881], [31.0, 32.16759266518537, 33.553703981184], [32.0, 32.75914001212811, 33.012660303675], [33.0, 32.455319519709235, 32.325110737244], [34.0, 32.878743178336265, 33.060210460605], [35.0, 31.73283972349588, 31.24173824285], [36.0, 35.04593278289026, 36.465829808345], [37.0, 37.58986730271188, 38.680124954064], [38.0, 39.267938380792565, 39.98711169997], [39.0, 40.79780052423187, 41.453455728563], [40.0, 42.76448468378046, 43.607349323587], [41.0, 44.604030947421236, 45.392407917553], [42.0, 44.73285907225207, 44.788071125751], [43.0, 44.917467214387926, 44.996584989589], [44.0, 44.76594221741148, 44.701002932993], [45.0, 43.62657408103684, 43.138273451162], [46.0, 48.215457885963346, 50.182122373789], [47.0, 49.0838504040331, 49.456018626063], [48.0, 49.02860941464693, 49.00493470491], [49.0, 51.122493001928476, 52.019871682192], [50.0, 49.719366779607945, 49.118026970042], [51.0, 51.34951135781489, 52.048144748475], [52.0, 56.46968298845267, 58.664042258726], [53.0, 65.7386751339527, 69.711100339167], [54.0, 73.6569744630595, 77.050531318391], [55.0, 74.63179085533825, 75.049569309172], [56.0, 74.36198729580067, 74.246357198856], [57.0, 74.84509390028771, 75.052139587925], [58.0, 77.39734896170341, 78.491172559453], [59.0, 83.31952056946882, 85.857594115654], [60.0, 85.26466325665385, 86.098295836876], [61.0, 79.36287569254515, 76.83353816507], [62.0, 76.93640235795135, 75.896485214554], [63.0, 71.3877769907116, 69.009794690466], [64.0, 62.762463214873684, 59.065900168086], [65.0, 59.12264878267031, 57.562728311726], [66.0, 58.14572558207759, 57.727044210395], [67.0, 57.863603015144676, 57.742693343602], [68.0, 58.6880005974616, 59.041313847026], [69.0, 54.045984658616284, 52.056549256254], [70.0, 57.799564858792884, 59.40824208744], [71.0, 62.40936506191506, 64.384993720396], [72.0, 62.82415682518832, 63.001924723734], [73.0, 67.1993444568099, 69.074424870362], [74.0, 71.89975414261187, 73.914215436527], [75.0, 73.77045351622077, 74.572181819196], [76.0, 68.70983904777644, 66.541004275586], [77.0, 69.86873994852954, 70.365411763138], [78.0, 71.19920471643485, 71.76940390268], [79.0, 76.59187618978005, 78.903021106928], [80.0, 82.55754607049812, 85.114261733663], [81.0, 85.99534420070013, 87.468686256501], [82.0, 88.78584617729804, 89.98177559584], [83.0, 94.50509861779331, 96.956206806577], [84.0, 95.062129439327, 95.30085693427], [85.0, 100.02975331548109, 102.15873497669], [86.0, 109.09772416732932, 112.98399738955], [87.0, 106.13234039238878, 104.8614616317], [88.0, 109.75144510865164, 111.30248998705], [89.0, 118.68646322952549, 122.5157567099], [90.0, 118.67650509986464, 118.67223733001], [91.0, 119.1541960151784, 119.35892069317], [92.0, 123.08340602251752, 124.76735316852], [93.0, 121.00747260360325, 120.11778685264], [94.0, 117.61937378552497, 116.16733143492], [95.0, 111.21931799419649, 108.47643694077], [96.0, 107.40702428391094, 105.77318412236], [97.0, 112.69438424593429, 114.96039565823], [98.0, 113.81508741676329, 114.29538877569], [99.0, 105.33229322224298, 101.69680999602], [100.0, 97.431126685168, 94.044912454993], [101.0, 94.9731848446397, 93.919781198699], [102.0, 102.59912131327991, 105.86737979984], [103.0, 94.51774655735417, 91.054300233386], [104.0, 96.66968093747195, 97.591938528951], [105.0, 94.40098966435168, 93.428693404443], [106.0, 99.61049457476452, 101.84313953637], [107.0, 102.85708240454736, 104.24847718874], [108.0, 108.61116093560321, 111.07719459177], [109.0, 110.67439889337496, 111.55864373242], [110.0, 109.61076123698949, 109.15491652711], [111.0, 109.61076123698949, 114.38945378366], [112.0, 109.61076123698949, 119.85115020417], [113.0, 109.61076123698949, 135.8803615489], [114.0, 109.61076123698949, 142.49633360184], [115.0, 109.61076123698949, 142.48641460326], [116.0, 109.61076123698949, 152.14268890314], [117.0, 109.61076123698949, 143.43800769724], [118.0, 109.61076123698949, 148.24848941629], [119.0, 109.61076123698949, 164.0], [120.0, 109.61076123698949, 151.89]]}, \"id\": \"el334754478026384\"});\n",
       "            })\n",
       "         });\n",
       "}\n",
       "</script>"
      ],
      "text/plain": [
       "<matplotlib.figure.Figure at 0x10ae94290>"
      ]
     },
     "metadata": {},
     "output_type": "display_data"
    }
   ],
   "source": [
    "def exponential_smoothing(series, alpha, predictions):\n",
    "    smoothed = [series[0]] # first value is same as series\n",
    "    for n in range(1, len(series) + predictions):\n",
    "        if n >= len(series): # we are forecasting\n",
    "            value = smoothed[-1]\n",
    "        else:\n",
    "            value = series[n]\n",
    "        smoothed.append(alpha * value + (1 - alpha) * smoothed[n-1]) \n",
    "    return smoothed\n",
    "\n",
    "alpha = 0.7\n",
    "predictions = 10 # how many predictions do you want to make?\n",
    "\n",
    "# Print and plot prediction\n",
    "pred4_full = exponential_smoothing(apple[:-predictions], alpha = alpha, predictions = predictions)\n",
    "_,ax = plt.subplots()\n",
    "_,_,_ = ax.plot(pred4_full, color = \"red\"), ax.plot(apple, color = \"blue\"), plt.show()"
   ]
  },
  {
   "cell_type": "markdown",
   "metadata": {},
   "source": [
    "As you will have seen from your experiments, the blue line is our true data and the red line is our *model* of that data. The good thing about models is that we can use them to model the unseen future, as well as the known past. \n",
    "\n",
    "However, at the moment our model isn't doing a great job on the future part. \n",
    "\n",
    "The main issue seems to be that it only tracks the values of the data. That is because our model looks only at the **level** of the values, so the best it can do is give us the same values back. We need it to also consider the **trend** of the data, which is the size of the jump between adjacent values.\n",
    "\n",
    "Before, with exponential smoothing, we iteratively updated the level. Now, with *Double* Exponential Smoothing (DES), we iteratively update the level *and* trend in the same way, and then add them together to make our prediction. This introduces a second parameter, $\\beta$ (beta), which defines the two weights used to itereatively update the trend.\n",
    "\n",
    "The weights, `alpha` and `beta` have been preassigned some values below, but the model is poor. **Your task is to find values for these parameters that give a good prediction of the future.**\n",
    "\n",
    "*NOTE: the `test_points` variable cuts your model's data short, so that you can 'test' how well your model predicts unknown data. This is currently set at 5 - lower values make things easier and higher values make it much harder! Bonus points for generating a good fit using 7 test points or more.*"
   ]
  },
  {
   "cell_type": "code",
   "execution_count": 46,
   "metadata": {},
   "outputs": [
    {
     "data": {
      "application/vnd.jupyter.widget-view+json": {
       "model_id": "276dbfd86ae641168035273a5d25a48f"
      }
     },
     "metadata": {},
     "output_type": "display_data"
    },
    {
     "data": {
      "text/plain": [
       "<function __main__.plot_d_e_s>"
      ]
     },
     "execution_count": 46,
     "metadata": {},
     "output_type": "execute_result"
    }
   ],
   "source": [
    "# Define double exponential smoothing\n",
    "def d_e_s(series, alpha, beta, predictions):\n",
    "    smoothed = [series[0]]\n",
    "    for n in range(1, len(series)+ predictions):\n",
    "        if n == 1:\n",
    "            level, trend = series[0], series[1] - series[0]\n",
    "        if n >= len(series): # we are forecasting\n",
    "            value = smoothed[-1]\n",
    "        else:\n",
    "            value = series[n]\n",
    "        last_level, level = level, alpha*value + (1-alpha)*(level+trend)\n",
    "        trend = beta*(level-last_level) + (1-beta)*trend\n",
    "        smoothed.append(level+trend)\n",
    "    return smoothed\n",
    "\n",
    "# Define a function to plot the model\n",
    "def plot_d_e_s(series, test_points, forecast_points, alpha=0.1, beta=0.5):\n",
    "    pred5_full = d_e_s(series[:-test_points], alpha = alpha, beta = beta, predictions = test_points*forecast_points)\n",
    "    _,ax = plt.subplots()\n",
    "    _,_,_ = ax.plot(pred5_full, color = \"red\"), ax.plot(apple, color = \"blue\"), plt.show()\n",
    "\n",
    "# Create an interactive plot with apple stock\n",
    "interact(plot_d_e_s, series=fixed(apple), test_points=5, forecast_points=3, alpha=(0,2,0.1), beta=(0,2,0.1))"
   ]
  },
  {
   "cell_type": "markdown",
   "metadata": {},
   "source": [
    "Congratulations! We have built a model that can predict the future.\n",
    "\n",
    "This is a simplistic introduction to time series analysis, although these methods are the foundation to many of the cutting edge techniques used currently. If you'd like to like to investigate further, we recommend following the introduction here:\n",
    "\n",
    "https://datascience.ibm.com/exchange/public/entry/view/815137c868b916821dec777bdc23013c\n",
    "\n",
    "## <font color='green'>You're now finished with this section! Let your facilitators know, and have a break.</font>\n",
    "\n",
    "![done](https://media.giphy.com/media/R6aNZ3Uc1aR1K/giphy.gif)"
   ]
  },
  {
   "cell_type": "markdown",
   "metadata": {},
   "source": [
    "## 4. Preparing for Visualization\n",
    "\n",
    "Let's get our data ready for a more snazzy visualization.\n",
    "\n",
    "Based on the [D3.js show reel](https://bl.ocks.org/mbostock/1256572), we need the data to be arranged like this:\n",
    "\n",
    "```\n",
    "symbol,date,price\n",
    "MSFT,Jan 2000,39.81\n",
    "MSFT,Feb 2000,36.35\n",
    "MSFT,Mar 2000,43.22\n",
    "MSFT,Apr 2000,28.37\n",
    "MSFT,May 2000,25.45```\n",
    "\n",
    "### 4.1 Replotting with forecasts\n",
    "\n",
    "First, we need to calculate our predictions for each stock (using the $\\alpha$ and $\\beta$ values you've chosen) and append them to the end of our dataframe. We will predict 3 months ahead:"
   ]
  },
  {
   "cell_type": "code",
   "execution_count": 54,
   "metadata": {},
   "outputs": [
    {
     "name": "stdout",
     "output_type": "stream",
     "text": [
      "Requirement already up-to-date: pandas in /Library/Frameworks/Python.framework/Versions/2.7/lib/python2.7/site-packages\n",
      "Requirement already up-to-date: numpy>=1.7.0 in /Library/Frameworks/Python.framework/Versions/2.7/lib/python2.7/site-packages (from pandas)\n",
      "Requirement already up-to-date: python-dateutil in /Library/Frameworks/Python.framework/Versions/2.7/lib/python2.7/site-packages (from pandas)\n",
      "Requirement already up-to-date: pytz>=2011k in /Library/Frameworks/Python.framework/Versions/2.7/lib/python2.7/site-packages (from pandas)\n",
      "Requirement already up-to-date: six>=1.5 in /Library/Frameworks/Python.framework/Versions/2.7/lib/python2.7/site-packages (from python-dateutil->pandas)\n"
     ]
    },
    {
     "data": {
      "text/html": [
       "<div>\n",
       "<style>\n",
       "    .dataframe thead tr:only-child th {\n",
       "        text-align: right;\n",
       "    }\n",
       "\n",
       "    .dataframe thead th {\n",
       "        text-align: left;\n",
       "    }\n",
       "\n",
       "    .dataframe tbody tr th {\n",
       "        vertical-align: top;\n",
       "    }\n",
       "</style>\n",
       "<table border=\"1\" class=\"dataframe\">\n",
       "  <thead>\n",
       "    <tr style=\"text-align: right;\">\n",
       "      <th></th>\n",
       "      <th>KHC</th>\n",
       "      <th>WFC</th>\n",
       "      <th>AAPL</th>\n",
       "    </tr>\n",
       "  </thead>\n",
       "  <tbody>\n",
       "    <tr>\n",
       "      <th>2017-07-31</th>\n",
       "      <td>86.8326</td>\n",
       "      <td>53.5505</td>\n",
       "      <td>148.248</td>\n",
       "    </tr>\n",
       "    <tr>\n",
       "      <th>2017-08-31</th>\n",
       "      <td>80.75</td>\n",
       "      <td>51.07</td>\n",
       "      <td>164</td>\n",
       "    </tr>\n",
       "    <tr>\n",
       "      <th>2017-09-30</th>\n",
       "      <td>77.52</td>\n",
       "      <td>54.25</td>\n",
       "      <td>151.89</td>\n",
       "    </tr>\n",
       "    <tr>\n",
       "      <th>2017-10-31</th>\n",
       "      <td>71.9614</td>\n",
       "      <td>48.0552</td>\n",
       "      <td>164.453</td>\n",
       "    </tr>\n",
       "    <tr>\n",
       "      <th>2017-11-30</th>\n",
       "      <td>67.3709</td>\n",
       "      <td>46.4604</td>\n",
       "      <td>167.238</td>\n",
       "    </tr>\n",
       "    <tr>\n",
       "      <th>2017-12-31</th>\n",
       "      <td>62.7805</td>\n",
       "      <td>44.8656</td>\n",
       "      <td>170.022</td>\n",
       "    </tr>\n",
       "  </tbody>\n",
       "</table>\n",
       "</div>"
      ],
      "text/plain": [
       "                KHC      WFC     AAPL\n",
       "2017-07-31  86.8326  53.5505  148.248\n",
       "2017-08-31    80.75    51.07      164\n",
       "2017-09-30    77.52    54.25   151.89\n",
       "2017-10-31  71.9614  48.0552  164.453\n",
       "2017-11-30  67.3709  46.4604  167.238\n",
       "2017-12-31  62.7805  44.8656  170.022"
      ]
     },
     "execution_count": 54,
     "metadata": {},
     "output_type": "execute_result"
    }
   ],
   "source": [
    "!pip install --upgrade pandas # upgrade pandas\n",
    "import pandas as pd\n",
    "\n",
    "data = data.reindex(pd.date_range(\"2007-09-30\", \"2017-12-31\", freq = '1M'), fill_value=\"NaN\")\n",
    "\n",
    "alpha = 0.3\n",
    "beta = 0.9\n",
    "\n",
    "for i, column in enumerate(data):\n",
    "    if column == 'KHC': # select only the range of dates for which we have data\n",
    "        stock = data[column].iloc[94:-3].values\n",
    "    else:\n",
    "        stock = data[column].iloc[:-4].values\n",
    "    forecast = d_e_s(stock, alpha = alpha, beta = beta, predictions = 3) # create our forecast\n",
    "    \n",
    "    col_forecast = pd.Series(forecast[-3:], index = pd.date_range(\"2017-10-31\", \"2017-12-31\", freq = '1M'))\n",
    "    data[column].iloc[-3:] = col_forecast\n",
    "    \n",
    "data.tail(6)"
   ]
  },
  {
   "cell_type": "markdown",
   "metadata": {},
   "source": [
    "How did your model fair on the other stocks? Let's visualize the results!\n",
    "\n",
    "Below, we create two overlapping plots, one with the existing data and one with our forecasts, marked in red. So that we can see the relative trends, we'll only look at the range where we have data for KHC:"
   ]
  },
  {
   "cell_type": "code",
   "execution_count": 53,
   "metadata": {},
   "outputs": [
    {
     "data": {
      "text/plain": [
       "[<matplotlib.lines.Line2D at 0x10c02df10>,\n",
       " <matplotlib.lines.Line2D at 0x10a1223d0>,\n",
       " <matplotlib.lines.Line2D at 0x10a122410>]"
      ]
     },
     "execution_count": 53,
     "metadata": {},
     "output_type": "execute_result"
    },
    {
     "data": {
      "image/png": "[encoded data removed]",
      "text/html": [
       "\n",
       "\n",
       "<style>\n",
       "\n",
       "</style>\n",
       "\n",
       "<div id=\"fig_el3347544964814882705806484\"></div>\n",
       "<script>\n",
       "function mpld3_load_lib(url, callback){\n",
       "  var s = document.createElement('script');\n",
       "  s.src = url;\n",
       "  s.async = true;\n",
       "  s.onreadystatechange = s.onload = callback;\n",
       "  s.onerror = function(){console.warn(\"failed to load library \" + url);};\n",
       "  document.getElementsByTagName(\"head\")[0].appendChild(s);\n",
       "}\n",
       "\n",
       "if(typeof(mpld3) !== \"undefined\" && mpld3._mpld3IsLoaded){\n",
       "   // already loaded: just create the figure\n",
       "   !function(mpld3){\n",
       "       \n",
       "       mpld3.draw_figure(\"fig_el3347544964814882705806484\", {\"axes\": [{\"xlim\": [732761.75, 736881.25], \"yscale\": \"linear\", \"axesbg\": \"#FFFFFF\", \"texts\": [], \"zoomable\": true, \"images\": [], \"xdomain\": [[2007, 2, 26, 18, 0, 0, 0.0], [2018, 6, 6, 6, 0, 0, 0.0]], \"ylim\": [1.9856630912126434, 178.02403682857852], \"paths\": [], \"sharey\": [], \"sharex\": [], \"axesbgalpha\": null, \"axes\": [{\"scale\": \"linear\", \"tickformat\": null, \"grid\": {\"gridOn\": false}, \"visible\": true, \"fontsize\": 10.0, \"position\": \"bottom\", \"nticks\": 5, \"tickvalues\": null}, {\"scale\": \"linear\", \"tickformat\": null, \"grid\": {\"gridOn\": false}, \"visible\": true, \"fontsize\": 10.0, \"position\": \"left\", \"nticks\": 10, \"tickvalues\": null}], \"lines\": [{\"drawstyle\": \"default\", \"color\": \"#1F77B4\", \"yindex\": 1, \"coordinates\": \"data\", \"dasharray\": \"none\", \"zorder\": 2, \"alpha\": 1, \"xindex\": 0, \"linewidth\": 1.5, \"data\": \"data01\", \"id\": \"el334754463934800\"}, {\"drawstyle\": \"default\", \"color\": \"#FF7F0E\", \"yindex\": 2, \"coordinates\": \"data\", \"dasharray\": \"none\", \"zorder\": 2, \"alpha\": 1, \"xindex\": 0, \"linewidth\": 1.5, \"data\": \"data01\", \"id\": \"el334754465766864\"}, {\"drawstyle\": \"default\", \"color\": \"#2CA02C\", \"yindex\": 3, \"coordinates\": \"data\", \"dasharray\": \"none\", \"zorder\": 2, \"alpha\": 1, \"xindex\": 0, \"linewidth\": 1.5, \"data\": \"data01\", \"id\": \"el334754465770384\"}, {\"drawstyle\": \"default\", \"color\": \"#FF0000\", \"yindex\": 1, \"coordinates\": \"data\", \"dasharray\": \"none\", \"zorder\": 2, \"alpha\": 1, \"xindex\": 0, \"linewidth\": 1.5, \"data\": \"data02\", \"id\": \"el334754496482064\"}, {\"drawstyle\": \"default\", \"color\": \"#FF0000\", \"yindex\": 2, \"coordinates\": \"data\", \"dasharray\": \"none\", \"zorder\": 2, \"alpha\": 1, \"xindex\": 0, \"linewidth\": 1.5, \"data\": \"data02\", \"id\": \"el334754463928272\"}, {\"drawstyle\": \"default\", \"color\": \"#FF0000\", \"yindex\": 3, \"coordinates\": \"data\", \"dasharray\": \"none\", \"zorder\": 2, \"alpha\": 1, \"xindex\": 0, \"linewidth\": 1.5, \"data\": \"data02\", \"id\": \"el334754463928336\"}], \"markers\": [], \"id\": \"el334754465571856\", \"ydomain\": [1.9856630912126434, 178.02403682857852], \"collections\": [], \"xscale\": \"date\", \"bbox\": [0.125, 0.125, 0.775, 0.755]}], \"height\": 288.0, \"width\": 432.0, \"plugins\": [{\"type\": \"reset\"}, {\"enabled\": false, \"button\": true, \"type\": \"zoom\"}, {\"enabled\": false, \"button\": true, \"type\": \"boxzoom\"}], \"data\": {\"data02\": [[736602.0, 77.52, 54.25, 151.89], [736633.0, 71.96138386816058, 48.055237667171255, 164.45346728151046], [736663.0, 67.37094689260596, 46.4603974965153, 167.23787992464983], [736694.0, 62.78050991705133, 44.86555732585935, 170.02229256778915]], \"data01\": [[732949.0, NaN, 27.366091029719, 19.723034011231], [732980.0, NaN, 26.129162153867, 24.411222456723], [733010.0, NaN, 25.166378433743, 23.417809718684], [733041.0, NaN, 23.428090191635, 25.456040769822], [733072.0, NaN, 26.446813969225, 17.395646600379], [733101.0, NaN, 22.916878264786, 16.066812485072], [733132.0, NaN, 22.814955781912, 18.441750052855], [733162.0, NaN, 23.324568196284, 22.354999454314], [733193.0, NaN, 21.839512782252, 24.257005731542], [733223.0, NaN, 18.813508472198, 21.518373720209], [733254.0, NaN, 23.978311640144, 20.427290389556], [733285.0, NaN, 24.247286432544, 21.786967849899], [733315.0, NaN, 30.062790215176, 14.606894153362], [733346.0, NaN, 27.275193360691, 13.826814551823], [733376.0, NaN, 23.390226016419, 11.909386602077], [733407.0, NaN, 23.867908029216, 10.968664578475], [733438.0, NaN, 15.302017020088, 11.582961200445], [733466.0, NaN, 9.987407352002, 11.477579771571], [733497.0, NaN, 11.753775263844, 13.509385125826], [733527.0, NaN, 16.516365381286, 16.170908774569], [733558.0, NaN, 21.087051779849, 17.453477872322], [733588.0, NaN, 20.061642203104, 18.304240139569], [733619.0, NaN, 20.227030844514, 20.997892272724], [733650.0, NaN, 22.798086403311, 21.6173294522], [733680.0, NaN, 23.344842835948, 23.820058343531], [733711.0, NaN, 22.798086403311, 24.22487724713], [733741.0, NaN, 23.272169314678, 25.691221275723], [733772.0, NaN, 22.400707910241, 27.081999108977], [733803.0, NaN, 23.595854979183, 24.682772406979], [733831.0, NaN, 22.731513444209, 26.296521922057], [733862.0, NaN, 25.874348880168, 30.200775347881], [733892.0, NaN, 27.528910392749, 33.553703981184], [733923.0, NaN, 23.890473279224, 33.012660303675], [733953.0, NaN, 21.31739686121, 32.325110737244], [733984.0, NaN, 23.091070896928, 33.060210460605], [734015.0, NaN, 19.64544591999, 31.24173824285], [734045.0, NaN, 20.95097130703, 36.465829808345], [734076.0, NaN, 21.739291748406, 38.680124954064], [734106.0, NaN, 22.741515837121, 39.98711169997], [734137.0, NaN, 25.900756184946, 41.453455728563], [734168.0, NaN, 27.095918538753, 43.607349323587], [734196.0, NaN, 27.003395476407, 45.392407917553], [734227.0, NaN, 26.601924878653, 44.788071125751], [734257.0, NaN, 24.42075159942, 44.996584989589], [734288.0, NaN, 23.899191524973, 44.701002932993], [734318.0, NaN, 23.638044208345, 43.138273451162], [734349.0, NaN, 23.536954924489, 50.182122373789], [734380.0, NaN, 22.083565037547, 49.456018626063], [734410.0, NaN, 20.408260103664, 49.00493470491], [734441.0, NaN, 21.922803452983, 52.019871682192], [734471.0, NaN, 21.984155875193, 49.118026970042], [734502.0, NaN, 23.429363337986, 52.048144748475], [734533.0, NaN, 24.832064698932, 58.664042258726], [734562.0, NaN, 26.70711138368, 69.711100339167], [734593.0, NaN, 29.227048519308, 77.050531318391], [734623.0, NaN, 28.606380382914, 75.049569309172], [734654.0, NaN, 27.617624986873, 74.246357198856], [734684.0, NaN, 28.815394058067, 75.052139587925], [734715.0, NaN, 29.13422467414, 78.491172559453], [734746.0, NaN, 29.514551732024, 85.857594115654], [734776.0, NaN, 29.948206620828, 86.098295836876], [734807.0, NaN, 29.219666407637, 76.83353816507], [734837.0, NaN, 28.821283697695, 75.896485214554], [734868.0, NaN, 29.842819654262, 69.009794690466], [734899.0, NaN, 30.627742687255, 59.065900168086], [734927.0, NaN, 30.8475800594, 57.562728311726], [734958.0, NaN, 32.527137582588, 57.727044210395], [734988.0, NaN, 33.397693576283, 57.742693343602], [735019.0, NaN, 35.935834675552, 59.041313847026], [735049.0, NaN, 36.57390621603, 52.056549256254], [735080.0, NaN, 38.550155570567, 59.40824208744], [735111.0, NaN, 36.657933387445, 64.384993720396], [735141.0, NaN, 36.872098528949, 63.001924723734], [735172.0, NaN, 38.094624545034, 69.074424870362], [735202.0, NaN, 39.559129248138, 73.914215436527], [735233.0, NaN, 40.799283686175, 74.572181819196], [735264.0, NaN, 40.745363928, 66.541004275586], [735292.0, NaN, 41.998867254847, 70.365411763138], [735323.0, NaN, 45.002663878847, 71.76940390268], [735353.0, NaN, 44.912188076919, 78.903021106928], [735384.0, NaN, 46.269189547841, 85.114261733663], [735414.0, NaN, 47.891071339789, 87.468686256501], [735445.0, NaN, 46.378529893365, 89.98177559584], [735476.0, NaN, 47.198262137537, 96.956206806577], [735506.0, NaN, 47.592804375467, 95.30085693427], [735537.0, NaN, 48.712203283084, 102.15873497669], [735567.0, NaN, 50.314422309488, 112.98399738955], [735598.0, NaN, 50.628425679261, 104.8614616317], [735629.0, NaN, 47.950161642963, 111.30248998705], [735657.0, NaN, 50.934686156653, 122.5157567099], [735688.0, NaN, 50.572128616936, 118.67223733001], [735718.0, NaN, 51.222872918992, 119.35892069317], [735749.0, NaN, 52.377573352296, 124.76735316852], [735779.0, NaN, 52.639648415531, 120.11778685264], [735810.0, 74.490493466069, 54.165299676508, 116.16733143492], [735841.0, 68.107200896496, 50.240631438077, 108.47643694077], [735871.0, 66.120037864559, 48.375331414687, 105.77318412236], [735902.0, 73.084481886868, 51.003708720373, 114.96039565823], [735932.0, 69.632842445394, 52.264738901248, 114.29538877569], [735963.0, 69.307892228966, 51.562816818001, 101.69680999602], [735994.0, 74.356433031791, 47.645332758797, 94.044912454993], [736023.0, 73.365775968595, 44.856276527438, 93.919781198699], [736054.0, 75.384149765237, 46.232939745672, 105.86737979984], [736084.0, 74.913958403412, 47.781685866184, 91.054300233386], [736115.0, 80.3716622509, 48.865637028736, 97.591938528951], [736145.0, 85.482445918496, 45.599578086949, 93.428693404443], [736176.0, 83.463251615041, 46.216179185104, 101.84313953637], [736207.0, 87.041420911462, 49.333677703594, 104.24847718874], [736237.0, 87.060873681807, 43.001874974707, 111.07719459177], [736268.0, 86.51619611213, 44.681939195715, 111.55864373242], [736298.0, 79.999518046349, 51.824163421622, 109.15491652711], [736329.0, 85.554904051527, 53.968814175464, 114.38945378366], [736360.0, 87.485082257911, 55.163551125094, 119.85115020417], [736388.0, 89.660206937187, 57.066697924081, 135.8803615489], [736419.0, 89.558241906473, 54.877892302252, 142.49633360184], [736449.0, 89.104582713906, 53.083466071743, 142.48641460326], [736480.0, 91.538593974175, 50.770723940011, 152.14268890314], [736510.0, 85.005796269727, 55.00989076097, 143.43800769724], [736541.0, 86.832596843615, 53.550505461951, 148.24848941629], [736572.0, 80.75, 51.07, 164.0], [736602.0, 77.52, 54.25, 151.89]]}, \"id\": \"el334754496481488\"});\n",
       "   }(mpld3);\n",
       "}else if(typeof define === \"function\" && define.amd){\n",
       "   // require.js is available: use it to load d3/mpld3\n",
       "   require.config({paths: {d3: \"https://mpld3.github.io/js/d3.v3.min\"}});\n",
       "   require([\"d3\"], function(d3){\n",
       "      window.d3 = d3;\n",
       "      mpld3_load_lib(\"https://mpld3.github.io/js/mpld3.v0.3.js\", function(){\n",
       "         \n",
       "         mpld3.draw_figure(\"fig_el3347544964814882705806484\", {\"axes\": [{\"xlim\": [732761.75, 736881.25], \"yscale\": \"linear\", \"axesbg\": \"#FFFFFF\", \"texts\": [], \"zoomable\": true, \"images\": [], \"xdomain\": [[2007, 2, 26, 18, 0, 0, 0.0], [2018, 6, 6, 6, 0, 0, 0.0]], \"ylim\": [1.9856630912126434, 178.02403682857852], \"paths\": [], \"sharey\": [], \"sharex\": [], \"axesbgalpha\": null, \"axes\": [{\"scale\": \"linear\", \"tickformat\": null, \"grid\": {\"gridOn\": false}, \"visible\": true, \"fontsize\": 10.0, \"position\": \"bottom\", \"nticks\": 5, \"tickvalues\": null}, {\"scale\": \"linear\", \"tickformat\": null, \"grid\": {\"gridOn\": false}, \"visible\": true, \"fontsize\": 10.0, \"position\": \"left\", \"nticks\": 10, \"tickvalues\": null}], \"lines\": [{\"drawstyle\": \"default\", \"color\": \"#1F77B4\", \"yindex\": 1, \"coordinates\": \"data\", \"dasharray\": \"none\", \"zorder\": 2, \"alpha\": 1, \"xindex\": 0, \"linewidth\": 1.5, \"data\": \"data01\", \"id\": \"el334754463934800\"}, {\"drawstyle\": \"default\", \"color\": \"#FF7F0E\", \"yindex\": 2, \"coordinates\": \"data\", \"dasharray\": \"none\", \"zorder\": 2, \"alpha\": 1, \"xindex\": 0, \"linewidth\": 1.5, \"data\": \"data01\", \"id\": \"el334754465766864\"}, {\"drawstyle\": \"default\", \"color\": \"#2CA02C\", \"yindex\": 3, \"coordinates\": \"data\", \"dasharray\": \"none\", \"zorder\": 2, \"alpha\": 1, \"xindex\": 0, \"linewidth\": 1.5, \"data\": \"data01\", \"id\": \"el334754465770384\"}, {\"drawstyle\": \"default\", \"color\": \"#FF0000\", \"yindex\": 1, \"coordinates\": \"data\", \"dasharray\": \"none\", \"zorder\": 2, \"alpha\": 1, \"xindex\": 0, \"linewidth\": 1.5, \"data\": \"data02\", \"id\": \"el334754496482064\"}, {\"drawstyle\": \"default\", \"color\": \"#FF0000\", \"yindex\": 2, \"coordinates\": \"data\", \"dasharray\": \"none\", \"zorder\": 2, \"alpha\": 1, \"xindex\": 0, \"linewidth\": 1.5, \"data\": \"data02\", \"id\": \"el334754463928272\"}, {\"drawstyle\": \"default\", \"color\": \"#FF0000\", \"yindex\": 3, \"coordinates\": \"data\", \"dasharray\": \"none\", \"zorder\": 2, \"alpha\": 1, \"xindex\": 0, \"linewidth\": 1.5, \"data\": \"data02\", \"id\": \"el334754463928336\"}], \"markers\": [], \"id\": \"el334754465571856\", \"ydomain\": [1.9856630912126434, 178.02403682857852], \"collections\": [], \"xscale\": \"date\", \"bbox\": [0.125, 0.125, 0.775, 0.755]}], \"height\": 288.0, \"width\": 432.0, \"plugins\": [{\"type\": \"reset\"}, {\"enabled\": false, \"button\": true, \"type\": \"zoom\"}, {\"enabled\": false, \"button\": true, \"type\": \"boxzoom\"}], \"data\": {\"data02\": [[736602.0, 77.52, 54.25, 151.89], [736633.0, 71.96138386816058, 48.055237667171255, 164.45346728151046], [736663.0, 67.37094689260596, 46.4603974965153, 167.23787992464983], [736694.0, 62.78050991705133, 44.86555732585935, 170.02229256778915]], \"data01\": [[732949.0, NaN, 27.366091029719, 19.723034011231], [732980.0, NaN, 26.129162153867, 24.411222456723], [733010.0, NaN, 25.166378433743, 23.417809718684], [733041.0, NaN, 23.428090191635, 25.456040769822], [733072.0, NaN, 26.446813969225, 17.395646600379], [733101.0, NaN, 22.916878264786, 16.066812485072], [733132.0, NaN, 22.814955781912, 18.441750052855], [733162.0, NaN, 23.324568196284, 22.354999454314], [733193.0, NaN, 21.839512782252, 24.257005731542], [733223.0, NaN, 18.813508472198, 21.518373720209], [733254.0, NaN, 23.978311640144, 20.427290389556], [733285.0, NaN, 24.247286432544, 21.786967849899], [733315.0, NaN, 30.062790215176, 14.606894153362], [733346.0, NaN, 27.275193360691, 13.826814551823], [733376.0, NaN, 23.390226016419, 11.909386602077], [733407.0, NaN, 23.867908029216, 10.968664578475], [733438.0, NaN, 15.302017020088, 11.582961200445], [733466.0, NaN, 9.987407352002, 11.477579771571], [733497.0, NaN, 11.753775263844, 13.509385125826], [733527.0, NaN, 16.516365381286, 16.170908774569], [733558.0, NaN, 21.087051779849, 17.453477872322], [733588.0, NaN, 20.061642203104, 18.304240139569], [733619.0, NaN, 20.227030844514, 20.997892272724], [733650.0, NaN, 22.798086403311, 21.6173294522], [733680.0, NaN, 23.344842835948, 23.820058343531], [733711.0, NaN, 22.798086403311, 24.22487724713], [733741.0, NaN, 23.272169314678, 25.691221275723], [733772.0, NaN, 22.400707910241, 27.081999108977], [733803.0, NaN, 23.595854979183, 24.682772406979], [733831.0, NaN, 22.731513444209, 26.296521922057], [733862.0, NaN, 25.874348880168, 30.200775347881], [733892.0, NaN, 27.528910392749, 33.553703981184], [733923.0, NaN, 23.890473279224, 33.012660303675], [733953.0, NaN, 21.31739686121, 32.325110737244], [733984.0, NaN, 23.091070896928, 33.060210460605], [734015.0, NaN, 19.64544591999, 31.24173824285], [734045.0, NaN, 20.95097130703, 36.465829808345], [734076.0, NaN, 21.739291748406, 38.680124954064], [734106.0, NaN, 22.741515837121, 39.98711169997], [734137.0, NaN, 25.900756184946, 41.453455728563], [734168.0, NaN, 27.095918538753, 43.607349323587], [734196.0, NaN, 27.003395476407, 45.392407917553], [734227.0, NaN, 26.601924878653, 44.788071125751], [734257.0, NaN, 24.42075159942, 44.996584989589], [734288.0, NaN, 23.899191524973, 44.701002932993], [734318.0, NaN, 23.638044208345, 43.138273451162], [734349.0, NaN, 23.536954924489, 50.182122373789], [734380.0, NaN, 22.083565037547, 49.456018626063], [734410.0, NaN, 20.408260103664, 49.00493470491], [734441.0, NaN, 21.922803452983, 52.019871682192], [734471.0, NaN, 21.984155875193, 49.118026970042], [734502.0, NaN, 23.429363337986, 52.048144748475], [734533.0, NaN, 24.832064698932, 58.664042258726], [734562.0, NaN, 26.70711138368, 69.711100339167], [734593.0, NaN, 29.227048519308, 77.050531318391], [734623.0, NaN, 28.606380382914, 75.049569309172], [734654.0, NaN, 27.617624986873, 74.246357198856], [734684.0, NaN, 28.815394058067, 75.052139587925], [734715.0, NaN, 29.13422467414, 78.491172559453], [734746.0, NaN, 29.514551732024, 85.857594115654], [734776.0, NaN, 29.948206620828, 86.098295836876], [734807.0, NaN, 29.219666407637, 76.83353816507], [734837.0, NaN, 28.821283697695, 75.896485214554], [734868.0, NaN, 29.842819654262, 69.009794690466], [734899.0, NaN, 30.627742687255, 59.065900168086], [734927.0, NaN, 30.8475800594, 57.562728311726], [734958.0, NaN, 32.527137582588, 57.727044210395], [734988.0, NaN, 33.397693576283, 57.742693343602], [735019.0, NaN, 35.935834675552, 59.041313847026], [735049.0, NaN, 36.57390621603, 52.056549256254], [735080.0, NaN, 38.550155570567, 59.40824208744], [735111.0, NaN, 36.657933387445, 64.384993720396], [735141.0, NaN, 36.872098528949, 63.001924723734], [735172.0, NaN, 38.094624545034, 69.074424870362], [735202.0, NaN, 39.559129248138, 73.914215436527], [735233.0, NaN, 40.799283686175, 74.572181819196], [735264.0, NaN, 40.745363928, 66.541004275586], [735292.0, NaN, 41.998867254847, 70.365411763138], [735323.0, NaN, 45.002663878847, 71.76940390268], [735353.0, NaN, 44.912188076919, 78.903021106928], [735384.0, NaN, 46.269189547841, 85.114261733663], [735414.0, NaN, 47.891071339789, 87.468686256501], [735445.0, NaN, 46.378529893365, 89.98177559584], [735476.0, NaN, 47.198262137537, 96.956206806577], [735506.0, NaN, 47.592804375467, 95.30085693427], [735537.0, NaN, 48.712203283084, 102.15873497669], [735567.0, NaN, 50.314422309488, 112.98399738955], [735598.0, NaN, 50.628425679261, 104.8614616317], [735629.0, NaN, 47.950161642963, 111.30248998705], [735657.0, NaN, 50.934686156653, 122.5157567099], [735688.0, NaN, 50.572128616936, 118.67223733001], [735718.0, NaN, 51.222872918992, 119.35892069317], [735749.0, NaN, 52.377573352296, 124.76735316852], [735779.0, NaN, 52.639648415531, 120.11778685264], [735810.0, 74.490493466069, 54.165299676508, 116.16733143492], [735841.0, 68.107200896496, 50.240631438077, 108.47643694077], [735871.0, 66.120037864559, 48.375331414687, 105.77318412236], [735902.0, 73.084481886868, 51.003708720373, 114.96039565823], [735932.0, 69.632842445394, 52.264738901248, 114.29538877569], [735963.0, 69.307892228966, 51.562816818001, 101.69680999602], [735994.0, 74.356433031791, 47.645332758797, 94.044912454993], [736023.0, 73.365775968595, 44.856276527438, 93.919781198699], [736054.0, 75.384149765237, 46.232939745672, 105.86737979984], [736084.0, 74.913958403412, 47.781685866184, 91.054300233386], [736115.0, 80.3716622509, 48.865637028736, 97.591938528951], [736145.0, 85.482445918496, 45.599578086949, 93.428693404443], [736176.0, 83.463251615041, 46.216179185104, 101.84313953637], [736207.0, 87.041420911462, 49.333677703594, 104.24847718874], [736237.0, 87.060873681807, 43.001874974707, 111.07719459177], [736268.0, 86.51619611213, 44.681939195715, 111.55864373242], [736298.0, 79.999518046349, 51.824163421622, 109.15491652711], [736329.0, 85.554904051527, 53.968814175464, 114.38945378366], [736360.0, 87.485082257911, 55.163551125094, 119.85115020417], [736388.0, 89.660206937187, 57.066697924081, 135.8803615489], [736419.0, 89.558241906473, 54.877892302252, 142.49633360184], [736449.0, 89.104582713906, 53.083466071743, 142.48641460326], [736480.0, 91.538593974175, 50.770723940011, 152.14268890314], [736510.0, 85.005796269727, 55.00989076097, 143.43800769724], [736541.0, 86.832596843615, 53.550505461951, 148.24848941629], [736572.0, 80.75, 51.07, 164.0], [736602.0, 77.52, 54.25, 151.89]]}, \"id\": \"el334754496481488\"});\n",
       "      });\n",
       "    });\n",
       "}else{\n",
       "    // require.js not available: dynamically load d3 & mpld3\n",
       "    mpld3_load_lib(\"https://mpld3.github.io/js/d3.v3.min.js\", function(){\n",
       "         mpld3_load_lib(\"https://mpld3.github.io/js/mpld3.v0.3.js\", function(){\n",
       "                 \n",
       "                 mpld3.draw_figure(\"fig_el3347544964814882705806484\", {\"axes\": [{\"xlim\": [732761.75, 736881.25], \"yscale\": \"linear\", \"axesbg\": \"#FFFFFF\", \"texts\": [], \"zoomable\": true, \"images\": [], \"xdomain\": [[2007, 2, 26, 18, 0, 0, 0.0], [2018, 6, 6, 6, 0, 0, 0.0]], \"ylim\": [1.9856630912126434, 178.02403682857852], \"paths\": [], \"sharey\": [], \"sharex\": [], \"axesbgalpha\": null, \"axes\": [{\"scale\": \"linear\", \"tickformat\": null, \"grid\": {\"gridOn\": false}, \"visible\": true, \"fontsize\": 10.0, \"position\": \"bottom\", \"nticks\": 5, \"tickvalues\": null}, {\"scale\": \"linear\", \"tickformat\": null, \"grid\": {\"gridOn\": false}, \"visible\": true, \"fontsize\": 10.0, \"position\": \"left\", \"nticks\": 10, \"tickvalues\": null}], \"lines\": [{\"drawstyle\": \"default\", \"color\": \"#1F77B4\", \"yindex\": 1, \"coordinates\": \"data\", \"dasharray\": \"none\", \"zorder\": 2, \"alpha\": 1, \"xindex\": 0, \"linewidth\": 1.5, \"data\": \"data01\", \"id\": \"el334754463934800\"}, {\"drawstyle\": \"default\", \"color\": \"#FF7F0E\", \"yindex\": 2, \"coordinates\": \"data\", \"dasharray\": \"none\", \"zorder\": 2, \"alpha\": 1, \"xindex\": 0, \"linewidth\": 1.5, \"data\": \"data01\", \"id\": \"el334754465766864\"}, {\"drawstyle\": \"default\", \"color\": \"#2CA02C\", \"yindex\": 3, \"coordinates\": \"data\", \"dasharray\": \"none\", \"zorder\": 2, \"alpha\": 1, \"xindex\": 0, \"linewidth\": 1.5, \"data\": \"data01\", \"id\": \"el334754465770384\"}, {\"drawstyle\": \"default\", \"color\": \"#FF0000\", \"yindex\": 1, \"coordinates\": \"data\", \"dasharray\": \"none\", \"zorder\": 2, \"alpha\": 1, \"xindex\": 0, \"linewidth\": 1.5, \"data\": \"data02\", \"id\": \"el334754496482064\"}, {\"drawstyle\": \"default\", \"color\": \"#FF0000\", \"yindex\": 2, \"coordinates\": \"data\", \"dasharray\": \"none\", \"zorder\": 2, \"alpha\": 1, \"xindex\": 0, \"linewidth\": 1.5, \"data\": \"data02\", \"id\": \"el334754463928272\"}, {\"drawstyle\": \"default\", \"color\": \"#FF0000\", \"yindex\": 3, \"coordinates\": \"data\", \"dasharray\": \"none\", \"zorder\": 2, \"alpha\": 1, \"xindex\": 0, \"linewidth\": 1.5, \"data\": \"data02\", \"id\": \"el334754463928336\"}], \"markers\": [], \"id\": \"el334754465571856\", \"ydomain\": [1.9856630912126434, 178.02403682857852], \"collections\": [], \"xscale\": \"date\", \"bbox\": [0.125, 0.125, 0.775, 0.755]}], \"height\": 288.0, \"width\": 432.0, \"plugins\": [{\"type\": \"reset\"}, {\"enabled\": false, \"button\": true, \"type\": \"zoom\"}, {\"enabled\": false, \"button\": true, \"type\": \"boxzoom\"}], \"data\": {\"data02\": [[736602.0, 77.52, 54.25, 151.89], [736633.0, 71.96138386816058, 48.055237667171255, 164.45346728151046], [736663.0, 67.37094689260596, 46.4603974965153, 167.23787992464983], [736694.0, 62.78050991705133, 44.86555732585935, 170.02229256778915]], \"data01\": [[732949.0, NaN, 27.366091029719, 19.723034011231], [732980.0, NaN, 26.129162153867, 24.411222456723], [733010.0, NaN, 25.166378433743, 23.417809718684], [733041.0, NaN, 23.428090191635, 25.456040769822], [733072.0, NaN, 26.446813969225, 17.395646600379], [733101.0, NaN, 22.916878264786, 16.066812485072], [733132.0, NaN, 22.814955781912, 18.441750052855], [733162.0, NaN, 23.324568196284, 22.354999454314], [733193.0, NaN, 21.839512782252, 24.257005731542], [733223.0, NaN, 18.813508472198, 21.518373720209], [733254.0, NaN, 23.978311640144, 20.427290389556], [733285.0, NaN, 24.247286432544, 21.786967849899], [733315.0, NaN, 30.062790215176, 14.606894153362], [733346.0, NaN, 27.275193360691, 13.826814551823], [733376.0, NaN, 23.390226016419, 11.909386602077], [733407.0, NaN, 23.867908029216, 10.968664578475], [733438.0, NaN, 15.302017020088, 11.582961200445], [733466.0, NaN, 9.987407352002, 11.477579771571], [733497.0, NaN, 11.753775263844, 13.509385125826], [733527.0, NaN, 16.516365381286, 16.170908774569], [733558.0, NaN, 21.087051779849, 17.453477872322], [733588.0, NaN, 20.061642203104, 18.304240139569], [733619.0, NaN, 20.227030844514, 20.997892272724], [733650.0, NaN, 22.798086403311, 21.6173294522], [733680.0, NaN, 23.344842835948, 23.820058343531], [733711.0, NaN, 22.798086403311, 24.22487724713], [733741.0, NaN, 23.272169314678, 25.691221275723], [733772.0, NaN, 22.400707910241, 27.081999108977], [733803.0, NaN, 23.595854979183, 24.682772406979], [733831.0, NaN, 22.731513444209, 26.296521922057], [733862.0, NaN, 25.874348880168, 30.200775347881], [733892.0, NaN, 27.528910392749, 33.553703981184], [733923.0, NaN, 23.890473279224, 33.012660303675], [733953.0, NaN, 21.31739686121, 32.325110737244], [733984.0, NaN, 23.091070896928, 33.060210460605], [734015.0, NaN, 19.64544591999, 31.24173824285], [734045.0, NaN, 20.95097130703, 36.465829808345], [734076.0, NaN, 21.739291748406, 38.680124954064], [734106.0, NaN, 22.741515837121, 39.98711169997], [734137.0, NaN, 25.900756184946, 41.453455728563], [734168.0, NaN, 27.095918538753, 43.607349323587], [734196.0, NaN, 27.003395476407, 45.392407917553], [734227.0, NaN, 26.601924878653, 44.788071125751], [734257.0, NaN, 24.42075159942, 44.996584989589], [734288.0, NaN, 23.899191524973, 44.701002932993], [734318.0, NaN, 23.638044208345, 43.138273451162], [734349.0, NaN, 23.536954924489, 50.182122373789], [734380.0, NaN, 22.083565037547, 49.456018626063], [734410.0, NaN, 20.408260103664, 49.00493470491], [734441.0, NaN, 21.922803452983, 52.019871682192], [734471.0, NaN, 21.984155875193, 49.118026970042], [734502.0, NaN, 23.429363337986, 52.048144748475], [734533.0, NaN, 24.832064698932, 58.664042258726], [734562.0, NaN, 26.70711138368, 69.711100339167], [734593.0, NaN, 29.227048519308, 77.050531318391], [734623.0, NaN, 28.606380382914, 75.049569309172], [734654.0, NaN, 27.617624986873, 74.246357198856], [734684.0, NaN, 28.815394058067, 75.052139587925], [734715.0, NaN, 29.13422467414, 78.491172559453], [734746.0, NaN, 29.514551732024, 85.857594115654], [734776.0, NaN, 29.948206620828, 86.098295836876], [734807.0, NaN, 29.219666407637, 76.83353816507], [734837.0, NaN, 28.821283697695, 75.896485214554], [734868.0, NaN, 29.842819654262, 69.009794690466], [734899.0, NaN, 30.627742687255, 59.065900168086], [734927.0, NaN, 30.8475800594, 57.562728311726], [734958.0, NaN, 32.527137582588, 57.727044210395], [734988.0, NaN, 33.397693576283, 57.742693343602], [735019.0, NaN, 35.935834675552, 59.041313847026], [735049.0, NaN, 36.57390621603, 52.056549256254], [735080.0, NaN, 38.550155570567, 59.40824208744], [735111.0, NaN, 36.657933387445, 64.384993720396], [735141.0, NaN, 36.872098528949, 63.001924723734], [735172.0, NaN, 38.094624545034, 69.074424870362], [735202.0, NaN, 39.559129248138, 73.914215436527], [735233.0, NaN, 40.799283686175, 74.572181819196], [735264.0, NaN, 40.745363928, 66.541004275586], [735292.0, NaN, 41.998867254847, 70.365411763138], [735323.0, NaN, 45.002663878847, 71.76940390268], [735353.0, NaN, 44.912188076919, 78.903021106928], [735384.0, NaN, 46.269189547841, 85.114261733663], [735414.0, NaN, 47.891071339789, 87.468686256501], [735445.0, NaN, 46.378529893365, 89.98177559584], [735476.0, NaN, 47.198262137537, 96.956206806577], [735506.0, NaN, 47.592804375467, 95.30085693427], [735537.0, NaN, 48.712203283084, 102.15873497669], [735567.0, NaN, 50.314422309488, 112.98399738955], [735598.0, NaN, 50.628425679261, 104.8614616317], [735629.0, NaN, 47.950161642963, 111.30248998705], [735657.0, NaN, 50.934686156653, 122.5157567099], [735688.0, NaN, 50.572128616936, 118.67223733001], [735718.0, NaN, 51.222872918992, 119.35892069317], [735749.0, NaN, 52.377573352296, 124.76735316852], [735779.0, NaN, 52.639648415531, 120.11778685264], [735810.0, 74.490493466069, 54.165299676508, 116.16733143492], [735841.0, 68.107200896496, 50.240631438077, 108.47643694077], [735871.0, 66.120037864559, 48.375331414687, 105.77318412236], [735902.0, 73.084481886868, 51.003708720373, 114.96039565823], [735932.0, 69.632842445394, 52.264738901248, 114.29538877569], [735963.0, 69.307892228966, 51.562816818001, 101.69680999602], [735994.0, 74.356433031791, 47.645332758797, 94.044912454993], [736023.0, 73.365775968595, 44.856276527438, 93.919781198699], [736054.0, 75.384149765237, 46.232939745672, 105.86737979984], [736084.0, 74.913958403412, 47.781685866184, 91.054300233386], [736115.0, 80.3716622509, 48.865637028736, 97.591938528951], [736145.0, 85.482445918496, 45.599578086949, 93.428693404443], [736176.0, 83.463251615041, 46.216179185104, 101.84313953637], [736207.0, 87.041420911462, 49.333677703594, 104.24847718874], [736237.0, 87.060873681807, 43.001874974707, 111.07719459177], [736268.0, 86.51619611213, 44.681939195715, 111.55864373242], [736298.0, 79.999518046349, 51.824163421622, 109.15491652711], [736329.0, 85.554904051527, 53.968814175464, 114.38945378366], [736360.0, 87.485082257911, 55.163551125094, 119.85115020417], [736388.0, 89.660206937187, 57.066697924081, 135.8803615489], [736419.0, 89.558241906473, 54.877892302252, 142.49633360184], [736449.0, 89.104582713906, 53.083466071743, 142.48641460326], [736480.0, 91.538593974175, 50.770723940011, 152.14268890314], [736510.0, 85.005796269727, 55.00989076097, 143.43800769724], [736541.0, 86.832596843615, 53.550505461951, 148.24848941629], [736572.0, 80.75, 51.07, 164.0], [736602.0, 77.52, 54.25, 151.89]]}, \"id\": \"el334754496481488\"});\n",
       "            })\n",
       "         });\n",
       "}\n",
       "</script>"
      ],
      "text/plain": [
       "<matplotlib.figure.Figure at 0x10c02dcd0>"
      ]
     },
     "metadata": {},
     "output_type": "display_data"
    }
   ],
   "source": [
    "fig, ax = plt.subplots()\n",
    "ax.plot(data.iloc[:-3])\n",
    "ax.plot(data.iloc[-4:], color = \"Red\")"
   ]
  },
  {
   "cell_type": "markdown",
   "metadata": {},
   "source": [
    "What do you notice about our forecasts?\n",
    "\n",
    "### 4.2 Exporting for further visualization\n",
    "\n",
    "Next, we want to rearrange all of the data to be more like what we need for D3. Python comes with a function called `unstack()` that does just that!\n",
    "\n",
    "Below, make a variable called `datalist` and set it equal to `data.unstack()`.\n",
    "\n",
    "Then show the top 10 rows of the datalist. (Hint, you've used this type of function before)"
   ]
  },
  {
   "cell_type": "code",
   "execution_count": null,
   "metadata": {
    "collapsed": true
   },
   "outputs": [],
   "source": []
  },
  {
   "cell_type": "markdown",
   "metadata": {},
   "source": [
    "Almost there! We've done the hard work, now we just need it in a CSV format.\n",
    "\n",
    "We've written this bit of code to clean the data a bit more and to output the data in a comma-separated value format."
   ]
  },
  {
   "cell_type": "code",
   "execution_count": null,
   "metadata": {
    "collapsed": true
   },
   "outputs": [],
   "source": [
    "csv = datalist.to_csv(header=True, index_label=['symbol','date','price'], date_format='%b %Y', index=True)\n",
    "csv = csv.replace(\"price,0\",\"price\") # remove addition of ',0' on first line\n",
    "print csv"
   ]
  },
  {
   "cell_type": "markdown",
   "metadata": {},
   "source": [
    "We could copy & paste this into a new CSV file for our D3.js visualization, or we could write code to do that for us.\n",
    "\n",
    "To make the downloadable file, we've got to bring in a library called `base64` which will encode the file. Then we use that to create the file and add a bit of HTML to make it so we can download the file."
   ]
  },
  {
   "cell_type": "code",
   "execution_count": null,
   "metadata": {
    "collapsed": true
   },
   "outputs": [],
   "source": [
    "import base64\n",
    "from IPython.display import HTML\n",
    "\n",
    "b64 = base64.b64encode(csv.encode())\n",
    "payload = b64.decode()\n",
    "html = '<a download=\"{filename}\" href=\"data:text/csv;base64,{payload}\" target=\"_blank\">{filename}</a>'\n",
    "html = html.format(payload=payload,title=\"stocks.csv\",filename=\"stocks.csv\")\n",
    "HTML(html)\n"
   ]
  },
  {
   "cell_type": "markdown",
   "metadata": {},
   "source": [
    "## <font color='green'>You're done!</font>\n",
    "\n",
    "![done](https://media.giphy.com/media/15BuyagtKucHm/giphy.gif)"
   ]
  },
  {
   "cell_type": "code",
   "execution_count": null,
   "metadata": {
    "collapsed": true
   },
   "outputs": [],
   "source": []
  }
 ],
 "metadata": {
  "kernelspec": {
   "display_name": "Python 2",
   "language": "python",
   "name": "python2"
  },
  "language_info": {
   "codemirror_mode": {
    "name": "ipython",
    "version": 2
   },
   "file_extension": ".py",
   "mimetype": "text/x-python",
   "name": "python",
   "nbconvert_exporter": "python",
   "pygments_lexer": "ipython2",
   "version": "2.7.13rc1"
  },
  "widgets": {
   "state": {},
   "version": "1.1.2"
  }
 },
 "nbformat": 4,
 "nbformat_minor": 2
}
