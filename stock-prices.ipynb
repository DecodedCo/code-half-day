{
 "cells": [
  {
   "cell_type": "markdown",
   "metadata": {},
   "source": [
    "# Pulling Stock Data\n",
    "This is a Python notebook to analyze Stock data based on ticker symbols.\n"
   ]
  },
  {
   "cell_type": "markdown",
   "metadata": {},
   "source": [
    "<br/>\n",
    "<br/>\n",
    "<br/>\n",
    "<br/>\n",
    "<br/>\n",
    "## 0. Programming in Python\n",
    "Let's start by seeing how to make variables, functions, and logic in Python."
   ]
  },
  {
   "cell_type": "markdown",
   "metadata": {},
   "source": [
    "### Variables\n",
    "Variables can take on many data types, from `'Strings'` to numbers (`0`), `True`/`False` and even functions.\n",
    "\n",
    "Let's create a variable called `x` and assign it a string. \n",
    "\n",
    "Type **`x = 'Hello world!'`** in the box below, then press **`Shift + Enter`** to execute the code."
   ]
  },
  {
   "cell_type": "code",
   "execution_count": null,
   "metadata": {
    "collapsed": true
   },
   "outputs": [],
   "source": []
  },
  {
   "cell_type": "markdown",
   "metadata": {},
   "source": [
    "Nothing happened... That's because we've only just created the variable `x`. \n",
    "\n",
    "Now to show the value of the variable, we need to type **`x`**. Again, press **`Shift + Enter`** to execute the code."
   ]
  },
  {
   "cell_type": "code",
   "execution_count": null,
   "metadata": {},
   "outputs": [],
   "source": []
  },
  {
   "cell_type": "markdown",
   "metadata": {},
   "source": [
    "### Functions\n",
    "\n",
    "We can build and use functions to perform some action.\n",
    "\n",
    "Functions can operate on one or more `variables` that get defined when you initially create the function. When definied, these variables are just placeholders for what to do with any data that gets sent to the function when it is used.\n",
    "\n",
    "Python uses indentation instead of `{` and `}` like in JavaScript or CSS. So be careful how you indent your code.\n",
    "\n",
    "Below, type **`def myFunction(y):`** on the first line, then hit `Enter` and type **`return y + 3`**. The second line should be automatically indented. Press **`Shift + Enter`** to save that function.\n",
    "\n",
    "In the box below that, type **`myFunction(3)`** - what do you expect it to return when you press **`Shift + Enter`**?"
   ]
  },
  {
   "cell_type": "code",
   "execution_count": null,
   "metadata": {
    "collapsed": true
   },
   "outputs": [],
   "source": []
  },
  {
   "cell_type": "code",
   "execution_count": null,
   "metadata": {
    "collapsed": true
   },
   "outputs": [],
   "source": []
  },
  {
   "cell_type": "markdown",
   "metadata": {},
   "source": [
    "### Logic\n",
    "Logic is the last piece of the programming foundation; this will test some comparison, and depending on whether the comparison is `True` or `False`, one outcome will result.\n",
    "\n",
    "We've put the basic structure in the box below, but you need to add a comparison in the `()` to test: e.g. **`(5 > 3)`** or **`('a' == 'a')`**. Press **`Shift + Enter`** to run the logic below."
   ]
  },
  {
   "cell_type": "code",
   "execution_count": null,
   "metadata": {},
   "outputs": [],
   "source": [
    "if ():\n",
    "   print 'The comparison is True'\n",
    "else:\n",
    "   print 'The comparison is False'"
   ]
  },
  {
   "cell_type": "markdown",
   "metadata": {},
   "source": [
    "### Wrap Up\n",
    "So that's it!  Variables, functions, logic and packages are the building blocks of programming in any language.\n",
    "\n",
    "Now that you've got a handle on those, we're going to get a bit more complicated working with our data.\n",
    "\n",
    "*Note: Just like above, you'll need to press `Shift + Enter` to run any code in an `In [ ]:` box.*\n",
    "\n",
    "## <font color='green'>You're now finished with this section! Let your facilitators know, and have a break.</font>\n",
    "\n",
    "![done](https://media.giphy.com/media/XreQmk7ETCak0/giphy.gif)"
   ]
  },
  {
   "cell_type": "markdown",
   "metadata": {},
   "source": [
    "<br/>\n",
    "<br/>\n",
    "<br/>\n",
    "<br/>\n",
    "<br/>\n",
    "## 1. Sourcing Data\n",
    "To begin working with our data, let's use an API called [Quandl](https://www.quandl.com) to bring in stock data.\n",
    "\n",
    "\n",
    "### 1.1 Packages\n",
    "\n",
    "We need to first `import quandl` to get the Quandl library of functions, then give the API our API key to get access to the data. The key for today is **`Byjzu4U8rmR1iEhZnp7V`** - copy and paste that between the `\"\"` below."
   ]
  },
  {
   "cell_type": "code",
   "execution_count": null,
   "metadata": {},
   "outputs": [],
   "source": [
    "!pip install quandl              # install quandl\n",
    "!pip install --upgrade pandas    # upgrade pandas (some housekeeping)\n",
    "\n",
    "import quandl\n",
    "quandl.ApiConfig.api_key = \"\""
   ]
  },
  {
   "cell_type": "markdown",
   "metadata": {},
   "source": [
    "### 1.2 Getting the data\n",
    "\n",
    "Now that we've got our connection to quandl, let's pull a single stock (`AAPL`) and store that in a variable called `data`.\n",
    "\n",
    "Add **`WIKI/AAPL`** between the `\"\"` below."
   ]
  },
  {
   "cell_type": "code",
   "execution_count": null,
   "metadata": {
    "collapsed": true
   },
   "outputs": [],
   "source": [
    "data = quandl.get(\"\", rows=5)"
   ]
  },
  {
   "cell_type": "markdown",
   "metadata": {},
   "source": [
    "And if we want to look at the data itself, we can type **`data`** below."
   ]
  },
  {
   "cell_type": "code",
   "execution_count": null,
   "metadata": {},
   "outputs": [],
   "source": []
  },
  {
   "cell_type": "markdown",
   "metadata": {},
   "source": [
    "To assess the health of each stock, let's find the `Close` price for each stock. If you notice above, that's the 4th column.\n",
    "\n",
    "Based on Quandl's [API documentation](https://docs.quandl.com/docs/time-series-2), we can extract just that column by adding **`.4`** after `WIKI/AAPL` to get **`WIKI/AAPL.4`**:"
   ]
  },
  {
   "cell_type": "code",
   "execution_count": null,
   "metadata": {},
   "outputs": [],
   "source": [
    "data = quandl.get(\"WIKI/AAPL\", rows=5, collapse='monthly')\n",
    "data"
   ]
  },
  {
   "cell_type": "markdown",
   "metadata": {},
   "source": [
    "That's great! But it looks like we're pulling data starting from 1980, when Apple had it's IPO. Not all stocks will date back that far, so we need to choose a time window that we think will work for most stocks.\n",
    "\n",
    "To make a ***human choice***, let's say the last 10 years.\n",
    "\n",
    "First, we get the date 10 years ago, then we use that start date to pull our data.\n",
    "\n",
    "We need to check that it worked - write **`data.head(5)`** in place of `#TODO`:"
   ]
  },
  {
   "cell_type": "code",
   "execution_count": null,
   "metadata": {},
   "outputs": [],
   "source": [
    "import datetime\n",
    "\n",
    "# Get start date of 10 years ago\n",
    "start_date = (datetime.datetime.now() - datetime.timedelta(days=10*365)).strftime('%Y-%m-01')\n",
    "\n",
    "# Make same request, but with our new start date\n",
    "data = quandl.get(\"WIKI/AAPL.4\", rows=120, collapse='monthly', start_date=start_date)\n",
    "\n",
    "#TODO"
   ]
  },
  {
   "cell_type": "markdown",
   "metadata": {},
   "source": [
    "### 1.3 Visualization for insight\n",
    "\n",
    "Python comes with a number of great visualization tools built in. A common package is the Math Plot Library (MatPlotLib), which we import below.\n",
    "\n",
    "Let's do a quick visualization of the data to see if it looks right.\n",
    "\n",
    "Complete the `#TODO` below by typing **`data.plot()`** :"
   ]
  },
  {
   "cell_type": "code",
   "execution_count": null,
   "metadata": {},
   "outputs": [],
   "source": [
    "%matplotlib inline\n",
    "!pip install mpld3 # install a package to let us zoom into our plots\n",
    "import mpld3\n",
    "mpld3.enable_notebook()\n",
    "\n",
    "#TODO"
   ]
  },
  {
   "cell_type": "markdown",
   "metadata": {},
   "source": [
    "Uh-oh! Looks like there's a problem: There's a big drop in AAPL stock in 2014! **If you don't see this, check with a facilitator**\n",
    "\n",
    "Why?!  Well, a quick Google shows they [split their stock](https://www.washingtonpost.com/news/the-switch/wp/2014/06/09/apples-stock-price-just-dropped-more-than-500-a-share-but-dont-panic/). \n",
    "\n",
    "Luckily, Quandl has accounted for that. Instead of `Close`, we'll need to use the `Adjusted Close` price (column 11) from Quandl.\n",
    "\n",
    "Modify the code below to get the **11**th column instead of the 4th."
   ]
  },
  {
   "cell_type": "code",
   "execution_count": null,
   "metadata": {},
   "outputs": [],
   "source": [
    "data = quandl.get(\"WIKI/AAPL.11\", collapse='monthly', start_date = start_date)\n",
    "\n",
    "# Now plot the data:\n",
    "data.plot()"
   ]
  },
  {
   "cell_type": "markdown",
   "metadata": {},
   "source": [
    "Great! Let's now focus on the full portfolio.\n",
    "\n",
    "\n",
    "## <font color='green'>You're now finished with this section! Let your facilitators know, and have a break.</font>\n",
    "\n",
    "![done](https://media.giphy.com/media/3o7TKLpxzkbvjwEgSc/giphy.gif)"
   ]
  },
  {
   "cell_type": "markdown",
   "metadata": {},
   "source": [
    "<br/>\n",
    "<br/>\n",
    "<br/>\n",
    "<br/>\n",
    "<br/>\n",
    "## 2. Sourcing more Data\n",
    "\n",
    "Now that we have access to stock data, we need to get that data for more companies. Let's pull in our list of Warren's 2003 aquisitions, and get the quandl data for each.\n",
    "\n",
    "First, we need to bring in the cleaned CSV file we exported from Open Refine, and store it as a variable. Let's call it `buffett`.\n",
    "\n",
    "Now let's take the output of the Open Refine scrubbing step and replace **`your_clean_csv.csv`** with that output:"
   ]
  },
  {
   "cell_type": "code",
   "execution_count": null,
   "metadata": {},
   "outputs": [],
   "source": [
    "from pandas import read_csv\n",
    "buffett = read_csv('/resources/data/my_clean_csv.csv')\n",
    "buffett.head(5)"
   ]
  },
  {
   "cell_type": "markdown",
   "metadata": {},
   "source": [
    "Next we want to choose some of those stocks for our analysis. Let's choose the first 3 companies from `buffett`. \n",
    "\n",
    "Replace `buffett['TICKER'][0:0]` with `buffett['TICKER']`**`[0:3]`**. If your column is called something different (like `Ticker`) then update accordingly:"
   ]
  },
  {
   "cell_type": "code",
   "execution_count": null,
   "metadata": {},
   "outputs": [],
   "source": [
    "symbols = [ 'WIKI/%s.11' % ticker for ticker in buffett['TICKER'][0:0] ]\n",
    "symbols"
   ]
  },
  {
   "cell_type": "markdown",
   "metadata": {},
   "source": [
    "We can now load in the symbol data from quandl.\n",
    "\n",
    "Let's create a new dataframe, `data2` and store our historical stock data for those 3 companies in it.\n",
    "\n",
    "We'll also clean up our column names to something more readable. \n",
    "\n",
    "To look at the final 5 rows of our dataframe, replace `#TODO` with **`data2.tail(5`**):"
   ]
  },
  {
   "cell_type": "code",
   "execution_count": null,
   "metadata": {},
   "outputs": [],
   "source": [
    "# Get the historical stock prices from quandl for our top 3 companies\n",
    "data2 = quandl.get(symbols, rows=121, collapse='monthly', start_date=start_date)\n",
    "\n",
    "# Rename our columns\n",
    "data2.columns = [col.replace(' - Adj. Close','').replace('WIKI/','') for col in data2.columns]\n",
    "\n",
    "#TODO"
   ]
  },
  {
   "cell_type": "markdown",
   "metadata": {},
   "source": [
    "Let's have another quick look at the data, to make sure everything looks good.\n",
    "\n",
    "Add the code to plot `data2` (hint: you've used similar code above already for `data`):"
   ]
  },
  {
   "cell_type": "code",
   "execution_count": null,
   "metadata": {},
   "outputs": [],
   "source": [
    "data2.plot() #TODO"
   ]
  },
  {
   "cell_type": "markdown",
   "metadata": {},
   "source": [
    "Explore the data by using the icons in the bottom left corner of the plot. \n",
    "\n",
    "It looks like we have some incomplete data.\n",
    "\n",
    "Further investigation reveals that we only have data for Kraft Heinz (KHC) from July 2015 onwards. We'll need to remember this for later, as this might affect our analysis.\n",
    "\n",
    "## <font color='green'>You're now finished with this section! Let your facilitators know, and have a break.</font>\n",
    "\n",
    "![done](https://media.giphy.com/media/26FL2NwYBOq3Z6C6Q/giphy.gif)"
   ]
  },
  {
   "cell_type": "markdown",
   "metadata": {},
   "source": [
    "<br/>\n",
    "<br/>\n",
    "<br/>\n",
    "<br/>\n",
    "<br/>\n",
    "## 3. Analysis\n",
    "\n",
    "## <font color='orange'>Please wait for your instructor to begin the Analysis section before proceeding</font>\n"
   ]
  },
  {
   "cell_type": "markdown",
   "metadata": {},
   "source": [
    "### 3.1 Retrieve code, tune model"
   ]
  },
  {
   "cell_type": "markdown",
   "metadata": {},
   "source": [
    "**Paste the model code below and run!**\n",
    "\n",
    "A reminder on the meaning of the parameters are given below:\n",
    " - **p**.......The complexity of the \"**A**uto**R**egressive\" part. High numbers will follow previous behaviour closely, but may be slower and less flexible in the long run.\n",
    " - **d**.......This refers to the \"**I**ntegrated\" differencing, and is the number times we need to difference the data to make it stationary. This can be left at 1.\n",
    " - **q**.......The complexity of the \"**M**oving **A**verage\" part. A higher number will place a stronger emphasis on seasonality and trend."
   ]
  },
  {
   "cell_type": "code",
   "execution_count": null,
   "metadata": {},
   "outputs": [],
   "source": [
    "#TODO"
   ]
  },
  {
   "cell_type": "markdown",
   "metadata": {},
   "source": [
    "### 3.2 Apply forecast model to Apple stock data"
   ]
  },
  {
   "cell_type": "markdown",
   "metadata": {},
   "source": [
    "Now to apply it to apple. As you can see in the code above, the function that we run to tune the model is called `custom_slider_ARIMA()`.\n",
    "\n",
    "It takes one variable - the data to be modelled.\n",
    "\n",
    "Run the function below, and pass the **`custom_slider_ARIMA()`** function the Apple stock data, which is accessed as **`data2.AAPL`**:"
   ]
  },
  {
   "cell_type": "code",
   "execution_count": null,
   "metadata": {},
   "outputs": [],
   "source": [
    "#TODO"
   ]
  },
  {
   "cell_type": "markdown",
   "metadata": {},
   "source": [
    "### 3.3 Apply model to all stocks\n",
    "\n",
    "Once you are happy with the shape of your prediction, **remember the (p,d,q) values you used for Apple**. We are now going to use them to create predictions for the other stocks we collected data for.\n",
    "\n",
    "The code below applies the model we've built to each of the stocks, and adds the predictions to the end of our existing data. It will then print out the last 10 values of our new dataset.\n",
    "\n",
    "**Complete the first two lines below** by naming the number of months you want to predict ahead (we recommend 6), and replace the (p,d,q) values with the values you used for Apple:"
   ]
  },
  {
   "cell_type": "code",
   "execution_count": null,
   "metadata": {},
   "outputs": [],
   "source": [
    "numberofmonths = 6         # how many predictions do we want to make?\n",
    "master_params = [p,d,q]    # what are the best parameters?\n",
    "\n",
    "\n",
    "# Here we need to add numberofmonths onto the end of the dataframe using data.reindex:\n",
    "data3 = data2.reindex(pd.date_range(datetime.datetime.now().date(), periods=121 + numberofmonths, freq='MS')+pd.DateOffset(days=-1, months=-120),fill_value=\"NaN\")\n",
    "\n",
    "\n",
    "\n",
    "for i, column in enumerate(data3):\n",
    "    if data3[column].isnull().values.any(): # select only the range of dates for which we have data\n",
    "        last_nan = np.where(data3[column].isnull().values)[0][-1]\n",
    "        stock = data3[column].iloc[(last_nan+1):-numberofmonths].values\n",
    "    else:\n",
    "        stock = data3[column].iloc[:-numberofmonths].values\n",
    "    \n",
    "    stock = stock.tolist()\n",
    "    forecast = ARIMAforecast(stock, params = master_params, steps = numberofmonths) # create our forecast\n",
    "    \n",
    "    col_forecast = pd.Series(forecast[-numberofmonths:], index = pd.date_range(start= datetime.datetime.now().date(), periods=numberofmonths, freq='MS') + pd.DateOffset(days=-1, months=1))\n",
    "    data3[column].iloc[-numberofmonths:] = col_forecast\n",
    "    \n",
    "\n",
    "data3.tail(10)"
   ]
  },
  {
   "cell_type": "markdown",
   "metadata": {},
   "source": [
    "### 3.4 Plot results\n",
    "\n",
    "Execute the code below to see the results."
   ]
  },
  {
   "cell_type": "code",
   "execution_count": null,
   "metadata": {},
   "outputs": [],
   "source": [
    "fig, ax = plt.subplots()\n",
    "_ = ax.plot(data3.iloc[:-numberofmonths])\n",
    "_ = ax.plot(data3.iloc[-(numberofmonths+1):], color = \"Red\")"
   ]
  },
  {
   "cell_type": "markdown",
   "metadata": {},
   "source": [
    "Congratulations! We have built and adapted a model that can predict the future.\n",
    "\n",
    "This is a simplistic introduction to time series analysis, although these methods are the foundation to many of the cutting edge techniques used currently. If you'd like to like to investigate ARIMA further, we recommend following the introduction here:\n",
    "\n",
    "https://datascience.ibm.com/exchange/public/entry/view/815137c868b916821dec777bdc23013c\n",
    "\n",
    "## <font color='green'>You're now finished with this section!</font>\n",
    "\n",
    "![done](https://media.giphy.com/media/R6aNZ3Uc1aR1K/giphy.gif)"
   ]
  },
  {
   "cell_type": "markdown",
   "metadata": {},
   "source": [
    "\n",
    "<br/>\n",
    "<br/>\n",
    "<br/><br/>\n",
    "<br/>\n",
    "<br/>\n",
    "## 4. Visualization for Communication\n",
    "\n",
    "Let's get our data ready for a more snazzy visualization.\n"
   ]
  },
  {
   "cell_type": "markdown",
   "metadata": {},
   "source": [
    "### 4.1 Exporting for further visualization\n"
   ]
  },
  {
   "cell_type": "markdown",
   "metadata": {},
   "source": [
    "Almost there! We've done the hard work, now we just need it in a CSV format.\n",
    "\n",
    "Based on the [D3.js show reel](https://bl.ocks.org/mbostock/1256572), we need the data to be arranged like this:\n",
    "\n",
    "```\n",
    "symbol,date,price\n",
    "MSFT,Jan 2000,39.81\n",
    "MSFT,Feb 2000,36.35\n",
    "MSFT,Mar 2000,43.22\n",
    "MSFT,Apr 2000,28.37\n",
    "MSFT,May 2000,25.45```\n",
    "\n",
    "We've written this bit of code to clean the data a bit more and to output the data in a comma-separated value format. Check over the code and **`print csv`** on the bottom line, to check the format is correct:"
   ]
  },
  {
   "cell_type": "code",
   "execution_count": null,
   "metadata": {},
   "outputs": [],
   "source": [
    "datalist=data3.unstack()\n",
    "csv = datalist.to_csv(header=True, index_label=['symbol','date','price'], date_format='%b %Y', index=True)\n",
    "csv = csv.replace(\"price,0\",\"price\") # remove addition of ',0' on first line\n",
    "#TODO"
   ]
  },
  {
   "cell_type": "markdown",
   "metadata": {},
   "source": [
    "We could copy & paste this into a new CSV file for our D3.js visualization, or we could write code to do that for us.\n",
    "\n",
    "To make the downloadable file, we've got to bring in a library called `base64` which will encode the file. Then we use that to create the file and add a bit of HTML to make it so we can download the file.\n",
    "\n",
    "Run the cell below, and download the resulting **`stocks.csv`** file."
   ]
  },
  {
   "cell_type": "code",
   "execution_count": null,
   "metadata": {},
   "outputs": [],
   "source": [
    "import base64\n",
    "from IPython.display import HTML\n",
    "\n",
    "b64 = base64.b64encode(csv.encode())\n",
    "payload = b64.decode()\n",
    "html = '<a download=\"{filename}\" href=\"data:text/csv;base64,{payload}\" target=\"_blank\">{filename}</a>'\n",
    "html = html.format(payload=payload,title=\"stocks.csv\",filename=\"stocks.csv\")\n",
    "HTML(html)\n"
   ]
  },
  {
   "cell_type": "markdown",
   "metadata": {},
   "source": [
    "Now you can import this file into your D3.js visualization."
   ]
  },
  {
   "cell_type": "markdown",
   "metadata": {},
   "source": [
    "## <font color='green'>You're done!</font>\n",
    "\n",
    "![done](https://media.giphy.com/media/15BuyagtKucHm/giphy.gif)"
   ]
  }
 ],
 "metadata": {
  "kernelspec": {
   "display_name": "Python 2",
   "language": "python",
   "name": "python2"
  },
  "language_info": {
   "codemirror_mode": {
    "name": "ipython",
    "version": 2
   },
   "file_extension": ".py",
   "mimetype": "text/x-python",
   "name": "python",
   "nbconvert_exporter": "python",
   "pygments_lexer": "ipython2",
   "version": "2.7.13"
  },
  "widgets": {
   "state": {},
   "version": "1.1.2"
  }
 },
 "nbformat": 4,
 "nbformat_minor": 2
}
