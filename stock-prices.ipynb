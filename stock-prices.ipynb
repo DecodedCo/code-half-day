{
 "cells": [
  {
   "cell_type": "markdown",
   "metadata": {},
   "source": [
    "# Pulling Stock Data\n",
    "This is a Python notebook to get Stock data based on ticker symbols.\n",
    "\n",
    "That data can then be used for a D3 visualization like: https://bl.ocks.org/mbostock/1256572"
   ]
  },
  {
   "cell_type": "markdown",
   "metadata": {},
   "source": [
    "## 0. Programming in Python\n",
    "Let's start by seeing how to make variables, functions, and logic in Python."
   ]
  },
  {
   "cell_type": "markdown",
   "metadata": {},
   "source": [
    "### Variables\n",
    "Variables can take on many data types, from `'Strings'` to numbers (`0`), `True`/`False` and even functions.\n",
    "\n",
    "Type `x = 'Hello world!'` in the box below, then press `Shift + Enter` to execute the code."
   ]
  },
  {
   "cell_type": "code",
   "execution_count": null,
   "metadata": {
    "collapsed": true
   },
   "outputs": [],
   "source": []
  },
  {
   "cell_type": "markdown",
   "metadata": {},
   "source": [
    "Nothing happened... That's because we've only just created the variable `x`. Now to show the value of the variable, we need to type `x`. Again, press `Shift + Enter` to execute the code."
   ]
  },
  {
   "cell_type": "code",
   "execution_count": null,
   "metadata": {
    "collapsed": true
   },
   "outputs": [],
   "source": []
  },
  {
   "cell_type": "markdown",
   "metadata": {},
   "source": [
    "### Functions\n",
    "Functions can take on any name - you get to choose - but the syntax for defining a function is always the same. Functions can also operate on one or more `variable` that gets defined when you initially create the function. These variables are a placeholder for what to do with any data that gets sent to the function when it is used.\n",
    "- First, define the name of the function with `def nameOfFunction():`\n",
    "- Then, if you want to send a variable to the function, put that variable name between the ().\n",
    "- Lastly, on the next line, tab in one tab, and write the instructions for what the function will do.\n",
    "\n",
    "Below, type `def myFunction(y):` on the first line, then tab in and type `return y + 3`.  Press `Shift + Enter` to save that functions.\n",
    "\n",
    "In the box below that, type `myFunction(3)` - what do you expect it to return when you press `Shift + Enter`?"
   ]
  },
  {
   "cell_type": "code",
   "execution_count": null,
   "metadata": {
    "collapsed": true
   },
   "outputs": [],
   "source": []
  },
  {
   "cell_type": "code",
   "execution_count": null,
   "metadata": {
    "collapsed": true
   },
   "outputs": [],
   "source": []
  },
  {
   "cell_type": "markdown",
   "metadata": {},
   "source": [
    "### Logic\n",
    "Logic is the last piece of the programming foundation; this will test some comparison, and depending on whether the comparison is `True` or `False`, one outcome will result.\n",
    "\n",
    "We've put the basic structure in the box below, but you need to add a comparison in the `()` to test: e.g. `(5 > 3)` or `('a' == 'a')`. Press `Shift + Enter` to run the logic below."
   ]
  },
  {
   "cell_type": "code",
   "execution_count": 1,
   "metadata": {
    "collapsed": false
   },
   "outputs": [
    {
     "name": "stdout",
     "output_type": "stream",
     "text": [
      "The comparison is False\n"
     ]
    }
   ],
   "source": [
    "if ():\n",
    "   print 'The comparison is True'\n",
    "else:\n",
    "   print 'The comparison is False'"
   ]
  },
  {
   "cell_type": "markdown",
   "metadata": {},
   "source": [
    "### Wrap Up\n",
    "So that's it!  Variables, functions, and logic are the building blocks of programming in any language.\n",
    "\n",
    "Now that you've got a handle on those, we're going to get a bit more complicated working with our data.\n",
    "\n",
    "*Note: Just like above, you'll need to press `Shift + Enter` to run any code in an `In [ ]:` box.*"
   ]
  },
  {
   "cell_type": "markdown",
   "metadata": {},
   "source": [
    "## 1. Sourcing Data\n",
    "To begin working with our data, let's use an API called [Quandl](https://www.quandl.com) to bring in stock data.\n",
    "\n",
    "We need to first `import quandl` to get the Quandl library of functions, then set our API key. The key for today is `Byjzu4U8rmR1iEhZnp7V` - copy and paste that between the `\"\"` below."
   ]
  },
  {
   "cell_type": "code",
   "execution_count": 2,
   "metadata": {
    "collapsed": false
   },
   "outputs": [
    {
     "name": "stdout",
     "output_type": "stream",
     "text": [
      "Requirement already satisfied: quandl in ./common/.virtualenv/python2/lib/python2.7/site-packages\n",
      "Requirement already satisfied: six in ./common/.virtualenv/python2/lib/python2.7/site-packages (from quandl)\n",
      "Requirement already satisfied: python-dateutil in ./common/.virtualenv/python2/lib/python2.7/site-packages (from quandl)\n",
      "Requirement already satisfied: inflection>=0.3.1 in ./common/.virtualenv/python2/lib/python2.7/site-packages (from quandl)\n",
      "Requirement already satisfied: pandas>=0.14 in ./common/.virtualenv/python2/lib/python2.7/site-packages (from quandl)\n",
      "Requirement already satisfied: more-itertools in ./common/.virtualenv/python2/lib/python2.7/site-packages (from quandl)\n",
      "Requirement already satisfied: numpy>=1.8 in ./common/.virtualenv/python2/lib/python2.7/site-packages (from quandl)\n",
      "Requirement already satisfied: requests<2.18,>=2.7.0 in /usr/local/lib/python2.7/dist-packages (from quandl)\n",
      "Requirement already satisfied: pytz>=2011k in ./common/.virtualenv/python2/lib/python2.7/site-packages (from pandas>=0.14->quandl)\n"
     ]
    }
   ],
   "source": [
    "!pip install quandl\n",
    "import quandl\n",
    "quandl.ApiConfig.api_key = \"Byjzu4U8rmR1iEhZnp7V\""
   ]
  },
  {
   "cell_type": "markdown",
   "metadata": {},
   "source": [
    "Now that we've got our connection to quandl, let's pull a single stock (`AAPL`) and store that in a variable called `data`.\n",
    "\n",
    "Add `WIKI/AAPL` between the `\"\"` below."
   ]
  },
  {
   "cell_type": "code",
   "execution_count": 3,
   "metadata": {
    "collapsed": false
   },
   "outputs": [],
   "source": [
    "data = quandl.get(\"WIKI/AAPL\", rows=5)"
   ]
  },
  {
   "cell_type": "markdown",
   "metadata": {},
   "source": [
    "To find out the type of data, we can type `print type(data)`."
   ]
  },
  {
   "cell_type": "code",
   "execution_count": 4,
   "metadata": {
    "collapsed": false
   },
   "outputs": [
    {
     "name": "stdout",
     "output_type": "stream",
     "text": [
      "<class 'pandas.core.frame.DataFrame'>\n"
     ]
    }
   ],
   "source": [
    "print type(data)"
   ]
  },
  {
   "cell_type": "markdown",
   "metadata": {},
   "source": [
    "And if we want to look at the data itself, we can write `data` below."
   ]
  },
  {
   "cell_type": "code",
   "execution_count": 5,
   "metadata": {
    "collapsed": false
   },
   "outputs": [
    {
     "data": {
      "text/html": [
       "<div>\n",
       "<style>\n",
       "    .dataframe thead tr:only-child th {\n",
       "        text-align: right;\n",
       "    }\n",
       "\n",
       "    .dataframe thead th {\n",
       "        text-align: left;\n",
       "    }\n",
       "\n",
       "    .dataframe tbody tr th {\n",
       "        vertical-align: top;\n",
       "    }\n",
       "</style>\n",
       "<table border=\"1\" class=\"dataframe\">\n",
       "  <thead>\n",
       "    <tr style=\"text-align: right;\">\n",
       "      <th></th>\n",
       "      <th>Open</th>\n",
       "      <th>High</th>\n",
       "      <th>Low</th>\n",
       "      <th>Close</th>\n",
       "      <th>Volume</th>\n",
       "      <th>Ex-Dividend</th>\n",
       "      <th>Split Ratio</th>\n",
       "      <th>Adj. Open</th>\n",
       "      <th>Adj. High</th>\n",
       "      <th>Adj. Low</th>\n",
       "      <th>Adj. Close</th>\n",
       "      <th>Adj. Volume</th>\n",
       "    </tr>\n",
       "    <tr>\n",
       "      <th>Date</th>\n",
       "      <th></th>\n",
       "      <th></th>\n",
       "      <th></th>\n",
       "      <th></th>\n",
       "      <th></th>\n",
       "      <th></th>\n",
       "      <th></th>\n",
       "      <th></th>\n",
       "      <th></th>\n",
       "      <th></th>\n",
       "      <th></th>\n",
       "      <th></th>\n",
       "    </tr>\n",
       "  </thead>\n",
       "  <tbody>\n",
       "    <tr>\n",
       "      <th>2017-09-12</th>\n",
       "      <td>162.61</td>\n",
       "      <td>163.96</td>\n",
       "      <td>158.770</td>\n",
       "      <td>160.82</td>\n",
       "      <td>71139119.0</td>\n",
       "      <td>0.0</td>\n",
       "      <td>1.0</td>\n",
       "      <td>162.61</td>\n",
       "      <td>163.96</td>\n",
       "      <td>158.770</td>\n",
       "      <td>160.82</td>\n",
       "      <td>71139119.0</td>\n",
       "    </tr>\n",
       "    <tr>\n",
       "      <th>2017-09-13</th>\n",
       "      <td>159.87</td>\n",
       "      <td>159.96</td>\n",
       "      <td>157.910</td>\n",
       "      <td>159.65</td>\n",
       "      <td>44393752.0</td>\n",
       "      <td>0.0</td>\n",
       "      <td>1.0</td>\n",
       "      <td>159.87</td>\n",
       "      <td>159.96</td>\n",
       "      <td>157.910</td>\n",
       "      <td>159.65</td>\n",
       "      <td>44393752.0</td>\n",
       "    </tr>\n",
       "    <tr>\n",
       "      <th>2017-09-14</th>\n",
       "      <td>158.99</td>\n",
       "      <td>159.40</td>\n",
       "      <td>158.090</td>\n",
       "      <td>158.28</td>\n",
       "      <td>23073646.0</td>\n",
       "      <td>0.0</td>\n",
       "      <td>1.0</td>\n",
       "      <td>158.99</td>\n",
       "      <td>159.40</td>\n",
       "      <td>158.090</td>\n",
       "      <td>158.28</td>\n",
       "      <td>23073646.0</td>\n",
       "    </tr>\n",
       "    <tr>\n",
       "      <th>2017-09-15</th>\n",
       "      <td>158.47</td>\n",
       "      <td>160.97</td>\n",
       "      <td>158.000</td>\n",
       "      <td>159.88</td>\n",
       "      <td>48203642.0</td>\n",
       "      <td>0.0</td>\n",
       "      <td>1.0</td>\n",
       "      <td>158.47</td>\n",
       "      <td>160.97</td>\n",
       "      <td>158.000</td>\n",
       "      <td>159.88</td>\n",
       "      <td>48203642.0</td>\n",
       "    </tr>\n",
       "    <tr>\n",
       "      <th>2017-09-18</th>\n",
       "      <td>160.11</td>\n",
       "      <td>160.50</td>\n",
       "      <td>157.995</td>\n",
       "      <td>158.67</td>\n",
       "      <td>27939718.0</td>\n",
       "      <td>0.0</td>\n",
       "      <td>1.0</td>\n",
       "      <td>160.11</td>\n",
       "      <td>160.50</td>\n",
       "      <td>157.995</td>\n",
       "      <td>158.67</td>\n",
       "      <td>27939718.0</td>\n",
       "    </tr>\n",
       "  </tbody>\n",
       "</table>\n",
       "</div>"
      ],
      "text/plain": [
       "              Open    High      Low   Close      Volume  Ex-Dividend  \\\n",
       "Date                                                                   \n",
       "2017-09-12  162.61  163.96  158.770  160.82  71139119.0          0.0   \n",
       "2017-09-13  159.87  159.96  157.910  159.65  44393752.0          0.0   \n",
       "2017-09-14  158.99  159.40  158.090  158.28  23073646.0          0.0   \n",
       "2017-09-15  158.47  160.97  158.000  159.88  48203642.0          0.0   \n",
       "2017-09-18  160.11  160.50  157.995  158.67  27939718.0          0.0   \n",
       "\n",
       "            Split Ratio  Adj. Open  Adj. High  Adj. Low  Adj. Close  \\\n",
       "Date                                                                  \n",
       "2017-09-12          1.0     162.61     163.96   158.770      160.82   \n",
       "2017-09-13          1.0     159.87     159.96   157.910      159.65   \n",
       "2017-09-14          1.0     158.99     159.40   158.090      158.28   \n",
       "2017-09-15          1.0     158.47     160.97   158.000      159.88   \n",
       "2017-09-18          1.0     160.11     160.50   157.995      158.67   \n",
       "\n",
       "            Adj. Volume  \n",
       "Date                     \n",
       "2017-09-12   71139119.0  \n",
       "2017-09-13   44393752.0  \n",
       "2017-09-14   23073646.0  \n",
       "2017-09-15   48203642.0  \n",
       "2017-09-18   27939718.0  "
      ]
     },
     "execution_count": 5,
     "metadata": {},
     "output_type": "execute_result"
    }
   ],
   "source": [
    "data"
   ]
  },
  {
   "cell_type": "markdown",
   "metadata": {},
   "source": [
    "To assess the health of each stock, let's find the `Close` price for each stock. If you notice above, that's the 4th column.\n",
    "\n",
    "Based on Quandl's [API documentation](https://docs.quandl.com/docs/time-series-2), we can extract just that column by adding `.4` after `WIKI/AAPL` to get `WIKI/AAPL.4`:"
   ]
  },
  {
   "cell_type": "code",
   "execution_count": 6,
   "metadata": {
    "collapsed": false
   },
   "outputs": [
    {
     "data": {
      "text/html": [
       "<div>\n",
       "<style>\n",
       "    .dataframe thead tr:only-child th {\n",
       "        text-align: right;\n",
       "    }\n",
       "\n",
       "    .dataframe thead th {\n",
       "        text-align: left;\n",
       "    }\n",
       "\n",
       "    .dataframe tbody tr th {\n",
       "        vertical-align: top;\n",
       "    }\n",
       "</style>\n",
       "<table border=\"1\" class=\"dataframe\">\n",
       "  <thead>\n",
       "    <tr style=\"text-align: right;\">\n",
       "      <th></th>\n",
       "      <th>Close</th>\n",
       "    </tr>\n",
       "    <tr>\n",
       "      <th>Date</th>\n",
       "      <th></th>\n",
       "    </tr>\n",
       "  </thead>\n",
       "  <tbody>\n",
       "    <tr>\n",
       "      <th>1980-12-31</th>\n",
       "      <td>34.13</td>\n",
       "    </tr>\n",
       "    <tr>\n",
       "      <th>1981-01-31</th>\n",
       "      <td>28.25</td>\n",
       "    </tr>\n",
       "    <tr>\n",
       "      <th>1981-02-28</th>\n",
       "      <td>26.50</td>\n",
       "    </tr>\n",
       "    <tr>\n",
       "      <th>1981-03-31</th>\n",
       "      <td>24.50</td>\n",
       "    </tr>\n",
       "    <tr>\n",
       "      <th>1981-04-30</th>\n",
       "      <td>28.38</td>\n",
       "    </tr>\n",
       "  </tbody>\n",
       "</table>\n",
       "</div>"
      ],
      "text/plain": [
       "            Close\n",
       "Date             \n",
       "1980-12-31  34.13\n",
       "1981-01-31  28.25\n",
       "1981-02-28  26.50\n",
       "1981-03-31  24.50\n",
       "1981-04-30  28.38"
      ]
     },
     "execution_count": 6,
     "metadata": {},
     "output_type": "execute_result"
    }
   ],
   "source": [
    "data = quandl.get(\"WIKI/AAPL.4\", rows=5, collapse='monthly')\n",
    "data"
   ]
  },
  {
   "cell_type": "markdown",
   "metadata": {},
   "source": [
    "That's great! But now we want to show data for the last 10 years.\n",
    "\n",
    "First, we need to have Python tell us what today's date is. We've written most of this for you, but you need to add a line to output the value of `start_date`."
   ]
  },
  {
   "cell_type": "code",
   "execution_count": 7,
   "metadata": {
    "collapsed": false
   },
   "outputs": [
    {
     "data": {
      "text/plain": [
       "'2007-09-01'"
      ]
     },
     "execution_count": 7,
     "metadata": {},
     "output_type": "execute_result"
    }
   ],
   "source": [
    "import datetime\n",
    "start_date = (datetime.datetime.now() - datetime.timedelta(days=10*365)).strftime('%Y-%m-01')\n",
    "start_date"
   ]
  },
  {
   "cell_type": "markdown",
   "metadata": {},
   "source": [
    "Now we need to add a new parameter to our Quandl get request. After `collapse='monthly'`, add a comma and then `start_date=start_date` inside the parenthesis.\n",
    "\n",
    "Then, to save space in the notebook, we're only going to show the top five rows of data using `data.head(5)`.\n",
    "\n",
    "How could you show the top 10 rows instead?"
   ]
  },
  {
   "cell_type": "code",
   "execution_count": 8,
   "metadata": {
    "collapsed": false
   },
   "outputs": [
    {
     "data": {
      "text/html": [
       "<div>\n",
       "<style>\n",
       "    .dataframe thead tr:only-child th {\n",
       "        text-align: right;\n",
       "    }\n",
       "\n",
       "    .dataframe thead th {\n",
       "        text-align: left;\n",
       "    }\n",
       "\n",
       "    .dataframe tbody tr th {\n",
       "        vertical-align: top;\n",
       "    }\n",
       "</style>\n",
       "<table border=\"1\" class=\"dataframe\">\n",
       "  <thead>\n",
       "    <tr style=\"text-align: right;\">\n",
       "      <th></th>\n",
       "      <th>Close</th>\n",
       "    </tr>\n",
       "    <tr>\n",
       "      <th>Date</th>\n",
       "      <th></th>\n",
       "    </tr>\n",
       "  </thead>\n",
       "  <tbody>\n",
       "    <tr>\n",
       "      <th>2007-09-30</th>\n",
       "      <td>153.47</td>\n",
       "    </tr>\n",
       "    <tr>\n",
       "      <th>2007-10-31</th>\n",
       "      <td>189.95</td>\n",
       "    </tr>\n",
       "    <tr>\n",
       "      <th>2007-11-30</th>\n",
       "      <td>182.22</td>\n",
       "    </tr>\n",
       "    <tr>\n",
       "      <th>2007-12-31</th>\n",
       "      <td>198.08</td>\n",
       "    </tr>\n",
       "    <tr>\n",
       "      <th>2008-01-31</th>\n",
       "      <td>135.36</td>\n",
       "    </tr>\n",
       "    <tr>\n",
       "      <th>2008-02-29</th>\n",
       "      <td>125.02</td>\n",
       "    </tr>\n",
       "    <tr>\n",
       "      <th>2008-03-31</th>\n",
       "      <td>143.50</td>\n",
       "    </tr>\n",
       "    <tr>\n",
       "      <th>2008-04-30</th>\n",
       "      <td>173.95</td>\n",
       "    </tr>\n",
       "    <tr>\n",
       "      <th>2008-05-31</th>\n",
       "      <td>188.75</td>\n",
       "    </tr>\n",
       "    <tr>\n",
       "      <th>2008-06-30</th>\n",
       "      <td>167.44</td>\n",
       "    </tr>\n",
       "  </tbody>\n",
       "</table>\n",
       "</div>"
      ],
      "text/plain": [
       "             Close\n",
       "Date              \n",
       "2007-09-30  153.47\n",
       "2007-10-31  189.95\n",
       "2007-11-30  182.22\n",
       "2007-12-31  198.08\n",
       "2008-01-31  135.36\n",
       "2008-02-29  125.02\n",
       "2008-03-31  143.50\n",
       "2008-04-30  173.95\n",
       "2008-05-31  188.75\n",
       "2008-06-30  167.44"
      ]
     },
     "execution_count": 8,
     "metadata": {},
     "output_type": "execute_result"
    }
   ],
   "source": [
    "data = quandl.get(\"WIKI/AAPL.4\", start_date=start_date, rows=120, collapse='monthly')\n",
    "data.head(10)"
   ]
  },
  {
   "cell_type": "markdown",
   "metadata": {},
   "source": [
    "Python comes with a number of great visualization tools built in.\n",
    "\n",
    "Let's do a quick visualization of the data to see if it looks right:"
   ]
  },
  {
   "cell_type": "code",
   "execution_count": 9,
   "metadata": {
    "collapsed": false
   },
   "outputs": [
    {
     "data": {
      "image/png": "[encoded data removed]",
      "text/plain": [
       "<matplotlib.figure.Figure at 0x7fb8aeb00b50>"
      ]
     },
     "metadata": {},
     "output_type": "display_data"
    }
   ],
   "source": [
    "%matplotlib inline\n",
    "ax = data.plot()"
   ]
  },
  {
   "cell_type": "markdown",
   "metadata": {},
   "source": [
    "Uh-oh! Looks like there's a problem: There's a big drop in AAPL stock in 2014!\n",
    "\n",
    "Why?!  Well, a quick Google shows they [split their stock](https://www.washingtonpost.com/news/the-switch/wp/2014/06/09/apples-stock-price-just-dropped-more-than-500-a-share-but-dont-panic/). \n",
    "\n",
    "Luckily, Quandl has accounted for that. Instead of `Close`, we'll need to use the `Adjusted Close` price (column 11) from Quandl.\n",
    "\n",
    "Modify the code below to get the 11th column instead of the 4th."
   ]
  },
  {
   "cell_type": "code",
   "execution_count": 10,
   "metadata": {
    "collapsed": false
   },
   "outputs": [
    {
     "data": {
      "image/png": "[encoded data removed]",
      "text/plain": [
       "<matplotlib.figure.Figure at 0x7fb8ae995d90>"
      ]
     },
     "metadata": {},
     "output_type": "display_data"
    }
   ],
   "source": [
    "data = quandl.get(\"WIKI/AAPL.11\", rows=120, collapse='monthly', start_date=start_date)\n",
    "ax = data.plot()"
   ]
  },
  {
   "cell_type": "markdown",
   "metadata": {},
   "source": [
    "Great! Let's get it ready for D3.js"
   ]
  },
  {
   "cell_type": "markdown",
   "metadata": {},
   "source": [
    "## 2. Scrubbing Data\n",
    "\n",
    "Based on the [D3.js show reel](https://bl.ocks.org/mbostock/1256572), we need the data to be arranged like this:\n",
    "\n",
    "```\n",
    "symbol,date,price\n",
    "MSFT,Jan 2000,39.81\n",
    "MSFT,Feb 2000,36.35\n",
    "MSFT,Mar 2000,43.22\n",
    "MSFT,Apr 2000,28.37\n",
    "MSFT,May 2000,25.45```\n",
    "\n",
    "Let's choose a few symbols from the list of Warren's companies and pull the data we need.\n",
    "\n",
    "First, we need to bring in the cleaned CSV file we exported from Open Refine, and store it as a variable. Let's call it `buffet`."
   ]
  },
  {
   "cell_type": "code",
   "execution_count": 30,
   "metadata": {
    "collapsed": false
   },
   "outputs": [
    {
     "data": {
      "text/html": [
       "<div>\n",
       "<style>\n",
       "    .dataframe thead tr:only-child th {\n",
       "        text-align: right;\n",
       "    }\n",
       "\n",
       "    .dataframe thead th {\n",
       "        text-align: left;\n",
       "    }\n",
       "\n",
       "    .dataframe tbody tr th {\n",
       "        vertical-align: top;\n",
       "    }\n",
       "</style>\n",
       "<table border=\"1\" class=\"dataframe\">\n",
       "  <thead>\n",
       "    <tr style=\"text-align: right;\">\n",
       "      <th></th>\n",
       "      <th>COMPANY</th>\n",
       "      <th>TICKER</th>\n",
       "      <th>COMPANY.1</th>\n",
       "      <th># OF SHARES</th>\n",
       "      <th>PRICE (8/24/2017)</th>\n",
       "      <th>CITY</th>\n",
       "      <th>PURCHASE DATE</th>\n",
       "      <th>REGION</th>\n",
       "      <th>CEO</th>\n",
       "      <th>EMPLOYEES</th>\n",
       "      <th>WARREN COMMENT</th>\n",
       "    </tr>\n",
       "  </thead>\n",
       "  <tbody>\n",
       "    <tr>\n",
       "      <th>0</th>\n",
       "      <td>Kraft Heinz</td>\n",
       "      <td>KHC</td>\n",
       "      <td>Kraft Heinz (KHC)</td>\n",
       "      <td>325,634,818</td>\n",
       "      <td>$82.80</td>\n",
       "      <td>Chicago, IL</td>\n",
       "      <td>9/27/2005</td>\n",
       "      <td>Central</td>\n",
       "      <td>Bernard Hees (2015–)</td>\n",
       "      <td>41,000 (2017)</td>\n",
       "      <td>Without a doubt</td>\n",
       "    </tr>\n",
       "    <tr>\n",
       "      <th>1</th>\n",
       "      <td>Wells Fargo</td>\n",
       "      <td>WFC</td>\n",
       "      <td>Wells Fargo (WFC)</td>\n",
       "      <td>467,987,270</td>\n",
       "      <td>$52.16</td>\n",
       "      <td>San Francisco, CA</td>\n",
       "      <td>7/7/2002</td>\n",
       "      <td>West</td>\n",
       "      <td>Timothy J. Sloan (Oct 12, 2016–)</td>\n",
       "      <td>NaN</td>\n",
       "      <td>It is decidedly so</td>\n",
       "    </tr>\n",
       "    <tr>\n",
       "      <th>2</th>\n",
       "      <td>Apple Inc.</td>\n",
       "      <td>AAPL</td>\n",
       "      <td>Apple Inc. (AAPL)</td>\n",
       "      <td>130,191,960</td>\n",
       "      <td>$159.27</td>\n",
       "      <td>Cupertino, CA</td>\n",
       "      <td>9/23/2006</td>\n",
       "      <td>West</td>\n",
       "      <td>Tim Cook</td>\n",
       "      <td>NaN</td>\n",
       "      <td>Concentrate and ask again</td>\n",
       "    </tr>\n",
       "    <tr>\n",
       "      <th>3</th>\n",
       "      <td>The Coca Cola Company</td>\n",
       "      <td>KO</td>\n",
       "      <td>The Coca Cola Company (KO)</td>\n",
       "      <td>400,000,000</td>\n",
       "      <td>$45.41</td>\n",
       "      <td>Atlanta, GA</td>\n",
       "      <td>12/10/2003</td>\n",
       "      <td>Southeast</td>\n",
       "      <td>James Quincey (May 1, 2017–)</td>\n",
       "      <td>NaN</td>\n",
       "      <td>Reply hazy try again</td>\n",
       "    </tr>\n",
       "    <tr>\n",
       "      <th>4</th>\n",
       "      <td>American Express Co</td>\n",
       "      <td>AXP</td>\n",
       "      <td>American Express Co (AXP)</td>\n",
       "      <td>151,610,700</td>\n",
       "      <td>$85.36</td>\n",
       "      <td>New York City, NY</td>\n",
       "      <td>6/2/2013</td>\n",
       "      <td>Northeast</td>\n",
       "      <td>Kenneth I. Chenault (Jan 2001–)</td>\n",
       "      <td>NaN</td>\n",
       "      <td>It is decidedly so</td>\n",
       "    </tr>\n",
       "  </tbody>\n",
       "</table>\n",
       "</div>"
      ],
      "text/plain": [
       "                 COMPANY TICKER                   COMPANY.1  # OF SHARES  \\\n",
       "0            Kraft Heinz    KHC           Kraft Heinz (KHC)  325,634,818   \n",
       "1            Wells Fargo    WFC           Wells Fargo (WFC)  467,987,270   \n",
       "2             Apple Inc.   AAPL           Apple Inc. (AAPL)  130,191,960   \n",
       "3  The Coca Cola Company     KO  The Coca Cola Company (KO)  400,000,000   \n",
       "4    American Express Co    AXP   American Express Co (AXP)  151,610,700   \n",
       "\n",
       "  PRICE (8/24/2017)               CITY PURCHASE DATE     REGION  \\\n",
       "0            $82.80        Chicago, IL     9/27/2005    Central   \n",
       "1            $52.16  San Francisco, CA      7/7/2002       West   \n",
       "2           $159.27      Cupertino, CA     9/23/2006       West   \n",
       "3            $45.41        Atlanta, GA    12/10/2003  Southeast   \n",
       "4            $85.36  New York City, NY      6/2/2013  Northeast   \n",
       "\n",
       "                                CEO      EMPLOYEES             WARREN COMMENT  \n",
       "0              Bernard Hees (2015–)  41,000 (2017)            Without a doubt  \n",
       "1  Timothy J. Sloan (Oct 12, 2016–)            NaN         It is decidedly so  \n",
       "2                          Tim Cook            NaN  Concentrate and ask again  \n",
       "3      James Quincey (May 1, 2017–)            NaN       Reply hazy try again  \n",
       "4   Kenneth I. Chenault (Jan 2001–)            NaN         It is decidedly so  "
      ]
     },
     "execution_count": 30,
     "metadata": {},
     "output_type": "execute_result"
    }
   ],
   "source": [
    "from pandas import read_csv\n",
    "buffet = read_csv('https://raw.githubusercontent.com/DecodedCo/ibm-cbd/python/WB_portfolio_for_Decoded%20-%202017_0824.csv')\n",
    "buffet.head(5)"
   ]
  },
  {
   "cell_type": "markdown",
   "metadata": {},
   "source": [
    "Next we want to choose some of those stocks for our analysis. We could either type out the ticker symbol (e.g. `MSFT`) by hand, or we could refer to the `buffet` variable in order to select the ticker symbols. Let's choose the first 3 stocks from `buffet`. Replace `buffet[0:0]` with `buffet[0:3]`:"
   ]
  },
  {
   "cell_type": "code",
   "execution_count": 12,
   "metadata": {
    "collapsed": false
   },
   "outputs": [
    {
     "data": {
      "text/plain": [
       "['WIKI/KHC.11', 'WIKI/WFC.11', 'WIKI/AAPL.11']"
      ]
     },
     "execution_count": 12,
     "metadata": {},
     "output_type": "execute_result"
    }
   ],
   "source": [
    "symbols = [ 'WIKI/%s.11' % ticker for ticker in buffet.TICKER[0:3] ]\n",
    "symbols"
   ]
  },
  {
   "cell_type": "markdown",
   "metadata": {},
   "source": [
    "We can now load in the symbol data from quandl:"
   ]
  },
  {
   "cell_type": "code",
   "execution_count": 13,
   "metadata": {
    "collapsed": false
   },
   "outputs": [
    {
     "data": {
      "text/html": [
       "<div>\n",
       "<style>\n",
       "    .dataframe thead tr:only-child th {\n",
       "        text-align: right;\n",
       "    }\n",
       "\n",
       "    .dataframe thead th {\n",
       "        text-align: left;\n",
       "    }\n",
       "\n",
       "    .dataframe tbody tr th {\n",
       "        vertical-align: top;\n",
       "    }\n",
       "</style>\n",
       "<table border=\"1\" class=\"dataframe\">\n",
       "  <thead>\n",
       "    <tr style=\"text-align: right;\">\n",
       "      <th></th>\n",
       "      <th>WIKI/KHC - Adj. Close</th>\n",
       "      <th>WIKI/WFC - Adj. Close</th>\n",
       "      <th>WIKI/AAPL - Adj. Close</th>\n",
       "    </tr>\n",
       "    <tr>\n",
       "      <th>Date</th>\n",
       "      <th></th>\n",
       "      <th></th>\n",
       "      <th></th>\n",
       "    </tr>\n",
       "  </thead>\n",
       "  <tbody>\n",
       "    <tr>\n",
       "      <th>2007-09-30</th>\n",
       "      <td>NaN</td>\n",
       "      <td>27.366091</td>\n",
       "      <td>19.723034</td>\n",
       "    </tr>\n",
       "    <tr>\n",
       "      <th>2007-10-31</th>\n",
       "      <td>NaN</td>\n",
       "      <td>26.129162</td>\n",
       "      <td>24.411222</td>\n",
       "    </tr>\n",
       "    <tr>\n",
       "      <th>2007-11-30</th>\n",
       "      <td>NaN</td>\n",
       "      <td>25.166378</td>\n",
       "      <td>23.417810</td>\n",
       "    </tr>\n",
       "    <tr>\n",
       "      <th>2007-12-31</th>\n",
       "      <td>NaN</td>\n",
       "      <td>23.428090</td>\n",
       "      <td>25.456041</td>\n",
       "    </tr>\n",
       "    <tr>\n",
       "      <th>2008-01-31</th>\n",
       "      <td>NaN</td>\n",
       "      <td>26.446814</td>\n",
       "      <td>17.395647</td>\n",
       "    </tr>\n",
       "  </tbody>\n",
       "</table>\n",
       "</div>"
      ],
      "text/plain": [
       "            WIKI/KHC - Adj. Close  WIKI/WFC - Adj. Close  \\\n",
       "Date                                                       \n",
       "2007-09-30                    NaN              27.366091   \n",
       "2007-10-31                    NaN              26.129162   \n",
       "2007-11-30                    NaN              25.166378   \n",
       "2007-12-31                    NaN              23.428090   \n",
       "2008-01-31                    NaN              26.446814   \n",
       "\n",
       "            WIKI/AAPL - Adj. Close  \n",
       "Date                                \n",
       "2007-09-30               19.723034  \n",
       "2007-10-31               24.411222  \n",
       "2007-11-30               23.417810  \n",
       "2007-12-31               25.456041  \n",
       "2008-01-31               17.395647  "
      ]
     },
     "execution_count": 13,
     "metadata": {},
     "output_type": "execute_result"
    }
   ],
   "source": [
    "data = quandl.get(symbols, rows=120, collapse='monthly', start_date=start_date)\n",
    "data.head(5)"
   ]
  },
  {
   "cell_type": "markdown",
   "metadata": {},
   "source": [
    "Let's clean up the column name to just their symbol name by removing `WIKI/` and ` - Close` from each column name.\n",
    "\n",
    "We can iterate over the columns using the `for col in data.columns` syntax:"
   ]
  },
  {
   "cell_type": "code",
   "execution_count": 14,
   "metadata": {
    "collapsed": false
   },
   "outputs": [
    {
     "data": {
      "text/html": [
       "<div>\n",
       "<style>\n",
       "    .dataframe thead tr:only-child th {\n",
       "        text-align: right;\n",
       "    }\n",
       "\n",
       "    .dataframe thead th {\n",
       "        text-align: left;\n",
       "    }\n",
       "\n",
       "    .dataframe tbody tr th {\n",
       "        vertical-align: top;\n",
       "    }\n",
       "</style>\n",
       "<table border=\"1\" class=\"dataframe\">\n",
       "  <thead>\n",
       "    <tr style=\"text-align: right;\">\n",
       "      <th></th>\n",
       "      <th>KHC</th>\n",
       "      <th>WFC</th>\n",
       "      <th>AAPL</th>\n",
       "    </tr>\n",
       "    <tr>\n",
       "      <th>Date</th>\n",
       "      <th></th>\n",
       "      <th></th>\n",
       "      <th></th>\n",
       "    </tr>\n",
       "  </thead>\n",
       "  <tbody>\n",
       "    <tr>\n",
       "      <th>2007-09-30</th>\n",
       "      <td>NaN</td>\n",
       "      <td>27.366091</td>\n",
       "      <td>19.723034</td>\n",
       "    </tr>\n",
       "    <tr>\n",
       "      <th>2007-10-31</th>\n",
       "      <td>NaN</td>\n",
       "      <td>26.129162</td>\n",
       "      <td>24.411222</td>\n",
       "    </tr>\n",
       "    <tr>\n",
       "      <th>2007-11-30</th>\n",
       "      <td>NaN</td>\n",
       "      <td>25.166378</td>\n",
       "      <td>23.417810</td>\n",
       "    </tr>\n",
       "    <tr>\n",
       "      <th>2007-12-31</th>\n",
       "      <td>NaN</td>\n",
       "      <td>23.428090</td>\n",
       "      <td>25.456041</td>\n",
       "    </tr>\n",
       "    <tr>\n",
       "      <th>2008-01-31</th>\n",
       "      <td>NaN</td>\n",
       "      <td>26.446814</td>\n",
       "      <td>17.395647</td>\n",
       "    </tr>\n",
       "  </tbody>\n",
       "</table>\n",
       "</div>"
      ],
      "text/plain": [
       "            KHC        WFC       AAPL\n",
       "Date                                 \n",
       "2007-09-30  NaN  27.366091  19.723034\n",
       "2007-10-31  NaN  26.129162  24.411222\n",
       "2007-11-30  NaN  25.166378  23.417810\n",
       "2007-12-31  NaN  23.428090  25.456041\n",
       "2008-01-31  NaN  26.446814  17.395647"
      ]
     },
     "execution_count": 14,
     "metadata": {},
     "output_type": "execute_result"
    }
   ],
   "source": [
    "data.columns = [col.replace(' - Adj. Close','').replace('WIKI/','') for col in data.columns]\n",
    "data.head(5)"
   ]
  },
  {
   "cell_type": "markdown",
   "metadata": {},
   "source": [
    "Let's have another quick look at the data, to make sure everything looks good.\n",
    "\n",
    "Add the code to plot the `data` (hint: you've used this code above already):"
   ]
  },
  {
   "cell_type": "code",
   "execution_count": 15,
   "metadata": {
    "collapsed": false
   },
   "outputs": [
    {
     "data": {
      "image/png": "[encoded data removed]",
      "text/plain": [
       "<matplotlib.figure.Figure at 0x7fb8a0f57ed0>"
      ]
     },
     "metadata": {},
     "output_type": "display_data"
    }
   ],
   "source": [
    "ax = data.plot()"
   ]
  },
  {
   "cell_type": "markdown",
   "metadata": {},
   "source": [
    "It looks like we have some incomplete data.\n",
    "\n",
    "Further investigation reveals that we only have data for Kraft Heinz (KHC) from July 2015 to September 2017, and we're missing September 2017 for WFC and AAPL. We'll need to remember this for later, as this might affect our analysis."
   ]
  },
  {
   "cell_type": "markdown",
   "metadata": {},
   "source": [
    "## 3. Analysis\n",
    "\n",
    "What type of analysis would be most useful for Warren?\n",
    "\n",
    "What if we could predict the future behavior of each stock based on its past behavior?  We might be able to project stock performance forward to determine which will do well, and which might not.\n",
    "\n",
    "So, given a series of prices over many different timesteps, how can we predict the price of the next future timestep?\n",
    "\n",
    "### 3.1 Building the Algorithm\n",
    "\n",
    "In this subsection we will incrementally build an algorithm for prediction.\n",
    "\n",
    "With start with a simple estimation - the average of the series of prices:"
   ]
  },
  {
   "cell_type": "code",
   "execution_count": 16,
   "metadata": {
    "collapsed": false
   },
   "outputs": [
    {
     "name": "stdout",
     "output_type": "stream",
     "text": [
      "66.4554790961\n"
     ]
    },
    {
     "data": {
      "image/png": "[encoded data removed]",
      "text/plain": [
       "<matplotlib.figure.Figure at 0x7fb8a0edcb10>"
      ]
     },
     "metadata": {},
     "output_type": "display_data"
    }
   ],
   "source": [
    "import numpy as np\n",
    "import matplotlib.pyplot as plt\n",
    "\n",
    "apple = data['AAPL'].iloc[:-1].values  # convert the Apple data in to an array (easy to use format)\n",
    "\n",
    "def average(series):\n",
    "    return float(sum(series))/len(series)\n",
    "\n",
    "pred = average(apple)\n",
    "\n",
    "print(pred)\n",
    "ax = plt.plot(np.append(apple,pred))"
   ]
  },
  {
   "cell_type": "markdown",
   "metadata": {},
   "source": [
    "We can see from a quick look at the plot above, that this prediction would be a big drop from the last price for Apple stock, which was 164.0. That's predicting a loss of over $97!\n",
    "\n",
    "The problem is that we are taking an average over the entire time series, and that hasn't taken in to account the change over time. One way we can solve this is by taking a 'moving average' that only takes an average of the last *n* stocks\n",
    "\n",
    "<img src='https://raw.githubusercontent.com/DecodedCo/ibm-cbd/python/movingavg.png'>"
   ]
  },
  {
   "cell_type": "code",
   "execution_count": 17,
   "metadata": {
    "collapsed": false
   },
   "outputs": [
    {
     "name": "stdout",
     "output_type": "stream",
     "text": [
      "150.063120124\n"
     ]
    },
    {
     "data": {
      "image/png": "[encoded data removed]",
      "text/plain": [
       "<matplotlib.figure.Figure at 0x7fb8a0c9a210>"
      ]
     },
     "metadata": {},
     "output_type": "display_data"
    }
   ],
   "source": [
    "def moving_average(series, n):\n",
    "    return average(series[-n:])\n",
    "\n",
    "pred = moving_average(apple, 5)\n",
    "\n",
    "print(pred)\n",
    "ax = plt.plot(np.append(apple,pred))"
   ]
  },
  {
   "cell_type": "markdown",
   "metadata": {},
   "source": [
    "That looks better, but we're still taking a flat average across all our stock prices, when clearly the most recent ones are the most important.\n",
    "\n",
    "To prioritze the most recent, we can multiply each of the last *n* stock prices by a number, called a weight, and then take an average. NOTE: these weights should increase in the direction of time and always add up to 1!\n",
    "\n",
    "<img src = 'https://raw.githubusercontent.com/DecodedCo/ibm-cbd/python/weightedavg.png'>"
   ]
  },
  {
   "cell_type": "code",
   "execution_count": 18,
   "metadata": {
    "collapsed": false
   },
   "outputs": [
    {
     "name": "stdout",
     "output_type": "stream",
     "text": [
      "153.976417255\n"
     ]
    },
    {
     "data": {
      "image/png": "[encoded data removed]",
      "text/plain": [
       "<matplotlib.figure.Figure at 0x7fb8a0f57d10>"
      ]
     },
     "metadata": {},
     "output_type": "display_data"
    }
   ],
   "source": [
    "def weighted_average(series, weights):\n",
    "    result = 0.0\n",
    "    weights.reverse()\n",
    "    for n in range(len(weights)):\n",
    "        result += series[-n-1] * weights[n]\n",
    "    return result\n",
    "\n",
    "weights = [0.1, 0.2, 0.3, 0.4]\n",
    "pred = weighted_average(apple, weights)\n",
    "\n",
    "print(pred)\n",
    "x = np.append(apple,pred)\n",
    "ax = plt.plot(np.append(apple,pred))"
   ]
  },
  {
   "cell_type": "markdown",
   "metadata": {},
   "source": [
    "Better still. But what if we want to do this for all the data?\n",
    "\n",
    "One clever trick, devised by mathematicians Poisson, Holt and Roberts, is to use many overlapping weighted averages of length 2. This translates to the formula\n",
    "\n",
    "$$ \\hat{y}_t = \\alpha y_t + (1 - \\alpha)\\hat{y}_{t-1} $$\n",
    "\n",
    "where $\\hat{y}_t$ is the predicted price at time *t*, and $\\alpha$ is the one value we use to calculate the two weights, $\\alpha$ and $(1 - \\alpha)$.\n",
    "\n",
    "This formula is *recursive*, meaning that it creates a prediction, and then uses that prediction to calculate the next:\n",
    "\n",
    "<img src = 'https://raw.githubusercontent.com/DecodedCo/ibm-cbd/python/expsmooth.png'>"
   ]
  },
  {
   "cell_type": "code",
   "execution_count": 19,
   "metadata": {
    "collapsed": false
   },
   "outputs": [
    {
     "data": {
      "text/plain": [
       "[162.38447499888809, 162.38447499888809, 162.38447499888809]"
      ]
     },
     "execution_count": 19,
     "metadata": {},
     "output_type": "execute_result"
    }
   ],
   "source": [
    "def exponential_smoothing(series, alpha, predictions = 3):\n",
    "    smoothed = [series[0]] # first value is same as series\n",
    "    for n in range(1, len(series) + predictions):\n",
    "        if n >= len(series): # we are forecasting\n",
    "            value = smoothed[-1]\n",
    "        else:\n",
    "            value = series[n]\n",
    "        smoothed.append(alpha * value + (1 - alpha) * smoothed[n-1]) \n",
    "    return smoothed\n",
    "\n",
    "results = exponential_smoothing(apple,0.9)\n",
    "results[-3:]"
   ]
  },
  {
   "cell_type": "markdown",
   "metadata": {},
   "source": [
    "But we have the problem that we will always underestimate an upwards trend and vice versa. To account for this we consider the **trend**, which is the gradient between two adjacent points, as well as the **level** (their weighted mean).\n",
    "\n",
    "With exponential smoothing, we just itereatively updated the level. Now, with *double* exponential smoothing, we iteratively update the level *and* trend in the same way, and then add them together to make our prediction:"
   ]
  },
  {
   "cell_type": "code",
   "execution_count": 20,
   "metadata": {
    "collapsed": true
   },
   "outputs": [],
   "source": [
    "def double_exponential_smoothing(series, alpha, beta, predictions = 3):\n",
    "    smoothed = [series[0]]\n",
    "    for n in range(1, len(series)+ predictions):\n",
    "        if n == 1:\n",
    "            level, trend = series[0], series[1] - series[0]\n",
    "        if n >= len(series): # we are forecasting\n",
    "            value = smoothed[-1]\n",
    "        else:\n",
    "            value = series[n]\n",
    "        last_level, level = level, alpha*value + (1-alpha)*(level+trend)\n",
    "        trend = beta*(level-last_level) + (1-beta)*trend\n",
    "        smoothed.append(level+trend)\n",
    "    return smoothed\n"
   ]
  },
  {
   "cell_type": "markdown",
   "metadata": {},
   "source": [
    "### 3.2 Prediction\n",
    "\n",
    "Now let's see our results, using some common standards for our values of $\\alpha$ and $\\beta$.\n",
    "\n",
    "You can experiment with their values and see how this affects our results:"
   ]
  },
  {
   "cell_type": "code",
   "execution_count": 21,
   "metadata": {
    "collapsed": false
   },
   "outputs": [
    {
     "name": "stdout",
     "output_type": "stream",
     "text": [
      "[190.02867863593335, 203.78720100425448, 217.54572337257562]\n"
     ]
    },
    {
     "data": {
      "image/png": "[encoded data removed]",
      "text/plain": [
       "<matplotlib.figure.Figure at 0x7fb8a0c2d090>"
      ]
     },
     "metadata": {},
     "output_type": "display_data"
    }
   ],
   "source": [
    "results = double_exponential_smoothing(apple, alpha = 0.9, beta = 0.9)\n",
    "\n",
    "print(results[-3:])\n",
    "_, ax = plt.subplots()\n",
    "ax.plot(results, color = \"red\"), ax.plot(results[:-3])\n",
    "plt.show()"
   ]
  },
  {
   "cell_type": "markdown",
   "metadata": {},
   "source": [
    "And voila! We have predicted the future.\n",
    "\n",
    "The three numbers above represent the next 3 forecasted prices for Apple stock. Note that it is not recommended to use this approach to forecast more than 3 time steps ahead, as this model is not sophisticated enough to handle much future uncertainty.\n",
    "\n",
    "This is a simplistic introduction to time series analysis. If you'd like to like to investigate further, we recommend following the introduction here:\n",
    "\n",
    "https://datascience.ibm.com/exchange/public/entry/view/815137c868b916821dec777bdc23013c"
   ]
  },
  {
   "cell_type": "markdown",
   "metadata": {},
   "source": [
    "## 4. Preparing for Visualization\n",
    "\n",
    "Let's see how our results look.\n",
    "\n",
    "### 4.1 Replotting with forecasts\n",
    "\n",
    "First, we need to calculate our predictions for each stock and append them to the end of our dataframe:"
   ]
  },
  {
   "cell_type": "code",
   "execution_count": 22,
   "metadata": {
    "collapsed": false
   },
   "outputs": [
    {
     "name": "stdout",
     "output_type": "stream",
     "text": [
      "Requirement already up-to-date: pandas in ./common/.virtualenv/python2/lib/python2.7/site-packages\n",
      "Requirement already up-to-date: pytz>=2011k in ./common/.virtualenv/python2/lib/python2.7/site-packages (from pandas)\n",
      "Requirement already up-to-date: python-dateutil in ./common/.virtualenv/python2/lib/python2.7/site-packages (from pandas)\n",
      "Requirement already up-to-date: numpy>=1.7.0 in ./common/.virtualenv/python2/lib/python2.7/site-packages (from pandas)\n",
      "Requirement already up-to-date: six>=1.5 in ./common/.virtualenv/python2/lib/python2.7/site-packages (from python-dateutil->pandas)\n"
     ]
    },
    {
     "data": {
      "text/html": [
       "<div>\n",
       "<style>\n",
       "    .dataframe thead tr:only-child th {\n",
       "        text-align: right;\n",
       "    }\n",
       "\n",
       "    .dataframe thead th {\n",
       "        text-align: left;\n",
       "    }\n",
       "\n",
       "    .dataframe tbody tr th {\n",
       "        vertical-align: top;\n",
       "    }\n",
       "</style>\n",
       "<table border=\"1\" class=\"dataframe\">\n",
       "  <thead>\n",
       "    <tr style=\"text-align: right;\">\n",
       "      <th></th>\n",
       "      <th>KHC</th>\n",
       "      <th>WFC</th>\n",
       "      <th>AAPL</th>\n",
       "    </tr>\n",
       "  </thead>\n",
       "  <tbody>\n",
       "    <tr>\n",
       "      <th>2017-07-31</th>\n",
       "      <td>86.8326</td>\n",
       "      <td>53.5505</td>\n",
       "      <td>148.248</td>\n",
       "    </tr>\n",
       "    <tr>\n",
       "      <th>2017-08-31</th>\n",
       "      <td>80.75</td>\n",
       "      <td>51.07</td>\n",
       "      <td>164</td>\n",
       "    </tr>\n",
       "    <tr>\n",
       "      <th>2017-09-30</th>\n",
       "      <td>81.4</td>\n",
       "      <td>NaN</td>\n",
       "      <td>NaN</td>\n",
       "    </tr>\n",
       "    <tr>\n",
       "      <th>2017-10-31</th>\n",
       "      <td>79.4133</td>\n",
       "      <td>46.6828</td>\n",
       "      <td>190.029</td>\n",
       "    </tr>\n",
       "    <tr>\n",
       "      <th>2017-11-30</th>\n",
       "      <td>78.6489</td>\n",
       "      <td>44.3509</td>\n",
       "      <td>203.787</td>\n",
       "    </tr>\n",
       "    <tr>\n",
       "      <th>2017-12-31</th>\n",
       "      <td>77.8846</td>\n",
       "      <td>42.0189</td>\n",
       "      <td>217.546</td>\n",
       "    </tr>\n",
       "  </tbody>\n",
       "</table>\n",
       "</div>"
      ],
      "text/plain": [
       "                KHC      WFC     AAPL\n",
       "2017-07-31  86.8326  53.5505  148.248\n",
       "2017-08-31    80.75    51.07      164\n",
       "2017-09-30     81.4      NaN      NaN\n",
       "2017-10-31  79.4133  46.6828  190.029\n",
       "2017-11-30  78.6489  44.3509  203.787\n",
       "2017-12-31  77.8846  42.0189  217.546"
      ]
     },
     "execution_count": 22,
     "metadata": {},
     "output_type": "execute_result"
    }
   ],
   "source": [
    "!pip install --upgrade pandas # upgrade pandas\n",
    "import pandas as pd\n",
    "\n",
    "data = data.reindex(pd.date_range(\"2007-09-30\", \"2017-12-31\", freq = '1M'), fill_value=\"NaN\")\n",
    "\n",
    "for i, column in enumerate(data):\n",
    "    if column == 'KHC': # select only the range of dates for which we have data\n",
    "        stock = data[column].iloc[94:-3].values\n",
    "    else:\n",
    "        stock = data[column].iloc[:-4].values\n",
    "    forecast = double_exponential_smoothing(stock, alpha = 0.9, beta = 0.9, predictions = 3) # create our forecast\n",
    "    \n",
    "    col_forecast = pd.Series(forecast[-3:], index = pd.date_range(\"2017-10-31\", \"2017-12-31\", freq = '1M'))\n",
    "    data[column].iloc[-3:] = col_forecast\n",
    "    \n",
    "data.tail(6)"
   ]
  },
  {
   "cell_type": "markdown",
   "metadata": {},
   "source": [
    "Now that we've added our predictions, let's visualize the results!\n",
    "\n",
    "Below, we create two overlapping plots, one with the existing data and one with our forecasts, marked in red. So that we can see the relative trends, we'll only look at the range where we have data for KHC:"
   ]
  },
  {
   "cell_type": "code",
   "execution_count": 23,
   "metadata": {
    "collapsed": false
   },
   "outputs": [
    {
     "data": {
      "image/png": "[encoded data removed]",
      "text/plain": [
       "<matplotlib.figure.Figure at 0x7fb8a0e04390>"
      ]
     },
     "metadata": {},
     "output_type": "display_data"
    }
   ],
   "source": [
    "fig, ax = plt.subplots()\n",
    "ax.plot(data.iloc[94:-3])\n",
    "ax.plot(data.iloc[-4:], color = \"Red\")\n",
    "\n",
    "plt.show()"
   ]
  },
  {
   "cell_type": "markdown",
   "metadata": {},
   "source": [
    "What do you notice about our forecasts?\n",
    "\n",
    "### 4.2 Exporting for further visualization\n",
    "\n",
    "Next, we want to rearrange all of the data to be more like what we need for D3. Python comes with a function called `unstack()` that does just that!\n",
    "\n",
    "Below, make a variable called `datalist` and set it equal to `data.unstack()`.\n",
    "\n",
    "Then show the top 10 rows of the datalist. (Hint, you've used this type of function before)"
   ]
  },
  {
   "cell_type": "code",
   "execution_count": 24,
   "metadata": {
    "collapsed": false
   },
   "outputs": [
    {
     "data": {
      "text/plain": [
       "KHC  2007-09-30    NaN\n",
       "     2007-10-31    NaN\n",
       "     2007-11-30    NaN\n",
       "     2007-12-31    NaN\n",
       "     2008-01-31    NaN\n",
       "     2008-02-29    NaN\n",
       "     2008-03-31    NaN\n",
       "     2008-04-30    NaN\n",
       "     2008-05-31    NaN\n",
       "     2008-06-30    NaN\n",
       "dtype: object"
      ]
     },
     "execution_count": 24,
     "metadata": {},
     "output_type": "execute_result"
    }
   ],
   "source": [
    "datalist = data.unstack()\n",
    "datalist.head(10)"
   ]
  },
  {
   "cell_type": "markdown",
   "metadata": {},
   "source": [
    "Almost there! We've done the hard work, now we just need it in a CSV format.\n",
    "\n",
    "We've written this bit of code to clean the data a bit more and to output the data in a comma-separated value format."
   ]
  },
  {
   "cell_type": "code",
   "execution_count": 29,
   "metadata": {
    "collapsed": false
   },
   "outputs": [
    {
     "name": "stdout",
     "output_type": "stream",
     "text": [
      "symbol,date,price\n",
      "KHC,Sep 2007,\n",
      "KHC,Oct 2007,\n",
      "KHC,Nov 2007,\n",
      "KHC,Dec 2007,\n",
      "KHC,Jan 2008,\n",
      "KHC,Feb 2008,\n",
      "KHC,Mar 2008,\n",
      "KHC,Apr 2008,\n",
      "KHC,May 2008,\n",
      "KHC,Jun 2008,\n",
      "KHC,Jul 2008,\n",
      "KHC,Aug 2008,\n",
      "KHC,Sep 2008,\n",
      "KHC,Oct 2008,\n",
      "KHC,Nov 2008,\n",
      "KHC,Dec 2008,\n",
      "KHC,Jan 2009,\n",
      "KHC,Feb 2009,\n",
      "KHC,Mar 2009,\n",
      "KHC,Apr 2009,\n",
      "KHC,May 2009,\n",
      "KHC,Jun 2009,\n",
      "KHC,Jul 2009,\n",
      "KHC,Aug 2009,\n",
      "KHC,Sep 2009,\n",
      "KHC,Oct 2009,\n",
      "KHC,Nov 2009,\n",
      "KHC,Dec 2009,\n",
      "KHC,Jan 2010,\n",
      "KHC,Feb 2010,\n",
      "KHC,Mar 2010,\n",
      "KHC,Apr 2010,\n",
      "KHC,May 2010,\n",
      "KHC,Jun 2010,\n",
      "KHC,Jul 2010,\n",
      "KHC,Aug 2010,\n",
      "KHC,Sep 2010,\n",
      "KHC,Oct 2010,\n",
      "KHC,Nov 2010,\n",
      "KHC,Dec 2010,\n",
      "KHC,Jan 2011,\n",
      "KHC,Feb 2011,\n",
      "KHC,Mar 2011,\n",
      "KHC,Apr 2011,\n",
      "KHC,May 2011,\n",
      "KHC,Jun 2011,\n",
      "KHC,Jul 2011,\n",
      "KHC,Aug 2011,\n",
      "KHC,Sep 2011,\n",
      "KHC,Oct 2011,\n",
      "KHC,Nov 2011,\n",
      "KHC,Dec 2011,\n",
      "KHC,Jan 2012,\n",
      "KHC,Feb 2012,\n",
      "KHC,Mar 2012,\n",
      "KHC,Apr 2012,\n",
      "KHC,May 2012,\n",
      "KHC,Jun 2012,\n",
      "KHC,Jul 2012,\n",
      "KHC,Aug 2012,\n",
      "KHC,Sep 2012,\n",
      "KHC,Oct 2012,\n",
      "KHC,Nov 2012,\n",
      "KHC,Dec 2012,\n",
      "KHC,Jan 2013,\n",
      "KHC,Feb 2013,\n",
      "KHC,Mar 2013,\n",
      "KHC,Apr 2013,\n",
      "KHC,May 2013,\n",
      "KHC,Jun 2013,\n",
      "KHC,Jul 2013,\n",
      "KHC,Aug 2013,\n",
      "KHC,Sep 2013,\n",
      "KHC,Oct 2013,\n",
      "KHC,Nov 2013,\n",
      "KHC,Dec 2013,\n",
      "KHC,Jan 2014,\n",
      "KHC,Feb 2014,\n",
      "KHC,Mar 2014,\n",
      "KHC,Apr 2014,\n",
      "KHC,May 2014,\n",
      "KHC,Jun 2014,\n",
      "KHC,Jul 2014,\n",
      "KHC,Aug 2014,\n",
      "KHC,Sep 2014,\n",
      "KHC,Oct 2014,\n",
      "KHC,Nov 2014,\n",
      "KHC,Dec 2014,\n",
      "KHC,Jan 2015,\n",
      "KHC,Feb 2015,\n",
      "KHC,Mar 2015,\n",
      "KHC,Apr 2015,\n",
      "KHC,May 2015,\n",
      "KHC,Jun 2015,\n",
      "KHC,Jul 2015,74.490493466069\n",
      "KHC,Aug 2015,68.107200896496\n",
      "KHC,Sep 2015,66.120037864559\n",
      "KHC,Oct 2015,73.084481886868\n",
      "KHC,Nov 2015,69.632842445394\n",
      "KHC,Dec 2015,69.307892228966\n",
      "KHC,Jan 2016,74.356433031791\n",
      "KHC,Feb 2016,73.365775968595\n",
      "KHC,Mar 2016,75.384149765237\n",
      "KHC,Apr 2016,74.913958403412\n",
      "KHC,May 2016,80.3716622509\n",
      "KHC,Jun 2016,85.482445918496\n",
      "KHC,Jul 2016,83.463251615041\n",
      "KHC,Aug 2016,87.041420911462\n",
      "KHC,Sep 2016,87.060873681807\n",
      "KHC,Oct 2016,86.51619611213\n",
      "KHC,Nov 2016,79.999518046349\n",
      "KHC,Dec 2016,85.554904051527\n",
      "KHC,Jan 2017,87.485082257911\n",
      "KHC,Feb 2017,89.660206937187\n",
      "KHC,Mar 2017,89.558241906473\n",
      "KHC,Apr 2017,89.104582713906\n",
      "KHC,May 2017,91.538593974175\n",
      "KHC,Jun 2017,85.005796269727\n",
      "KHC,Jul 2017,86.832596843615\n",
      "KHC,Aug 2017,80.75\n",
      "KHC,Sep 2017,81.4\n",
      "KHC,Oct 2017,79.41326982672678\n",
      "KHC,Nov 2017,78.64894176663864\n",
      "KHC,Dec 2017,77.88461370655051\n",
      "WFC,Sep 2007,27.366091029719\n",
      "WFC,Oct 2007,26.129162153867\n",
      "WFC,Nov 2007,25.166378433743\n",
      "WFC,Dec 2007,23.428090191635\n",
      "WFC,Jan 2008,26.446813969225\n",
      "WFC,Feb 2008,22.916878264786\n",
      "WFC,Mar 2008,22.814955781912\n",
      "WFC,Apr 2008,23.324568196284\n",
      "WFC,May 2008,21.839512782252\n",
      "WFC,Jun 2008,18.813508472198\n",
      "WFC,Jul 2008,23.978311640144\n",
      "WFC,Aug 2008,24.247286432544\n",
      "WFC,Sep 2008,30.062790215176\n",
      "WFC,Oct 2008,27.275193360691\n",
      "WFC,Nov 2008,23.390226016419\n",
      "WFC,Dec 2008,23.867908029216\n",
      "WFC,Jan 2009,15.302017020088\n",
      "WFC,Feb 2009,9.987407352002\n",
      "WFC,Mar 2009,11.753775263844\n",
      "WFC,Apr 2009,16.516365381286\n",
      "WFC,May 2009,21.087051779849\n",
      "WFC,Jun 2009,20.061642203104\n",
      "WFC,Jul 2009,20.227030844514\n",
      "WFC,Aug 2009,22.798086403311\n",
      "WFC,Sep 2009,23.344842835948\n",
      "WFC,Oct 2009,22.798086403311\n",
      "WFC,Nov 2009,23.272169314678\n",
      "WFC,Dec 2009,22.400707910241\n",
      "WFC,Jan 2010,23.595854979183\n",
      "WFC,Feb 2010,22.731513444209\n",
      "WFC,Mar 2010,25.874348880168\n",
      "WFC,Apr 2010,27.528910392749\n",
      "WFC,May 2010,23.890473279224\n",
      "WFC,Jun 2010,21.31739686121\n",
      "WFC,Jul 2010,23.091070896928\n",
      "WFC,Aug 2010,19.64544591999\n",
      "WFC,Sep 2010,20.95097130703\n",
      "WFC,Oct 2010,21.739291748406\n",
      "WFC,Nov 2010,22.741515837121\n",
      "WFC,Dec 2010,25.900756184946\n",
      "WFC,Jan 2011,27.095918538753\n",
      "WFC,Feb 2011,27.003395476407\n",
      "WFC,Mar 2011,26.601924878653\n",
      "WFC,Apr 2011,24.42075159942\n",
      "WFC,May 2011,23.899191524973\n",
      "WFC,Jun 2011,23.638044208345\n",
      "WFC,Jul 2011,23.536954924489\n",
      "WFC,Aug 2011,22.083565037547\n",
      "WFC,Sep 2011,20.408260103664\n",
      "WFC,Oct 2011,21.922803452983\n",
      "WFC,Nov 2011,21.984155875193\n",
      "WFC,Dec 2011,23.429363337986\n",
      "WFC,Jan 2012,24.832064698932\n",
      "WFC,Feb 2012,26.70711138368\n",
      "WFC,Mar 2012,29.227048519308\n",
      "WFC,Apr 2012,28.606380382914\n",
      "WFC,May 2012,27.617624986873\n",
      "WFC,Jun 2012,28.815394058067\n",
      "WFC,Jul 2012,29.13422467414\n",
      "WFC,Aug 2012,29.514551732024\n",
      "WFC,Sep 2012,29.948206620828\n",
      "WFC,Oct 2012,29.219666407637\n",
      "WFC,Nov 2012,28.821283697695\n",
      "WFC,Dec 2012,29.842819654262\n",
      "WFC,Jan 2013,30.627742687255\n",
      "WFC,Feb 2013,30.8475800594\n",
      "WFC,Mar 2013,32.527137582588\n",
      "WFC,Apr 2013,33.397693576283\n",
      "WFC,May 2013,35.935834675552\n",
      "WFC,Jun 2013,36.57390621603\n",
      "WFC,Jul 2013,38.550155570567\n",
      "WFC,Aug 2013,36.657933387445\n",
      "WFC,Sep 2013,36.872098528949\n",
      "WFC,Oct 2013,38.094624545034\n",
      "WFC,Nov 2013,39.559129248138\n",
      "WFC,Dec 2013,40.799283686175\n",
      "WFC,Jan 2014,40.745363928\n",
      "WFC,Feb 2014,41.998867254847\n",
      "WFC,Mar 2014,45.002663878847\n",
      "WFC,Apr 2014,44.912188076919\n",
      "WFC,May 2014,46.269189547841\n",
      "WFC,Jun 2014,47.891071339789\n",
      "WFC,Jul 2014,46.378529893365\n",
      "WFC,Aug 2014,47.198262137537\n",
      "WFC,Sep 2014,47.592804375467\n",
      "WFC,Oct 2014,48.712203283084\n",
      "WFC,Nov 2014,50.314422309488\n",
      "WFC,Dec 2014,50.628425679261\n",
      "WFC,Jan 2015,47.950161642963\n",
      "WFC,Feb 2015,50.934686156653\n",
      "WFC,Mar 2015,50.572128616936\n",
      "WFC,Apr 2015,51.222872918992\n",
      "WFC,May 2015,52.377573352296\n",
      "WFC,Jun 2015,52.639648415531\n",
      "WFC,Jul 2015,54.165299676508\n",
      "WFC,Aug 2015,50.240631438077\n",
      "WFC,Sep 2015,48.375331414687\n",
      "WFC,Oct 2015,51.003708720373\n",
      "WFC,Nov 2015,52.264738901248\n",
      "WFC,Dec 2015,51.562816818001\n",
      "WFC,Jan 2016,47.645332758797\n",
      "WFC,Feb 2016,44.856276527438\n",
      "WFC,Mar 2016,46.232939745672\n",
      "WFC,Apr 2016,47.781685866184\n",
      "WFC,May 2016,48.865637028736\n",
      "WFC,Jun 2016,45.599578086949\n",
      "WFC,Jul 2016,46.216179185104\n",
      "WFC,Aug 2016,49.333677703594\n",
      "WFC,Sep 2016,43.001874974707\n",
      "WFC,Oct 2016,44.681939195715\n",
      "WFC,Nov 2016,51.824163421622\n",
      "WFC,Dec 2016,53.968814175464\n",
      "WFC,Jan 2017,55.163551125094\n",
      "WFC,Feb 2017,57.066697924081\n",
      "WFC,Mar 2017,54.877892302252\n",
      "WFC,Apr 2017,53.083466071743\n",
      "WFC,May 2017,50.770723940011\n",
      "WFC,Jun 2017,55.00989076097\n",
      "WFC,Jul 2017,53.550505461951\n",
      "WFC,Aug 2017,51.07\n",
      "WFC,Sep 2017,\n",
      "WFC,Oct 2017,46.68283088900553\n",
      "WFC,Nov 2017,44.3508866198166\n",
      "WFC,Dec 2017,42.01894235062767\n",
      "AAPL,Sep 2007,19.723034011231\n",
      "AAPL,Oct 2007,24.411222456723\n",
      "AAPL,Nov 2007,23.417809718684\n",
      "AAPL,Dec 2007,25.456040769822\n",
      "AAPL,Jan 2008,17.395646600379\n",
      "AAPL,Feb 2008,16.066812485072\n",
      "AAPL,Mar 2008,18.441750052855\n",
      "AAPL,Apr 2008,22.354999454314\n",
      "AAPL,May 2008,24.257005731542\n",
      "AAPL,Jun 2008,21.518373720209\n",
      "AAPL,Jul 2008,20.427290389556\n",
      "AAPL,Aug 2008,21.786967849899\n",
      "AAPL,Sep 2008,14.606894153362\n",
      "AAPL,Oct 2008,13.826814551823\n",
      "AAPL,Nov 2008,11.909386602077\n",
      "AAPL,Dec 2008,10.968664578475\n",
      "AAPL,Jan 2009,11.582961200445\n",
      "AAPL,Feb 2009,11.477579771571\n",
      "AAPL,Mar 2009,13.509385125826\n",
      "AAPL,Apr 2009,16.170908774569\n",
      "AAPL,May 2009,17.453477872322\n",
      "AAPL,Jun 2009,18.304240139569\n",
      "AAPL,Jul 2009,20.997892272724\n",
      "AAPL,Aug 2009,21.6173294522\n",
      "AAPL,Sep 2009,23.820058343531\n",
      "AAPL,Oct 2009,24.22487724713\n",
      "AAPL,Nov 2009,25.691221275723\n",
      "AAPL,Dec 2009,27.081999108977\n",
      "AAPL,Jan 2010,24.682772406979\n",
      "AAPL,Feb 2010,26.296521922057\n",
      "AAPL,Mar 2010,30.200775347881\n",
      "AAPL,Apr 2010,33.553703981184\n",
      "AAPL,May 2010,33.012660303675\n",
      "AAPL,Jun 2010,32.325110737244\n",
      "AAPL,Jul 2010,33.060210460605\n",
      "AAPL,Aug 2010,31.24173824285\n",
      "AAPL,Sep 2010,36.465829808345\n",
      "AAPL,Oct 2010,38.680124954064\n",
      "AAPL,Nov 2010,39.98711169997\n",
      "AAPL,Dec 2010,41.453455728563\n",
      "AAPL,Jan 2011,43.607349323587\n",
      "AAPL,Feb 2011,45.392407917553\n",
      "AAPL,Mar 2011,44.788071125751\n",
      "AAPL,Apr 2011,44.996584989589\n",
      "AAPL,May 2011,44.701002932993\n",
      "AAPL,Jun 2011,43.138273451162\n",
      "AAPL,Jul 2011,50.182122373789\n",
      "AAPL,Aug 2011,49.456018626063\n",
      "AAPL,Sep 2011,49.00493470491\n",
      "AAPL,Oct 2011,52.019871682192\n",
      "AAPL,Nov 2011,49.118026970042\n",
      "AAPL,Dec 2011,52.048144748475\n",
      "AAPL,Jan 2012,58.664042258726\n",
      "AAPL,Feb 2012,69.711100339167\n",
      "AAPL,Mar 2012,77.050531318391\n",
      "AAPL,Apr 2012,75.049569309172\n",
      "AAPL,May 2012,74.246357198856\n",
      "AAPL,Jun 2012,75.052139587925\n",
      "AAPL,Jul 2012,78.491172559453\n",
      "AAPL,Aug 2012,85.857594115654\n",
      "AAPL,Sep 2012,86.098295836876\n",
      "AAPL,Oct 2012,76.83353816507\n",
      "AAPL,Nov 2012,75.896485214554\n",
      "AAPL,Dec 2012,69.009794690466\n",
      "AAPL,Jan 2013,59.065900168086\n",
      "AAPL,Feb 2013,57.562728311726\n",
      "AAPL,Mar 2013,57.727044210395\n",
      "AAPL,Apr 2013,57.742693343602\n",
      "AAPL,May 2013,59.041313847026\n",
      "AAPL,Jun 2013,52.056549256254\n",
      "AAPL,Jul 2013,59.40824208744\n",
      "AAPL,Aug 2013,64.384993720396\n",
      "AAPL,Sep 2013,63.001924723734\n",
      "AAPL,Oct 2013,69.074424870362\n",
      "AAPL,Nov 2013,73.914215436527\n",
      "AAPL,Dec 2013,74.572181819196\n",
      "AAPL,Jan 2014,66.541004275586\n",
      "AAPL,Feb 2014,70.365411763138\n",
      "AAPL,Mar 2014,71.76940390268\n",
      "AAPL,Apr 2014,78.903021106928\n",
      "AAPL,May 2014,85.114261733663\n",
      "AAPL,Jun 2014,87.468686256501\n",
      "AAPL,Jul 2014,89.98177559584\n",
      "AAPL,Aug 2014,96.956206806577\n",
      "AAPL,Sep 2014,95.30085693427\n",
      "AAPL,Oct 2014,102.15873497669\n",
      "AAPL,Nov 2014,112.98399738955\n",
      "AAPL,Dec 2014,104.8614616317\n",
      "AAPL,Jan 2015,111.30248998705\n",
      "AAPL,Feb 2015,122.5157567099\n",
      "AAPL,Mar 2015,118.67223733001\n",
      "AAPL,Apr 2015,119.35892069317\n",
      "AAPL,May 2015,124.76735316852\n",
      "AAPL,Jun 2015,120.11778685264\n",
      "AAPL,Jul 2015,116.16733143492\n",
      "AAPL,Aug 2015,108.47643694077\n",
      "AAPL,Sep 2015,105.77318412236\n",
      "AAPL,Oct 2015,114.96039565823\n",
      "AAPL,Nov 2015,114.29538877569\n",
      "AAPL,Dec 2015,101.69680999602\n",
      "AAPL,Jan 2016,94.044912454993\n",
      "AAPL,Feb 2016,93.919781198699\n",
      "AAPL,Mar 2016,105.86737979984\n",
      "AAPL,Apr 2016,91.054300233386\n",
      "AAPL,May 2016,97.591938528951\n",
      "AAPL,Jun 2016,93.428693404443\n",
      "AAPL,Jul 2016,101.84313953637\n",
      "AAPL,Aug 2016,104.24847718874\n",
      "AAPL,Sep 2016,111.07719459177\n",
      "AAPL,Oct 2016,111.55864373242\n",
      "AAPL,Nov 2016,109.15491652711\n",
      "AAPL,Dec 2016,114.38945378366\n",
      "AAPL,Jan 2017,119.85115020417\n",
      "AAPL,Feb 2017,135.8803615489\n",
      "AAPL,Mar 2017,142.49633360184\n",
      "AAPL,Apr 2017,142.48641460326\n",
      "AAPL,May 2017,152.14268890314\n",
      "AAPL,Jun 2017,143.43800769724\n",
      "AAPL,Jul 2017,148.24848941629\n",
      "AAPL,Aug 2017,164.0\n",
      "AAPL,Sep 2017,\n",
      "AAPL,Oct 2017,190.02867863593335\n",
      "AAPL,Nov 2017,203.78720100425448\n",
      "AAPL,Dec 2017,217.54572337257562\n",
      "\n"
     ]
    }
   ],
   "source": [
    "csv = datalist.to_csv(header=True, index_label=['symbol','date','price'], date_format='%b %Y', index=True)\n",
    "csv = csv.replace(\"price,0\",\"price\") # remove addition of ',0' on first line\n",
    "print csv"
   ]
  },
  {
   "cell_type": "markdown",
   "metadata": {},
   "source": [
    "We could copy & paste this into a new CSV file for our D3.js visualization, or we could write code to do that for us.\n",
    "\n",
    "To make the downloadable file, we've got to bring in a library called `base64` which will encode the file. Then we use that to create the file and add a bit of HTML to make it so we can download the file."
   ]
  },
  {
   "cell_type": "code",
   "execution_count": 26,
   "metadata": {
    "collapsed": false
   },
   "outputs": [
    {
     "data": {
      "text/html": [
       "<a download=\"stocks.csv\" href=\"data:text/csv;base64,c3ltYm9sLGRhdGUscHJpY2UKS0hDLFNlcCAyMDA3LApLSEMsT2N0IDIwMDcsCktIQyxOb3YgMjAwNywKS0hDLERlYyAyMDA3LApLSEMsSmFuIDIwMDgsCktIQyxGZWIgMjAwOCwKS0hDLE1hciAyMDA4LApLSEMsQXByIDIwMDgsCktIQyxNYXkgMjAwOCwKS0hDLEp1biAyMDA4LApLSEMsSnVsIDIwMDgsCktIQyxBdWcgMjAwOCwKS0hDLFNlcCAyMDA4LApLSEMsT2N0IDIwMDgsCktIQyxOb3YgMjAwOCwKS0hDLERlYyAyMDA4LApLSEMsSmFuIDIwMDksCktIQyxGZWIgMjAwOSwKS0hDLE1hciAyMDA5LApLSEMsQXByIDIwMDksCktIQyxNYXkgMjAwOSwKS0hDLEp1biAyMDA5LApLSEMsSnVsIDIwMDksCktIQyxBdWcgMjAwOSwKS0hDLFNlcCAyMDA5LApLSEMsT2N0IDIwMDksCktIQyxOb3YgMjAwOSwKS0hDLERlYyAyMDA5LApLSEMsSmFuIDIwMTAsCktIQyxGZWIgMjAxMCwKS0hDLE1hciAyMDEwLApLSEMsQXByIDIwMTAsCktIQyxNYXkgMjAxMCwKS0hDLEp1biAyMDEwLApLSEMsSnVsIDIwMTAsCktIQyxBdWcgMjAxMCwKS0hDLFNlcCAyMDEwLApLSEMsT2N0IDIwMTAsCktIQyxOb3YgMjAxMCwKS0hDLERlYyAyMDEwLApLSEMsSmFuIDIwMTEsCktIQyxGZWIgMjAxMSwKS0hDLE1hciAyMDExLApLSEMsQXByIDIwMTEsCktIQyxNYXkgMjAxMSwKS0hDLEp1biAyMDExLApLSEMsSnVsIDIwMTEsCktIQyxBdWcgMjAxMSwKS0hDLFNlcCAyMDExLApLSEMsT2N0IDIwMTEsCktIQyxOb3YgMjAxMSwKS0hDLERlYyAyMDExLApLSEMsSmFuIDIwMTIsCktIQyxGZWIgMjAxMiwKS0hDLE1hciAyMDEyLApLSEMsQXByIDIwMTIsCktIQyxNYXkgMjAxMiwKS0hDLEp1biAyMDEyLApLSEMsSnVsIDIwMTIsCktIQyxBdWcgMjAxMiwKS0hDLFNlcCAyMDEyLApLSEMsT2N0IDIwMTIsCktIQyxOb3YgMjAxMiwKS0hDLERlYyAyMDEyLApLSEMsSmFuIDIwMTMsCktIQyxGZWIgMjAxMywKS0hDLE1hciAyMDEzLApLSEMsQXByIDIwMTMsCktIQyxNYXkgMjAxMywKS0hDLEp1biAyMDEzLApLSEMsSnVsIDIwMTMsCktIQyxBdWcgMjAxMywKS0hDLFNlcCAyMDEzLApLSEMsT2N0IDIwMTMsCktIQyxOb3YgMjAxMywKS0hDLERlYyAyMDEzLApLSEMsSmFuIDIwMTQsCktIQyxGZWIgMjAxNCwKS0hDLE1hciAyMDE0LApLSEMsQXByIDIwMTQsCktIQyxNYXkgMjAxNCwKS0hDLEp1biAyMDE0LApLSEMsSnVsIDIwMTQsCktIQyxBdWcgMjAxNCwKS0hDLFNlcCAyMDE0LApLSEMsT2N0IDIwMTQsCktIQyxOb3YgMjAxNCwKS0hDLERlYyAyMDE0LApLSEMsSmFuIDIwMTUsCktIQyxGZWIgMjAxNSwKS0hDLE1hciAyMDE1LApLSEMsQXByIDIwMTUsCktIQyxNYXkgMjAxNSwKS0hDLEp1biAyMDE1LApLSEMsSnVsIDIwMTUsNzQuNDkwNDkzNDY2MDY5CktIQyxBdWcgMjAxNSw2OC4xMDcyMDA4OTY0OTYKS0hDLFNlcCAyMDE1LDY2LjEyMDAzNzg2NDU1OQpLSEMsT2N0IDIwMTUsNzMuMDg0NDgxODg2ODY4CktIQyxOb3YgMjAxNSw2OS42MzI4NDI0NDUzOTQKS0hDLERlYyAyMDE1LDY5LjMwNzg5MjIyODk2NgpLSEMsSmFuIDIwMTYsNzQuMzU2NDMzMDMxNzkxCktIQyxGZWIgMjAxNiw3My4zNjU3NzU5Njg1OTUKS0hDLE1hciAyMDE2LDc1LjM4NDE0OTc2NTIzNwpLSEMsQXByIDIwMTYsNzQuOTEzOTU4NDAzNDEyCktIQyxNYXkgMjAxNiw4MC4zNzE2NjIyNTA5CktIQyxKdW4gMjAxNiw4NS40ODI0NDU5MTg0OTYKS0hDLEp1bCAyMDE2LDgzLjQ2MzI1MTYxNTA0MQpLSEMsQXVnIDIwMTYsODcuMDQxNDIwOTExNDYyCktIQyxTZXAgMjAxNiw4Ny4wNjA4NzM2ODE4MDcKS0hDLE9jdCAyMDE2LDg2LjUxNjE5NjExMjEzCktIQyxOb3YgMjAxNiw3OS45OTk1MTgwNDYzNDkKS0hDLERlYyAyMDE2LDg1LjU1NDkwNDA1MTUyNwpLSEMsSmFuIDIwMTcsODcuNDg1MDgyMjU3OTExCktIQyxGZWIgMjAxNyw4OS42NjAyMDY5MzcxODcKS0hDLE1hciAyMDE3LDg5LjU1ODI0MTkwNjQ3MwpLSEMsQXByIDIwMTcsODkuMTA0NTgyNzEzOTA2CktIQyxNYXkgMjAxNyw5MS41Mzg1OTM5NzQxNzUKS0hDLEp1biAyMDE3LDg1LjAwNTc5NjI2OTcyNwpLSEMsSnVsIDIwMTcsODYuODMyNTk2ODQzNjE1CktIQyxBdWcgMjAxNyw4MC43NQpLSEMsU2VwIDIwMTcsODEuNApLSEMsT2N0IDIwMTcsNzkuNDEzMjY5ODI2NzI2NzgKS0hDLE5vdiAyMDE3LDc4LjY0ODk0MTc2NjYzODY0CktIQyxEZWMgMjAxNyw3Ny44ODQ2MTM3MDY1NTA1MQpXRkMsU2VwIDIwMDcsMjcuMzY2MDkxMDI5NzE5CldGQyxPY3QgMjAwNywyNi4xMjkxNjIxNTM4NjcKV0ZDLE5vdiAyMDA3LDI1LjE2NjM3ODQzMzc0MwpXRkMsRGVjIDIwMDcsMjMuNDI4MDkwMTkxNjM1CldGQyxKYW4gMjAwOCwyNi40NDY4MTM5NjkyMjUKV0ZDLEZlYiAyMDA4LDIyLjkxNjg3ODI2NDc4NgpXRkMsTWFyIDIwMDgsMjIuODE0OTU1NzgxOTEyCldGQyxBcHIgMjAwOCwyMy4zMjQ1NjgxOTYyODQKV0ZDLE1heSAyMDA4LDIxLjgzOTUxMjc4MjI1MgpXRkMsSnVuIDIwMDgsMTguODEzNTA4NDcyMTk4CldGQyxKdWwgMjAwOCwyMy45NzgzMTE2NDAxNDQKV0ZDLEF1ZyAyMDA4LDI0LjI0NzI4NjQzMjU0NApXRkMsU2VwIDIwMDgsMzAuMDYyNzkwMjE1MTc2CldGQyxPY3QgMjAwOCwyNy4yNzUxOTMzNjA2OTEKV0ZDLE5vdiAyMDA4LDIzLjM5MDIyNjAxNjQxOQpXRkMsRGVjIDIwMDgsMjMuODY3OTA4MDI5MjE2CldGQyxKYW4gMjAwOSwxNS4zMDIwMTcwMjAwODgKV0ZDLEZlYiAyMDA5LDkuOTg3NDA3MzUyMDAyCldGQyxNYXIgMjAwOSwxMS43NTM3NzUyNjM4NDQKV0ZDLEFwciAyMDA5LDE2LjUxNjM2NTM4MTI4NgpXRkMsTWF5IDIwMDksMjEuMDg3MDUxNzc5ODQ5CldGQyxKdW4gMjAwOSwyMC4wNjE2NDIyMDMxMDQKV0ZDLEp1bCAyMDA5LDIwLjIyNzAzMDg0NDUxNApXRkMsQXVnIDIwMDksMjIuNzk4MDg2NDAzMzExCldGQyxTZXAgMjAwOSwyMy4zNDQ4NDI4MzU5NDgKV0ZDLE9jdCAyMDA5LDIyLjc5ODA4NjQwMzMxMQpXRkMsTm92IDIwMDksMjMuMjcyMTY5MzE0Njc4CldGQyxEZWMgMjAwOSwyMi40MDA3MDc5MTAyNDEKV0ZDLEphbiAyMDEwLDIzLjU5NTg1NDk3OTE4MwpXRkMsRmViIDIwMTAsMjIuNzMxNTEzNDQ0MjA5CldGQyxNYXIgMjAxMCwyNS44NzQzNDg4ODAxNjgKV0ZDLEFwciAyMDEwLDI3LjUyODkxMDM5Mjc0OQpXRkMsTWF5IDIwMTAsMjMuODkwNDczMjc5MjI0CldGQyxKdW4gMjAxMCwyMS4zMTczOTY4NjEyMQpXRkMsSnVsIDIwMTAsMjMuMDkxMDcwODk2OTI4CldGQyxBdWcgMjAxMCwxOS42NDU0NDU5MTk5OQpXRkMsU2VwIDIwMTAsMjAuOTUwOTcxMzA3MDMKV0ZDLE9jdCAyMDEwLDIxLjczOTI5MTc0ODQwNgpXRkMsTm92IDIwMTAsMjIuNzQxNTE1ODM3MTIxCldGQyxEZWMgMjAxMCwyNS45MDA3NTYxODQ5NDYKV0ZDLEphbiAyMDExLDI3LjA5NTkxODUzODc1MwpXRkMsRmViIDIwMTEsMjcuMDAzMzk1NDc2NDA3CldGQyxNYXIgMjAxMSwyNi42MDE5MjQ4Nzg2NTMKV0ZDLEFwciAyMDExLDI0LjQyMDc1MTU5OTQyCldGQyxNYXkgMjAxMSwyMy44OTkxOTE1MjQ5NzMKV0ZDLEp1biAyMDExLDIzLjYzODA0NDIwODM0NQpXRkMsSnVsIDIwMTEsMjMuNTM2OTU0OTI0NDg5CldGQyxBdWcgMjAxMSwyMi4wODM1NjUwMzc1NDcKV0ZDLFNlcCAyMDExLDIwLjQwODI2MDEwMzY2NApXRkMsT2N0IDIwMTEsMjEuOTIyODAzNDUyOTgzCldGQyxOb3YgMjAxMSwyMS45ODQxNTU4NzUxOTMKV0ZDLERlYyAyMDExLDIzLjQyOTM2MzMzNzk4NgpXRkMsSmFuIDIwMTIsMjQuODMyMDY0Njk4OTMyCldGQyxGZWIgMjAxMiwyNi43MDcxMTEzODM2OApXRkMsTWFyIDIwMTIsMjkuMjI3MDQ4NTE5MzA4CldGQyxBcHIgMjAxMiwyOC42MDYzODAzODI5MTQKV0ZDLE1heSAyMDEyLDI3LjYxNzYyNDk4Njg3MwpXRkMsSnVuIDIwMTIsMjguODE1Mzk0MDU4MDY3CldGQyxKdWwgMjAxMiwyOS4xMzQyMjQ2NzQxNApXRkMsQXVnIDIwMTIsMjkuNTE0NTUxNzMyMDI0CldGQyxTZXAgMjAxMiwyOS45NDgyMDY2MjA4MjgKV0ZDLE9jdCAyMDEyLDI5LjIxOTY2NjQwNzYzNwpXRkMsTm92IDIwMTIsMjguODIxMjgzNjk3Njk1CldGQyxEZWMgMjAxMiwyOS44NDI4MTk2NTQyNjIKV0ZDLEphbiAyMDEzLDMwLjYyNzc0MjY4NzI1NQpXRkMsRmViIDIwMTMsMzAuODQ3NTgwMDU5NApXRkMsTWFyIDIwMTMsMzIuNTI3MTM3NTgyNTg4CldGQyxBcHIgMjAxMywzMy4zOTc2OTM1NzYyODMKV0ZDLE1heSAyMDEzLDM1LjkzNTgzNDY3NTU1MgpXRkMsSnVuIDIwMTMsMzYuNTczOTA2MjE2MDMKV0ZDLEp1bCAyMDEzLDM4LjU1MDE1NTU3MDU2NwpXRkMsQXVnIDIwMTMsMzYuNjU3OTMzMzg3NDQ1CldGQyxTZXAgMjAxMywzNi44NzIwOTg1Mjg5NDkKV0ZDLE9jdCAyMDEzLDM4LjA5NDYyNDU0NTAzNApXRkMsTm92IDIwMTMsMzkuNTU5MTI5MjQ4MTM4CldGQyxEZWMgMjAxMyw0MC43OTkyODM2ODYxNzUKV0ZDLEphbiAyMDE0LDQwLjc0NTM2MzkyOApXRkMsRmViIDIwMTQsNDEuOTk4ODY3MjU0ODQ3CldGQyxNYXIgMjAxNCw0NS4wMDI2NjM4Nzg4NDcKV0ZDLEFwciAyMDE0LDQ0LjkxMjE4ODA3NjkxOQpXRkMsTWF5IDIwMTQsNDYuMjY5MTg5NTQ3ODQxCldGQyxKdW4gMjAxNCw0Ny44OTEwNzEzMzk3ODkKV0ZDLEp1bCAyMDE0LDQ2LjM3ODUyOTg5MzM2NQpXRkMsQXVnIDIwMTQsNDcuMTk4MjYyMTM3NTM3CldGQyxTZXAgMjAxNCw0Ny41OTI4MDQzNzU0NjcKV0ZDLE9jdCAyMDE0LDQ4LjcxMjIwMzI4MzA4NApXRkMsTm92IDIwMTQsNTAuMzE0NDIyMzA5NDg4CldGQyxEZWMgMjAxNCw1MC42Mjg0MjU2NzkyNjEKV0ZDLEphbiAyMDE1LDQ3Ljk1MDE2MTY0Mjk2MwpXRkMsRmViIDIwMTUsNTAuOTM0Njg2MTU2NjUzCldGQyxNYXIgMjAxNSw1MC41NzIxMjg2MTY5MzYKV0ZDLEFwciAyMDE1LDUxLjIyMjg3MjkxODk5MgpXRkMsTWF5IDIwMTUsNTIuMzc3NTczMzUyMjk2CldGQyxKdW4gMjAxNSw1Mi42Mzk2NDg0MTU1MzEKV0ZDLEp1bCAyMDE1LDU0LjE2NTI5OTY3NjUwOApXRkMsQXVnIDIwMTUsNTAuMjQwNjMxNDM4MDc3CldGQyxTZXAgMjAxNSw0OC4zNzUzMzE0MTQ2ODcKV0ZDLE9jdCAyMDE1LDUxLjAwMzcwODcyMDM3MwpXRkMsTm92IDIwMTUsNTIuMjY0NzM4OTAxMjQ4CldGQyxEZWMgMjAxNSw1MS41NjI4MTY4MTgwMDEKV0ZDLEphbiAyMDE2LDQ3LjY0NTMzMjc1ODc5NwpXRkMsRmViIDIwMTYsNDQuODU2Mjc2NTI3NDM4CldGQyxNYXIgMjAxNiw0Ni4yMzI5Mzk3NDU2NzIKV0ZDLEFwciAyMDE2LDQ3Ljc4MTY4NTg2NjE4NApXRkMsTWF5IDIwMTYsNDguODY1NjM3MDI4NzM2CldGQyxKdW4gMjAxNiw0NS41OTk1NzgwODY5NDkKV0ZDLEp1bCAyMDE2LDQ2LjIxNjE3OTE4NTEwNApXRkMsQXVnIDIwMTYsNDkuMzMzNjc3NzAzNTk0CldGQyxTZXAgMjAxNiw0My4wMDE4NzQ5NzQ3MDcKV0ZDLE9jdCAyMDE2LDQ0LjY4MTkzOTE5NTcxNQpXRkMsTm92IDIwMTYsNTEuODI0MTYzNDIxNjIyCldGQyxEZWMgMjAxNiw1My45Njg4MTQxNzU0NjQKV0ZDLEphbiAyMDE3LDU1LjE2MzU1MTEyNTA5NApXRkMsRmViIDIwMTcsNTcuMDY2Njk3OTI0MDgxCldGQyxNYXIgMjAxNyw1NC44Nzc4OTIzMDIyNTIKV0ZDLEFwciAyMDE3LDUzLjA4MzQ2NjA3MTc0MwpXRkMsTWF5IDIwMTcsNTAuNzcwNzIzOTQwMDExCldGQyxKdW4gMjAxNyw1NS4wMDk4OTA3NjA5NwpXRkMsSnVsIDIwMTcsNTMuNTUwNTA1NDYxOTUxCldGQyxBdWcgMjAxNyw1MS4wNwpXRkMsU2VwIDIwMTcsCldGQyxPY3QgMjAxNyw0Ni42ODI4MzA4ODkwMDU1MwpXRkMsTm92IDIwMTcsNDQuMzUwODg2NjE5ODE2NgpXRkMsRGVjIDIwMTcsNDIuMDE4OTQyMzUwNjI3NjcKQUFQTCxTZXAgMjAwNywxOS43MjMwMzQwMTEyMzEKQUFQTCxPY3QgMjAwNywyNC40MTEyMjI0NTY3MjMKQUFQTCxOb3YgMjAwNywyMy40MTc4MDk3MTg2ODQKQUFQTCxEZWMgMjAwNywyNS40NTYwNDA3Njk4MjIKQUFQTCxKYW4gMjAwOCwxNy4zOTU2NDY2MDAzNzkKQUFQTCxGZWIgMjAwOCwxNi4wNjY4MTI0ODUwNzIKQUFQTCxNYXIgMjAwOCwxOC40NDE3NTAwNTI4NTUKQUFQTCxBcHIgMjAwOCwyMi4zNTQ5OTk0NTQzMTQKQUFQTCxNYXkgMjAwOCwyNC4yNTcwMDU3MzE1NDIKQUFQTCxKdW4gMjAwOCwyMS41MTgzNzM3MjAyMDkKQUFQTCxKdWwgMjAwOCwyMC40MjcyOTAzODk1NTYKQUFQTCxBdWcgMjAwOCwyMS43ODY5Njc4NDk4OTkKQUFQTCxTZXAgMjAwOCwxNC42MDY4OTQxNTMzNjIKQUFQTCxPY3QgMjAwOCwxMy44MjY4MTQ1NTE4MjMKQUFQTCxOb3YgMjAwOCwxMS45MDkzODY2MDIwNzcKQUFQTCxEZWMgMjAwOCwxMC45Njg2NjQ1Nzg0NzUKQUFQTCxKYW4gMjAwOSwxMS41ODI5NjEyMDA0NDUKQUFQTCxGZWIgMjAwOSwxMS40Nzc1Nzk3NzE1NzEKQUFQTCxNYXIgMjAwOSwxMy41MDkzODUxMjU4MjYKQUFQTCxBcHIgMjAwOSwxNi4xNzA5MDg3NzQ1NjkKQUFQTCxNYXkgMjAwOSwxNy40NTM0Nzc4NzIzMjIKQUFQTCxKdW4gMjAwOSwxOC4zMDQyNDAxMzk1NjkKQUFQTCxKdWwgMjAwOSwyMC45OTc4OTIyNzI3MjQKQUFQTCxBdWcgMjAwOSwyMS42MTczMjk0NTIyCkFBUEwsU2VwIDIwMDksMjMuODIwMDU4MzQzNTMxCkFBUEwsT2N0IDIwMDksMjQuMjI0ODc3MjQ3MTMKQUFQTCxOb3YgMjAwOSwyNS42OTEyMjEyNzU3MjMKQUFQTCxEZWMgMjAwOSwyNy4wODE5OTkxMDg5NzcKQUFQTCxKYW4gMjAxMCwyNC42ODI3NzI0MDY5NzkKQUFQTCxGZWIgMjAxMCwyNi4yOTY1MjE5MjIwNTcKQUFQTCxNYXIgMjAxMCwzMC4yMDA3NzUzNDc4ODEKQUFQTCxBcHIgMjAxMCwzMy41NTM3MDM5ODExODQKQUFQTCxNYXkgMjAxMCwzMy4wMTI2NjAzMDM2NzUKQUFQTCxKdW4gMjAxMCwzMi4zMjUxMTA3MzcyNDQKQUFQTCxKdWwgMjAxMCwzMy4wNjAyMTA0NjA2MDUKQUFQTCxBdWcgMjAxMCwzMS4yNDE3MzgyNDI4NQpBQVBMLFNlcCAyMDEwLDM2LjQ2NTgyOTgwODM0NQpBQVBMLE9jdCAyMDEwLDM4LjY4MDEyNDk1NDA2NApBQVBMLE5vdiAyMDEwLDM5Ljk4NzExMTY5OTk3CkFBUEwsRGVjIDIwMTAsNDEuNDUzNDU1NzI4NTYzCkFBUEwsSmFuIDIwMTEsNDMuNjA3MzQ5MzIzNTg3CkFBUEwsRmViIDIwMTEsNDUuMzkyNDA3OTE3NTUzCkFBUEwsTWFyIDIwMTEsNDQuNzg4MDcxMTI1NzUxCkFBUEwsQXByIDIwMTEsNDQuOTk2NTg0OTg5NTg5CkFBUEwsTWF5IDIwMTEsNDQuNzAxMDAyOTMyOTkzCkFBUEwsSnVuIDIwMTEsNDMuMTM4MjczNDUxMTYyCkFBUEwsSnVsIDIwMTEsNTAuMTgyMTIyMzczNzg5CkFBUEwsQXVnIDIwMTEsNDkuNDU2MDE4NjI2MDYzCkFBUEwsU2VwIDIwMTEsNDkuMDA0OTM0NzA0OTEKQUFQTCxPY3QgMjAxMSw1Mi4wMTk4NzE2ODIxOTIKQUFQTCxOb3YgMjAxMSw0OS4xMTgwMjY5NzAwNDIKQUFQTCxEZWMgMjAxMSw1Mi4wNDgxNDQ3NDg0NzUKQUFQTCxKYW4gMjAxMiw1OC42NjQwNDIyNTg3MjYKQUFQTCxGZWIgMjAxMiw2OS43MTExMDAzMzkxNjcKQUFQTCxNYXIgMjAxMiw3Ny4wNTA1MzEzMTgzOTEKQUFQTCxBcHIgMjAxMiw3NS4wNDk1NjkzMDkxNzIKQUFQTCxNYXkgMjAxMiw3NC4yNDYzNTcxOTg4NTYKQUFQTCxKdW4gMjAxMiw3NS4wNTIxMzk1ODc5MjUKQUFQTCxKdWwgMjAxMiw3OC40OTExNzI1NTk0NTMKQUFQTCxBdWcgMjAxMiw4NS44NTc1OTQxMTU2NTQKQUFQTCxTZXAgMjAxMiw4Ni4wOTgyOTU4MzY4NzYKQUFQTCxPY3QgMjAxMiw3Ni44MzM1MzgxNjUwNwpBQVBMLE5vdiAyMDEyLDc1Ljg5NjQ4NTIxNDU1NApBQVBMLERlYyAyMDEyLDY5LjAwOTc5NDY5MDQ2NgpBQVBMLEphbiAyMDEzLDU5LjA2NTkwMDE2ODA4NgpBQVBMLEZlYiAyMDEzLDU3LjU2MjcyODMxMTcyNgpBQVBMLE1hciAyMDEzLDU3LjcyNzA0NDIxMDM5NQpBQVBMLEFwciAyMDEzLDU3Ljc0MjY5MzM0MzYwMgpBQVBMLE1heSAyMDEzLDU5LjA0MTMxMzg0NzAyNgpBQVBMLEp1biAyMDEzLDUyLjA1NjU0OTI1NjI1NApBQVBMLEp1bCAyMDEzLDU5LjQwODI0MjA4NzQ0CkFBUEwsQXVnIDIwMTMsNjQuMzg0OTkzNzIwMzk2CkFBUEwsU2VwIDIwMTMsNjMuMDAxOTI0NzIzNzM0CkFBUEwsT2N0IDIwMTMsNjkuMDc0NDI0ODcwMzYyCkFBUEwsTm92IDIwMTMsNzMuOTE0MjE1NDM2NTI3CkFBUEwsRGVjIDIwMTMsNzQuNTcyMTgxODE5MTk2CkFBUEwsSmFuIDIwMTQsNjYuNTQxMDA0Mjc1NTg2CkFBUEwsRmViIDIwMTQsNzAuMzY1NDExNzYzMTM4CkFBUEwsTWFyIDIwMTQsNzEuNzY5NDAzOTAyNjgKQUFQTCxBcHIgMjAxNCw3OC45MDMwMjExMDY5MjgKQUFQTCxNYXkgMjAxNCw4NS4xMTQyNjE3MzM2NjMKQUFQTCxKdW4gMjAxNCw4Ny40Njg2ODYyNTY1MDEKQUFQTCxKdWwgMjAxNCw4OS45ODE3NzU1OTU4NApBQVBMLEF1ZyAyMDE0LDk2Ljk1NjIwNjgwNjU3NwpBQVBMLFNlcCAyMDE0LDk1LjMwMDg1NjkzNDI3CkFBUEwsT2N0IDIwMTQsMTAyLjE1ODczNDk3NjY5CkFBUEwsTm92IDIwMTQsMTEyLjk4Mzk5NzM4OTU1CkFBUEwsRGVjIDIwMTQsMTA0Ljg2MTQ2MTYzMTcKQUFQTCxKYW4gMjAxNSwxMTEuMzAyNDg5OTg3MDUKQUFQTCxGZWIgMjAxNSwxMjIuNTE1NzU2NzA5OQpBQVBMLE1hciAyMDE1LDExOC42NzIyMzczMzAwMQpBQVBMLEFwciAyMDE1LDExOS4zNTg5MjA2OTMxNwpBQVBMLE1heSAyMDE1LDEyNC43NjczNTMxNjg1MgpBQVBMLEp1biAyMDE1LDEyMC4xMTc3ODY4NTI2NApBQVBMLEp1bCAyMDE1LDExNi4xNjczMzE0MzQ5MgpBQVBMLEF1ZyAyMDE1LDEwOC40NzY0MzY5NDA3NwpBQVBMLFNlcCAyMDE1LDEwNS43NzMxODQxMjIzNgpBQVBMLE9jdCAyMDE1LDExNC45NjAzOTU2NTgyMwpBQVBMLE5vdiAyMDE1LDExNC4yOTUzODg3NzU2OQpBQVBMLERlYyAyMDE1LDEwMS42OTY4MDk5OTYwMgpBQVBMLEphbiAyMDE2LDk0LjA0NDkxMjQ1NDk5MwpBQVBMLEZlYiAyMDE2LDkzLjkxOTc4MTE5ODY5OQpBQVBMLE1hciAyMDE2LDEwNS44NjczNzk3OTk4NApBQVBMLEFwciAyMDE2LDkxLjA1NDMwMDIzMzM4NgpBQVBMLE1heSAyMDE2LDk3LjU5MTkzODUyODk1MQpBQVBMLEp1biAyMDE2LDkzLjQyODY5MzQwNDQ0MwpBQVBMLEp1bCAyMDE2LDEwMS44NDMxMzk1MzYzNwpBQVBMLEF1ZyAyMDE2LDEwNC4yNDg0NzcxODg3NApBQVBMLFNlcCAyMDE2LDExMS4wNzcxOTQ1OTE3NwpBQVBMLE9jdCAyMDE2LDExMS41NTg2NDM3MzI0MgpBQVBMLE5vdiAyMDE2LDEwOS4xNTQ5MTY1MjcxMQpBQVBMLERlYyAyMDE2LDExNC4zODk0NTM3ODM2NgpBQVBMLEphbiAyMDE3LDExOS44NTExNTAyMDQxNwpBQVBMLEZlYiAyMDE3LDEzNS44ODAzNjE1NDg5CkFBUEwsTWFyIDIwMTcsMTQyLjQ5NjMzMzYwMTg0CkFBUEwsQXByIDIwMTcsMTQyLjQ4NjQxNDYwMzI2CkFBUEwsTWF5IDIwMTcsMTUyLjE0MjY4ODkwMzE0CkFBUEwsSnVuIDIwMTcsMTQzLjQzODAwNzY5NzI0CkFBUEwsSnVsIDIwMTcsMTQ4LjI0ODQ4OTQxNjI5CkFBUEwsQXVnIDIwMTcsMTY0LjAKQUFQTCxTZXAgMjAxNywKQUFQTCxPY3QgMjAxNywxOTAuMDI4Njc4NjM1OTMzMzUKQUFQTCxOb3YgMjAxNywyMDMuNzg3MjAxMDA0MjU0NDgKQUFQTCxEZWMgMjAxNywyMTcuNTQ1NzIzMzcyNTc1NjIK\" target=\"_blank\">stocks.csv</a>"
      ],
      "text/plain": [
       "<IPython.core.display.HTML object>"
      ]
     },
     "execution_count": 26,
     "metadata": {},
     "output_type": "execute_result"
    }
   ],
   "source": [
    "import base64\n",
    "from IPython.display import HTML\n",
    "\n",
    "b64 = base64.b64encode(csv.encode())\n",
    "payload = b64.decode()\n",
    "html = '<a download=\"{filename}\" href=\"data:text/csv;base64,{payload}\" target=\"_blank\">{filename}</a>'\n",
    "html = html.format(payload=payload,title=\"stocks.csv\",filename=\"stocks.csv\")\n",
    "HTML(html)\n"
   ]
  },
  {
   "cell_type": "code",
   "execution_count": null,
   "metadata": {
    "collapsed": true
   },
   "outputs": [],
   "source": []
  }
 ],
 "metadata": {
  "kernelspec": {
   "display_name": "Python 2",
   "language": "python",
   "name": "python2"
  },
  "language_info": {
   "codemirror_mode": {
    "name": "ipython",
    "version": 2
   },
   "file_extension": ".py",
   "mimetype": "text/x-python",
   "name": "python",
   "nbconvert_exporter": "python",
   "pygments_lexer": "ipython2",
   "version": "2.7.12"
  },
  "widgets": {
   "state": {},
   "version": "1.1.2"
  }
 },
 "nbformat": 4,
 "nbformat_minor": 2
}
