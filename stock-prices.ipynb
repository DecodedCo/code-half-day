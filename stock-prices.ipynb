{
 "cells": [
  {
   "cell_type": "markdown",
   "metadata": {},
   "source": [
    "# Pulling Stock Data\n",
    "This is a Python notebook to analyze Stock data based on ticker symbols.\n"
   ]
  },
  {
   "cell_type": "markdown",
   "metadata": {},
   "source": [
    "## 0. Programming in Python\n",
    "Let's start by seeing how to make variables, functions, and logic in Python."
   ]
  },
  {
   "cell_type": "markdown",
   "metadata": {},
   "source": [
    "### Variables\n",
    "Variables can take on many data types, from `'Strings'` to numbers (`0`), `True`/`False` and even functions.\n",
    "\n",
    "Type **`x = 'Hello world!'`** in the box below, then press **`Shift + Enter`** to execute the code."
   ]
  },
  {
   "cell_type": "code",
   "execution_count": null,
   "metadata": {
    "collapsed": true
   },
   "outputs": [],
   "source": []
  },
  {
   "cell_type": "markdown",
   "metadata": {},
   "source": [
    "Nothing happened... That's because we've only just created the variable `x`. Now to show the value of the variable, we need to type **`x`**. Again, press **`Shift + Enter`** to execute the code."
   ]
  },
  {
   "cell_type": "code",
   "execution_count": null,
   "metadata": {
    "collapsed": true
   },
   "outputs": [],
   "source": []
  },
  {
   "cell_type": "markdown",
   "metadata": {},
   "source": [
    "### Functions\n",
    "Functions can take on any name - you get to choose - but the syntax for defining a function is always the same. Functions can also operate on one or more `variables` that get defined when you initially create the function. These variables are a placeholder for what to do with any data that gets sent to the function when it is used.\n",
    "\n",
    "Python uses indentation instead of `{` and `}` like in JavaScript or CSS. So be careful how you indent your code.\n",
    "\n",
    "Below, type **`def myFunction(y):`** on the first line, then hit `Enter` and type **`return y + 3`**. The second line should be automatically indented. Press **`Shift + Enter`** to save that function.\n",
    "\n",
    "In the box below that, type **`myFunction(3)`** - what do you expect it to return when you press **`Shift + Enter`**?"
   ]
  },
  {
   "cell_type": "code",
   "execution_count": null,
   "metadata": {
    "collapsed": true
   },
   "outputs": [],
   "source": []
  },
  {
   "cell_type": "code",
   "execution_count": null,
   "metadata": {
    "collapsed": true
   },
   "outputs": [],
   "source": []
  },
  {
   "cell_type": "markdown",
   "metadata": {},
   "source": [
    "### Logic\n",
    "Logic is the last piece of the programming foundation; this will test some comparison, and depending on whether the comparison is `True` or `False`, one outcome will result.\n",
    "\n",
    "We've put the basic structure in the box below, but you need to add a comparison in the `()` to test: e.g. **`(5 > 3)`** or **`('a' == 'a')`**. Press **`Shift + Enter`** to run the logic below."
   ]
  },
  {
   "cell_type": "code",
   "execution_count": null,
   "metadata": {
    "collapsed": true
   },
   "outputs": [],
   "source": [
    "if ():\n",
    "   print 'The comparison is True'\n",
    "else:\n",
    "   print 'The comparison is False'"
   ]
  },
  {
   "cell_type": "markdown",
   "metadata": {},
   "source": [
    "### Wrap Up\n",
    "So that's it!  Variables, functions, and logic are the building blocks of programming in any language.\n",
    "\n",
    "Now that you've got a handle on those, we're going to get a bit more complicated working with our data.\n",
    "\n",
    "*Note: Just like above, you'll need to press `Shift + Enter` to run any code in an `In [ ]:` box.*\n",
    "\n",
    "## <font color='green'>You're now finished with this section! Let your facilitators know, and have a break.</font>\n",
    "\n",
    "![done](https://media.giphy.com/media/XreQmk7ETCak0/giphy.gif)"
   ]
  },
  {
   "cell_type": "markdown",
   "metadata": {},
   "source": [
    "## 1. Sourcing Data\n",
    "To begin working with our data, let's use an API called [Quandl](https://www.quandl.com) to bring in stock data.\n",
    "\n",
    "We need to first `import quandl` to get the Quandl library of functions, then set our API key. The key for today is **`Byjzu4U8rmR1iEhZnp7V`** - copy and paste that between the `\"\"` below."
   ]
  },
  {
   "cell_type": "code",
   "execution_count": 58,
   "metadata": {},
   "outputs": [
    {
     "name": "stdout",
     "output_type": "stream",
     "text": [
      "Requirement already satisfied: quandl in /Users/greg/anaconda/lib/python2.7/site-packages\n",
      "Requirement already satisfied: more-itertools in /Users/greg/anaconda/lib/python2.7/site-packages (from quandl)\n",
      "Requirement already satisfied: numpy>=1.8 in /Users/greg/anaconda/lib/python2.7/site-packages (from quandl)\n",
      "Requirement already satisfied: requests<2.18,>=2.7.0 in /Users/greg/anaconda/lib/python2.7/site-packages (from quandl)\n",
      "Requirement already satisfied: six in /Users/greg/anaconda/lib/python2.7/site-packages (from quandl)\n",
      "Requirement already satisfied: inflection>=0.3.1 in /Users/greg/anaconda/lib/python2.7/site-packages (from quandl)\n",
      "Requirement already satisfied: python-dateutil in /Users/greg/anaconda/lib/python2.7/site-packages (from quandl)\n",
      "Requirement already satisfied: pandas>=0.14 in /Users/greg/anaconda/lib/python2.7/site-packages (from quandl)\n",
      "Requirement already satisfied: pytz>=2011k in /Users/greg/anaconda/lib/python2.7/site-packages (from pandas>=0.14->quandl)\n",
      "Requirement already up-to-date: pandas in /Users/greg/anaconda/lib/python2.7/site-packages\n",
      "Requirement already up-to-date: python-dateutil in /Users/greg/anaconda/lib/python2.7/site-packages (from pandas)\n",
      "Requirement already up-to-date: numpy>=1.7.0 in /Users/greg/anaconda/lib/python2.7/site-packages (from pandas)\n",
      "Requirement already up-to-date: pytz>=2011k in /Users/greg/anaconda/lib/python2.7/site-packages (from pandas)\n",
      "Requirement already up-to-date: six>=1.5 in /Users/greg/anaconda/lib/python2.7/site-packages (from python-dateutil->pandas)\n"
     ]
    }
   ],
   "source": [
    "!pip install quandl # install quandl\n",
    "!pip install --upgrade pandas # upgrade pandas (some housekeeping)\n",
    "\n",
    "import quandl\n",
    "quandl.ApiConfig.api_key = \"\""
   ]
  },
  {
   "cell_type": "markdown",
   "metadata": {},
   "source": [
    "Now that we've got our connection to quandl, let's pull a single stock (`AAPL`) and store that in a variable called `data`.\n",
    "\n",
    "Add **`WIKI/AAPL`** between the `\"\"` below."
   ]
  },
  {
   "cell_type": "code",
   "execution_count": 48,
   "metadata": {
    "collapsed": true
   },
   "outputs": [],
   "source": [
    "data = quandl.get(\"\", rows=5)"
   ]
  },
  {
   "cell_type": "markdown",
   "metadata": {},
   "source": [
    "To find out the type of data, we can type **`print type(data)`**."
   ]
  },
  {
   "cell_type": "code",
   "execution_count": 49,
   "metadata": {},
   "outputs": [
    {
     "name": "stdout",
     "output_type": "stream",
     "text": [
      "<class 'pandas.core.frame.DataFrame'>\n"
     ]
    }
   ],
   "source": []
  },
  {
   "cell_type": "markdown",
   "metadata": {},
   "source": [
    "And if we want to look at the data itself, we can type **`data`** below."
   ]
  },
  {
   "cell_type": "code",
   "execution_count": 50,
   "metadata": {},
   "outputs": [
    {
     "data": {
      "text/html": [
       "<div>\n",
       "<style>\n",
       "    .dataframe thead tr:only-child th {\n",
       "        text-align: right;\n",
       "    }\n",
       "\n",
       "    .dataframe thead th {\n",
       "        text-align: left;\n",
       "    }\n",
       "\n",
       "    .dataframe tbody tr th {\n",
       "        vertical-align: top;\n",
       "    }\n",
       "</style>\n",
       "<table border=\"1\" class=\"dataframe\">\n",
       "  <thead>\n",
       "    <tr style=\"text-align: right;\">\n",
       "      <th></th>\n",
       "      <th>Open</th>\n",
       "      <th>High</th>\n",
       "      <th>Low</th>\n",
       "      <th>Close</th>\n",
       "      <th>Volume</th>\n",
       "      <th>Ex-Dividend</th>\n",
       "      <th>Split Ratio</th>\n",
       "      <th>Adj. Open</th>\n",
       "      <th>Adj. High</th>\n",
       "      <th>Adj. Low</th>\n",
       "      <th>Adj. Close</th>\n",
       "      <th>Adj. Volume</th>\n",
       "    </tr>\n",
       "    <tr>\n",
       "      <th>Date</th>\n",
       "      <th></th>\n",
       "      <th></th>\n",
       "      <th></th>\n",
       "      <th></th>\n",
       "      <th></th>\n",
       "      <th></th>\n",
       "      <th></th>\n",
       "      <th></th>\n",
       "      <th></th>\n",
       "      <th></th>\n",
       "      <th></th>\n",
       "      <th></th>\n",
       "    </tr>\n",
       "  </thead>\n",
       "  <tbody>\n",
       "    <tr>\n",
       "      <th>2017-09-29</th>\n",
       "      <td>153.21</td>\n",
       "      <td>154.13</td>\n",
       "      <td>152.00</td>\n",
       "      <td>154.1200</td>\n",
       "      <td>25856530.0</td>\n",
       "      <td>0.0</td>\n",
       "      <td>1.0</td>\n",
       "      <td>153.21</td>\n",
       "      <td>154.13</td>\n",
       "      <td>152.00</td>\n",
       "      <td>154.1200</td>\n",
       "      <td>25856530.0</td>\n",
       "    </tr>\n",
       "    <tr>\n",
       "      <th>2017-10-02</th>\n",
       "      <td>154.26</td>\n",
       "      <td>154.45</td>\n",
       "      <td>152.72</td>\n",
       "      <td>153.8100</td>\n",
       "      <td>18524860.0</td>\n",
       "      <td>0.0</td>\n",
       "      <td>1.0</td>\n",
       "      <td>154.26</td>\n",
       "      <td>154.45</td>\n",
       "      <td>152.72</td>\n",
       "      <td>153.8100</td>\n",
       "      <td>18524860.0</td>\n",
       "    </tr>\n",
       "    <tr>\n",
       "      <th>2017-10-03</th>\n",
       "      <td>154.01</td>\n",
       "      <td>155.09</td>\n",
       "      <td>153.91</td>\n",
       "      <td>154.4800</td>\n",
       "      <td>16146388.0</td>\n",
       "      <td>0.0</td>\n",
       "      <td>1.0</td>\n",
       "      <td>154.01</td>\n",
       "      <td>155.09</td>\n",
       "      <td>153.91</td>\n",
       "      <td>154.4800</td>\n",
       "      <td>16146388.0</td>\n",
       "    </tr>\n",
       "    <tr>\n",
       "      <th>2017-10-04</th>\n",
       "      <td>153.63</td>\n",
       "      <td>153.86</td>\n",
       "      <td>152.46</td>\n",
       "      <td>153.4508</td>\n",
       "      <td>19844177.0</td>\n",
       "      <td>0.0</td>\n",
       "      <td>1.0</td>\n",
       "      <td>153.63</td>\n",
       "      <td>153.86</td>\n",
       "      <td>152.46</td>\n",
       "      <td>153.4508</td>\n",
       "      <td>19844177.0</td>\n",
       "    </tr>\n",
       "    <tr>\n",
       "      <th>2017-10-05</th>\n",
       "      <td>154.18</td>\n",
       "      <td>155.44</td>\n",
       "      <td>154.05</td>\n",
       "      <td>155.3900</td>\n",
       "      <td>21032800.0</td>\n",
       "      <td>0.0</td>\n",
       "      <td>1.0</td>\n",
       "      <td>154.18</td>\n",
       "      <td>155.44</td>\n",
       "      <td>154.05</td>\n",
       "      <td>155.3900</td>\n",
       "      <td>21032800.0</td>\n",
       "    </tr>\n",
       "  </tbody>\n",
       "</table>\n",
       "</div>"
      ],
      "text/plain": [
       "              Open    High     Low     Close      Volume  Ex-Dividend  \\\n",
       "Date                                                                    \n",
       "2017-09-29  153.21  154.13  152.00  154.1200  25856530.0          0.0   \n",
       "2017-10-02  154.26  154.45  152.72  153.8100  18524860.0          0.0   \n",
       "2017-10-03  154.01  155.09  153.91  154.4800  16146388.0          0.0   \n",
       "2017-10-04  153.63  153.86  152.46  153.4508  19844177.0          0.0   \n",
       "2017-10-05  154.18  155.44  154.05  155.3900  21032800.0          0.0   \n",
       "\n",
       "            Split Ratio  Adj. Open  Adj. High  Adj. Low  Adj. Close  \\\n",
       "Date                                                                  \n",
       "2017-09-29          1.0     153.21     154.13    152.00    154.1200   \n",
       "2017-10-02          1.0     154.26     154.45    152.72    153.8100   \n",
       "2017-10-03          1.0     154.01     155.09    153.91    154.4800   \n",
       "2017-10-04          1.0     153.63     153.86    152.46    153.4508   \n",
       "2017-10-05          1.0     154.18     155.44    154.05    155.3900   \n",
       "\n",
       "            Adj. Volume  \n",
       "Date                     \n",
       "2017-09-29   25856530.0  \n",
       "2017-10-02   18524860.0  \n",
       "2017-10-03   16146388.0  \n",
       "2017-10-04   19844177.0  \n",
       "2017-10-05   21032800.0  "
      ]
     },
     "execution_count": 50,
     "metadata": {},
     "output_type": "execute_result"
    }
   ],
   "source": []
  },
  {
   "cell_type": "markdown",
   "metadata": {},
   "source": [
    "To assess the health of each stock, let's find the `Close` price for each stock. If you notice above, that's the 4th column.\n",
    "\n",
    "Based on Quandl's [API documentation](https://docs.quandl.com/docs/time-series-2), we can extract just that column by adding **`.4`** after `WIKI/AAPL` to get **`WIKI/AAPL.4`**:"
   ]
  },
  {
   "cell_type": "code",
   "execution_count": 51,
   "metadata": {},
   "outputs": [
    {
     "data": {
      "text/html": [
       "<div>\n",
       "<style>\n",
       "    .dataframe thead tr:only-child th {\n",
       "        text-align: right;\n",
       "    }\n",
       "\n",
       "    .dataframe thead th {\n",
       "        text-align: left;\n",
       "    }\n",
       "\n",
       "    .dataframe tbody tr th {\n",
       "        vertical-align: top;\n",
       "    }\n",
       "</style>\n",
       "<table border=\"1\" class=\"dataframe\">\n",
       "  <thead>\n",
       "    <tr style=\"text-align: right;\">\n",
       "      <th></th>\n",
       "      <th>Close</th>\n",
       "    </tr>\n",
       "    <tr>\n",
       "      <th>Date</th>\n",
       "      <th></th>\n",
       "    </tr>\n",
       "  </thead>\n",
       "  <tbody>\n",
       "    <tr>\n",
       "      <th>1980-12-31</th>\n",
       "      <td>34.13</td>\n",
       "    </tr>\n",
       "    <tr>\n",
       "      <th>1981-01-31</th>\n",
       "      <td>28.25</td>\n",
       "    </tr>\n",
       "    <tr>\n",
       "      <th>1981-02-28</th>\n",
       "      <td>26.50</td>\n",
       "    </tr>\n",
       "    <tr>\n",
       "      <th>1981-03-31</th>\n",
       "      <td>24.50</td>\n",
       "    </tr>\n",
       "    <tr>\n",
       "      <th>1981-04-30</th>\n",
       "      <td>28.38</td>\n",
       "    </tr>\n",
       "  </tbody>\n",
       "</table>\n",
       "</div>"
      ],
      "text/plain": [
       "            Close\n",
       "Date             \n",
       "1980-12-31  34.13\n",
       "1981-01-31  28.25\n",
       "1981-02-28  26.50\n",
       "1981-03-31  24.50\n",
       "1981-04-30  28.38"
      ]
     },
     "execution_count": 51,
     "metadata": {},
     "output_type": "execute_result"
    }
   ],
   "source": [
    "data = quandl.get(\"WIKI/AAPL\", rows=5, collapse='monthly')\n",
    "data"
   ]
  },
  {
   "cell_type": "markdown",
   "metadata": {},
   "source": [
    "That's great! But we want to show data for the last 10 years.\n",
    "\n",
    "First, we need to have Python tell us what today's date is and substract 10 years from that. Replace `#TODO` with **``print start_date``** after the definition to check the value makes sense:"
   ]
  },
  {
   "cell_type": "code",
   "execution_count": 52,
   "metadata": {},
   "outputs": [
    {
     "name": "stdout",
     "output_type": "stream",
     "text": [
      "2007-10-01\n"
     ]
    }
   ],
   "source": [
    "import datetime\n",
    "start_date = (datetime.datetime.now() - datetime.timedelta(days=10*365)).strftime('%Y-%m-01')\n",
    "#TODO"
   ]
  },
  {
   "cell_type": "markdown",
   "metadata": {},
   "source": [
    "Now we need to add a new parameter to our Quandl get request. After `collapse='monthly'`, add a comma and then **`start_date=start_date`** inside the parenthesis.\n",
    "\n",
    "Then, to save space in the notebook, we're only going to show the top five rows of data using `data.head(5)`.\n",
    "\n",
    "How could you show the top 10 rows instead?"
   ]
  },
  {
   "cell_type": "code",
   "execution_count": 53,
   "metadata": {},
   "outputs": [
    {
     "data": {
      "text/html": [
       "<div>\n",
       "<style>\n",
       "    .dataframe thead tr:only-child th {\n",
       "        text-align: right;\n",
       "    }\n",
       "\n",
       "    .dataframe thead th {\n",
       "        text-align: left;\n",
       "    }\n",
       "\n",
       "    .dataframe tbody tr th {\n",
       "        vertical-align: top;\n",
       "    }\n",
       "</style>\n",
       "<table border=\"1\" class=\"dataframe\">\n",
       "  <thead>\n",
       "    <tr style=\"text-align: right;\">\n",
       "      <th></th>\n",
       "      <th>Close</th>\n",
       "    </tr>\n",
       "    <tr>\n",
       "      <th>Date</th>\n",
       "      <th></th>\n",
       "    </tr>\n",
       "  </thead>\n",
       "  <tbody>\n",
       "    <tr>\n",
       "      <th>2007-10-31</th>\n",
       "      <td>189.95</td>\n",
       "    </tr>\n",
       "    <tr>\n",
       "      <th>2007-11-30</th>\n",
       "      <td>182.22</td>\n",
       "    </tr>\n",
       "    <tr>\n",
       "      <th>2007-12-31</th>\n",
       "      <td>198.08</td>\n",
       "    </tr>\n",
       "    <tr>\n",
       "      <th>2008-01-31</th>\n",
       "      <td>135.36</td>\n",
       "    </tr>\n",
       "    <tr>\n",
       "      <th>2008-02-29</th>\n",
       "      <td>125.02</td>\n",
       "    </tr>\n",
       "  </tbody>\n",
       "</table>\n",
       "</div>"
      ],
      "text/plain": [
       "             Close\n",
       "Date              \n",
       "2007-10-31  189.95\n",
       "2007-11-30  182.22\n",
       "2007-12-31  198.08\n",
       "2008-01-31  135.36\n",
       "2008-02-29  125.02"
      ]
     },
     "execution_count": 53,
     "metadata": {},
     "output_type": "execute_result"
    }
   ],
   "source": [
    "data = quandl.get(\"WIKI/AAPL.4\", rows=120, collapse='monthly')\n",
    "data.head(5)"
   ]
  },
  {
   "cell_type": "markdown",
   "metadata": {},
   "source": [
    "Python comes with a number of great visualization tools built in.\n",
    "\n",
    "Let's do a quick visualization of the data to see if it looks right:"
   ]
  },
  {
   "cell_type": "code",
   "execution_count": 54,
   "metadata": {},
   "outputs": [
    {
     "name": "stdout",
     "output_type": "stream",
     "text": [
      "Requirement already satisfied: mpld3 in /Users/greg/anaconda/lib/python2.7/site-packages\r\n"
     ]
    },
    {
     "data": {
      "image/png": "[encoded data removed]",
      "text/html": [
       "\n",
       "\n",
       "<style>\n",
       "\n",
       "</style>\n",
       "\n",
       "<div id=\"fig_el4442146687773604377839344\"></div>\n",
       "<script>\n",
       "function mpld3_load_lib(url, callback){\n",
       "  var s = document.createElement('script');\n",
       "  s.src = url;\n",
       "  s.async = true;\n",
       "  s.onreadystatechange = s.onload = callback;\n",
       "  s.onerror = function(){console.warn(\"failed to load library \" + url);};\n",
       "  document.getElementsByTagName(\"head\")[0].appendChild(s);\n",
       "}\n",
       "\n",
       "if(typeof(mpld3) !== \"undefined\" && mpld3._mpld3IsLoaded){\n",
       "   // already loaded: just create the figure\n",
       "   !function(mpld3){\n",
       "       \n",
       "       mpld3.draw_figure(\"fig_el4442146687773604377839344\", {\"axes\": [{\"xlim\": [453.0, 572.0], \"yscale\": \"linear\", \"axesbg\": \"#FFFFFF\", \"texts\": [{\"v_baseline\": \"hanging\", \"h_anchor\": \"middle\", \"color\": \"#000000\", \"text\": \"Date\", \"coordinates\": \"axes\", \"zorder\": 3, \"alpha\": 1, \"fontsize\": 10.0, \"position\": [0.49999999999999994, -0.09657836644591611], \"rotation\": -0.0, \"id\": \"el444214662806992\"}, {\"v_baseline\": \"auto\", \"h_anchor\": \"start\", \"color\": \"#000000\", \"text\": \"Close\", \"coordinates\": \"axes\", \"zorder\": 1000003.0, \"alpha\": 1, \"fontsize\": 10.0, \"position\": [0.892099761051374, 0.9218175128771156], \"rotation\": -0.0, \"id\": \"el444214662806864\"}], \"zoomable\": true, \"images\": [], \"xdomain\": [[2007, 9, 31, 0, 0, 0, 0], [2017, 8, 30, 0, 0, 0, 0]], \"ylim\": [56.262249999999995, 696.19275], \"paths\": [{\"edgecolor\": \"#CCCCCC\", \"facecolor\": \"#FFFFFF\", \"edgewidth\": 1.0, \"pathcodes\": [\"M\", \"L\", \"S\", \"L\", \"S\", \"L\", \"S\", \"L\", \"S\", \"Z\"], \"yindex\": 1, \"coordinates\": \"axes\", \"dasharray\": \"none\", \"zorder\": 1000000.0, \"alpha\": 0.8, \"xindex\": 0, \"data\": \"data03\", \"id\": \"el444214654732304\"}], \"sharey\": [], \"sharex\": [], \"axesbgalpha\": null, \"axes\": [{\"scale\": \"linear\", \"tickformat\": null, \"grid\": {\"gridOn\": false}, \"visible\": true, \"fontsize\": 10.0, \"position\": \"bottom\", \"nticks\": 10, \"tickvalues\": null}, {\"scale\": \"linear\", \"tickformat\": null, \"grid\": {\"gridOn\": false}, \"visible\": true, \"fontsize\": 10.0, \"position\": \"left\", \"nticks\": 8, \"tickvalues\": null}], \"lines\": [{\"drawstyle\": \"default\", \"color\": \"#1F77B4\", \"yindex\": 1, \"coordinates\": \"data\", \"dasharray\": \"none\", \"zorder\": 2, \"alpha\": 1, \"xindex\": 0, \"linewidth\": 1.5, \"data\": \"data01\", \"id\": \"el444214670173584\"}, {\"drawstyle\": \"default\", \"color\": \"#1F77B4\", \"yindex\": 1, \"coordinates\": \"axes\", \"dasharray\": \"none\", \"zorder\": 1000002.0, \"alpha\": 1, \"xindex\": 0, \"linewidth\": 1.5, \"data\": \"data02\", \"id\": \"el444214662324880\"}], \"markers\": [], \"id\": \"el444214668800528\", \"ydomain\": [56.262249999999995, 696.19275], \"collections\": [], \"xscale\": \"date\", \"bbox\": [0.125, 0.125, 0.775, 0.755]}], \"height\": 288.0, \"width\": 432.0, \"plugins\": [{\"type\": \"reset\"}, {\"enabled\": false, \"button\": true, \"type\": \"zoom\"}, {\"enabled\": false, \"button\": true, \"type\": \"boxzoom\"}], \"data\": {\"data02\": [[0.8084677419354839, 0.9379139072847682], [0.8682048984468339, 0.9379139072847682]], \"data03\": [[0.8024940262843488, 0.8942236938925681], [0.9790919952210274, 0.8942236938925681], [0.9850657108721624, 0.8942236938925681], [0.9850657108721624, 0.9034216335540839], [0.9850657108721624, 0.9678072111846947], [0.9850657108721624, 0.9770051508462105], [0.9790919952210274, 0.9770051508462105], [0.8024940262843488, 0.9770051508462105], [0.7965203106332138, 0.9770051508462105], [0.7965203106332138, 0.9678072111846947], [0.7965203106332138, 0.9034216335540839], [0.7965203106332138, 0.8942236938925681], [0.8024940262843488, 0.8942236938925681]], \"data01\": [[453.0, 189.95], [454.0, 182.22], [455.0, 198.08], [456.0, 135.36], [457.0, 125.02], [458.0, 143.5], [459.0, 173.95], [460.0, 188.75], [461.0, 167.44], [462.0, 158.95], [463.0, 169.53], [464.0, 113.66], [465.0, 107.59], [466.0, 92.67], [467.0, 85.35], [468.0, 90.13], [469.0, 89.31], [470.0, 105.12], [471.0, 125.83], [472.0, 135.81], [473.0, 142.43], [474.0, 163.39], [475.0, 168.21], [476.0, 185.35], [477.0, 188.5], [478.0, 199.91], [479.0, 210.732], [480.0, 192.063], [481.0, 204.62], [482.0, 235.0], [483.0, 261.09], [484.0, 256.88], [485.0, 251.53], [486.0, 257.25], [487.0, 243.1], [488.0, 283.75], [489.0, 300.98], [490.0, 311.15], [491.0, 322.56], [492.0, 339.32], [493.0, 353.21], [494.0, 348.5075], [495.0, 350.13], [496.0, 347.83], [497.0, 335.67], [498.0, 390.48], [499.0, 384.83], [500.0, 381.32], [501.0, 404.78], [502.0, 382.2], [503.0, 405.0], [504.0, 456.48], [505.0, 542.44], [506.0, 599.55], [507.0, 583.98], [508.0, 577.73], [509.0, 584.0], [510.0, 610.76], [511.0, 665.24], [512.0, 667.105], [513.0, 595.32], [514.0, 585.28], [515.0, 532.1729], [516.0, 455.49], [517.0, 441.4], [518.0, 442.66], [519.0, 442.78], [520.0, 449.735], [521.0, 396.53], [522.0, 452.53], [523.0, 487.216], [524.0, 476.75], [525.0, 522.702], [526.0, 556.07], [527.0, 561.02], [528.0, 500.6], [529.0, 526.24], [530.0, 536.74], [531.0, 590.09], [532.0, 633.0], [533.0, 92.93], [534.0, 95.6], [535.0, 102.5], [536.0, 100.75], [537.0, 108.0], [538.0, 118.93], [539.0, 110.38], [540.0, 117.16], [541.0, 128.46], [542.0, 124.43], [543.0, 125.15], [544.0, 130.28], [545.0, 125.425], [546.0, 121.3], [547.0, 112.76], [548.0, 109.95], [549.0, 119.5], [550.0, 118.3], [551.0, 105.26], [552.0, 97.34], [553.0, 96.69], [554.0, 108.99], [555.0, 93.74], [556.0, 99.86], [557.0, 95.6], [558.0, 104.21], [559.0, 106.1], [560.0, 113.05], [561.0, 113.54], [562.0, 110.52], [563.0, 115.82], [564.0, 121.35], [565.0, 136.99], [566.0, 143.66], [567.0, 143.65], [568.0, 152.76], [569.0, 144.02], [570.0, 148.85], [571.0, 164.0], [572.0, 154.12]]}, \"id\": \"el444214668777360\"});\n",
       "   }(mpld3);\n",
       "}else if(typeof define === \"function\" && define.amd){\n",
       "   // require.js is available: use it to load d3/mpld3\n",
       "   require.config({paths: {d3: \"https://mpld3.github.io/js/d3.v3.min\"}});\n",
       "   require([\"d3\"], function(d3){\n",
       "      window.d3 = d3;\n",
       "      mpld3_load_lib(\"https://mpld3.github.io/js/mpld3.v0.3.js\", function(){\n",
       "         \n",
       "         mpld3.draw_figure(\"fig_el4442146687773604377839344\", {\"axes\": [{\"xlim\": [453.0, 572.0], \"yscale\": \"linear\", \"axesbg\": \"#FFFFFF\", \"texts\": [{\"v_baseline\": \"hanging\", \"h_anchor\": \"middle\", \"color\": \"#000000\", \"text\": \"Date\", \"coordinates\": \"axes\", \"zorder\": 3, \"alpha\": 1, \"fontsize\": 10.0, \"position\": [0.49999999999999994, -0.09657836644591611], \"rotation\": -0.0, \"id\": \"el444214662806992\"}, {\"v_baseline\": \"auto\", \"h_anchor\": \"start\", \"color\": \"#000000\", \"text\": \"Close\", \"coordinates\": \"axes\", \"zorder\": 1000003.0, \"alpha\": 1, \"fontsize\": 10.0, \"position\": [0.892099761051374, 0.9218175128771156], \"rotation\": -0.0, \"id\": \"el444214662806864\"}], \"zoomable\": true, \"images\": [], \"xdomain\": [[2007, 9, 31, 0, 0, 0, 0], [2017, 8, 30, 0, 0, 0, 0]], \"ylim\": [56.262249999999995, 696.19275], \"paths\": [{\"edgecolor\": \"#CCCCCC\", \"facecolor\": \"#FFFFFF\", \"edgewidth\": 1.0, \"pathcodes\": [\"M\", \"L\", \"S\", \"L\", \"S\", \"L\", \"S\", \"L\", \"S\", \"Z\"], \"yindex\": 1, \"coordinates\": \"axes\", \"dasharray\": \"none\", \"zorder\": 1000000.0, \"alpha\": 0.8, \"xindex\": 0, \"data\": \"data03\", \"id\": \"el444214654732304\"}], \"sharey\": [], \"sharex\": [], \"axesbgalpha\": null, \"axes\": [{\"scale\": \"linear\", \"tickformat\": null, \"grid\": {\"gridOn\": false}, \"visible\": true, \"fontsize\": 10.0, \"position\": \"bottom\", \"nticks\": 10, \"tickvalues\": null}, {\"scale\": \"linear\", \"tickformat\": null, \"grid\": {\"gridOn\": false}, \"visible\": true, \"fontsize\": 10.0, \"position\": \"left\", \"nticks\": 8, \"tickvalues\": null}], \"lines\": [{\"drawstyle\": \"default\", \"color\": \"#1F77B4\", \"yindex\": 1, \"coordinates\": \"data\", \"dasharray\": \"none\", \"zorder\": 2, \"alpha\": 1, \"xindex\": 0, \"linewidth\": 1.5, \"data\": \"data01\", \"id\": \"el444214670173584\"}, {\"drawstyle\": \"default\", \"color\": \"#1F77B4\", \"yindex\": 1, \"coordinates\": \"axes\", \"dasharray\": \"none\", \"zorder\": 1000002.0, \"alpha\": 1, \"xindex\": 0, \"linewidth\": 1.5, \"data\": \"data02\", \"id\": \"el444214662324880\"}], \"markers\": [], \"id\": \"el444214668800528\", \"ydomain\": [56.262249999999995, 696.19275], \"collections\": [], \"xscale\": \"date\", \"bbox\": [0.125, 0.125, 0.775, 0.755]}], \"height\": 288.0, \"width\": 432.0, \"plugins\": [{\"type\": \"reset\"}, {\"enabled\": false, \"button\": true, \"type\": \"zoom\"}, {\"enabled\": false, \"button\": true, \"type\": \"boxzoom\"}], \"data\": {\"data02\": [[0.8084677419354839, 0.9379139072847682], [0.8682048984468339, 0.9379139072847682]], \"data03\": [[0.8024940262843488, 0.8942236938925681], [0.9790919952210274, 0.8942236938925681], [0.9850657108721624, 0.8942236938925681], [0.9850657108721624, 0.9034216335540839], [0.9850657108721624, 0.9678072111846947], [0.9850657108721624, 0.9770051508462105], [0.9790919952210274, 0.9770051508462105], [0.8024940262843488, 0.9770051508462105], [0.7965203106332138, 0.9770051508462105], [0.7965203106332138, 0.9678072111846947], [0.7965203106332138, 0.9034216335540839], [0.7965203106332138, 0.8942236938925681], [0.8024940262843488, 0.8942236938925681]], \"data01\": [[453.0, 189.95], [454.0, 182.22], [455.0, 198.08], [456.0, 135.36], [457.0, 125.02], [458.0, 143.5], [459.0, 173.95], [460.0, 188.75], [461.0, 167.44], [462.0, 158.95], [463.0, 169.53], [464.0, 113.66], [465.0, 107.59], [466.0, 92.67], [467.0, 85.35], [468.0, 90.13], [469.0, 89.31], [470.0, 105.12], [471.0, 125.83], [472.0, 135.81], [473.0, 142.43], [474.0, 163.39], [475.0, 168.21], [476.0, 185.35], [477.0, 188.5], [478.0, 199.91], [479.0, 210.732], [480.0, 192.063], [481.0, 204.62], [482.0, 235.0], [483.0, 261.09], [484.0, 256.88], [485.0, 251.53], [486.0, 257.25], [487.0, 243.1], [488.0, 283.75], [489.0, 300.98], [490.0, 311.15], [491.0, 322.56], [492.0, 339.32], [493.0, 353.21], [494.0, 348.5075], [495.0, 350.13], [496.0, 347.83], [497.0, 335.67], [498.0, 390.48], [499.0, 384.83], [500.0, 381.32], [501.0, 404.78], [502.0, 382.2], [503.0, 405.0], [504.0, 456.48], [505.0, 542.44], [506.0, 599.55], [507.0, 583.98], [508.0, 577.73], [509.0, 584.0], [510.0, 610.76], [511.0, 665.24], [512.0, 667.105], [513.0, 595.32], [514.0, 585.28], [515.0, 532.1729], [516.0, 455.49], [517.0, 441.4], [518.0, 442.66], [519.0, 442.78], [520.0, 449.735], [521.0, 396.53], [522.0, 452.53], [523.0, 487.216], [524.0, 476.75], [525.0, 522.702], [526.0, 556.07], [527.0, 561.02], [528.0, 500.6], [529.0, 526.24], [530.0, 536.74], [531.0, 590.09], [532.0, 633.0], [533.0, 92.93], [534.0, 95.6], [535.0, 102.5], [536.0, 100.75], [537.0, 108.0], [538.0, 118.93], [539.0, 110.38], [540.0, 117.16], [541.0, 128.46], [542.0, 124.43], [543.0, 125.15], [544.0, 130.28], [545.0, 125.425], [546.0, 121.3], [547.0, 112.76], [548.0, 109.95], [549.0, 119.5], [550.0, 118.3], [551.0, 105.26], [552.0, 97.34], [553.0, 96.69], [554.0, 108.99], [555.0, 93.74], [556.0, 99.86], [557.0, 95.6], [558.0, 104.21], [559.0, 106.1], [560.0, 113.05], [561.0, 113.54], [562.0, 110.52], [563.0, 115.82], [564.0, 121.35], [565.0, 136.99], [566.0, 143.66], [567.0, 143.65], [568.0, 152.76], [569.0, 144.02], [570.0, 148.85], [571.0, 164.0], [572.0, 154.12]]}, \"id\": \"el444214668777360\"});\n",
       "      });\n",
       "    });\n",
       "}else{\n",
       "    // require.js not available: dynamically load d3 & mpld3\n",
       "    mpld3_load_lib(\"https://mpld3.github.io/js/d3.v3.min.js\", function(){\n",
       "         mpld3_load_lib(\"https://mpld3.github.io/js/mpld3.v0.3.js\", function(){\n",
       "                 \n",
       "                 mpld3.draw_figure(\"fig_el4442146687773604377839344\", {\"axes\": [{\"xlim\": [453.0, 572.0], \"yscale\": \"linear\", \"axesbg\": \"#FFFFFF\", \"texts\": [{\"v_baseline\": \"hanging\", \"h_anchor\": \"middle\", \"color\": \"#000000\", \"text\": \"Date\", \"coordinates\": \"axes\", \"zorder\": 3, \"alpha\": 1, \"fontsize\": 10.0, \"position\": [0.49999999999999994, -0.09657836644591611], \"rotation\": -0.0, \"id\": \"el444214662806992\"}, {\"v_baseline\": \"auto\", \"h_anchor\": \"start\", \"color\": \"#000000\", \"text\": \"Close\", \"coordinates\": \"axes\", \"zorder\": 1000003.0, \"alpha\": 1, \"fontsize\": 10.0, \"position\": [0.892099761051374, 0.9218175128771156], \"rotation\": -0.0, \"id\": \"el444214662806864\"}], \"zoomable\": true, \"images\": [], \"xdomain\": [[2007, 9, 31, 0, 0, 0, 0], [2017, 8, 30, 0, 0, 0, 0]], \"ylim\": [56.262249999999995, 696.19275], \"paths\": [{\"edgecolor\": \"#CCCCCC\", \"facecolor\": \"#FFFFFF\", \"edgewidth\": 1.0, \"pathcodes\": [\"M\", \"L\", \"S\", \"L\", \"S\", \"L\", \"S\", \"L\", \"S\", \"Z\"], \"yindex\": 1, \"coordinates\": \"axes\", \"dasharray\": \"none\", \"zorder\": 1000000.0, \"alpha\": 0.8, \"xindex\": 0, \"data\": \"data03\", \"id\": \"el444214654732304\"}], \"sharey\": [], \"sharex\": [], \"axesbgalpha\": null, \"axes\": [{\"scale\": \"linear\", \"tickformat\": null, \"grid\": {\"gridOn\": false}, \"visible\": true, \"fontsize\": 10.0, \"position\": \"bottom\", \"nticks\": 10, \"tickvalues\": null}, {\"scale\": \"linear\", \"tickformat\": null, \"grid\": {\"gridOn\": false}, \"visible\": true, \"fontsize\": 10.0, \"position\": \"left\", \"nticks\": 8, \"tickvalues\": null}], \"lines\": [{\"drawstyle\": \"default\", \"color\": \"#1F77B4\", \"yindex\": 1, \"coordinates\": \"data\", \"dasharray\": \"none\", \"zorder\": 2, \"alpha\": 1, \"xindex\": 0, \"linewidth\": 1.5, \"data\": \"data01\", \"id\": \"el444214670173584\"}, {\"drawstyle\": \"default\", \"color\": \"#1F77B4\", \"yindex\": 1, \"coordinates\": \"axes\", \"dasharray\": \"none\", \"zorder\": 1000002.0, \"alpha\": 1, \"xindex\": 0, \"linewidth\": 1.5, \"data\": \"data02\", \"id\": \"el444214662324880\"}], \"markers\": [], \"id\": \"el444214668800528\", \"ydomain\": [56.262249999999995, 696.19275], \"collections\": [], \"xscale\": \"date\", \"bbox\": [0.125, 0.125, 0.775, 0.755]}], \"height\": 288.0, \"width\": 432.0, \"plugins\": [{\"type\": \"reset\"}, {\"enabled\": false, \"button\": true, \"type\": \"zoom\"}, {\"enabled\": false, \"button\": true, \"type\": \"boxzoom\"}], \"data\": {\"data02\": [[0.8084677419354839, 0.9379139072847682], [0.8682048984468339, 0.9379139072847682]], \"data03\": [[0.8024940262843488, 0.8942236938925681], [0.9790919952210274, 0.8942236938925681], [0.9850657108721624, 0.8942236938925681], [0.9850657108721624, 0.9034216335540839], [0.9850657108721624, 0.9678072111846947], [0.9850657108721624, 0.9770051508462105], [0.9790919952210274, 0.9770051508462105], [0.8024940262843488, 0.9770051508462105], [0.7965203106332138, 0.9770051508462105], [0.7965203106332138, 0.9678072111846947], [0.7965203106332138, 0.9034216335540839], [0.7965203106332138, 0.8942236938925681], [0.8024940262843488, 0.8942236938925681]], \"data01\": [[453.0, 189.95], [454.0, 182.22], [455.0, 198.08], [456.0, 135.36], [457.0, 125.02], [458.0, 143.5], [459.0, 173.95], [460.0, 188.75], [461.0, 167.44], [462.0, 158.95], [463.0, 169.53], [464.0, 113.66], [465.0, 107.59], [466.0, 92.67], [467.0, 85.35], [468.0, 90.13], [469.0, 89.31], [470.0, 105.12], [471.0, 125.83], [472.0, 135.81], [473.0, 142.43], [474.0, 163.39], [475.0, 168.21], [476.0, 185.35], [477.0, 188.5], [478.0, 199.91], [479.0, 210.732], [480.0, 192.063], [481.0, 204.62], [482.0, 235.0], [483.0, 261.09], [484.0, 256.88], [485.0, 251.53], [486.0, 257.25], [487.0, 243.1], [488.0, 283.75], [489.0, 300.98], [490.0, 311.15], [491.0, 322.56], [492.0, 339.32], [493.0, 353.21], [494.0, 348.5075], [495.0, 350.13], [496.0, 347.83], [497.0, 335.67], [498.0, 390.48], [499.0, 384.83], [500.0, 381.32], [501.0, 404.78], [502.0, 382.2], [503.0, 405.0], [504.0, 456.48], [505.0, 542.44], [506.0, 599.55], [507.0, 583.98], [508.0, 577.73], [509.0, 584.0], [510.0, 610.76], [511.0, 665.24], [512.0, 667.105], [513.0, 595.32], [514.0, 585.28], [515.0, 532.1729], [516.0, 455.49], [517.0, 441.4], [518.0, 442.66], [519.0, 442.78], [520.0, 449.735], [521.0, 396.53], [522.0, 452.53], [523.0, 487.216], [524.0, 476.75], [525.0, 522.702], [526.0, 556.07], [527.0, 561.02], [528.0, 500.6], [529.0, 526.24], [530.0, 536.74], [531.0, 590.09], [532.0, 633.0], [533.0, 92.93], [534.0, 95.6], [535.0, 102.5], [536.0, 100.75], [537.0, 108.0], [538.0, 118.93], [539.0, 110.38], [540.0, 117.16], [541.0, 128.46], [542.0, 124.43], [543.0, 125.15], [544.0, 130.28], [545.0, 125.425], [546.0, 121.3], [547.0, 112.76], [548.0, 109.95], [549.0, 119.5], [550.0, 118.3], [551.0, 105.26], [552.0, 97.34], [553.0, 96.69], [554.0, 108.99], [555.0, 93.74], [556.0, 99.86], [557.0, 95.6], [558.0, 104.21], [559.0, 106.1], [560.0, 113.05], [561.0, 113.54], [562.0, 110.52], [563.0, 115.82], [564.0, 121.35], [565.0, 136.99], [566.0, 143.66], [567.0, 143.65], [568.0, 152.76], [569.0, 144.02], [570.0, 148.85], [571.0, 164.0], [572.0, 154.12]]}, \"id\": \"el444214668777360\"});\n",
       "            })\n",
       "         });\n",
       "}\n",
       "</script>"
      ],
      "text/plain": [
       "<matplotlib.figure.Figure at 0x11647e390>"
      ]
     },
     "metadata": {},
     "output_type": "display_data"
    }
   ],
   "source": [
    "%matplotlib inline\n",
    "!pip install mpld3 # install a package to let us zoom into our plots\n",
    "import mpld3\n",
    "mpld3.enable_notebook()\n",
    "\n",
    "ax = data.plot()"
   ]
  },
  {
   "cell_type": "markdown",
   "metadata": {},
   "source": [
    "Uh-oh! Looks like there's a problem: There's a big drop in AAPL stock in 2014! **If you don't see this, check with a facilitator**\n",
    "\n",
    "Why?!  Well, a quick Google shows they [split their stock](https://www.washingtonpost.com/news/the-switch/wp/2014/06/09/apples-stock-price-just-dropped-more-than-500-a-share-but-dont-panic/). \n",
    "\n",
    "Luckily, Quandl has accounted for that. Instead of `Close`, we'll need to use the `Adjusted Close` price (column 11) from Quandl.\n",
    "\n",
    "Modify the code below to get the **11**th column instead of the 4th."
   ]
  },
  {
   "cell_type": "code",
   "execution_count": 11,
   "metadata": {},
   "outputs": [
    {
     "data": {
      "image/png": "[encoded data removed]",
      "text/html": [
       "\n",
       "\n",
       "<style>\n",
       "\n",
       "</style>\n",
       "\n",
       "<div id=\"fig_el444214656290704904883915\"></div>\n",
       "<script>\n",
       "function mpld3_load_lib(url, callback){\n",
       "  var s = document.createElement('script');\n",
       "  s.src = url;\n",
       "  s.async = true;\n",
       "  s.onreadystatechange = s.onload = callback;\n",
       "  s.onerror = function(){console.warn(\"failed to load library \" + url);};\n",
       "  document.getElementsByTagName(\"head\")[0].appendChild(s);\n",
       "}\n",
       "\n",
       "if(typeof(mpld3) !== \"undefined\" && mpld3._mpld3IsLoaded){\n",
       "   // already loaded: just create the figure\n",
       "   !function(mpld3){\n",
       "       \n",
       "       mpld3.draw_figure(\"fig_el444214656290704904883915\", {\"axes\": [{\"xlim\": [453.0, 572.0], \"yscale\": \"linear\", \"axesbg\": \"#FFFFFF\", \"texts\": [{\"v_baseline\": \"hanging\", \"h_anchor\": \"middle\", \"color\": \"#000000\", \"text\": \"Date\", \"coordinates\": \"axes\", \"zorder\": 3, \"alpha\": 1, \"fontsize\": 10.0, \"position\": [0.49999999999999994, -0.09657836644591611], \"rotation\": -0.0, \"id\": \"el444214653750096\"}, {\"v_baseline\": \"auto\", \"h_anchor\": \"start\", \"color\": \"#000000\", \"text\": \"Adj. Close\", \"coordinates\": \"axes\", \"zorder\": 1000003.0, \"alpha\": 1, \"fontsize\": 10.0, \"position\": [0.8248954599761051, 0.9218175128771156], \"rotation\": -0.0, \"id\": \"el444214656457296\"}], \"zoomable\": true, \"images\": [], \"xdomain\": [[2007, 9, 31, 0, 0, 0, 0], [2017, 8, 30, 0, 0, 0, 0]], \"ylim\": [3.317097807398749, 171.65156677107626], \"paths\": [{\"edgecolor\": \"#CCCCCC\", \"facecolor\": \"#FFFFFF\", \"edgewidth\": 1.0, \"pathcodes\": [\"M\", \"L\", \"S\", \"L\", \"S\", \"L\", \"S\", \"L\", \"S\", \"Z\"], \"yindex\": 1, \"coordinates\": \"axes\", \"dasharray\": \"none\", \"zorder\": 1000000.0, \"alpha\": 0.8, \"xindex\": 0, \"data\": \"data03\", \"id\": \"el444214656380944\"}], \"sharey\": [], \"sharex\": [], \"axesbgalpha\": null, \"axes\": [{\"scale\": \"linear\", \"tickformat\": null, \"grid\": {\"gridOn\": false}, \"visible\": true, \"fontsize\": 10.0, \"position\": \"bottom\", \"nticks\": 10, \"tickvalues\": null}, {\"scale\": \"linear\", \"tickformat\": null, \"grid\": {\"gridOn\": false}, \"visible\": true, \"fontsize\": 10.0, \"position\": \"left\", \"nticks\": 10, \"tickvalues\": null}], \"lines\": [{\"drawstyle\": \"default\", \"color\": \"#1F77B4\", \"yindex\": 1, \"coordinates\": \"data\", \"dasharray\": \"none\", \"zorder\": 2, \"alpha\": 1, \"xindex\": 0, \"linewidth\": 1.5, \"data\": \"data01\", \"id\": \"el444214656845904\"}, {\"drawstyle\": \"default\", \"color\": \"#1F77B4\", \"yindex\": 1, \"coordinates\": \"axes\", \"dasharray\": \"none\", \"zorder\": 1000002.0, \"alpha\": 1, \"xindex\": 0, \"linewidth\": 1.5, \"data\": \"data02\", \"id\": \"el444214656458192\"}], \"markers\": [], \"id\": \"el444214655888912\", \"ydomain\": [3.317097807398749, 171.65156677107626], \"collections\": [], \"xscale\": \"date\", \"bbox\": [0.125, 0.125, 0.775, 0.755]}], \"height\": 288.0, \"width\": 432.0, \"plugins\": [{\"type\": \"reset\"}, {\"enabled\": false, \"button\": true, \"type\": \"zoom\"}, {\"enabled\": false, \"button\": true, \"type\": \"boxzoom\"}], \"data\": {\"data02\": [[0.741263440860215, 0.9379139072847682], [0.801000597371565, 0.9379139072847682]], \"data03\": [[0.73528972520908, 0.8942236938925681], [0.9790919952210274, 0.8942236938925681], [0.9850657108721624, 0.8942236938925681], [0.9850657108721624, 0.9034216335540839], [0.9850657108721624, 0.9678072111846947], [0.9850657108721624, 0.9770051508462105], [0.9790919952210274, 0.9770051508462105], [0.73528972520908, 0.9770051508462105], [0.7293160095579451, 0.9770051508462105], [0.7293160095579451, 0.9678072111846947], [0.7293160095579451, 0.9034216335540839], [0.7293160095579451, 0.8942236938925681], [0.73528972520908, 0.8942236938925681]], \"data01\": [[453.0, 24.411222456723], [454.0, 23.417809718684], [455.0, 25.456040769822], [456.0, 17.395646600379], [457.0, 16.066812485072], [458.0, 18.441750052855], [459.0, 22.354999454314], [460.0, 24.257005731542], [461.0, 21.518373720209], [462.0, 20.427290389556], [463.0, 21.786967849899], [464.0, 14.606894153362], [465.0, 13.826814551823], [466.0, 11.909386602077], [467.0, 10.968664578475], [468.0, 11.582961200445], [469.0, 11.477579771571], [470.0, 13.509385125826], [471.0, 16.170908774569], [472.0, 17.453477872322], [473.0, 18.304240139569], [474.0, 20.997892272724], [475.0, 21.6173294522], [476.0, 23.820058343531], [477.0, 24.22487724713], [478.0, 25.691221275723], [479.0, 27.081999108977], [480.0, 24.682772406979], [481.0, 26.296521922057], [482.0, 30.200775347881], [483.0, 33.553703981184], [484.0, 33.012660303675], [485.0, 32.325110737244], [486.0, 33.060210460605], [487.0, 31.24173824285], [488.0, 36.465829808345], [489.0, 38.680124954064], [490.0, 39.98711169997], [491.0, 41.453455728563], [492.0, 43.607349323587], [493.0, 45.392407917553], [494.0, 44.788071125751], [495.0, 44.996584989589], [496.0, 44.701002932993], [497.0, 43.138273451162], [498.0, 50.182122373789], [499.0, 49.456018626063], [500.0, 49.00493470491], [501.0, 52.019871682192], [502.0, 49.118026970042], [503.0, 52.048144748475], [504.0, 58.664042258726], [505.0, 69.711100339167], [506.0, 77.050531318391], [507.0, 75.049569309172], [508.0, 74.246357198856], [509.0, 75.052139587925], [510.0, 78.491172559453], [511.0, 85.857594115654], [512.0, 86.098295836876], [513.0, 76.83353816507], [514.0, 75.896485214554], [515.0, 69.009794690466], [516.0, 59.065900168086], [517.0, 57.562728311726], [518.0, 57.727044210395], [519.0, 57.742693343602], [520.0, 59.041313847026], [521.0, 52.056549256254], [522.0, 59.40824208744], [523.0, 64.384993720396], [524.0, 63.001924723734], [525.0, 69.074424870362], [526.0, 73.914215436527], [527.0, 74.572181819196], [528.0, 66.541004275586], [529.0, 70.365411763138], [530.0, 71.76940390268], [531.0, 78.903021106928], [532.0, 85.114261733663], [533.0, 87.468686256501], [534.0, 89.98177559584], [535.0, 96.956206806577], [536.0, 95.30085693427], [537.0, 102.15873497669], [538.0, 112.98399738955], [539.0, 104.8614616317], [540.0, 111.30248998705], [541.0, 122.5157567099], [542.0, 118.67223733001], [543.0, 119.35892069317], [544.0, 124.76735316852], [545.0, 120.11778685264], [546.0, 116.16733143492], [547.0, 108.47643694077], [548.0, 105.77318412236], [549.0, 114.96039565823], [550.0, 114.29538877569], [551.0, 101.69680999602], [552.0, 94.044912454993], [553.0, 93.919781198699], [554.0, 105.86737979984], [555.0, 91.054300233386], [556.0, 97.591938528951], [557.0, 93.428693404443], [558.0, 101.84313953637], [559.0, 104.24847718874], [560.0, 111.07719459177], [561.0, 111.55864373242], [562.0, 109.15491652711], [563.0, 114.38945378366], [564.0, 119.85115020417], [565.0, 135.8803615489], [566.0, 142.49633360184], [567.0, 142.48641460326], [568.0, 152.14268890314], [569.0, 143.43800769724], [570.0, 148.24848941629], [571.0, 164.0], [572.0, 154.12]]}, \"id\": \"el444214656290704\"});\n",
       "   }(mpld3);\n",
       "}else if(typeof define === \"function\" && define.amd){\n",
       "   // require.js is available: use it to load d3/mpld3\n",
       "   require.config({paths: {d3: \"https://mpld3.github.io/js/d3.v3.min\"}});\n",
       "   require([\"d3\"], function(d3){\n",
       "      window.d3 = d3;\n",
       "      mpld3_load_lib(\"https://mpld3.github.io/js/mpld3.v0.3.js\", function(){\n",
       "         \n",
       "         mpld3.draw_figure(\"fig_el444214656290704904883915\", {\"axes\": [{\"xlim\": [453.0, 572.0], \"yscale\": \"linear\", \"axesbg\": \"#FFFFFF\", \"texts\": [{\"v_baseline\": \"hanging\", \"h_anchor\": \"middle\", \"color\": \"#000000\", \"text\": \"Date\", \"coordinates\": \"axes\", \"zorder\": 3, \"alpha\": 1, \"fontsize\": 10.0, \"position\": [0.49999999999999994, -0.09657836644591611], \"rotation\": -0.0, \"id\": \"el444214653750096\"}, {\"v_baseline\": \"auto\", \"h_anchor\": \"start\", \"color\": \"#000000\", \"text\": \"Adj. Close\", \"coordinates\": \"axes\", \"zorder\": 1000003.0, \"alpha\": 1, \"fontsize\": 10.0, \"position\": [0.8248954599761051, 0.9218175128771156], \"rotation\": -0.0, \"id\": \"el444214656457296\"}], \"zoomable\": true, \"images\": [], \"xdomain\": [[2007, 9, 31, 0, 0, 0, 0], [2017, 8, 30, 0, 0, 0, 0]], \"ylim\": [3.317097807398749, 171.65156677107626], \"paths\": [{\"edgecolor\": \"#CCCCCC\", \"facecolor\": \"#FFFFFF\", \"edgewidth\": 1.0, \"pathcodes\": [\"M\", \"L\", \"S\", \"L\", \"S\", \"L\", \"S\", \"L\", \"S\", \"Z\"], \"yindex\": 1, \"coordinates\": \"axes\", \"dasharray\": \"none\", \"zorder\": 1000000.0, \"alpha\": 0.8, \"xindex\": 0, \"data\": \"data03\", \"id\": \"el444214656380944\"}], \"sharey\": [], \"sharex\": [], \"axesbgalpha\": null, \"axes\": [{\"scale\": \"linear\", \"tickformat\": null, \"grid\": {\"gridOn\": false}, \"visible\": true, \"fontsize\": 10.0, \"position\": \"bottom\", \"nticks\": 10, \"tickvalues\": null}, {\"scale\": \"linear\", \"tickformat\": null, \"grid\": {\"gridOn\": false}, \"visible\": true, \"fontsize\": 10.0, \"position\": \"left\", \"nticks\": 10, \"tickvalues\": null}], \"lines\": [{\"drawstyle\": \"default\", \"color\": \"#1F77B4\", \"yindex\": 1, \"coordinates\": \"data\", \"dasharray\": \"none\", \"zorder\": 2, \"alpha\": 1, \"xindex\": 0, \"linewidth\": 1.5, \"data\": \"data01\", \"id\": \"el444214656845904\"}, {\"drawstyle\": \"default\", \"color\": \"#1F77B4\", \"yindex\": 1, \"coordinates\": \"axes\", \"dasharray\": \"none\", \"zorder\": 1000002.0, \"alpha\": 1, \"xindex\": 0, \"linewidth\": 1.5, \"data\": \"data02\", \"id\": \"el444214656458192\"}], \"markers\": [], \"id\": \"el444214655888912\", \"ydomain\": [3.317097807398749, 171.65156677107626], \"collections\": [], \"xscale\": \"date\", \"bbox\": [0.125, 0.125, 0.775, 0.755]}], \"height\": 288.0, \"width\": 432.0, \"plugins\": [{\"type\": \"reset\"}, {\"enabled\": false, \"button\": true, \"type\": \"zoom\"}, {\"enabled\": false, \"button\": true, \"type\": \"boxzoom\"}], \"data\": {\"data02\": [[0.741263440860215, 0.9379139072847682], [0.801000597371565, 0.9379139072847682]], \"data03\": [[0.73528972520908, 0.8942236938925681], [0.9790919952210274, 0.8942236938925681], [0.9850657108721624, 0.8942236938925681], [0.9850657108721624, 0.9034216335540839], [0.9850657108721624, 0.9678072111846947], [0.9850657108721624, 0.9770051508462105], [0.9790919952210274, 0.9770051508462105], [0.73528972520908, 0.9770051508462105], [0.7293160095579451, 0.9770051508462105], [0.7293160095579451, 0.9678072111846947], [0.7293160095579451, 0.9034216335540839], [0.7293160095579451, 0.8942236938925681], [0.73528972520908, 0.8942236938925681]], \"data01\": [[453.0, 24.411222456723], [454.0, 23.417809718684], [455.0, 25.456040769822], [456.0, 17.395646600379], [457.0, 16.066812485072], [458.0, 18.441750052855], [459.0, 22.354999454314], [460.0, 24.257005731542], [461.0, 21.518373720209], [462.0, 20.427290389556], [463.0, 21.786967849899], [464.0, 14.606894153362], [465.0, 13.826814551823], [466.0, 11.909386602077], [467.0, 10.968664578475], [468.0, 11.582961200445], [469.0, 11.477579771571], [470.0, 13.509385125826], [471.0, 16.170908774569], [472.0, 17.453477872322], [473.0, 18.304240139569], [474.0, 20.997892272724], [475.0, 21.6173294522], [476.0, 23.820058343531], [477.0, 24.22487724713], [478.0, 25.691221275723], [479.0, 27.081999108977], [480.0, 24.682772406979], [481.0, 26.296521922057], [482.0, 30.200775347881], [483.0, 33.553703981184], [484.0, 33.012660303675], [485.0, 32.325110737244], [486.0, 33.060210460605], [487.0, 31.24173824285], [488.0, 36.465829808345], [489.0, 38.680124954064], [490.0, 39.98711169997], [491.0, 41.453455728563], [492.0, 43.607349323587], [493.0, 45.392407917553], [494.0, 44.788071125751], [495.0, 44.996584989589], [496.0, 44.701002932993], [497.0, 43.138273451162], [498.0, 50.182122373789], [499.0, 49.456018626063], [500.0, 49.00493470491], [501.0, 52.019871682192], [502.0, 49.118026970042], [503.0, 52.048144748475], [504.0, 58.664042258726], [505.0, 69.711100339167], [506.0, 77.050531318391], [507.0, 75.049569309172], [508.0, 74.246357198856], [509.0, 75.052139587925], [510.0, 78.491172559453], [511.0, 85.857594115654], [512.0, 86.098295836876], [513.0, 76.83353816507], [514.0, 75.896485214554], [515.0, 69.009794690466], [516.0, 59.065900168086], [517.0, 57.562728311726], [518.0, 57.727044210395], [519.0, 57.742693343602], [520.0, 59.041313847026], [521.0, 52.056549256254], [522.0, 59.40824208744], [523.0, 64.384993720396], [524.0, 63.001924723734], [525.0, 69.074424870362], [526.0, 73.914215436527], [527.0, 74.572181819196], [528.0, 66.541004275586], [529.0, 70.365411763138], [530.0, 71.76940390268], [531.0, 78.903021106928], [532.0, 85.114261733663], [533.0, 87.468686256501], [534.0, 89.98177559584], [535.0, 96.956206806577], [536.0, 95.30085693427], [537.0, 102.15873497669], [538.0, 112.98399738955], [539.0, 104.8614616317], [540.0, 111.30248998705], [541.0, 122.5157567099], [542.0, 118.67223733001], [543.0, 119.35892069317], [544.0, 124.76735316852], [545.0, 120.11778685264], [546.0, 116.16733143492], [547.0, 108.47643694077], [548.0, 105.77318412236], [549.0, 114.96039565823], [550.0, 114.29538877569], [551.0, 101.69680999602], [552.0, 94.044912454993], [553.0, 93.919781198699], [554.0, 105.86737979984], [555.0, 91.054300233386], [556.0, 97.591938528951], [557.0, 93.428693404443], [558.0, 101.84313953637], [559.0, 104.24847718874], [560.0, 111.07719459177], [561.0, 111.55864373242], [562.0, 109.15491652711], [563.0, 114.38945378366], [564.0, 119.85115020417], [565.0, 135.8803615489], [566.0, 142.49633360184], [567.0, 142.48641460326], [568.0, 152.14268890314], [569.0, 143.43800769724], [570.0, 148.24848941629], [571.0, 164.0], [572.0, 154.12]]}, \"id\": \"el444214656290704\"});\n",
       "      });\n",
       "    });\n",
       "}else{\n",
       "    // require.js not available: dynamically load d3 & mpld3\n",
       "    mpld3_load_lib(\"https://mpld3.github.io/js/d3.v3.min.js\", function(){\n",
       "         mpld3_load_lib(\"https://mpld3.github.io/js/mpld3.v0.3.js\", function(){\n",
       "                 \n",
       "                 mpld3.draw_figure(\"fig_el444214656290704904883915\", {\"axes\": [{\"xlim\": [453.0, 572.0], \"yscale\": \"linear\", \"axesbg\": \"#FFFFFF\", \"texts\": [{\"v_baseline\": \"hanging\", \"h_anchor\": \"middle\", \"color\": \"#000000\", \"text\": \"Date\", \"coordinates\": \"axes\", \"zorder\": 3, \"alpha\": 1, \"fontsize\": 10.0, \"position\": [0.49999999999999994, -0.09657836644591611], \"rotation\": -0.0, \"id\": \"el444214653750096\"}, {\"v_baseline\": \"auto\", \"h_anchor\": \"start\", \"color\": \"#000000\", \"text\": \"Adj. Close\", \"coordinates\": \"axes\", \"zorder\": 1000003.0, \"alpha\": 1, \"fontsize\": 10.0, \"position\": [0.8248954599761051, 0.9218175128771156], \"rotation\": -0.0, \"id\": \"el444214656457296\"}], \"zoomable\": true, \"images\": [], \"xdomain\": [[2007, 9, 31, 0, 0, 0, 0], [2017, 8, 30, 0, 0, 0, 0]], \"ylim\": [3.317097807398749, 171.65156677107626], \"paths\": [{\"edgecolor\": \"#CCCCCC\", \"facecolor\": \"#FFFFFF\", \"edgewidth\": 1.0, \"pathcodes\": [\"M\", \"L\", \"S\", \"L\", \"S\", \"L\", \"S\", \"L\", \"S\", \"Z\"], \"yindex\": 1, \"coordinates\": \"axes\", \"dasharray\": \"none\", \"zorder\": 1000000.0, \"alpha\": 0.8, \"xindex\": 0, \"data\": \"data03\", \"id\": \"el444214656380944\"}], \"sharey\": [], \"sharex\": [], \"axesbgalpha\": null, \"axes\": [{\"scale\": \"linear\", \"tickformat\": null, \"grid\": {\"gridOn\": false}, \"visible\": true, \"fontsize\": 10.0, \"position\": \"bottom\", \"nticks\": 10, \"tickvalues\": null}, {\"scale\": \"linear\", \"tickformat\": null, \"grid\": {\"gridOn\": false}, \"visible\": true, \"fontsize\": 10.0, \"position\": \"left\", \"nticks\": 10, \"tickvalues\": null}], \"lines\": [{\"drawstyle\": \"default\", \"color\": \"#1F77B4\", \"yindex\": 1, \"coordinates\": \"data\", \"dasharray\": \"none\", \"zorder\": 2, \"alpha\": 1, \"xindex\": 0, \"linewidth\": 1.5, \"data\": \"data01\", \"id\": \"el444214656845904\"}, {\"drawstyle\": \"default\", \"color\": \"#1F77B4\", \"yindex\": 1, \"coordinates\": \"axes\", \"dasharray\": \"none\", \"zorder\": 1000002.0, \"alpha\": 1, \"xindex\": 0, \"linewidth\": 1.5, \"data\": \"data02\", \"id\": \"el444214656458192\"}], \"markers\": [], \"id\": \"el444214655888912\", \"ydomain\": [3.317097807398749, 171.65156677107626], \"collections\": [], \"xscale\": \"date\", \"bbox\": [0.125, 0.125, 0.775, 0.755]}], \"height\": 288.0, \"width\": 432.0, \"plugins\": [{\"type\": \"reset\"}, {\"enabled\": false, \"button\": true, \"type\": \"zoom\"}, {\"enabled\": false, \"button\": true, \"type\": \"boxzoom\"}], \"data\": {\"data02\": [[0.741263440860215, 0.9379139072847682], [0.801000597371565, 0.9379139072847682]], \"data03\": [[0.73528972520908, 0.8942236938925681], [0.9790919952210274, 0.8942236938925681], [0.9850657108721624, 0.8942236938925681], [0.9850657108721624, 0.9034216335540839], [0.9850657108721624, 0.9678072111846947], [0.9850657108721624, 0.9770051508462105], [0.9790919952210274, 0.9770051508462105], [0.73528972520908, 0.9770051508462105], [0.7293160095579451, 0.9770051508462105], [0.7293160095579451, 0.9678072111846947], [0.7293160095579451, 0.9034216335540839], [0.7293160095579451, 0.8942236938925681], [0.73528972520908, 0.8942236938925681]], \"data01\": [[453.0, 24.411222456723], [454.0, 23.417809718684], [455.0, 25.456040769822], [456.0, 17.395646600379], [457.0, 16.066812485072], [458.0, 18.441750052855], [459.0, 22.354999454314], [460.0, 24.257005731542], [461.0, 21.518373720209], [462.0, 20.427290389556], [463.0, 21.786967849899], [464.0, 14.606894153362], [465.0, 13.826814551823], [466.0, 11.909386602077], [467.0, 10.968664578475], [468.0, 11.582961200445], [469.0, 11.477579771571], [470.0, 13.509385125826], [471.0, 16.170908774569], [472.0, 17.453477872322], [473.0, 18.304240139569], [474.0, 20.997892272724], [475.0, 21.6173294522], [476.0, 23.820058343531], [477.0, 24.22487724713], [478.0, 25.691221275723], [479.0, 27.081999108977], [480.0, 24.682772406979], [481.0, 26.296521922057], [482.0, 30.200775347881], [483.0, 33.553703981184], [484.0, 33.012660303675], [485.0, 32.325110737244], [486.0, 33.060210460605], [487.0, 31.24173824285], [488.0, 36.465829808345], [489.0, 38.680124954064], [490.0, 39.98711169997], [491.0, 41.453455728563], [492.0, 43.607349323587], [493.0, 45.392407917553], [494.0, 44.788071125751], [495.0, 44.996584989589], [496.0, 44.701002932993], [497.0, 43.138273451162], [498.0, 50.182122373789], [499.0, 49.456018626063], [500.0, 49.00493470491], [501.0, 52.019871682192], [502.0, 49.118026970042], [503.0, 52.048144748475], [504.0, 58.664042258726], [505.0, 69.711100339167], [506.0, 77.050531318391], [507.0, 75.049569309172], [508.0, 74.246357198856], [509.0, 75.052139587925], [510.0, 78.491172559453], [511.0, 85.857594115654], [512.0, 86.098295836876], [513.0, 76.83353816507], [514.0, 75.896485214554], [515.0, 69.009794690466], [516.0, 59.065900168086], [517.0, 57.562728311726], [518.0, 57.727044210395], [519.0, 57.742693343602], [520.0, 59.041313847026], [521.0, 52.056549256254], [522.0, 59.40824208744], [523.0, 64.384993720396], [524.0, 63.001924723734], [525.0, 69.074424870362], [526.0, 73.914215436527], [527.0, 74.572181819196], [528.0, 66.541004275586], [529.0, 70.365411763138], [530.0, 71.76940390268], [531.0, 78.903021106928], [532.0, 85.114261733663], [533.0, 87.468686256501], [534.0, 89.98177559584], [535.0, 96.956206806577], [536.0, 95.30085693427], [537.0, 102.15873497669], [538.0, 112.98399738955], [539.0, 104.8614616317], [540.0, 111.30248998705], [541.0, 122.5157567099], [542.0, 118.67223733001], [543.0, 119.35892069317], [544.0, 124.76735316852], [545.0, 120.11778685264], [546.0, 116.16733143492], [547.0, 108.47643694077], [548.0, 105.77318412236], [549.0, 114.96039565823], [550.0, 114.29538877569], [551.0, 101.69680999602], [552.0, 94.044912454993], [553.0, 93.919781198699], [554.0, 105.86737979984], [555.0, 91.054300233386], [556.0, 97.591938528951], [557.0, 93.428693404443], [558.0, 101.84313953637], [559.0, 104.24847718874], [560.0, 111.07719459177], [561.0, 111.55864373242], [562.0, 109.15491652711], [563.0, 114.38945378366], [564.0, 119.85115020417], [565.0, 135.8803615489], [566.0, 142.49633360184], [567.0, 142.48641460326], [568.0, 152.14268890314], [569.0, 143.43800769724], [570.0, 148.24848941629], [571.0, 164.0], [572.0, 154.12]]}, \"id\": \"el444214656290704\"});\n",
       "            })\n",
       "         });\n",
       "}\n",
       "</script>"
      ],
      "text/plain": [
       "<matplotlib.figure.Figure at 0x115895b90>"
      ]
     },
     "metadata": {},
     "output_type": "display_data"
    }
   ],
   "source": [
    "data = quandl.get(\"WIKI/AAPL.4\", rows=120, collapse='monthly', start_date=start_date)\n",
    "\n",
    "# Now plot the data:\n",
    "ax = data.plot()"
   ]
  },
  {
   "cell_type": "markdown",
   "metadata": {},
   "source": [
    "Great! Let's now focus on the full portfolio.\n",
    "\n",
    "\n",
    "## <font color='green'>You're now finished with this section! Let your facilitators know, and have a break.</font>\n",
    "\n",
    "![done](https://media.giphy.com/media/3o7TKLpxzkbvjwEgSc/giphy.gif)"
   ]
  },
  {
   "cell_type": "markdown",
   "metadata": {},
   "source": [
    "## 2. Sourcing more Data\n",
    "\n",
    "Now that we have access to stock data, let's pull in our list of Warren's 2003 aquisitions.\n",
    "\n",
    "First, we need to bring in the cleaned CSV file we exported from Open Refine, and store it as a variable. Let's call it `buffett`.\n",
    "\n",
    "Now let's take the output of the Open Refine scrubbing step and replace **`your_clean_csv.csv`** with that output:"
   ]
  },
  {
   "cell_type": "code",
   "execution_count": 24,
   "metadata": {},
   "outputs": [
    {
     "data": {
      "text/html": [
       "<div>\n",
       "<style>\n",
       "    .dataframe thead tr:only-child th {\n",
       "        text-align: right;\n",
       "    }\n",
       "\n",
       "    .dataframe thead th {\n",
       "        text-align: left;\n",
       "    }\n",
       "\n",
       "    .dataframe tbody tr th {\n",
       "        vertical-align: top;\n",
       "    }\n",
       "</style>\n",
       "<table border=\"1\" class=\"dataframe\">\n",
       "  <thead>\n",
       "    <tr style=\"text-align: right;\">\n",
       "      <th></th>\n",
       "      <th>COMPANY</th>\n",
       "      <th>TICKER</th>\n",
       "      <th>COMPANY.1</th>\n",
       "      <th># OF SHARES</th>\n",
       "      <th>PRICE (8/24/2017)</th>\n",
       "      <th>CITY</th>\n",
       "      <th>PURCHASE DATE</th>\n",
       "      <th>REGION</th>\n",
       "      <th>CEO</th>\n",
       "      <th>EMPLOYEES</th>\n",
       "      <th>WARREN COMMENT</th>\n",
       "    </tr>\n",
       "  </thead>\n",
       "  <tbody>\n",
       "    <tr>\n",
       "      <th>0</th>\n",
       "      <td>Kraft Heinz</td>\n",
       "      <td>KHC</td>\n",
       "      <td>Kraft Heinz (KHC)</td>\n",
       "      <td>325,634,818</td>\n",
       "      <td>$82.80</td>\n",
       "      <td>Chicago, IL</td>\n",
       "      <td>9/27/2005</td>\n",
       "      <td>Central</td>\n",
       "      <td>Bernard Hees (2015–)</td>\n",
       "      <td>41,000 (2017)</td>\n",
       "      <td>Without a doubt</td>\n",
       "    </tr>\n",
       "    <tr>\n",
       "      <th>1</th>\n",
       "      <td>Wells Fargo</td>\n",
       "      <td>WFC</td>\n",
       "      <td>Wells Fargo (WFC)</td>\n",
       "      <td>467,987,270</td>\n",
       "      <td>$52.16</td>\n",
       "      <td>San Francisco, CA</td>\n",
       "      <td>7/7/2002</td>\n",
       "      <td>West</td>\n",
       "      <td>Timothy J. Sloan (Oct 12, 2016–)</td>\n",
       "      <td>NaN</td>\n",
       "      <td>It is decidedly so</td>\n",
       "    </tr>\n",
       "    <tr>\n",
       "      <th>2</th>\n",
       "      <td>Apple Inc.</td>\n",
       "      <td>AAPL</td>\n",
       "      <td>Apple Inc. (AAPL)</td>\n",
       "      <td>130,191,960</td>\n",
       "      <td>$159.27</td>\n",
       "      <td>Cupertino, CA</td>\n",
       "      <td>9/23/2006</td>\n",
       "      <td>West</td>\n",
       "      <td>Tim Cook</td>\n",
       "      <td>NaN</td>\n",
       "      <td>Concentrate and ask again</td>\n",
       "    </tr>\n",
       "    <tr>\n",
       "      <th>3</th>\n",
       "      <td>The Coca Cola Company</td>\n",
       "      <td>KO</td>\n",
       "      <td>The Coca Cola Company (KO)</td>\n",
       "      <td>400,000,000</td>\n",
       "      <td>$45.41</td>\n",
       "      <td>Atlanta, GA</td>\n",
       "      <td>12/10/2003</td>\n",
       "      <td>Southeast</td>\n",
       "      <td>James Quincey (May 1, 2017–)</td>\n",
       "      <td>NaN</td>\n",
       "      <td>Reply hazy try again</td>\n",
       "    </tr>\n",
       "    <tr>\n",
       "      <th>4</th>\n",
       "      <td>American Express Co</td>\n",
       "      <td>AXP</td>\n",
       "      <td>American Express Co (AXP)</td>\n",
       "      <td>151,610,700</td>\n",
       "      <td>$85.36</td>\n",
       "      <td>New York City, NY</td>\n",
       "      <td>6/2/2013</td>\n",
       "      <td>Northeast</td>\n",
       "      <td>Kenneth I. Chenault (Jan 2001–)</td>\n",
       "      <td>NaN</td>\n",
       "      <td>It is decidedly so</td>\n",
       "    </tr>\n",
       "  </tbody>\n",
       "</table>\n",
       "</div>"
      ],
      "text/plain": [
       "                 COMPANY TICKER                   COMPANY.1  # OF SHARES  \\\n",
       "0            Kraft Heinz    KHC           Kraft Heinz (KHC)  325,634,818   \n",
       "1            Wells Fargo    WFC           Wells Fargo (WFC)  467,987,270   \n",
       "2             Apple Inc.   AAPL           Apple Inc. (AAPL)  130,191,960   \n",
       "3  The Coca Cola Company     KO  The Coca Cola Company (KO)  400,000,000   \n",
       "4    American Express Co    AXP   American Express Co (AXP)  151,610,700   \n",
       "\n",
       "  PRICE (8/24/2017)               CITY PURCHASE DATE     REGION  \\\n",
       "0            $82.80        Chicago, IL     9/27/2005    Central   \n",
       "1            $52.16  San Francisco, CA      7/7/2002       West   \n",
       "2           $159.27      Cupertino, CA     9/23/2006       West   \n",
       "3            $45.41        Atlanta, GA    12/10/2003  Southeast   \n",
       "4            $85.36  New York City, NY      6/2/2013  Northeast   \n",
       "\n",
       "                                CEO      EMPLOYEES             WARREN COMMENT  \n",
       "0              Bernard Hees (2015–)  41,000 (2017)            Without a doubt  \n",
       "1  Timothy J. Sloan (Oct 12, 2016–)            NaN         It is decidedly so  \n",
       "2                          Tim Cook            NaN  Concentrate and ask again  \n",
       "3      James Quincey (May 1, 2017–)            NaN       Reply hazy try again  \n",
       "4   Kenneth I. Chenault (Jan 2001–)            NaN         It is decidedly so  "
      ]
     },
     "execution_count": 24,
     "metadata": {},
     "output_type": "execute_result"
    }
   ],
   "source": [
    "from pandas import read_csv\n",
    "buffett = read_csv('/resources/data/your_clean_csv.csv')\n",
    "buffett.head(5)"
   ]
  },
  {
   "cell_type": "markdown",
   "metadata": {},
   "source": [
    "Next we want to choose some of those stocks for our analysis. We could either type out the ticker symbol (e.g. `MSFT`) by hand, or we could refer to the `buffett` variable in order to select the ticker symbols. Let's choose the first 3 stocks from `buffett`. Replace `buffett['TICKER'][0:0]` with `buffett['TICKER']`**`[0:3]`**. If your column is called something different (like `Ticker`) then update accordingly:"
   ]
  },
  {
   "cell_type": "code",
   "execution_count": 25,
   "metadata": {},
   "outputs": [
    {
     "data": {
      "text/plain": [
       "['WIKI/KHC.11', 'WIKI/WFC.11', 'WIKI/AAPL.11']"
      ]
     },
     "execution_count": 25,
     "metadata": {},
     "output_type": "execute_result"
    }
   ],
   "source": [
    "symbols = [ 'WIKI/%s.11' % ticker for ticker in buffett['TICKER'][0:0] ]\n",
    "symbols"
   ]
  },
  {
   "cell_type": "markdown",
   "metadata": {},
   "source": [
    "We can now load in the symbol data from quandl.\n",
    "\n",
    "Let's save our progress by pulling this in to a new dataframe, `data2`. This means that if we run in to any problems with `data2`, we'll always have our original `data` to fall back on:"
   ]
  },
  {
   "cell_type": "code",
   "execution_count": 26,
   "metadata": {},
   "outputs": [
    {
     "data": {
      "text/html": [
       "<div>\n",
       "<style>\n",
       "    .dataframe thead tr:only-child th {\n",
       "        text-align: right;\n",
       "    }\n",
       "\n",
       "    .dataframe thead th {\n",
       "        text-align: left;\n",
       "    }\n",
       "\n",
       "    .dataframe tbody tr th {\n",
       "        vertical-align: top;\n",
       "    }\n",
       "</style>\n",
       "<table border=\"1\" class=\"dataframe\">\n",
       "  <thead>\n",
       "    <tr style=\"text-align: right;\">\n",
       "      <th></th>\n",
       "      <th>WIKI/KHC - Adj. Close</th>\n",
       "      <th>WIKI/WFC - Adj. Close</th>\n",
       "      <th>WIKI/AAPL - Adj. Close</th>\n",
       "    </tr>\n",
       "    <tr>\n",
       "      <th>Date</th>\n",
       "      <th></th>\n",
       "      <th></th>\n",
       "      <th></th>\n",
       "    </tr>\n",
       "  </thead>\n",
       "  <tbody>\n",
       "    <tr>\n",
       "      <th>2007-10-31</th>\n",
       "      <td>NaN</td>\n",
       "      <td>26.129162</td>\n",
       "      <td>24.411222</td>\n",
       "    </tr>\n",
       "    <tr>\n",
       "      <th>2007-11-30</th>\n",
       "      <td>NaN</td>\n",
       "      <td>25.166378</td>\n",
       "      <td>23.417810</td>\n",
       "    </tr>\n",
       "    <tr>\n",
       "      <th>2007-12-31</th>\n",
       "      <td>NaN</td>\n",
       "      <td>23.428090</td>\n",
       "      <td>25.456041</td>\n",
       "    </tr>\n",
       "    <tr>\n",
       "      <th>2008-01-31</th>\n",
       "      <td>NaN</td>\n",
       "      <td>26.446814</td>\n",
       "      <td>17.395647</td>\n",
       "    </tr>\n",
       "    <tr>\n",
       "      <th>2008-02-29</th>\n",
       "      <td>NaN</td>\n",
       "      <td>22.916878</td>\n",
       "      <td>16.066812</td>\n",
       "    </tr>\n",
       "  </tbody>\n",
       "</table>\n",
       "</div>"
      ],
      "text/plain": [
       "            WIKI/KHC - Adj. Close  WIKI/WFC - Adj. Close  \\\n",
       "Date                                                       \n",
       "2007-10-31                    NaN              26.129162   \n",
       "2007-11-30                    NaN              25.166378   \n",
       "2007-12-31                    NaN              23.428090   \n",
       "2008-01-31                    NaN              26.446814   \n",
       "2008-02-29                    NaN              22.916878   \n",
       "\n",
       "            WIKI/AAPL - Adj. Close  \n",
       "Date                                \n",
       "2007-10-31               24.411222  \n",
       "2007-11-30               23.417810  \n",
       "2007-12-31               25.456041  \n",
       "2008-01-31               17.395647  \n",
       "2008-02-29               16.066812  "
      ]
     },
     "execution_count": 26,
     "metadata": {},
     "output_type": "execute_result"
    }
   ],
   "source": [
    "data2 = quandl.get(symbols, rows=121, collapse='monthly', start_date=start_date)\n",
    "data2.head(5)"
   ]
  },
  {
   "cell_type": "markdown",
   "metadata": {},
   "source": [
    "You might see `NaN` (\"Not a Number\") where you'd expect to see numbers. That just means we have some missing data; we won't worry too much about that at this point. \n",
    "\n",
    "Let's have a look at the end of the data. To do this we look at the \"tail\". Type **`data2.tail(5)`** below and run the cell:"
   ]
  },
  {
   "cell_type": "code",
   "execution_count": 27,
   "metadata": {},
   "outputs": [
    {
     "data": {
      "text/html": [
       "<div>\n",
       "<style>\n",
       "    .dataframe thead tr:only-child th {\n",
       "        text-align: right;\n",
       "    }\n",
       "\n",
       "    .dataframe thead th {\n",
       "        text-align: left;\n",
       "    }\n",
       "\n",
       "    .dataframe tbody tr th {\n",
       "        vertical-align: top;\n",
       "    }\n",
       "</style>\n",
       "<table border=\"1\" class=\"dataframe\">\n",
       "  <thead>\n",
       "    <tr style=\"text-align: right;\">\n",
       "      <th></th>\n",
       "      <th>WIKI/KHC - Adj. Close</th>\n",
       "      <th>WIKI/WFC - Adj. Close</th>\n",
       "      <th>WIKI/AAPL - Adj. Close</th>\n",
       "    </tr>\n",
       "    <tr>\n",
       "      <th>Date</th>\n",
       "      <th></th>\n",
       "      <th></th>\n",
       "      <th></th>\n",
       "    </tr>\n",
       "  </thead>\n",
       "  <tbody>\n",
       "    <tr>\n",
       "      <th>2017-06-30</th>\n",
       "      <td>85.005796</td>\n",
       "      <td>55.009891</td>\n",
       "      <td>143.438008</td>\n",
       "    </tr>\n",
       "    <tr>\n",
       "      <th>2017-07-31</th>\n",
       "      <td>86.832597</td>\n",
       "      <td>53.550505</td>\n",
       "      <td>148.248489</td>\n",
       "    </tr>\n",
       "    <tr>\n",
       "      <th>2017-08-31</th>\n",
       "      <td>80.750000</td>\n",
       "      <td>51.070000</td>\n",
       "      <td>164.000000</td>\n",
       "    </tr>\n",
       "    <tr>\n",
       "      <th>2017-09-30</th>\n",
       "      <td>77.550000</td>\n",
       "      <td>55.150000</td>\n",
       "      <td>154.120000</td>\n",
       "    </tr>\n",
       "    <tr>\n",
       "      <th>2017-10-31</th>\n",
       "      <td>78.250000</td>\n",
       "      <td>55.390000</td>\n",
       "      <td>155.390000</td>\n",
       "    </tr>\n",
       "  </tbody>\n",
       "</table>\n",
       "</div>"
      ],
      "text/plain": [
       "            WIKI/KHC - Adj. Close  WIKI/WFC - Adj. Close  \\\n",
       "Date                                                       \n",
       "2017-06-30              85.005796              55.009891   \n",
       "2017-07-31              86.832597              53.550505   \n",
       "2017-08-31              80.750000              51.070000   \n",
       "2017-09-30              77.550000              55.150000   \n",
       "2017-10-31              78.250000              55.390000   \n",
       "\n",
       "            WIKI/AAPL - Adj. Close  \n",
       "Date                                \n",
       "2017-06-30              143.438008  \n",
       "2017-07-31              148.248489  \n",
       "2017-08-31              164.000000  \n",
       "2017-09-30              154.120000  \n",
       "2017-10-31              155.390000  "
      ]
     },
     "execution_count": 27,
     "metadata": {},
     "output_type": "execute_result"
    }
   ],
   "source": []
  },
  {
   "cell_type": "markdown",
   "metadata": {},
   "source": [
    "Let's clean up the column name to just their symbol name by removing `WIKI/` and ` - Close` from each column name.\n",
    "\n",
    "We can iterate over the columns using the `for col in data.columns` syntax. To look at the final 5 rows of our dataframe, **replace `#TODO` with `data2.tail(5)`**:"
   ]
  },
  {
   "cell_type": "code",
   "execution_count": 29,
   "metadata": {},
   "outputs": [
    {
     "data": {
      "text/html": [
       "<div>\n",
       "<style>\n",
       "    .dataframe thead tr:only-child th {\n",
       "        text-align: right;\n",
       "    }\n",
       "\n",
       "    .dataframe thead th {\n",
       "        text-align: left;\n",
       "    }\n",
       "\n",
       "    .dataframe tbody tr th {\n",
       "        vertical-align: top;\n",
       "    }\n",
       "</style>\n",
       "<table border=\"1\" class=\"dataframe\">\n",
       "  <thead>\n",
       "    <tr style=\"text-align: right;\">\n",
       "      <th></th>\n",
       "      <th>KHC</th>\n",
       "      <th>WFC</th>\n",
       "      <th>AAPL</th>\n",
       "    </tr>\n",
       "    <tr>\n",
       "      <th>Date</th>\n",
       "      <th></th>\n",
       "      <th></th>\n",
       "      <th></th>\n",
       "    </tr>\n",
       "  </thead>\n",
       "  <tbody>\n",
       "    <tr>\n",
       "      <th>2017-06-30</th>\n",
       "      <td>85.005796</td>\n",
       "      <td>55.009891</td>\n",
       "      <td>143.438008</td>\n",
       "    </tr>\n",
       "    <tr>\n",
       "      <th>2017-07-31</th>\n",
       "      <td>86.832597</td>\n",
       "      <td>53.550505</td>\n",
       "      <td>148.248489</td>\n",
       "    </tr>\n",
       "    <tr>\n",
       "      <th>2017-08-31</th>\n",
       "      <td>80.750000</td>\n",
       "      <td>51.070000</td>\n",
       "      <td>164.000000</td>\n",
       "    </tr>\n",
       "    <tr>\n",
       "      <th>2017-09-30</th>\n",
       "      <td>77.550000</td>\n",
       "      <td>55.150000</td>\n",
       "      <td>154.120000</td>\n",
       "    </tr>\n",
       "    <tr>\n",
       "      <th>2017-10-31</th>\n",
       "      <td>78.250000</td>\n",
       "      <td>55.390000</td>\n",
       "      <td>155.390000</td>\n",
       "    </tr>\n",
       "  </tbody>\n",
       "</table>\n",
       "</div>"
      ],
      "text/plain": [
       "                  KHC        WFC        AAPL\n",
       "Date                                        \n",
       "2017-06-30  85.005796  55.009891  143.438008\n",
       "2017-07-31  86.832597  53.550505  148.248489\n",
       "2017-08-31  80.750000  51.070000  164.000000\n",
       "2017-09-30  77.550000  55.150000  154.120000\n",
       "2017-10-31  78.250000  55.390000  155.390000"
      ]
     },
     "execution_count": 29,
     "metadata": {},
     "output_type": "execute_result"
    }
   ],
   "source": [
    "data2.columns = [col.replace(' - Adj. Close','').replace('WIKI/','') for col in data2.columns]\n",
    "#TODO"
   ]
  },
  {
   "cell_type": "markdown",
   "metadata": {},
   "source": [
    "Let's have another quick look at the data, to make sure everything looks good.\n",
    "\n",
    "Add the code to plot `data2` (hint: you've used similar code above already for `data`):"
   ]
  },
  {
   "cell_type": "code",
   "execution_count": null,
   "metadata": {},
   "outputs": [],
   "source": []
  },
  {
   "cell_type": "markdown",
   "metadata": {},
   "source": [
    "Explore the data by using the icons in the bottom left corner of the plot. \n",
    "\n",
    "It looks like we have some incomplete data.\n",
    "\n",
    "Further investigation reveals that we only have data for Kraft Heinz (KHC) from July 2015 onwards. We'll need to remember this for later, as this might affect our analysis.\n",
    "\n",
    "## <font color='green'>You're now finished with this section! Let your facilitators know, and have a break.</font>\n",
    "\n",
    "![done](https://media.giphy.com/media/26FL2NwYBOq3Z6C6Q/giphy.gif)"
   ]
  },
  {
   "cell_type": "markdown",
   "metadata": {},
   "source": [
    "## 3. Analysis\n",
    "\n",
    "Data analysis is all about answering questions. In this case Warren has one question - what will the prices of his stocks be in the future?\n",
    "\n",
    "To answer that question we are going to build our own Time Series Forecasting model from the ground up. This model will use the historic data that we have collected to forecast predictions for the future. We'll test it on one stock's data as we go.\n",
    "\n",
    "Before we get started, we need to extract all of the data for one stock as a `list` of numbers (it's easier to work with them this way). \n",
    "\n",
    "**Complete the code below to extract the data for Apple stock:**"
   ]
  },
  {
   "cell_type": "code",
   "execution_count": 33,
   "metadata": {},
   "outputs": [],
   "source": [
    "apple = data2['TICKER_NAME'].values"
   ]
  },
  {
   "cell_type": "markdown",
   "metadata": {},
   "source": [
    "Now we begin building.\n",
    "\n",
    "If we have a number that jumps up and down over time, as the Apple stock price does, what might be a good way to guess where it will next be? Taking an average price might be a good starting point.\n",
    "\n",
    "Complete the function below to calculate the average price of Apple stock over the whole `series`. Some built-in functions that might help are:\n",
    "- `sum(x)`, which will find the total of all values in x\n",
    "- `len(x)`, which will find the number of elements in x\n",
    "- `+`, `-`, `*`, `/`, the basic arithmetic operators\n",
    "\n",
    "Write your code in place of `#TODO`:"
   ]
  },
  {
   "cell_type": "code",
   "execution_count": 34,
   "metadata": {
    "scrolled": true
   },
   "outputs": [
    {
     "name": "stdout",
     "output_type": "stream",
     "text": [
      "Next month's Apple stock should be worth:  68.3011938638\n"
     ]
    }
   ],
   "source": [
    "def average(series):\n",
    "    return #TODO\n",
    "\n",
    "# Print prediction\n",
    "pred1 = average(apple)\n",
    "print \"Next month's Apple stock should be worth: \", pred1"
   ]
  },
  {
   "cell_type": "markdown",
   "metadata": {},
   "source": [
    "We have our prediction. How can we judge whether that's a good prediction or not?\n",
    "\n",
    "One way is to run our model on all but the last data point of our `series` (using the `series[:-1]` syntax) and see how well it predicts the true value. This technique is called **cross validation** and is used frequently in data analysis and machine learning. \n",
    "\n",
    "Let's see how well it works as a prediction for next month's value by visualizing it. Run the code below to import a couple of tools and plot Apple's stock with our new <font color='red'>prediction</font> against the <font color='blue'>Apple data</font> :\n"
   ]
  },
  {
   "cell_type": "code",
   "execution_count": 35,
   "metadata": {},
   "outputs": [
    {
     "name": "stdout",
     "output_type": "stream",
     "text": [
      "This month's stock price should be: 67.5754538127\n",
      "It was actually: 155.39\n"
     ]
    },
    {
     "data": {
      "image/png": "[encoded data removed]",
      "text/html": [
       "\n",
       "\n",
       "<style>\n",
       "\n",
       "</style>\n",
       "\n",
       "<div id=\"fig_el4442146603405604967614738\"></div>\n",
       "<script>\n",
       "function mpld3_load_lib(url, callback){\n",
       "  var s = document.createElement('script');\n",
       "  s.src = url;\n",
       "  s.async = true;\n",
       "  s.onreadystatechange = s.onload = callback;\n",
       "  s.onerror = function(){console.warn(\"failed to load library \" + url);};\n",
       "  document.getElementsByTagName(\"head\")[0].appendChild(s);\n",
       "}\n",
       "\n",
       "if(typeof(mpld3) !== \"undefined\" && mpld3._mpld3IsLoaded){\n",
       "   // already loaded: just create the figure\n",
       "   !function(mpld3){\n",
       "       \n",
       "       mpld3.draw_figure(\"fig_el4442146603405604967614738\", {\"axes\": [{\"xlim\": [-6.0, 126.0], \"yscale\": \"linear\", \"axesbg\": \"#FFFFFF\", \"texts\": [], \"zoomable\": true, \"images\": [], \"xdomain\": [-6.0, 126.0], \"ylim\": [3.317097807398749, 171.65156677107626], \"paths\": [], \"sharey\": [], \"sharex\": [], \"axesbgalpha\": null, \"axes\": [{\"scale\": \"linear\", \"tickformat\": null, \"grid\": {\"gridOn\": false}, \"visible\": true, \"fontsize\": 10.0, \"position\": \"bottom\", \"nticks\": 9, \"tickvalues\": null}, {\"scale\": \"linear\", \"tickformat\": null, \"grid\": {\"gridOn\": false}, \"visible\": true, \"fontsize\": 10.0, \"position\": \"left\", \"nticks\": 10, \"tickvalues\": null}], \"lines\": [{\"drawstyle\": \"default\", \"color\": \"#FF0000\", \"yindex\": 1, \"coordinates\": \"data\", \"dasharray\": \"none\", \"zorder\": 2, \"alpha\": 1, \"xindex\": 0, \"linewidth\": 1.5, \"data\": \"data01\", \"id\": \"el444214660254864\"}, {\"drawstyle\": \"default\", \"color\": \"#0000FF\", \"yindex\": 2, \"coordinates\": \"data\", \"dasharray\": \"none\", \"zorder\": 2, \"alpha\": 1, \"xindex\": 0, \"linewidth\": 1.5, \"data\": \"data01\", \"id\": \"el444214662342608\"}], \"markers\": [], \"id\": \"el444214659130832\", \"ydomain\": [3.317097807398749, 171.65156677107626], \"collections\": [], \"xscale\": \"linear\", \"bbox\": [0.125, 0.125, 0.775, 0.755]}], \"height\": 288.0, \"width\": 432.0, \"plugins\": [{\"type\": \"reset\"}, {\"enabled\": false, \"button\": true, \"type\": \"zoom\"}, {\"enabled\": false, \"button\": true, \"type\": \"boxzoom\"}], \"data\": {\"data01\": [[0.0, 24.411222456723, 24.411222456723], [1.0, 23.417809718684, 23.417809718684], [2.0, 25.456040769822, 25.456040769822], [3.0, 17.395646600379, 17.395646600379], [4.0, 16.066812485072, 16.066812485072], [5.0, 18.441750052855, 18.441750052855], [6.0, 22.354999454314, 22.354999454314], [7.0, 24.257005731542, 24.257005731542], [8.0, 21.518373720209, 21.518373720209], [9.0, 20.427290389556, 20.427290389556], [10.0, 21.786967849899, 21.786967849899], [11.0, 14.606894153362, 14.606894153362], [12.0, 13.826814551823, 13.826814551823], [13.0, 11.909386602077, 11.909386602077], [14.0, 10.968664578475, 10.968664578475], [15.0, 11.582961200445, 11.582961200445], [16.0, 11.477579771571, 11.477579771571], [17.0, 13.509385125826, 13.509385125826], [18.0, 16.170908774569, 16.170908774569], [19.0, 17.453477872322, 17.453477872322], [20.0, 18.304240139569, 18.304240139569], [21.0, 20.997892272724, 20.997892272724], [22.0, 21.6173294522, 21.6173294522], [23.0, 23.820058343531, 23.820058343531], [24.0, 24.22487724713, 24.22487724713], [25.0, 25.691221275723, 25.691221275723], [26.0, 27.081999108977, 27.081999108977], [27.0, 24.682772406979, 24.682772406979], [28.0, 26.296521922057, 26.296521922057], [29.0, 30.200775347881, 30.200775347881], [30.0, 33.553703981184, 33.553703981184], [31.0, 33.012660303675, 33.012660303675], [32.0, 32.325110737244, 32.325110737244], [33.0, 33.060210460605, 33.060210460605], [34.0, 31.24173824285, 31.24173824285], [35.0, 36.465829808345, 36.465829808345], [36.0, 38.680124954064, 38.680124954064], [37.0, 39.98711169997, 39.98711169997], [38.0, 41.453455728563, 41.453455728563], [39.0, 43.607349323587, 43.607349323587], [40.0, 45.392407917553, 45.392407917553], [41.0, 44.788071125751, 44.788071125751], [42.0, 44.996584989589, 44.996584989589], [43.0, 44.701002932993, 44.701002932993], [44.0, 43.138273451162, 43.138273451162], [45.0, 50.182122373789, 50.182122373789], [46.0, 49.456018626063, 49.456018626063], [47.0, 49.00493470491, 49.00493470491], [48.0, 52.019871682192, 52.019871682192], [49.0, 49.118026970042, 49.118026970042], [50.0, 52.048144748475, 52.048144748475], [51.0, 58.664042258726, 58.664042258726], [52.0, 69.711100339167, 69.711100339167], [53.0, 77.050531318391, 77.050531318391], [54.0, 75.049569309172, 75.049569309172], [55.0, 74.246357198856, 74.246357198856], [56.0, 75.052139587925, 75.052139587925], [57.0, 78.491172559453, 78.491172559453], [58.0, 85.857594115654, 85.857594115654], [59.0, 86.098295836876, 86.098295836876], [60.0, 76.83353816507, 76.83353816507], [61.0, 75.896485214554, 75.896485214554], [62.0, 69.009794690466, 69.009794690466], [63.0, 59.065900168086, 59.065900168086], [64.0, 57.562728311726, 57.562728311726], [65.0, 57.727044210395, 57.727044210395], [66.0, 57.742693343602, 57.742693343602], [67.0, 59.041313847026, 59.041313847026], [68.0, 52.056549256254, 52.056549256254], [69.0, 59.40824208744, 59.40824208744], [70.0, 64.384993720396, 64.384993720396], [71.0, 63.001924723734, 63.001924723734], [72.0, 69.074424870362, 69.074424870362], [73.0, 73.914215436527, 73.914215436527], [74.0, 74.572181819196, 74.572181819196], [75.0, 66.541004275586, 66.541004275586], [76.0, 70.365411763138, 70.365411763138], [77.0, 71.76940390268, 71.76940390268], [78.0, 78.903021106928, 78.903021106928], [79.0, 85.114261733663, 85.114261733663], [80.0, 87.468686256501, 87.468686256501], [81.0, 89.98177559584, 89.98177559584], [82.0, 96.956206806577, 96.956206806577], [83.0, 95.30085693427, 95.30085693427], [84.0, 102.15873497669, 102.15873497669], [85.0, 112.98399738955, 112.98399738955], [86.0, 104.8614616317, 104.8614616317], [87.0, 111.30248998705, 111.30248998705], [88.0, 122.5157567099, 122.5157567099], [89.0, 118.67223733001, 118.67223733001], [90.0, 119.35892069317, 119.35892069317], [91.0, 124.76735316852, 124.76735316852], [92.0, 120.11778685264, 120.11778685264], [93.0, 116.16733143492, 116.16733143492], [94.0, 108.47643694077, 108.47643694077], [95.0, 105.77318412236, 105.77318412236], [96.0, 114.96039565823, 114.96039565823], [97.0, 114.29538877569, 114.29538877569], [98.0, 101.69680999602, 101.69680999602], [99.0, 94.044912454993, 94.044912454993], [100.0, 93.919781198699, 93.919781198699], [101.0, 105.86737979984, 105.86737979984], [102.0, 91.054300233386, 91.054300233386], [103.0, 97.591938528951, 97.591938528951], [104.0, 93.428693404443, 93.428693404443], [105.0, 101.84313953637, 101.84313953637], [106.0, 104.24847718874, 104.24847718874], [107.0, 111.07719459177, 111.07719459177], [108.0, 111.55864373242, 111.55864373242], [109.0, 109.15491652711, 109.15491652711], [110.0, 114.38945378366, 114.38945378366], [111.0, 119.85115020417, 119.85115020417], [112.0, 135.8803615489, 135.8803615489], [113.0, 142.49633360184, 142.49633360184], [114.0, 142.48641460326, 142.48641460326], [115.0, 152.14268890314, 152.14268890314], [116.0, 143.43800769724, 143.43800769724], [117.0, 148.24848941629, 148.24848941629], [118.0, 164.0, 164.0], [119.0, 154.12, 154.12], [120.0, 67.57545381271319, 155.39]]}, \"id\": \"el444214660340560\"});\n",
       "   }(mpld3);\n",
       "}else if(typeof define === \"function\" && define.amd){\n",
       "   // require.js is available: use it to load d3/mpld3\n",
       "   require.config({paths: {d3: \"https://mpld3.github.io/js/d3.v3.min\"}});\n",
       "   require([\"d3\"], function(d3){\n",
       "      window.d3 = d3;\n",
       "      mpld3_load_lib(\"https://mpld3.github.io/js/mpld3.v0.3.js\", function(){\n",
       "         \n",
       "         mpld3.draw_figure(\"fig_el4442146603405604967614738\", {\"axes\": [{\"xlim\": [-6.0, 126.0], \"yscale\": \"linear\", \"axesbg\": \"#FFFFFF\", \"texts\": [], \"zoomable\": true, \"images\": [], \"xdomain\": [-6.0, 126.0], \"ylim\": [3.317097807398749, 171.65156677107626], \"paths\": [], \"sharey\": [], \"sharex\": [], \"axesbgalpha\": null, \"axes\": [{\"scale\": \"linear\", \"tickformat\": null, \"grid\": {\"gridOn\": false}, \"visible\": true, \"fontsize\": 10.0, \"position\": \"bottom\", \"nticks\": 9, \"tickvalues\": null}, {\"scale\": \"linear\", \"tickformat\": null, \"grid\": {\"gridOn\": false}, \"visible\": true, \"fontsize\": 10.0, \"position\": \"left\", \"nticks\": 10, \"tickvalues\": null}], \"lines\": [{\"drawstyle\": \"default\", \"color\": \"#FF0000\", \"yindex\": 1, \"coordinates\": \"data\", \"dasharray\": \"none\", \"zorder\": 2, \"alpha\": 1, \"xindex\": 0, \"linewidth\": 1.5, \"data\": \"data01\", \"id\": \"el444214660254864\"}, {\"drawstyle\": \"default\", \"color\": \"#0000FF\", \"yindex\": 2, \"coordinates\": \"data\", \"dasharray\": \"none\", \"zorder\": 2, \"alpha\": 1, \"xindex\": 0, \"linewidth\": 1.5, \"data\": \"data01\", \"id\": \"el444214662342608\"}], \"markers\": [], \"id\": \"el444214659130832\", \"ydomain\": [3.317097807398749, 171.65156677107626], \"collections\": [], \"xscale\": \"linear\", \"bbox\": [0.125, 0.125, 0.775, 0.755]}], \"height\": 288.0, \"width\": 432.0, \"plugins\": [{\"type\": \"reset\"}, {\"enabled\": false, \"button\": true, \"type\": \"zoom\"}, {\"enabled\": false, \"button\": true, \"type\": \"boxzoom\"}], \"data\": {\"data01\": [[0.0, 24.411222456723, 24.411222456723], [1.0, 23.417809718684, 23.417809718684], [2.0, 25.456040769822, 25.456040769822], [3.0, 17.395646600379, 17.395646600379], [4.0, 16.066812485072, 16.066812485072], [5.0, 18.441750052855, 18.441750052855], [6.0, 22.354999454314, 22.354999454314], [7.0, 24.257005731542, 24.257005731542], [8.0, 21.518373720209, 21.518373720209], [9.0, 20.427290389556, 20.427290389556], [10.0, 21.786967849899, 21.786967849899], [11.0, 14.606894153362, 14.606894153362], [12.0, 13.826814551823, 13.826814551823], [13.0, 11.909386602077, 11.909386602077], [14.0, 10.968664578475, 10.968664578475], [15.0, 11.582961200445, 11.582961200445], [16.0, 11.477579771571, 11.477579771571], [17.0, 13.509385125826, 13.509385125826], [18.0, 16.170908774569, 16.170908774569], [19.0, 17.453477872322, 17.453477872322], [20.0, 18.304240139569, 18.304240139569], [21.0, 20.997892272724, 20.997892272724], [22.0, 21.6173294522, 21.6173294522], [23.0, 23.820058343531, 23.820058343531], [24.0, 24.22487724713, 24.22487724713], [25.0, 25.691221275723, 25.691221275723], [26.0, 27.081999108977, 27.081999108977], [27.0, 24.682772406979, 24.682772406979], [28.0, 26.296521922057, 26.296521922057], [29.0, 30.200775347881, 30.200775347881], [30.0, 33.553703981184, 33.553703981184], [31.0, 33.012660303675, 33.012660303675], [32.0, 32.325110737244, 32.325110737244], [33.0, 33.060210460605, 33.060210460605], [34.0, 31.24173824285, 31.24173824285], [35.0, 36.465829808345, 36.465829808345], [36.0, 38.680124954064, 38.680124954064], [37.0, 39.98711169997, 39.98711169997], [38.0, 41.453455728563, 41.453455728563], [39.0, 43.607349323587, 43.607349323587], [40.0, 45.392407917553, 45.392407917553], [41.0, 44.788071125751, 44.788071125751], [42.0, 44.996584989589, 44.996584989589], [43.0, 44.701002932993, 44.701002932993], [44.0, 43.138273451162, 43.138273451162], [45.0, 50.182122373789, 50.182122373789], [46.0, 49.456018626063, 49.456018626063], [47.0, 49.00493470491, 49.00493470491], [48.0, 52.019871682192, 52.019871682192], [49.0, 49.118026970042, 49.118026970042], [50.0, 52.048144748475, 52.048144748475], [51.0, 58.664042258726, 58.664042258726], [52.0, 69.711100339167, 69.711100339167], [53.0, 77.050531318391, 77.050531318391], [54.0, 75.049569309172, 75.049569309172], [55.0, 74.246357198856, 74.246357198856], [56.0, 75.052139587925, 75.052139587925], [57.0, 78.491172559453, 78.491172559453], [58.0, 85.857594115654, 85.857594115654], [59.0, 86.098295836876, 86.098295836876], [60.0, 76.83353816507, 76.83353816507], [61.0, 75.896485214554, 75.896485214554], [62.0, 69.009794690466, 69.009794690466], [63.0, 59.065900168086, 59.065900168086], [64.0, 57.562728311726, 57.562728311726], [65.0, 57.727044210395, 57.727044210395], [66.0, 57.742693343602, 57.742693343602], [67.0, 59.041313847026, 59.041313847026], [68.0, 52.056549256254, 52.056549256254], [69.0, 59.40824208744, 59.40824208744], [70.0, 64.384993720396, 64.384993720396], [71.0, 63.001924723734, 63.001924723734], [72.0, 69.074424870362, 69.074424870362], [73.0, 73.914215436527, 73.914215436527], [74.0, 74.572181819196, 74.572181819196], [75.0, 66.541004275586, 66.541004275586], [76.0, 70.365411763138, 70.365411763138], [77.0, 71.76940390268, 71.76940390268], [78.0, 78.903021106928, 78.903021106928], [79.0, 85.114261733663, 85.114261733663], [80.0, 87.468686256501, 87.468686256501], [81.0, 89.98177559584, 89.98177559584], [82.0, 96.956206806577, 96.956206806577], [83.0, 95.30085693427, 95.30085693427], [84.0, 102.15873497669, 102.15873497669], [85.0, 112.98399738955, 112.98399738955], [86.0, 104.8614616317, 104.8614616317], [87.0, 111.30248998705, 111.30248998705], [88.0, 122.5157567099, 122.5157567099], [89.0, 118.67223733001, 118.67223733001], [90.0, 119.35892069317, 119.35892069317], [91.0, 124.76735316852, 124.76735316852], [92.0, 120.11778685264, 120.11778685264], [93.0, 116.16733143492, 116.16733143492], [94.0, 108.47643694077, 108.47643694077], [95.0, 105.77318412236, 105.77318412236], [96.0, 114.96039565823, 114.96039565823], [97.0, 114.29538877569, 114.29538877569], [98.0, 101.69680999602, 101.69680999602], [99.0, 94.044912454993, 94.044912454993], [100.0, 93.919781198699, 93.919781198699], [101.0, 105.86737979984, 105.86737979984], [102.0, 91.054300233386, 91.054300233386], [103.0, 97.591938528951, 97.591938528951], [104.0, 93.428693404443, 93.428693404443], [105.0, 101.84313953637, 101.84313953637], [106.0, 104.24847718874, 104.24847718874], [107.0, 111.07719459177, 111.07719459177], [108.0, 111.55864373242, 111.55864373242], [109.0, 109.15491652711, 109.15491652711], [110.0, 114.38945378366, 114.38945378366], [111.0, 119.85115020417, 119.85115020417], [112.0, 135.8803615489, 135.8803615489], [113.0, 142.49633360184, 142.49633360184], [114.0, 142.48641460326, 142.48641460326], [115.0, 152.14268890314, 152.14268890314], [116.0, 143.43800769724, 143.43800769724], [117.0, 148.24848941629, 148.24848941629], [118.0, 164.0, 164.0], [119.0, 154.12, 154.12], [120.0, 67.57545381271319, 155.39]]}, \"id\": \"el444214660340560\"});\n",
       "      });\n",
       "    });\n",
       "}else{\n",
       "    // require.js not available: dynamically load d3 & mpld3\n",
       "    mpld3_load_lib(\"https://mpld3.github.io/js/d3.v3.min.js\", function(){\n",
       "         mpld3_load_lib(\"https://mpld3.github.io/js/mpld3.v0.3.js\", function(){\n",
       "                 \n",
       "                 mpld3.draw_figure(\"fig_el4442146603405604967614738\", {\"axes\": [{\"xlim\": [-6.0, 126.0], \"yscale\": \"linear\", \"axesbg\": \"#FFFFFF\", \"texts\": [], \"zoomable\": true, \"images\": [], \"xdomain\": [-6.0, 126.0], \"ylim\": [3.317097807398749, 171.65156677107626], \"paths\": [], \"sharey\": [], \"sharex\": [], \"axesbgalpha\": null, \"axes\": [{\"scale\": \"linear\", \"tickformat\": null, \"grid\": {\"gridOn\": false}, \"visible\": true, \"fontsize\": 10.0, \"position\": \"bottom\", \"nticks\": 9, \"tickvalues\": null}, {\"scale\": \"linear\", \"tickformat\": null, \"grid\": {\"gridOn\": false}, \"visible\": true, \"fontsize\": 10.0, \"position\": \"left\", \"nticks\": 10, \"tickvalues\": null}], \"lines\": [{\"drawstyle\": \"default\", \"color\": \"#FF0000\", \"yindex\": 1, \"coordinates\": \"data\", \"dasharray\": \"none\", \"zorder\": 2, \"alpha\": 1, \"xindex\": 0, \"linewidth\": 1.5, \"data\": \"data01\", \"id\": \"el444214660254864\"}, {\"drawstyle\": \"default\", \"color\": \"#0000FF\", \"yindex\": 2, \"coordinates\": \"data\", \"dasharray\": \"none\", \"zorder\": 2, \"alpha\": 1, \"xindex\": 0, \"linewidth\": 1.5, \"data\": \"data01\", \"id\": \"el444214662342608\"}], \"markers\": [], \"id\": \"el444214659130832\", \"ydomain\": [3.317097807398749, 171.65156677107626], \"collections\": [], \"xscale\": \"linear\", \"bbox\": [0.125, 0.125, 0.775, 0.755]}], \"height\": 288.0, \"width\": 432.0, \"plugins\": [{\"type\": \"reset\"}, {\"enabled\": false, \"button\": true, \"type\": \"zoom\"}, {\"enabled\": false, \"button\": true, \"type\": \"boxzoom\"}], \"data\": {\"data01\": [[0.0, 24.411222456723, 24.411222456723], [1.0, 23.417809718684, 23.417809718684], [2.0, 25.456040769822, 25.456040769822], [3.0, 17.395646600379, 17.395646600379], [4.0, 16.066812485072, 16.066812485072], [5.0, 18.441750052855, 18.441750052855], [6.0, 22.354999454314, 22.354999454314], [7.0, 24.257005731542, 24.257005731542], [8.0, 21.518373720209, 21.518373720209], [9.0, 20.427290389556, 20.427290389556], [10.0, 21.786967849899, 21.786967849899], [11.0, 14.606894153362, 14.606894153362], [12.0, 13.826814551823, 13.826814551823], [13.0, 11.909386602077, 11.909386602077], [14.0, 10.968664578475, 10.968664578475], [15.0, 11.582961200445, 11.582961200445], [16.0, 11.477579771571, 11.477579771571], [17.0, 13.509385125826, 13.509385125826], [18.0, 16.170908774569, 16.170908774569], [19.0, 17.453477872322, 17.453477872322], [20.0, 18.304240139569, 18.304240139569], [21.0, 20.997892272724, 20.997892272724], [22.0, 21.6173294522, 21.6173294522], [23.0, 23.820058343531, 23.820058343531], [24.0, 24.22487724713, 24.22487724713], [25.0, 25.691221275723, 25.691221275723], [26.0, 27.081999108977, 27.081999108977], [27.0, 24.682772406979, 24.682772406979], [28.0, 26.296521922057, 26.296521922057], [29.0, 30.200775347881, 30.200775347881], [30.0, 33.553703981184, 33.553703981184], [31.0, 33.012660303675, 33.012660303675], [32.0, 32.325110737244, 32.325110737244], [33.0, 33.060210460605, 33.060210460605], [34.0, 31.24173824285, 31.24173824285], [35.0, 36.465829808345, 36.465829808345], [36.0, 38.680124954064, 38.680124954064], [37.0, 39.98711169997, 39.98711169997], [38.0, 41.453455728563, 41.453455728563], [39.0, 43.607349323587, 43.607349323587], [40.0, 45.392407917553, 45.392407917553], [41.0, 44.788071125751, 44.788071125751], [42.0, 44.996584989589, 44.996584989589], [43.0, 44.701002932993, 44.701002932993], [44.0, 43.138273451162, 43.138273451162], [45.0, 50.182122373789, 50.182122373789], [46.0, 49.456018626063, 49.456018626063], [47.0, 49.00493470491, 49.00493470491], [48.0, 52.019871682192, 52.019871682192], [49.0, 49.118026970042, 49.118026970042], [50.0, 52.048144748475, 52.048144748475], [51.0, 58.664042258726, 58.664042258726], [52.0, 69.711100339167, 69.711100339167], [53.0, 77.050531318391, 77.050531318391], [54.0, 75.049569309172, 75.049569309172], [55.0, 74.246357198856, 74.246357198856], [56.0, 75.052139587925, 75.052139587925], [57.0, 78.491172559453, 78.491172559453], [58.0, 85.857594115654, 85.857594115654], [59.0, 86.098295836876, 86.098295836876], [60.0, 76.83353816507, 76.83353816507], [61.0, 75.896485214554, 75.896485214554], [62.0, 69.009794690466, 69.009794690466], [63.0, 59.065900168086, 59.065900168086], [64.0, 57.562728311726, 57.562728311726], [65.0, 57.727044210395, 57.727044210395], [66.0, 57.742693343602, 57.742693343602], [67.0, 59.041313847026, 59.041313847026], [68.0, 52.056549256254, 52.056549256254], [69.0, 59.40824208744, 59.40824208744], [70.0, 64.384993720396, 64.384993720396], [71.0, 63.001924723734, 63.001924723734], [72.0, 69.074424870362, 69.074424870362], [73.0, 73.914215436527, 73.914215436527], [74.0, 74.572181819196, 74.572181819196], [75.0, 66.541004275586, 66.541004275586], [76.0, 70.365411763138, 70.365411763138], [77.0, 71.76940390268, 71.76940390268], [78.0, 78.903021106928, 78.903021106928], [79.0, 85.114261733663, 85.114261733663], [80.0, 87.468686256501, 87.468686256501], [81.0, 89.98177559584, 89.98177559584], [82.0, 96.956206806577, 96.956206806577], [83.0, 95.30085693427, 95.30085693427], [84.0, 102.15873497669, 102.15873497669], [85.0, 112.98399738955, 112.98399738955], [86.0, 104.8614616317, 104.8614616317], [87.0, 111.30248998705, 111.30248998705], [88.0, 122.5157567099, 122.5157567099], [89.0, 118.67223733001, 118.67223733001], [90.0, 119.35892069317, 119.35892069317], [91.0, 124.76735316852, 124.76735316852], [92.0, 120.11778685264, 120.11778685264], [93.0, 116.16733143492, 116.16733143492], [94.0, 108.47643694077, 108.47643694077], [95.0, 105.77318412236, 105.77318412236], [96.0, 114.96039565823, 114.96039565823], [97.0, 114.29538877569, 114.29538877569], [98.0, 101.69680999602, 101.69680999602], [99.0, 94.044912454993, 94.044912454993], [100.0, 93.919781198699, 93.919781198699], [101.0, 105.86737979984, 105.86737979984], [102.0, 91.054300233386, 91.054300233386], [103.0, 97.591938528951, 97.591938528951], [104.0, 93.428693404443, 93.428693404443], [105.0, 101.84313953637, 101.84313953637], [106.0, 104.24847718874, 104.24847718874], [107.0, 111.07719459177, 111.07719459177], [108.0, 111.55864373242, 111.55864373242], [109.0, 109.15491652711, 109.15491652711], [110.0, 114.38945378366, 114.38945378366], [111.0, 119.85115020417, 119.85115020417], [112.0, 135.8803615489, 135.8803615489], [113.0, 142.49633360184, 142.49633360184], [114.0, 142.48641460326, 142.48641460326], [115.0, 152.14268890314, 152.14268890314], [116.0, 143.43800769724, 143.43800769724], [117.0, 148.24848941629, 148.24848941629], [118.0, 164.0, 164.0], [119.0, 154.12, 154.12], [120.0, 67.57545381271319, 155.39]]}, \"id\": \"el444214660340560\"});\n",
       "            })\n",
       "         });\n",
       "}\n",
       "</script>"
      ],
      "text/plain": [
       "<matplotlib.figure.Figure at 0x115c72750>"
      ]
     },
     "metadata": {},
     "output_type": "display_data"
    }
   ],
   "source": [
    "import numpy as np\n",
    "import matplotlib.pyplot as plt\n",
    "\n",
    "# Recalculate the predicted stock price for this month:\n",
    "pred1 = average(apple[:-1]) # don't include this month's actual value\n",
    "print \"This month's stock price should be:\", pred1\n",
    "print \"It was actually:\", apple[-1]\n",
    "\n",
    "# Let's plot this visually as well:\n",
    "results1 = np.append(apple[:-1], pred1) # append all but the last points with our predicted point\n",
    "_,ax = plt.subplots() # get ready for two plots on the same graph\n",
    "_,_,_ = ax.plot(results1, color = \"red\"), ax.plot(apple, color = \"blue\"), plt.show() # plot blue = actual and red = predicted"
   ]
  },
  {
   "cell_type": "markdown",
   "metadata": {},
   "source": [
    "Yikes. The true value is way off!\n",
    "\n",
    "The problem is that we are taking an average over the entire time series, and that hasn't taken in to account the change in the *level* of our prices over time. One way we can solve this is by taking a 'moving average' that only takes an average of the last *n* stocks. It is called a 'moving average' as the window of values that it uses shifts along as we get new data:\n",
    "\n",
    "![movingavg](https://user-images.githubusercontent.com/534681/30615807-16ee0d0e-9d5e-11e7-834a-6728edc8ad24.png)\n",
    "\n",
    "Complete the code in the `moving_average` function below to take a recent average of the last 5 months of Apple's stock price.\n",
    "\n",
    "**HINT: Use the `average` function you already created, and use the `series[-n:]` syntax to only calculate the average for the last n numbers of the `series`**"
   ]
  },
  {
   "cell_type": "code",
   "execution_count": 59,
   "metadata": {},
   "outputs": [
    {
     "name": "stdout",
     "output_type": "stream",
     "text": [
      "This month's stock price should be:  None\n",
      "It was actually: 155.39\n"
     ]
    },
    {
     "data": {
      "image/png": "[encoded data removed]",
      "text/html": [
       "\n",
       "\n",
       "<style>\n",
       "\n",
       "</style>\n",
       "\n",
       "<div id=\"fig_el4442146657671846221949808\"></div>\n",
       "<script>\n",
       "function mpld3_load_lib(url, callback){\n",
       "  var s = document.createElement('script');\n",
       "  s.src = url;\n",
       "  s.async = true;\n",
       "  s.onreadystatechange = s.onload = callback;\n",
       "  s.onerror = function(){console.warn(\"failed to load library \" + url);};\n",
       "  document.getElementsByTagName(\"head\")[0].appendChild(s);\n",
       "}\n",
       "\n",
       "if(typeof(mpld3) !== \"undefined\" && mpld3._mpld3IsLoaded){\n",
       "   // already loaded: just create the figure\n",
       "   !function(mpld3){\n",
       "       \n",
       "       mpld3.draw_figure(\"fig_el4442146657671846221949808\", {\"axes\": [{\"xlim\": [-6.0, 126.0], \"yscale\": \"linear\", \"axesbg\": \"#FFFFFF\", \"texts\": [], \"zoomable\": true, \"images\": [], \"xdomain\": [-6.0, 126.0], \"ylim\": [3.317097807398749, 171.65156677107626], \"paths\": [], \"sharey\": [], \"sharex\": [], \"axesbgalpha\": null, \"axes\": [{\"scale\": \"linear\", \"tickformat\": null, \"grid\": {\"gridOn\": false}, \"visible\": true, \"fontsize\": 10.0, \"position\": \"bottom\", \"nticks\": 9, \"tickvalues\": null}, {\"scale\": \"linear\", \"tickformat\": null, \"grid\": {\"gridOn\": false}, \"visible\": true, \"fontsize\": 10.0, \"position\": \"left\", \"nticks\": 10, \"tickvalues\": null}], \"lines\": [{\"drawstyle\": \"default\", \"color\": \"#FF0000\", \"yindex\": 1, \"coordinates\": \"data\", \"dasharray\": \"none\", \"zorder\": 2, \"alpha\": 1, \"xindex\": 0, \"linewidth\": 1.5, \"data\": \"data01\", \"id\": \"el444214660196240\"}, {\"drawstyle\": \"default\", \"color\": \"#0000FF\", \"yindex\": 2, \"coordinates\": \"data\", \"dasharray\": \"none\", \"zorder\": 2, \"alpha\": 1, \"xindex\": 0, \"linewidth\": 1.5, \"data\": \"data01\", \"id\": \"el444214653540112\"}], \"markers\": [], \"id\": \"el444214662321360\", \"ydomain\": [3.317097807398749, 171.65156677107626], \"collections\": [], \"xscale\": \"linear\", \"bbox\": [0.125, 0.125, 0.775, 0.755]}], \"height\": 288.0, \"width\": 432.0, \"plugins\": [{\"type\": \"reset\"}, {\"enabled\": false, \"button\": true, \"type\": \"zoom\"}, {\"enabled\": false, \"button\": true, \"type\": \"boxzoom\"}], \"data\": {\"data01\": [[0.0, 24.411222456723, 24.411222456723], [1.0, 23.417809718684, 23.417809718684], [2.0, 25.456040769822, 25.456040769822], [3.0, 17.395646600379, 17.395646600379], [4.0, 16.066812485072, 16.066812485072], [5.0, 18.441750052855, 18.441750052855], [6.0, 22.354999454314, 22.354999454314], [7.0, 24.257005731542, 24.257005731542], [8.0, 21.518373720209, 21.518373720209], [9.0, 20.427290389556, 20.427290389556], [10.0, 21.786967849899, 21.786967849899], [11.0, 14.606894153362, 14.606894153362], [12.0, 13.826814551823, 13.826814551823], [13.0, 11.909386602077, 11.909386602077], [14.0, 10.968664578475, 10.968664578475], [15.0, 11.582961200445, 11.582961200445], [16.0, 11.477579771571, 11.477579771571], [17.0, 13.509385125826, 13.509385125826], [18.0, 16.170908774569, 16.170908774569], [19.0, 17.453477872322, 17.453477872322], [20.0, 18.304240139569, 18.304240139569], [21.0, 20.997892272724, 20.997892272724], [22.0, 21.6173294522, 21.6173294522], [23.0, 23.820058343531, 23.820058343531], [24.0, 24.22487724713, 24.22487724713], [25.0, 25.691221275723, 25.691221275723], [26.0, 27.081999108977, 27.081999108977], [27.0, 24.682772406979, 24.682772406979], [28.0, 26.296521922057, 26.296521922057], [29.0, 30.200775347881, 30.200775347881], [30.0, 33.553703981184, 33.553703981184], [31.0, 33.012660303675, 33.012660303675], [32.0, 32.325110737244, 32.325110737244], [33.0, 33.060210460605, 33.060210460605], [34.0, 31.24173824285, 31.24173824285], [35.0, 36.465829808345, 36.465829808345], [36.0, 38.680124954064, 38.680124954064], [37.0, 39.98711169997, 39.98711169997], [38.0, 41.453455728563, 41.453455728563], [39.0, 43.607349323587, 43.607349323587], [40.0, 45.392407917553, 45.392407917553], [41.0, 44.788071125751, 44.788071125751], [42.0, 44.996584989589, 44.996584989589], [43.0, 44.701002932993, 44.701002932993], [44.0, 43.138273451162, 43.138273451162], [45.0, 50.182122373789, 50.182122373789], [46.0, 49.456018626063, 49.456018626063], [47.0, 49.00493470491, 49.00493470491], [48.0, 52.019871682192, 52.019871682192], [49.0, 49.118026970042, 49.118026970042], [50.0, 52.048144748475, 52.048144748475], [51.0, 58.664042258726, 58.664042258726], [52.0, 69.711100339167, 69.711100339167], [53.0, 77.050531318391, 77.050531318391], [54.0, 75.049569309172, 75.049569309172], [55.0, 74.246357198856, 74.246357198856], [56.0, 75.052139587925, 75.052139587925], [57.0, 78.491172559453, 78.491172559453], [58.0, 85.857594115654, 85.857594115654], [59.0, 86.098295836876, 86.098295836876], [60.0, 76.83353816507, 76.83353816507], [61.0, 75.896485214554, 75.896485214554], [62.0, 69.009794690466, 69.009794690466], [63.0, 59.065900168086, 59.065900168086], [64.0, 57.562728311726, 57.562728311726], [65.0, 57.727044210395, 57.727044210395], [66.0, 57.742693343602, 57.742693343602], [67.0, 59.041313847026, 59.041313847026], [68.0, 52.056549256254, 52.056549256254], [69.0, 59.40824208744, 59.40824208744], [70.0, 64.384993720396, 64.384993720396], [71.0, 63.001924723734, 63.001924723734], [72.0, 69.074424870362, 69.074424870362], [73.0, 73.914215436527, 73.914215436527], [74.0, 74.572181819196, 74.572181819196], [75.0, 66.541004275586, 66.541004275586], [76.0, 70.365411763138, 70.365411763138], [77.0, 71.76940390268, 71.76940390268], [78.0, 78.903021106928, 78.903021106928], [79.0, 85.114261733663, 85.114261733663], [80.0, 87.468686256501, 87.468686256501], [81.0, 89.98177559584, 89.98177559584], [82.0, 96.956206806577, 96.956206806577], [83.0, 95.30085693427, 95.30085693427], [84.0, 102.15873497669, 102.15873497669], [85.0, 112.98399738955, 112.98399738955], [86.0, 104.8614616317, 104.8614616317], [87.0, 111.30248998705, 111.30248998705], [88.0, 122.5157567099, 122.5157567099], [89.0, 118.67223733001, 118.67223733001], [90.0, 119.35892069317, 119.35892069317], [91.0, 124.76735316852, 124.76735316852], [92.0, 120.11778685264, 120.11778685264], [93.0, 116.16733143492, 116.16733143492], [94.0, 108.47643694077, 108.47643694077], [95.0, 105.77318412236, 105.77318412236], [96.0, 114.96039565823, 114.96039565823], [97.0, 114.29538877569, 114.29538877569], [98.0, 101.69680999602, 101.69680999602], [99.0, 94.044912454993, 94.044912454993], [100.0, 93.919781198699, 93.919781198699], [101.0, 105.86737979984, 105.86737979984], [102.0, 91.054300233386, 91.054300233386], [103.0, 97.591938528951, 97.591938528951], [104.0, 93.428693404443, 93.428693404443], [105.0, 101.84313953637, 101.84313953637], [106.0, 104.24847718874, 104.24847718874], [107.0, 111.07719459177, 111.07719459177], [108.0, 111.55864373242, 111.55864373242], [109.0, 109.15491652711, 109.15491652711], [110.0, 114.38945378366, 114.38945378366], [111.0, 119.85115020417, 119.85115020417], [112.0, 135.8803615489, 135.8803615489], [113.0, 142.49633360184, 142.49633360184], [114.0, 142.48641460326, 142.48641460326], [115.0, 152.14268890314, 152.14268890314], [116.0, 143.43800769724, 143.43800769724], [117.0, 148.24848941629, 148.24848941629], [118.0, 164.0, 164.0], [119.0, 154.12, 154.12], [120.0, NaN, 155.39]]}, \"id\": \"el444214665767184\"});\n",
       "   }(mpld3);\n",
       "}else if(typeof define === \"function\" && define.amd){\n",
       "   // require.js is available: use it to load d3/mpld3\n",
       "   require.config({paths: {d3: \"https://mpld3.github.io/js/d3.v3.min\"}});\n",
       "   require([\"d3\"], function(d3){\n",
       "      window.d3 = d3;\n",
       "      mpld3_load_lib(\"https://mpld3.github.io/js/mpld3.v0.3.js\", function(){\n",
       "         \n",
       "         mpld3.draw_figure(\"fig_el4442146657671846221949808\", {\"axes\": [{\"xlim\": [-6.0, 126.0], \"yscale\": \"linear\", \"axesbg\": \"#FFFFFF\", \"texts\": [], \"zoomable\": true, \"images\": [], \"xdomain\": [-6.0, 126.0], \"ylim\": [3.317097807398749, 171.65156677107626], \"paths\": [], \"sharey\": [], \"sharex\": [], \"axesbgalpha\": null, \"axes\": [{\"scale\": \"linear\", \"tickformat\": null, \"grid\": {\"gridOn\": false}, \"visible\": true, \"fontsize\": 10.0, \"position\": \"bottom\", \"nticks\": 9, \"tickvalues\": null}, {\"scale\": \"linear\", \"tickformat\": null, \"grid\": {\"gridOn\": false}, \"visible\": true, \"fontsize\": 10.0, \"position\": \"left\", \"nticks\": 10, \"tickvalues\": null}], \"lines\": [{\"drawstyle\": \"default\", \"color\": \"#FF0000\", \"yindex\": 1, \"coordinates\": \"data\", \"dasharray\": \"none\", \"zorder\": 2, \"alpha\": 1, \"xindex\": 0, \"linewidth\": 1.5, \"data\": \"data01\", \"id\": \"el444214660196240\"}, {\"drawstyle\": \"default\", \"color\": \"#0000FF\", \"yindex\": 2, \"coordinates\": \"data\", \"dasharray\": \"none\", \"zorder\": 2, \"alpha\": 1, \"xindex\": 0, \"linewidth\": 1.5, \"data\": \"data01\", \"id\": \"el444214653540112\"}], \"markers\": [], \"id\": \"el444214662321360\", \"ydomain\": [3.317097807398749, 171.65156677107626], \"collections\": [], \"xscale\": \"linear\", \"bbox\": [0.125, 0.125, 0.775, 0.755]}], \"height\": 288.0, \"width\": 432.0, \"plugins\": [{\"type\": \"reset\"}, {\"enabled\": false, \"button\": true, \"type\": \"zoom\"}, {\"enabled\": false, \"button\": true, \"type\": \"boxzoom\"}], \"data\": {\"data01\": [[0.0, 24.411222456723, 24.411222456723], [1.0, 23.417809718684, 23.417809718684], [2.0, 25.456040769822, 25.456040769822], [3.0, 17.395646600379, 17.395646600379], [4.0, 16.066812485072, 16.066812485072], [5.0, 18.441750052855, 18.441750052855], [6.0, 22.354999454314, 22.354999454314], [7.0, 24.257005731542, 24.257005731542], [8.0, 21.518373720209, 21.518373720209], [9.0, 20.427290389556, 20.427290389556], [10.0, 21.786967849899, 21.786967849899], [11.0, 14.606894153362, 14.606894153362], [12.0, 13.826814551823, 13.826814551823], [13.0, 11.909386602077, 11.909386602077], [14.0, 10.968664578475, 10.968664578475], [15.0, 11.582961200445, 11.582961200445], [16.0, 11.477579771571, 11.477579771571], [17.0, 13.509385125826, 13.509385125826], [18.0, 16.170908774569, 16.170908774569], [19.0, 17.453477872322, 17.453477872322], [20.0, 18.304240139569, 18.304240139569], [21.0, 20.997892272724, 20.997892272724], [22.0, 21.6173294522, 21.6173294522], [23.0, 23.820058343531, 23.820058343531], [24.0, 24.22487724713, 24.22487724713], [25.0, 25.691221275723, 25.691221275723], [26.0, 27.081999108977, 27.081999108977], [27.0, 24.682772406979, 24.682772406979], [28.0, 26.296521922057, 26.296521922057], [29.0, 30.200775347881, 30.200775347881], [30.0, 33.553703981184, 33.553703981184], [31.0, 33.012660303675, 33.012660303675], [32.0, 32.325110737244, 32.325110737244], [33.0, 33.060210460605, 33.060210460605], [34.0, 31.24173824285, 31.24173824285], [35.0, 36.465829808345, 36.465829808345], [36.0, 38.680124954064, 38.680124954064], [37.0, 39.98711169997, 39.98711169997], [38.0, 41.453455728563, 41.453455728563], [39.0, 43.607349323587, 43.607349323587], [40.0, 45.392407917553, 45.392407917553], [41.0, 44.788071125751, 44.788071125751], [42.0, 44.996584989589, 44.996584989589], [43.0, 44.701002932993, 44.701002932993], [44.0, 43.138273451162, 43.138273451162], [45.0, 50.182122373789, 50.182122373789], [46.0, 49.456018626063, 49.456018626063], [47.0, 49.00493470491, 49.00493470491], [48.0, 52.019871682192, 52.019871682192], [49.0, 49.118026970042, 49.118026970042], [50.0, 52.048144748475, 52.048144748475], [51.0, 58.664042258726, 58.664042258726], [52.0, 69.711100339167, 69.711100339167], [53.0, 77.050531318391, 77.050531318391], [54.0, 75.049569309172, 75.049569309172], [55.0, 74.246357198856, 74.246357198856], [56.0, 75.052139587925, 75.052139587925], [57.0, 78.491172559453, 78.491172559453], [58.0, 85.857594115654, 85.857594115654], [59.0, 86.098295836876, 86.098295836876], [60.0, 76.83353816507, 76.83353816507], [61.0, 75.896485214554, 75.896485214554], [62.0, 69.009794690466, 69.009794690466], [63.0, 59.065900168086, 59.065900168086], [64.0, 57.562728311726, 57.562728311726], [65.0, 57.727044210395, 57.727044210395], [66.0, 57.742693343602, 57.742693343602], [67.0, 59.041313847026, 59.041313847026], [68.0, 52.056549256254, 52.056549256254], [69.0, 59.40824208744, 59.40824208744], [70.0, 64.384993720396, 64.384993720396], [71.0, 63.001924723734, 63.001924723734], [72.0, 69.074424870362, 69.074424870362], [73.0, 73.914215436527, 73.914215436527], [74.0, 74.572181819196, 74.572181819196], [75.0, 66.541004275586, 66.541004275586], [76.0, 70.365411763138, 70.365411763138], [77.0, 71.76940390268, 71.76940390268], [78.0, 78.903021106928, 78.903021106928], [79.0, 85.114261733663, 85.114261733663], [80.0, 87.468686256501, 87.468686256501], [81.0, 89.98177559584, 89.98177559584], [82.0, 96.956206806577, 96.956206806577], [83.0, 95.30085693427, 95.30085693427], [84.0, 102.15873497669, 102.15873497669], [85.0, 112.98399738955, 112.98399738955], [86.0, 104.8614616317, 104.8614616317], [87.0, 111.30248998705, 111.30248998705], [88.0, 122.5157567099, 122.5157567099], [89.0, 118.67223733001, 118.67223733001], [90.0, 119.35892069317, 119.35892069317], [91.0, 124.76735316852, 124.76735316852], [92.0, 120.11778685264, 120.11778685264], [93.0, 116.16733143492, 116.16733143492], [94.0, 108.47643694077, 108.47643694077], [95.0, 105.77318412236, 105.77318412236], [96.0, 114.96039565823, 114.96039565823], [97.0, 114.29538877569, 114.29538877569], [98.0, 101.69680999602, 101.69680999602], [99.0, 94.044912454993, 94.044912454993], [100.0, 93.919781198699, 93.919781198699], [101.0, 105.86737979984, 105.86737979984], [102.0, 91.054300233386, 91.054300233386], [103.0, 97.591938528951, 97.591938528951], [104.0, 93.428693404443, 93.428693404443], [105.0, 101.84313953637, 101.84313953637], [106.0, 104.24847718874, 104.24847718874], [107.0, 111.07719459177, 111.07719459177], [108.0, 111.55864373242, 111.55864373242], [109.0, 109.15491652711, 109.15491652711], [110.0, 114.38945378366, 114.38945378366], [111.0, 119.85115020417, 119.85115020417], [112.0, 135.8803615489, 135.8803615489], [113.0, 142.49633360184, 142.49633360184], [114.0, 142.48641460326, 142.48641460326], [115.0, 152.14268890314, 152.14268890314], [116.0, 143.43800769724, 143.43800769724], [117.0, 148.24848941629, 148.24848941629], [118.0, 164.0, 164.0], [119.0, 154.12, 154.12], [120.0, NaN, 155.39]]}, \"id\": \"el444214665767184\"});\n",
       "      });\n",
       "    });\n",
       "}else{\n",
       "    // require.js not available: dynamically load d3 & mpld3\n",
       "    mpld3_load_lib(\"https://mpld3.github.io/js/d3.v3.min.js\", function(){\n",
       "         mpld3_load_lib(\"https://mpld3.github.io/js/mpld3.v0.3.js\", function(){\n",
       "                 \n",
       "                 mpld3.draw_figure(\"fig_el4442146657671846221949808\", {\"axes\": [{\"xlim\": [-6.0, 126.0], \"yscale\": \"linear\", \"axesbg\": \"#FFFFFF\", \"texts\": [], \"zoomable\": true, \"images\": [], \"xdomain\": [-6.0, 126.0], \"ylim\": [3.317097807398749, 171.65156677107626], \"paths\": [], \"sharey\": [], \"sharex\": [], \"axesbgalpha\": null, \"axes\": [{\"scale\": \"linear\", \"tickformat\": null, \"grid\": {\"gridOn\": false}, \"visible\": true, \"fontsize\": 10.0, \"position\": \"bottom\", \"nticks\": 9, \"tickvalues\": null}, {\"scale\": \"linear\", \"tickformat\": null, \"grid\": {\"gridOn\": false}, \"visible\": true, \"fontsize\": 10.0, \"position\": \"left\", \"nticks\": 10, \"tickvalues\": null}], \"lines\": [{\"drawstyle\": \"default\", \"color\": \"#FF0000\", \"yindex\": 1, \"coordinates\": \"data\", \"dasharray\": \"none\", \"zorder\": 2, \"alpha\": 1, \"xindex\": 0, \"linewidth\": 1.5, \"data\": \"data01\", \"id\": \"el444214660196240\"}, {\"drawstyle\": \"default\", \"color\": \"#0000FF\", \"yindex\": 2, \"coordinates\": \"data\", \"dasharray\": \"none\", \"zorder\": 2, \"alpha\": 1, \"xindex\": 0, \"linewidth\": 1.5, \"data\": \"data01\", \"id\": \"el444214653540112\"}], \"markers\": [], \"id\": \"el444214662321360\", \"ydomain\": [3.317097807398749, 171.65156677107626], \"collections\": [], \"xscale\": \"linear\", \"bbox\": [0.125, 0.125, 0.775, 0.755]}], \"height\": 288.0, \"width\": 432.0, \"plugins\": [{\"type\": \"reset\"}, {\"enabled\": false, \"button\": true, \"type\": \"zoom\"}, {\"enabled\": false, \"button\": true, \"type\": \"boxzoom\"}], \"data\": {\"data01\": [[0.0, 24.411222456723, 24.411222456723], [1.0, 23.417809718684, 23.417809718684], [2.0, 25.456040769822, 25.456040769822], [3.0, 17.395646600379, 17.395646600379], [4.0, 16.066812485072, 16.066812485072], [5.0, 18.441750052855, 18.441750052855], [6.0, 22.354999454314, 22.354999454314], [7.0, 24.257005731542, 24.257005731542], [8.0, 21.518373720209, 21.518373720209], [9.0, 20.427290389556, 20.427290389556], [10.0, 21.786967849899, 21.786967849899], [11.0, 14.606894153362, 14.606894153362], [12.0, 13.826814551823, 13.826814551823], [13.0, 11.909386602077, 11.909386602077], [14.0, 10.968664578475, 10.968664578475], [15.0, 11.582961200445, 11.582961200445], [16.0, 11.477579771571, 11.477579771571], [17.0, 13.509385125826, 13.509385125826], [18.0, 16.170908774569, 16.170908774569], [19.0, 17.453477872322, 17.453477872322], [20.0, 18.304240139569, 18.304240139569], [21.0, 20.997892272724, 20.997892272724], [22.0, 21.6173294522, 21.6173294522], [23.0, 23.820058343531, 23.820058343531], [24.0, 24.22487724713, 24.22487724713], [25.0, 25.691221275723, 25.691221275723], [26.0, 27.081999108977, 27.081999108977], [27.0, 24.682772406979, 24.682772406979], [28.0, 26.296521922057, 26.296521922057], [29.0, 30.200775347881, 30.200775347881], [30.0, 33.553703981184, 33.553703981184], [31.0, 33.012660303675, 33.012660303675], [32.0, 32.325110737244, 32.325110737244], [33.0, 33.060210460605, 33.060210460605], [34.0, 31.24173824285, 31.24173824285], [35.0, 36.465829808345, 36.465829808345], [36.0, 38.680124954064, 38.680124954064], [37.0, 39.98711169997, 39.98711169997], [38.0, 41.453455728563, 41.453455728563], [39.0, 43.607349323587, 43.607349323587], [40.0, 45.392407917553, 45.392407917553], [41.0, 44.788071125751, 44.788071125751], [42.0, 44.996584989589, 44.996584989589], [43.0, 44.701002932993, 44.701002932993], [44.0, 43.138273451162, 43.138273451162], [45.0, 50.182122373789, 50.182122373789], [46.0, 49.456018626063, 49.456018626063], [47.0, 49.00493470491, 49.00493470491], [48.0, 52.019871682192, 52.019871682192], [49.0, 49.118026970042, 49.118026970042], [50.0, 52.048144748475, 52.048144748475], [51.0, 58.664042258726, 58.664042258726], [52.0, 69.711100339167, 69.711100339167], [53.0, 77.050531318391, 77.050531318391], [54.0, 75.049569309172, 75.049569309172], [55.0, 74.246357198856, 74.246357198856], [56.0, 75.052139587925, 75.052139587925], [57.0, 78.491172559453, 78.491172559453], [58.0, 85.857594115654, 85.857594115654], [59.0, 86.098295836876, 86.098295836876], [60.0, 76.83353816507, 76.83353816507], [61.0, 75.896485214554, 75.896485214554], [62.0, 69.009794690466, 69.009794690466], [63.0, 59.065900168086, 59.065900168086], [64.0, 57.562728311726, 57.562728311726], [65.0, 57.727044210395, 57.727044210395], [66.0, 57.742693343602, 57.742693343602], [67.0, 59.041313847026, 59.041313847026], [68.0, 52.056549256254, 52.056549256254], [69.0, 59.40824208744, 59.40824208744], [70.0, 64.384993720396, 64.384993720396], [71.0, 63.001924723734, 63.001924723734], [72.0, 69.074424870362, 69.074424870362], [73.0, 73.914215436527, 73.914215436527], [74.0, 74.572181819196, 74.572181819196], [75.0, 66.541004275586, 66.541004275586], [76.0, 70.365411763138, 70.365411763138], [77.0, 71.76940390268, 71.76940390268], [78.0, 78.903021106928, 78.903021106928], [79.0, 85.114261733663, 85.114261733663], [80.0, 87.468686256501, 87.468686256501], [81.0, 89.98177559584, 89.98177559584], [82.0, 96.956206806577, 96.956206806577], [83.0, 95.30085693427, 95.30085693427], [84.0, 102.15873497669, 102.15873497669], [85.0, 112.98399738955, 112.98399738955], [86.0, 104.8614616317, 104.8614616317], [87.0, 111.30248998705, 111.30248998705], [88.0, 122.5157567099, 122.5157567099], [89.0, 118.67223733001, 118.67223733001], [90.0, 119.35892069317, 119.35892069317], [91.0, 124.76735316852, 124.76735316852], [92.0, 120.11778685264, 120.11778685264], [93.0, 116.16733143492, 116.16733143492], [94.0, 108.47643694077, 108.47643694077], [95.0, 105.77318412236, 105.77318412236], [96.0, 114.96039565823, 114.96039565823], [97.0, 114.29538877569, 114.29538877569], [98.0, 101.69680999602, 101.69680999602], [99.0, 94.044912454993, 94.044912454993], [100.0, 93.919781198699, 93.919781198699], [101.0, 105.86737979984, 105.86737979984], [102.0, 91.054300233386, 91.054300233386], [103.0, 97.591938528951, 97.591938528951], [104.0, 93.428693404443, 93.428693404443], [105.0, 101.84313953637, 101.84313953637], [106.0, 104.24847718874, 104.24847718874], [107.0, 111.07719459177, 111.07719459177], [108.0, 111.55864373242, 111.55864373242], [109.0, 109.15491652711, 109.15491652711], [110.0, 114.38945378366, 114.38945378366], [111.0, 119.85115020417, 119.85115020417], [112.0, 135.8803615489, 135.8803615489], [113.0, 142.49633360184, 142.49633360184], [114.0, 142.48641460326, 142.48641460326], [115.0, 152.14268890314, 152.14268890314], [116.0, 143.43800769724, 143.43800769724], [117.0, 148.24848941629, 148.24848941629], [118.0, 164.0, 164.0], [119.0, 154.12, 154.12], [120.0, NaN, 155.39]]}, \"id\": \"el444214665767184\"});\n",
       "            })\n",
       "         });\n",
       "}\n",
       "</script>"
      ],
      "text/plain": [
       "<matplotlib.figure.Figure at 0x11619f510>"
      ]
     },
     "metadata": {},
     "output_type": "display_data"
    }
   ],
   "source": [
    "def  moving_average(series, n):\n",
    "    return #TODO\n",
    "\n",
    "# Print and plot prediction\n",
    "pred2 = moving_average(apple[:-1], 5)\n",
    "print \"This month's stock price should be: \", pred2\n",
    "print \"It was actually:\", apple[-1]\n",
    "\n",
    "results2 = np.append(apple[:-1], pred2)\n",
    "_,ax = plt.subplots()\n",
    "_,_,_ = ax.plot(results2, color = \"red\"), ax.plot(apple, color = \"blue\"), plt.show()"
   ]
  },
  {
   "cell_type": "markdown",
   "metadata": {},
   "source": [
    "That looks better - you might want to zoom in to the top right corner to get a better look.\n",
    "\n",
    "However, we're giving equal importance to all of the recent stock prices in our model.\n",
    "\n",
    "To prioritize the most recent, we can multiply each of the last *n* stock prices by a number, called a weight, and then take an average. **What combination of weights work best?**\n",
    "\n",
    "*NOTE: these weights should increase in the direction of time and always add up to 1!*\n",
    "\n",
    "![weights](https://user-images.githubusercontent.com/534681/30828050-44e27a3c-a20a-11e7-892c-6498ec9cd579.png)"
   ]
  },
  {
   "cell_type": "code",
   "execution_count": 60,
   "metadata": {},
   "outputs": [
    {
     "ename": "SyntaxError",
     "evalue": "invalid syntax (<ipython-input-60-48fd6f8cc9e9>, line 8)",
     "output_type": "error",
     "traceback": [
      "\u001b[0;36m  File \u001b[0;32m\"<ipython-input-60-48fd6f8cc9e9>\"\u001b[0;36m, line \u001b[0;32m8\u001b[0m\n\u001b[0;31m    weights = [,,,] # TODO: enter weights that add to 1\u001b[0m\n\u001b[0m               ^\u001b[0m\n\u001b[0;31mSyntaxError\u001b[0m\u001b[0;31m:\u001b[0m invalid syntax\n"
     ]
    }
   ],
   "source": [
    "def weighted_average(series, weights):\n",
    "    result = 0.0\n",
    "    weights.reverse()\n",
    "    for n in range(len(weights)):\n",
    "        result += series[-n-1] * weights[n]\n",
    "    return result\n",
    "\n",
    "weights = [,,,] # TODO: enter weights that add to 1\n",
    "\n",
    "# Print and plot prediction\n",
    "pred3 = weighted_average(apple[:-1], weights)\n",
    "print \"This month's stock should be: \", pred3\n",
    "print \"It was actually:\", apple[-1]\n",
    "results3 = np.append(apple[:-1], pred3)\n",
    "_,ax = plt.subplots()\n",
    "_,_,_ = ax.plot(results3, color = \"red\"), ax.plot(apple, color = \"blue\"), plt.show()"
   ]
  },
  {
   "cell_type": "markdown",
   "metadata": {},
   "source": [
    "You've now trained your model to a fairly accurate prediction of the future. But will your weights always predict Apple stock this well?\n",
    "\n",
    "Probably not, because this model only is only using the last few stock prices, and throwing the rest away. What if we want to use all the data?\n",
    "\n",
    "One clever trick, devised by mathematicians Poisson, Holt and Roberts, is to overlap lots of small moving average windows, taking the output (weighted average) of one window as a data point in the next. Specifically, the windows are of size two, using weights $\\alpha$ and $(1 - \\alpha)$ (remember, weights have to add up to 1, so they can both be defined by one variable). This is process is *recursive*, as it take the output from one step as the input of the next, starting from the first pair of values and repeating through all values.\n",
    "\n",
    "If you'd like to see that in a formula, it is:\n",
    "\n",
    "$$\\hat{y}_t = \\alpha y_t + (1 - \\alpha)\\hat{y}_{t-1}$$\n",
    "\n",
    "where $\\hat{y}_t$ is the predicted price at time *t*, and $\\alpha$ is the one value we use to calculate the two weights, $\\alpha$ and $(1 - \\alpha)$.\n",
    "\n",
    "![weights](https://user-images.githubusercontent.com/534681/30828078-61da2a54-a20a-11e7-85f2-a020fab25d5b.png)\n",
    "\n",
    "Before moving on, find the answer to the following questions:\n",
    "\n",
    "1. What does this *parameter*   $\\alpha$   control? Experiment with different values to find out.\n",
    "2. How far in to the future can this model accurately predict?\n",
    "\n",
    "Set **alpha = 0.7** and see how changing this value affects the predictions:\n",
    "\n",
    "*NOTE: Feel free to experiment with this value and see how it affects your results!*"
   ]
  },
  {
   "cell_type": "code",
   "execution_count": 40,
   "metadata": {},
   "outputs": [
    {
     "data": {
      "image/png": "[encoded data removed]",
      "text/html": [
       "\n",
       "\n",
       "<style>\n",
       "\n",
       "</style>\n",
       "\n",
       "<div id=\"fig_el4442146656448805020662938\"></div>\n",
       "<script>\n",
       "function mpld3_load_lib(url, callback){\n",
       "  var s = document.createElement('script');\n",
       "  s.src = url;\n",
       "  s.async = true;\n",
       "  s.onreadystatechange = s.onload = callback;\n",
       "  s.onerror = function(){console.warn(\"failed to load library \" + url);};\n",
       "  document.getElementsByTagName(\"head\")[0].appendChild(s);\n",
       "}\n",
       "\n",
       "if(typeof(mpld3) !== \"undefined\" && mpld3._mpld3IsLoaded){\n",
       "   // already loaded: just create the figure\n",
       "   !function(mpld3){\n",
       "       \n",
       "       mpld3.draw_figure(\"fig_el4442146656448805020662938\", {\"axes\": [{\"xlim\": [-6.0, 126.0], \"yscale\": \"linear\", \"axesbg\": \"#FFFFFF\", \"texts\": [], \"zoomable\": true, \"images\": [], \"xdomain\": [-6.0, 126.0], \"ylim\": [3.317097807398749, 171.65156677107626], \"paths\": [], \"sharey\": [], \"sharex\": [], \"axesbgalpha\": null, \"axes\": [{\"scale\": \"linear\", \"tickformat\": null, \"grid\": {\"gridOn\": false}, \"visible\": true, \"fontsize\": 10.0, \"position\": \"bottom\", \"nticks\": 9, \"tickvalues\": null}, {\"scale\": \"linear\", \"tickformat\": null, \"grid\": {\"gridOn\": false}, \"visible\": true, \"fontsize\": 10.0, \"position\": \"left\", \"nticks\": 10, \"tickvalues\": null}], \"lines\": [{\"drawstyle\": \"default\", \"color\": \"#FF0000\", \"yindex\": 1, \"coordinates\": \"data\", \"dasharray\": \"none\", \"zorder\": 2, \"alpha\": 1, \"xindex\": 0, \"linewidth\": 1.5, \"data\": \"data01\", \"id\": \"el444214665643728\"}, {\"drawstyle\": \"default\", \"color\": \"#0000FF\", \"yindex\": 2, \"coordinates\": \"data\", \"dasharray\": \"none\", \"zorder\": 2, \"alpha\": 1, \"xindex\": 0, \"linewidth\": 1.5, \"data\": \"data01\", \"id\": \"el444214665327824\"}], \"markers\": [], \"id\": \"el444214663948048\", \"ydomain\": [3.317097807398749, 171.65156677107626], \"collections\": [], \"xscale\": \"linear\", \"bbox\": [0.125, 0.125, 0.775, 0.755]}], \"height\": 288.0, \"width\": 432.0, \"plugins\": [{\"type\": \"reset\"}, {\"enabled\": false, \"button\": true, \"type\": \"zoom\"}, {\"enabled\": false, \"button\": true, \"type\": \"boxzoom\"}], \"data\": {\"data01\": [[0.0, 24.411222456723, 24.411222456723], [1.0, 23.7158335400957, 23.417809718684], [2.0, 24.933978600904112, 25.456040769822], [3.0, 19.657146200536534, 17.395646600379], [4.0, 17.14391259971136, 16.066812485072], [5.0, 18.052398816911907, 18.441750052855], [6.0, 21.064219263093374, 22.354999454314], [7.0, 23.29916979100741, 24.257005731542], [8.0, 22.05261254144852, 21.518373720209], [9.0, 20.914887035123755, 20.427290389556], [10.0, 21.525343605466425, 21.786967849899], [11.0, 16.682428988993326, 14.606894153362], [12.0, 14.6834988829741, 13.826814551823], [13.0, 12.74162028634613, 11.909386602077], [14.0, 11.50055129083634, 10.968664578475], [15.0, 11.558238227562402, 11.582961200445], [16.0, 11.501777308368421, 11.477579771571], [17.0, 12.907102780588726, 13.509385125826], [18.0, 15.191766976374916, 16.170908774569], [19.0, 16.774964603537875, 17.453477872322], [20.0, 17.845457478759663, 18.304240139569], [21.0, 20.052161834534697, 20.997892272724], [22.0, 21.14777916690041, 21.6173294522], [23.0, 23.01837459054182, 23.820058343531], [24.0, 23.862926450153548, 24.22487724713], [25.0, 25.14273282805216, 25.691221275723], [26.0, 26.50021922469955, 27.081999108977], [27.0, 25.22800645229517, 24.682772406979], [28.0, 25.97596728112845, 26.296521922057], [29.0, 28.933332927855233, 30.200775347881], [30.0, 32.16759266518537, 33.553703981184], [31.0, 32.75914001212811, 33.012660303675], [32.0, 32.455319519709235, 32.325110737244], [33.0, 32.878743178336265, 33.060210460605], [34.0, 31.73283972349588, 31.24173824285], [35.0, 35.04593278289026, 36.465829808345], [36.0, 37.58986730271188, 38.680124954064], [37.0, 39.267938380792565, 39.98711169997], [38.0, 40.79780052423187, 41.453455728563], [39.0, 42.76448468378046, 43.607349323587], [40.0, 44.604030947421236, 45.392407917553], [41.0, 44.73285907225207, 44.788071125751], [42.0, 44.917467214387926, 44.996584989589], [43.0, 44.76594221741148, 44.701002932993], [44.0, 43.62657408103684, 43.138273451162], [45.0, 48.215457885963346, 50.182122373789], [46.0, 49.0838504040331, 49.456018626063], [47.0, 49.02860941464693, 49.00493470491], [48.0, 51.122493001928476, 52.019871682192], [49.0, 49.719366779607945, 49.118026970042], [50.0, 51.34951135781489, 52.048144748475], [51.0, 56.46968298845267, 58.664042258726], [52.0, 65.7386751339527, 69.711100339167], [53.0, 73.6569744630595, 77.050531318391], [54.0, 74.63179085533825, 75.049569309172], [55.0, 74.36198729580067, 74.246357198856], [56.0, 74.84509390028771, 75.052139587925], [57.0, 77.39734896170341, 78.491172559453], [58.0, 83.31952056946882, 85.857594115654], [59.0, 85.26466325665385, 86.098295836876], [60.0, 79.36287569254515, 76.83353816507], [61.0, 76.93640235795135, 75.896485214554], [62.0, 71.3877769907116, 69.009794690466], [63.0, 62.762463214873684, 59.065900168086], [64.0, 59.12264878267031, 57.562728311726], [65.0, 58.14572558207759, 57.727044210395], [66.0, 57.863603015144676, 57.742693343602], [67.0, 58.6880005974616, 59.041313847026], [68.0, 54.045984658616284, 52.056549256254], [69.0, 57.799564858792884, 59.40824208744], [70.0, 62.40936506191506, 64.384993720396], [71.0, 62.82415682518832, 63.001924723734], [72.0, 67.1993444568099, 69.074424870362], [73.0, 71.89975414261187, 73.914215436527], [74.0, 73.77045351622077, 74.572181819196], [75.0, 68.70983904777644, 66.541004275586], [76.0, 69.86873994852954, 70.365411763138], [77.0, 71.19920471643485, 71.76940390268], [78.0, 76.59187618978005, 78.903021106928], [79.0, 82.55754607049812, 85.114261733663], [80.0, 85.99534420070013, 87.468686256501], [81.0, 88.78584617729804, 89.98177559584], [82.0, 94.50509861779331, 96.956206806577], [83.0, 95.062129439327, 95.30085693427], [84.0, 100.02975331548109, 102.15873497669], [85.0, 109.09772416732932, 112.98399738955], [86.0, 106.13234039238878, 104.8614616317], [87.0, 109.75144510865164, 111.30248998705], [88.0, 118.68646322952549, 122.5157567099], [89.0, 118.67650509986464, 118.67223733001], [90.0, 119.1541960151784, 119.35892069317], [91.0, 123.08340602251752, 124.76735316852], [92.0, 121.00747260360325, 120.11778685264], [93.0, 117.61937378552497, 116.16733143492], [94.0, 111.21931799419649, 108.47643694077], [95.0, 107.40702428391094, 105.77318412236], [96.0, 112.69438424593429, 114.96039565823], [97.0, 113.81508741676329, 114.29538877569], [98.0, 105.33229322224298, 101.69680999602], [99.0, 97.431126685168, 94.044912454993], [100.0, 94.9731848446397, 93.919781198699], [101.0, 102.59912131327991, 105.86737979984], [102.0, 94.51774655735417, 91.054300233386], [103.0, 96.66968093747195, 97.591938528951], [104.0, 94.40098966435168, 93.428693404443], [105.0, 99.61049457476452, 101.84313953637], [106.0, 102.85708240454736, 104.24847718874], [107.0, 108.61116093560321, 111.07719459177], [108.0, 110.67439889337496, 111.55864373242], [109.0, 109.61076123698949, 109.15491652711], [110.0, 112.95584601965885, 114.38945378366], [111.0, 117.78255894881664, 119.85115020417], [112.0, 130.451020768875, 135.8803615489], [113.0, 138.8827397519505, 142.49633360184], [114.0, 141.40531214786716, 142.48641460326], [115.0, 148.92147587655813, 152.14268890314], [116.0, 148.92147587655813, 143.43800769724], [117.0, 148.92147587655813, 148.24848941629], [118.0, 148.92147587655813, 164.0], [119.0, 148.92147587655813, 154.12], [120.0, 148.92147587655813, 155.39]]}, \"id\": \"el444214665644880\"});\n",
       "   }(mpld3);\n",
       "}else if(typeof define === \"function\" && define.amd){\n",
       "   // require.js is available: use it to load d3/mpld3\n",
       "   require.config({paths: {d3: \"https://mpld3.github.io/js/d3.v3.min\"}});\n",
       "   require([\"d3\"], function(d3){\n",
       "      window.d3 = d3;\n",
       "      mpld3_load_lib(\"https://mpld3.github.io/js/mpld3.v0.3.js\", function(){\n",
       "         \n",
       "         mpld3.draw_figure(\"fig_el4442146656448805020662938\", {\"axes\": [{\"xlim\": [-6.0, 126.0], \"yscale\": \"linear\", \"axesbg\": \"#FFFFFF\", \"texts\": [], \"zoomable\": true, \"images\": [], \"xdomain\": [-6.0, 126.0], \"ylim\": [3.317097807398749, 171.65156677107626], \"paths\": [], \"sharey\": [], \"sharex\": [], \"axesbgalpha\": null, \"axes\": [{\"scale\": \"linear\", \"tickformat\": null, \"grid\": {\"gridOn\": false}, \"visible\": true, \"fontsize\": 10.0, \"position\": \"bottom\", \"nticks\": 9, \"tickvalues\": null}, {\"scale\": \"linear\", \"tickformat\": null, \"grid\": {\"gridOn\": false}, \"visible\": true, \"fontsize\": 10.0, \"position\": \"left\", \"nticks\": 10, \"tickvalues\": null}], \"lines\": [{\"drawstyle\": \"default\", \"color\": \"#FF0000\", \"yindex\": 1, \"coordinates\": \"data\", \"dasharray\": \"none\", \"zorder\": 2, \"alpha\": 1, \"xindex\": 0, \"linewidth\": 1.5, \"data\": \"data01\", \"id\": \"el444214665643728\"}, {\"drawstyle\": \"default\", \"color\": \"#0000FF\", \"yindex\": 2, \"coordinates\": \"data\", \"dasharray\": \"none\", \"zorder\": 2, \"alpha\": 1, \"xindex\": 0, \"linewidth\": 1.5, \"data\": \"data01\", \"id\": \"el444214665327824\"}], \"markers\": [], \"id\": \"el444214663948048\", \"ydomain\": [3.317097807398749, 171.65156677107626], \"collections\": [], \"xscale\": \"linear\", \"bbox\": [0.125, 0.125, 0.775, 0.755]}], \"height\": 288.0, \"width\": 432.0, \"plugins\": [{\"type\": \"reset\"}, {\"enabled\": false, \"button\": true, \"type\": \"zoom\"}, {\"enabled\": false, \"button\": true, \"type\": \"boxzoom\"}], \"data\": {\"data01\": [[0.0, 24.411222456723, 24.411222456723], [1.0, 23.7158335400957, 23.417809718684], [2.0, 24.933978600904112, 25.456040769822], [3.0, 19.657146200536534, 17.395646600379], [4.0, 17.14391259971136, 16.066812485072], [5.0, 18.052398816911907, 18.441750052855], [6.0, 21.064219263093374, 22.354999454314], [7.0, 23.29916979100741, 24.257005731542], [8.0, 22.05261254144852, 21.518373720209], [9.0, 20.914887035123755, 20.427290389556], [10.0, 21.525343605466425, 21.786967849899], [11.0, 16.682428988993326, 14.606894153362], [12.0, 14.6834988829741, 13.826814551823], [13.0, 12.74162028634613, 11.909386602077], [14.0, 11.50055129083634, 10.968664578475], [15.0, 11.558238227562402, 11.582961200445], [16.0, 11.501777308368421, 11.477579771571], [17.0, 12.907102780588726, 13.509385125826], [18.0, 15.191766976374916, 16.170908774569], [19.0, 16.774964603537875, 17.453477872322], [20.0, 17.845457478759663, 18.304240139569], [21.0, 20.052161834534697, 20.997892272724], [22.0, 21.14777916690041, 21.6173294522], [23.0, 23.01837459054182, 23.820058343531], [24.0, 23.862926450153548, 24.22487724713], [25.0, 25.14273282805216, 25.691221275723], [26.0, 26.50021922469955, 27.081999108977], [27.0, 25.22800645229517, 24.682772406979], [28.0, 25.97596728112845, 26.296521922057], [29.0, 28.933332927855233, 30.200775347881], [30.0, 32.16759266518537, 33.553703981184], [31.0, 32.75914001212811, 33.012660303675], [32.0, 32.455319519709235, 32.325110737244], [33.0, 32.878743178336265, 33.060210460605], [34.0, 31.73283972349588, 31.24173824285], [35.0, 35.04593278289026, 36.465829808345], [36.0, 37.58986730271188, 38.680124954064], [37.0, 39.267938380792565, 39.98711169997], [38.0, 40.79780052423187, 41.453455728563], [39.0, 42.76448468378046, 43.607349323587], [40.0, 44.604030947421236, 45.392407917553], [41.0, 44.73285907225207, 44.788071125751], [42.0, 44.917467214387926, 44.996584989589], [43.0, 44.76594221741148, 44.701002932993], [44.0, 43.62657408103684, 43.138273451162], [45.0, 48.215457885963346, 50.182122373789], [46.0, 49.0838504040331, 49.456018626063], [47.0, 49.02860941464693, 49.00493470491], [48.0, 51.122493001928476, 52.019871682192], [49.0, 49.719366779607945, 49.118026970042], [50.0, 51.34951135781489, 52.048144748475], [51.0, 56.46968298845267, 58.664042258726], [52.0, 65.7386751339527, 69.711100339167], [53.0, 73.6569744630595, 77.050531318391], [54.0, 74.63179085533825, 75.049569309172], [55.0, 74.36198729580067, 74.246357198856], [56.0, 74.84509390028771, 75.052139587925], [57.0, 77.39734896170341, 78.491172559453], [58.0, 83.31952056946882, 85.857594115654], [59.0, 85.26466325665385, 86.098295836876], [60.0, 79.36287569254515, 76.83353816507], [61.0, 76.93640235795135, 75.896485214554], [62.0, 71.3877769907116, 69.009794690466], [63.0, 62.762463214873684, 59.065900168086], [64.0, 59.12264878267031, 57.562728311726], [65.0, 58.14572558207759, 57.727044210395], [66.0, 57.863603015144676, 57.742693343602], [67.0, 58.6880005974616, 59.041313847026], [68.0, 54.045984658616284, 52.056549256254], [69.0, 57.799564858792884, 59.40824208744], [70.0, 62.40936506191506, 64.384993720396], [71.0, 62.82415682518832, 63.001924723734], [72.0, 67.1993444568099, 69.074424870362], [73.0, 71.89975414261187, 73.914215436527], [74.0, 73.77045351622077, 74.572181819196], [75.0, 68.70983904777644, 66.541004275586], [76.0, 69.86873994852954, 70.365411763138], [77.0, 71.19920471643485, 71.76940390268], [78.0, 76.59187618978005, 78.903021106928], [79.0, 82.55754607049812, 85.114261733663], [80.0, 85.99534420070013, 87.468686256501], [81.0, 88.78584617729804, 89.98177559584], [82.0, 94.50509861779331, 96.956206806577], [83.0, 95.062129439327, 95.30085693427], [84.0, 100.02975331548109, 102.15873497669], [85.0, 109.09772416732932, 112.98399738955], [86.0, 106.13234039238878, 104.8614616317], [87.0, 109.75144510865164, 111.30248998705], [88.0, 118.68646322952549, 122.5157567099], [89.0, 118.67650509986464, 118.67223733001], [90.0, 119.1541960151784, 119.35892069317], [91.0, 123.08340602251752, 124.76735316852], [92.0, 121.00747260360325, 120.11778685264], [93.0, 117.61937378552497, 116.16733143492], [94.0, 111.21931799419649, 108.47643694077], [95.0, 107.40702428391094, 105.77318412236], [96.0, 112.69438424593429, 114.96039565823], [97.0, 113.81508741676329, 114.29538877569], [98.0, 105.33229322224298, 101.69680999602], [99.0, 97.431126685168, 94.044912454993], [100.0, 94.9731848446397, 93.919781198699], [101.0, 102.59912131327991, 105.86737979984], [102.0, 94.51774655735417, 91.054300233386], [103.0, 96.66968093747195, 97.591938528951], [104.0, 94.40098966435168, 93.428693404443], [105.0, 99.61049457476452, 101.84313953637], [106.0, 102.85708240454736, 104.24847718874], [107.0, 108.61116093560321, 111.07719459177], [108.0, 110.67439889337496, 111.55864373242], [109.0, 109.61076123698949, 109.15491652711], [110.0, 112.95584601965885, 114.38945378366], [111.0, 117.78255894881664, 119.85115020417], [112.0, 130.451020768875, 135.8803615489], [113.0, 138.8827397519505, 142.49633360184], [114.0, 141.40531214786716, 142.48641460326], [115.0, 148.92147587655813, 152.14268890314], [116.0, 148.92147587655813, 143.43800769724], [117.0, 148.92147587655813, 148.24848941629], [118.0, 148.92147587655813, 164.0], [119.0, 148.92147587655813, 154.12], [120.0, 148.92147587655813, 155.39]]}, \"id\": \"el444214665644880\"});\n",
       "      });\n",
       "    });\n",
       "}else{\n",
       "    // require.js not available: dynamically load d3 & mpld3\n",
       "    mpld3_load_lib(\"https://mpld3.github.io/js/d3.v3.min.js\", function(){\n",
       "         mpld3_load_lib(\"https://mpld3.github.io/js/mpld3.v0.3.js\", function(){\n",
       "                 \n",
       "                 mpld3.draw_figure(\"fig_el4442146656448805020662938\", {\"axes\": [{\"xlim\": [-6.0, 126.0], \"yscale\": \"linear\", \"axesbg\": \"#FFFFFF\", \"texts\": [], \"zoomable\": true, \"images\": [], \"xdomain\": [-6.0, 126.0], \"ylim\": [3.317097807398749, 171.65156677107626], \"paths\": [], \"sharey\": [], \"sharex\": [], \"axesbgalpha\": null, \"axes\": [{\"scale\": \"linear\", \"tickformat\": null, \"grid\": {\"gridOn\": false}, \"visible\": true, \"fontsize\": 10.0, \"position\": \"bottom\", \"nticks\": 9, \"tickvalues\": null}, {\"scale\": \"linear\", \"tickformat\": null, \"grid\": {\"gridOn\": false}, \"visible\": true, \"fontsize\": 10.0, \"position\": \"left\", \"nticks\": 10, \"tickvalues\": null}], \"lines\": [{\"drawstyle\": \"default\", \"color\": \"#FF0000\", \"yindex\": 1, \"coordinates\": \"data\", \"dasharray\": \"none\", \"zorder\": 2, \"alpha\": 1, \"xindex\": 0, \"linewidth\": 1.5, \"data\": \"data01\", \"id\": \"el444214665643728\"}, {\"drawstyle\": \"default\", \"color\": \"#0000FF\", \"yindex\": 2, \"coordinates\": \"data\", \"dasharray\": \"none\", \"zorder\": 2, \"alpha\": 1, \"xindex\": 0, \"linewidth\": 1.5, \"data\": \"data01\", \"id\": \"el444214665327824\"}], \"markers\": [], \"id\": \"el444214663948048\", \"ydomain\": [3.317097807398749, 171.65156677107626], \"collections\": [], \"xscale\": \"linear\", \"bbox\": [0.125, 0.125, 0.775, 0.755]}], \"height\": 288.0, \"width\": 432.0, \"plugins\": [{\"type\": \"reset\"}, {\"enabled\": false, \"button\": true, \"type\": \"zoom\"}, {\"enabled\": false, \"button\": true, \"type\": \"boxzoom\"}], \"data\": {\"data01\": [[0.0, 24.411222456723, 24.411222456723], [1.0, 23.7158335400957, 23.417809718684], [2.0, 24.933978600904112, 25.456040769822], [3.0, 19.657146200536534, 17.395646600379], [4.0, 17.14391259971136, 16.066812485072], [5.0, 18.052398816911907, 18.441750052855], [6.0, 21.064219263093374, 22.354999454314], [7.0, 23.29916979100741, 24.257005731542], [8.0, 22.05261254144852, 21.518373720209], [9.0, 20.914887035123755, 20.427290389556], [10.0, 21.525343605466425, 21.786967849899], [11.0, 16.682428988993326, 14.606894153362], [12.0, 14.6834988829741, 13.826814551823], [13.0, 12.74162028634613, 11.909386602077], [14.0, 11.50055129083634, 10.968664578475], [15.0, 11.558238227562402, 11.582961200445], [16.0, 11.501777308368421, 11.477579771571], [17.0, 12.907102780588726, 13.509385125826], [18.0, 15.191766976374916, 16.170908774569], [19.0, 16.774964603537875, 17.453477872322], [20.0, 17.845457478759663, 18.304240139569], [21.0, 20.052161834534697, 20.997892272724], [22.0, 21.14777916690041, 21.6173294522], [23.0, 23.01837459054182, 23.820058343531], [24.0, 23.862926450153548, 24.22487724713], [25.0, 25.14273282805216, 25.691221275723], [26.0, 26.50021922469955, 27.081999108977], [27.0, 25.22800645229517, 24.682772406979], [28.0, 25.97596728112845, 26.296521922057], [29.0, 28.933332927855233, 30.200775347881], [30.0, 32.16759266518537, 33.553703981184], [31.0, 32.75914001212811, 33.012660303675], [32.0, 32.455319519709235, 32.325110737244], [33.0, 32.878743178336265, 33.060210460605], [34.0, 31.73283972349588, 31.24173824285], [35.0, 35.04593278289026, 36.465829808345], [36.0, 37.58986730271188, 38.680124954064], [37.0, 39.267938380792565, 39.98711169997], [38.0, 40.79780052423187, 41.453455728563], [39.0, 42.76448468378046, 43.607349323587], [40.0, 44.604030947421236, 45.392407917553], [41.0, 44.73285907225207, 44.788071125751], [42.0, 44.917467214387926, 44.996584989589], [43.0, 44.76594221741148, 44.701002932993], [44.0, 43.62657408103684, 43.138273451162], [45.0, 48.215457885963346, 50.182122373789], [46.0, 49.0838504040331, 49.456018626063], [47.0, 49.02860941464693, 49.00493470491], [48.0, 51.122493001928476, 52.019871682192], [49.0, 49.719366779607945, 49.118026970042], [50.0, 51.34951135781489, 52.048144748475], [51.0, 56.46968298845267, 58.664042258726], [52.0, 65.7386751339527, 69.711100339167], [53.0, 73.6569744630595, 77.050531318391], [54.0, 74.63179085533825, 75.049569309172], [55.0, 74.36198729580067, 74.246357198856], [56.0, 74.84509390028771, 75.052139587925], [57.0, 77.39734896170341, 78.491172559453], [58.0, 83.31952056946882, 85.857594115654], [59.0, 85.26466325665385, 86.098295836876], [60.0, 79.36287569254515, 76.83353816507], [61.0, 76.93640235795135, 75.896485214554], [62.0, 71.3877769907116, 69.009794690466], [63.0, 62.762463214873684, 59.065900168086], [64.0, 59.12264878267031, 57.562728311726], [65.0, 58.14572558207759, 57.727044210395], [66.0, 57.863603015144676, 57.742693343602], [67.0, 58.6880005974616, 59.041313847026], [68.0, 54.045984658616284, 52.056549256254], [69.0, 57.799564858792884, 59.40824208744], [70.0, 62.40936506191506, 64.384993720396], [71.0, 62.82415682518832, 63.001924723734], [72.0, 67.1993444568099, 69.074424870362], [73.0, 71.89975414261187, 73.914215436527], [74.0, 73.77045351622077, 74.572181819196], [75.0, 68.70983904777644, 66.541004275586], [76.0, 69.86873994852954, 70.365411763138], [77.0, 71.19920471643485, 71.76940390268], [78.0, 76.59187618978005, 78.903021106928], [79.0, 82.55754607049812, 85.114261733663], [80.0, 85.99534420070013, 87.468686256501], [81.0, 88.78584617729804, 89.98177559584], [82.0, 94.50509861779331, 96.956206806577], [83.0, 95.062129439327, 95.30085693427], [84.0, 100.02975331548109, 102.15873497669], [85.0, 109.09772416732932, 112.98399738955], [86.0, 106.13234039238878, 104.8614616317], [87.0, 109.75144510865164, 111.30248998705], [88.0, 118.68646322952549, 122.5157567099], [89.0, 118.67650509986464, 118.67223733001], [90.0, 119.1541960151784, 119.35892069317], [91.0, 123.08340602251752, 124.76735316852], [92.0, 121.00747260360325, 120.11778685264], [93.0, 117.61937378552497, 116.16733143492], [94.0, 111.21931799419649, 108.47643694077], [95.0, 107.40702428391094, 105.77318412236], [96.0, 112.69438424593429, 114.96039565823], [97.0, 113.81508741676329, 114.29538877569], [98.0, 105.33229322224298, 101.69680999602], [99.0, 97.431126685168, 94.044912454993], [100.0, 94.9731848446397, 93.919781198699], [101.0, 102.59912131327991, 105.86737979984], [102.0, 94.51774655735417, 91.054300233386], [103.0, 96.66968093747195, 97.591938528951], [104.0, 94.40098966435168, 93.428693404443], [105.0, 99.61049457476452, 101.84313953637], [106.0, 102.85708240454736, 104.24847718874], [107.0, 108.61116093560321, 111.07719459177], [108.0, 110.67439889337496, 111.55864373242], [109.0, 109.61076123698949, 109.15491652711], [110.0, 112.95584601965885, 114.38945378366], [111.0, 117.78255894881664, 119.85115020417], [112.0, 130.451020768875, 135.8803615489], [113.0, 138.8827397519505, 142.49633360184], [114.0, 141.40531214786716, 142.48641460326], [115.0, 148.92147587655813, 152.14268890314], [116.0, 148.92147587655813, 143.43800769724], [117.0, 148.92147587655813, 148.24848941629], [118.0, 148.92147587655813, 164.0], [119.0, 148.92147587655813, 154.12], [120.0, 148.92147587655813, 155.39]]}, \"id\": \"el444214665644880\"});\n",
       "            })\n",
       "         });\n",
       "}\n",
       "</script>"
      ],
      "text/plain": [
       "<matplotlib.figure.Figure at 0x116181750>"
      ]
     },
     "metadata": {},
     "output_type": "display_data"
    }
   ],
   "source": [
    "def exponential_smoothing(series, alpha, predictions):\n",
    "    smoothed = [series[0]] # first value is same as series\n",
    "    for n in range(1, len(series) + predictions):\n",
    "        if n >= len(series): # we are forecasting\n",
    "            value = smoothed[-1]\n",
    "        else:\n",
    "            value = series[n]\n",
    "        smoothed.append(alpha * value + (1 - alpha) * smoothed[n-1]) \n",
    "    return smoothed\n",
    "\n",
    "alpha = #TODO: Enter a value for alpha between 0 and 1 \n",
    "predictions = 5 # how many predictions do you want to make?\n",
    "\n",
    "# Plot prediction\n",
    "pred4_full = exponential_smoothing(apple[:-predictions], alpha = alpha, predictions = predictions)\n",
    "_,ax = plt.subplots()\n",
    "_,_,_ = ax.plot(pred4_full, color = \"red\"), ax.plot(apple, color = \"blue\"), plt.show()"
   ]
  },
  {
   "cell_type": "markdown",
   "metadata": {},
   "source": [
    "As you will have seen from your experiments, the blue line is our true data and the red line is our *model* of that data. The good thing about models is that we can use them to model the unseen future, as well as the known past. \n",
    "\n",
    "However, at the moment our model isn't doing a great job on the future part. \n",
    "\n",
    "The main issue seems to be that it only tracks the values of the data. That is because our model looks only at the **level** of the values, so the best it can do is give us the same values back. We need it to also consider the **trend** of the data, which is the size of the jump between adjacent values.\n",
    "\n",
    "Before, with exponential smoothing, we iteratively updated the level. Now, with *Double* Exponential Smoothing (DES), we iteratively update the level *and* trend in the same way, and then add them together to make our prediction. This introduces a second parameter, $\\beta$ (beta), which defines the two weights used to itereatively update the trend.\n",
    "\n",
    "The weights, `alpha` and `beta` have been preassigned some values below, but the model is poor. **Run all the code below (without editing it) and then use the sliders beneath to customize the your model. Your task is to find values for these parameters that give a good prediction of the future.**\n",
    "\n",
    "*NOTE: the `test_points` variable cuts your model's data short, so that you can 'test' how well your model predicts unknown data. This is currently set at 5 - lower values make things easier and higher values make it much harder! Bonus points for generating a good fit using 7 test points or more.*"
   ]
  },
  {
   "cell_type": "code",
   "execution_count": 68,
   "metadata": {},
   "outputs": [
    {
     "data": {
      "application/vnd.jupyter.widget-view+json": {
       "model_id": "f51f84fcb3ae4e03b0b22666f4b5a862"
      }
     },
     "metadata": {},
     "output_type": "display_data"
    },
    {
     "data": {
      "text/plain": [
       "<function __main__.plot_d_e_s>"
      ]
     },
     "execution_count": 68,
     "metadata": {},
     "output_type": "execute_result"
    }
   ],
   "source": [
    "# Define double exponential smoothing\n",
    "def d_e_s(series, alpha, beta, predictions):\n",
    "    smoothed = [series[0]]\n",
    "    for n in range(1, len(series)+ predictions):\n",
    "        if n == 1:\n",
    "            level, trend = series[0], series[1] - series[0]\n",
    "        if n >= len(series): # we are forecasting\n",
    "            value = smoothed[-1]\n",
    "        else:\n",
    "            value = series[n]\n",
    "        last_level, level = level, alpha*value + (1-alpha)*(level+trend)\n",
    "        trend = beta*(level-last_level) + (1-beta)*trend\n",
    "        smoothed.append(level+trend)\n",
    "    return smoothed\n",
    "\n",
    "# Define a function to plot the model\n",
    "def plot_d_e_s(series, test_points = 5, forecast_points = 3, alpha=0.1, beta=0.5):\n",
    "    pred5_full = d_e_s(series[:-test_points], alpha = alpha, beta = beta, predictions = test_points*forecast_points)\n",
    "    _,ax = plt.subplots()\n",
    "    _,_,_ = ax.plot(pred5_full, color = \"red\"), ax.plot(apple, color = \"blue\"), plt.show()\n",
    "\n",
    "# Create an interactive plot with apple stock\n",
    "from ipywidgets import interact, interactive, fixed, interact_manual\n",
    "interact(plot_d_e_s, series=fixed(apple), test_points=(1,10,1), forecast_points=(1,5,1), alpha=(0,1,0.01), beta=(0,1,0.01))"
   ]
  },
  {
   "cell_type": "markdown",
   "metadata": {},
   "source": [
    "Congratulations! We have built a model that can predict the future. Remember your values of **`alpha`** and **`beta`** for the next step.\n",
    "\n",
    "This is a simplistic introduction to time series analysis, although these methods are the foundation to many of the cutting edge techniques used currently. If you'd like to like to investigate further, we recommend following the introduction here:\n",
    "\n",
    "https://datascience.ibm.com/exchange/public/entry/view/815137c868b916821dec777bdc23013c\n",
    "\n",
    "## <font color='green'>You're now finished with this section! Let your facilitators know, and have a break.</font>\n",
    "\n",
    "![done](https://media.giphy.com/media/R6aNZ3Uc1aR1K/giphy.gif)"
   ]
  },
  {
   "cell_type": "markdown",
   "metadata": {},
   "source": [
    "## 4. Preparing for Visualization\n",
    "\n",
    "Let's get our data ready for a more snazzy visualization.\n",
    "\n",
    "Based on the [D3.js show reel](https://bl.ocks.org/mbostock/1256572), we need the data to be arranged like this:\n",
    "\n",
    "```\n",
    "symbol,date,price\n",
    "MSFT,Jan 2000,39.81\n",
    "MSFT,Feb 2000,36.35\n",
    "MSFT,Mar 2000,43.22\n",
    "MSFT,Apr 2000,28.37\n",
    "MSFT,May 2000,25.45```\n",
    "\n",
    "### 4.1 Replotting with forecasts\n",
    "\n",
    "First, we need to calculate our predictions for each stock (using the **$\\alpha$** and **$\\beta$** values you've chosen) and append them to the end of our dataframe. We will predict 3 months ahead.\n",
    "\n",
    "Update **alpha** and **beta** with the values you found above:"
   ]
  },
  {
   "cell_type": "code",
   "execution_count": 43,
   "metadata": {},
   "outputs": [
    {
     "name": "stdout",
     "output_type": "stream",
     "text": [
      "Requirement already up-to-date: pandas in /Users/greg/anaconda/lib/python2.7/site-packages\n",
      "Requirement already up-to-date: python-dateutil in /Users/greg/anaconda/lib/python2.7/site-packages (from pandas)\n",
      "Collecting numpy>=1.7.0 (from pandas)\n",
      "  Downloading numpy-1.13.3-cp27-cp27m-macosx_10_6_intel.macosx_10_9_intel.macosx_10_9_x86_64.macosx_10_10_intel.macosx_10_10_x86_64.whl (4.6MB)\n",
      "\u001b[K    100% |████████████████████████████████| 4.6MB 160kB/s ta 0:00:01\n",
      "\u001b[?25hRequirement already up-to-date: pytz>=2011k in /Users/greg/anaconda/lib/python2.7/site-packages (from pandas)\n",
      "Requirement already up-to-date: six>=1.5 in /Users/greg/anaconda/lib/python2.7/site-packages (from python-dateutil->pandas)\n",
      "Installing collected packages: numpy\n",
      "  Found existing installation: numpy 1.13.1\n",
      "    Uninstalling numpy-1.13.1:\n",
      "      Successfully uninstalled numpy-1.13.1\n",
      "Successfully installed numpy-1.13.3\n"
     ]
    },
    {
     "data": {
      "text/html": [
       "<div>\n",
       "<style>\n",
       "    .dataframe thead tr:only-child th {\n",
       "        text-align: right;\n",
       "    }\n",
       "\n",
       "    .dataframe thead th {\n",
       "        text-align: left;\n",
       "    }\n",
       "\n",
       "    .dataframe tbody tr th {\n",
       "        vertical-align: top;\n",
       "    }\n",
       "</style>\n",
       "<table border=\"1\" class=\"dataframe\">\n",
       "  <thead>\n",
       "    <tr style=\"text-align: right;\">\n",
       "      <th></th>\n",
       "      <th>KHC</th>\n",
       "      <th>WFC</th>\n",
       "      <th>AAPL</th>\n",
       "    </tr>\n",
       "  </thead>\n",
       "  <tbody>\n",
       "    <tr>\n",
       "      <th>2017-08-31</th>\n",
       "      <td>80.75</td>\n",
       "      <td>51.07</td>\n",
       "      <td>164</td>\n",
       "    </tr>\n",
       "    <tr>\n",
       "      <th>2017-09-30</th>\n",
       "      <td>77.55</td>\n",
       "      <td>55.15</td>\n",
       "      <td>154.12</td>\n",
       "    </tr>\n",
       "    <tr>\n",
       "      <th>2017-10-31</th>\n",
       "      <td>78.25</td>\n",
       "      <td>55.39</td>\n",
       "      <td>155.39</td>\n",
       "    </tr>\n",
       "    <tr>\n",
       "      <th>2017-11-30</th>\n",
       "      <td>77.5613</td>\n",
       "      <td>57.9534</td>\n",
       "      <td>151.946</td>\n",
       "    </tr>\n",
       "    <tr>\n",
       "      <th>2017-12-31</th>\n",
       "      <td>77.4498</td>\n",
       "      <td>59.1459</td>\n",
       "      <td>150.385</td>\n",
       "    </tr>\n",
       "    <tr>\n",
       "      <th>2018-01-31</th>\n",
       "      <td>77.3382</td>\n",
       "      <td>60.3384</td>\n",
       "      <td>148.825</td>\n",
       "    </tr>\n",
       "  </tbody>\n",
       "</table>\n",
       "</div>"
      ],
      "text/plain": [
       "                KHC      WFC     AAPL\n",
       "2017-08-31    80.75    51.07      164\n",
       "2017-09-30    77.55    55.15   154.12\n",
       "2017-10-31    78.25    55.39   155.39\n",
       "2017-11-30  77.5613  57.9534  151.946\n",
       "2017-12-31  77.4498  59.1459  150.385\n",
       "2018-01-31  77.3382  60.3384  148.825"
      ]
     },
     "execution_count": 43,
     "metadata": {},
     "output_type": "execute_result"
    }
   ],
   "source": [
    "import pandas as pd\n",
    "\n",
    "numberofmonths = 3 # how many predictions do we want to make?\n",
    "\n",
    "# Here we need to add numberofmonths onto the end of the dataframe using data.reindex:\n",
    "data3 = data2.reindex(pd.date_range(datetime.datetime.now().date(), periods=121 + numberofmonths, freq='MS')+pd.DateOffset(days=-1, months=-120),fill_value=\"NaN\")\n",
    "\n",
    "alpha = #TODO\n",
    "beta = #TODO\n",
    "\n",
    "for i, column in enumerate(data3):\n",
    "    if data3[column].isnull().values.any(): # select only the range of dates for which we have data\n",
    "        last_nan = np.where(data3[column].isnull().values)[0][-1]\n",
    "        stock = data3[column].iloc[(last_nan+1):-numberofmonths].values\n",
    "    else:\n",
    "        stock = data3[column].iloc[:-numberofmonths].values\n",
    "    forecast = d_e_s(stock, alpha = alpha, beta = beta, predictions = numberofmonths) # create our forecast\n",
    "    \n",
    "    col_forecast = pd.Series(forecast[-numberofmonths:], index = pd.date_range(start= datetime.datetime.now().date(), periods=numberofmonths, freq='MS') + pd.DateOffset(days=-1, months=1))\n",
    "    data3[column].iloc[-numberofmonths:] = col_forecast\n",
    "    \n",
    "data3.tail(6)"
   ]
  },
  {
   "cell_type": "markdown",
   "metadata": {},
   "source": [
    "How did your model fair on the other stocks? Let's visualize the results!\n",
    "\n",
    "Below, we create two overlapping plots, one with the existing data and one with our forecasts, marked in red."
   ]
  },
  {
   "cell_type": "code",
   "execution_count": 44,
   "metadata": {},
   "outputs": [
    {
     "data": {
      "image/png": "[encoded data removed]",
      "text/html": [
       "\n",
       "\n",
       "<style>\n",
       "\n",
       "</style>\n",
       "\n",
       "<div id=\"fig_el4442146627123361584031701\"></div>\n",
       "<script>\n",
       "function mpld3_load_lib(url, callback){\n",
       "  var s = document.createElement('script');\n",
       "  s.src = url;\n",
       "  s.async = true;\n",
       "  s.onreadystatechange = s.onload = callback;\n",
       "  s.onerror = function(){console.warn(\"failed to load library \" + url);};\n",
       "  document.getElementsByTagName(\"head\")[0].appendChild(s);\n",
       "}\n",
       "\n",
       "if(typeof(mpld3) !== \"undefined\" && mpld3._mpld3IsLoaded){\n",
       "   // already loaded: just create the figure\n",
       "   !function(mpld3){\n",
       "       \n",
       "       mpld3.draw_figure(\"fig_el4442146627123361584031701\", {\"axes\": [{\"xlim\": [732792.75, 736912.25], \"yscale\": \"linear\", \"axesbg\": \"#FFFFFF\", \"texts\": [], \"zoomable\": true, \"images\": [], \"xdomain\": [[2007, 3, 26, 18, 0, 0, 0.0], [2018, 7, 6, 6, 0, 0, 0.0]], \"ylim\": [2.2867777196021004, 171.7006296323999], \"paths\": [], \"sharey\": [], \"sharex\": [], \"axesbgalpha\": null, \"axes\": [{\"scale\": \"linear\", \"tickformat\": null, \"grid\": {\"gridOn\": false}, \"visible\": true, \"fontsize\": 10.0, \"position\": \"bottom\", \"nticks\": 6, \"tickvalues\": null}, {\"scale\": \"linear\", \"tickformat\": null, \"grid\": {\"gridOn\": false}, \"visible\": true, \"fontsize\": 10.0, \"position\": \"left\", \"nticks\": 10, \"tickvalues\": null}], \"lines\": [{\"drawstyle\": \"default\", \"color\": \"#1F77B4\", \"yindex\": 1, \"coordinates\": \"data\", \"dasharray\": \"none\", \"zorder\": 2, \"alpha\": 1, \"xindex\": 0, \"linewidth\": 1.5, \"data\": \"data01\", \"id\": \"el444214657827792\"}, {\"drawstyle\": \"default\", \"color\": \"#FF7F0E\", \"yindex\": 2, \"coordinates\": \"data\", \"dasharray\": \"none\", \"zorder\": 2, \"alpha\": 1, \"xindex\": 0, \"linewidth\": 1.5, \"data\": \"data01\", \"id\": \"el444214663279952\"}, {\"drawstyle\": \"default\", \"color\": \"#2CA02C\", \"yindex\": 3, \"coordinates\": \"data\", \"dasharray\": \"none\", \"zorder\": 2, \"alpha\": 1, \"xindex\": 0, \"linewidth\": 1.5, \"data\": \"data01\", \"id\": \"el444214663280272\"}, {\"drawstyle\": \"default\", \"color\": \"#FF0000\", \"yindex\": 1, \"coordinates\": \"data\", \"dasharray\": \"none\", \"zorder\": 2, \"alpha\": 1, \"xindex\": 0, \"linewidth\": 1.5, \"data\": \"data02\", \"id\": \"el444214662713296\"}, {\"drawstyle\": \"default\", \"color\": \"#FF0000\", \"yindex\": 2, \"coordinates\": \"data\", \"dasharray\": \"none\", \"zorder\": 2, \"alpha\": 1, \"xindex\": 0, \"linewidth\": 1.5, \"data\": \"data02\", \"id\": \"el444214663211088\"}, {\"drawstyle\": \"default\", \"color\": \"#FF0000\", \"yindex\": 3, \"coordinates\": \"data\", \"dasharray\": \"none\", \"zorder\": 2, \"alpha\": 1, \"xindex\": 0, \"linewidth\": 1.5, \"data\": \"data02\", \"id\": \"el444214663211344\"}], \"markers\": [], \"id\": \"el444214665855568\", \"ydomain\": [2.2867777196021004, 171.7006296323999], \"collections\": [], \"xscale\": \"date\", \"bbox\": [0.125, 0.125, 0.775, 0.755]}], \"height\": 288.0, \"width\": 432.0, \"plugins\": [{\"type\": \"reset\"}, {\"enabled\": false, \"button\": true, \"type\": \"zoom\"}, {\"enabled\": false, \"button\": true, \"type\": \"boxzoom\"}], \"data\": {\"data02\": [[736633.0, 78.25, 55.39, 155.39], [736663.0, 77.56131509186507, 57.953396345237735, 151.94568622726942], [736694.0, 77.44976774345686, 59.145891249431955, 150.3854337699883], [736725.0, 77.33822039504865, 60.338386153626175, 148.8251813127072]], \"data01\": [[732980.0, NaN, 26.129162153867, 24.411222456723], [733010.0, NaN, 25.166378433743, 23.417809718684], [733041.0, NaN, 23.428090191635, 25.456040769822], [733072.0, NaN, 26.446813969225, 17.395646600379], [733101.0, NaN, 22.916878264786, 16.066812485072], [733132.0, NaN, 22.814955781912, 18.441750052855], [733162.0, NaN, 23.324568196284, 22.354999454314], [733193.0, NaN, 21.839512782252, 24.257005731542], [733223.0, NaN, 18.813508472198, 21.518373720209], [733254.0, NaN, 23.978311640144, 20.427290389556], [733285.0, NaN, 24.247286432544, 21.786967849899], [733315.0, NaN, 30.062790215176, 14.606894153362], [733346.0, NaN, 27.275193360691, 13.826814551823], [733376.0, NaN, 23.390226016419, 11.909386602077], [733407.0, NaN, 23.867908029216, 10.968664578475], [733438.0, NaN, 15.302017020088, 11.582961200445], [733466.0, NaN, 9.987407352002, 11.477579771571], [733497.0, NaN, 11.753775263844, 13.509385125826], [733527.0, NaN, 16.516365381286, 16.170908774569], [733558.0, NaN, 21.087051779849, 17.453477872322], [733588.0, NaN, 20.061642203104, 18.304240139569], [733619.0, NaN, 20.227030844514, 20.997892272724], [733650.0, NaN, 22.798086403311, 21.6173294522], [733680.0, NaN, 23.344842835948, 23.820058343531], [733711.0, NaN, 22.798086403311, 24.22487724713], [733741.0, NaN, 23.272169314678, 25.691221275723], [733772.0, NaN, 22.400707910241, 27.081999108977], [733803.0, NaN, 23.595854979183, 24.682772406979], [733831.0, NaN, 22.731513444209, 26.296521922057], [733862.0, NaN, 25.874348880168, 30.200775347881], [733892.0, NaN, 27.528910392749, 33.553703981184], [733923.0, NaN, 23.890473279224, 33.012660303675], [733953.0, NaN, 21.31739686121, 32.325110737244], [733984.0, NaN, 23.091070896928, 33.060210460605], [734015.0, NaN, 19.64544591999, 31.24173824285], [734045.0, NaN, 20.95097130703, 36.465829808345], [734076.0, NaN, 21.739291748406, 38.680124954064], [734106.0, NaN, 22.741515837121, 39.98711169997], [734137.0, NaN, 25.900756184946, 41.453455728563], [734168.0, NaN, 27.095918538753, 43.607349323587], [734196.0, NaN, 27.003395476407, 45.392407917553], [734227.0, NaN, 26.601924878653, 44.788071125751], [734257.0, NaN, 24.42075159942, 44.996584989589], [734288.0, NaN, 23.899191524973, 44.701002932993], [734318.0, NaN, 23.638044208345, 43.138273451162], [734349.0, NaN, 23.536954924489, 50.182122373789], [734380.0, NaN, 22.083565037547, 49.456018626063], [734410.0, NaN, 20.408260103664, 49.00493470491], [734441.0, NaN, 21.922803452983, 52.019871682192], [734471.0, NaN, 21.984155875193, 49.118026970042], [734502.0, NaN, 23.429363337986, 52.048144748475], [734533.0, NaN, 24.832064698932, 58.664042258726], [734562.0, NaN, 26.70711138368, 69.711100339167], [734593.0, NaN, 29.227048519308, 77.050531318391], [734623.0, NaN, 28.606380382914, 75.049569309172], [734654.0, NaN, 27.617624986873, 74.246357198856], [734684.0, NaN, 28.815394058067, 75.052139587925], [734715.0, NaN, 29.13422467414, 78.491172559453], [734746.0, NaN, 29.514551732024, 85.857594115654], [734776.0, NaN, 29.948206620828, 86.098295836876], [734807.0, NaN, 29.219666407637, 76.83353816507], [734837.0, NaN, 28.821283697695, 75.896485214554], [734868.0, NaN, 29.842819654262, 69.009794690466], [734899.0, NaN, 30.627742687255, 59.065900168086], [734927.0, NaN, 30.8475800594, 57.562728311726], [734958.0, NaN, 32.527137582588, 57.727044210395], [734988.0, NaN, 33.397693576283, 57.742693343602], [735019.0, NaN, 35.935834675552, 59.041313847026], [735049.0, NaN, 36.57390621603, 52.056549256254], [735080.0, NaN, 38.550155570567, 59.40824208744], [735111.0, NaN, 36.657933387445, 64.384993720396], [735141.0, NaN, 36.872098528949, 63.001924723734], [735172.0, NaN, 38.094624545034, 69.074424870362], [735202.0, NaN, 39.559129248138, 73.914215436527], [735233.0, NaN, 40.799283686175, 74.572181819196], [735264.0, NaN, 40.745363928, 66.541004275586], [735292.0, NaN, 41.998867254847, 70.365411763138], [735323.0, NaN, 45.002663878847, 71.76940390268], [735353.0, NaN, 44.912188076919, 78.903021106928], [735384.0, NaN, 46.269189547841, 85.114261733663], [735414.0, NaN, 47.891071339789, 87.468686256501], [735445.0, NaN, 46.378529893365, 89.98177559584], [735476.0, NaN, 47.198262137537, 96.956206806577], [735506.0, NaN, 47.592804375467, 95.30085693427], [735537.0, NaN, 48.712203283084, 102.15873497669], [735567.0, NaN, 50.314422309488, 112.98399738955], [735598.0, NaN, 50.628425679261, 104.8614616317], [735629.0, NaN, 47.950161642963, 111.30248998705], [735657.0, NaN, 50.934686156653, 122.5157567099], [735688.0, NaN, 50.572128616936, 118.67223733001], [735718.0, NaN, 51.222872918992, 119.35892069317], [735749.0, NaN, 52.377573352296, 124.76735316852], [735779.0, NaN, 52.639648415531, 120.11778685264], [735810.0, 74.490493466069, 54.165299676508, 116.16733143492], [735841.0, 68.107200896496, 50.240631438077, 108.47643694077], [735871.0, 66.120037864559, 48.375331414687, 105.77318412236], [735902.0, 73.084481886868, 51.003708720373, 114.96039565823], [735932.0, 69.632842445394, 52.264738901248, 114.29538877569], [735963.0, 69.307892228966, 51.562816818001, 101.69680999602], [735994.0, 74.356433031791, 47.645332758797, 94.044912454993], [736023.0, 73.365775968595, 44.856276527438, 93.919781198699], [736054.0, 75.384149765237, 46.232939745672, 105.86737979984], [736084.0, 74.913958403412, 47.781685866184, 91.054300233386], [736115.0, 80.3716622509, 48.865637028736, 97.591938528951], [736145.0, 85.482445918496, 45.599578086949, 93.428693404443], [736176.0, 83.463251615041, 46.216179185104, 101.84313953637], [736207.0, 87.041420911462, 49.333677703594, 104.24847718874], [736237.0, 87.060873681807, 43.001874974707, 111.07719459177], [736268.0, 86.51619611213, 44.681939195715, 111.55864373242], [736298.0, 79.999518046349, 51.824163421622, 109.15491652711], [736329.0, 85.554904051527, 53.968814175464, 114.38945378366], [736360.0, 87.485082257911, 55.163551125094, 119.85115020417], [736388.0, 89.660206937187, 57.066697924081, 135.8803615489], [736419.0, 89.558241906473, 54.877892302252, 142.49633360184], [736449.0, 89.104582713906, 53.083466071743, 142.48641460326], [736480.0, 91.538593974175, 50.770723940011, 152.14268890314], [736510.0, 85.005796269727, 55.00989076097, 143.43800769724], [736541.0, 86.832596843615, 53.550505461951, 148.24848941629], [736572.0, 80.75, 51.07, 164.0], [736602.0, 77.55, 55.15, 154.12], [736633.0, 78.25, 55.39, 155.39]]}, \"id\": \"el444214662712336\"});\n",
       "   }(mpld3);\n",
       "}else if(typeof define === \"function\" && define.amd){\n",
       "   // require.js is available: use it to load d3/mpld3\n",
       "   require.config({paths: {d3: \"https://mpld3.github.io/js/d3.v3.min\"}});\n",
       "   require([\"d3\"], function(d3){\n",
       "      window.d3 = d3;\n",
       "      mpld3_load_lib(\"https://mpld3.github.io/js/mpld3.v0.3.js\", function(){\n",
       "         \n",
       "         mpld3.draw_figure(\"fig_el4442146627123361584031701\", {\"axes\": [{\"xlim\": [732792.75, 736912.25], \"yscale\": \"linear\", \"axesbg\": \"#FFFFFF\", \"texts\": [], \"zoomable\": true, \"images\": [], \"xdomain\": [[2007, 3, 26, 18, 0, 0, 0.0], [2018, 7, 6, 6, 0, 0, 0.0]], \"ylim\": [2.2867777196021004, 171.7006296323999], \"paths\": [], \"sharey\": [], \"sharex\": [], \"axesbgalpha\": null, \"axes\": [{\"scale\": \"linear\", \"tickformat\": null, \"grid\": {\"gridOn\": false}, \"visible\": true, \"fontsize\": 10.0, \"position\": \"bottom\", \"nticks\": 6, \"tickvalues\": null}, {\"scale\": \"linear\", \"tickformat\": null, \"grid\": {\"gridOn\": false}, \"visible\": true, \"fontsize\": 10.0, \"position\": \"left\", \"nticks\": 10, \"tickvalues\": null}], \"lines\": [{\"drawstyle\": \"default\", \"color\": \"#1F77B4\", \"yindex\": 1, \"coordinates\": \"data\", \"dasharray\": \"none\", \"zorder\": 2, \"alpha\": 1, \"xindex\": 0, \"linewidth\": 1.5, \"data\": \"data01\", \"id\": \"el444214657827792\"}, {\"drawstyle\": \"default\", \"color\": \"#FF7F0E\", \"yindex\": 2, \"coordinates\": \"data\", \"dasharray\": \"none\", \"zorder\": 2, \"alpha\": 1, \"xindex\": 0, \"linewidth\": 1.5, \"data\": \"data01\", \"id\": \"el444214663279952\"}, {\"drawstyle\": \"default\", \"color\": \"#2CA02C\", \"yindex\": 3, \"coordinates\": \"data\", \"dasharray\": \"none\", \"zorder\": 2, \"alpha\": 1, \"xindex\": 0, \"linewidth\": 1.5, \"data\": \"data01\", \"id\": \"el444214663280272\"}, {\"drawstyle\": \"default\", \"color\": \"#FF0000\", \"yindex\": 1, \"coordinates\": \"data\", \"dasharray\": \"none\", \"zorder\": 2, \"alpha\": 1, \"xindex\": 0, \"linewidth\": 1.5, \"data\": \"data02\", \"id\": \"el444214662713296\"}, {\"drawstyle\": \"default\", \"color\": \"#FF0000\", \"yindex\": 2, \"coordinates\": \"data\", \"dasharray\": \"none\", \"zorder\": 2, \"alpha\": 1, \"xindex\": 0, \"linewidth\": 1.5, \"data\": \"data02\", \"id\": \"el444214663211088\"}, {\"drawstyle\": \"default\", \"color\": \"#FF0000\", \"yindex\": 3, \"coordinates\": \"data\", \"dasharray\": \"none\", \"zorder\": 2, \"alpha\": 1, \"xindex\": 0, \"linewidth\": 1.5, \"data\": \"data02\", \"id\": \"el444214663211344\"}], \"markers\": [], \"id\": \"el444214665855568\", \"ydomain\": [2.2867777196021004, 171.7006296323999], \"collections\": [], \"xscale\": \"date\", \"bbox\": [0.125, 0.125, 0.775, 0.755]}], \"height\": 288.0, \"width\": 432.0, \"plugins\": [{\"type\": \"reset\"}, {\"enabled\": false, \"button\": true, \"type\": \"zoom\"}, {\"enabled\": false, \"button\": true, \"type\": \"boxzoom\"}], \"data\": {\"data02\": [[736633.0, 78.25, 55.39, 155.39], [736663.0, 77.56131509186507, 57.953396345237735, 151.94568622726942], [736694.0, 77.44976774345686, 59.145891249431955, 150.3854337699883], [736725.0, 77.33822039504865, 60.338386153626175, 148.8251813127072]], \"data01\": [[732980.0, NaN, 26.129162153867, 24.411222456723], [733010.0, NaN, 25.166378433743, 23.417809718684], [733041.0, NaN, 23.428090191635, 25.456040769822], [733072.0, NaN, 26.446813969225, 17.395646600379], [733101.0, NaN, 22.916878264786, 16.066812485072], [733132.0, NaN, 22.814955781912, 18.441750052855], [733162.0, NaN, 23.324568196284, 22.354999454314], [733193.0, NaN, 21.839512782252, 24.257005731542], [733223.0, NaN, 18.813508472198, 21.518373720209], [733254.0, NaN, 23.978311640144, 20.427290389556], [733285.0, NaN, 24.247286432544, 21.786967849899], [733315.0, NaN, 30.062790215176, 14.606894153362], [733346.0, NaN, 27.275193360691, 13.826814551823], [733376.0, NaN, 23.390226016419, 11.909386602077], [733407.0, NaN, 23.867908029216, 10.968664578475], [733438.0, NaN, 15.302017020088, 11.582961200445], [733466.0, NaN, 9.987407352002, 11.477579771571], [733497.0, NaN, 11.753775263844, 13.509385125826], [733527.0, NaN, 16.516365381286, 16.170908774569], [733558.0, NaN, 21.087051779849, 17.453477872322], [733588.0, NaN, 20.061642203104, 18.304240139569], [733619.0, NaN, 20.227030844514, 20.997892272724], [733650.0, NaN, 22.798086403311, 21.6173294522], [733680.0, NaN, 23.344842835948, 23.820058343531], [733711.0, NaN, 22.798086403311, 24.22487724713], [733741.0, NaN, 23.272169314678, 25.691221275723], [733772.0, NaN, 22.400707910241, 27.081999108977], [733803.0, NaN, 23.595854979183, 24.682772406979], [733831.0, NaN, 22.731513444209, 26.296521922057], [733862.0, NaN, 25.874348880168, 30.200775347881], [733892.0, NaN, 27.528910392749, 33.553703981184], [733923.0, NaN, 23.890473279224, 33.012660303675], [733953.0, NaN, 21.31739686121, 32.325110737244], [733984.0, NaN, 23.091070896928, 33.060210460605], [734015.0, NaN, 19.64544591999, 31.24173824285], [734045.0, NaN, 20.95097130703, 36.465829808345], [734076.0, NaN, 21.739291748406, 38.680124954064], [734106.0, NaN, 22.741515837121, 39.98711169997], [734137.0, NaN, 25.900756184946, 41.453455728563], [734168.0, NaN, 27.095918538753, 43.607349323587], [734196.0, NaN, 27.003395476407, 45.392407917553], [734227.0, NaN, 26.601924878653, 44.788071125751], [734257.0, NaN, 24.42075159942, 44.996584989589], [734288.0, NaN, 23.899191524973, 44.701002932993], [734318.0, NaN, 23.638044208345, 43.138273451162], [734349.0, NaN, 23.536954924489, 50.182122373789], [734380.0, NaN, 22.083565037547, 49.456018626063], [734410.0, NaN, 20.408260103664, 49.00493470491], [734441.0, NaN, 21.922803452983, 52.019871682192], [734471.0, NaN, 21.984155875193, 49.118026970042], [734502.0, NaN, 23.429363337986, 52.048144748475], [734533.0, NaN, 24.832064698932, 58.664042258726], [734562.0, NaN, 26.70711138368, 69.711100339167], [734593.0, NaN, 29.227048519308, 77.050531318391], [734623.0, NaN, 28.606380382914, 75.049569309172], [734654.0, NaN, 27.617624986873, 74.246357198856], [734684.0, NaN, 28.815394058067, 75.052139587925], [734715.0, NaN, 29.13422467414, 78.491172559453], [734746.0, NaN, 29.514551732024, 85.857594115654], [734776.0, NaN, 29.948206620828, 86.098295836876], [734807.0, NaN, 29.219666407637, 76.83353816507], [734837.0, NaN, 28.821283697695, 75.896485214554], [734868.0, NaN, 29.842819654262, 69.009794690466], [734899.0, NaN, 30.627742687255, 59.065900168086], [734927.0, NaN, 30.8475800594, 57.562728311726], [734958.0, NaN, 32.527137582588, 57.727044210395], [734988.0, NaN, 33.397693576283, 57.742693343602], [735019.0, NaN, 35.935834675552, 59.041313847026], [735049.0, NaN, 36.57390621603, 52.056549256254], [735080.0, NaN, 38.550155570567, 59.40824208744], [735111.0, NaN, 36.657933387445, 64.384993720396], [735141.0, NaN, 36.872098528949, 63.001924723734], [735172.0, NaN, 38.094624545034, 69.074424870362], [735202.0, NaN, 39.559129248138, 73.914215436527], [735233.0, NaN, 40.799283686175, 74.572181819196], [735264.0, NaN, 40.745363928, 66.541004275586], [735292.0, NaN, 41.998867254847, 70.365411763138], [735323.0, NaN, 45.002663878847, 71.76940390268], [735353.0, NaN, 44.912188076919, 78.903021106928], [735384.0, NaN, 46.269189547841, 85.114261733663], [735414.0, NaN, 47.891071339789, 87.468686256501], [735445.0, NaN, 46.378529893365, 89.98177559584], [735476.0, NaN, 47.198262137537, 96.956206806577], [735506.0, NaN, 47.592804375467, 95.30085693427], [735537.0, NaN, 48.712203283084, 102.15873497669], [735567.0, NaN, 50.314422309488, 112.98399738955], [735598.0, NaN, 50.628425679261, 104.8614616317], [735629.0, NaN, 47.950161642963, 111.30248998705], [735657.0, NaN, 50.934686156653, 122.5157567099], [735688.0, NaN, 50.572128616936, 118.67223733001], [735718.0, NaN, 51.222872918992, 119.35892069317], [735749.0, NaN, 52.377573352296, 124.76735316852], [735779.0, NaN, 52.639648415531, 120.11778685264], [735810.0, 74.490493466069, 54.165299676508, 116.16733143492], [735841.0, 68.107200896496, 50.240631438077, 108.47643694077], [735871.0, 66.120037864559, 48.375331414687, 105.77318412236], [735902.0, 73.084481886868, 51.003708720373, 114.96039565823], [735932.0, 69.632842445394, 52.264738901248, 114.29538877569], [735963.0, 69.307892228966, 51.562816818001, 101.69680999602], [735994.0, 74.356433031791, 47.645332758797, 94.044912454993], [736023.0, 73.365775968595, 44.856276527438, 93.919781198699], [736054.0, 75.384149765237, 46.232939745672, 105.86737979984], [736084.0, 74.913958403412, 47.781685866184, 91.054300233386], [736115.0, 80.3716622509, 48.865637028736, 97.591938528951], [736145.0, 85.482445918496, 45.599578086949, 93.428693404443], [736176.0, 83.463251615041, 46.216179185104, 101.84313953637], [736207.0, 87.041420911462, 49.333677703594, 104.24847718874], [736237.0, 87.060873681807, 43.001874974707, 111.07719459177], [736268.0, 86.51619611213, 44.681939195715, 111.55864373242], [736298.0, 79.999518046349, 51.824163421622, 109.15491652711], [736329.0, 85.554904051527, 53.968814175464, 114.38945378366], [736360.0, 87.485082257911, 55.163551125094, 119.85115020417], [736388.0, 89.660206937187, 57.066697924081, 135.8803615489], [736419.0, 89.558241906473, 54.877892302252, 142.49633360184], [736449.0, 89.104582713906, 53.083466071743, 142.48641460326], [736480.0, 91.538593974175, 50.770723940011, 152.14268890314], [736510.0, 85.005796269727, 55.00989076097, 143.43800769724], [736541.0, 86.832596843615, 53.550505461951, 148.24848941629], [736572.0, 80.75, 51.07, 164.0], [736602.0, 77.55, 55.15, 154.12], [736633.0, 78.25, 55.39, 155.39]]}, \"id\": \"el444214662712336\"});\n",
       "      });\n",
       "    });\n",
       "}else{\n",
       "    // require.js not available: dynamically load d3 & mpld3\n",
       "    mpld3_load_lib(\"https://mpld3.github.io/js/d3.v3.min.js\", function(){\n",
       "         mpld3_load_lib(\"https://mpld3.github.io/js/mpld3.v0.3.js\", function(){\n",
       "                 \n",
       "                 mpld3.draw_figure(\"fig_el4442146627123361584031701\", {\"axes\": [{\"xlim\": [732792.75, 736912.25], \"yscale\": \"linear\", \"axesbg\": \"#FFFFFF\", \"texts\": [], \"zoomable\": true, \"images\": [], \"xdomain\": [[2007, 3, 26, 18, 0, 0, 0.0], [2018, 7, 6, 6, 0, 0, 0.0]], \"ylim\": [2.2867777196021004, 171.7006296323999], \"paths\": [], \"sharey\": [], \"sharex\": [], \"axesbgalpha\": null, \"axes\": [{\"scale\": \"linear\", \"tickformat\": null, \"grid\": {\"gridOn\": false}, \"visible\": true, \"fontsize\": 10.0, \"position\": \"bottom\", \"nticks\": 6, \"tickvalues\": null}, {\"scale\": \"linear\", \"tickformat\": null, \"grid\": {\"gridOn\": false}, \"visible\": true, \"fontsize\": 10.0, \"position\": \"left\", \"nticks\": 10, \"tickvalues\": null}], \"lines\": [{\"drawstyle\": \"default\", \"color\": \"#1F77B4\", \"yindex\": 1, \"coordinates\": \"data\", \"dasharray\": \"none\", \"zorder\": 2, \"alpha\": 1, \"xindex\": 0, \"linewidth\": 1.5, \"data\": \"data01\", \"id\": \"el444214657827792\"}, {\"drawstyle\": \"default\", \"color\": \"#FF7F0E\", \"yindex\": 2, \"coordinates\": \"data\", \"dasharray\": \"none\", \"zorder\": 2, \"alpha\": 1, \"xindex\": 0, \"linewidth\": 1.5, \"data\": \"data01\", \"id\": \"el444214663279952\"}, {\"drawstyle\": \"default\", \"color\": \"#2CA02C\", \"yindex\": 3, \"coordinates\": \"data\", \"dasharray\": \"none\", \"zorder\": 2, \"alpha\": 1, \"xindex\": 0, \"linewidth\": 1.5, \"data\": \"data01\", \"id\": \"el444214663280272\"}, {\"drawstyle\": \"default\", \"color\": \"#FF0000\", \"yindex\": 1, \"coordinates\": \"data\", \"dasharray\": \"none\", \"zorder\": 2, \"alpha\": 1, \"xindex\": 0, \"linewidth\": 1.5, \"data\": \"data02\", \"id\": \"el444214662713296\"}, {\"drawstyle\": \"default\", \"color\": \"#FF0000\", \"yindex\": 2, \"coordinates\": \"data\", \"dasharray\": \"none\", \"zorder\": 2, \"alpha\": 1, \"xindex\": 0, \"linewidth\": 1.5, \"data\": \"data02\", \"id\": \"el444214663211088\"}, {\"drawstyle\": \"default\", \"color\": \"#FF0000\", \"yindex\": 3, \"coordinates\": \"data\", \"dasharray\": \"none\", \"zorder\": 2, \"alpha\": 1, \"xindex\": 0, \"linewidth\": 1.5, \"data\": \"data02\", \"id\": \"el444214663211344\"}], \"markers\": [], \"id\": \"el444214665855568\", \"ydomain\": [2.2867777196021004, 171.7006296323999], \"collections\": [], \"xscale\": \"date\", \"bbox\": [0.125, 0.125, 0.775, 0.755]}], \"height\": 288.0, \"width\": 432.0, \"plugins\": [{\"type\": \"reset\"}, {\"enabled\": false, \"button\": true, \"type\": \"zoom\"}, {\"enabled\": false, \"button\": true, \"type\": \"boxzoom\"}], \"data\": {\"data02\": [[736633.0, 78.25, 55.39, 155.39], [736663.0, 77.56131509186507, 57.953396345237735, 151.94568622726942], [736694.0, 77.44976774345686, 59.145891249431955, 150.3854337699883], [736725.0, 77.33822039504865, 60.338386153626175, 148.8251813127072]], \"data01\": [[732980.0, NaN, 26.129162153867, 24.411222456723], [733010.0, NaN, 25.166378433743, 23.417809718684], [733041.0, NaN, 23.428090191635, 25.456040769822], [733072.0, NaN, 26.446813969225, 17.395646600379], [733101.0, NaN, 22.916878264786, 16.066812485072], [733132.0, NaN, 22.814955781912, 18.441750052855], [733162.0, NaN, 23.324568196284, 22.354999454314], [733193.0, NaN, 21.839512782252, 24.257005731542], [733223.0, NaN, 18.813508472198, 21.518373720209], [733254.0, NaN, 23.978311640144, 20.427290389556], [733285.0, NaN, 24.247286432544, 21.786967849899], [733315.0, NaN, 30.062790215176, 14.606894153362], [733346.0, NaN, 27.275193360691, 13.826814551823], [733376.0, NaN, 23.390226016419, 11.909386602077], [733407.0, NaN, 23.867908029216, 10.968664578475], [733438.0, NaN, 15.302017020088, 11.582961200445], [733466.0, NaN, 9.987407352002, 11.477579771571], [733497.0, NaN, 11.753775263844, 13.509385125826], [733527.0, NaN, 16.516365381286, 16.170908774569], [733558.0, NaN, 21.087051779849, 17.453477872322], [733588.0, NaN, 20.061642203104, 18.304240139569], [733619.0, NaN, 20.227030844514, 20.997892272724], [733650.0, NaN, 22.798086403311, 21.6173294522], [733680.0, NaN, 23.344842835948, 23.820058343531], [733711.0, NaN, 22.798086403311, 24.22487724713], [733741.0, NaN, 23.272169314678, 25.691221275723], [733772.0, NaN, 22.400707910241, 27.081999108977], [733803.0, NaN, 23.595854979183, 24.682772406979], [733831.0, NaN, 22.731513444209, 26.296521922057], [733862.0, NaN, 25.874348880168, 30.200775347881], [733892.0, NaN, 27.528910392749, 33.553703981184], [733923.0, NaN, 23.890473279224, 33.012660303675], [733953.0, NaN, 21.31739686121, 32.325110737244], [733984.0, NaN, 23.091070896928, 33.060210460605], [734015.0, NaN, 19.64544591999, 31.24173824285], [734045.0, NaN, 20.95097130703, 36.465829808345], [734076.0, NaN, 21.739291748406, 38.680124954064], [734106.0, NaN, 22.741515837121, 39.98711169997], [734137.0, NaN, 25.900756184946, 41.453455728563], [734168.0, NaN, 27.095918538753, 43.607349323587], [734196.0, NaN, 27.003395476407, 45.392407917553], [734227.0, NaN, 26.601924878653, 44.788071125751], [734257.0, NaN, 24.42075159942, 44.996584989589], [734288.0, NaN, 23.899191524973, 44.701002932993], [734318.0, NaN, 23.638044208345, 43.138273451162], [734349.0, NaN, 23.536954924489, 50.182122373789], [734380.0, NaN, 22.083565037547, 49.456018626063], [734410.0, NaN, 20.408260103664, 49.00493470491], [734441.0, NaN, 21.922803452983, 52.019871682192], [734471.0, NaN, 21.984155875193, 49.118026970042], [734502.0, NaN, 23.429363337986, 52.048144748475], [734533.0, NaN, 24.832064698932, 58.664042258726], [734562.0, NaN, 26.70711138368, 69.711100339167], [734593.0, NaN, 29.227048519308, 77.050531318391], [734623.0, NaN, 28.606380382914, 75.049569309172], [734654.0, NaN, 27.617624986873, 74.246357198856], [734684.0, NaN, 28.815394058067, 75.052139587925], [734715.0, NaN, 29.13422467414, 78.491172559453], [734746.0, NaN, 29.514551732024, 85.857594115654], [734776.0, NaN, 29.948206620828, 86.098295836876], [734807.0, NaN, 29.219666407637, 76.83353816507], [734837.0, NaN, 28.821283697695, 75.896485214554], [734868.0, NaN, 29.842819654262, 69.009794690466], [734899.0, NaN, 30.627742687255, 59.065900168086], [734927.0, NaN, 30.8475800594, 57.562728311726], [734958.0, NaN, 32.527137582588, 57.727044210395], [734988.0, NaN, 33.397693576283, 57.742693343602], [735019.0, NaN, 35.935834675552, 59.041313847026], [735049.0, NaN, 36.57390621603, 52.056549256254], [735080.0, NaN, 38.550155570567, 59.40824208744], [735111.0, NaN, 36.657933387445, 64.384993720396], [735141.0, NaN, 36.872098528949, 63.001924723734], [735172.0, NaN, 38.094624545034, 69.074424870362], [735202.0, NaN, 39.559129248138, 73.914215436527], [735233.0, NaN, 40.799283686175, 74.572181819196], [735264.0, NaN, 40.745363928, 66.541004275586], [735292.0, NaN, 41.998867254847, 70.365411763138], [735323.0, NaN, 45.002663878847, 71.76940390268], [735353.0, NaN, 44.912188076919, 78.903021106928], [735384.0, NaN, 46.269189547841, 85.114261733663], [735414.0, NaN, 47.891071339789, 87.468686256501], [735445.0, NaN, 46.378529893365, 89.98177559584], [735476.0, NaN, 47.198262137537, 96.956206806577], [735506.0, NaN, 47.592804375467, 95.30085693427], [735537.0, NaN, 48.712203283084, 102.15873497669], [735567.0, NaN, 50.314422309488, 112.98399738955], [735598.0, NaN, 50.628425679261, 104.8614616317], [735629.0, NaN, 47.950161642963, 111.30248998705], [735657.0, NaN, 50.934686156653, 122.5157567099], [735688.0, NaN, 50.572128616936, 118.67223733001], [735718.0, NaN, 51.222872918992, 119.35892069317], [735749.0, NaN, 52.377573352296, 124.76735316852], [735779.0, NaN, 52.639648415531, 120.11778685264], [735810.0, 74.490493466069, 54.165299676508, 116.16733143492], [735841.0, 68.107200896496, 50.240631438077, 108.47643694077], [735871.0, 66.120037864559, 48.375331414687, 105.77318412236], [735902.0, 73.084481886868, 51.003708720373, 114.96039565823], [735932.0, 69.632842445394, 52.264738901248, 114.29538877569], [735963.0, 69.307892228966, 51.562816818001, 101.69680999602], [735994.0, 74.356433031791, 47.645332758797, 94.044912454993], [736023.0, 73.365775968595, 44.856276527438, 93.919781198699], [736054.0, 75.384149765237, 46.232939745672, 105.86737979984], [736084.0, 74.913958403412, 47.781685866184, 91.054300233386], [736115.0, 80.3716622509, 48.865637028736, 97.591938528951], [736145.0, 85.482445918496, 45.599578086949, 93.428693404443], [736176.0, 83.463251615041, 46.216179185104, 101.84313953637], [736207.0, 87.041420911462, 49.333677703594, 104.24847718874], [736237.0, 87.060873681807, 43.001874974707, 111.07719459177], [736268.0, 86.51619611213, 44.681939195715, 111.55864373242], [736298.0, 79.999518046349, 51.824163421622, 109.15491652711], [736329.0, 85.554904051527, 53.968814175464, 114.38945378366], [736360.0, 87.485082257911, 55.163551125094, 119.85115020417], [736388.0, 89.660206937187, 57.066697924081, 135.8803615489], [736419.0, 89.558241906473, 54.877892302252, 142.49633360184], [736449.0, 89.104582713906, 53.083466071743, 142.48641460326], [736480.0, 91.538593974175, 50.770723940011, 152.14268890314], [736510.0, 85.005796269727, 55.00989076097, 143.43800769724], [736541.0, 86.832596843615, 53.550505461951, 148.24848941629], [736572.0, 80.75, 51.07, 164.0], [736602.0, 77.55, 55.15, 154.12], [736633.0, 78.25, 55.39, 155.39]]}, \"id\": \"el444214662712336\"});\n",
       "            })\n",
       "         });\n",
       "}\n",
       "</script>"
      ],
      "text/plain": [
       "<matplotlib.figure.Figure at 0x115eb5810>"
      ]
     },
     "metadata": {},
     "output_type": "display_data"
    }
   ],
   "source": [
    "fig, ax = plt.subplots()\n",
    "_ = ax.plot(data3.iloc[:-numberofmonths])\n",
    "_ = ax.plot(data3.iloc[-(numberofmonths+1):], color = \"Red\")"
   ]
  },
  {
   "cell_type": "markdown",
   "metadata": {},
   "source": [
    "What do you notice about our forecasts?\n",
    "\n",
    "### 4.2 Exporting for further visualization\n",
    "\n",
    "Next, we want to rearrange all of the data to be more like what we need for D3. Python comes with a function called `unstack()` that does just that!\n",
    "\n",
    "Below, make a variable called **`datalist`** and set it equal to **`data3.unstack()`**.\n",
    "\n",
    "Then show the top 10 rows of the datalist. (Hint, you've used this type of function before)"
   ]
  },
  {
   "cell_type": "code",
   "execution_count": 56,
   "metadata": {},
   "outputs": [
    {
     "data": {
      "text/plain": [
       "pandas.core.series.Series"
      ]
     },
     "execution_count": 56,
     "metadata": {},
     "output_type": "execute_result"
    }
   ],
   "source": []
  },
  {
   "cell_type": "markdown",
   "metadata": {},
   "source": [
    "Almost there! We've done the hard work, now we just need it in a CSV format.\n",
    "\n",
    "We've written this bit of code to clean the data a bit more and to output the data in a comma-separated value format."
   ]
  },
  {
   "cell_type": "code",
   "execution_count": 57,
   "metadata": {},
   "outputs": [
    {
     "name": "stdout",
     "output_type": "stream",
     "text": [
      "<type 'str'>\n"
     ]
    }
   ],
   "source": [
    "csv = datalist.to_csv(header=True, index_label=['symbol','date','price'], date_format='%b %Y', index=True)\n",
    "csv = csv.replace(\"price,0\",\"price\") # remove addition of ',0' on first line\n",
    "print csv"
   ]
  },
  {
   "cell_type": "markdown",
   "metadata": {},
   "source": [
    "We could copy & paste this into a new CSV file for our D3.js visualization, or we could write code to do that for us.\n",
    "\n",
    "To make the downloadable file, we've got to bring in a library called `base64` which will encode the file. Then we use that to create the file and add a bit of HTML to make it so we can download the file.\n",
    "\n",
    "Run the cell below, and download the resulting **`stocks.csv`** file."
   ]
  },
  {
   "cell_type": "code",
   "execution_count": null,
   "metadata": {
    "collapsed": true
   },
   "outputs": [],
   "source": [
    "import base64\n",
    "from IPython.display import HTML\n",
    "\n",
    "b64 = base64.b64encode(csv.encode())\n",
    "payload = b64.decode()\n",
    "html = '<a download=\"{filename}\" href=\"data:text/csv;base64,{payload}\" target=\"_blank\">{filename}</a>'\n",
    "html = html.format(payload=payload,title=\"stocks.csv\",filename=\"stocks.csv\")\n",
    "HTML(html)\n"
   ]
  },
  {
   "cell_type": "markdown",
   "metadata": {},
   "source": [
    "Now you can import this file into your D3.js visualization."
   ]
  },
  {
   "cell_type": "markdown",
   "metadata": {},
   "source": [
    "## <font color='green'>You're done!</font>\n",
    "\n",
    "![done](https://media.giphy.com/media/15BuyagtKucHm/giphy.gif)"
   ]
  }
 ],
 "metadata": {
  "kernelspec": {
   "display_name": "Python 2",
   "language": "python",
   "name": "python2"
  },
  "language_info": {
   "codemirror_mode": {
    "name": "ipython",
    "version": 2
   },
   "file_extension": ".py",
   "mimetype": "text/x-python",
   "name": "python",
   "nbconvert_exporter": "python",
   "pygments_lexer": "ipython2",
   "version": "2.7.13"
  },
  "widgets": {
   "state": {},
   "version": "1.1.2"
  }
 },
 "nbformat": 4,
 "nbformat_minor": 2
}
