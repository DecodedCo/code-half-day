{
 "cells": [
  {
   "cell_type": "markdown",
   "metadata": {},
   "source": [
    "# Pulling Stock Data\n",
    "This is a Python notebook to analyze Stock data based on ticker symbols.\n"
   ]
  },
  {
   "cell_type": "markdown",
   "metadata": {},
   "source": [
    "## 0. Programming in Python\n",
    "Let's start by seeing how to make variables, functions, and logic in Python."
   ]
  },
  {
   "cell_type": "markdown",
   "metadata": {},
   "source": [
    "### Variables\n",
    "Variables can take on many data types, from `'Strings'` to numbers (`0`), `True`/`False` and even functions.\n",
    "\n",
    "Let's create a variable called `x` and assign it a string. \n",
    "\n",
    "Type **`x = 'Hello world!'`** in the box below, then press **`Shift + Enter`** to execute the code."
   ]
  },
  {
   "cell_type": "code",
   "execution_count": null,
   "metadata": {
    "collapsed": true
   },
   "outputs": [],
   "source": []
  },
  {
   "cell_type": "markdown",
   "metadata": {},
   "source": [
    "Nothing happened... That's because we've only just created the variable `x`. \n",
    "\n",
    "Now to show the value of the variable, we need to type **`x`**. Again, press **`Shift + Enter`** to execute the code."
   ]
  },
  {
   "cell_type": "code",
   "execution_count": null,
   "metadata": {
    "collapsed": true
   },
   "outputs": [],
   "source": []
  },
  {
   "cell_type": "markdown",
   "metadata": {},
   "source": [
    "### Functions\n",
    "\n",
    "We can build and use functions to perform some action.\n",
    "\n",
    "Functions can operate on one or more `variables` that get defined when you initially create the function. When definied, these variables are just placeholders for what to do with any data that gets sent to the function when it is used.\n",
    "\n",
    "Python uses indentation instead of `{` and `}` like in JavaScript or CSS. So be careful how you indent your code.\n",
    "\n",
    "Below, type **`def myFunction(y):`** on the first line, then hit `Enter` and type **`return y + 3`**. The second line should be automatically indented. Press **`Shift + Enter`** to save that function.\n",
    "\n",
    "In the box below that, type **`myFunction(3)`** - what do you expect it to return when you press **`Shift + Enter`**?"
   ]
  },
  {
   "cell_type": "code",
   "execution_count": null,
   "metadata": {
    "collapsed": true
   },
   "outputs": [],
   "source": []
  },
  {
   "cell_type": "code",
   "execution_count": null,
   "metadata": {
    "collapsed": true
   },
   "outputs": [],
   "source": []
  },
  {
   "cell_type": "markdown",
   "metadata": {},
   "source": [
    "### Logic\n",
    "Logic is the last piece of the programming foundation; this will test some comparison, and depending on whether the comparison is `True` or `False`, one outcome will result.\n",
    "\n",
    "We've put the basic structure in the box below, but you need to add a comparison in the `()` to test: e.g. **`(5 > 3)`** or **`('a' == 'a')`**. Press **`Shift + Enter`** to run the logic below."
   ]
  },
  {
   "cell_type": "code",
   "execution_count": 12,
   "metadata": {},
   "outputs": [
    {
     "name": "stdout",
     "output_type": "stream",
     "text": [
      "The comparison is False\n"
     ]
    }
   ],
   "source": [
    "if ():\n",
    "   print 'The comparison is True'\n",
    "else:\n",
    "   print 'The comparison is False'"
   ]
  },
  {
   "cell_type": "markdown",
   "metadata": {},
   "source": [
    "### Packages\n",
    "Packages are the secret sauce of Python - they are the libraries of pre-existing code that we bring in to perform complex functions and streamline our code. To use a package we have to import it before accessing it's contents. To that we just type `import package_name`.\n",
    "\n",
    "Let's start by importing the data scientist's best friend, `numpy`. It is the package for \"scientific computing\", which means it lets us manipulate large arrays of numbers.\n",
    "\n",
    "To save space in our code when we use a package we can shorten it's name when we import it by typing `import package_name as short_name`. Let's **import `numpy`, giving it the shortened name `np`**, as is common practice."
   ]
  },
  {
   "cell_type": "code",
   "execution_count": 13,
   "metadata": {
    "collapsed": true
   },
   "outputs": [],
   "source": [
    "import numpy as np"
   ]
  },
  {
   "cell_type": "markdown",
   "metadata": {},
   "source": [
    "If it worked, nothing should have happened.\n",
    "\n",
    "So let's test it out. \n",
    "\n",
    "A common numpy function is `np.array()`, which  will take any list of numbers, formatted like this: `[1,2,3,4,5,6,7]`, and convert them in to an array.\n",
    "\n",
    "Another common function is `np.log()`. This takes the log of any number. This function is useful for scaling down numbers across a big range. \n",
    "\n",
    "Using numpy functions, create an array of the following numbers: `[1,8,27,64]`, and take the log of that array. Type **`np.log(np.array([1,8,27,64])`** and run the code below:"
   ]
  },
  {
   "cell_type": "code",
   "execution_count": null,
   "metadata": {},
   "outputs": [],
   "source": []
  },
  {
   "cell_type": "markdown",
   "metadata": {},
   "source": [
    "Your output should look like this:\n",
    "\n",
    "`array([ 0.        ,  2.07944154,  3.29583687,  4.15888308])`"
   ]
  },
  {
   "cell_type": "markdown",
   "metadata": {},
   "source": [
    "### Wrap Up\n",
    "So that's it!  Variables, functions, logic and packages are the building blocks of programming in any language.\n",
    "\n",
    "Now that you've got a handle on those, we're going to get a bit more complicated working with our data.\n",
    "\n",
    "*Note: Just like above, you'll need to press `Shift + Enter` to run any code in an `In [ ]:` box.*\n",
    "\n",
    "## <font color='green'>You're now finished with this section! Let your facilitators know, and have a break.</font>\n",
    "\n",
    "![done](https://media.giphy.com/media/XreQmk7ETCak0/giphy.gif)"
   ]
  },
  {
   "cell_type": "markdown",
   "metadata": {},
   "source": [
    "## 1. Sourcing Data\n",
    "To begin working with our data, let's use an API called [Quandl](https://www.quandl.com) to bring in stock data.\n",
    "\n",
    "We need to first `import quandl` to get the Quandl library of functions, then give the API our API key to get access to the data. The key for today is **`Byjzu4U8rmR1iEhZnp7V`** - copy and paste that between the `\"\"` below."
   ]
  },
  {
   "cell_type": "code",
   "execution_count": 14,
   "metadata": {},
   "outputs": [
    {
     "name": "stdout",
     "output_type": "stream",
     "text": [
      "Requirement already satisfied: quandl in /Users/greg/anaconda/lib/python2.7/site-packages\n",
      "Requirement already satisfied: more-itertools in /Users/greg/anaconda/lib/python2.7/site-packages (from quandl)\n",
      "Requirement already satisfied: numpy>=1.8 in /Users/greg/anaconda/lib/python2.7/site-packages (from quandl)\n",
      "Requirement already satisfied: requests<2.18,>=2.7.0 in /Users/greg/anaconda/lib/python2.7/site-packages (from quandl)\n",
      "Requirement already satisfied: six in /Users/greg/anaconda/lib/python2.7/site-packages (from quandl)\n",
      "Requirement already satisfied: inflection>=0.3.1 in /Users/greg/anaconda/lib/python2.7/site-packages (from quandl)\n",
      "Requirement already satisfied: python-dateutil in /Users/greg/anaconda/lib/python2.7/site-packages (from quandl)\n",
      "Requirement already satisfied: pandas>=0.14 in /Users/greg/anaconda/lib/python2.7/site-packages (from quandl)\n",
      "Requirement already satisfied: pytz>=2011k in /Users/greg/anaconda/lib/python2.7/site-packages (from pandas>=0.14->quandl)\n",
      "Requirement already up-to-date: pandas in /Users/greg/anaconda/lib/python2.7/site-packages\n",
      "Requirement already up-to-date: python-dateutil in /Users/greg/anaconda/lib/python2.7/site-packages (from pandas)\n",
      "Requirement already up-to-date: numpy>=1.7.0 in /Users/greg/anaconda/lib/python2.7/site-packages (from pandas)\n",
      "Requirement already up-to-date: pytz>=2011k in /Users/greg/anaconda/lib/python2.7/site-packages (from pandas)\n",
      "Requirement already up-to-date: six>=1.5 in /Users/greg/anaconda/lib/python2.7/site-packages (from python-dateutil->pandas)\n"
     ]
    }
   ],
   "source": [
    "!pip install quandl # install quandl\n",
    "!pip install --upgrade pandas # upgrade pandas (some housekeeping)\n",
    "\n",
    "import quandl\n",
    "quandl.ApiConfig.api_key = \"Byjzu4U8rmR1iEhZnp7V \""
   ]
  },
  {
   "cell_type": "markdown",
   "metadata": {},
   "source": [
    "Now that we've got our connection to quandl, let's pull a single stock (`AAPL`) and store that in a variable called `data`.\n",
    "\n",
    "Add **`WIKI/AAPL`** between the `\"\"` below."
   ]
  },
  {
   "cell_type": "code",
   "execution_count": 15,
   "metadata": {
    "collapsed": true
   },
   "outputs": [],
   "source": [
    "data = quandl.get(\"WIKI/AAPL\", rows=5)"
   ]
  },
  {
   "cell_type": "markdown",
   "metadata": {},
   "source": [
    "To find out the type of data, we can type **`print type(data)`**."
   ]
  },
  {
   "cell_type": "code",
   "execution_count": 16,
   "metadata": {},
   "outputs": [
    {
     "name": "stdout",
     "output_type": "stream",
     "text": [
      "<class 'pandas.core.frame.DataFrame'>\n"
     ]
    }
   ],
   "source": [
    "print type(data)"
   ]
  },
  {
   "cell_type": "markdown",
   "metadata": {},
   "source": [
    "And if we want to look at the data itself, we can type **`data`** below."
   ]
  },
  {
   "cell_type": "code",
   "execution_count": 17,
   "metadata": {},
   "outputs": [
    {
     "data": {
      "text/html": [
       "<div>\n",
       "<style>\n",
       "    .dataframe thead tr:only-child th {\n",
       "        text-align: right;\n",
       "    }\n",
       "\n",
       "    .dataframe thead th {\n",
       "        text-align: left;\n",
       "    }\n",
       "\n",
       "    .dataframe tbody tr th {\n",
       "        vertical-align: top;\n",
       "    }\n",
       "</style>\n",
       "<table border=\"1\" class=\"dataframe\">\n",
       "  <thead>\n",
       "    <tr style=\"text-align: right;\">\n",
       "      <th></th>\n",
       "      <th>Open</th>\n",
       "      <th>High</th>\n",
       "      <th>Low</th>\n",
       "      <th>Close</th>\n",
       "      <th>Volume</th>\n",
       "      <th>Ex-Dividend</th>\n",
       "      <th>Split Ratio</th>\n",
       "      <th>Adj. Open</th>\n",
       "      <th>Adj. High</th>\n",
       "      <th>Adj. Low</th>\n",
       "      <th>Adj. Close</th>\n",
       "      <th>Adj. Volume</th>\n",
       "    </tr>\n",
       "    <tr>\n",
       "      <th>Date</th>\n",
       "      <th></th>\n",
       "      <th></th>\n",
       "      <th></th>\n",
       "      <th></th>\n",
       "      <th></th>\n",
       "      <th></th>\n",
       "      <th></th>\n",
       "      <th></th>\n",
       "      <th></th>\n",
       "      <th></th>\n",
       "      <th></th>\n",
       "      <th></th>\n",
       "    </tr>\n",
       "  </thead>\n",
       "  <tbody>\n",
       "    <tr>\n",
       "      <th>2017-10-19</th>\n",
       "      <td>156.75</td>\n",
       "      <td>157.08</td>\n",
       "      <td>155.02</td>\n",
       "      <td>155.980</td>\n",
       "      <td>42111326.0</td>\n",
       "      <td>0.0</td>\n",
       "      <td>1.0</td>\n",
       "      <td>156.75</td>\n",
       "      <td>157.08</td>\n",
       "      <td>155.02</td>\n",
       "      <td>155.980</td>\n",
       "      <td>42111326.0</td>\n",
       "    </tr>\n",
       "    <tr>\n",
       "      <th>2017-10-20</th>\n",
       "      <td>156.61</td>\n",
       "      <td>157.75</td>\n",
       "      <td>155.96</td>\n",
       "      <td>156.160</td>\n",
       "      <td>23612246.0</td>\n",
       "      <td>0.0</td>\n",
       "      <td>1.0</td>\n",
       "      <td>156.61</td>\n",
       "      <td>157.75</td>\n",
       "      <td>155.96</td>\n",
       "      <td>156.160</td>\n",
       "      <td>23612246.0</td>\n",
       "    </tr>\n",
       "    <tr>\n",
       "      <th>2017-10-23</th>\n",
       "      <td>156.89</td>\n",
       "      <td>157.69</td>\n",
       "      <td>155.50</td>\n",
       "      <td>156.170</td>\n",
       "      <td>21654461.0</td>\n",
       "      <td>0.0</td>\n",
       "      <td>1.0</td>\n",
       "      <td>156.89</td>\n",
       "      <td>157.69</td>\n",
       "      <td>155.50</td>\n",
       "      <td>156.170</td>\n",
       "      <td>21654461.0</td>\n",
       "    </tr>\n",
       "    <tr>\n",
       "      <th>2017-10-24</th>\n",
       "      <td>156.29</td>\n",
       "      <td>157.42</td>\n",
       "      <td>156.20</td>\n",
       "      <td>157.100</td>\n",
       "      <td>17137731.0</td>\n",
       "      <td>0.0</td>\n",
       "      <td>1.0</td>\n",
       "      <td>156.29</td>\n",
       "      <td>157.42</td>\n",
       "      <td>156.20</td>\n",
       "      <td>157.100</td>\n",
       "      <td>17137731.0</td>\n",
       "    </tr>\n",
       "    <tr>\n",
       "      <th>2017-10-25</th>\n",
       "      <td>156.91</td>\n",
       "      <td>157.55</td>\n",
       "      <td>155.27</td>\n",
       "      <td>156.405</td>\n",
       "      <td>20126554.0</td>\n",
       "      <td>0.0</td>\n",
       "      <td>1.0</td>\n",
       "      <td>156.91</td>\n",
       "      <td>157.55</td>\n",
       "      <td>155.27</td>\n",
       "      <td>156.405</td>\n",
       "      <td>20126554.0</td>\n",
       "    </tr>\n",
       "  </tbody>\n",
       "</table>\n",
       "</div>"
      ],
      "text/plain": [
       "              Open    High     Low    Close      Volume  Ex-Dividend  \\\n",
       "Date                                                                   \n",
       "2017-10-19  156.75  157.08  155.02  155.980  42111326.0          0.0   \n",
       "2017-10-20  156.61  157.75  155.96  156.160  23612246.0          0.0   \n",
       "2017-10-23  156.89  157.69  155.50  156.170  21654461.0          0.0   \n",
       "2017-10-24  156.29  157.42  156.20  157.100  17137731.0          0.0   \n",
       "2017-10-25  156.91  157.55  155.27  156.405  20126554.0          0.0   \n",
       "\n",
       "            Split Ratio  Adj. Open  Adj. High  Adj. Low  Adj. Close  \\\n",
       "Date                                                                  \n",
       "2017-10-19          1.0     156.75     157.08    155.02     155.980   \n",
       "2017-10-20          1.0     156.61     157.75    155.96     156.160   \n",
       "2017-10-23          1.0     156.89     157.69    155.50     156.170   \n",
       "2017-10-24          1.0     156.29     157.42    156.20     157.100   \n",
       "2017-10-25          1.0     156.91     157.55    155.27     156.405   \n",
       "\n",
       "            Adj. Volume  \n",
       "Date                     \n",
       "2017-10-19   42111326.0  \n",
       "2017-10-20   23612246.0  \n",
       "2017-10-23   21654461.0  \n",
       "2017-10-24   17137731.0  \n",
       "2017-10-25   20126554.0  "
      ]
     },
     "execution_count": 17,
     "metadata": {},
     "output_type": "execute_result"
    }
   ],
   "source": [
    "data"
   ]
  },
  {
   "cell_type": "markdown",
   "metadata": {},
   "source": [
    "To assess the health of each stock, let's find the `Close` price for each stock. If you notice above, that's the 4th column.\n",
    "\n",
    "Based on Quandl's [API documentation](https://docs.quandl.com/docs/time-series-2), we can extract just that column by adding **`.4`** after `WIKI/AAPL` to get **`WIKI/AAPL.4`**:"
   ]
  },
  {
   "cell_type": "code",
   "execution_count": 18,
   "metadata": {},
   "outputs": [
    {
     "data": {
      "text/html": [
       "<div>\n",
       "<style>\n",
       "    .dataframe thead tr:only-child th {\n",
       "        text-align: right;\n",
       "    }\n",
       "\n",
       "    .dataframe thead th {\n",
       "        text-align: left;\n",
       "    }\n",
       "\n",
       "    .dataframe tbody tr th {\n",
       "        vertical-align: top;\n",
       "    }\n",
       "</style>\n",
       "<table border=\"1\" class=\"dataframe\">\n",
       "  <thead>\n",
       "    <tr style=\"text-align: right;\">\n",
       "      <th></th>\n",
       "      <th>Close</th>\n",
       "    </tr>\n",
       "    <tr>\n",
       "      <th>Date</th>\n",
       "      <th></th>\n",
       "    </tr>\n",
       "  </thead>\n",
       "  <tbody>\n",
       "    <tr>\n",
       "      <th>1980-12-31</th>\n",
       "      <td>34.13</td>\n",
       "    </tr>\n",
       "    <tr>\n",
       "      <th>1981-01-31</th>\n",
       "      <td>28.25</td>\n",
       "    </tr>\n",
       "    <tr>\n",
       "      <th>1981-02-28</th>\n",
       "      <td>26.50</td>\n",
       "    </tr>\n",
       "    <tr>\n",
       "      <th>1981-03-31</th>\n",
       "      <td>24.50</td>\n",
       "    </tr>\n",
       "    <tr>\n",
       "      <th>1981-04-30</th>\n",
       "      <td>28.38</td>\n",
       "    </tr>\n",
       "  </tbody>\n",
       "</table>\n",
       "</div>"
      ],
      "text/plain": [
       "            Close\n",
       "Date             \n",
       "1980-12-31  34.13\n",
       "1981-01-31  28.25\n",
       "1981-02-28  26.50\n",
       "1981-03-31  24.50\n",
       "1981-04-30  28.38"
      ]
     },
     "execution_count": 18,
     "metadata": {},
     "output_type": "execute_result"
    }
   ],
   "source": [
    "data = quandl.get(\"WIKI/AAPL.4\", rows=5, collapse='monthly')\n",
    "data"
   ]
  },
  {
   "cell_type": "markdown",
   "metadata": {},
   "source": [
    "That's great! But we want to show data for the last 10 years.\n",
    "\n",
    "First, we need to have Python tell us what today's date is and subtract 10 years from that. Replace `#TODO` with **``print start_date``** after the definition to check the value makes sense:"
   ]
  },
  {
   "cell_type": "code",
   "execution_count": 19,
   "metadata": {},
   "outputs": [
    {
     "name": "stdout",
     "output_type": "stream",
     "text": [
      "2007-10-01\n"
     ]
    }
   ],
   "source": [
    "import datetime\n",
    "start_date = (datetime.datetime.now() - datetime.timedelta(days=10*365)).strftime('%Y-%m-01')\n",
    "print start_date"
   ]
  },
  {
   "cell_type": "markdown",
   "metadata": {},
   "source": [
    "Now we need to add a new parameter to our Quandl get request. After `collapse='monthly'`, add a comma and then **`start_date=start_date`** inside the parenthesis.\n",
    "\n",
    "Then, to save space in the notebook, we're only going to show the top five rows of data using `data.head(5)`.\n",
    "\n",
    "How could you show the top 10 rows instead?"
   ]
  },
  {
   "cell_type": "code",
   "execution_count": 20,
   "metadata": {},
   "outputs": [
    {
     "data": {
      "text/html": [
       "<div>\n",
       "<style>\n",
       "    .dataframe thead tr:only-child th {\n",
       "        text-align: right;\n",
       "    }\n",
       "\n",
       "    .dataframe thead th {\n",
       "        text-align: left;\n",
       "    }\n",
       "\n",
       "    .dataframe tbody tr th {\n",
       "        vertical-align: top;\n",
       "    }\n",
       "</style>\n",
       "<table border=\"1\" class=\"dataframe\">\n",
       "  <thead>\n",
       "    <tr style=\"text-align: right;\">\n",
       "      <th></th>\n",
       "      <th>Close</th>\n",
       "    </tr>\n",
       "    <tr>\n",
       "      <th>Date</th>\n",
       "      <th></th>\n",
       "    </tr>\n",
       "  </thead>\n",
       "  <tbody>\n",
       "    <tr>\n",
       "      <th>2007-10-31</th>\n",
       "      <td>189.95</td>\n",
       "    </tr>\n",
       "    <tr>\n",
       "      <th>2007-11-30</th>\n",
       "      <td>182.22</td>\n",
       "    </tr>\n",
       "    <tr>\n",
       "      <th>2007-12-31</th>\n",
       "      <td>198.08</td>\n",
       "    </tr>\n",
       "    <tr>\n",
       "      <th>2008-01-31</th>\n",
       "      <td>135.36</td>\n",
       "    </tr>\n",
       "    <tr>\n",
       "      <th>2008-02-29</th>\n",
       "      <td>125.02</td>\n",
       "    </tr>\n",
       "  </tbody>\n",
       "</table>\n",
       "</div>"
      ],
      "text/plain": [
       "             Close\n",
       "Date              \n",
       "2007-10-31  189.95\n",
       "2007-11-30  182.22\n",
       "2007-12-31  198.08\n",
       "2008-01-31  135.36\n",
       "2008-02-29  125.02"
      ]
     },
     "execution_count": 20,
     "metadata": {},
     "output_type": "execute_result"
    }
   ],
   "source": [
    "data = quandl.get(\"WIKI/AAPL.4\", rows=120, collapse='monthly', start_date=start_date)\n",
    "data.head(5)"
   ]
  },
  {
   "cell_type": "markdown",
   "metadata": {},
   "source": [
    "Python comes with a number of great visualization tools built in.\n",
    "\n",
    "Let's do a quick visualization of the data to see if it looks right:"
   ]
  },
  {
   "cell_type": "code",
   "execution_count": 21,
   "metadata": {},
   "outputs": [
    {
     "name": "stdout",
     "output_type": "stream",
     "text": [
      "Requirement already satisfied: mpld3 in /Users/greg/anaconda/lib/python2.7/site-packages\r\n"
     ]
    },
    {
     "data": {
      "image/png": "[encoded data removed]",
      "text/html": [
       "\n",
       "\n",
       "<style>\n",
       "\n",
       "</style>\n",
       "\n",
       "<div id=\"fig_el8585047091409443102177308\"></div>\n",
       "<script>\n",
       "function mpld3_load_lib(url, callback){\n",
       "  var s = document.createElement('script');\n",
       "  s.src = url;\n",
       "  s.async = true;\n",
       "  s.onreadystatechange = s.onload = callback;\n",
       "  s.onerror = function(){console.warn(\"failed to load library \" + url);};\n",
       "  document.getElementsByTagName(\"head\")[0].appendChild(s);\n",
       "}\n",
       "\n",
       "if(typeof(mpld3) !== \"undefined\" && mpld3._mpld3IsLoaded){\n",
       "   // already loaded: just create the figure\n",
       "   !function(mpld3){\n",
       "       \n",
       "       mpld3.draw_figure(\"fig_el8585047091409443102177308\", {\"axes\": [{\"xlim\": [453.0, 572.0], \"yscale\": \"linear\", \"axesbg\": \"#FFFFFF\", \"texts\": [{\"v_baseline\": \"hanging\", \"h_anchor\": \"middle\", \"color\": \"#000000\", \"text\": \"Date\", \"coordinates\": \"axes\", \"zorder\": 3, \"alpha\": 1, \"fontsize\": 10.0, \"position\": [0.49999999999999994, -0.09657836644591611], \"rotation\": -0.0, \"id\": \"el858504709331152\"}, {\"v_baseline\": \"auto\", \"h_anchor\": \"start\", \"color\": \"#000000\", \"text\": \"Close\", \"coordinates\": \"axes\", \"zorder\": 1000003.0, \"alpha\": 1, \"fontsize\": 10.0, \"position\": [0.892099761051374, 0.9218175128771156], \"rotation\": -0.0, \"id\": \"el858504709800080\"}], \"zoomable\": true, \"images\": [], \"xdomain\": [[2007, 9, 31, 0, 0, 0, 0], [2017, 8, 30, 0, 0, 0, 0]], \"ylim\": [56.262249999999995, 696.19275], \"paths\": [{\"edgecolor\": \"#CCCCCC\", \"facecolor\": \"#FFFFFF\", \"edgewidth\": 1.0, \"pathcodes\": [\"M\", \"L\", \"S\", \"L\", \"S\", \"L\", \"S\", \"L\", \"S\", \"Z\"], \"yindex\": 1, \"coordinates\": \"axes\", \"dasharray\": \"none\", \"zorder\": 1000000.0, \"alpha\": 0.8, \"xindex\": 0, \"data\": \"data03\", \"id\": \"el858504709205328\"}], \"sharey\": [], \"sharex\": [], \"axesbgalpha\": null, \"axes\": [{\"scale\": \"linear\", \"tickformat\": null, \"grid\": {\"gridOn\": false}, \"visible\": true, \"fontsize\": 10.0, \"position\": \"bottom\", \"nticks\": 10, \"tickvalues\": null}, {\"scale\": \"linear\", \"tickformat\": null, \"grid\": {\"gridOn\": false}, \"visible\": true, \"fontsize\": 10.0, \"position\": \"left\", \"nticks\": 8, \"tickvalues\": null}], \"lines\": [{\"drawstyle\": \"default\", \"color\": \"#1F77B4\", \"yindex\": 1, \"coordinates\": \"data\", \"dasharray\": \"none\", \"zorder\": 2, \"alpha\": 1, \"xindex\": 0, \"linewidth\": 1.5, \"data\": \"data01\", \"id\": \"el858504709547280\"}, {\"drawstyle\": \"default\", \"color\": \"#1F77B4\", \"yindex\": 1, \"coordinates\": \"axes\", \"dasharray\": \"none\", \"zorder\": 1000002.0, \"alpha\": 1, \"xindex\": 0, \"linewidth\": 1.5, \"data\": \"data02\", \"id\": \"el858504709800976\"}], \"markers\": [], \"id\": \"el858504709141712\", \"ydomain\": [56.262249999999995, 696.19275], \"collections\": [], \"xscale\": \"date\", \"bbox\": [0.125, 0.125, 0.775, 0.755]}], \"height\": 288.0, \"width\": 432.0, \"plugins\": [{\"type\": \"reset\"}, {\"enabled\": false, \"button\": true, \"type\": \"zoom\"}, {\"enabled\": false, \"button\": true, \"type\": \"boxzoom\"}], \"data\": {\"data02\": [[0.8084677419354839, 0.9379139072847682], [0.8682048984468339, 0.9379139072847682]], \"data03\": [[0.8024940262843488, 0.8942236938925681], [0.9790919952210274, 0.8942236938925681], [0.9850657108721624, 0.8942236938925681], [0.9850657108721624, 0.9034216335540839], [0.9850657108721624, 0.9678072111846947], [0.9850657108721624, 0.9770051508462105], [0.9790919952210274, 0.9770051508462105], [0.8024940262843488, 0.9770051508462105], [0.7965203106332138, 0.9770051508462105], [0.7965203106332138, 0.9678072111846947], [0.7965203106332138, 0.9034216335540839], [0.7965203106332138, 0.8942236938925681], [0.8024940262843488, 0.8942236938925681]], \"data01\": [[453.0, 189.95], [454.0, 182.22], [455.0, 198.08], [456.0, 135.36], [457.0, 125.02], [458.0, 143.5], [459.0, 173.95], [460.0, 188.75], [461.0, 167.44], [462.0, 158.95], [463.0, 169.53], [464.0, 113.66], [465.0, 107.59], [466.0, 92.67], [467.0, 85.35], [468.0, 90.13], [469.0, 89.31], [470.0, 105.12], [471.0, 125.83], [472.0, 135.81], [473.0, 142.43], [474.0, 163.39], [475.0, 168.21], [476.0, 185.35], [477.0, 188.5], [478.0, 199.91], [479.0, 210.732], [480.0, 192.063], [481.0, 204.62], [482.0, 235.0], [483.0, 261.09], [484.0, 256.88], [485.0, 251.53], [486.0, 257.25], [487.0, 243.1], [488.0, 283.75], [489.0, 300.98], [490.0, 311.15], [491.0, 322.56], [492.0, 339.32], [493.0, 353.21], [494.0, 348.5075], [495.0, 350.13], [496.0, 347.83], [497.0, 335.67], [498.0, 390.48], [499.0, 384.83], [500.0, 381.32], [501.0, 404.78], [502.0, 382.2], [503.0, 405.0], [504.0, 456.48], [505.0, 542.44], [506.0, 599.55], [507.0, 583.98], [508.0, 577.73], [509.0, 584.0], [510.0, 610.76], [511.0, 665.24], [512.0, 667.105], [513.0, 595.32], [514.0, 585.28], [515.0, 532.1729], [516.0, 455.49], [517.0, 441.4], [518.0, 442.66], [519.0, 442.78], [520.0, 449.735], [521.0, 396.53], [522.0, 452.53], [523.0, 487.216], [524.0, 476.75], [525.0, 522.702], [526.0, 556.07], [527.0, 561.02], [528.0, 500.6], [529.0, 526.24], [530.0, 536.74], [531.0, 590.09], [532.0, 633.0], [533.0, 92.93], [534.0, 95.6], [535.0, 102.5], [536.0, 100.75], [537.0, 108.0], [538.0, 118.93], [539.0, 110.38], [540.0, 117.16], [541.0, 128.46], [542.0, 124.43], [543.0, 125.15], [544.0, 130.28], [545.0, 125.425], [546.0, 121.3], [547.0, 112.76], [548.0, 109.95], [549.0, 119.5], [550.0, 118.3], [551.0, 105.26], [552.0, 97.34], [553.0, 96.69], [554.0, 108.99], [555.0, 93.74], [556.0, 99.86], [557.0, 95.6], [558.0, 104.21], [559.0, 106.1], [560.0, 113.05], [561.0, 113.54], [562.0, 110.52], [563.0, 115.82], [564.0, 121.35], [565.0, 136.99], [566.0, 143.66], [567.0, 143.65], [568.0, 152.76], [569.0, 144.02], [570.0, 148.85], [571.0, 164.0], [572.0, 154.12]]}, \"id\": \"el858504709140944\"});\n",
       "   }(mpld3);\n",
       "}else if(typeof define === \"function\" && define.amd){\n",
       "   // require.js is available: use it to load d3/mpld3\n",
       "   require.config({paths: {d3: \"https://mpld3.github.io/js/d3.v3.min\"}});\n",
       "   require([\"d3\"], function(d3){\n",
       "      window.d3 = d3;\n",
       "      mpld3_load_lib(\"https://mpld3.github.io/js/mpld3.v0.3.js\", function(){\n",
       "         \n",
       "         mpld3.draw_figure(\"fig_el8585047091409443102177308\", {\"axes\": [{\"xlim\": [453.0, 572.0], \"yscale\": \"linear\", \"axesbg\": \"#FFFFFF\", \"texts\": [{\"v_baseline\": \"hanging\", \"h_anchor\": \"middle\", \"color\": \"#000000\", \"text\": \"Date\", \"coordinates\": \"axes\", \"zorder\": 3, \"alpha\": 1, \"fontsize\": 10.0, \"position\": [0.49999999999999994, -0.09657836644591611], \"rotation\": -0.0, \"id\": \"el858504709331152\"}, {\"v_baseline\": \"auto\", \"h_anchor\": \"start\", \"color\": \"#000000\", \"text\": \"Close\", \"coordinates\": \"axes\", \"zorder\": 1000003.0, \"alpha\": 1, \"fontsize\": 10.0, \"position\": [0.892099761051374, 0.9218175128771156], \"rotation\": -0.0, \"id\": \"el858504709800080\"}], \"zoomable\": true, \"images\": [], \"xdomain\": [[2007, 9, 31, 0, 0, 0, 0], [2017, 8, 30, 0, 0, 0, 0]], \"ylim\": [56.262249999999995, 696.19275], \"paths\": [{\"edgecolor\": \"#CCCCCC\", \"facecolor\": \"#FFFFFF\", \"edgewidth\": 1.0, \"pathcodes\": [\"M\", \"L\", \"S\", \"L\", \"S\", \"L\", \"S\", \"L\", \"S\", \"Z\"], \"yindex\": 1, \"coordinates\": \"axes\", \"dasharray\": \"none\", \"zorder\": 1000000.0, \"alpha\": 0.8, \"xindex\": 0, \"data\": \"data03\", \"id\": \"el858504709205328\"}], \"sharey\": [], \"sharex\": [], \"axesbgalpha\": null, \"axes\": [{\"scale\": \"linear\", \"tickformat\": null, \"grid\": {\"gridOn\": false}, \"visible\": true, \"fontsize\": 10.0, \"position\": \"bottom\", \"nticks\": 10, \"tickvalues\": null}, {\"scale\": \"linear\", \"tickformat\": null, \"grid\": {\"gridOn\": false}, \"visible\": true, \"fontsize\": 10.0, \"position\": \"left\", \"nticks\": 8, \"tickvalues\": null}], \"lines\": [{\"drawstyle\": \"default\", \"color\": \"#1F77B4\", \"yindex\": 1, \"coordinates\": \"data\", \"dasharray\": \"none\", \"zorder\": 2, \"alpha\": 1, \"xindex\": 0, \"linewidth\": 1.5, \"data\": \"data01\", \"id\": \"el858504709547280\"}, {\"drawstyle\": \"default\", \"color\": \"#1F77B4\", \"yindex\": 1, \"coordinates\": \"axes\", \"dasharray\": \"none\", \"zorder\": 1000002.0, \"alpha\": 1, \"xindex\": 0, \"linewidth\": 1.5, \"data\": \"data02\", \"id\": \"el858504709800976\"}], \"markers\": [], \"id\": \"el858504709141712\", \"ydomain\": [56.262249999999995, 696.19275], \"collections\": [], \"xscale\": \"date\", \"bbox\": [0.125, 0.125, 0.775, 0.755]}], \"height\": 288.0, \"width\": 432.0, \"plugins\": [{\"type\": \"reset\"}, {\"enabled\": false, \"button\": true, \"type\": \"zoom\"}, {\"enabled\": false, \"button\": true, \"type\": \"boxzoom\"}], \"data\": {\"data02\": [[0.8084677419354839, 0.9379139072847682], [0.8682048984468339, 0.9379139072847682]], \"data03\": [[0.8024940262843488, 0.8942236938925681], [0.9790919952210274, 0.8942236938925681], [0.9850657108721624, 0.8942236938925681], [0.9850657108721624, 0.9034216335540839], [0.9850657108721624, 0.9678072111846947], [0.9850657108721624, 0.9770051508462105], [0.9790919952210274, 0.9770051508462105], [0.8024940262843488, 0.9770051508462105], [0.7965203106332138, 0.9770051508462105], [0.7965203106332138, 0.9678072111846947], [0.7965203106332138, 0.9034216335540839], [0.7965203106332138, 0.8942236938925681], [0.8024940262843488, 0.8942236938925681]], \"data01\": [[453.0, 189.95], [454.0, 182.22], [455.0, 198.08], [456.0, 135.36], [457.0, 125.02], [458.0, 143.5], [459.0, 173.95], [460.0, 188.75], [461.0, 167.44], [462.0, 158.95], [463.0, 169.53], [464.0, 113.66], [465.0, 107.59], [466.0, 92.67], [467.0, 85.35], [468.0, 90.13], [469.0, 89.31], [470.0, 105.12], [471.0, 125.83], [472.0, 135.81], [473.0, 142.43], [474.0, 163.39], [475.0, 168.21], [476.0, 185.35], [477.0, 188.5], [478.0, 199.91], [479.0, 210.732], [480.0, 192.063], [481.0, 204.62], [482.0, 235.0], [483.0, 261.09], [484.0, 256.88], [485.0, 251.53], [486.0, 257.25], [487.0, 243.1], [488.0, 283.75], [489.0, 300.98], [490.0, 311.15], [491.0, 322.56], [492.0, 339.32], [493.0, 353.21], [494.0, 348.5075], [495.0, 350.13], [496.0, 347.83], [497.0, 335.67], [498.0, 390.48], [499.0, 384.83], [500.0, 381.32], [501.0, 404.78], [502.0, 382.2], [503.0, 405.0], [504.0, 456.48], [505.0, 542.44], [506.0, 599.55], [507.0, 583.98], [508.0, 577.73], [509.0, 584.0], [510.0, 610.76], [511.0, 665.24], [512.0, 667.105], [513.0, 595.32], [514.0, 585.28], [515.0, 532.1729], [516.0, 455.49], [517.0, 441.4], [518.0, 442.66], [519.0, 442.78], [520.0, 449.735], [521.0, 396.53], [522.0, 452.53], [523.0, 487.216], [524.0, 476.75], [525.0, 522.702], [526.0, 556.07], [527.0, 561.02], [528.0, 500.6], [529.0, 526.24], [530.0, 536.74], [531.0, 590.09], [532.0, 633.0], [533.0, 92.93], [534.0, 95.6], [535.0, 102.5], [536.0, 100.75], [537.0, 108.0], [538.0, 118.93], [539.0, 110.38], [540.0, 117.16], [541.0, 128.46], [542.0, 124.43], [543.0, 125.15], [544.0, 130.28], [545.0, 125.425], [546.0, 121.3], [547.0, 112.76], [548.0, 109.95], [549.0, 119.5], [550.0, 118.3], [551.0, 105.26], [552.0, 97.34], [553.0, 96.69], [554.0, 108.99], [555.0, 93.74], [556.0, 99.86], [557.0, 95.6], [558.0, 104.21], [559.0, 106.1], [560.0, 113.05], [561.0, 113.54], [562.0, 110.52], [563.0, 115.82], [564.0, 121.35], [565.0, 136.99], [566.0, 143.66], [567.0, 143.65], [568.0, 152.76], [569.0, 144.02], [570.0, 148.85], [571.0, 164.0], [572.0, 154.12]]}, \"id\": \"el858504709140944\"});\n",
       "      });\n",
       "    });\n",
       "}else{\n",
       "    // require.js not available: dynamically load d3 & mpld3\n",
       "    mpld3_load_lib(\"https://mpld3.github.io/js/d3.v3.min.js\", function(){\n",
       "         mpld3_load_lib(\"https://mpld3.github.io/js/mpld3.v0.3.js\", function(){\n",
       "                 \n",
       "                 mpld3.draw_figure(\"fig_el8585047091409443102177308\", {\"axes\": [{\"xlim\": [453.0, 572.0], \"yscale\": \"linear\", \"axesbg\": \"#FFFFFF\", \"texts\": [{\"v_baseline\": \"hanging\", \"h_anchor\": \"middle\", \"color\": \"#000000\", \"text\": \"Date\", \"coordinates\": \"axes\", \"zorder\": 3, \"alpha\": 1, \"fontsize\": 10.0, \"position\": [0.49999999999999994, -0.09657836644591611], \"rotation\": -0.0, \"id\": \"el858504709331152\"}, {\"v_baseline\": \"auto\", \"h_anchor\": \"start\", \"color\": \"#000000\", \"text\": \"Close\", \"coordinates\": \"axes\", \"zorder\": 1000003.0, \"alpha\": 1, \"fontsize\": 10.0, \"position\": [0.892099761051374, 0.9218175128771156], \"rotation\": -0.0, \"id\": \"el858504709800080\"}], \"zoomable\": true, \"images\": [], \"xdomain\": [[2007, 9, 31, 0, 0, 0, 0], [2017, 8, 30, 0, 0, 0, 0]], \"ylim\": [56.262249999999995, 696.19275], \"paths\": [{\"edgecolor\": \"#CCCCCC\", \"facecolor\": \"#FFFFFF\", \"edgewidth\": 1.0, \"pathcodes\": [\"M\", \"L\", \"S\", \"L\", \"S\", \"L\", \"S\", \"L\", \"S\", \"Z\"], \"yindex\": 1, \"coordinates\": \"axes\", \"dasharray\": \"none\", \"zorder\": 1000000.0, \"alpha\": 0.8, \"xindex\": 0, \"data\": \"data03\", \"id\": \"el858504709205328\"}], \"sharey\": [], \"sharex\": [], \"axesbgalpha\": null, \"axes\": [{\"scale\": \"linear\", \"tickformat\": null, \"grid\": {\"gridOn\": false}, \"visible\": true, \"fontsize\": 10.0, \"position\": \"bottom\", \"nticks\": 10, \"tickvalues\": null}, {\"scale\": \"linear\", \"tickformat\": null, \"grid\": {\"gridOn\": false}, \"visible\": true, \"fontsize\": 10.0, \"position\": \"left\", \"nticks\": 8, \"tickvalues\": null}], \"lines\": [{\"drawstyle\": \"default\", \"color\": \"#1F77B4\", \"yindex\": 1, \"coordinates\": \"data\", \"dasharray\": \"none\", \"zorder\": 2, \"alpha\": 1, \"xindex\": 0, \"linewidth\": 1.5, \"data\": \"data01\", \"id\": \"el858504709547280\"}, {\"drawstyle\": \"default\", \"color\": \"#1F77B4\", \"yindex\": 1, \"coordinates\": \"axes\", \"dasharray\": \"none\", \"zorder\": 1000002.0, \"alpha\": 1, \"xindex\": 0, \"linewidth\": 1.5, \"data\": \"data02\", \"id\": \"el858504709800976\"}], \"markers\": [], \"id\": \"el858504709141712\", \"ydomain\": [56.262249999999995, 696.19275], \"collections\": [], \"xscale\": \"date\", \"bbox\": [0.125, 0.125, 0.775, 0.755]}], \"height\": 288.0, \"width\": 432.0, \"plugins\": [{\"type\": \"reset\"}, {\"enabled\": false, \"button\": true, \"type\": \"zoom\"}, {\"enabled\": false, \"button\": true, \"type\": \"boxzoom\"}], \"data\": {\"data02\": [[0.8084677419354839, 0.9379139072847682], [0.8682048984468339, 0.9379139072847682]], \"data03\": [[0.8024940262843488, 0.8942236938925681], [0.9790919952210274, 0.8942236938925681], [0.9850657108721624, 0.8942236938925681], [0.9850657108721624, 0.9034216335540839], [0.9850657108721624, 0.9678072111846947], [0.9850657108721624, 0.9770051508462105], [0.9790919952210274, 0.9770051508462105], [0.8024940262843488, 0.9770051508462105], [0.7965203106332138, 0.9770051508462105], [0.7965203106332138, 0.9678072111846947], [0.7965203106332138, 0.9034216335540839], [0.7965203106332138, 0.8942236938925681], [0.8024940262843488, 0.8942236938925681]], \"data01\": [[453.0, 189.95], [454.0, 182.22], [455.0, 198.08], [456.0, 135.36], [457.0, 125.02], [458.0, 143.5], [459.0, 173.95], [460.0, 188.75], [461.0, 167.44], [462.0, 158.95], [463.0, 169.53], [464.0, 113.66], [465.0, 107.59], [466.0, 92.67], [467.0, 85.35], [468.0, 90.13], [469.0, 89.31], [470.0, 105.12], [471.0, 125.83], [472.0, 135.81], [473.0, 142.43], [474.0, 163.39], [475.0, 168.21], [476.0, 185.35], [477.0, 188.5], [478.0, 199.91], [479.0, 210.732], [480.0, 192.063], [481.0, 204.62], [482.0, 235.0], [483.0, 261.09], [484.0, 256.88], [485.0, 251.53], [486.0, 257.25], [487.0, 243.1], [488.0, 283.75], [489.0, 300.98], [490.0, 311.15], [491.0, 322.56], [492.0, 339.32], [493.0, 353.21], [494.0, 348.5075], [495.0, 350.13], [496.0, 347.83], [497.0, 335.67], [498.0, 390.48], [499.0, 384.83], [500.0, 381.32], [501.0, 404.78], [502.0, 382.2], [503.0, 405.0], [504.0, 456.48], [505.0, 542.44], [506.0, 599.55], [507.0, 583.98], [508.0, 577.73], [509.0, 584.0], [510.0, 610.76], [511.0, 665.24], [512.0, 667.105], [513.0, 595.32], [514.0, 585.28], [515.0, 532.1729], [516.0, 455.49], [517.0, 441.4], [518.0, 442.66], [519.0, 442.78], [520.0, 449.735], [521.0, 396.53], [522.0, 452.53], [523.0, 487.216], [524.0, 476.75], [525.0, 522.702], [526.0, 556.07], [527.0, 561.02], [528.0, 500.6], [529.0, 526.24], [530.0, 536.74], [531.0, 590.09], [532.0, 633.0], [533.0, 92.93], [534.0, 95.6], [535.0, 102.5], [536.0, 100.75], [537.0, 108.0], [538.0, 118.93], [539.0, 110.38], [540.0, 117.16], [541.0, 128.46], [542.0, 124.43], [543.0, 125.15], [544.0, 130.28], [545.0, 125.425], [546.0, 121.3], [547.0, 112.76], [548.0, 109.95], [549.0, 119.5], [550.0, 118.3], [551.0, 105.26], [552.0, 97.34], [553.0, 96.69], [554.0, 108.99], [555.0, 93.74], [556.0, 99.86], [557.0, 95.6], [558.0, 104.21], [559.0, 106.1], [560.0, 113.05], [561.0, 113.54], [562.0, 110.52], [563.0, 115.82], [564.0, 121.35], [565.0, 136.99], [566.0, 143.66], [567.0, 143.65], [568.0, 152.76], [569.0, 144.02], [570.0, 148.85], [571.0, 164.0], [572.0, 154.12]]}, \"id\": \"el858504709140944\"});\n",
       "            })\n",
       "         });\n",
       "}\n",
       "</script>"
      ],
      "text/plain": [
       "<matplotlib.figure.Figure at 0x118afc9d0>"
      ]
     },
     "metadata": {},
     "output_type": "display_data"
    }
   ],
   "source": [
    "%matplotlib inline\n",
    "!pip install mpld3 # install a package to let us zoom into our plots\n",
    "import mpld3\n",
    "mpld3.enable_notebook()\n",
    "\n",
    "ax = data.plot()"
   ]
  },
  {
   "cell_type": "code",
   "execution_count": 22,
   "metadata": {},
   "outputs": [
    {
     "data": {
      "text/plain": [
       "'2007-10-01'"
      ]
     },
     "execution_count": 22,
     "metadata": {},
     "output_type": "execute_result"
    }
   ],
   "source": [
    "start_date"
   ]
  },
  {
   "cell_type": "markdown",
   "metadata": {},
   "source": [
    "Uh-oh! Looks like there's a problem: There's a big drop in AAPL stock in 2014! **If you don't see this, check with a facilitator**\n",
    "\n",
    "Why?!  Well, a quick Google shows they [split their stock](https://www.washingtonpost.com/news/the-switch/wp/2014/06/09/apples-stock-price-just-dropped-more-than-500-a-share-but-dont-panic/). \n",
    "\n",
    "Luckily, Quandl has accounted for that. Instead of `Close`, we'll need to use the `Adjusted Close` price (column 11) from Quandl.\n",
    "\n",
    "Modify the code below to get the **11**th column instead of the 4th."
   ]
  },
  {
   "cell_type": "code",
   "execution_count": 23,
   "metadata": {},
   "outputs": [
    {
     "data": {
      "text/plain": [
       "<matplotlib.axes._subplots.AxesSubplot at 0x118c3a950>"
      ]
     },
     "execution_count": 23,
     "metadata": {},
     "output_type": "execute_result"
    },
    {
     "data": {
      "image/png": "[encoded data removed]",
      "text/html": [
       "\n",
       "\n",
       "<style>\n",
       "\n",
       "</style>\n",
       "\n",
       "<div id=\"fig_el8585045538635041768003994\"></div>\n",
       "<script>\n",
       "function mpld3_load_lib(url, callback){\n",
       "  var s = document.createElement('script');\n",
       "  s.src = url;\n",
       "  s.async = true;\n",
       "  s.onreadystatechange = s.onload = callback;\n",
       "  s.onerror = function(){console.warn(\"failed to load library \" + url);};\n",
       "  document.getElementsByTagName(\"head\")[0].appendChild(s);\n",
       "}\n",
       "\n",
       "if(typeof(mpld3) !== \"undefined\" && mpld3._mpld3IsLoaded){\n",
       "   // already loaded: just create the figure\n",
       "   !function(mpld3){\n",
       "       \n",
       "       mpld3.draw_figure(\"fig_el8585045538635041768003994\", {\"axes\": [{\"xlim\": [444.0, 573.0], \"yscale\": \"linear\", \"axesbg\": \"#FFFFFF\", \"texts\": [{\"v_baseline\": \"hanging\", \"h_anchor\": \"middle\", \"color\": \"#000000\", \"text\": \"Date\", \"coordinates\": \"axes\", \"zorder\": 3, \"alpha\": 1, \"fontsize\": 10.0, \"position\": [0.49999999999999994, -0.09657836644591611], \"rotation\": -0.0, \"id\": \"el858504711614672\"}, {\"v_baseline\": \"auto\", \"h_anchor\": \"start\", \"color\": \"#000000\", \"text\": \"Adj. Close\", \"coordinates\": \"axes\", \"zorder\": 1000003.0, \"alpha\": 1, \"fontsize\": 10.0, \"position\": [0.11051373954599761, 0.9218175128771156], \"rotation\": -0.0, \"id\": \"el858504711203152\"}], \"zoomable\": true, \"images\": [], \"xdomain\": [[2007, 0, 31, 0, 0, 0, 0], [2017, 9, 31, 0, 0, 0, 0]], \"ylim\": [3.2172424778446995, 171.6563217867693], \"paths\": [{\"edgecolor\": \"#CCCCCC\", \"facecolor\": \"#FFFFFF\", \"edgewidth\": 1.0, \"pathcodes\": [\"M\", \"L\", \"S\", \"L\", \"S\", \"L\", \"S\", \"L\", \"S\", \"Z\"], \"yindex\": 1, \"coordinates\": \"axes\", \"dasharray\": \"none\", \"zorder\": 1000000.0, \"alpha\": 0.8, \"xindex\": 0, \"data\": \"data03\", \"id\": \"el858504711135056\"}], \"sharey\": [], \"sharex\": [], \"axesbgalpha\": null, \"axes\": [{\"scale\": \"linear\", \"tickformat\": null, \"grid\": {\"gridOn\": false}, \"visible\": true, \"fontsize\": 10.0, \"position\": \"bottom\", \"nticks\": 11, \"tickvalues\": null}, {\"scale\": \"linear\", \"tickformat\": null, \"grid\": {\"gridOn\": false}, \"visible\": true, \"fontsize\": 10.0, \"position\": \"left\", \"nticks\": 10, \"tickvalues\": null}], \"lines\": [{\"drawstyle\": \"default\", \"color\": \"#1F77B4\", \"yindex\": 1, \"coordinates\": \"data\", \"dasharray\": \"none\", \"zorder\": 2, \"alpha\": 1, \"xindex\": 0, \"linewidth\": 1.5, \"data\": \"data01\", \"id\": \"el858504691915728\"}, {\"drawstyle\": \"default\", \"color\": \"#1F77B4\", \"yindex\": 1, \"coordinates\": \"axes\", \"dasharray\": \"none\", \"zorder\": 1000002.0, \"alpha\": 1, \"xindex\": 0, \"linewidth\": 1.5, \"data\": \"data02\", \"id\": \"el858504711204048\"}], \"markers\": [], \"id\": \"el858504710443344\", \"ydomain\": [3.2172424778446995, 171.6563217867693], \"collections\": [], \"xscale\": \"date\", \"bbox\": [0.125, 0.125, 0.775, 0.755]}], \"height\": 288.0, \"width\": 432.0, \"plugins\": [{\"type\": \"reset\"}, {\"enabled\": false, \"button\": true, \"type\": \"zoom\"}, {\"enabled\": false, \"button\": true, \"type\": \"boxzoom\"}], \"data\": {\"data02\": [[0.026881720430107503, 0.9379139072847682], [0.08661887694145756, 0.9379139072847682]], \"data03\": [[0.020908004778972505, 0.8942236938925681], [0.2647102747909199, 0.8942236938925681], [0.27068399044205493, 0.8942236938925681], [0.27068399044205493, 0.9034216335540839], [0.27068399044205493, 0.9678072111846947], [0.27068399044205493, 0.9770051508462105], [0.2647102747909199, 0.9770051508462105], [0.020908004778972505, 0.9770051508462105], [0.014934289127837508, 0.9770051508462105], [0.014934289127837508, 0.9678072111846947], [0.014934289127837508, 0.9034216335540839], [0.014934289127837508, 0.8942236938925681], [0.020908004778972505, 0.8942236938925681]], \"data01\": [[444.0, 11.017499874782], [445.0, 10.873564264614], [446.0, 11.940229947113], [447.0, 12.825690977525], [448.0, 15.574732617808], [449.0, 15.683840950874], [450.0, 16.932996424837], [451.0, 17.796610085849], [452.0, 19.723034011231], [453.0, 24.411222456723], [454.0, 23.417809718684], [455.0, 25.456040769822], [456.0, 17.395646600379], [457.0, 16.066812485072], [458.0, 18.441750052855], [459.0, 22.354999454314], [460.0, 24.257005731542], [461.0, 21.518373720209], [462.0, 20.427290389556], [463.0, 21.786967849899], [464.0, 14.606894153362], [465.0, 13.826814551823], [466.0, 11.909386602077], [467.0, 10.968664578475], [468.0, 11.582961200445], [469.0, 11.477579771571], [470.0, 13.509385125826], [471.0, 16.170908774569], [472.0, 17.453477872322], [473.0, 18.304240139569], [474.0, 20.997892272724], [475.0, 21.6173294522], [476.0, 23.820058343531], [477.0, 24.22487724713], [478.0, 25.691221275723], [479.0, 27.081999108977], [480.0, 24.682772406979], [481.0, 26.296521922057], [482.0, 30.200775347881], [483.0, 33.553703981184], [484.0, 33.012660303675], [485.0, 32.325110737244], [486.0, 33.060210460605], [487.0, 31.24173824285], [488.0, 36.465829808345], [489.0, 38.680124954064], [490.0, 39.98711169997], [491.0, 41.453455728563], [492.0, 43.607349323587], [493.0, 45.392407917553], [494.0, 44.788071125751], [495.0, 44.996584989589], [496.0, 44.701002932993], [497.0, 43.138273451162], [498.0, 50.182122373789], [499.0, 49.456018626063], [500.0, 49.00493470491], [501.0, 52.019871682192], [502.0, 49.118026970042], [503.0, 52.048144748475], [504.0, 58.664042258726], [505.0, 69.711100339167], [506.0, 77.050531318391], [507.0, 75.049569309172], [508.0, 74.246357198856], [509.0, 75.052139587925], [510.0, 78.491172559453], [511.0, 85.857594115654], [512.0, 86.098295836876], [513.0, 76.83353816507], [514.0, 75.896485214554], [515.0, 69.009794690466], [516.0, 59.065900168086], [517.0, 57.562728311726], [518.0, 57.727044210395], [519.0, 57.742693343602], [520.0, 59.041313847026], [521.0, 52.056549256254], [522.0, 59.40824208744], [523.0, 64.384993720396], [524.0, 63.001924723734], [525.0, 69.074424870362], [526.0, 73.914215436527], [527.0, 74.572181819196], [528.0, 66.541004275586], [529.0, 70.365411763138], [530.0, 71.76940390268], [531.0, 78.903021106928], [532.0, 85.114261733663], [533.0, 87.468686256501], [534.0, 89.98177559584], [535.0, 96.956206806577], [536.0, 95.30085693427], [537.0, 102.15873497669], [538.0, 112.98399738955], [539.0, 104.8614616317], [540.0, 111.30248998705], [541.0, 122.5157567099], [542.0, 118.67223733001], [543.0, 119.35892069317], [544.0, 124.76735316852], [545.0, 120.11778685264], [546.0, 116.16733143492], [547.0, 108.47643694077], [548.0, 105.77318412236], [549.0, 114.96039565823], [550.0, 114.29538877569], [551.0, 101.69680999602], [552.0, 94.044912454993], [553.0, 93.919781198699], [554.0, 105.86737979984], [555.0, 91.054300233386], [556.0, 97.591938528951], [557.0, 93.428693404443], [558.0, 101.84313953637], [559.0, 104.24847718874], [560.0, 111.07719459177], [561.0, 111.55864373242], [562.0, 109.15491652711], [563.0, 114.38945378366], [564.0, 119.85115020417], [565.0, 135.8803615489], [566.0, 142.49633360184], [567.0, 142.48641460326], [568.0, 152.14268890314], [569.0, 143.43800769724], [570.0, 148.24848941629], [571.0, 164.0], [572.0, 154.12], [573.0, 156.405]]}, \"id\": \"el858504553863504\"});\n",
       "   }(mpld3);\n",
       "}else if(typeof define === \"function\" && define.amd){\n",
       "   // require.js is available: use it to load d3/mpld3\n",
       "   require.config({paths: {d3: \"https://mpld3.github.io/js/d3.v3.min\"}});\n",
       "   require([\"d3\"], function(d3){\n",
       "      window.d3 = d3;\n",
       "      mpld3_load_lib(\"https://mpld3.github.io/js/mpld3.v0.3.js\", function(){\n",
       "         \n",
       "         mpld3.draw_figure(\"fig_el8585045538635041768003994\", {\"axes\": [{\"xlim\": [444.0, 573.0], \"yscale\": \"linear\", \"axesbg\": \"#FFFFFF\", \"texts\": [{\"v_baseline\": \"hanging\", \"h_anchor\": \"middle\", \"color\": \"#000000\", \"text\": \"Date\", \"coordinates\": \"axes\", \"zorder\": 3, \"alpha\": 1, \"fontsize\": 10.0, \"position\": [0.49999999999999994, -0.09657836644591611], \"rotation\": -0.0, \"id\": \"el858504711614672\"}, {\"v_baseline\": \"auto\", \"h_anchor\": \"start\", \"color\": \"#000000\", \"text\": \"Adj. Close\", \"coordinates\": \"axes\", \"zorder\": 1000003.0, \"alpha\": 1, \"fontsize\": 10.0, \"position\": [0.11051373954599761, 0.9218175128771156], \"rotation\": -0.0, \"id\": \"el858504711203152\"}], \"zoomable\": true, \"images\": [], \"xdomain\": [[2007, 0, 31, 0, 0, 0, 0], [2017, 9, 31, 0, 0, 0, 0]], \"ylim\": [3.2172424778446995, 171.6563217867693], \"paths\": [{\"edgecolor\": \"#CCCCCC\", \"facecolor\": \"#FFFFFF\", \"edgewidth\": 1.0, \"pathcodes\": [\"M\", \"L\", \"S\", \"L\", \"S\", \"L\", \"S\", \"L\", \"S\", \"Z\"], \"yindex\": 1, \"coordinates\": \"axes\", \"dasharray\": \"none\", \"zorder\": 1000000.0, \"alpha\": 0.8, \"xindex\": 0, \"data\": \"data03\", \"id\": \"el858504711135056\"}], \"sharey\": [], \"sharex\": [], \"axesbgalpha\": null, \"axes\": [{\"scale\": \"linear\", \"tickformat\": null, \"grid\": {\"gridOn\": false}, \"visible\": true, \"fontsize\": 10.0, \"position\": \"bottom\", \"nticks\": 11, \"tickvalues\": null}, {\"scale\": \"linear\", \"tickformat\": null, \"grid\": {\"gridOn\": false}, \"visible\": true, \"fontsize\": 10.0, \"position\": \"left\", \"nticks\": 10, \"tickvalues\": null}], \"lines\": [{\"drawstyle\": \"default\", \"color\": \"#1F77B4\", \"yindex\": 1, \"coordinates\": \"data\", \"dasharray\": \"none\", \"zorder\": 2, \"alpha\": 1, \"xindex\": 0, \"linewidth\": 1.5, \"data\": \"data01\", \"id\": \"el858504691915728\"}, {\"drawstyle\": \"default\", \"color\": \"#1F77B4\", \"yindex\": 1, \"coordinates\": \"axes\", \"dasharray\": \"none\", \"zorder\": 1000002.0, \"alpha\": 1, \"xindex\": 0, \"linewidth\": 1.5, \"data\": \"data02\", \"id\": \"el858504711204048\"}], \"markers\": [], \"id\": \"el858504710443344\", \"ydomain\": [3.2172424778446995, 171.6563217867693], \"collections\": [], \"xscale\": \"date\", \"bbox\": [0.125, 0.125, 0.775, 0.755]}], \"height\": 288.0, \"width\": 432.0, \"plugins\": [{\"type\": \"reset\"}, {\"enabled\": false, \"button\": true, \"type\": \"zoom\"}, {\"enabled\": false, \"button\": true, \"type\": \"boxzoom\"}], \"data\": {\"data02\": [[0.026881720430107503, 0.9379139072847682], [0.08661887694145756, 0.9379139072847682]], \"data03\": [[0.020908004778972505, 0.8942236938925681], [0.2647102747909199, 0.8942236938925681], [0.27068399044205493, 0.8942236938925681], [0.27068399044205493, 0.9034216335540839], [0.27068399044205493, 0.9678072111846947], [0.27068399044205493, 0.9770051508462105], [0.2647102747909199, 0.9770051508462105], [0.020908004778972505, 0.9770051508462105], [0.014934289127837508, 0.9770051508462105], [0.014934289127837508, 0.9678072111846947], [0.014934289127837508, 0.9034216335540839], [0.014934289127837508, 0.8942236938925681], [0.020908004778972505, 0.8942236938925681]], \"data01\": [[444.0, 11.017499874782], [445.0, 10.873564264614], [446.0, 11.940229947113], [447.0, 12.825690977525], [448.0, 15.574732617808], [449.0, 15.683840950874], [450.0, 16.932996424837], [451.0, 17.796610085849], [452.0, 19.723034011231], [453.0, 24.411222456723], [454.0, 23.417809718684], [455.0, 25.456040769822], [456.0, 17.395646600379], [457.0, 16.066812485072], [458.0, 18.441750052855], [459.0, 22.354999454314], [460.0, 24.257005731542], [461.0, 21.518373720209], [462.0, 20.427290389556], [463.0, 21.786967849899], [464.0, 14.606894153362], [465.0, 13.826814551823], [466.0, 11.909386602077], [467.0, 10.968664578475], [468.0, 11.582961200445], [469.0, 11.477579771571], [470.0, 13.509385125826], [471.0, 16.170908774569], [472.0, 17.453477872322], [473.0, 18.304240139569], [474.0, 20.997892272724], [475.0, 21.6173294522], [476.0, 23.820058343531], [477.0, 24.22487724713], [478.0, 25.691221275723], [479.0, 27.081999108977], [480.0, 24.682772406979], [481.0, 26.296521922057], [482.0, 30.200775347881], [483.0, 33.553703981184], [484.0, 33.012660303675], [485.0, 32.325110737244], [486.0, 33.060210460605], [487.0, 31.24173824285], [488.0, 36.465829808345], [489.0, 38.680124954064], [490.0, 39.98711169997], [491.0, 41.453455728563], [492.0, 43.607349323587], [493.0, 45.392407917553], [494.0, 44.788071125751], [495.0, 44.996584989589], [496.0, 44.701002932993], [497.0, 43.138273451162], [498.0, 50.182122373789], [499.0, 49.456018626063], [500.0, 49.00493470491], [501.0, 52.019871682192], [502.0, 49.118026970042], [503.0, 52.048144748475], [504.0, 58.664042258726], [505.0, 69.711100339167], [506.0, 77.050531318391], [507.0, 75.049569309172], [508.0, 74.246357198856], [509.0, 75.052139587925], [510.0, 78.491172559453], [511.0, 85.857594115654], [512.0, 86.098295836876], [513.0, 76.83353816507], [514.0, 75.896485214554], [515.0, 69.009794690466], [516.0, 59.065900168086], [517.0, 57.562728311726], [518.0, 57.727044210395], [519.0, 57.742693343602], [520.0, 59.041313847026], [521.0, 52.056549256254], [522.0, 59.40824208744], [523.0, 64.384993720396], [524.0, 63.001924723734], [525.0, 69.074424870362], [526.0, 73.914215436527], [527.0, 74.572181819196], [528.0, 66.541004275586], [529.0, 70.365411763138], [530.0, 71.76940390268], [531.0, 78.903021106928], [532.0, 85.114261733663], [533.0, 87.468686256501], [534.0, 89.98177559584], [535.0, 96.956206806577], [536.0, 95.30085693427], [537.0, 102.15873497669], [538.0, 112.98399738955], [539.0, 104.8614616317], [540.0, 111.30248998705], [541.0, 122.5157567099], [542.0, 118.67223733001], [543.0, 119.35892069317], [544.0, 124.76735316852], [545.0, 120.11778685264], [546.0, 116.16733143492], [547.0, 108.47643694077], [548.0, 105.77318412236], [549.0, 114.96039565823], [550.0, 114.29538877569], [551.0, 101.69680999602], [552.0, 94.044912454993], [553.0, 93.919781198699], [554.0, 105.86737979984], [555.0, 91.054300233386], [556.0, 97.591938528951], [557.0, 93.428693404443], [558.0, 101.84313953637], [559.0, 104.24847718874], [560.0, 111.07719459177], [561.0, 111.55864373242], [562.0, 109.15491652711], [563.0, 114.38945378366], [564.0, 119.85115020417], [565.0, 135.8803615489], [566.0, 142.49633360184], [567.0, 142.48641460326], [568.0, 152.14268890314], [569.0, 143.43800769724], [570.0, 148.24848941629], [571.0, 164.0], [572.0, 154.12], [573.0, 156.405]]}, \"id\": \"el858504553863504\"});\n",
       "      });\n",
       "    });\n",
       "}else{\n",
       "    // require.js not available: dynamically load d3 & mpld3\n",
       "    mpld3_load_lib(\"https://mpld3.github.io/js/d3.v3.min.js\", function(){\n",
       "         mpld3_load_lib(\"https://mpld3.github.io/js/mpld3.v0.3.js\", function(){\n",
       "                 \n",
       "                 mpld3.draw_figure(\"fig_el8585045538635041768003994\", {\"axes\": [{\"xlim\": [444.0, 573.0], \"yscale\": \"linear\", \"axesbg\": \"#FFFFFF\", \"texts\": [{\"v_baseline\": \"hanging\", \"h_anchor\": \"middle\", \"color\": \"#000000\", \"text\": \"Date\", \"coordinates\": \"axes\", \"zorder\": 3, \"alpha\": 1, \"fontsize\": 10.0, \"position\": [0.49999999999999994, -0.09657836644591611], \"rotation\": -0.0, \"id\": \"el858504711614672\"}, {\"v_baseline\": \"auto\", \"h_anchor\": \"start\", \"color\": \"#000000\", \"text\": \"Adj. Close\", \"coordinates\": \"axes\", \"zorder\": 1000003.0, \"alpha\": 1, \"fontsize\": 10.0, \"position\": [0.11051373954599761, 0.9218175128771156], \"rotation\": -0.0, \"id\": \"el858504711203152\"}], \"zoomable\": true, \"images\": [], \"xdomain\": [[2007, 0, 31, 0, 0, 0, 0], [2017, 9, 31, 0, 0, 0, 0]], \"ylim\": [3.2172424778446995, 171.6563217867693], \"paths\": [{\"edgecolor\": \"#CCCCCC\", \"facecolor\": \"#FFFFFF\", \"edgewidth\": 1.0, \"pathcodes\": [\"M\", \"L\", \"S\", \"L\", \"S\", \"L\", \"S\", \"L\", \"S\", \"Z\"], \"yindex\": 1, \"coordinates\": \"axes\", \"dasharray\": \"none\", \"zorder\": 1000000.0, \"alpha\": 0.8, \"xindex\": 0, \"data\": \"data03\", \"id\": \"el858504711135056\"}], \"sharey\": [], \"sharex\": [], \"axesbgalpha\": null, \"axes\": [{\"scale\": \"linear\", \"tickformat\": null, \"grid\": {\"gridOn\": false}, \"visible\": true, \"fontsize\": 10.0, \"position\": \"bottom\", \"nticks\": 11, \"tickvalues\": null}, {\"scale\": \"linear\", \"tickformat\": null, \"grid\": {\"gridOn\": false}, \"visible\": true, \"fontsize\": 10.0, \"position\": \"left\", \"nticks\": 10, \"tickvalues\": null}], \"lines\": [{\"drawstyle\": \"default\", \"color\": \"#1F77B4\", \"yindex\": 1, \"coordinates\": \"data\", \"dasharray\": \"none\", \"zorder\": 2, \"alpha\": 1, \"xindex\": 0, \"linewidth\": 1.5, \"data\": \"data01\", \"id\": \"el858504691915728\"}, {\"drawstyle\": \"default\", \"color\": \"#1F77B4\", \"yindex\": 1, \"coordinates\": \"axes\", \"dasharray\": \"none\", \"zorder\": 1000002.0, \"alpha\": 1, \"xindex\": 0, \"linewidth\": 1.5, \"data\": \"data02\", \"id\": \"el858504711204048\"}], \"markers\": [], \"id\": \"el858504710443344\", \"ydomain\": [3.2172424778446995, 171.6563217867693], \"collections\": [], \"xscale\": \"date\", \"bbox\": [0.125, 0.125, 0.775, 0.755]}], \"height\": 288.0, \"width\": 432.0, \"plugins\": [{\"type\": \"reset\"}, {\"enabled\": false, \"button\": true, \"type\": \"zoom\"}, {\"enabled\": false, \"button\": true, \"type\": \"boxzoom\"}], \"data\": {\"data02\": [[0.026881720430107503, 0.9379139072847682], [0.08661887694145756, 0.9379139072847682]], \"data03\": [[0.020908004778972505, 0.8942236938925681], [0.2647102747909199, 0.8942236938925681], [0.27068399044205493, 0.8942236938925681], [0.27068399044205493, 0.9034216335540839], [0.27068399044205493, 0.9678072111846947], [0.27068399044205493, 0.9770051508462105], [0.2647102747909199, 0.9770051508462105], [0.020908004778972505, 0.9770051508462105], [0.014934289127837508, 0.9770051508462105], [0.014934289127837508, 0.9678072111846947], [0.014934289127837508, 0.9034216335540839], [0.014934289127837508, 0.8942236938925681], [0.020908004778972505, 0.8942236938925681]], \"data01\": [[444.0, 11.017499874782], [445.0, 10.873564264614], [446.0, 11.940229947113], [447.0, 12.825690977525], [448.0, 15.574732617808], [449.0, 15.683840950874], [450.0, 16.932996424837], [451.0, 17.796610085849], [452.0, 19.723034011231], [453.0, 24.411222456723], [454.0, 23.417809718684], [455.0, 25.456040769822], [456.0, 17.395646600379], [457.0, 16.066812485072], [458.0, 18.441750052855], [459.0, 22.354999454314], [460.0, 24.257005731542], [461.0, 21.518373720209], [462.0, 20.427290389556], [463.0, 21.786967849899], [464.0, 14.606894153362], [465.0, 13.826814551823], [466.0, 11.909386602077], [467.0, 10.968664578475], [468.0, 11.582961200445], [469.0, 11.477579771571], [470.0, 13.509385125826], [471.0, 16.170908774569], [472.0, 17.453477872322], [473.0, 18.304240139569], [474.0, 20.997892272724], [475.0, 21.6173294522], [476.0, 23.820058343531], [477.0, 24.22487724713], [478.0, 25.691221275723], [479.0, 27.081999108977], [480.0, 24.682772406979], [481.0, 26.296521922057], [482.0, 30.200775347881], [483.0, 33.553703981184], [484.0, 33.012660303675], [485.0, 32.325110737244], [486.0, 33.060210460605], [487.0, 31.24173824285], [488.0, 36.465829808345], [489.0, 38.680124954064], [490.0, 39.98711169997], [491.0, 41.453455728563], [492.0, 43.607349323587], [493.0, 45.392407917553], [494.0, 44.788071125751], [495.0, 44.996584989589], [496.0, 44.701002932993], [497.0, 43.138273451162], [498.0, 50.182122373789], [499.0, 49.456018626063], [500.0, 49.00493470491], [501.0, 52.019871682192], [502.0, 49.118026970042], [503.0, 52.048144748475], [504.0, 58.664042258726], [505.0, 69.711100339167], [506.0, 77.050531318391], [507.0, 75.049569309172], [508.0, 74.246357198856], [509.0, 75.052139587925], [510.0, 78.491172559453], [511.0, 85.857594115654], [512.0, 86.098295836876], [513.0, 76.83353816507], [514.0, 75.896485214554], [515.0, 69.009794690466], [516.0, 59.065900168086], [517.0, 57.562728311726], [518.0, 57.727044210395], [519.0, 57.742693343602], [520.0, 59.041313847026], [521.0, 52.056549256254], [522.0, 59.40824208744], [523.0, 64.384993720396], [524.0, 63.001924723734], [525.0, 69.074424870362], [526.0, 73.914215436527], [527.0, 74.572181819196], [528.0, 66.541004275586], [529.0, 70.365411763138], [530.0, 71.76940390268], [531.0, 78.903021106928], [532.0, 85.114261733663], [533.0, 87.468686256501], [534.0, 89.98177559584], [535.0, 96.956206806577], [536.0, 95.30085693427], [537.0, 102.15873497669], [538.0, 112.98399738955], [539.0, 104.8614616317], [540.0, 111.30248998705], [541.0, 122.5157567099], [542.0, 118.67223733001], [543.0, 119.35892069317], [544.0, 124.76735316852], [545.0, 120.11778685264], [546.0, 116.16733143492], [547.0, 108.47643694077], [548.0, 105.77318412236], [549.0, 114.96039565823], [550.0, 114.29538877569], [551.0, 101.69680999602], [552.0, 94.044912454993], [553.0, 93.919781198699], [554.0, 105.86737979984], [555.0, 91.054300233386], [556.0, 97.591938528951], [557.0, 93.428693404443], [558.0, 101.84313953637], [559.0, 104.24847718874], [560.0, 111.07719459177], [561.0, 111.55864373242], [562.0, 109.15491652711], [563.0, 114.38945378366], [564.0, 119.85115020417], [565.0, 135.8803615489], [566.0, 142.49633360184], [567.0, 142.48641460326], [568.0, 152.14268890314], [569.0, 143.43800769724], [570.0, 148.24848941629], [571.0, 164.0], [572.0, 154.12], [573.0, 156.405]]}, \"id\": \"el858504553863504\"});\n",
       "            })\n",
       "         });\n",
       "}\n",
       "</script>"
      ],
      "text/plain": [
       "<matplotlib.figure.Figure at 0x10f6e7150>"
      ]
     },
     "metadata": {},
     "output_type": "display_data"
    }
   ],
   "source": [
    "data = quandl.get(\"WIKI/AAPL.11\", collapse='monthly', start_date = '2007-01-01')\n",
    "\n",
    "# Now plot the data:\n",
    "data.plot()"
   ]
  },
  {
   "cell_type": "markdown",
   "metadata": {},
   "source": [
    "Great! Let's now focus on the full portfolio.\n",
    "\n",
    "\n",
    "## <font color='green'>You're now finished with this section! Let your facilitators know, and have a break.</font>\n",
    "\n",
    "![done](https://media.giphy.com/media/3o7TKLpxzkbvjwEgSc/giphy.gif)"
   ]
  },
  {
   "cell_type": "markdown",
   "metadata": {},
   "source": [
    "## 2. Sourcing more Data\n",
    "\n",
    "Now that we have access to stock data, let's pull in our list of Warren's 2003 aquisitions.\n",
    "\n",
    "First, we need to bring in the cleaned CSV file we exported from Open Refine, and store it as a variable. Let's call it `buffett`.\n",
    "\n",
    "Now let's take the output of the Open Refine scrubbing step and replace **`your_clean_csv.csv`** with that output:"
   ]
  },
  {
   "cell_type": "code",
   "execution_count": 24,
   "metadata": {},
   "outputs": [
    {
     "data": {
      "text/html": [
       "<div>\n",
       "<style>\n",
       "    .dataframe thead tr:only-child th {\n",
       "        text-align: right;\n",
       "    }\n",
       "\n",
       "    .dataframe thead th {\n",
       "        text-align: left;\n",
       "    }\n",
       "\n",
       "    .dataframe tbody tr th {\n",
       "        vertical-align: top;\n",
       "    }\n",
       "</style>\n",
       "<table border=\"1\" class=\"dataframe\">\n",
       "  <thead>\n",
       "    <tr style=\"text-align: right;\">\n",
       "      <th></th>\n",
       "      <th>COMPANY</th>\n",
       "      <th>TICKER</th>\n",
       "      <th>COMPANY.1</th>\n",
       "      <th># OF SHARES</th>\n",
       "      <th>PRICE (8/24/2017)</th>\n",
       "      <th>CITY</th>\n",
       "      <th>PURCHASE DATE</th>\n",
       "      <th>REGION</th>\n",
       "      <th>CEO</th>\n",
       "      <th>EMPLOYEES</th>\n",
       "      <th>WARREN COMMENT</th>\n",
       "    </tr>\n",
       "  </thead>\n",
       "  <tbody>\n",
       "    <tr>\n",
       "      <th>0</th>\n",
       "      <td>Kraft Heinz</td>\n",
       "      <td>KHC</td>\n",
       "      <td>Kraft Heinz (KHC)</td>\n",
       "      <td>325,634,818</td>\n",
       "      <td>$82.80</td>\n",
       "      <td>Chicago, IL</td>\n",
       "      <td>9/27/2005</td>\n",
       "      <td>Central</td>\n",
       "      <td>Bernard Hees (2015–)</td>\n",
       "      <td>41,000 (2017)</td>\n",
       "      <td>Without a doubt</td>\n",
       "    </tr>\n",
       "    <tr>\n",
       "      <th>1</th>\n",
       "      <td>Wells Fargo</td>\n",
       "      <td>WFC</td>\n",
       "      <td>Wells Fargo (WFC)</td>\n",
       "      <td>467,987,270</td>\n",
       "      <td>$52.16</td>\n",
       "      <td>San Francisco, CA</td>\n",
       "      <td>7/7/2002</td>\n",
       "      <td>West</td>\n",
       "      <td>Timothy J. Sloan (Oct 12, 2016–)</td>\n",
       "      <td>NaN</td>\n",
       "      <td>It is decidedly so</td>\n",
       "    </tr>\n",
       "    <tr>\n",
       "      <th>2</th>\n",
       "      <td>Apple Inc.</td>\n",
       "      <td>AAPL</td>\n",
       "      <td>Apple Inc. (AAPL)</td>\n",
       "      <td>130,191,960</td>\n",
       "      <td>$159.27</td>\n",
       "      <td>Cupertino, CA</td>\n",
       "      <td>9/23/2006</td>\n",
       "      <td>West</td>\n",
       "      <td>Tim Cook</td>\n",
       "      <td>NaN</td>\n",
       "      <td>Concentrate and ask again</td>\n",
       "    </tr>\n",
       "    <tr>\n",
       "      <th>3</th>\n",
       "      <td>The Coca Cola Company</td>\n",
       "      <td>KO</td>\n",
       "      <td>The Coca Cola Company (KO)</td>\n",
       "      <td>400,000,000</td>\n",
       "      <td>$45.41</td>\n",
       "      <td>Atlanta, GA</td>\n",
       "      <td>12/10/2003</td>\n",
       "      <td>Southeast</td>\n",
       "      <td>James Quincey (May 1, 2017–)</td>\n",
       "      <td>NaN</td>\n",
       "      <td>Reply hazy try again</td>\n",
       "    </tr>\n",
       "    <tr>\n",
       "      <th>4</th>\n",
       "      <td>American Express Co</td>\n",
       "      <td>AXP</td>\n",
       "      <td>American Express Co (AXP)</td>\n",
       "      <td>151,610,700</td>\n",
       "      <td>$85.36</td>\n",
       "      <td>New York City, NY</td>\n",
       "      <td>6/2/2013</td>\n",
       "      <td>Northeast</td>\n",
       "      <td>Kenneth I. Chenault (Jan 2001–)</td>\n",
       "      <td>NaN</td>\n",
       "      <td>It is decidedly so</td>\n",
       "    </tr>\n",
       "  </tbody>\n",
       "</table>\n",
       "</div>"
      ],
      "text/plain": [
       "                 COMPANY TICKER                   COMPANY.1  # OF SHARES  \\\n",
       "0            Kraft Heinz    KHC           Kraft Heinz (KHC)  325,634,818   \n",
       "1            Wells Fargo    WFC           Wells Fargo (WFC)  467,987,270   \n",
       "2             Apple Inc.   AAPL           Apple Inc. (AAPL)  130,191,960   \n",
       "3  The Coca Cola Company     KO  The Coca Cola Company (KO)  400,000,000   \n",
       "4    American Express Co    AXP   American Express Co (AXP)  151,610,700   \n",
       "\n",
       "  PRICE (8/24/2017)               CITY PURCHASE DATE     REGION  \\\n",
       "0            $82.80        Chicago, IL     9/27/2005    Central   \n",
       "1            $52.16  San Francisco, CA      7/7/2002       West   \n",
       "2           $159.27      Cupertino, CA     9/23/2006       West   \n",
       "3            $45.41        Atlanta, GA    12/10/2003  Southeast   \n",
       "4            $85.36  New York City, NY      6/2/2013  Northeast   \n",
       "\n",
       "                                CEO      EMPLOYEES             WARREN COMMENT  \n",
       "0              Bernard Hees (2015–)  41,000 (2017)            Without a doubt  \n",
       "1  Timothy J. Sloan (Oct 12, 2016–)            NaN         It is decidedly so  \n",
       "2                          Tim Cook            NaN  Concentrate and ask again  \n",
       "3      James Quincey (May 1, 2017–)            NaN       Reply hazy try again  \n",
       "4   Kenneth I. Chenault (Jan 2001–)            NaN         It is decidedly so  "
      ]
     },
     "execution_count": 24,
     "metadata": {},
     "output_type": "execute_result"
    }
   ],
   "source": [
    "from pandas import read_csv\n",
    "buffett = read_csv('WB_portfolio_for_Decoded - 2017_0824.csv')\n",
    "buffett.head(5)"
   ]
  },
  {
   "cell_type": "markdown",
   "metadata": {},
   "source": [
    "Next we want to choose some of those stocks for our analysis. We could either type out the ticker symbol (e.g. `MSFT`) by hand, or we could refer to the `buffett` variable in order to select the ticker symbols. Let's choose the first 3 stocks from `buffett`. Replace `buffett['TICKER'][0:0]` with `buffett['TICKER']`**`[0:3]`**. If your column is called something different (like `Ticker`) then update accordingly:"
   ]
  },
  {
   "cell_type": "code",
   "execution_count": 25,
   "metadata": {},
   "outputs": [
    {
     "data": {
      "text/plain": [
       "['WIKI/KHC.11', 'WIKI/WFC.11', 'WIKI/AAPL.11']"
      ]
     },
     "execution_count": 25,
     "metadata": {},
     "output_type": "execute_result"
    }
   ],
   "source": [
    "symbols = [ 'WIKI/%s.11' % ticker for ticker in buffett['TICKER'][0:3] ]\n",
    "symbols"
   ]
  },
  {
   "cell_type": "markdown",
   "metadata": {},
   "source": [
    "We can now load in the symbol data from quandl.\n",
    "\n",
    "Let's save our progress by pulling this in to a new dataframe, `data2`. This means that if we run in to any problems with `data2`, we'll always have our original `data` to fall back on:"
   ]
  },
  {
   "cell_type": "code",
   "execution_count": 26,
   "metadata": {},
   "outputs": [
    {
     "data": {
      "text/html": [
       "<div>\n",
       "<style>\n",
       "    .dataframe thead tr:only-child th {\n",
       "        text-align: right;\n",
       "    }\n",
       "\n",
       "    .dataframe thead th {\n",
       "        text-align: left;\n",
       "    }\n",
       "\n",
       "    .dataframe tbody tr th {\n",
       "        vertical-align: top;\n",
       "    }\n",
       "</style>\n",
       "<table border=\"1\" class=\"dataframe\">\n",
       "  <thead>\n",
       "    <tr style=\"text-align: right;\">\n",
       "      <th></th>\n",
       "      <th>WIKI/KHC - Adj. Close</th>\n",
       "      <th>WIKI/WFC - Adj. Close</th>\n",
       "      <th>WIKI/AAPL - Adj. Close</th>\n",
       "    </tr>\n",
       "    <tr>\n",
       "      <th>Date</th>\n",
       "      <th></th>\n",
       "      <th></th>\n",
       "      <th></th>\n",
       "    </tr>\n",
       "  </thead>\n",
       "  <tbody>\n",
       "    <tr>\n",
       "      <th>2007-10-31</th>\n",
       "      <td>NaN</td>\n",
       "      <td>26.129162</td>\n",
       "      <td>24.411222</td>\n",
       "    </tr>\n",
       "    <tr>\n",
       "      <th>2007-11-30</th>\n",
       "      <td>NaN</td>\n",
       "      <td>25.166378</td>\n",
       "      <td>23.417810</td>\n",
       "    </tr>\n",
       "    <tr>\n",
       "      <th>2007-12-31</th>\n",
       "      <td>NaN</td>\n",
       "      <td>23.428090</td>\n",
       "      <td>25.456041</td>\n",
       "    </tr>\n",
       "    <tr>\n",
       "      <th>2008-01-31</th>\n",
       "      <td>NaN</td>\n",
       "      <td>26.446814</td>\n",
       "      <td>17.395647</td>\n",
       "    </tr>\n",
       "    <tr>\n",
       "      <th>2008-02-29</th>\n",
       "      <td>NaN</td>\n",
       "      <td>22.916878</td>\n",
       "      <td>16.066812</td>\n",
       "    </tr>\n",
       "  </tbody>\n",
       "</table>\n",
       "</div>"
      ],
      "text/plain": [
       "            WIKI/KHC - Adj. Close  WIKI/WFC - Adj. Close  \\\n",
       "Date                                                       \n",
       "2007-10-31                    NaN              26.129162   \n",
       "2007-11-30                    NaN              25.166378   \n",
       "2007-12-31                    NaN              23.428090   \n",
       "2008-01-31                    NaN              26.446814   \n",
       "2008-02-29                    NaN              22.916878   \n",
       "\n",
       "            WIKI/AAPL - Adj. Close  \n",
       "Date                                \n",
       "2007-10-31               24.411222  \n",
       "2007-11-30               23.417810  \n",
       "2007-12-31               25.456041  \n",
       "2008-01-31               17.395647  \n",
       "2008-02-29               16.066812  "
      ]
     },
     "execution_count": 26,
     "metadata": {},
     "output_type": "execute_result"
    }
   ],
   "source": [
    "data2 = quandl.get(symbols, rows=121, collapse='monthly', start_date=start_date)\n",
    "data2.head(5)"
   ]
  },
  {
   "cell_type": "markdown",
   "metadata": {},
   "source": [
    "You might see `NaN` (\"Not a Number\") where you'd expect to see numbers. That just means we have some missing data; we won't worry too much about that at this point. \n",
    "\n",
    "Let's have a look at the end of the data. To do this we look at the \"tail\". Type **`data2.tail(5)`** below and run the cell:"
   ]
  },
  {
   "cell_type": "code",
   "execution_count": 27,
   "metadata": {},
   "outputs": [
    {
     "data": {
      "text/html": [
       "<div>\n",
       "<style>\n",
       "    .dataframe thead tr:only-child th {\n",
       "        text-align: right;\n",
       "    }\n",
       "\n",
       "    .dataframe thead th {\n",
       "        text-align: left;\n",
       "    }\n",
       "\n",
       "    .dataframe tbody tr th {\n",
       "        vertical-align: top;\n",
       "    }\n",
       "</style>\n",
       "<table border=\"1\" class=\"dataframe\">\n",
       "  <thead>\n",
       "    <tr style=\"text-align: right;\">\n",
       "      <th></th>\n",
       "      <th>WIKI/KHC - Adj. Close</th>\n",
       "      <th>WIKI/WFC - Adj. Close</th>\n",
       "      <th>WIKI/AAPL - Adj. Close</th>\n",
       "    </tr>\n",
       "    <tr>\n",
       "      <th>Date</th>\n",
       "      <th></th>\n",
       "      <th></th>\n",
       "      <th></th>\n",
       "    </tr>\n",
       "  </thead>\n",
       "  <tbody>\n",
       "    <tr>\n",
       "      <th>2017-06-30</th>\n",
       "      <td>85.005796</td>\n",
       "      <td>55.009891</td>\n",
       "      <td>143.438008</td>\n",
       "    </tr>\n",
       "    <tr>\n",
       "      <th>2017-07-31</th>\n",
       "      <td>86.832597</td>\n",
       "      <td>53.550505</td>\n",
       "      <td>148.248489</td>\n",
       "    </tr>\n",
       "    <tr>\n",
       "      <th>2017-08-31</th>\n",
       "      <td>80.750000</td>\n",
       "      <td>51.070000</td>\n",
       "      <td>164.000000</td>\n",
       "    </tr>\n",
       "    <tr>\n",
       "      <th>2017-09-30</th>\n",
       "      <td>77.550000</td>\n",
       "      <td>55.150000</td>\n",
       "      <td>154.120000</td>\n",
       "    </tr>\n",
       "    <tr>\n",
       "      <th>2017-10-31</th>\n",
       "      <td>77.330000</td>\n",
       "      <td>55.265000</td>\n",
       "      <td>156.405000</td>\n",
       "    </tr>\n",
       "  </tbody>\n",
       "</table>\n",
       "</div>"
      ],
      "text/plain": [
       "            WIKI/KHC - Adj. Close  WIKI/WFC - Adj. Close  \\\n",
       "Date                                                       \n",
       "2017-06-30              85.005796              55.009891   \n",
       "2017-07-31              86.832597              53.550505   \n",
       "2017-08-31              80.750000              51.070000   \n",
       "2017-09-30              77.550000              55.150000   \n",
       "2017-10-31              77.330000              55.265000   \n",
       "\n",
       "            WIKI/AAPL - Adj. Close  \n",
       "Date                                \n",
       "2017-06-30              143.438008  \n",
       "2017-07-31              148.248489  \n",
       "2017-08-31              164.000000  \n",
       "2017-09-30              154.120000  \n",
       "2017-10-31              156.405000  "
      ]
     },
     "execution_count": 27,
     "metadata": {},
     "output_type": "execute_result"
    }
   ],
   "source": [
    "data2.tail(5)"
   ]
  },
  {
   "cell_type": "markdown",
   "metadata": {},
   "source": [
    "Let's clean up the column name to just their symbol name by removing `WIKI/` and ` - Close` from each column name.\n",
    "\n",
    "We can iterate over the columns using the `for col in data.columns` syntax. To look at the final 5 rows of our dataframe, **replace `#TODO` with `data2.tail(5)`**:"
   ]
  },
  {
   "cell_type": "code",
   "execution_count": 28,
   "metadata": {},
   "outputs": [
    {
     "data": {
      "text/html": [
       "<div>\n",
       "<style>\n",
       "    .dataframe thead tr:only-child th {\n",
       "        text-align: right;\n",
       "    }\n",
       "\n",
       "    .dataframe thead th {\n",
       "        text-align: left;\n",
       "    }\n",
       "\n",
       "    .dataframe tbody tr th {\n",
       "        vertical-align: top;\n",
       "    }\n",
       "</style>\n",
       "<table border=\"1\" class=\"dataframe\">\n",
       "  <thead>\n",
       "    <tr style=\"text-align: right;\">\n",
       "      <th></th>\n",
       "      <th>KHC</th>\n",
       "      <th>WFC</th>\n",
       "      <th>AAPL</th>\n",
       "    </tr>\n",
       "    <tr>\n",
       "      <th>Date</th>\n",
       "      <th></th>\n",
       "      <th></th>\n",
       "      <th></th>\n",
       "    </tr>\n",
       "  </thead>\n",
       "  <tbody>\n",
       "    <tr>\n",
       "      <th>2017-06-30</th>\n",
       "      <td>85.005796</td>\n",
       "      <td>55.009891</td>\n",
       "      <td>143.438008</td>\n",
       "    </tr>\n",
       "    <tr>\n",
       "      <th>2017-07-31</th>\n",
       "      <td>86.832597</td>\n",
       "      <td>53.550505</td>\n",
       "      <td>148.248489</td>\n",
       "    </tr>\n",
       "    <tr>\n",
       "      <th>2017-08-31</th>\n",
       "      <td>80.750000</td>\n",
       "      <td>51.070000</td>\n",
       "      <td>164.000000</td>\n",
       "    </tr>\n",
       "    <tr>\n",
       "      <th>2017-09-30</th>\n",
       "      <td>77.550000</td>\n",
       "      <td>55.150000</td>\n",
       "      <td>154.120000</td>\n",
       "    </tr>\n",
       "    <tr>\n",
       "      <th>2017-10-31</th>\n",
       "      <td>77.330000</td>\n",
       "      <td>55.265000</td>\n",
       "      <td>156.405000</td>\n",
       "    </tr>\n",
       "  </tbody>\n",
       "</table>\n",
       "</div>"
      ],
      "text/plain": [
       "                  KHC        WFC        AAPL\n",
       "Date                                        \n",
       "2017-06-30  85.005796  55.009891  143.438008\n",
       "2017-07-31  86.832597  53.550505  148.248489\n",
       "2017-08-31  80.750000  51.070000  164.000000\n",
       "2017-09-30  77.550000  55.150000  154.120000\n",
       "2017-10-31  77.330000  55.265000  156.405000"
      ]
     },
     "execution_count": 28,
     "metadata": {},
     "output_type": "execute_result"
    }
   ],
   "source": [
    "data2.columns = [col.replace(' - Adj. Close','').replace('WIKI/','') for col in data2.columns]\n",
    "data2.tail(5)"
   ]
  },
  {
   "cell_type": "markdown",
   "metadata": {},
   "source": [
    "Let's have another quick look at the data, to make sure everything looks good.\n",
    "\n",
    "Add the code to plot `data2` (hint: you've used similar code above already for `data`):"
   ]
  },
  {
   "cell_type": "code",
   "execution_count": 29,
   "metadata": {},
   "outputs": [
    {
     "data": {
      "text/plain": [
       "<matplotlib.axes._subplots.AxesSubplot at 0x118de9d10>"
      ]
     },
     "execution_count": 29,
     "metadata": {},
     "output_type": "execute_result"
    },
    {
     "data": {
      "image/png": "[encoded data removed]",
      "text/html": [
       "\n",
       "\n",
       "<style>\n",
       "\n",
       "</style>\n",
       "\n",
       "<div id=\"fig_el8585047130002726388054870\"></div>\n",
       "<script>\n",
       "function mpld3_load_lib(url, callback){\n",
       "  var s = document.createElement('script');\n",
       "  s.src = url;\n",
       "  s.async = true;\n",
       "  s.onreadystatechange = s.onload = callback;\n",
       "  s.onerror = function(){console.warn(\"failed to load library \" + url);};\n",
       "  document.getElementsByTagName(\"head\")[0].appendChild(s);\n",
       "}\n",
       "\n",
       "if(typeof(mpld3) !== \"undefined\" && mpld3._mpld3IsLoaded){\n",
       "   // already loaded: just create the figure\n",
       "   !function(mpld3){\n",
       "       \n",
       "       mpld3.draw_figure(\"fig_el8585047130002726388054870\", {\"axes\": [{\"xlim\": [453.0, 573.0], \"yscale\": \"linear\", \"axesbg\": \"#FFFFFF\", \"texts\": [{\"v_baseline\": \"hanging\", \"h_anchor\": \"middle\", \"color\": \"#000000\", \"text\": \"Date\", \"coordinates\": \"axes\", \"zorder\": 3, \"alpha\": 1, \"fontsize\": 10.0, \"position\": [0.49999999999999994, -0.09657836644591611], \"rotation\": -0.0, \"id\": \"el858504713105488\"}, {\"v_baseline\": \"auto\", \"h_anchor\": \"start\", \"color\": \"#000000\", \"text\": \"KHC\", \"coordinates\": \"axes\", \"zorder\": 1000003.0, \"alpha\": 1, \"fontsize\": 10.0, \"position\": [0.11051373954599761, 0.9218175128771156], \"rotation\": -0.0, \"id\": \"el858504714756688\"}, {\"v_baseline\": \"auto\", \"h_anchor\": \"start\", \"color\": \"#000000\", \"text\": \"WFC\", \"coordinates\": \"axes\", \"zorder\": 1000003.0, \"alpha\": 1, \"fontsize\": 10.0, \"position\": [0.11051373954599761, 0.8528329654157469], \"rotation\": -0.0, \"id\": \"el858504714816656\"}, {\"v_baseline\": \"auto\", \"h_anchor\": \"start\", \"color\": \"#000000\", \"text\": \"AAPL\", \"coordinates\": \"axes\", \"zorder\": 1000003.0, \"alpha\": 1, \"fontsize\": 10.0, \"position\": [0.11051373954599761, 0.7838484179543782], \"rotation\": -0.0, \"id\": \"el858504714819280\"}], \"zoomable\": true, \"images\": [], \"xdomain\": [[2007, 9, 31, 0, 0, 0, 0], [2017, 9, 31, 0, 0, 0, 0]], \"ylim\": [2.2867777196021004, 171.7006296323999], \"paths\": [{\"edgecolor\": \"#CCCCCC\", \"facecolor\": \"#FFFFFF\", \"edgewidth\": 1.0, \"pathcodes\": [\"M\", \"L\", \"S\", \"L\", \"S\", \"L\", \"S\", \"L\", \"S\", \"Z\"], \"yindex\": 1, \"coordinates\": \"axes\", \"dasharray\": \"none\", \"zorder\": 1000000.0, \"alpha\": 0.8, \"xindex\": 0, \"data\": \"data03\", \"id\": \"el858504714665552\"}], \"sharey\": [], \"sharex\": [], \"axesbgalpha\": null, \"axes\": [{\"scale\": \"linear\", \"tickformat\": null, \"grid\": {\"gridOn\": false}, \"visible\": true, \"fontsize\": 10.0, \"position\": \"bottom\", \"nticks\": 10, \"tickvalues\": null}, {\"scale\": \"linear\", \"tickformat\": null, \"grid\": {\"gridOn\": false}, \"visible\": true, \"fontsize\": 10.0, \"position\": \"left\", \"nticks\": 10, \"tickvalues\": null}], \"lines\": [{\"drawstyle\": \"default\", \"color\": \"#1F77B4\", \"yindex\": 1, \"coordinates\": \"data\", \"dasharray\": \"none\", \"zorder\": 2, \"alpha\": 1, \"xindex\": 0, \"linewidth\": 1.5, \"data\": \"data01\", \"id\": \"el858504713246096\"}, {\"drawstyle\": \"default\", \"color\": \"#FF7F0E\", \"yindex\": 2, \"coordinates\": \"data\", \"dasharray\": \"none\", \"zorder\": 2, \"alpha\": 1, \"xindex\": 0, \"linewidth\": 1.5, \"data\": \"data01\", \"id\": \"el858504714665360\"}, {\"drawstyle\": \"default\", \"color\": \"#2CA02C\", \"yindex\": 3, \"coordinates\": \"data\", \"dasharray\": \"none\", \"zorder\": 2, \"alpha\": 1, \"xindex\": 0, \"linewidth\": 1.5, \"data\": \"data01\", \"id\": \"el858504714024144\"}, {\"drawstyle\": \"default\", \"color\": \"#1F77B4\", \"yindex\": 1, \"coordinates\": \"axes\", \"dasharray\": \"none\", \"zorder\": 1000002.0, \"alpha\": 1, \"xindex\": 0, \"linewidth\": 1.5, \"data\": \"data02\", \"id\": \"el858504714757520\"}, {\"drawstyle\": \"default\", \"color\": \"#FF7F0E\", \"yindex\": 2, \"coordinates\": \"axes\", \"dasharray\": \"none\", \"zorder\": 1000002.0, \"alpha\": 1, \"xindex\": 0, \"linewidth\": 1.5, \"data\": \"data02\", \"id\": \"el858504714817552\"}, {\"drawstyle\": \"default\", \"color\": \"#2CA02C\", \"yindex\": 3, \"coordinates\": \"axes\", \"dasharray\": \"none\", \"zorder\": 1000002.0, \"alpha\": 1, \"xindex\": 0, \"linewidth\": 1.5, \"data\": \"data02\", \"id\": \"el858504714817744\"}], \"markers\": [], \"id\": \"el858504712209680\", \"ydomain\": [2.2867777196021004, 171.7006296323999], \"collections\": [], \"xscale\": \"date\", \"bbox\": [0.125, 0.125, 0.775, 0.755]}], \"height\": 288.0, \"width\": 432.0, \"plugins\": [{\"type\": \"reset\"}, {\"enabled\": false, \"button\": true, \"type\": \"zoom\"}, {\"enabled\": false, \"button\": true, \"type\": \"boxzoom\"}], \"data\": {\"data02\": [[0.026881720430107503, 0.9379139072847682, 0.8689293598233996, 0.7999448123620309], [0.08661887694145756, 0.9379139072847682, 0.8689293598233996, 0.7999448123620309]], \"data03\": [[0.020908004778972505, 0.7562545989698307], [0.19190561529271202, 0.7562545989698307], [0.19787933094384705, 0.7562545989698307], [0.19787933094384705, 0.7654525386313465], [0.19787933094384705, 0.9678072111846947], [0.19787933094384705, 0.9770051508462105], [0.19190561529271202, 0.9770051508462105], [0.020908004778972505, 0.9770051508462105], [0.014934289127837508, 0.9770051508462105], [0.014934289127837508, 0.9678072111846947], [0.014934289127837508, 0.7654525386313465], [0.014934289127837508, 0.7562545989698307], [0.020908004778972505, 0.7562545989698307]], \"data01\": [[453.0, NaN, 26.129162153867, 24.411222456723], [454.0, NaN, 25.166378433743, 23.417809718684], [455.0, NaN, 23.428090191635, 25.456040769822], [456.0, NaN, 26.446813969225, 17.395646600379], [457.0, NaN, 22.916878264786, 16.066812485072], [458.0, NaN, 22.814955781912, 18.441750052855], [459.0, NaN, 23.324568196284, 22.354999454314], [460.0, NaN, 21.839512782252, 24.257005731542], [461.0, NaN, 18.813508472198, 21.518373720209], [462.0, NaN, 23.978311640144, 20.427290389556], [463.0, NaN, 24.247286432544, 21.786967849899], [464.0, NaN, 30.062790215176, 14.606894153362], [465.0, NaN, 27.275193360691, 13.826814551823], [466.0, NaN, 23.390226016419, 11.909386602077], [467.0, NaN, 23.867908029216, 10.968664578475], [468.0, NaN, 15.302017020088, 11.582961200445], [469.0, NaN, 9.987407352002, 11.477579771571], [470.0, NaN, 11.753775263844, 13.509385125826], [471.0, NaN, 16.516365381286, 16.170908774569], [472.0, NaN, 21.087051779849, 17.453477872322], [473.0, NaN, 20.061642203104, 18.304240139569], [474.0, NaN, 20.227030844514, 20.997892272724], [475.0, NaN, 22.798086403311, 21.6173294522], [476.0, NaN, 23.344842835948, 23.820058343531], [477.0, NaN, 22.798086403311, 24.22487724713], [478.0, NaN, 23.272169314678, 25.691221275723], [479.0, NaN, 22.400707910241, 27.081999108977], [480.0, NaN, 23.595854979183, 24.682772406979], [481.0, NaN, 22.731513444209, 26.296521922057], [482.0, NaN, 25.874348880168, 30.200775347881], [483.0, NaN, 27.528910392749, 33.553703981184], [484.0, NaN, 23.890473279224, 33.012660303675], [485.0, NaN, 21.31739686121, 32.325110737244], [486.0, NaN, 23.091070896928, 33.060210460605], [487.0, NaN, 19.64544591999, 31.24173824285], [488.0, NaN, 20.95097130703, 36.465829808345], [489.0, NaN, 21.739291748406, 38.680124954064], [490.0, NaN, 22.741515837121, 39.98711169997], [491.0, NaN, 25.900756184946, 41.453455728563], [492.0, NaN, 27.095918538753, 43.607349323587], [493.0, NaN, 27.003395476407, 45.392407917553], [494.0, NaN, 26.601924878653, 44.788071125751], [495.0, NaN, 24.42075159942, 44.996584989589], [496.0, NaN, 23.899191524973, 44.701002932993], [497.0, NaN, 23.638044208345, 43.138273451162], [498.0, NaN, 23.536954924489, 50.182122373789], [499.0, NaN, 22.083565037547, 49.456018626063], [500.0, NaN, 20.408260103664, 49.00493470491], [501.0, NaN, 21.922803452983, 52.019871682192], [502.0, NaN, 21.984155875193, 49.118026970042], [503.0, NaN, 23.429363337986, 52.048144748475], [504.0, NaN, 24.832064698932, 58.664042258726], [505.0, NaN, 26.70711138368, 69.711100339167], [506.0, NaN, 29.227048519308, 77.050531318391], [507.0, NaN, 28.606380382914, 75.049569309172], [508.0, NaN, 27.617624986873, 74.246357198856], [509.0, NaN, 28.815394058067, 75.052139587925], [510.0, NaN, 29.13422467414, 78.491172559453], [511.0, NaN, 29.514551732024, 85.857594115654], [512.0, NaN, 29.948206620828, 86.098295836876], [513.0, NaN, 29.219666407637, 76.83353816507], [514.0, NaN, 28.821283697695, 75.896485214554], [515.0, NaN, 29.842819654262, 69.009794690466], [516.0, NaN, 30.627742687255, 59.065900168086], [517.0, NaN, 30.8475800594, 57.562728311726], [518.0, NaN, 32.527137582588, 57.727044210395], [519.0, NaN, 33.397693576283, 57.742693343602], [520.0, NaN, 35.935834675552, 59.041313847026], [521.0, NaN, 36.57390621603, 52.056549256254], [522.0, NaN, 38.550155570567, 59.40824208744], [523.0, NaN, 36.657933387445, 64.384993720396], [524.0, NaN, 36.872098528949, 63.001924723734], [525.0, NaN, 38.094624545034, 69.074424870362], [526.0, NaN, 39.559129248138, 73.914215436527], [527.0, NaN, 40.799283686175, 74.572181819196], [528.0, NaN, 40.745363928, 66.541004275586], [529.0, NaN, 41.998867254847, 70.365411763138], [530.0, NaN, 45.002663878847, 71.76940390268], [531.0, NaN, 44.912188076919, 78.903021106928], [532.0, NaN, 46.269189547841, 85.114261733663], [533.0, NaN, 47.891071339789, 87.468686256501], [534.0, NaN, 46.378529893365, 89.98177559584], [535.0, NaN, 47.198262137537, 96.956206806577], [536.0, NaN, 47.592804375467, 95.30085693427], [537.0, NaN, 48.712203283084, 102.15873497669], [538.0, NaN, 50.314422309488, 112.98399738955], [539.0, NaN, 50.628425679261, 104.8614616317], [540.0, NaN, 47.950161642963, 111.30248998705], [541.0, NaN, 50.934686156653, 122.5157567099], [542.0, NaN, 50.572128616936, 118.67223733001], [543.0, NaN, 51.222872918992, 119.35892069317], [544.0, NaN, 52.377573352296, 124.76735316852], [545.0, NaN, 52.639648415531, 120.11778685264], [546.0, 74.490493466069, 54.165299676508, 116.16733143492], [547.0, 68.107200896496, 50.240631438077, 108.47643694077], [548.0, 66.120037864559, 48.375331414687, 105.77318412236], [549.0, 73.084481886868, 51.003708720373, 114.96039565823], [550.0, 69.632842445394, 52.264738901248, 114.29538877569], [551.0, 69.307892228966, 51.562816818001, 101.69680999602], [552.0, 74.356433031791, 47.645332758797, 94.044912454993], [553.0, 73.365775968595, 44.856276527438, 93.919781198699], [554.0, 75.384149765237, 46.232939745672, 105.86737979984], [555.0, 74.913958403412, 47.781685866184, 91.054300233386], [556.0, 80.3716622509, 48.865637028736, 97.591938528951], [557.0, 85.482445918496, 45.599578086949, 93.428693404443], [558.0, 83.463251615041, 46.216179185104, 101.84313953637], [559.0, 87.041420911462, 49.333677703594, 104.24847718874], [560.0, 87.060873681807, 43.001874974707, 111.07719459177], [561.0, 86.51619611213, 44.681939195715, 111.55864373242], [562.0, 79.999518046349, 51.824163421622, 109.15491652711], [563.0, 85.554904051527, 53.968814175464, 114.38945378366], [564.0, 87.485082257911, 55.163551125094, 119.85115020417], [565.0, 89.660206937187, 57.066697924081, 135.8803615489], [566.0, 89.558241906473, 54.877892302252, 142.49633360184], [567.0, 89.104582713906, 53.083466071743, 142.48641460326], [568.0, 91.538593974175, 50.770723940011, 152.14268890314], [569.0, 85.005796269727, 55.00989076097, 143.43800769724], [570.0, 86.832596843615, 53.550505461951, 148.24848941629], [571.0, 80.75, 51.07, 164.0], [572.0, 77.55, 55.15, 154.12], [573.0, 77.33, 55.265, 156.405]]}, \"id\": \"el858504713000272\"});\n",
       "   }(mpld3);\n",
       "}else if(typeof define === \"function\" && define.amd){\n",
       "   // require.js is available: use it to load d3/mpld3\n",
       "   require.config({paths: {d3: \"https://mpld3.github.io/js/d3.v3.min\"}});\n",
       "   require([\"d3\"], function(d3){\n",
       "      window.d3 = d3;\n",
       "      mpld3_load_lib(\"https://mpld3.github.io/js/mpld3.v0.3.js\", function(){\n",
       "         \n",
       "         mpld3.draw_figure(\"fig_el8585047130002726388054870\", {\"axes\": [{\"xlim\": [453.0, 573.0], \"yscale\": \"linear\", \"axesbg\": \"#FFFFFF\", \"texts\": [{\"v_baseline\": \"hanging\", \"h_anchor\": \"middle\", \"color\": \"#000000\", \"text\": \"Date\", \"coordinates\": \"axes\", \"zorder\": 3, \"alpha\": 1, \"fontsize\": 10.0, \"position\": [0.49999999999999994, -0.09657836644591611], \"rotation\": -0.0, \"id\": \"el858504713105488\"}, {\"v_baseline\": \"auto\", \"h_anchor\": \"start\", \"color\": \"#000000\", \"text\": \"KHC\", \"coordinates\": \"axes\", \"zorder\": 1000003.0, \"alpha\": 1, \"fontsize\": 10.0, \"position\": [0.11051373954599761, 0.9218175128771156], \"rotation\": -0.0, \"id\": \"el858504714756688\"}, {\"v_baseline\": \"auto\", \"h_anchor\": \"start\", \"color\": \"#000000\", \"text\": \"WFC\", \"coordinates\": \"axes\", \"zorder\": 1000003.0, \"alpha\": 1, \"fontsize\": 10.0, \"position\": [0.11051373954599761, 0.8528329654157469], \"rotation\": -0.0, \"id\": \"el858504714816656\"}, {\"v_baseline\": \"auto\", \"h_anchor\": \"start\", \"color\": \"#000000\", \"text\": \"AAPL\", \"coordinates\": \"axes\", \"zorder\": 1000003.0, \"alpha\": 1, \"fontsize\": 10.0, \"position\": [0.11051373954599761, 0.7838484179543782], \"rotation\": -0.0, \"id\": \"el858504714819280\"}], \"zoomable\": true, \"images\": [], \"xdomain\": [[2007, 9, 31, 0, 0, 0, 0], [2017, 9, 31, 0, 0, 0, 0]], \"ylim\": [2.2867777196021004, 171.7006296323999], \"paths\": [{\"edgecolor\": \"#CCCCCC\", \"facecolor\": \"#FFFFFF\", \"edgewidth\": 1.0, \"pathcodes\": [\"M\", \"L\", \"S\", \"L\", \"S\", \"L\", \"S\", \"L\", \"S\", \"Z\"], \"yindex\": 1, \"coordinates\": \"axes\", \"dasharray\": \"none\", \"zorder\": 1000000.0, \"alpha\": 0.8, \"xindex\": 0, \"data\": \"data03\", \"id\": \"el858504714665552\"}], \"sharey\": [], \"sharex\": [], \"axesbgalpha\": null, \"axes\": [{\"scale\": \"linear\", \"tickformat\": null, \"grid\": {\"gridOn\": false}, \"visible\": true, \"fontsize\": 10.0, \"position\": \"bottom\", \"nticks\": 10, \"tickvalues\": null}, {\"scale\": \"linear\", \"tickformat\": null, \"grid\": {\"gridOn\": false}, \"visible\": true, \"fontsize\": 10.0, \"position\": \"left\", \"nticks\": 10, \"tickvalues\": null}], \"lines\": [{\"drawstyle\": \"default\", \"color\": \"#1F77B4\", \"yindex\": 1, \"coordinates\": \"data\", \"dasharray\": \"none\", \"zorder\": 2, \"alpha\": 1, \"xindex\": 0, \"linewidth\": 1.5, \"data\": \"data01\", \"id\": \"el858504713246096\"}, {\"drawstyle\": \"default\", \"color\": \"#FF7F0E\", \"yindex\": 2, \"coordinates\": \"data\", \"dasharray\": \"none\", \"zorder\": 2, \"alpha\": 1, \"xindex\": 0, \"linewidth\": 1.5, \"data\": \"data01\", \"id\": \"el858504714665360\"}, {\"drawstyle\": \"default\", \"color\": \"#2CA02C\", \"yindex\": 3, \"coordinates\": \"data\", \"dasharray\": \"none\", \"zorder\": 2, \"alpha\": 1, \"xindex\": 0, \"linewidth\": 1.5, \"data\": \"data01\", \"id\": \"el858504714024144\"}, {\"drawstyle\": \"default\", \"color\": \"#1F77B4\", \"yindex\": 1, \"coordinates\": \"axes\", \"dasharray\": \"none\", \"zorder\": 1000002.0, \"alpha\": 1, \"xindex\": 0, \"linewidth\": 1.5, \"data\": \"data02\", \"id\": \"el858504714757520\"}, {\"drawstyle\": \"default\", \"color\": \"#FF7F0E\", \"yindex\": 2, \"coordinates\": \"axes\", \"dasharray\": \"none\", \"zorder\": 1000002.0, \"alpha\": 1, \"xindex\": 0, \"linewidth\": 1.5, \"data\": \"data02\", \"id\": \"el858504714817552\"}, {\"drawstyle\": \"default\", \"color\": \"#2CA02C\", \"yindex\": 3, \"coordinates\": \"axes\", \"dasharray\": \"none\", \"zorder\": 1000002.0, \"alpha\": 1, \"xindex\": 0, \"linewidth\": 1.5, \"data\": \"data02\", \"id\": \"el858504714817744\"}], \"markers\": [], \"id\": \"el858504712209680\", \"ydomain\": [2.2867777196021004, 171.7006296323999], \"collections\": [], \"xscale\": \"date\", \"bbox\": [0.125, 0.125, 0.775, 0.755]}], \"height\": 288.0, \"width\": 432.0, \"plugins\": [{\"type\": \"reset\"}, {\"enabled\": false, \"button\": true, \"type\": \"zoom\"}, {\"enabled\": false, \"button\": true, \"type\": \"boxzoom\"}], \"data\": {\"data02\": [[0.026881720430107503, 0.9379139072847682, 0.8689293598233996, 0.7999448123620309], [0.08661887694145756, 0.9379139072847682, 0.8689293598233996, 0.7999448123620309]], \"data03\": [[0.020908004778972505, 0.7562545989698307], [0.19190561529271202, 0.7562545989698307], [0.19787933094384705, 0.7562545989698307], [0.19787933094384705, 0.7654525386313465], [0.19787933094384705, 0.9678072111846947], [0.19787933094384705, 0.9770051508462105], [0.19190561529271202, 0.9770051508462105], [0.020908004778972505, 0.9770051508462105], [0.014934289127837508, 0.9770051508462105], [0.014934289127837508, 0.9678072111846947], [0.014934289127837508, 0.7654525386313465], [0.014934289127837508, 0.7562545989698307], [0.020908004778972505, 0.7562545989698307]], \"data01\": [[453.0, NaN, 26.129162153867, 24.411222456723], [454.0, NaN, 25.166378433743, 23.417809718684], [455.0, NaN, 23.428090191635, 25.456040769822], [456.0, NaN, 26.446813969225, 17.395646600379], [457.0, NaN, 22.916878264786, 16.066812485072], [458.0, NaN, 22.814955781912, 18.441750052855], [459.0, NaN, 23.324568196284, 22.354999454314], [460.0, NaN, 21.839512782252, 24.257005731542], [461.0, NaN, 18.813508472198, 21.518373720209], [462.0, NaN, 23.978311640144, 20.427290389556], [463.0, NaN, 24.247286432544, 21.786967849899], [464.0, NaN, 30.062790215176, 14.606894153362], [465.0, NaN, 27.275193360691, 13.826814551823], [466.0, NaN, 23.390226016419, 11.909386602077], [467.0, NaN, 23.867908029216, 10.968664578475], [468.0, NaN, 15.302017020088, 11.582961200445], [469.0, NaN, 9.987407352002, 11.477579771571], [470.0, NaN, 11.753775263844, 13.509385125826], [471.0, NaN, 16.516365381286, 16.170908774569], [472.0, NaN, 21.087051779849, 17.453477872322], [473.0, NaN, 20.061642203104, 18.304240139569], [474.0, NaN, 20.227030844514, 20.997892272724], [475.0, NaN, 22.798086403311, 21.6173294522], [476.0, NaN, 23.344842835948, 23.820058343531], [477.0, NaN, 22.798086403311, 24.22487724713], [478.0, NaN, 23.272169314678, 25.691221275723], [479.0, NaN, 22.400707910241, 27.081999108977], [480.0, NaN, 23.595854979183, 24.682772406979], [481.0, NaN, 22.731513444209, 26.296521922057], [482.0, NaN, 25.874348880168, 30.200775347881], [483.0, NaN, 27.528910392749, 33.553703981184], [484.0, NaN, 23.890473279224, 33.012660303675], [485.0, NaN, 21.31739686121, 32.325110737244], [486.0, NaN, 23.091070896928, 33.060210460605], [487.0, NaN, 19.64544591999, 31.24173824285], [488.0, NaN, 20.95097130703, 36.465829808345], [489.0, NaN, 21.739291748406, 38.680124954064], [490.0, NaN, 22.741515837121, 39.98711169997], [491.0, NaN, 25.900756184946, 41.453455728563], [492.0, NaN, 27.095918538753, 43.607349323587], [493.0, NaN, 27.003395476407, 45.392407917553], [494.0, NaN, 26.601924878653, 44.788071125751], [495.0, NaN, 24.42075159942, 44.996584989589], [496.0, NaN, 23.899191524973, 44.701002932993], [497.0, NaN, 23.638044208345, 43.138273451162], [498.0, NaN, 23.536954924489, 50.182122373789], [499.0, NaN, 22.083565037547, 49.456018626063], [500.0, NaN, 20.408260103664, 49.00493470491], [501.0, NaN, 21.922803452983, 52.019871682192], [502.0, NaN, 21.984155875193, 49.118026970042], [503.0, NaN, 23.429363337986, 52.048144748475], [504.0, NaN, 24.832064698932, 58.664042258726], [505.0, NaN, 26.70711138368, 69.711100339167], [506.0, NaN, 29.227048519308, 77.050531318391], [507.0, NaN, 28.606380382914, 75.049569309172], [508.0, NaN, 27.617624986873, 74.246357198856], [509.0, NaN, 28.815394058067, 75.052139587925], [510.0, NaN, 29.13422467414, 78.491172559453], [511.0, NaN, 29.514551732024, 85.857594115654], [512.0, NaN, 29.948206620828, 86.098295836876], [513.0, NaN, 29.219666407637, 76.83353816507], [514.0, NaN, 28.821283697695, 75.896485214554], [515.0, NaN, 29.842819654262, 69.009794690466], [516.0, NaN, 30.627742687255, 59.065900168086], [517.0, NaN, 30.8475800594, 57.562728311726], [518.0, NaN, 32.527137582588, 57.727044210395], [519.0, NaN, 33.397693576283, 57.742693343602], [520.0, NaN, 35.935834675552, 59.041313847026], [521.0, NaN, 36.57390621603, 52.056549256254], [522.0, NaN, 38.550155570567, 59.40824208744], [523.0, NaN, 36.657933387445, 64.384993720396], [524.0, NaN, 36.872098528949, 63.001924723734], [525.0, NaN, 38.094624545034, 69.074424870362], [526.0, NaN, 39.559129248138, 73.914215436527], [527.0, NaN, 40.799283686175, 74.572181819196], [528.0, NaN, 40.745363928, 66.541004275586], [529.0, NaN, 41.998867254847, 70.365411763138], [530.0, NaN, 45.002663878847, 71.76940390268], [531.0, NaN, 44.912188076919, 78.903021106928], [532.0, NaN, 46.269189547841, 85.114261733663], [533.0, NaN, 47.891071339789, 87.468686256501], [534.0, NaN, 46.378529893365, 89.98177559584], [535.0, NaN, 47.198262137537, 96.956206806577], [536.0, NaN, 47.592804375467, 95.30085693427], [537.0, NaN, 48.712203283084, 102.15873497669], [538.0, NaN, 50.314422309488, 112.98399738955], [539.0, NaN, 50.628425679261, 104.8614616317], [540.0, NaN, 47.950161642963, 111.30248998705], [541.0, NaN, 50.934686156653, 122.5157567099], [542.0, NaN, 50.572128616936, 118.67223733001], [543.0, NaN, 51.222872918992, 119.35892069317], [544.0, NaN, 52.377573352296, 124.76735316852], [545.0, NaN, 52.639648415531, 120.11778685264], [546.0, 74.490493466069, 54.165299676508, 116.16733143492], [547.0, 68.107200896496, 50.240631438077, 108.47643694077], [548.0, 66.120037864559, 48.375331414687, 105.77318412236], [549.0, 73.084481886868, 51.003708720373, 114.96039565823], [550.0, 69.632842445394, 52.264738901248, 114.29538877569], [551.0, 69.307892228966, 51.562816818001, 101.69680999602], [552.0, 74.356433031791, 47.645332758797, 94.044912454993], [553.0, 73.365775968595, 44.856276527438, 93.919781198699], [554.0, 75.384149765237, 46.232939745672, 105.86737979984], [555.0, 74.913958403412, 47.781685866184, 91.054300233386], [556.0, 80.3716622509, 48.865637028736, 97.591938528951], [557.0, 85.482445918496, 45.599578086949, 93.428693404443], [558.0, 83.463251615041, 46.216179185104, 101.84313953637], [559.0, 87.041420911462, 49.333677703594, 104.24847718874], [560.0, 87.060873681807, 43.001874974707, 111.07719459177], [561.0, 86.51619611213, 44.681939195715, 111.55864373242], [562.0, 79.999518046349, 51.824163421622, 109.15491652711], [563.0, 85.554904051527, 53.968814175464, 114.38945378366], [564.0, 87.485082257911, 55.163551125094, 119.85115020417], [565.0, 89.660206937187, 57.066697924081, 135.8803615489], [566.0, 89.558241906473, 54.877892302252, 142.49633360184], [567.0, 89.104582713906, 53.083466071743, 142.48641460326], [568.0, 91.538593974175, 50.770723940011, 152.14268890314], [569.0, 85.005796269727, 55.00989076097, 143.43800769724], [570.0, 86.832596843615, 53.550505461951, 148.24848941629], [571.0, 80.75, 51.07, 164.0], [572.0, 77.55, 55.15, 154.12], [573.0, 77.33, 55.265, 156.405]]}, \"id\": \"el858504713000272\"});\n",
       "      });\n",
       "    });\n",
       "}else{\n",
       "    // require.js not available: dynamically load d3 & mpld3\n",
       "    mpld3_load_lib(\"https://mpld3.github.io/js/d3.v3.min.js\", function(){\n",
       "         mpld3_load_lib(\"https://mpld3.github.io/js/mpld3.v0.3.js\", function(){\n",
       "                 \n",
       "                 mpld3.draw_figure(\"fig_el8585047130002726388054870\", {\"axes\": [{\"xlim\": [453.0, 573.0], \"yscale\": \"linear\", \"axesbg\": \"#FFFFFF\", \"texts\": [{\"v_baseline\": \"hanging\", \"h_anchor\": \"middle\", \"color\": \"#000000\", \"text\": \"Date\", \"coordinates\": \"axes\", \"zorder\": 3, \"alpha\": 1, \"fontsize\": 10.0, \"position\": [0.49999999999999994, -0.09657836644591611], \"rotation\": -0.0, \"id\": \"el858504713105488\"}, {\"v_baseline\": \"auto\", \"h_anchor\": \"start\", \"color\": \"#000000\", \"text\": \"KHC\", \"coordinates\": \"axes\", \"zorder\": 1000003.0, \"alpha\": 1, \"fontsize\": 10.0, \"position\": [0.11051373954599761, 0.9218175128771156], \"rotation\": -0.0, \"id\": \"el858504714756688\"}, {\"v_baseline\": \"auto\", \"h_anchor\": \"start\", \"color\": \"#000000\", \"text\": \"WFC\", \"coordinates\": \"axes\", \"zorder\": 1000003.0, \"alpha\": 1, \"fontsize\": 10.0, \"position\": [0.11051373954599761, 0.8528329654157469], \"rotation\": -0.0, \"id\": \"el858504714816656\"}, {\"v_baseline\": \"auto\", \"h_anchor\": \"start\", \"color\": \"#000000\", \"text\": \"AAPL\", \"coordinates\": \"axes\", \"zorder\": 1000003.0, \"alpha\": 1, \"fontsize\": 10.0, \"position\": [0.11051373954599761, 0.7838484179543782], \"rotation\": -0.0, \"id\": \"el858504714819280\"}], \"zoomable\": true, \"images\": [], \"xdomain\": [[2007, 9, 31, 0, 0, 0, 0], [2017, 9, 31, 0, 0, 0, 0]], \"ylim\": [2.2867777196021004, 171.7006296323999], \"paths\": [{\"edgecolor\": \"#CCCCCC\", \"facecolor\": \"#FFFFFF\", \"edgewidth\": 1.0, \"pathcodes\": [\"M\", \"L\", \"S\", \"L\", \"S\", \"L\", \"S\", \"L\", \"S\", \"Z\"], \"yindex\": 1, \"coordinates\": \"axes\", \"dasharray\": \"none\", \"zorder\": 1000000.0, \"alpha\": 0.8, \"xindex\": 0, \"data\": \"data03\", \"id\": \"el858504714665552\"}], \"sharey\": [], \"sharex\": [], \"axesbgalpha\": null, \"axes\": [{\"scale\": \"linear\", \"tickformat\": null, \"grid\": {\"gridOn\": false}, \"visible\": true, \"fontsize\": 10.0, \"position\": \"bottom\", \"nticks\": 10, \"tickvalues\": null}, {\"scale\": \"linear\", \"tickformat\": null, \"grid\": {\"gridOn\": false}, \"visible\": true, \"fontsize\": 10.0, \"position\": \"left\", \"nticks\": 10, \"tickvalues\": null}], \"lines\": [{\"drawstyle\": \"default\", \"color\": \"#1F77B4\", \"yindex\": 1, \"coordinates\": \"data\", \"dasharray\": \"none\", \"zorder\": 2, \"alpha\": 1, \"xindex\": 0, \"linewidth\": 1.5, \"data\": \"data01\", \"id\": \"el858504713246096\"}, {\"drawstyle\": \"default\", \"color\": \"#FF7F0E\", \"yindex\": 2, \"coordinates\": \"data\", \"dasharray\": \"none\", \"zorder\": 2, \"alpha\": 1, \"xindex\": 0, \"linewidth\": 1.5, \"data\": \"data01\", \"id\": \"el858504714665360\"}, {\"drawstyle\": \"default\", \"color\": \"#2CA02C\", \"yindex\": 3, \"coordinates\": \"data\", \"dasharray\": \"none\", \"zorder\": 2, \"alpha\": 1, \"xindex\": 0, \"linewidth\": 1.5, \"data\": \"data01\", \"id\": \"el858504714024144\"}, {\"drawstyle\": \"default\", \"color\": \"#1F77B4\", \"yindex\": 1, \"coordinates\": \"axes\", \"dasharray\": \"none\", \"zorder\": 1000002.0, \"alpha\": 1, \"xindex\": 0, \"linewidth\": 1.5, \"data\": \"data02\", \"id\": \"el858504714757520\"}, {\"drawstyle\": \"default\", \"color\": \"#FF7F0E\", \"yindex\": 2, \"coordinates\": \"axes\", \"dasharray\": \"none\", \"zorder\": 1000002.0, \"alpha\": 1, \"xindex\": 0, \"linewidth\": 1.5, \"data\": \"data02\", \"id\": \"el858504714817552\"}, {\"drawstyle\": \"default\", \"color\": \"#2CA02C\", \"yindex\": 3, \"coordinates\": \"axes\", \"dasharray\": \"none\", \"zorder\": 1000002.0, \"alpha\": 1, \"xindex\": 0, \"linewidth\": 1.5, \"data\": \"data02\", \"id\": \"el858504714817744\"}], \"markers\": [], \"id\": \"el858504712209680\", \"ydomain\": [2.2867777196021004, 171.7006296323999], \"collections\": [], \"xscale\": \"date\", \"bbox\": [0.125, 0.125, 0.775, 0.755]}], \"height\": 288.0, \"width\": 432.0, \"plugins\": [{\"type\": \"reset\"}, {\"enabled\": false, \"button\": true, \"type\": \"zoom\"}, {\"enabled\": false, \"button\": true, \"type\": \"boxzoom\"}], \"data\": {\"data02\": [[0.026881720430107503, 0.9379139072847682, 0.8689293598233996, 0.7999448123620309], [0.08661887694145756, 0.9379139072847682, 0.8689293598233996, 0.7999448123620309]], \"data03\": [[0.020908004778972505, 0.7562545989698307], [0.19190561529271202, 0.7562545989698307], [0.19787933094384705, 0.7562545989698307], [0.19787933094384705, 0.7654525386313465], [0.19787933094384705, 0.9678072111846947], [0.19787933094384705, 0.9770051508462105], [0.19190561529271202, 0.9770051508462105], [0.020908004778972505, 0.9770051508462105], [0.014934289127837508, 0.9770051508462105], [0.014934289127837508, 0.9678072111846947], [0.014934289127837508, 0.7654525386313465], [0.014934289127837508, 0.7562545989698307], [0.020908004778972505, 0.7562545989698307]], \"data01\": [[453.0, NaN, 26.129162153867, 24.411222456723], [454.0, NaN, 25.166378433743, 23.417809718684], [455.0, NaN, 23.428090191635, 25.456040769822], [456.0, NaN, 26.446813969225, 17.395646600379], [457.0, NaN, 22.916878264786, 16.066812485072], [458.0, NaN, 22.814955781912, 18.441750052855], [459.0, NaN, 23.324568196284, 22.354999454314], [460.0, NaN, 21.839512782252, 24.257005731542], [461.0, NaN, 18.813508472198, 21.518373720209], [462.0, NaN, 23.978311640144, 20.427290389556], [463.0, NaN, 24.247286432544, 21.786967849899], [464.0, NaN, 30.062790215176, 14.606894153362], [465.0, NaN, 27.275193360691, 13.826814551823], [466.0, NaN, 23.390226016419, 11.909386602077], [467.0, NaN, 23.867908029216, 10.968664578475], [468.0, NaN, 15.302017020088, 11.582961200445], [469.0, NaN, 9.987407352002, 11.477579771571], [470.0, NaN, 11.753775263844, 13.509385125826], [471.0, NaN, 16.516365381286, 16.170908774569], [472.0, NaN, 21.087051779849, 17.453477872322], [473.0, NaN, 20.061642203104, 18.304240139569], [474.0, NaN, 20.227030844514, 20.997892272724], [475.0, NaN, 22.798086403311, 21.6173294522], [476.0, NaN, 23.344842835948, 23.820058343531], [477.0, NaN, 22.798086403311, 24.22487724713], [478.0, NaN, 23.272169314678, 25.691221275723], [479.0, NaN, 22.400707910241, 27.081999108977], [480.0, NaN, 23.595854979183, 24.682772406979], [481.0, NaN, 22.731513444209, 26.296521922057], [482.0, NaN, 25.874348880168, 30.200775347881], [483.0, NaN, 27.528910392749, 33.553703981184], [484.0, NaN, 23.890473279224, 33.012660303675], [485.0, NaN, 21.31739686121, 32.325110737244], [486.0, NaN, 23.091070896928, 33.060210460605], [487.0, NaN, 19.64544591999, 31.24173824285], [488.0, NaN, 20.95097130703, 36.465829808345], [489.0, NaN, 21.739291748406, 38.680124954064], [490.0, NaN, 22.741515837121, 39.98711169997], [491.0, NaN, 25.900756184946, 41.453455728563], [492.0, NaN, 27.095918538753, 43.607349323587], [493.0, NaN, 27.003395476407, 45.392407917553], [494.0, NaN, 26.601924878653, 44.788071125751], [495.0, NaN, 24.42075159942, 44.996584989589], [496.0, NaN, 23.899191524973, 44.701002932993], [497.0, NaN, 23.638044208345, 43.138273451162], [498.0, NaN, 23.536954924489, 50.182122373789], [499.0, NaN, 22.083565037547, 49.456018626063], [500.0, NaN, 20.408260103664, 49.00493470491], [501.0, NaN, 21.922803452983, 52.019871682192], [502.0, NaN, 21.984155875193, 49.118026970042], [503.0, NaN, 23.429363337986, 52.048144748475], [504.0, NaN, 24.832064698932, 58.664042258726], [505.0, NaN, 26.70711138368, 69.711100339167], [506.0, NaN, 29.227048519308, 77.050531318391], [507.0, NaN, 28.606380382914, 75.049569309172], [508.0, NaN, 27.617624986873, 74.246357198856], [509.0, NaN, 28.815394058067, 75.052139587925], [510.0, NaN, 29.13422467414, 78.491172559453], [511.0, NaN, 29.514551732024, 85.857594115654], [512.0, NaN, 29.948206620828, 86.098295836876], [513.0, NaN, 29.219666407637, 76.83353816507], [514.0, NaN, 28.821283697695, 75.896485214554], [515.0, NaN, 29.842819654262, 69.009794690466], [516.0, NaN, 30.627742687255, 59.065900168086], [517.0, NaN, 30.8475800594, 57.562728311726], [518.0, NaN, 32.527137582588, 57.727044210395], [519.0, NaN, 33.397693576283, 57.742693343602], [520.0, NaN, 35.935834675552, 59.041313847026], [521.0, NaN, 36.57390621603, 52.056549256254], [522.0, NaN, 38.550155570567, 59.40824208744], [523.0, NaN, 36.657933387445, 64.384993720396], [524.0, NaN, 36.872098528949, 63.001924723734], [525.0, NaN, 38.094624545034, 69.074424870362], [526.0, NaN, 39.559129248138, 73.914215436527], [527.0, NaN, 40.799283686175, 74.572181819196], [528.0, NaN, 40.745363928, 66.541004275586], [529.0, NaN, 41.998867254847, 70.365411763138], [530.0, NaN, 45.002663878847, 71.76940390268], [531.0, NaN, 44.912188076919, 78.903021106928], [532.0, NaN, 46.269189547841, 85.114261733663], [533.0, NaN, 47.891071339789, 87.468686256501], [534.0, NaN, 46.378529893365, 89.98177559584], [535.0, NaN, 47.198262137537, 96.956206806577], [536.0, NaN, 47.592804375467, 95.30085693427], [537.0, NaN, 48.712203283084, 102.15873497669], [538.0, NaN, 50.314422309488, 112.98399738955], [539.0, NaN, 50.628425679261, 104.8614616317], [540.0, NaN, 47.950161642963, 111.30248998705], [541.0, NaN, 50.934686156653, 122.5157567099], [542.0, NaN, 50.572128616936, 118.67223733001], [543.0, NaN, 51.222872918992, 119.35892069317], [544.0, NaN, 52.377573352296, 124.76735316852], [545.0, NaN, 52.639648415531, 120.11778685264], [546.0, 74.490493466069, 54.165299676508, 116.16733143492], [547.0, 68.107200896496, 50.240631438077, 108.47643694077], [548.0, 66.120037864559, 48.375331414687, 105.77318412236], [549.0, 73.084481886868, 51.003708720373, 114.96039565823], [550.0, 69.632842445394, 52.264738901248, 114.29538877569], [551.0, 69.307892228966, 51.562816818001, 101.69680999602], [552.0, 74.356433031791, 47.645332758797, 94.044912454993], [553.0, 73.365775968595, 44.856276527438, 93.919781198699], [554.0, 75.384149765237, 46.232939745672, 105.86737979984], [555.0, 74.913958403412, 47.781685866184, 91.054300233386], [556.0, 80.3716622509, 48.865637028736, 97.591938528951], [557.0, 85.482445918496, 45.599578086949, 93.428693404443], [558.0, 83.463251615041, 46.216179185104, 101.84313953637], [559.0, 87.041420911462, 49.333677703594, 104.24847718874], [560.0, 87.060873681807, 43.001874974707, 111.07719459177], [561.0, 86.51619611213, 44.681939195715, 111.55864373242], [562.0, 79.999518046349, 51.824163421622, 109.15491652711], [563.0, 85.554904051527, 53.968814175464, 114.38945378366], [564.0, 87.485082257911, 55.163551125094, 119.85115020417], [565.0, 89.660206937187, 57.066697924081, 135.8803615489], [566.0, 89.558241906473, 54.877892302252, 142.49633360184], [567.0, 89.104582713906, 53.083466071743, 142.48641460326], [568.0, 91.538593974175, 50.770723940011, 152.14268890314], [569.0, 85.005796269727, 55.00989076097, 143.43800769724], [570.0, 86.832596843615, 53.550505461951, 148.24848941629], [571.0, 80.75, 51.07, 164.0], [572.0, 77.55, 55.15, 154.12], [573.0, 77.33, 55.265, 156.405]]}, \"id\": \"el858504713000272\"});\n",
       "            })\n",
       "         });\n",
       "}\n",
       "</script>"
      ],
      "text/plain": [
       "<matplotlib.figure.Figure at 0x118eaad50>"
      ]
     },
     "metadata": {},
     "output_type": "display_data"
    }
   ],
   "source": [
    "data2.plot()"
   ]
  },
  {
   "cell_type": "markdown",
   "metadata": {},
   "source": [
    "Explore the data by using the icons in the bottom left corner of the plot. \n",
    "\n",
    "It looks like we have some incomplete data.\n",
    "\n",
    "Further investigation reveals that we only have data for Kraft Heinz (KHC) from July 2015 onwards. We'll need to remember this for later, as this might affect our analysis.\n",
    "\n",
    "## <font color='green'>You're now finished with this section! Let your facilitators know, and have a break.</font>\n",
    "\n",
    "![done](https://media.giphy.com/media/26FL2NwYBOq3Z6C6Q/giphy.gif)"
   ]
  },
  {
   "cell_type": "markdown",
   "metadata": {},
   "source": [
    "## 3. Analysis\n",
    "\n",
    "## <font color='orange'>Please wait for your instructor to begin the Analysis section before proceeding</font>\n",
    "\n",
    "Data analysis is all about answering questions. In this case Warren has one question - what will the prices of his stocks be in the future?\n",
    "\n",
    "To answer that question we are going to build our own Time Series Forecasting model. This model will use the historic data that we have collected to forecast predictions for the future. \n",
    "\n",
    "As we build our model, we're going to use some dummy sales data, stored in `hat-sales.csv`, to test our model as we go. Once it's built, we'll apply it to our stock data.\n",
    "\n",
    "Let's start by creating a dataframe variable called `df` and using reading `pd.read_csv` to read our data in. Complete the code below, passing the function three inputs:\n",
    "    - 'hat-sales.csv'\n",
    "    - index_col = ['month']\n",
    "    - parse_dates = ['month']\n",
    "\n",
    "And then view our data on the line below using `data.head(5)`:"
   ]
  },
  {
   "cell_type": "code",
   "execution_count": 42,
   "metadata": {
    "scrolled": true
   },
   "outputs": [
    {
     "data": {
      "text/html": [
       "<div>\n",
       "<style>\n",
       "    .dataframe thead tr:only-child th {\n",
       "        text-align: right;\n",
       "    }\n",
       "\n",
       "    .dataframe thead th {\n",
       "        text-align: left;\n",
       "    }\n",
       "\n",
       "    .dataframe tbody tr th {\n",
       "        vertical-align: top;\n",
       "    }\n",
       "</style>\n",
       "<table border=\"1\" class=\"dataframe\">\n",
       "  <thead>\n",
       "    <tr style=\"text-align: right;\">\n",
       "      <th></th>\n",
       "      <th>hats_sold</th>\n",
       "    </tr>\n",
       "    <tr>\n",
       "      <th>month</th>\n",
       "      <th></th>\n",
       "    </tr>\n",
       "  </thead>\n",
       "  <tbody>\n",
       "    <tr>\n",
       "      <th>2005-11-01</th>\n",
       "      <td>141</td>\n",
       "    </tr>\n",
       "    <tr>\n",
       "      <th>2005-12-01</th>\n",
       "      <td>157</td>\n",
       "    </tr>\n",
       "    <tr>\n",
       "      <th>2006-01-01</th>\n",
       "      <td>185</td>\n",
       "    </tr>\n",
       "    <tr>\n",
       "      <th>2006-02-01</th>\n",
       "      <td>199</td>\n",
       "    </tr>\n",
       "    <tr>\n",
       "      <th>2006-03-01</th>\n",
       "      <td>203</td>\n",
       "    </tr>\n",
       "  </tbody>\n",
       "</table>\n",
       "</div>"
      ],
      "text/plain": [
       "            hats_sold\n",
       "month                \n",
       "2005-11-01        141\n",
       "2005-12-01        157\n",
       "2006-01-01        185\n",
       "2006-02-01        199\n",
       "2006-03-01        203"
      ]
     },
     "execution_count": 42,
     "metadata": {},
     "output_type": "execute_result"
    }
   ],
   "source": [
    "df = pd.read_csv('hat-sales.csv', index_col = ['month'], parse_dates = ['month'])\n",
    "df.head(5)"
   ]
  },
  {
   "cell_type": "markdown",
   "metadata": {},
   "source": [
    "Now let's plot it with `df.plot()`:"
   ]
  },
  {
   "cell_type": "code",
   "execution_count": 43,
   "metadata": {},
   "outputs": [
    {
     "data": {
      "text/plain": [
       "<matplotlib.axes._subplots.AxesSubplot at 0x1197fa550>"
      ]
     },
     "execution_count": 43,
     "metadata": {},
     "output_type": "execute_result"
    },
    {
     "data": {
      "image/png": "[encoded data removed]",
      "text/html": [
       "\n",
       "\n",
       "<style>\n",
       "\n",
       "</style>\n",
       "\n",
       "<div id=\"fig_el8585047228052003788760392\"></div>\n",
       "<script>\n",
       "function mpld3_load_lib(url, callback){\n",
       "  var s = document.createElement('script');\n",
       "  s.src = url;\n",
       "  s.async = true;\n",
       "  s.onreadystatechange = s.onload = callback;\n",
       "  s.onerror = function(){console.warn(\"failed to load library \" + url);};\n",
       "  document.getElementsByTagName(\"head\")[0].appendChild(s);\n",
       "}\n",
       "\n",
       "if(typeof(mpld3) !== \"undefined\" && mpld3._mpld3IsLoaded){\n",
       "   // already loaded: just create the figure\n",
       "   !function(mpld3){\n",
       "       \n",
       "       mpld3.draw_figure(\"fig_el8585047228052003788760392\", {\"axes\": [{\"xlim\": [430.0, 573.0], \"yscale\": \"linear\", \"axesbg\": \"#FFFFFF\", \"texts\": [{\"v_baseline\": \"hanging\", \"h_anchor\": \"middle\", \"color\": \"#000000\", \"text\": \"month\", \"coordinates\": \"axes\", \"zorder\": 3, \"alpha\": 1, \"fontsize\": 10.0, \"position\": [0.49999999999999994, -0.09657836644591611], \"rotation\": -0.0, \"id\": \"el858504712256464\"}, {\"v_baseline\": \"auto\", \"h_anchor\": \"start\", \"color\": \"#000000\", \"text\": \"hats_sold\", \"coordinates\": \"axes\", \"zorder\": 1000003.0, \"alpha\": 1, \"fontsize\": 10.0, \"position\": [0.11051373954599761, 0.9218175128771156], \"rotation\": -0.0, \"id\": \"el858504719591760\"}], \"zoomable\": true, \"images\": [], \"xdomain\": [[2005, 10, 30, 0, 0, 0, 0], [2017, 9, 31, 0, 0, 0, 0]], \"ylim\": [101.35, 907.65], \"paths\": [{\"edgecolor\": \"#CCCCCC\", \"facecolor\": \"#FFFFFF\", \"edgewidth\": 1.0, \"pathcodes\": [\"M\", \"L\", \"S\", \"L\", \"S\", \"L\", \"S\", \"L\", \"S\", \"Z\"], \"yindex\": 1, \"coordinates\": \"axes\", \"dasharray\": \"none\", \"zorder\": 1000000.0, \"alpha\": 0.8, \"xindex\": 0, \"data\": \"data03\", \"id\": \"el858504721481552\"}], \"sharey\": [], \"sharex\": [], \"axesbgalpha\": null, \"axes\": [{\"scale\": \"linear\", \"tickformat\": null, \"grid\": {\"gridOn\": false}, \"visible\": true, \"fontsize\": 10.0, \"position\": \"bottom\", \"nticks\": 6, \"tickvalues\": null}, {\"scale\": \"linear\", \"tickformat\": null, \"grid\": {\"gridOn\": false}, \"visible\": true, \"fontsize\": 10.0, \"position\": \"left\", \"nticks\": 10, \"tickvalues\": null}], \"lines\": [{\"drawstyle\": \"default\", \"color\": \"#1F77B4\", \"yindex\": 1, \"coordinates\": \"data\", \"dasharray\": \"none\", \"zorder\": 2, \"alpha\": 1, \"xindex\": 0, \"linewidth\": 1.5, \"data\": \"data01\", \"id\": \"el858504722650384\"}, {\"drawstyle\": \"default\", \"color\": \"#1F77B4\", \"yindex\": 1, \"coordinates\": \"axes\", \"dasharray\": \"none\", \"zorder\": 1000002.0, \"alpha\": 1, \"xindex\": 0, \"linewidth\": 1.5, \"data\": \"data02\", \"id\": \"el858504719592656\"}], \"markers\": [], \"id\": \"el858504722763088\", \"ydomain\": [101.35, 907.65], \"collections\": [], \"xscale\": \"date\", \"bbox\": [0.125, 0.125, 0.775, 0.755]}], \"height\": 288.0, \"width\": 432.0, \"plugins\": [{\"type\": \"reset\"}, {\"enabled\": false, \"button\": true, \"type\": \"zoom\"}, {\"enabled\": false, \"button\": true, \"type\": \"boxzoom\"}], \"data\": {\"data02\": [[0.026881720430107503, 0.9379139072847682], [0.08661887694145756, 0.9379139072847682]], \"data03\": [[0.020908004778972505, 0.8900558774834437], [0.2572431302270012, 0.8900558774834437], [0.2632168458781362, 0.8900558774834437], [0.2632168458781362, 0.8992538171449596], [0.2632168458781362, 0.9678072111846947], [0.2632168458781362, 0.9770051508462105], [0.2572431302270012, 0.9770051508462105], [0.020908004778972505, 0.9770051508462105], [0.014934289127837508, 0.9770051508462105], [0.014934289127837508, 0.9678072111846947], [0.014934289127837508, 0.8992538171449596], [0.014934289127837508, 0.8900558774834437], [0.020908004778972505, 0.8900558774834437]], \"data01\": [[430.0, 141.0], [431.0, 157.0], [432.0, 185.0], [433.0, 199.0], [434.0, 203.0], [435.0, 189.0], [436.0, 207.0], [437.0, 207.0], [438.0, 171.0], [439.0, 150.0], [440.0, 138.0], [441.0, 165.0], [442.0, 145.0], [443.0, 168.0], [444.0, 197.0], [445.0, 208.0], [446.0, 210.0], [447.0, 209.0], [448.0, 238.0], [449.0, 238.0], [450.0, 199.0], [451.0, 168.0], [452.0, 152.0], [453.0, 196.0], [454.0, 183.0], [455.0, 200.0], [456.0, 249.0], [457.0, 251.0], [458.0, 289.0], [459.0, 249.0], [460.0, 279.0], [461.0, 279.0], [462.0, 232.0], [463.0, 204.0], [464.0, 194.0], [465.0, 232.0], [466.0, 215.0], [467.0, 239.0], [468.0, 270.0], [469.0, 279.0], [470.0, 307.0], [471.0, 305.0], [472.0, 322.0], [473.0, 339.0], [474.0, 263.0], [475.0, 241.0], [476.0, 229.0], [477.0, 272.0], [478.0, 247.0], [479.0, 261.0], [480.0, 330.0], [481.0, 362.0], [482.0, 385.0], [483.0, 340.0], [484.0, 370.0], [485.0, 381.0], [486.0, 299.0], [487.0, 266.0], [488.0, 239.0], [489.0, 281.0], [490.0, 257.0], [491.0, 250.0], [492.0, 329.0], [493.0, 350.0], [494.0, 393.0], [495.0, 370.0], [496.0, 423.0], [497.0, 410.0], [498.0, 326.0], [499.0, 289.0], [500.0, 270.0], [501.0, 321.0], [502.0, 305.0], [503.0, 310.0], [504.0, 374.0], [505.0, 414.0], [506.0, 454.0], [507.0, 441.0], [508.0, 510.0], [509.0, 486.0], [510.0, 393.0], [511.0, 345.0], [512.0, 315.0], [513.0, 389.0], [514.0, 358.0], [515.0, 368.0], [516.0, 444.0], [517.0, 482.0], [518.0, 534.0], [519.0, 524.0], [520.0, 578.0], [521.0, 567.0], [522.0, 447.0], [523.0, 386.0], [524.0, 360.0], [525.0, 428.0], [526.0, 397.0], [527.0, 400.0], [528.0, 498.0], [529.0, 536.0], [530.0, 596.0], [531.0, 591.0], [532.0, 651.0], [533.0, 654.0], [534.0, 509.0], [535.0, 437.0], [536.0, 406.0], [537.0, 470.0], [538.0, 428.0], [539.0, 423.0], [540.0, 507.0], [541.0, 536.0], [542.0, 610.0], [543.0, 609.0], [544.0, 687.0], [545.0, 707.0], [546.0, 509.0], [547.0, 452.0], [548.0, 412.0], [549.0, 472.0], [550.0, 454.0], [551.0, 455.0], [552.0, 568.0], [553.0, 610.0], [554.0, 706.0], [555.0, 661.0], [556.0, 767.0], [557.0, 783.0], [558.0, 583.0], [559.0, 513.0], [560.0, 481.0], [561.0, 567.0], [562.0, 525.0], [563.0, 520.0], [564.0, 587.0], [565.0, 710.0], [566.0, 793.0], [567.0, 749.0], [568.0, 871.0], [569.0, 848.0], [570.0, 640.0], [571.0, 581.0], [572.0, 519.0], [573.0, 605.0]]}, \"id\": \"el858504722805200\"});\n",
       "   }(mpld3);\n",
       "}else if(typeof define === \"function\" && define.amd){\n",
       "   // require.js is available: use it to load d3/mpld3\n",
       "   require.config({paths: {d3: \"https://mpld3.github.io/js/d3.v3.min\"}});\n",
       "   require([\"d3\"], function(d3){\n",
       "      window.d3 = d3;\n",
       "      mpld3_load_lib(\"https://mpld3.github.io/js/mpld3.v0.3.js\", function(){\n",
       "         \n",
       "         mpld3.draw_figure(\"fig_el8585047228052003788760392\", {\"axes\": [{\"xlim\": [430.0, 573.0], \"yscale\": \"linear\", \"axesbg\": \"#FFFFFF\", \"texts\": [{\"v_baseline\": \"hanging\", \"h_anchor\": \"middle\", \"color\": \"#000000\", \"text\": \"month\", \"coordinates\": \"axes\", \"zorder\": 3, \"alpha\": 1, \"fontsize\": 10.0, \"position\": [0.49999999999999994, -0.09657836644591611], \"rotation\": -0.0, \"id\": \"el858504712256464\"}, {\"v_baseline\": \"auto\", \"h_anchor\": \"start\", \"color\": \"#000000\", \"text\": \"hats_sold\", \"coordinates\": \"axes\", \"zorder\": 1000003.0, \"alpha\": 1, \"fontsize\": 10.0, \"position\": [0.11051373954599761, 0.9218175128771156], \"rotation\": -0.0, \"id\": \"el858504719591760\"}], \"zoomable\": true, \"images\": [], \"xdomain\": [[2005, 10, 30, 0, 0, 0, 0], [2017, 9, 31, 0, 0, 0, 0]], \"ylim\": [101.35, 907.65], \"paths\": [{\"edgecolor\": \"#CCCCCC\", \"facecolor\": \"#FFFFFF\", \"edgewidth\": 1.0, \"pathcodes\": [\"M\", \"L\", \"S\", \"L\", \"S\", \"L\", \"S\", \"L\", \"S\", \"Z\"], \"yindex\": 1, \"coordinates\": \"axes\", \"dasharray\": \"none\", \"zorder\": 1000000.0, \"alpha\": 0.8, \"xindex\": 0, \"data\": \"data03\", \"id\": \"el858504721481552\"}], \"sharey\": [], \"sharex\": [], \"axesbgalpha\": null, \"axes\": [{\"scale\": \"linear\", \"tickformat\": null, \"grid\": {\"gridOn\": false}, \"visible\": true, \"fontsize\": 10.0, \"position\": \"bottom\", \"nticks\": 6, \"tickvalues\": null}, {\"scale\": \"linear\", \"tickformat\": null, \"grid\": {\"gridOn\": false}, \"visible\": true, \"fontsize\": 10.0, \"position\": \"left\", \"nticks\": 10, \"tickvalues\": null}], \"lines\": [{\"drawstyle\": \"default\", \"color\": \"#1F77B4\", \"yindex\": 1, \"coordinates\": \"data\", \"dasharray\": \"none\", \"zorder\": 2, \"alpha\": 1, \"xindex\": 0, \"linewidth\": 1.5, \"data\": \"data01\", \"id\": \"el858504722650384\"}, {\"drawstyle\": \"default\", \"color\": \"#1F77B4\", \"yindex\": 1, \"coordinates\": \"axes\", \"dasharray\": \"none\", \"zorder\": 1000002.0, \"alpha\": 1, \"xindex\": 0, \"linewidth\": 1.5, \"data\": \"data02\", \"id\": \"el858504719592656\"}], \"markers\": [], \"id\": \"el858504722763088\", \"ydomain\": [101.35, 907.65], \"collections\": [], \"xscale\": \"date\", \"bbox\": [0.125, 0.125, 0.775, 0.755]}], \"height\": 288.0, \"width\": 432.0, \"plugins\": [{\"type\": \"reset\"}, {\"enabled\": false, \"button\": true, \"type\": \"zoom\"}, {\"enabled\": false, \"button\": true, \"type\": \"boxzoom\"}], \"data\": {\"data02\": [[0.026881720430107503, 0.9379139072847682], [0.08661887694145756, 0.9379139072847682]], \"data03\": [[0.020908004778972505, 0.8900558774834437], [0.2572431302270012, 0.8900558774834437], [0.2632168458781362, 0.8900558774834437], [0.2632168458781362, 0.8992538171449596], [0.2632168458781362, 0.9678072111846947], [0.2632168458781362, 0.9770051508462105], [0.2572431302270012, 0.9770051508462105], [0.020908004778972505, 0.9770051508462105], [0.014934289127837508, 0.9770051508462105], [0.014934289127837508, 0.9678072111846947], [0.014934289127837508, 0.8992538171449596], [0.014934289127837508, 0.8900558774834437], [0.020908004778972505, 0.8900558774834437]], \"data01\": [[430.0, 141.0], [431.0, 157.0], [432.0, 185.0], [433.0, 199.0], [434.0, 203.0], [435.0, 189.0], [436.0, 207.0], [437.0, 207.0], [438.0, 171.0], [439.0, 150.0], [440.0, 138.0], [441.0, 165.0], [442.0, 145.0], [443.0, 168.0], [444.0, 197.0], [445.0, 208.0], [446.0, 210.0], [447.0, 209.0], [448.0, 238.0], [449.0, 238.0], [450.0, 199.0], [451.0, 168.0], [452.0, 152.0], [453.0, 196.0], [454.0, 183.0], [455.0, 200.0], [456.0, 249.0], [457.0, 251.0], [458.0, 289.0], [459.0, 249.0], [460.0, 279.0], [461.0, 279.0], [462.0, 232.0], [463.0, 204.0], [464.0, 194.0], [465.0, 232.0], [466.0, 215.0], [467.0, 239.0], [468.0, 270.0], [469.0, 279.0], [470.0, 307.0], [471.0, 305.0], [472.0, 322.0], [473.0, 339.0], [474.0, 263.0], [475.0, 241.0], [476.0, 229.0], [477.0, 272.0], [478.0, 247.0], [479.0, 261.0], [480.0, 330.0], [481.0, 362.0], [482.0, 385.0], [483.0, 340.0], [484.0, 370.0], [485.0, 381.0], [486.0, 299.0], [487.0, 266.0], [488.0, 239.0], [489.0, 281.0], [490.0, 257.0], [491.0, 250.0], [492.0, 329.0], [493.0, 350.0], [494.0, 393.0], [495.0, 370.0], [496.0, 423.0], [497.0, 410.0], [498.0, 326.0], [499.0, 289.0], [500.0, 270.0], [501.0, 321.0], [502.0, 305.0], [503.0, 310.0], [504.0, 374.0], [505.0, 414.0], [506.0, 454.0], [507.0, 441.0], [508.0, 510.0], [509.0, 486.0], [510.0, 393.0], [511.0, 345.0], [512.0, 315.0], [513.0, 389.0], [514.0, 358.0], [515.0, 368.0], [516.0, 444.0], [517.0, 482.0], [518.0, 534.0], [519.0, 524.0], [520.0, 578.0], [521.0, 567.0], [522.0, 447.0], [523.0, 386.0], [524.0, 360.0], [525.0, 428.0], [526.0, 397.0], [527.0, 400.0], [528.0, 498.0], [529.0, 536.0], [530.0, 596.0], [531.0, 591.0], [532.0, 651.0], [533.0, 654.0], [534.0, 509.0], [535.0, 437.0], [536.0, 406.0], [537.0, 470.0], [538.0, 428.0], [539.0, 423.0], [540.0, 507.0], [541.0, 536.0], [542.0, 610.0], [543.0, 609.0], [544.0, 687.0], [545.0, 707.0], [546.0, 509.0], [547.0, 452.0], [548.0, 412.0], [549.0, 472.0], [550.0, 454.0], [551.0, 455.0], [552.0, 568.0], [553.0, 610.0], [554.0, 706.0], [555.0, 661.0], [556.0, 767.0], [557.0, 783.0], [558.0, 583.0], [559.0, 513.0], [560.0, 481.0], [561.0, 567.0], [562.0, 525.0], [563.0, 520.0], [564.0, 587.0], [565.0, 710.0], [566.0, 793.0], [567.0, 749.0], [568.0, 871.0], [569.0, 848.0], [570.0, 640.0], [571.0, 581.0], [572.0, 519.0], [573.0, 605.0]]}, \"id\": \"el858504722805200\"});\n",
       "      });\n",
       "    });\n",
       "}else{\n",
       "    // require.js not available: dynamically load d3 & mpld3\n",
       "    mpld3_load_lib(\"https://mpld3.github.io/js/d3.v3.min.js\", function(){\n",
       "         mpld3_load_lib(\"https://mpld3.github.io/js/mpld3.v0.3.js\", function(){\n",
       "                 \n",
       "                 mpld3.draw_figure(\"fig_el8585047228052003788760392\", {\"axes\": [{\"xlim\": [430.0, 573.0], \"yscale\": \"linear\", \"axesbg\": \"#FFFFFF\", \"texts\": [{\"v_baseline\": \"hanging\", \"h_anchor\": \"middle\", \"color\": \"#000000\", \"text\": \"month\", \"coordinates\": \"axes\", \"zorder\": 3, \"alpha\": 1, \"fontsize\": 10.0, \"position\": [0.49999999999999994, -0.09657836644591611], \"rotation\": -0.0, \"id\": \"el858504712256464\"}, {\"v_baseline\": \"auto\", \"h_anchor\": \"start\", \"color\": \"#000000\", \"text\": \"hats_sold\", \"coordinates\": \"axes\", \"zorder\": 1000003.0, \"alpha\": 1, \"fontsize\": 10.0, \"position\": [0.11051373954599761, 0.9218175128771156], \"rotation\": -0.0, \"id\": \"el858504719591760\"}], \"zoomable\": true, \"images\": [], \"xdomain\": [[2005, 10, 30, 0, 0, 0, 0], [2017, 9, 31, 0, 0, 0, 0]], \"ylim\": [101.35, 907.65], \"paths\": [{\"edgecolor\": \"#CCCCCC\", \"facecolor\": \"#FFFFFF\", \"edgewidth\": 1.0, \"pathcodes\": [\"M\", \"L\", \"S\", \"L\", \"S\", \"L\", \"S\", \"L\", \"S\", \"Z\"], \"yindex\": 1, \"coordinates\": \"axes\", \"dasharray\": \"none\", \"zorder\": 1000000.0, \"alpha\": 0.8, \"xindex\": 0, \"data\": \"data03\", \"id\": \"el858504721481552\"}], \"sharey\": [], \"sharex\": [], \"axesbgalpha\": null, \"axes\": [{\"scale\": \"linear\", \"tickformat\": null, \"grid\": {\"gridOn\": false}, \"visible\": true, \"fontsize\": 10.0, \"position\": \"bottom\", \"nticks\": 6, \"tickvalues\": null}, {\"scale\": \"linear\", \"tickformat\": null, \"grid\": {\"gridOn\": false}, \"visible\": true, \"fontsize\": 10.0, \"position\": \"left\", \"nticks\": 10, \"tickvalues\": null}], \"lines\": [{\"drawstyle\": \"default\", \"color\": \"#1F77B4\", \"yindex\": 1, \"coordinates\": \"data\", \"dasharray\": \"none\", \"zorder\": 2, \"alpha\": 1, \"xindex\": 0, \"linewidth\": 1.5, \"data\": \"data01\", \"id\": \"el858504722650384\"}, {\"drawstyle\": \"default\", \"color\": \"#1F77B4\", \"yindex\": 1, \"coordinates\": \"axes\", \"dasharray\": \"none\", \"zorder\": 1000002.0, \"alpha\": 1, \"xindex\": 0, \"linewidth\": 1.5, \"data\": \"data02\", \"id\": \"el858504719592656\"}], \"markers\": [], \"id\": \"el858504722763088\", \"ydomain\": [101.35, 907.65], \"collections\": [], \"xscale\": \"date\", \"bbox\": [0.125, 0.125, 0.775, 0.755]}], \"height\": 288.0, \"width\": 432.0, \"plugins\": [{\"type\": \"reset\"}, {\"enabled\": false, \"button\": true, \"type\": \"zoom\"}, {\"enabled\": false, \"button\": true, \"type\": \"boxzoom\"}], \"data\": {\"data02\": [[0.026881720430107503, 0.9379139072847682], [0.08661887694145756, 0.9379139072847682]], \"data03\": [[0.020908004778972505, 0.8900558774834437], [0.2572431302270012, 0.8900558774834437], [0.2632168458781362, 0.8900558774834437], [0.2632168458781362, 0.8992538171449596], [0.2632168458781362, 0.9678072111846947], [0.2632168458781362, 0.9770051508462105], [0.2572431302270012, 0.9770051508462105], [0.020908004778972505, 0.9770051508462105], [0.014934289127837508, 0.9770051508462105], [0.014934289127837508, 0.9678072111846947], [0.014934289127837508, 0.8992538171449596], [0.014934289127837508, 0.8900558774834437], [0.020908004778972505, 0.8900558774834437]], \"data01\": [[430.0, 141.0], [431.0, 157.0], [432.0, 185.0], [433.0, 199.0], [434.0, 203.0], [435.0, 189.0], [436.0, 207.0], [437.0, 207.0], [438.0, 171.0], [439.0, 150.0], [440.0, 138.0], [441.0, 165.0], [442.0, 145.0], [443.0, 168.0], [444.0, 197.0], [445.0, 208.0], [446.0, 210.0], [447.0, 209.0], [448.0, 238.0], [449.0, 238.0], [450.0, 199.0], [451.0, 168.0], [452.0, 152.0], [453.0, 196.0], [454.0, 183.0], [455.0, 200.0], [456.0, 249.0], [457.0, 251.0], [458.0, 289.0], [459.0, 249.0], [460.0, 279.0], [461.0, 279.0], [462.0, 232.0], [463.0, 204.0], [464.0, 194.0], [465.0, 232.0], [466.0, 215.0], [467.0, 239.0], [468.0, 270.0], [469.0, 279.0], [470.0, 307.0], [471.0, 305.0], [472.0, 322.0], [473.0, 339.0], [474.0, 263.0], [475.0, 241.0], [476.0, 229.0], [477.0, 272.0], [478.0, 247.0], [479.0, 261.0], [480.0, 330.0], [481.0, 362.0], [482.0, 385.0], [483.0, 340.0], [484.0, 370.0], [485.0, 381.0], [486.0, 299.0], [487.0, 266.0], [488.0, 239.0], [489.0, 281.0], [490.0, 257.0], [491.0, 250.0], [492.0, 329.0], [493.0, 350.0], [494.0, 393.0], [495.0, 370.0], [496.0, 423.0], [497.0, 410.0], [498.0, 326.0], [499.0, 289.0], [500.0, 270.0], [501.0, 321.0], [502.0, 305.0], [503.0, 310.0], [504.0, 374.0], [505.0, 414.0], [506.0, 454.0], [507.0, 441.0], [508.0, 510.0], [509.0, 486.0], [510.0, 393.0], [511.0, 345.0], [512.0, 315.0], [513.0, 389.0], [514.0, 358.0], [515.0, 368.0], [516.0, 444.0], [517.0, 482.0], [518.0, 534.0], [519.0, 524.0], [520.0, 578.0], [521.0, 567.0], [522.0, 447.0], [523.0, 386.0], [524.0, 360.0], [525.0, 428.0], [526.0, 397.0], [527.0, 400.0], [528.0, 498.0], [529.0, 536.0], [530.0, 596.0], [531.0, 591.0], [532.0, 651.0], [533.0, 654.0], [534.0, 509.0], [535.0, 437.0], [536.0, 406.0], [537.0, 470.0], [538.0, 428.0], [539.0, 423.0], [540.0, 507.0], [541.0, 536.0], [542.0, 610.0], [543.0, 609.0], [544.0, 687.0], [545.0, 707.0], [546.0, 509.0], [547.0, 452.0], [548.0, 412.0], [549.0, 472.0], [550.0, 454.0], [551.0, 455.0], [552.0, 568.0], [553.0, 610.0], [554.0, 706.0], [555.0, 661.0], [556.0, 767.0], [557.0, 783.0], [558.0, 583.0], [559.0, 513.0], [560.0, 481.0], [561.0, 567.0], [562.0, 525.0], [563.0, 520.0], [564.0, 587.0], [565.0, 710.0], [566.0, 793.0], [567.0, 749.0], [568.0, 871.0], [569.0, 848.0], [570.0, 640.0], [571.0, 581.0], [572.0, 519.0], [573.0, 605.0]]}, \"id\": \"el858504722805200\"});\n",
       "            })\n",
       "         });\n",
       "}\n",
       "</script>"
      ],
      "text/plain": [
       "<matplotlib.figure.Figure at 0x1198049d0>"
      ]
     },
     "metadata": {},
     "output_type": "display_data"
    }
   ],
   "source": [
    "df.plot()"
   ]
  },
  {
   "cell_type": "markdown",
   "metadata": {},
   "source": [
    "What observations can we make about the behavior of the data that might help our predictions?\n",
    "\n",
    "When looking at time series data, it's important to look for patterns that our model can try to use to make a prediction. \n",
    "We do this by asking four central questions:\n",
    "\n",
    " 1. Is there a **Trend**?.........................The direction that the data is headed in, increasing or decreasing. Data with no up or down trend is said to be \"stationary\".\n",
    " 2. Is there **Changing Variance**?......Time series data tends to fluctuate a lot. Does the scale of those fluctuations change over time? \n",
    " 3. Is there **Seasonality**?..................Patterns associated with days, weeks, months\n",
    " 4. Are there **Long-run Cycles**?.......Patterns occuring beyond the scale of months, not described by seasonal change. \n",
    " \n",
    "So first of all, let's have a look at our **trend**.\n",
    "\n",
    "The trend between two points is defined as the difference between one number and a number after it. If one month I sell 200 hats and the next day I sell 220, I'm trending up by 220 hats a month!\n",
    "\n",
    "We want to know if that month-to-month trend is consistent over the entire time period.\n",
    "\n",
    "What we want is a record of all the differences between adjacent months. We can do this by subtracting the list of previous month sales from the list of current month sales. This method is called *differencing*.\n",
    "\n",
    "Below, create a new column in our dataframe by typing  **`df['diff_hats_sold']`** and set it equal to **`df.hats_sold`** minus **`df.hats_sold.shift()`**, which shifts the column by one (giving you the previous month's values).\n",
    "\n",
    "Have a look at the result with **`df.head(10)`**:"
   ]
  },
  {
   "cell_type": "code",
   "execution_count": 45,
   "metadata": {},
   "outputs": [
    {
     "data": {
      "text/html": [
       "<div>\n",
       "<style>\n",
       "    .dataframe thead tr:only-child th {\n",
       "        text-align: right;\n",
       "    }\n",
       "\n",
       "    .dataframe thead th {\n",
       "        text-align: left;\n",
       "    }\n",
       "\n",
       "    .dataframe tbody tr th {\n",
       "        vertical-align: top;\n",
       "    }\n",
       "</style>\n",
       "<table border=\"1\" class=\"dataframe\">\n",
       "  <thead>\n",
       "    <tr style=\"text-align: right;\">\n",
       "      <th></th>\n",
       "      <th>hats_sold</th>\n",
       "      <th>diff_hats_sold</th>\n",
       "    </tr>\n",
       "    <tr>\n",
       "      <th>month</th>\n",
       "      <th></th>\n",
       "      <th></th>\n",
       "    </tr>\n",
       "  </thead>\n",
       "  <tbody>\n",
       "    <tr>\n",
       "      <th>2005-11-01</th>\n",
       "      <td>141</td>\n",
       "      <td>NaN</td>\n",
       "    </tr>\n",
       "    <tr>\n",
       "      <th>2005-12-01</th>\n",
       "      <td>157</td>\n",
       "      <td>16.0</td>\n",
       "    </tr>\n",
       "    <tr>\n",
       "      <th>2006-01-01</th>\n",
       "      <td>185</td>\n",
       "      <td>28.0</td>\n",
       "    </tr>\n",
       "    <tr>\n",
       "      <th>2006-02-01</th>\n",
       "      <td>199</td>\n",
       "      <td>14.0</td>\n",
       "    </tr>\n",
       "    <tr>\n",
       "      <th>2006-03-01</th>\n",
       "      <td>203</td>\n",
       "      <td>4.0</td>\n",
       "    </tr>\n",
       "    <tr>\n",
       "      <th>2006-04-01</th>\n",
       "      <td>189</td>\n",
       "      <td>-14.0</td>\n",
       "    </tr>\n",
       "    <tr>\n",
       "      <th>2006-05-01</th>\n",
       "      <td>207</td>\n",
       "      <td>18.0</td>\n",
       "    </tr>\n",
       "    <tr>\n",
       "      <th>2006-06-01</th>\n",
       "      <td>207</td>\n",
       "      <td>0.0</td>\n",
       "    </tr>\n",
       "    <tr>\n",
       "      <th>2006-07-01</th>\n",
       "      <td>171</td>\n",
       "      <td>-36.0</td>\n",
       "    </tr>\n",
       "    <tr>\n",
       "      <th>2006-08-01</th>\n",
       "      <td>150</td>\n",
       "      <td>-21.0</td>\n",
       "    </tr>\n",
       "  </tbody>\n",
       "</table>\n",
       "</div>"
      ],
      "text/plain": [
       "            hats_sold  diff_hats_sold\n",
       "month                                \n",
       "2005-11-01        141             NaN\n",
       "2005-12-01        157            16.0\n",
       "2006-01-01        185            28.0\n",
       "2006-02-01        199            14.0\n",
       "2006-03-01        203             4.0\n",
       "2006-04-01        189           -14.0\n",
       "2006-05-01        207            18.0\n",
       "2006-06-01        207             0.0\n",
       "2006-07-01        171           -36.0\n",
       "2006-08-01        150           -21.0"
      ]
     },
     "execution_count": 45,
     "metadata": {},
     "output_type": "execute_result"
    }
   ],
   "source": [
    "df['diff_hats_sold'] = df.hats_sold - df.hats_sold.shift()\n",
    "df.head(10)"
   ]
  },
  {
   "cell_type": "markdown",
   "metadata": {},
   "source": [
    "Now let's plot the result by writing **`df.plot(y='diff_hats_sold')`**:"
   ]
  },
  {
   "cell_type": "code",
   "execution_count": 46,
   "metadata": {},
   "outputs": [
    {
     "data": {
      "text/plain": [
       "<matplotlib.axes._subplots.AxesSubplot at 0x1198d34d0>"
      ]
     },
     "execution_count": 46,
     "metadata": {},
     "output_type": "execute_result"
    },
    {
     "data": {
      "image/png": "[encoded data removed]",
      "text/html": [
       "\n",
       "\n",
       "<style>\n",
       "\n",
       "</style>\n",
       "\n",
       "<div id=\"fig_el8585047151385762031718151\"></div>\n",
       "<script>\n",
       "function mpld3_load_lib(url, callback){\n",
       "  var s = document.createElement('script');\n",
       "  s.src = url;\n",
       "  s.async = true;\n",
       "  s.onreadystatechange = s.onload = callback;\n",
       "  s.onerror = function(){console.warn(\"failed to load library \" + url);};\n",
       "  document.getElementsByTagName(\"head\")[0].appendChild(s);\n",
       "}\n",
       "\n",
       "if(typeof(mpld3) !== \"undefined\" && mpld3._mpld3IsLoaded){\n",
       "   // already loaded: just create the figure\n",
       "   !function(mpld3){\n",
       "       \n",
       "       mpld3.draw_figure(\"fig_el8585047151385762031718151\", {\"axes\": [{\"xlim\": [430.0, 573.0], \"yscale\": \"linear\", \"axesbg\": \"#FFFFFF\", \"texts\": [{\"v_baseline\": \"hanging\", \"h_anchor\": \"middle\", \"color\": \"#000000\", \"text\": \"month\", \"coordinates\": \"axes\", \"zorder\": 3, \"alpha\": 1, \"fontsize\": 10.0, \"position\": [0.49999999999999994, -0.09657836644591611], \"rotation\": -0.0, \"id\": \"el858504723152144\"}, {\"v_baseline\": \"auto\", \"h_anchor\": \"start\", \"color\": \"#000000\", \"text\": \"diff_hats_sold\", \"coordinates\": \"axes\", \"zorder\": 1000003.0, \"alpha\": 1, \"fontsize\": 10.0, \"position\": [0.11051373954599761, 0.9218175128771156], \"rotation\": -0.0, \"id\": \"el858504724326864\"}], \"zoomable\": true, \"images\": [], \"xdomain\": [[2005, 10, 30, 0, 0, 0, 0], [2017, 9, 31, 0, 0, 0, 0]], \"ylim\": [-224.55, 139.55], \"paths\": [{\"edgecolor\": \"#CCCCCC\", \"facecolor\": \"#FFFFFF\", \"edgewidth\": 1.0, \"pathcodes\": [\"M\", \"L\", \"S\", \"L\", \"S\", \"L\", \"S\", \"L\", \"S\", \"Z\"], \"yindex\": 1, \"coordinates\": \"axes\", \"dasharray\": \"none\", \"zorder\": 1000000.0, \"alpha\": 0.8, \"xindex\": 0, \"data\": \"data03\", \"id\": \"el858504724246672\"}], \"sharey\": [], \"sharex\": [], \"axesbgalpha\": null, \"axes\": [{\"scale\": \"linear\", \"tickformat\": null, \"grid\": {\"gridOn\": false}, \"visible\": true, \"fontsize\": 10.0, \"position\": \"bottom\", \"nticks\": 6, \"tickvalues\": null}, {\"scale\": \"linear\", \"tickformat\": null, \"grid\": {\"gridOn\": false}, \"visible\": true, \"fontsize\": 10.0, \"position\": \"left\", \"nticks\": 9, \"tickvalues\": null}], \"lines\": [{\"drawstyle\": \"default\", \"color\": \"#1F77B4\", \"yindex\": 1, \"coordinates\": \"data\", \"dasharray\": \"none\", \"zorder\": 2, \"alpha\": 1, \"xindex\": 0, \"linewidth\": 1.5, \"data\": \"data01\", \"id\": \"el858504724789456\"}, {\"drawstyle\": \"default\", \"color\": \"#1F77B4\", \"yindex\": 1, \"coordinates\": \"axes\", \"dasharray\": \"none\", \"zorder\": 1000002.0, \"alpha\": 1, \"xindex\": 0, \"linewidth\": 1.5, \"data\": \"data02\", \"id\": \"el858504724327760\"}], \"markers\": [], \"id\": \"el858504723651792\", \"ydomain\": [-224.55, 139.55], \"collections\": [], \"xscale\": \"date\", \"bbox\": [0.125, 0.125, 0.775, 0.755]}], \"height\": 288.0, \"width\": 432.0, \"plugins\": [{\"type\": \"reset\"}, {\"enabled\": false, \"button\": true, \"type\": \"zoom\"}, {\"enabled\": false, \"button\": true, \"type\": \"boxzoom\"}], \"data\": {\"data02\": [[0.026881720430107503, 0.9379139072847682], [0.08661887694145756, 0.9379139072847682]], \"data03\": [[0.020908004778972505, 0.8900558774834437], [0.3214605734767024, 0.8900558774834437], [0.32743428912783745, 0.8900558774834437], [0.32743428912783745, 0.8992538171449596], [0.32743428912783745, 0.9678072111846947], [0.32743428912783745, 0.9770051508462105], [0.3214605734767024, 0.9770051508462105], [0.020908004778972505, 0.9770051508462105], [0.014934289127837508, 0.9770051508462105], [0.014934289127837508, 0.9678072111846947], [0.014934289127837508, 0.8992538171449596], [0.014934289127837508, 0.8900558774834437], [0.020908004778972505, 0.8900558774834437]], \"data01\": [[430.0, NaN], [431.0, 16.0], [432.0, 28.0], [433.0, 14.0], [434.0, 4.0], [435.0, -14.0], [436.0, 18.0], [437.0, 0.0], [438.0, -36.0], [439.0, -21.0], [440.0, -12.0], [441.0, 27.0], [442.0, -20.0], [443.0, 23.0], [444.0, 29.0], [445.0, 11.0], [446.0, 2.0], [447.0, -1.0], [448.0, 29.0], [449.0, 0.0], [450.0, -39.0], [451.0, -31.0], [452.0, -16.0], [453.0, 44.0], [454.0, -13.0], [455.0, 17.0], [456.0, 49.0], [457.0, 2.0], [458.0, 38.0], [459.0, -40.0], [460.0, 30.0], [461.0, 0.0], [462.0, -47.0], [463.0, -28.0], [464.0, -10.0], [465.0, 38.0], [466.0, -17.0], [467.0, 24.0], [468.0, 31.0], [469.0, 9.0], [470.0, 28.0], [471.0, -2.0], [472.0, 17.0], [473.0, 17.0], [474.0, -76.0], [475.0, -22.0], [476.0, -12.0], [477.0, 43.0], [478.0, -25.0], [479.0, 14.0], [480.0, 69.0], [481.0, 32.0], [482.0, 23.0], [483.0, -45.0], [484.0, 30.0], [485.0, 11.0], [486.0, -82.0], [487.0, -33.0], [488.0, -27.0], [489.0, 42.0], [490.0, -24.0], [491.0, -7.0], [492.0, 79.0], [493.0, 21.0], [494.0, 43.0], [495.0, -23.0], [496.0, 53.0], [497.0, -13.0], [498.0, -84.0], [499.0, -37.0], [500.0, -19.0], [501.0, 51.0], [502.0, -16.0], [503.0, 5.0], [504.0, 64.0], [505.0, 40.0], [506.0, 40.0], [507.0, -13.0], [508.0, 69.0], [509.0, -24.0], [510.0, -93.0], [511.0, -48.0], [512.0, -30.0], [513.0, 74.0], [514.0, -31.0], [515.0, 10.0], [516.0, 76.0], [517.0, 38.0], [518.0, 52.0], [519.0, -10.0], [520.0, 54.0], [521.0, -11.0], [522.0, -120.0], [523.0, -61.0], [524.0, -26.0], [525.0, 68.0], [526.0, -31.0], [527.0, 3.0], [528.0, 98.0], [529.0, 38.0], [530.0, 60.0], [531.0, -5.0], [532.0, 60.0], [533.0, 3.0], [534.0, -145.0], [535.0, -72.0], [536.0, -31.0], [537.0, 64.0], [538.0, -42.0], [539.0, -5.0], [540.0, 84.0], [541.0, 29.0], [542.0, 74.0], [543.0, -1.0], [544.0, 78.0], [545.0, 20.0], [546.0, -198.0], [547.0, -57.0], [548.0, -40.0], [549.0, 60.0], [550.0, -18.0], [551.0, 1.0], [552.0, 113.0], [553.0, 42.0], [554.0, 96.0], [555.0, -45.0], [556.0, 106.0], [557.0, 16.0], [558.0, -200.0], [559.0, -70.0], [560.0, -32.0], [561.0, 86.0], [562.0, -42.0], [563.0, -5.0], [564.0, 67.0], [565.0, 123.0], [566.0, 83.0], [567.0, -44.0], [568.0, 122.0], [569.0, -23.0], [570.0, -208.0], [571.0, -59.0], [572.0, -62.0], [573.0, 86.0]]}, \"id\": \"el858504715138576\"});\n",
       "   }(mpld3);\n",
       "}else if(typeof define === \"function\" && define.amd){\n",
       "   // require.js is available: use it to load d3/mpld3\n",
       "   require.config({paths: {d3: \"https://mpld3.github.io/js/d3.v3.min\"}});\n",
       "   require([\"d3\"], function(d3){\n",
       "      window.d3 = d3;\n",
       "      mpld3_load_lib(\"https://mpld3.github.io/js/mpld3.v0.3.js\", function(){\n",
       "         \n",
       "         mpld3.draw_figure(\"fig_el8585047151385762031718151\", {\"axes\": [{\"xlim\": [430.0, 573.0], \"yscale\": \"linear\", \"axesbg\": \"#FFFFFF\", \"texts\": [{\"v_baseline\": \"hanging\", \"h_anchor\": \"middle\", \"color\": \"#000000\", \"text\": \"month\", \"coordinates\": \"axes\", \"zorder\": 3, \"alpha\": 1, \"fontsize\": 10.0, \"position\": [0.49999999999999994, -0.09657836644591611], \"rotation\": -0.0, \"id\": \"el858504723152144\"}, {\"v_baseline\": \"auto\", \"h_anchor\": \"start\", \"color\": \"#000000\", \"text\": \"diff_hats_sold\", \"coordinates\": \"axes\", \"zorder\": 1000003.0, \"alpha\": 1, \"fontsize\": 10.0, \"position\": [0.11051373954599761, 0.9218175128771156], \"rotation\": -0.0, \"id\": \"el858504724326864\"}], \"zoomable\": true, \"images\": [], \"xdomain\": [[2005, 10, 30, 0, 0, 0, 0], [2017, 9, 31, 0, 0, 0, 0]], \"ylim\": [-224.55, 139.55], \"paths\": [{\"edgecolor\": \"#CCCCCC\", \"facecolor\": \"#FFFFFF\", \"edgewidth\": 1.0, \"pathcodes\": [\"M\", \"L\", \"S\", \"L\", \"S\", \"L\", \"S\", \"L\", \"S\", \"Z\"], \"yindex\": 1, \"coordinates\": \"axes\", \"dasharray\": \"none\", \"zorder\": 1000000.0, \"alpha\": 0.8, \"xindex\": 0, \"data\": \"data03\", \"id\": \"el858504724246672\"}], \"sharey\": [], \"sharex\": [], \"axesbgalpha\": null, \"axes\": [{\"scale\": \"linear\", \"tickformat\": null, \"grid\": {\"gridOn\": false}, \"visible\": true, \"fontsize\": 10.0, \"position\": \"bottom\", \"nticks\": 6, \"tickvalues\": null}, {\"scale\": \"linear\", \"tickformat\": null, \"grid\": {\"gridOn\": false}, \"visible\": true, \"fontsize\": 10.0, \"position\": \"left\", \"nticks\": 9, \"tickvalues\": null}], \"lines\": [{\"drawstyle\": \"default\", \"color\": \"#1F77B4\", \"yindex\": 1, \"coordinates\": \"data\", \"dasharray\": \"none\", \"zorder\": 2, \"alpha\": 1, \"xindex\": 0, \"linewidth\": 1.5, \"data\": \"data01\", \"id\": \"el858504724789456\"}, {\"drawstyle\": \"default\", \"color\": \"#1F77B4\", \"yindex\": 1, \"coordinates\": \"axes\", \"dasharray\": \"none\", \"zorder\": 1000002.0, \"alpha\": 1, \"xindex\": 0, \"linewidth\": 1.5, \"data\": \"data02\", \"id\": \"el858504724327760\"}], \"markers\": [], \"id\": \"el858504723651792\", \"ydomain\": [-224.55, 139.55], \"collections\": [], \"xscale\": \"date\", \"bbox\": [0.125, 0.125, 0.775, 0.755]}], \"height\": 288.0, \"width\": 432.0, \"plugins\": [{\"type\": \"reset\"}, {\"enabled\": false, \"button\": true, \"type\": \"zoom\"}, {\"enabled\": false, \"button\": true, \"type\": \"boxzoom\"}], \"data\": {\"data02\": [[0.026881720430107503, 0.9379139072847682], [0.08661887694145756, 0.9379139072847682]], \"data03\": [[0.020908004778972505, 0.8900558774834437], [0.3214605734767024, 0.8900558774834437], [0.32743428912783745, 0.8900558774834437], [0.32743428912783745, 0.8992538171449596], [0.32743428912783745, 0.9678072111846947], [0.32743428912783745, 0.9770051508462105], [0.3214605734767024, 0.9770051508462105], [0.020908004778972505, 0.9770051508462105], [0.014934289127837508, 0.9770051508462105], [0.014934289127837508, 0.9678072111846947], [0.014934289127837508, 0.8992538171449596], [0.014934289127837508, 0.8900558774834437], [0.020908004778972505, 0.8900558774834437]], \"data01\": [[430.0, NaN], [431.0, 16.0], [432.0, 28.0], [433.0, 14.0], [434.0, 4.0], [435.0, -14.0], [436.0, 18.0], [437.0, 0.0], [438.0, -36.0], [439.0, -21.0], [440.0, -12.0], [441.0, 27.0], [442.0, -20.0], [443.0, 23.0], [444.0, 29.0], [445.0, 11.0], [446.0, 2.0], [447.0, -1.0], [448.0, 29.0], [449.0, 0.0], [450.0, -39.0], [451.0, -31.0], [452.0, -16.0], [453.0, 44.0], [454.0, -13.0], [455.0, 17.0], [456.0, 49.0], [457.0, 2.0], [458.0, 38.0], [459.0, -40.0], [460.0, 30.0], [461.0, 0.0], [462.0, -47.0], [463.0, -28.0], [464.0, -10.0], [465.0, 38.0], [466.0, -17.0], [467.0, 24.0], [468.0, 31.0], [469.0, 9.0], [470.0, 28.0], [471.0, -2.0], [472.0, 17.0], [473.0, 17.0], [474.0, -76.0], [475.0, -22.0], [476.0, -12.0], [477.0, 43.0], [478.0, -25.0], [479.0, 14.0], [480.0, 69.0], [481.0, 32.0], [482.0, 23.0], [483.0, -45.0], [484.0, 30.0], [485.0, 11.0], [486.0, -82.0], [487.0, -33.0], [488.0, -27.0], [489.0, 42.0], [490.0, -24.0], [491.0, -7.0], [492.0, 79.0], [493.0, 21.0], [494.0, 43.0], [495.0, -23.0], [496.0, 53.0], [497.0, -13.0], [498.0, -84.0], [499.0, -37.0], [500.0, -19.0], [501.0, 51.0], [502.0, -16.0], [503.0, 5.0], [504.0, 64.0], [505.0, 40.0], [506.0, 40.0], [507.0, -13.0], [508.0, 69.0], [509.0, -24.0], [510.0, -93.0], [511.0, -48.0], [512.0, -30.0], [513.0, 74.0], [514.0, -31.0], [515.0, 10.0], [516.0, 76.0], [517.0, 38.0], [518.0, 52.0], [519.0, -10.0], [520.0, 54.0], [521.0, -11.0], [522.0, -120.0], [523.0, -61.0], [524.0, -26.0], [525.0, 68.0], [526.0, -31.0], [527.0, 3.0], [528.0, 98.0], [529.0, 38.0], [530.0, 60.0], [531.0, -5.0], [532.0, 60.0], [533.0, 3.0], [534.0, -145.0], [535.0, -72.0], [536.0, -31.0], [537.0, 64.0], [538.0, -42.0], [539.0, -5.0], [540.0, 84.0], [541.0, 29.0], [542.0, 74.0], [543.0, -1.0], [544.0, 78.0], [545.0, 20.0], [546.0, -198.0], [547.0, -57.0], [548.0, -40.0], [549.0, 60.0], [550.0, -18.0], [551.0, 1.0], [552.0, 113.0], [553.0, 42.0], [554.0, 96.0], [555.0, -45.0], [556.0, 106.0], [557.0, 16.0], [558.0, -200.0], [559.0, -70.0], [560.0, -32.0], [561.0, 86.0], [562.0, -42.0], [563.0, -5.0], [564.0, 67.0], [565.0, 123.0], [566.0, 83.0], [567.0, -44.0], [568.0, 122.0], [569.0, -23.0], [570.0, -208.0], [571.0, -59.0], [572.0, -62.0], [573.0, 86.0]]}, \"id\": \"el858504715138576\"});\n",
       "      });\n",
       "    });\n",
       "}else{\n",
       "    // require.js not available: dynamically load d3 & mpld3\n",
       "    mpld3_load_lib(\"https://mpld3.github.io/js/d3.v3.min.js\", function(){\n",
       "         mpld3_load_lib(\"https://mpld3.github.io/js/mpld3.v0.3.js\", function(){\n",
       "                 \n",
       "                 mpld3.draw_figure(\"fig_el8585047151385762031718151\", {\"axes\": [{\"xlim\": [430.0, 573.0], \"yscale\": \"linear\", \"axesbg\": \"#FFFFFF\", \"texts\": [{\"v_baseline\": \"hanging\", \"h_anchor\": \"middle\", \"color\": \"#000000\", \"text\": \"month\", \"coordinates\": \"axes\", \"zorder\": 3, \"alpha\": 1, \"fontsize\": 10.0, \"position\": [0.49999999999999994, -0.09657836644591611], \"rotation\": -0.0, \"id\": \"el858504723152144\"}, {\"v_baseline\": \"auto\", \"h_anchor\": \"start\", \"color\": \"#000000\", \"text\": \"diff_hats_sold\", \"coordinates\": \"axes\", \"zorder\": 1000003.0, \"alpha\": 1, \"fontsize\": 10.0, \"position\": [0.11051373954599761, 0.9218175128771156], \"rotation\": -0.0, \"id\": \"el858504724326864\"}], \"zoomable\": true, \"images\": [], \"xdomain\": [[2005, 10, 30, 0, 0, 0, 0], [2017, 9, 31, 0, 0, 0, 0]], \"ylim\": [-224.55, 139.55], \"paths\": [{\"edgecolor\": \"#CCCCCC\", \"facecolor\": \"#FFFFFF\", \"edgewidth\": 1.0, \"pathcodes\": [\"M\", \"L\", \"S\", \"L\", \"S\", \"L\", \"S\", \"L\", \"S\", \"Z\"], \"yindex\": 1, \"coordinates\": \"axes\", \"dasharray\": \"none\", \"zorder\": 1000000.0, \"alpha\": 0.8, \"xindex\": 0, \"data\": \"data03\", \"id\": \"el858504724246672\"}], \"sharey\": [], \"sharex\": [], \"axesbgalpha\": null, \"axes\": [{\"scale\": \"linear\", \"tickformat\": null, \"grid\": {\"gridOn\": false}, \"visible\": true, \"fontsize\": 10.0, \"position\": \"bottom\", \"nticks\": 6, \"tickvalues\": null}, {\"scale\": \"linear\", \"tickformat\": null, \"grid\": {\"gridOn\": false}, \"visible\": true, \"fontsize\": 10.0, \"position\": \"left\", \"nticks\": 9, \"tickvalues\": null}], \"lines\": [{\"drawstyle\": \"default\", \"color\": \"#1F77B4\", \"yindex\": 1, \"coordinates\": \"data\", \"dasharray\": \"none\", \"zorder\": 2, \"alpha\": 1, \"xindex\": 0, \"linewidth\": 1.5, \"data\": \"data01\", \"id\": \"el858504724789456\"}, {\"drawstyle\": \"default\", \"color\": \"#1F77B4\", \"yindex\": 1, \"coordinates\": \"axes\", \"dasharray\": \"none\", \"zorder\": 1000002.0, \"alpha\": 1, \"xindex\": 0, \"linewidth\": 1.5, \"data\": \"data02\", \"id\": \"el858504724327760\"}], \"markers\": [], \"id\": \"el858504723651792\", \"ydomain\": [-224.55, 139.55], \"collections\": [], \"xscale\": \"date\", \"bbox\": [0.125, 0.125, 0.775, 0.755]}], \"height\": 288.0, \"width\": 432.0, \"plugins\": [{\"type\": \"reset\"}, {\"enabled\": false, \"button\": true, \"type\": \"zoom\"}, {\"enabled\": false, \"button\": true, \"type\": \"boxzoom\"}], \"data\": {\"data02\": [[0.026881720430107503, 0.9379139072847682], [0.08661887694145756, 0.9379139072847682]], \"data03\": [[0.020908004778972505, 0.8900558774834437], [0.3214605734767024, 0.8900558774834437], [0.32743428912783745, 0.8900558774834437], [0.32743428912783745, 0.8992538171449596], [0.32743428912783745, 0.9678072111846947], [0.32743428912783745, 0.9770051508462105], [0.3214605734767024, 0.9770051508462105], [0.020908004778972505, 0.9770051508462105], [0.014934289127837508, 0.9770051508462105], [0.014934289127837508, 0.9678072111846947], [0.014934289127837508, 0.8992538171449596], [0.014934289127837508, 0.8900558774834437], [0.020908004778972505, 0.8900558774834437]], \"data01\": [[430.0, NaN], [431.0, 16.0], [432.0, 28.0], [433.0, 14.0], [434.0, 4.0], [435.0, -14.0], [436.0, 18.0], [437.0, 0.0], [438.0, -36.0], [439.0, -21.0], [440.0, -12.0], [441.0, 27.0], [442.0, -20.0], [443.0, 23.0], [444.0, 29.0], [445.0, 11.0], [446.0, 2.0], [447.0, -1.0], [448.0, 29.0], [449.0, 0.0], [450.0, -39.0], [451.0, -31.0], [452.0, -16.0], [453.0, 44.0], [454.0, -13.0], [455.0, 17.0], [456.0, 49.0], [457.0, 2.0], [458.0, 38.0], [459.0, -40.0], [460.0, 30.0], [461.0, 0.0], [462.0, -47.0], [463.0, -28.0], [464.0, -10.0], [465.0, 38.0], [466.0, -17.0], [467.0, 24.0], [468.0, 31.0], [469.0, 9.0], [470.0, 28.0], [471.0, -2.0], [472.0, 17.0], [473.0, 17.0], [474.0, -76.0], [475.0, -22.0], [476.0, -12.0], [477.0, 43.0], [478.0, -25.0], [479.0, 14.0], [480.0, 69.0], [481.0, 32.0], [482.0, 23.0], [483.0, -45.0], [484.0, 30.0], [485.0, 11.0], [486.0, -82.0], [487.0, -33.0], [488.0, -27.0], [489.0, 42.0], [490.0, -24.0], [491.0, -7.0], [492.0, 79.0], [493.0, 21.0], [494.0, 43.0], [495.0, -23.0], [496.0, 53.0], [497.0, -13.0], [498.0, -84.0], [499.0, -37.0], [500.0, -19.0], [501.0, 51.0], [502.0, -16.0], [503.0, 5.0], [504.0, 64.0], [505.0, 40.0], [506.0, 40.0], [507.0, -13.0], [508.0, 69.0], [509.0, -24.0], [510.0, -93.0], [511.0, -48.0], [512.0, -30.0], [513.0, 74.0], [514.0, -31.0], [515.0, 10.0], [516.0, 76.0], [517.0, 38.0], [518.0, 52.0], [519.0, -10.0], [520.0, 54.0], [521.0, -11.0], [522.0, -120.0], [523.0, -61.0], [524.0, -26.0], [525.0, 68.0], [526.0, -31.0], [527.0, 3.0], [528.0, 98.0], [529.0, 38.0], [530.0, 60.0], [531.0, -5.0], [532.0, 60.0], [533.0, 3.0], [534.0, -145.0], [535.0, -72.0], [536.0, -31.0], [537.0, 64.0], [538.0, -42.0], [539.0, -5.0], [540.0, 84.0], [541.0, 29.0], [542.0, 74.0], [543.0, -1.0], [544.0, 78.0], [545.0, 20.0], [546.0, -198.0], [547.0, -57.0], [548.0, -40.0], [549.0, 60.0], [550.0, -18.0], [551.0, 1.0], [552.0, 113.0], [553.0, 42.0], [554.0, 96.0], [555.0, -45.0], [556.0, 106.0], [557.0, 16.0], [558.0, -200.0], [559.0, -70.0], [560.0, -32.0], [561.0, 86.0], [562.0, -42.0], [563.0, -5.0], [564.0, 67.0], [565.0, 123.0], [566.0, 83.0], [567.0, -44.0], [568.0, 122.0], [569.0, -23.0], [570.0, -208.0], [571.0, -59.0], [572.0, -62.0], [573.0, 86.0]]}, \"id\": \"el858504715138576\"});\n",
       "            })\n",
       "         });\n",
       "}\n",
       "</script>"
      ],
      "text/plain": [
       "<matplotlib.figure.Figure at 0x1190b4e10>"
      ]
     },
     "metadata": {},
     "output_type": "display_data"
    }
   ],
   "source": [
    "df.plot(y='diff_hats_sold')"
   ]
  },
  {
   "cell_type": "markdown",
   "metadata": {},
   "source": [
    "Interesting. So as we can see, differencing has eliminated our trend, so now the data is stationary. This is good, it means that the trend was simple, so we easily use it to predict the future. If wasn't stationary after differencing (still had some obvious trend) we would have to keep differencing until we induced stationarity.\n",
    "\n",
    "What is now obvious about how our data is changing over time? It looks like variance increases a lot.\n",
    "\n",
    "A common trick to controlling variance is to *take the log*. As we saw in the intro, this has the effect of keeping big changes in a consistent range.\n",
    "\n",
    "But wait! It looks like the differenced data has a lot of negative values - and you can't take the log of negative values. So rather than differencing and then logging, we're going to have to log first and then difference.\n",
    "\n",
    "Let's take the log of our original data. Create a new column called `'log_hats_sold'` and set it equal to the log of `df.hats_sold`.\n",
    "\n",
    "Then, on the second line, plot the column using **`df.plot(y='log_hats_sold')`**.\n",
    "\n",
    "*NOTE: recall that the function to call is `np.log()`*"
   ]
  },
  {
   "cell_type": "code",
   "execution_count": 47,
   "metadata": {},
   "outputs": [
    {
     "data": {
      "text/plain": [
       "<matplotlib.axes._subplots.AxesSubplot at 0x1199e9790>"
      ]
     },
     "execution_count": 47,
     "metadata": {},
     "output_type": "execute_result"
    },
    {
     "data": {
      "image/png": "[encoded data removed]",
      "text/html": [
       "\n",
       "\n",
       "<style>\n",
       "\n",
       "</style>\n",
       "\n",
       "<div id=\"fig_el8585047178279844543116630\"></div>\n",
       "<script>\n",
       "function mpld3_load_lib(url, callback){\n",
       "  var s = document.createElement('script');\n",
       "  s.src = url;\n",
       "  s.async = true;\n",
       "  s.onreadystatechange = s.onload = callback;\n",
       "  s.onerror = function(){console.warn(\"failed to load library \" + url);};\n",
       "  document.getElementsByTagName(\"head\")[0].appendChild(s);\n",
       "}\n",
       "\n",
       "if(typeof(mpld3) !== \"undefined\" && mpld3._mpld3IsLoaded){\n",
       "   // already loaded: just create the figure\n",
       "   !function(mpld3){\n",
       "       \n",
       "       mpld3.draw_figure(\"fig_el8585047178279844543116630\", {\"axes\": [{\"xlim\": [430.0, 573.0], \"yscale\": \"linear\", \"axesbg\": \"#FFFFFF\", \"texts\": [{\"v_baseline\": \"hanging\", \"h_anchor\": \"middle\", \"color\": \"#000000\", \"text\": \"month\", \"coordinates\": \"axes\", \"zorder\": 3, \"alpha\": 1, \"fontsize\": 10.0, \"position\": [0.49999999999999994, -0.09657836644591611], \"rotation\": -0.0, \"id\": \"el858504724633936\"}, {\"v_baseline\": \"auto\", \"h_anchor\": \"start\", \"color\": \"#000000\", \"text\": \"log_hats_sold\", \"coordinates\": \"axes\", \"zorder\": 1000003.0, \"alpha\": 1, \"fontsize\": 10.0, \"position\": [0.11051373954599761, 0.9218175128771156], \"rotation\": -0.0, \"id\": \"el858504727040336\"}], \"zoomable\": true, \"images\": [], \"xdomain\": [[2005, 10, 30, 0, 0, 0, 0], [2017, 9, 31, 0, 0, 0, 0]], \"ylim\": [4.83513427057244, 6.861761391437268], \"paths\": [{\"edgecolor\": \"#CCCCCC\", \"facecolor\": \"#FFFFFF\", \"edgewidth\": 1.0, \"pathcodes\": [\"M\", \"L\", \"S\", \"L\", \"S\", \"L\", \"S\", \"L\", \"S\", \"Z\"], \"yindex\": 1, \"coordinates\": \"axes\", \"dasharray\": \"none\", \"zorder\": 1000000.0, \"alpha\": 0.8, \"xindex\": 0, \"data\": \"data03\", \"id\": \"el858504726976336\"}], \"sharey\": [], \"sharex\": [], \"axesbgalpha\": null, \"axes\": [{\"scale\": \"linear\", \"tickformat\": null, \"grid\": {\"gridOn\": false}, \"visible\": true, \"fontsize\": 10.0, \"position\": \"bottom\", \"nticks\": 6, \"tickvalues\": null}, {\"scale\": \"linear\", \"tickformat\": null, \"grid\": {\"gridOn\": false}, \"visible\": true, \"fontsize\": 10.0, \"position\": \"left\", \"nticks\": 10, \"tickvalues\": null}], \"lines\": [{\"drawstyle\": \"default\", \"color\": \"#1F77B4\", \"yindex\": 1, \"coordinates\": \"data\", \"dasharray\": \"none\", \"zorder\": 2, \"alpha\": 1, \"xindex\": 0, \"linewidth\": 1.5, \"data\": \"data01\", \"id\": \"el858504725573840\"}, {\"drawstyle\": \"default\", \"color\": \"#1F77B4\", \"yindex\": 1, \"coordinates\": \"axes\", \"dasharray\": \"none\", \"zorder\": 1000002.0, \"alpha\": 1, \"xindex\": 0, \"linewidth\": 1.5, \"data\": \"data02\", \"id\": \"el858504727041232\"}], \"markers\": [], \"id\": \"el858504724791184\", \"ydomain\": [4.83513427057244, 6.861761391437268], \"collections\": [], \"xscale\": \"date\", \"bbox\": [0.125, 0.125, 0.775, 0.755]}], \"height\": 288.0, \"width\": 432.0, \"plugins\": [{\"type\": \"reset\"}, {\"enabled\": false, \"button\": true, \"type\": \"zoom\"}, {\"enabled\": false, \"button\": true, \"type\": \"boxzoom\"}], \"data\": {\"data02\": [[0.026881720430107503, 0.9379139072847682], [0.08661887694145756, 0.9379139072847682]], \"data03\": [[0.020908004778972505, 0.8900558774834437], [0.31772700119474306, 0.8900558774834437], [0.3237007168458781, 0.8900558774834437], [0.3237007168458781, 0.8992538171449596], [0.3237007168458781, 0.9678072111846947], [0.3237007168458781, 0.9770051508462105], [0.31772700119474306, 0.9770051508462105], [0.020908004778972505, 0.9770051508462105], [0.014934289127837508, 0.9770051508462105], [0.014934289127837508, 0.9678072111846947], [0.014934289127837508, 0.8992538171449596], [0.014934289127837508, 0.8900558774834437], [0.020908004778972505, 0.8900558774834437]], \"data01\": [[430.0, 4.948759890378168], [431.0, 5.056245805348308], [432.0, 5.220355825078324], [433.0, 5.293304824724492], [434.0, 5.313205979041787], [435.0, 5.241747015059643], [436.0, 5.332718793265369], [437.0, 5.332718793265369], [438.0, 5.14166355650266], [439.0, 5.0106352940962555], [440.0, 4.927253685157205], [441.0, 5.10594547390058], [442.0, 4.976733742420574], [443.0, 5.123963979403259], [444.0, 5.2832037287379885], [445.0, 5.337538079701318], [446.0, 5.3471075307174685], [447.0, 5.342334251964811], [448.0, 5.472270673671475], [449.0, 5.472270673671475], [450.0, 5.293304824724492], [451.0, 5.123963979403259], [452.0, 5.0238805208462765], [453.0, 5.278114659230517], [454.0, 5.209486152841421], [455.0, 5.298317366548036], [456.0, 5.517452896464707], [457.0, 5.5254529391317835], [458.0, 5.666426688112432], [459.0, 5.517452896464707], [460.0, 5.631211781821365], [461.0, 5.631211781821365], [462.0, 5.44673737166631], [463.0, 5.318119993844216], [464.0, 5.267858159063328], [465.0, 5.44673737166631], [466.0, 5.3706380281276624], [467.0, 5.476463551931511], [468.0, 5.598421958998375], [469.0, 5.631211781821365], [470.0, 5.726847747587197], [471.0, 5.720311776607412], [472.0, 5.7745515455444085], [473.0, 5.82600010738045], [474.0, 5.572154032177765], [475.0, 5.484796933490655], [476.0, 5.43372200355424], [477.0, 5.605802066295998], [478.0, 5.5093883366279774], [479.0, 5.564520407322694], [480.0, 5.799092654460526], [481.0, 5.8916442118257715], [482.0, 5.953243334287785], [483.0, 5.8289456176102075], [484.0, 5.91350300563827], [485.0, 5.942799375126701], [486.0, 5.700443573390687], [487.0, 5.583496308781699], [488.0, 5.476463551931511], [489.0, 5.638354669333745], [490.0, 5.54907608489522], [491.0, 5.521460917862246], [492.0, 5.796057750765372], [493.0, 5.857933154483459], [494.0, 5.973809611869261], [495.0, 5.91350300563827], [496.0, 6.0473721790462776], [497.0, 6.016157159698354], [498.0, 5.786897381366708], [499.0, 5.666426688112432], [500.0, 5.598421958998375], [501.0, 5.771441123130016], [502.0, 5.720311776607412], [503.0, 5.736572297479192], [504.0, 5.924255797414532], [505.0, 6.025865973825314], [506.0, 6.118097198041348], [507.0, 6.089044875446846], [508.0, 6.234410725718371], [509.0, 6.186208623900494], [510.0, 5.973809611869261], [511.0, 5.84354441703136], [512.0, 5.752572638825633], [513.0, 5.963579343618446], [514.0, 5.8805329864007], [515.0, 5.908082938168931], [516.0, 6.095824562432225], [517.0, 6.1779441140506], [518.0, 6.280395838960195], [519.0, 6.261491684321042], [520.0, 6.359573868672378], [521.0, 6.340359303727752], [522.0, 6.102558594613569], [523.0, 5.955837369464831], [524.0, 5.886104031450156], [525.0, 6.059123195581797], [526.0, 5.983936280687191], [527.0, 5.991464547107982], [528.0, 6.210600077024653], [529.0, 6.284134161070802], [530.0, 6.39024066706535], [531.0, 6.3818160174060985], [532.0, 6.478509642208569], [533.0, 6.483107351457199], [534.0, 6.2324480165505225], [535.0, 6.07993319509559], [536.0, 6.0063531596017325], [537.0, 6.152732694704104], [538.0, 6.059123195581797], [539.0, 6.0473721790462776], [540.0, 6.2285110035911835], [541.0, 6.284134161070802], [542.0, 6.413458957167357], [543.0, 6.411818267709897], [544.0, 6.532334292222349], [545.0, 6.561030665896573], [546.0, 6.2324480165505225], [547.0, 6.113682179832232], [548.0, 6.021023349349527], [549.0, 6.156978985585555], [550.0, 6.118097198041348], [551.0, 6.12029741895095], [552.0, 6.342121418721152], [553.0, 6.413458957167357], [554.0, 6.559615237493242], [555.0, 6.493753839851686], [556.0, 6.642486801367256], [557.0, 6.663132695990803], [558.0, 6.368187186350492], [559.0, 6.240275845170769], [560.0, 6.175867270105761], [561.0, 6.340359303727752], [562.0, 6.263398262591624], [563.0, 6.253828811575473], [564.0, 6.375024819828097], [565.0, 6.565264970035361], [566.0, 6.675823221634848], [567.0, 6.618738983517219], [568.0, 6.769641976852503], [569.0, 6.742880635791903], [570.0, 6.461468176353717], [571.0, 6.364750756851911], [572.0, 6.251903883165888], [573.0, 6.405228458030842]]}, \"id\": \"el858504717827984\"});\n",
       "   }(mpld3);\n",
       "}else if(typeof define === \"function\" && define.amd){\n",
       "   // require.js is available: use it to load d3/mpld3\n",
       "   require.config({paths: {d3: \"https://mpld3.github.io/js/d3.v3.min\"}});\n",
       "   require([\"d3\"], function(d3){\n",
       "      window.d3 = d3;\n",
       "      mpld3_load_lib(\"https://mpld3.github.io/js/mpld3.v0.3.js\", function(){\n",
       "         \n",
       "         mpld3.draw_figure(\"fig_el8585047178279844543116630\", {\"axes\": [{\"xlim\": [430.0, 573.0], \"yscale\": \"linear\", \"axesbg\": \"#FFFFFF\", \"texts\": [{\"v_baseline\": \"hanging\", \"h_anchor\": \"middle\", \"color\": \"#000000\", \"text\": \"month\", \"coordinates\": \"axes\", \"zorder\": 3, \"alpha\": 1, \"fontsize\": 10.0, \"position\": [0.49999999999999994, -0.09657836644591611], \"rotation\": -0.0, \"id\": \"el858504724633936\"}, {\"v_baseline\": \"auto\", \"h_anchor\": \"start\", \"color\": \"#000000\", \"text\": \"log_hats_sold\", \"coordinates\": \"axes\", \"zorder\": 1000003.0, \"alpha\": 1, \"fontsize\": 10.0, \"position\": [0.11051373954599761, 0.9218175128771156], \"rotation\": -0.0, \"id\": \"el858504727040336\"}], \"zoomable\": true, \"images\": [], \"xdomain\": [[2005, 10, 30, 0, 0, 0, 0], [2017, 9, 31, 0, 0, 0, 0]], \"ylim\": [4.83513427057244, 6.861761391437268], \"paths\": [{\"edgecolor\": \"#CCCCCC\", \"facecolor\": \"#FFFFFF\", \"edgewidth\": 1.0, \"pathcodes\": [\"M\", \"L\", \"S\", \"L\", \"S\", \"L\", \"S\", \"L\", \"S\", \"Z\"], \"yindex\": 1, \"coordinates\": \"axes\", \"dasharray\": \"none\", \"zorder\": 1000000.0, \"alpha\": 0.8, \"xindex\": 0, \"data\": \"data03\", \"id\": \"el858504726976336\"}], \"sharey\": [], \"sharex\": [], \"axesbgalpha\": null, \"axes\": [{\"scale\": \"linear\", \"tickformat\": null, \"grid\": {\"gridOn\": false}, \"visible\": true, \"fontsize\": 10.0, \"position\": \"bottom\", \"nticks\": 6, \"tickvalues\": null}, {\"scale\": \"linear\", \"tickformat\": null, \"grid\": {\"gridOn\": false}, \"visible\": true, \"fontsize\": 10.0, \"position\": \"left\", \"nticks\": 10, \"tickvalues\": null}], \"lines\": [{\"drawstyle\": \"default\", \"color\": \"#1F77B4\", \"yindex\": 1, \"coordinates\": \"data\", \"dasharray\": \"none\", \"zorder\": 2, \"alpha\": 1, \"xindex\": 0, \"linewidth\": 1.5, \"data\": \"data01\", \"id\": \"el858504725573840\"}, {\"drawstyle\": \"default\", \"color\": \"#1F77B4\", \"yindex\": 1, \"coordinates\": \"axes\", \"dasharray\": \"none\", \"zorder\": 1000002.0, \"alpha\": 1, \"xindex\": 0, \"linewidth\": 1.5, \"data\": \"data02\", \"id\": \"el858504727041232\"}], \"markers\": [], \"id\": \"el858504724791184\", \"ydomain\": [4.83513427057244, 6.861761391437268], \"collections\": [], \"xscale\": \"date\", \"bbox\": [0.125, 0.125, 0.775, 0.755]}], \"height\": 288.0, \"width\": 432.0, \"plugins\": [{\"type\": \"reset\"}, {\"enabled\": false, \"button\": true, \"type\": \"zoom\"}, {\"enabled\": false, \"button\": true, \"type\": \"boxzoom\"}], \"data\": {\"data02\": [[0.026881720430107503, 0.9379139072847682], [0.08661887694145756, 0.9379139072847682]], \"data03\": [[0.020908004778972505, 0.8900558774834437], [0.31772700119474306, 0.8900558774834437], [0.3237007168458781, 0.8900558774834437], [0.3237007168458781, 0.8992538171449596], [0.3237007168458781, 0.9678072111846947], [0.3237007168458781, 0.9770051508462105], [0.31772700119474306, 0.9770051508462105], [0.020908004778972505, 0.9770051508462105], [0.014934289127837508, 0.9770051508462105], [0.014934289127837508, 0.9678072111846947], [0.014934289127837508, 0.8992538171449596], [0.014934289127837508, 0.8900558774834437], [0.020908004778972505, 0.8900558774834437]], \"data01\": [[430.0, 4.948759890378168], [431.0, 5.056245805348308], [432.0, 5.220355825078324], [433.0, 5.293304824724492], [434.0, 5.313205979041787], [435.0, 5.241747015059643], [436.0, 5.332718793265369], [437.0, 5.332718793265369], [438.0, 5.14166355650266], [439.0, 5.0106352940962555], [440.0, 4.927253685157205], [441.0, 5.10594547390058], [442.0, 4.976733742420574], [443.0, 5.123963979403259], [444.0, 5.2832037287379885], [445.0, 5.337538079701318], [446.0, 5.3471075307174685], [447.0, 5.342334251964811], [448.0, 5.472270673671475], [449.0, 5.472270673671475], [450.0, 5.293304824724492], [451.0, 5.123963979403259], [452.0, 5.0238805208462765], [453.0, 5.278114659230517], [454.0, 5.209486152841421], [455.0, 5.298317366548036], [456.0, 5.517452896464707], [457.0, 5.5254529391317835], [458.0, 5.666426688112432], [459.0, 5.517452896464707], [460.0, 5.631211781821365], [461.0, 5.631211781821365], [462.0, 5.44673737166631], [463.0, 5.318119993844216], [464.0, 5.267858159063328], [465.0, 5.44673737166631], [466.0, 5.3706380281276624], [467.0, 5.476463551931511], [468.0, 5.598421958998375], [469.0, 5.631211781821365], [470.0, 5.726847747587197], [471.0, 5.720311776607412], [472.0, 5.7745515455444085], [473.0, 5.82600010738045], [474.0, 5.572154032177765], [475.0, 5.484796933490655], [476.0, 5.43372200355424], [477.0, 5.605802066295998], [478.0, 5.5093883366279774], [479.0, 5.564520407322694], [480.0, 5.799092654460526], [481.0, 5.8916442118257715], [482.0, 5.953243334287785], [483.0, 5.8289456176102075], [484.0, 5.91350300563827], [485.0, 5.942799375126701], [486.0, 5.700443573390687], [487.0, 5.583496308781699], [488.0, 5.476463551931511], [489.0, 5.638354669333745], [490.0, 5.54907608489522], [491.0, 5.521460917862246], [492.0, 5.796057750765372], [493.0, 5.857933154483459], [494.0, 5.973809611869261], [495.0, 5.91350300563827], [496.0, 6.0473721790462776], [497.0, 6.016157159698354], [498.0, 5.786897381366708], [499.0, 5.666426688112432], [500.0, 5.598421958998375], [501.0, 5.771441123130016], [502.0, 5.720311776607412], [503.0, 5.736572297479192], [504.0, 5.924255797414532], [505.0, 6.025865973825314], [506.0, 6.118097198041348], [507.0, 6.089044875446846], [508.0, 6.234410725718371], [509.0, 6.186208623900494], [510.0, 5.973809611869261], [511.0, 5.84354441703136], [512.0, 5.752572638825633], [513.0, 5.963579343618446], [514.0, 5.8805329864007], [515.0, 5.908082938168931], [516.0, 6.095824562432225], [517.0, 6.1779441140506], [518.0, 6.280395838960195], [519.0, 6.261491684321042], [520.0, 6.359573868672378], [521.0, 6.340359303727752], [522.0, 6.102558594613569], [523.0, 5.955837369464831], [524.0, 5.886104031450156], [525.0, 6.059123195581797], [526.0, 5.983936280687191], [527.0, 5.991464547107982], [528.0, 6.210600077024653], [529.0, 6.284134161070802], [530.0, 6.39024066706535], [531.0, 6.3818160174060985], [532.0, 6.478509642208569], [533.0, 6.483107351457199], [534.0, 6.2324480165505225], [535.0, 6.07993319509559], [536.0, 6.0063531596017325], [537.0, 6.152732694704104], [538.0, 6.059123195581797], [539.0, 6.0473721790462776], [540.0, 6.2285110035911835], [541.0, 6.284134161070802], [542.0, 6.413458957167357], [543.0, 6.411818267709897], [544.0, 6.532334292222349], [545.0, 6.561030665896573], [546.0, 6.2324480165505225], [547.0, 6.113682179832232], [548.0, 6.021023349349527], [549.0, 6.156978985585555], [550.0, 6.118097198041348], [551.0, 6.12029741895095], [552.0, 6.342121418721152], [553.0, 6.413458957167357], [554.0, 6.559615237493242], [555.0, 6.493753839851686], [556.0, 6.642486801367256], [557.0, 6.663132695990803], [558.0, 6.368187186350492], [559.0, 6.240275845170769], [560.0, 6.175867270105761], [561.0, 6.340359303727752], [562.0, 6.263398262591624], [563.0, 6.253828811575473], [564.0, 6.375024819828097], [565.0, 6.565264970035361], [566.0, 6.675823221634848], [567.0, 6.618738983517219], [568.0, 6.769641976852503], [569.0, 6.742880635791903], [570.0, 6.461468176353717], [571.0, 6.364750756851911], [572.0, 6.251903883165888], [573.0, 6.405228458030842]]}, \"id\": \"el858504717827984\"});\n",
       "      });\n",
       "    });\n",
       "}else{\n",
       "    // require.js not available: dynamically load d3 & mpld3\n",
       "    mpld3_load_lib(\"https://mpld3.github.io/js/d3.v3.min.js\", function(){\n",
       "         mpld3_load_lib(\"https://mpld3.github.io/js/mpld3.v0.3.js\", function(){\n",
       "                 \n",
       "                 mpld3.draw_figure(\"fig_el8585047178279844543116630\", {\"axes\": [{\"xlim\": [430.0, 573.0], \"yscale\": \"linear\", \"axesbg\": \"#FFFFFF\", \"texts\": [{\"v_baseline\": \"hanging\", \"h_anchor\": \"middle\", \"color\": \"#000000\", \"text\": \"month\", \"coordinates\": \"axes\", \"zorder\": 3, \"alpha\": 1, \"fontsize\": 10.0, \"position\": [0.49999999999999994, -0.09657836644591611], \"rotation\": -0.0, \"id\": \"el858504724633936\"}, {\"v_baseline\": \"auto\", \"h_anchor\": \"start\", \"color\": \"#000000\", \"text\": \"log_hats_sold\", \"coordinates\": \"axes\", \"zorder\": 1000003.0, \"alpha\": 1, \"fontsize\": 10.0, \"position\": [0.11051373954599761, 0.9218175128771156], \"rotation\": -0.0, \"id\": \"el858504727040336\"}], \"zoomable\": true, \"images\": [], \"xdomain\": [[2005, 10, 30, 0, 0, 0, 0], [2017, 9, 31, 0, 0, 0, 0]], \"ylim\": [4.83513427057244, 6.861761391437268], \"paths\": [{\"edgecolor\": \"#CCCCCC\", \"facecolor\": \"#FFFFFF\", \"edgewidth\": 1.0, \"pathcodes\": [\"M\", \"L\", \"S\", \"L\", \"S\", \"L\", \"S\", \"L\", \"S\", \"Z\"], \"yindex\": 1, \"coordinates\": \"axes\", \"dasharray\": \"none\", \"zorder\": 1000000.0, \"alpha\": 0.8, \"xindex\": 0, \"data\": \"data03\", \"id\": \"el858504726976336\"}], \"sharey\": [], \"sharex\": [], \"axesbgalpha\": null, \"axes\": [{\"scale\": \"linear\", \"tickformat\": null, \"grid\": {\"gridOn\": false}, \"visible\": true, \"fontsize\": 10.0, \"position\": \"bottom\", \"nticks\": 6, \"tickvalues\": null}, {\"scale\": \"linear\", \"tickformat\": null, \"grid\": {\"gridOn\": false}, \"visible\": true, \"fontsize\": 10.0, \"position\": \"left\", \"nticks\": 10, \"tickvalues\": null}], \"lines\": [{\"drawstyle\": \"default\", \"color\": \"#1F77B4\", \"yindex\": 1, \"coordinates\": \"data\", \"dasharray\": \"none\", \"zorder\": 2, \"alpha\": 1, \"xindex\": 0, \"linewidth\": 1.5, \"data\": \"data01\", \"id\": \"el858504725573840\"}, {\"drawstyle\": \"default\", \"color\": \"#1F77B4\", \"yindex\": 1, \"coordinates\": \"axes\", \"dasharray\": \"none\", \"zorder\": 1000002.0, \"alpha\": 1, \"xindex\": 0, \"linewidth\": 1.5, \"data\": \"data02\", \"id\": \"el858504727041232\"}], \"markers\": [], \"id\": \"el858504724791184\", \"ydomain\": [4.83513427057244, 6.861761391437268], \"collections\": [], \"xscale\": \"date\", \"bbox\": [0.125, 0.125, 0.775, 0.755]}], \"height\": 288.0, \"width\": 432.0, \"plugins\": [{\"type\": \"reset\"}, {\"enabled\": false, \"button\": true, \"type\": \"zoom\"}, {\"enabled\": false, \"button\": true, \"type\": \"boxzoom\"}], \"data\": {\"data02\": [[0.026881720430107503, 0.9379139072847682], [0.08661887694145756, 0.9379139072847682]], \"data03\": [[0.020908004778972505, 0.8900558774834437], [0.31772700119474306, 0.8900558774834437], [0.3237007168458781, 0.8900558774834437], [0.3237007168458781, 0.8992538171449596], [0.3237007168458781, 0.9678072111846947], [0.3237007168458781, 0.9770051508462105], [0.31772700119474306, 0.9770051508462105], [0.020908004778972505, 0.9770051508462105], [0.014934289127837508, 0.9770051508462105], [0.014934289127837508, 0.9678072111846947], [0.014934289127837508, 0.8992538171449596], [0.014934289127837508, 0.8900558774834437], [0.020908004778972505, 0.8900558774834437]], \"data01\": [[430.0, 4.948759890378168], [431.0, 5.056245805348308], [432.0, 5.220355825078324], [433.0, 5.293304824724492], [434.0, 5.313205979041787], [435.0, 5.241747015059643], [436.0, 5.332718793265369], [437.0, 5.332718793265369], [438.0, 5.14166355650266], [439.0, 5.0106352940962555], [440.0, 4.927253685157205], [441.0, 5.10594547390058], [442.0, 4.976733742420574], [443.0, 5.123963979403259], [444.0, 5.2832037287379885], [445.0, 5.337538079701318], [446.0, 5.3471075307174685], [447.0, 5.342334251964811], [448.0, 5.472270673671475], [449.0, 5.472270673671475], [450.0, 5.293304824724492], [451.0, 5.123963979403259], [452.0, 5.0238805208462765], [453.0, 5.278114659230517], [454.0, 5.209486152841421], [455.0, 5.298317366548036], [456.0, 5.517452896464707], [457.0, 5.5254529391317835], [458.0, 5.666426688112432], [459.0, 5.517452896464707], [460.0, 5.631211781821365], [461.0, 5.631211781821365], [462.0, 5.44673737166631], [463.0, 5.318119993844216], [464.0, 5.267858159063328], [465.0, 5.44673737166631], [466.0, 5.3706380281276624], [467.0, 5.476463551931511], [468.0, 5.598421958998375], [469.0, 5.631211781821365], [470.0, 5.726847747587197], [471.0, 5.720311776607412], [472.0, 5.7745515455444085], [473.0, 5.82600010738045], [474.0, 5.572154032177765], [475.0, 5.484796933490655], [476.0, 5.43372200355424], [477.0, 5.605802066295998], [478.0, 5.5093883366279774], [479.0, 5.564520407322694], [480.0, 5.799092654460526], [481.0, 5.8916442118257715], [482.0, 5.953243334287785], [483.0, 5.8289456176102075], [484.0, 5.91350300563827], [485.0, 5.942799375126701], [486.0, 5.700443573390687], [487.0, 5.583496308781699], [488.0, 5.476463551931511], [489.0, 5.638354669333745], [490.0, 5.54907608489522], [491.0, 5.521460917862246], [492.0, 5.796057750765372], [493.0, 5.857933154483459], [494.0, 5.973809611869261], [495.0, 5.91350300563827], [496.0, 6.0473721790462776], [497.0, 6.016157159698354], [498.0, 5.786897381366708], [499.0, 5.666426688112432], [500.0, 5.598421958998375], [501.0, 5.771441123130016], [502.0, 5.720311776607412], [503.0, 5.736572297479192], [504.0, 5.924255797414532], [505.0, 6.025865973825314], [506.0, 6.118097198041348], [507.0, 6.089044875446846], [508.0, 6.234410725718371], [509.0, 6.186208623900494], [510.0, 5.973809611869261], [511.0, 5.84354441703136], [512.0, 5.752572638825633], [513.0, 5.963579343618446], [514.0, 5.8805329864007], [515.0, 5.908082938168931], [516.0, 6.095824562432225], [517.0, 6.1779441140506], [518.0, 6.280395838960195], [519.0, 6.261491684321042], [520.0, 6.359573868672378], [521.0, 6.340359303727752], [522.0, 6.102558594613569], [523.0, 5.955837369464831], [524.0, 5.886104031450156], [525.0, 6.059123195581797], [526.0, 5.983936280687191], [527.0, 5.991464547107982], [528.0, 6.210600077024653], [529.0, 6.284134161070802], [530.0, 6.39024066706535], [531.0, 6.3818160174060985], [532.0, 6.478509642208569], [533.0, 6.483107351457199], [534.0, 6.2324480165505225], [535.0, 6.07993319509559], [536.0, 6.0063531596017325], [537.0, 6.152732694704104], [538.0, 6.059123195581797], [539.0, 6.0473721790462776], [540.0, 6.2285110035911835], [541.0, 6.284134161070802], [542.0, 6.413458957167357], [543.0, 6.411818267709897], [544.0, 6.532334292222349], [545.0, 6.561030665896573], [546.0, 6.2324480165505225], [547.0, 6.113682179832232], [548.0, 6.021023349349527], [549.0, 6.156978985585555], [550.0, 6.118097198041348], [551.0, 6.12029741895095], [552.0, 6.342121418721152], [553.0, 6.413458957167357], [554.0, 6.559615237493242], [555.0, 6.493753839851686], [556.0, 6.642486801367256], [557.0, 6.663132695990803], [558.0, 6.368187186350492], [559.0, 6.240275845170769], [560.0, 6.175867270105761], [561.0, 6.340359303727752], [562.0, 6.263398262591624], [563.0, 6.253828811575473], [564.0, 6.375024819828097], [565.0, 6.565264970035361], [566.0, 6.675823221634848], [567.0, 6.618738983517219], [568.0, 6.769641976852503], [569.0, 6.742880635791903], [570.0, 6.461468176353717], [571.0, 6.364750756851911], [572.0, 6.251903883165888], [573.0, 6.405228458030842]]}, \"id\": \"el858504717827984\"});\n",
       "            })\n",
       "         });\n",
       "}\n",
       "</script>"
      ],
      "text/plain": [
       "<matplotlib.figure.Figure at 0x119345790>"
      ]
     },
     "metadata": {},
     "output_type": "display_data"
    }
   ],
   "source": [
    "df['log_hats_sold'] = np.log(df.hats_sold)\n",
    "df.plot(y='log_hats_sold')"
   ]
  },
  {
   "cell_type": "markdown",
   "metadata": {},
   "source": [
    "Excellent, should look like our variance is handled!\n",
    "\n",
    "Now let's take the difference of this new column, the same way we did before. The only difference is this time we're differencing the `'log_hats_sold'` column.\n",
    "\n",
    "Create a new column called `'difflog_hats_sold'`, set it equal to the `'log_hats_sold'` column differenced, and plot `'difflog_hats_sold'` on the second line:"
   ]
  },
  {
   "cell_type": "code",
   "execution_count": 50,
   "metadata": {},
   "outputs": [
    {
     "data": {
      "text/plain": [
       "<matplotlib.axes._subplots.AxesSubplot at 0x11bdb05d0>"
      ]
     },
     "execution_count": 50,
     "metadata": {},
     "output_type": "execute_result"
    },
    {
     "data": {
      "image/png": "[encoded data removed]",
      "text/html": [
       "\n",
       "\n",
       "<style>\n",
       "\n",
       "</style>\n",
       "\n",
       "<div id=\"fig_el8585047288825127052232287\"></div>\n",
       "<script>\n",
       "function mpld3_load_lib(url, callback){\n",
       "  var s = document.createElement('script');\n",
       "  s.src = url;\n",
       "  s.async = true;\n",
       "  s.onreadystatechange = s.onload = callback;\n",
       "  s.onerror = function(){console.warn(\"failed to load library \" + url);};\n",
       "  document.getElementsByTagName(\"head\")[0].appendChild(s);\n",
       "}\n",
       "\n",
       "if(typeof(mpld3) !== \"undefined\" && mpld3._mpld3IsLoaded){\n",
       "   // already loaded: just create the figure\n",
       "   !function(mpld3){\n",
       "       \n",
       "       mpld3.draw_figure(\"fig_el8585047288825127052232287\", {\"axes\": [{\"xlim\": [430.0, 573.0], \"yscale\": \"linear\", \"axesbg\": \"#FFFFFF\", \"texts\": [{\"v_baseline\": \"hanging\", \"h_anchor\": \"middle\", \"color\": \"#000000\", \"text\": \"month\", \"coordinates\": \"axes\", \"zorder\": 3, \"alpha\": 1, \"fontsize\": 10.0, \"position\": [0.49999999999999994, -0.09657836644591611], \"rotation\": -0.0, \"id\": \"el858504820350416\"}, {\"v_baseline\": \"auto\", \"h_anchor\": \"start\", \"color\": \"#000000\", \"text\": \"difflog_hats_sold\", \"coordinates\": \"axes\", \"zorder\": 1000003.0, \"alpha\": 1, \"fontsize\": 10.0, \"position\": [0.7225955794504182, 0.9218175128771156], \"rotation\": -0.0, \"id\": \"el858504820781968\"}], \"zoomable\": true, \"images\": [], \"xdomain\": [[2005, 10, 30, 0, 0, 0, 0], [2017, 9, 31, 0, 0, 0, 0]], \"ylim\": [-0.35874162345850946, 0.3047558070155847], \"paths\": [{\"edgecolor\": \"#CCCCCC\", \"facecolor\": \"#FFFFFF\", \"edgewidth\": 1.0, \"pathcodes\": [\"M\", \"L\", \"S\", \"L\", \"S\", \"L\", \"S\", \"L\", \"S\", \"Z\"], \"yindex\": 1, \"coordinates\": \"axes\", \"dasharray\": \"none\", \"zorder\": 1000000.0, \"alpha\": 0.8, \"xindex\": 0, \"data\": \"data03\", \"id\": \"el858504820779408\"}], \"sharey\": [], \"sharex\": [], \"axesbgalpha\": null, \"axes\": [{\"scale\": \"linear\", \"tickformat\": null, \"grid\": {\"gridOn\": false}, \"visible\": true, \"fontsize\": 10.0, \"position\": \"bottom\", \"nticks\": 6, \"tickvalues\": null}, {\"scale\": \"linear\", \"tickformat\": null, \"grid\": {\"gridOn\": false}, \"visible\": true, \"fontsize\": 10.0, \"position\": \"left\", \"nticks\": 9, \"tickvalues\": null}], \"lines\": [{\"drawstyle\": \"default\", \"color\": \"#1F77B4\", \"yindex\": 1, \"coordinates\": \"data\", \"dasharray\": \"none\", \"zorder\": 2, \"alpha\": 1, \"xindex\": 0, \"linewidth\": 1.5, \"data\": \"data01\", \"id\": \"el858504820564496\"}, {\"drawstyle\": \"default\", \"color\": \"#1F77B4\", \"yindex\": 1, \"coordinates\": \"axes\", \"dasharray\": \"none\", \"zorder\": 1000002.0, \"alpha\": 1, \"xindex\": 0, \"linewidth\": 1.5, \"data\": \"data02\", \"id\": \"el858504820782864\"}], \"markers\": [], \"id\": \"el858504762306000\", \"ydomain\": [-0.35874162345850946, 0.3047558070155847], \"collections\": [], \"xscale\": \"date\", \"bbox\": [0.125, 0.125, 0.775, 0.755]}], \"height\": 288.0, \"width\": 432.0, \"plugins\": [{\"type\": \"reset\"}, {\"enabled\": false, \"button\": true, \"type\": \"zoom\"}, {\"enabled\": false, \"button\": true, \"type\": \"boxzoom\"}], \"data\": {\"data02\": [[0.6389635603345281, 0.9379139072847682], [0.6987007168458781, 0.9379139072847682]], \"data03\": [[0.632989844683393, 0.8900558774834437], [0.9790919952210274, 0.8900558774834437], [0.9850657108721624, 0.8900558774834437], [0.9850657108721624, 0.8992538171449596], [0.9850657108721624, 0.9678072111846947], [0.9850657108721624, 0.9770051508462105], [0.9790919952210274, 0.9770051508462105], [0.632989844683393, 0.9770051508462105], [0.627016129032258, 0.9770051508462105], [0.627016129032258, 0.9678072111846947], [0.627016129032258, 0.8992538171449596], [0.627016129032258, 0.8900558774834437], [0.632989844683393, 0.8900558774834437]], \"data01\": [[430.0, NaN], [431.0, 0.10748591497013926], [432.0, 0.1641100197300167], [433.0, 0.07294899964616786], [434.0, 0.01990115431729489], [435.0, -0.07145896398214457], [436.0, 0.09097177820572622], [437.0, 0.0], [438.0, -0.19105523676270852], [439.0, -0.13102826240640475], [440.0, -0.08338160893905044], [441.0, 0.1786917887433752], [442.0, -0.1292117314800061], [443.0, 0.14723023698268456], [444.0, 0.15923974933472973], [445.0, 0.05433435096332939], [446.0, 0.009569451016150587], [447.0, -0.004773278752657539], [448.0, 0.12993642170666408], [449.0, 0.0], [450.0, -0.17896584894698275], [451.0, -0.1693408453212335], [452.0, -0.10008345855698231], [453.0, 0.25423413838424036], [454.0, -0.06862850638909546], [455.0, 0.08883121370661495], [456.0, 0.21913552991667107], [457.0, 0.008000042667076102], [458.0, 0.14097374898064885], [459.0, -0.14897379164772495], [460.0, 0.11375888535665801], [461.0, 0.0], [462.0, -0.1844744101550555], [463.0, -0.12861737782209381], [464.0, -0.05026183478088786], [465.0, 0.17887921260298167], [466.0, -0.07609934353864745], [467.0, 0.10582552380384858], [468.0, 0.121958407066864], [469.0, 0.03278982282299037], [470.0, 0.09563596576583144], [471.0, -0.006535970979784977], [472.0, 0.05423976893699667], [473.0, 0.05144856183604141], [474.0, -0.2538460752026852], [475.0, -0.08735709868710995], [476.0, -0.051074929936414826], [477.0, 0.1720800627417578], [478.0, -0.09641372966802031], [479.0, 0.05513207069471626], [480.0, 0.23457224713783198], [481.0, 0.09255155736524578], [482.0, 0.061599122462013156], [483.0, -0.12429771667757716], [484.0, 0.08455738802806234], [485.0, 0.029296369488431395], [486.0, -0.24235580173601434], [487.0, -0.11694726460898774], [488.0, -0.1070327568501881], [489.0, 0.16189111740223439], [490.0, -0.08927858443852532], [491.0, -0.027615167032974064], [492.0, 0.27459683290312586], [493.0, 0.061875403718087085], [494.0, 0.11587645738580221], [495.0, -0.06030660623099138], [496.0, 0.13386917340800775], [497.0, -0.0312150193479237], [498.0, -0.22925977833164612], [499.0, -0.1204706932542754], [500.0, -0.0680047291140573], [501.0, 0.17301916413164076], [502.0, -0.051129346522603925], [503.0, 0.016260520871780315], [504.0, 0.18768349993534006], [505.0, 0.10161017641078196], [506.0, 0.09223122421603414], [507.0, -0.0290523225945023], [508.0, 0.14536585027152515], [509.0, -0.04820210181787754], [510.0, -0.21239901203123246], [511.0, -0.130265194837901], [512.0, -0.0909717782057271], [513.0, 0.2110067047928128], [514.0, -0.08304635721774556], [515.0, 0.02754995176823094], [516.0, 0.18774162426329344], [517.0, 0.08211955161837547], [518.0, 0.10245172490959487], [519.0, -0.01890415463915307], [520.0, 0.09808218435133575], [521.0, -0.019214564944626034], [522.0, -0.2378007091141825], [523.0, -0.1467212251487382], [524.0, -0.06973333801467518], [525.0, 0.17301916413164076], [526.0, -0.07518691489460583], [527.0, 0.007528266420790963], [528.0, 0.21913552991667107], [529.0, 0.07353408404614914], [530.0, 0.10610650599454807], [531.0, -0.008424649659251493], [532.0, 0.09669362480247035], [533.0, 0.004597709248630011], [534.0, -0.25065933490667636], [535.0, -0.15251482145493256], [536.0, -0.07358003549385739], [537.0, 0.14637953510237178], [538.0, -0.09360949912230776], [539.0, -0.011751016535519021], [540.0, 0.18113882454490593], [541.0, 0.055623157479618435], [542.0, 0.12932479609655534], [543.0, -0.0016406894574600983], [544.0, 0.12051602451245191], [545.0, 0.028696373674224063], [546.0, -0.32858264934605064], [547.0, -0.11876583671829088], [548.0, -0.09265883048270496], [549.0, 0.13595563623602835], [550.0, -0.03888178754420668], [551.0, 0.0022002209096019243], [552.0, 0.2218239997702014], [553.0, 0.0713375384462056], [554.0, 0.14615628032588468], [555.0, -0.06586139764155607], [556.0, 0.14873296151557014], [557.0, 0.020645894623546823], [558.0, -0.29494550964031063], [559.0, -0.1279113411797228], [560.0, -0.0644085750650083], [561.0, 0.1644920336219906], [562.0, -0.07696104113612812], [563.0, -0.009569451016150587], [564.0, 0.12119600825262378], [565.0, 0.1902401502072646], [566.0, 0.11055825159948629], [567.0, -0.057084238117628416], [568.0, 0.15090299333528367], [569.0, -0.026761341060599797], [570.0, -0.2814124594381857], [571.0, -0.09671741950180657], [572.0, -0.11284687368602242], [573.0, 0.15332457486495343]]}, \"id\": \"el858504728882512\"});\n",
       "   }(mpld3);\n",
       "}else if(typeof define === \"function\" && define.amd){\n",
       "   // require.js is available: use it to load d3/mpld3\n",
       "   require.config({paths: {d3: \"https://mpld3.github.io/js/d3.v3.min\"}});\n",
       "   require([\"d3\"], function(d3){\n",
       "      window.d3 = d3;\n",
       "      mpld3_load_lib(\"https://mpld3.github.io/js/mpld3.v0.3.js\", function(){\n",
       "         \n",
       "         mpld3.draw_figure(\"fig_el8585047288825127052232287\", {\"axes\": [{\"xlim\": [430.0, 573.0], \"yscale\": \"linear\", \"axesbg\": \"#FFFFFF\", \"texts\": [{\"v_baseline\": \"hanging\", \"h_anchor\": \"middle\", \"color\": \"#000000\", \"text\": \"month\", \"coordinates\": \"axes\", \"zorder\": 3, \"alpha\": 1, \"fontsize\": 10.0, \"position\": [0.49999999999999994, -0.09657836644591611], \"rotation\": -0.0, \"id\": \"el858504820350416\"}, {\"v_baseline\": \"auto\", \"h_anchor\": \"start\", \"color\": \"#000000\", \"text\": \"difflog_hats_sold\", \"coordinates\": \"axes\", \"zorder\": 1000003.0, \"alpha\": 1, \"fontsize\": 10.0, \"position\": [0.7225955794504182, 0.9218175128771156], \"rotation\": -0.0, \"id\": \"el858504820781968\"}], \"zoomable\": true, \"images\": [], \"xdomain\": [[2005, 10, 30, 0, 0, 0, 0], [2017, 9, 31, 0, 0, 0, 0]], \"ylim\": [-0.35874162345850946, 0.3047558070155847], \"paths\": [{\"edgecolor\": \"#CCCCCC\", \"facecolor\": \"#FFFFFF\", \"edgewidth\": 1.0, \"pathcodes\": [\"M\", \"L\", \"S\", \"L\", \"S\", \"L\", \"S\", \"L\", \"S\", \"Z\"], \"yindex\": 1, \"coordinates\": \"axes\", \"dasharray\": \"none\", \"zorder\": 1000000.0, \"alpha\": 0.8, \"xindex\": 0, \"data\": \"data03\", \"id\": \"el858504820779408\"}], \"sharey\": [], \"sharex\": [], \"axesbgalpha\": null, \"axes\": [{\"scale\": \"linear\", \"tickformat\": null, \"grid\": {\"gridOn\": false}, \"visible\": true, \"fontsize\": 10.0, \"position\": \"bottom\", \"nticks\": 6, \"tickvalues\": null}, {\"scale\": \"linear\", \"tickformat\": null, \"grid\": {\"gridOn\": false}, \"visible\": true, \"fontsize\": 10.0, \"position\": \"left\", \"nticks\": 9, \"tickvalues\": null}], \"lines\": [{\"drawstyle\": \"default\", \"color\": \"#1F77B4\", \"yindex\": 1, \"coordinates\": \"data\", \"dasharray\": \"none\", \"zorder\": 2, \"alpha\": 1, \"xindex\": 0, \"linewidth\": 1.5, \"data\": \"data01\", \"id\": \"el858504820564496\"}, {\"drawstyle\": \"default\", \"color\": \"#1F77B4\", \"yindex\": 1, \"coordinates\": \"axes\", \"dasharray\": \"none\", \"zorder\": 1000002.0, \"alpha\": 1, \"xindex\": 0, \"linewidth\": 1.5, \"data\": \"data02\", \"id\": \"el858504820782864\"}], \"markers\": [], \"id\": \"el858504762306000\", \"ydomain\": [-0.35874162345850946, 0.3047558070155847], \"collections\": [], \"xscale\": \"date\", \"bbox\": [0.125, 0.125, 0.775, 0.755]}], \"height\": 288.0, \"width\": 432.0, \"plugins\": [{\"type\": \"reset\"}, {\"enabled\": false, \"button\": true, \"type\": \"zoom\"}, {\"enabled\": false, \"button\": true, \"type\": \"boxzoom\"}], \"data\": {\"data02\": [[0.6389635603345281, 0.9379139072847682], [0.6987007168458781, 0.9379139072847682]], \"data03\": [[0.632989844683393, 0.8900558774834437], [0.9790919952210274, 0.8900558774834437], [0.9850657108721624, 0.8900558774834437], [0.9850657108721624, 0.8992538171449596], [0.9850657108721624, 0.9678072111846947], [0.9850657108721624, 0.9770051508462105], [0.9790919952210274, 0.9770051508462105], [0.632989844683393, 0.9770051508462105], [0.627016129032258, 0.9770051508462105], [0.627016129032258, 0.9678072111846947], [0.627016129032258, 0.8992538171449596], [0.627016129032258, 0.8900558774834437], [0.632989844683393, 0.8900558774834437]], \"data01\": [[430.0, NaN], [431.0, 0.10748591497013926], [432.0, 0.1641100197300167], [433.0, 0.07294899964616786], [434.0, 0.01990115431729489], [435.0, -0.07145896398214457], [436.0, 0.09097177820572622], [437.0, 0.0], [438.0, -0.19105523676270852], [439.0, -0.13102826240640475], [440.0, -0.08338160893905044], [441.0, 0.1786917887433752], [442.0, -0.1292117314800061], [443.0, 0.14723023698268456], [444.0, 0.15923974933472973], [445.0, 0.05433435096332939], [446.0, 0.009569451016150587], [447.0, -0.004773278752657539], [448.0, 0.12993642170666408], [449.0, 0.0], [450.0, -0.17896584894698275], [451.0, -0.1693408453212335], [452.0, -0.10008345855698231], [453.0, 0.25423413838424036], [454.0, -0.06862850638909546], [455.0, 0.08883121370661495], [456.0, 0.21913552991667107], [457.0, 0.008000042667076102], [458.0, 0.14097374898064885], [459.0, -0.14897379164772495], [460.0, 0.11375888535665801], [461.0, 0.0], [462.0, -0.1844744101550555], [463.0, -0.12861737782209381], [464.0, -0.05026183478088786], [465.0, 0.17887921260298167], [466.0, -0.07609934353864745], [467.0, 0.10582552380384858], [468.0, 0.121958407066864], [469.0, 0.03278982282299037], [470.0, 0.09563596576583144], [471.0, -0.006535970979784977], [472.0, 0.05423976893699667], [473.0, 0.05144856183604141], [474.0, -0.2538460752026852], [475.0, -0.08735709868710995], [476.0, -0.051074929936414826], [477.0, 0.1720800627417578], [478.0, -0.09641372966802031], [479.0, 0.05513207069471626], [480.0, 0.23457224713783198], [481.0, 0.09255155736524578], [482.0, 0.061599122462013156], [483.0, -0.12429771667757716], [484.0, 0.08455738802806234], [485.0, 0.029296369488431395], [486.0, -0.24235580173601434], [487.0, -0.11694726460898774], [488.0, -0.1070327568501881], [489.0, 0.16189111740223439], [490.0, -0.08927858443852532], [491.0, -0.027615167032974064], [492.0, 0.27459683290312586], [493.0, 0.061875403718087085], [494.0, 0.11587645738580221], [495.0, -0.06030660623099138], [496.0, 0.13386917340800775], [497.0, -0.0312150193479237], [498.0, -0.22925977833164612], [499.0, -0.1204706932542754], [500.0, -0.0680047291140573], [501.0, 0.17301916413164076], [502.0, -0.051129346522603925], [503.0, 0.016260520871780315], [504.0, 0.18768349993534006], [505.0, 0.10161017641078196], [506.0, 0.09223122421603414], [507.0, -0.0290523225945023], [508.0, 0.14536585027152515], [509.0, -0.04820210181787754], [510.0, -0.21239901203123246], [511.0, -0.130265194837901], [512.0, -0.0909717782057271], [513.0, 0.2110067047928128], [514.0, -0.08304635721774556], [515.0, 0.02754995176823094], [516.0, 0.18774162426329344], [517.0, 0.08211955161837547], [518.0, 0.10245172490959487], [519.0, -0.01890415463915307], [520.0, 0.09808218435133575], [521.0, -0.019214564944626034], [522.0, -0.2378007091141825], [523.0, -0.1467212251487382], [524.0, -0.06973333801467518], [525.0, 0.17301916413164076], [526.0, -0.07518691489460583], [527.0, 0.007528266420790963], [528.0, 0.21913552991667107], [529.0, 0.07353408404614914], [530.0, 0.10610650599454807], [531.0, -0.008424649659251493], [532.0, 0.09669362480247035], [533.0, 0.004597709248630011], [534.0, -0.25065933490667636], [535.0, -0.15251482145493256], [536.0, -0.07358003549385739], [537.0, 0.14637953510237178], [538.0, -0.09360949912230776], [539.0, -0.011751016535519021], [540.0, 0.18113882454490593], [541.0, 0.055623157479618435], [542.0, 0.12932479609655534], [543.0, -0.0016406894574600983], [544.0, 0.12051602451245191], [545.0, 0.028696373674224063], [546.0, -0.32858264934605064], [547.0, -0.11876583671829088], [548.0, -0.09265883048270496], [549.0, 0.13595563623602835], [550.0, -0.03888178754420668], [551.0, 0.0022002209096019243], [552.0, 0.2218239997702014], [553.0, 0.0713375384462056], [554.0, 0.14615628032588468], [555.0, -0.06586139764155607], [556.0, 0.14873296151557014], [557.0, 0.020645894623546823], [558.0, -0.29494550964031063], [559.0, -0.1279113411797228], [560.0, -0.0644085750650083], [561.0, 0.1644920336219906], [562.0, -0.07696104113612812], [563.0, -0.009569451016150587], [564.0, 0.12119600825262378], [565.0, 0.1902401502072646], [566.0, 0.11055825159948629], [567.0, -0.057084238117628416], [568.0, 0.15090299333528367], [569.0, -0.026761341060599797], [570.0, -0.2814124594381857], [571.0, -0.09671741950180657], [572.0, -0.11284687368602242], [573.0, 0.15332457486495343]]}, \"id\": \"el858504728882512\"});\n",
       "      });\n",
       "    });\n",
       "}else{\n",
       "    // require.js not available: dynamically load d3 & mpld3\n",
       "    mpld3_load_lib(\"https://mpld3.github.io/js/d3.v3.min.js\", function(){\n",
       "         mpld3_load_lib(\"https://mpld3.github.io/js/mpld3.v0.3.js\", function(){\n",
       "                 \n",
       "                 mpld3.draw_figure(\"fig_el8585047288825127052232287\", {\"axes\": [{\"xlim\": [430.0, 573.0], \"yscale\": \"linear\", \"axesbg\": \"#FFFFFF\", \"texts\": [{\"v_baseline\": \"hanging\", \"h_anchor\": \"middle\", \"color\": \"#000000\", \"text\": \"month\", \"coordinates\": \"axes\", \"zorder\": 3, \"alpha\": 1, \"fontsize\": 10.0, \"position\": [0.49999999999999994, -0.09657836644591611], \"rotation\": -0.0, \"id\": \"el858504820350416\"}, {\"v_baseline\": \"auto\", \"h_anchor\": \"start\", \"color\": \"#000000\", \"text\": \"difflog_hats_sold\", \"coordinates\": \"axes\", \"zorder\": 1000003.0, \"alpha\": 1, \"fontsize\": 10.0, \"position\": [0.7225955794504182, 0.9218175128771156], \"rotation\": -0.0, \"id\": \"el858504820781968\"}], \"zoomable\": true, \"images\": [], \"xdomain\": [[2005, 10, 30, 0, 0, 0, 0], [2017, 9, 31, 0, 0, 0, 0]], \"ylim\": [-0.35874162345850946, 0.3047558070155847], \"paths\": [{\"edgecolor\": \"#CCCCCC\", \"facecolor\": \"#FFFFFF\", \"edgewidth\": 1.0, \"pathcodes\": [\"M\", \"L\", \"S\", \"L\", \"S\", \"L\", \"S\", \"L\", \"S\", \"Z\"], \"yindex\": 1, \"coordinates\": \"axes\", \"dasharray\": \"none\", \"zorder\": 1000000.0, \"alpha\": 0.8, \"xindex\": 0, \"data\": \"data03\", \"id\": \"el858504820779408\"}], \"sharey\": [], \"sharex\": [], \"axesbgalpha\": null, \"axes\": [{\"scale\": \"linear\", \"tickformat\": null, \"grid\": {\"gridOn\": false}, \"visible\": true, \"fontsize\": 10.0, \"position\": \"bottom\", \"nticks\": 6, \"tickvalues\": null}, {\"scale\": \"linear\", \"tickformat\": null, \"grid\": {\"gridOn\": false}, \"visible\": true, \"fontsize\": 10.0, \"position\": \"left\", \"nticks\": 9, \"tickvalues\": null}], \"lines\": [{\"drawstyle\": \"default\", \"color\": \"#1F77B4\", \"yindex\": 1, \"coordinates\": \"data\", \"dasharray\": \"none\", \"zorder\": 2, \"alpha\": 1, \"xindex\": 0, \"linewidth\": 1.5, \"data\": \"data01\", \"id\": \"el858504820564496\"}, {\"drawstyle\": \"default\", \"color\": \"#1F77B4\", \"yindex\": 1, \"coordinates\": \"axes\", \"dasharray\": \"none\", \"zorder\": 1000002.0, \"alpha\": 1, \"xindex\": 0, \"linewidth\": 1.5, \"data\": \"data02\", \"id\": \"el858504820782864\"}], \"markers\": [], \"id\": \"el858504762306000\", \"ydomain\": [-0.35874162345850946, 0.3047558070155847], \"collections\": [], \"xscale\": \"date\", \"bbox\": [0.125, 0.125, 0.775, 0.755]}], \"height\": 288.0, \"width\": 432.0, \"plugins\": [{\"type\": \"reset\"}, {\"enabled\": false, \"button\": true, \"type\": \"zoom\"}, {\"enabled\": false, \"button\": true, \"type\": \"boxzoom\"}], \"data\": {\"data02\": [[0.6389635603345281, 0.9379139072847682], [0.6987007168458781, 0.9379139072847682]], \"data03\": [[0.632989844683393, 0.8900558774834437], [0.9790919952210274, 0.8900558774834437], [0.9850657108721624, 0.8900558774834437], [0.9850657108721624, 0.8992538171449596], [0.9850657108721624, 0.9678072111846947], [0.9850657108721624, 0.9770051508462105], [0.9790919952210274, 0.9770051508462105], [0.632989844683393, 0.9770051508462105], [0.627016129032258, 0.9770051508462105], [0.627016129032258, 0.9678072111846947], [0.627016129032258, 0.8992538171449596], [0.627016129032258, 0.8900558774834437], [0.632989844683393, 0.8900558774834437]], \"data01\": [[430.0, NaN], [431.0, 0.10748591497013926], [432.0, 0.1641100197300167], [433.0, 0.07294899964616786], [434.0, 0.01990115431729489], [435.0, -0.07145896398214457], [436.0, 0.09097177820572622], [437.0, 0.0], [438.0, -0.19105523676270852], [439.0, -0.13102826240640475], [440.0, -0.08338160893905044], [441.0, 0.1786917887433752], [442.0, -0.1292117314800061], [443.0, 0.14723023698268456], [444.0, 0.15923974933472973], [445.0, 0.05433435096332939], [446.0, 0.009569451016150587], [447.0, -0.004773278752657539], [448.0, 0.12993642170666408], [449.0, 0.0], [450.0, -0.17896584894698275], [451.0, -0.1693408453212335], [452.0, -0.10008345855698231], [453.0, 0.25423413838424036], [454.0, -0.06862850638909546], [455.0, 0.08883121370661495], [456.0, 0.21913552991667107], [457.0, 0.008000042667076102], [458.0, 0.14097374898064885], [459.0, -0.14897379164772495], [460.0, 0.11375888535665801], [461.0, 0.0], [462.0, -0.1844744101550555], [463.0, -0.12861737782209381], [464.0, -0.05026183478088786], [465.0, 0.17887921260298167], [466.0, -0.07609934353864745], [467.0, 0.10582552380384858], [468.0, 0.121958407066864], [469.0, 0.03278982282299037], [470.0, 0.09563596576583144], [471.0, -0.006535970979784977], [472.0, 0.05423976893699667], [473.0, 0.05144856183604141], [474.0, -0.2538460752026852], [475.0, -0.08735709868710995], [476.0, -0.051074929936414826], [477.0, 0.1720800627417578], [478.0, -0.09641372966802031], [479.0, 0.05513207069471626], [480.0, 0.23457224713783198], [481.0, 0.09255155736524578], [482.0, 0.061599122462013156], [483.0, -0.12429771667757716], [484.0, 0.08455738802806234], [485.0, 0.029296369488431395], [486.0, -0.24235580173601434], [487.0, -0.11694726460898774], [488.0, -0.1070327568501881], [489.0, 0.16189111740223439], [490.0, -0.08927858443852532], [491.0, -0.027615167032974064], [492.0, 0.27459683290312586], [493.0, 0.061875403718087085], [494.0, 0.11587645738580221], [495.0, -0.06030660623099138], [496.0, 0.13386917340800775], [497.0, -0.0312150193479237], [498.0, -0.22925977833164612], [499.0, -0.1204706932542754], [500.0, -0.0680047291140573], [501.0, 0.17301916413164076], [502.0, -0.051129346522603925], [503.0, 0.016260520871780315], [504.0, 0.18768349993534006], [505.0, 0.10161017641078196], [506.0, 0.09223122421603414], [507.0, -0.0290523225945023], [508.0, 0.14536585027152515], [509.0, -0.04820210181787754], [510.0, -0.21239901203123246], [511.0, -0.130265194837901], [512.0, -0.0909717782057271], [513.0, 0.2110067047928128], [514.0, -0.08304635721774556], [515.0, 0.02754995176823094], [516.0, 0.18774162426329344], [517.0, 0.08211955161837547], [518.0, 0.10245172490959487], [519.0, -0.01890415463915307], [520.0, 0.09808218435133575], [521.0, -0.019214564944626034], [522.0, -0.2378007091141825], [523.0, -0.1467212251487382], [524.0, -0.06973333801467518], [525.0, 0.17301916413164076], [526.0, -0.07518691489460583], [527.0, 0.007528266420790963], [528.0, 0.21913552991667107], [529.0, 0.07353408404614914], [530.0, 0.10610650599454807], [531.0, -0.008424649659251493], [532.0, 0.09669362480247035], [533.0, 0.004597709248630011], [534.0, -0.25065933490667636], [535.0, -0.15251482145493256], [536.0, -0.07358003549385739], [537.0, 0.14637953510237178], [538.0, -0.09360949912230776], [539.0, -0.011751016535519021], [540.0, 0.18113882454490593], [541.0, 0.055623157479618435], [542.0, 0.12932479609655534], [543.0, -0.0016406894574600983], [544.0, 0.12051602451245191], [545.0, 0.028696373674224063], [546.0, -0.32858264934605064], [547.0, -0.11876583671829088], [548.0, -0.09265883048270496], [549.0, 0.13595563623602835], [550.0, -0.03888178754420668], [551.0, 0.0022002209096019243], [552.0, 0.2218239997702014], [553.0, 0.0713375384462056], [554.0, 0.14615628032588468], [555.0, -0.06586139764155607], [556.0, 0.14873296151557014], [557.0, 0.020645894623546823], [558.0, -0.29494550964031063], [559.0, -0.1279113411797228], [560.0, -0.0644085750650083], [561.0, 0.1644920336219906], [562.0, -0.07696104113612812], [563.0, -0.009569451016150587], [564.0, 0.12119600825262378], [565.0, 0.1902401502072646], [566.0, 0.11055825159948629], [567.0, -0.057084238117628416], [568.0, 0.15090299333528367], [569.0, -0.026761341060599797], [570.0, -0.2814124594381857], [571.0, -0.09671741950180657], [572.0, -0.11284687368602242], [573.0, 0.15332457486495343]]}, \"id\": \"el858504728882512\"});\n",
       "            })\n",
       "         });\n",
       "}\n",
       "</script>"
      ],
      "text/plain": [
       "<matplotlib.figure.Figure at 0x119dd0550>"
      ]
     },
     "metadata": {},
     "output_type": "display_data"
    }
   ],
   "source": [
    "df['difflog_hats_sold'] = df.log_hats_sold - df.log_hats_sold.shift()\n",
    "df.plot(y='difflog_hats_sold')"
   ]
  },
  {
   "cell_type": "markdown",
   "metadata": {},
   "source": [
    "Ok, the data is now starting to look really predictable - so why is this useful?\n",
    "\n",
    "By eliminating the trend and variance, we've actually figured out how they work, and so can use them in our model to create predictions \n",
    "\n",
    "To model trend we differenced and to model variance, we logged. So far, so simple.\n",
    "\n",
    "Now, to model the seasonality that we can see, we will need a little help. A quick google search tells us that one of the best python models for time series forecasts is ARIMA:\n",
    "\n",
    " - The \"AR\" stands for Auto-Regressive, which means that previous values predict future values (if values are rising, they will probably continue to rise)\n",
    "\n",
    " - The \"I\" stands for Integrated, which means that it will do the differencing for us.\n",
    "\n",
    " - The \"MA\" stands for Moving Average, which is how it models seasonality and trend.\n",
    "\n",
    "First, let's import the model: "
   ]
  },
  {
   "cell_type": "code",
   "execution_count": null,
   "metadata": {
    "collapsed": true
   },
   "outputs": [],
   "source": [
    "from statsmodels.tsa.arima_model import ARIMA"
   ]
  },
  {
   "cell_type": "markdown",
   "metadata": {},
   "source": [
    "This model is really a function which takes two main arguments:\n",
    " - The name of the data\n",
    " - A set of 3 parameters, (p,d,q). d tells the model how many times to difference the data and p and q control how complex the model is (higher numbers are more complex, and take longer to run)\n",
    " \n",
    "First we need to define our model, which is done on the first line below. Next, we fit the model, by feeding the data through it.\n",
    "\n",
    "Fit the model by creating a variable called `results_ARIMA` and setting it equal to `model.fit()`:"
   ]
  },
  {
   "cell_type": "code",
   "execution_count": 54,
   "metadata": {},
   "outputs": [],
   "source": [
    "model = ARIMA(df.log_hats_sold, order=(2, 1, 2))  \n",
    "results_ARIMA = model.fit()"
   ]
  },
  {
   "cell_type": "markdown",
   "metadata": {},
   "source": [
    "Now we're going to check if the fit was good by plotting `results_ARIMA`, which is our fitted model of the real data, against `df.difflog_hats_sold`:"
   ]
  },
  {
   "cell_type": "code",
   "execution_count": 55,
   "metadata": {},
   "outputs": [
    {
     "data": {
      "text/plain": [
       "[<matplotlib.lines.Line2D at 0x11f5d0210>]"
      ]
     },
     "execution_count": 55,
     "metadata": {},
     "output_type": "execute_result"
    },
    {
     "data": {
      "image/png": "[encoded data removed]",
      "text/html": [
       "\n",
       "\n",
       "<style>\n",
       "\n",
       "</style>\n",
       "\n",
       "<div id=\"fig_el8585048211570089574707583\"></div>\n",
       "<script>\n",
       "function mpld3_load_lib(url, callback){\n",
       "  var s = document.createElement('script');\n",
       "  s.src = url;\n",
       "  s.async = true;\n",
       "  s.onreadystatechange = s.onload = callback;\n",
       "  s.onerror = function(){console.warn(\"failed to load library \" + url);};\n",
       "  document.getElementsByTagName(\"head\")[0].appendChild(s);\n",
       "}\n",
       "\n",
       "if(typeof(mpld3) !== \"undefined\" && mpld3._mpld3IsLoaded){\n",
       "   // already loaded: just create the figure\n",
       "   !function(mpld3){\n",
       "       \n",
       "       mpld3.draw_figure(\"fig_el8585048211570089574707583\", {\"axes\": [{\"xlim\": [732064.9, 736819.1], \"yscale\": \"linear\", \"axesbg\": \"#FFFFFF\", \"texts\": [], \"zoomable\": true, \"images\": [], \"xdomain\": [[2005, 3, 28, 21, 36, 0, 0.0], [2018, 4, 5, 2, 24, 0, 0.0]], \"ylim\": [-0.35874162345850946, 0.3047558070155847], \"paths\": [], \"sharey\": [], \"sharex\": [], \"axesbgalpha\": null, \"axes\": [{\"scale\": \"linear\", \"tickformat\": null, \"grid\": {\"gridOn\": false}, \"visible\": true, \"fontsize\": 10.0, \"position\": \"bottom\", \"nticks\": 7, \"tickvalues\": null}, {\"scale\": \"linear\", \"tickformat\": null, \"grid\": {\"gridOn\": false}, \"visible\": true, \"fontsize\": 10.0, \"position\": \"left\", \"nticks\": 9, \"tickvalues\": null}], \"lines\": [{\"drawstyle\": \"default\", \"color\": \"#1F77B4\", \"yindex\": 1, \"coordinates\": \"data\", \"dasharray\": \"none\", \"zorder\": 2, \"alpha\": 1, \"xindex\": 0, \"linewidth\": 1.5, \"data\": \"data01\", \"id\": \"el858504822040656\"}, {\"drawstyle\": \"default\", \"color\": \"#FF0000\", \"yindex\": 1, \"coordinates\": \"data\", \"dasharray\": \"none\", \"zorder\": 2, \"alpha\": 1, \"xindex\": 0, \"linewidth\": 1.5, \"data\": \"data02\", \"id\": \"el858504821156368\"}], \"markers\": [], \"id\": \"el858504709801168\", \"ydomain\": [-0.35874162345850946, 0.3047558070155847], \"collections\": [], \"xscale\": \"date\", \"bbox\": [0.125, 0.125, 0.775, 0.755]}], \"height\": 288.0, \"width\": 432.0, \"plugins\": [{\"type\": \"reset\"}, {\"enabled\": false, \"button\": true, \"type\": \"zoom\"}, {\"enabled\": false, \"button\": true, \"type\": \"boxzoom\"}], \"data\": {\"data02\": [[732281.0, 0.00967262483353562], [732312.0, 0.0320467055159577], [732343.0, 0.04362849235204088], [732371.0, 0.010497113764509949], [732402.0, -0.02739158845298368], [732432.0, -0.0610818607278481], [732463.0, -0.051212940857151536], [732493.0, -0.05923401115575411], [732524.0, -0.05334264849757091], [732555.0, -0.008649316518559186], [732585.0, 0.05171507976132325], [732616.0, 0.08705222955881114], [732646.0, 0.11829539394174546], [732677.0, 0.12484475088326048], [732708.0, 0.09592468066197529], [732736.0, 0.05100434562436862], [732767.0, 0.0062136431251624755], [732797.0, -0.03076787733895814], [732828.0, -0.07624830724011457], [732858.0, -0.11096787112016926], [732889.0, -0.1023178657984477], [732920.0, -0.05421449027310046], [732950.0, 0.01383554731709849], [732981.0, 0.035437128285389266], [733011.0, 0.06587366076947], [733042.0, 0.07525785784306604], [733073.0, 0.043246957157019074], [733102.0, 0.011615419847394781], [733133.0, -0.039883684432453076], [733163.0, -0.054385555001186414], [733194.0, -0.08183073656629684], [733224.0, -0.09588509670541957], [733255.0, -0.06440408242649073], [733286.0, -0.006519012722326439], [733316.0, 0.057224276114006906], [733347.0, 0.08042990294807392], [733377.0, 0.11382977381930318], [733408.0, 0.11619275262721973], [733439.0, 0.0897548390619159], [733467.0, 0.05567048064795164], [733498.0, 0.004127985599233316], [733528.0, -0.038573541076058454], [733559.0, -0.08280261409122838], [733589.0, -0.122343757734282], [733620.0, -0.0963796147200074], [733651.0, -0.05042057278511411], [733681.0, 0.007304936764668368], [733712.0, 0.029468505910795584], [733742.0, 0.07261925278030155], [733773.0, 0.09584802340079035], [733804.0, 0.06793072579215315], [733832.0, 0.02658036859121693], [733863.0, -0.02151268802342482], [733893.0, -0.03662125949513463], [733924.0, -0.06474367345258643], [733954.0, -0.08580656224755889], [733985.0, -0.04766490309380536], [734016.0, 0.010651008862788233], [734046.0, 0.08424637075522742], [734077.0, 0.11374601020813602], [734107.0, 0.15549476426094783], [734138.0, 0.18543680491305167], [734169.0, 0.14464146864527921], [734197.0, 0.09154799298423347], [734228.0, 0.014767834113159087], [734258.0, -0.041244646196276186], [734289.0, -0.11559118786310643], [734319.0, -0.1621421223704295], [734350.0, -0.14473660940358488], [734381.0, -0.09598232199430033], [734411.0, -0.029029753548181686], [734442.0, 0.0034513239835762544], [734472.0, 0.05180345587185489], [734503.0, 0.09026430367823034], [734534.0, 0.08444419054573987], [734563.0, 0.05969955625347847], [734594.0, 0.018461749670866286], [734624.0, -0.011078237517055722], [734655.0, -0.06481416850782432], [734685.0, -0.09285794463035758], [734716.0, -0.06812786741812865], [734747.0, -0.01729254066426751], [734777.0, 0.048416714128053234], [734808.0, 0.0640991960384992], [734838.0, 0.09860761872781487], [734869.0, 0.11629796159058796], [734900.0, 0.08866923793854098], [734928.0, 0.04679126658609319], [734959.0, -0.0120861345886983], [734989.0, -0.05702310059903193], [735020.0, -0.11153052901280104], [735050.0, -0.14306826426088462], [735081.0, -0.11088990429065207], [735112.0, -0.04664916633438134], [735142.0, 0.029773890180774948], [735173.0, 0.06541303666185158], [735203.0, 0.1159775137580815], [735234.0, 0.1513825730366951], [735265.0, 0.13031313610169404], [735293.0, 0.0934877965863028], [735324.0, 0.033967774315539385], [735354.0, -0.017817830171384663], [735385.0, -0.08191872997733282], [735415.0, -0.13001252821868317], [735446.0, -0.1113411983610621], [735477.0, -0.05914082252746149], [735507.0, 0.007629184304566439], [735538.0, 0.041294605377442895], [735568.0, 0.09505359939862118], [735599.0, 0.13861527613737276], [735630.0, 0.13324510244384358], [735658.0, 0.11326777202348291], [735689.0, 0.06263743848732695], [735719.0, 0.01601955126882869], [735750.0, -0.05085825153917645], [735780.0, -0.10843304928528436], [735811.0, -0.08459113475424151], [735842.0, -0.03928811907307633], [735872.0, 0.023977526107388347], [735903.0, 0.05417889086369654], [735933.0, 0.09236638804692376], [735964.0, 0.12054537025457736], [735995.0, 0.09476869260520122], [736024.0, 0.057398795136524794], [736055.0, -0.007220644805776437], [736085.0, -0.04728729568227555], [736116.0, -0.10974483361799658], [736146.0, -0.15506221586687935], [736177.0, -0.12211018700311543], [736208.0, -0.06173999594248408], [736238.0, 0.012021940595428743], [736269.0, 0.04860004372651039], [736299.0, 0.10181736172582982], [736330.0, 0.1443549276997218], [736361.0, 0.1493224681630181], [736389.0, 0.10910658373678739], [736420.0, 0.047948677989021984], [736450.0, 0.003043700314900505], [736481.0, -0.06886599962919432], [736511.0, -0.11756137863290561], [736542.0, -0.09558478300343237], [736573.0, -0.05378156321440658], [736603.0, 0.012257736391513674]], \"data01\": [[732251.0, NaN], [732281.0, 0.10748591497013926], [732312.0, 0.1641100197300167], [732343.0, 0.07294899964616786], [732371.0, 0.01990115431729489], [732402.0, -0.07145896398214457], [732432.0, 0.09097177820572622], [732463.0, 0.0], [732493.0, -0.19105523676270852], [732524.0, -0.13102826240640475], [732555.0, -0.08338160893905044], [732585.0, 0.1786917887433752], [732616.0, -0.1292117314800061], [732646.0, 0.14723023698268456], [732677.0, 0.15923974933472973], [732708.0, 0.05433435096332939], [732736.0, 0.009569451016150587], [732767.0, -0.004773278752657539], [732797.0, 0.12993642170666408], [732828.0, 0.0], [732858.0, -0.17896584894698275], [732889.0, -0.1693408453212335], [732920.0, -0.10008345855698231], [732950.0, 0.25423413838424036], [732981.0, -0.06862850638909546], [733011.0, 0.08883121370661495], [733042.0, 0.21913552991667107], [733073.0, 0.008000042667076102], [733102.0, 0.14097374898064885], [733133.0, -0.14897379164772495], [733163.0, 0.11375888535665801], [733194.0, 0.0], [733224.0, -0.1844744101550555], [733255.0, -0.12861737782209381], [733286.0, -0.05026183478088786], [733316.0, 0.17887921260298167], [733347.0, -0.07609934353864745], [733377.0, 0.10582552380384858], [733408.0, 0.121958407066864], [733439.0, 0.03278982282299037], [733467.0, 0.09563596576583144], [733498.0, -0.006535970979784977], [733528.0, 0.05423976893699667], [733559.0, 0.05144856183604141], [733589.0, -0.2538460752026852], [733620.0, -0.08735709868710995], [733651.0, -0.051074929936414826], [733681.0, 0.1720800627417578], [733712.0, -0.09641372966802031], [733742.0, 0.05513207069471626], [733773.0, 0.23457224713783198], [733804.0, 0.09255155736524578], [733832.0, 0.061599122462013156], [733863.0, -0.12429771667757716], [733893.0, 0.08455738802806234], [733924.0, 0.029296369488431395], [733954.0, -0.24235580173601434], [733985.0, -0.11694726460898774], [734016.0, -0.1070327568501881], [734046.0, 0.16189111740223439], [734077.0, -0.08927858443852532], [734107.0, -0.027615167032974064], [734138.0, 0.27459683290312586], [734169.0, 0.061875403718087085], [734197.0, 0.11587645738580221], [734228.0, -0.06030660623099138], [734258.0, 0.13386917340800775], [734289.0, -0.0312150193479237], [734319.0, -0.22925977833164612], [734350.0, -0.1204706932542754], [734381.0, -0.0680047291140573], [734411.0, 0.17301916413164076], [734442.0, -0.051129346522603925], [734472.0, 0.016260520871780315], [734503.0, 0.18768349993534006], [734534.0, 0.10161017641078196], [734563.0, 0.09223122421603414], [734594.0, -0.0290523225945023], [734624.0, 0.14536585027152515], [734655.0, -0.04820210181787754], [734685.0, -0.21239901203123246], [734716.0, -0.130265194837901], [734747.0, -0.0909717782057271], [734777.0, 0.2110067047928128], [734808.0, -0.08304635721774556], [734838.0, 0.02754995176823094], [734869.0, 0.18774162426329344], [734900.0, 0.08211955161837547], [734928.0, 0.10245172490959487], [734959.0, -0.01890415463915307], [734989.0, 0.09808218435133575], [735020.0, -0.019214564944626034], [735050.0, -0.2378007091141825], [735081.0, -0.1467212251487382], [735112.0, -0.06973333801467518], [735142.0, 0.17301916413164076], [735173.0, -0.07518691489460583], [735203.0, 0.007528266420790963], [735234.0, 0.21913552991667107], [735265.0, 0.07353408404614914], [735293.0, 0.10610650599454807], [735324.0, -0.008424649659251493], [735354.0, 0.09669362480247035], [735385.0, 0.004597709248630011], [735415.0, -0.25065933490667636], [735446.0, -0.15251482145493256], [735477.0, -0.07358003549385739], [735507.0, 0.14637953510237178], [735538.0, -0.09360949912230776], [735568.0, -0.011751016535519021], [735599.0, 0.18113882454490593], [735630.0, 0.055623157479618435], [735658.0, 0.12932479609655534], [735689.0, -0.0016406894574600983], [735719.0, 0.12051602451245191], [735750.0, 0.028696373674224063], [735780.0, -0.32858264934605064], [735811.0, -0.11876583671829088], [735842.0, -0.09265883048270496], [735872.0, 0.13595563623602835], [735903.0, -0.03888178754420668], [735933.0, 0.0022002209096019243], [735964.0, 0.2218239997702014], [735995.0, 0.0713375384462056], [736024.0, 0.14615628032588468], [736055.0, -0.06586139764155607], [736085.0, 0.14873296151557014], [736116.0, 0.020645894623546823], [736146.0, -0.29494550964031063], [736177.0, -0.1279113411797228], [736208.0, -0.0644085750650083], [736238.0, 0.1644920336219906], [736269.0, -0.07696104113612812], [736299.0, -0.009569451016150587], [736330.0, 0.12119600825262378], [736361.0, 0.1902401502072646], [736389.0, 0.11055825159948629], [736420.0, -0.057084238117628416], [736450.0, 0.15090299333528367], [736481.0, -0.026761341060599797], [736511.0, -0.2814124594381857], [736542.0, -0.09671741950180657], [736573.0, -0.11284687368602242], [736603.0, 0.15332457486495343]]}, \"id\": \"el858504821157008\"});\n",
       "   }(mpld3);\n",
       "}else if(typeof define === \"function\" && define.amd){\n",
       "   // require.js is available: use it to load d3/mpld3\n",
       "   require.config({paths: {d3: \"https://mpld3.github.io/js/d3.v3.min\"}});\n",
       "   require([\"d3\"], function(d3){\n",
       "      window.d3 = d3;\n",
       "      mpld3_load_lib(\"https://mpld3.github.io/js/mpld3.v0.3.js\", function(){\n",
       "         \n",
       "         mpld3.draw_figure(\"fig_el8585048211570089574707583\", {\"axes\": [{\"xlim\": [732064.9, 736819.1], \"yscale\": \"linear\", \"axesbg\": \"#FFFFFF\", \"texts\": [], \"zoomable\": true, \"images\": [], \"xdomain\": [[2005, 3, 28, 21, 36, 0, 0.0], [2018, 4, 5, 2, 24, 0, 0.0]], \"ylim\": [-0.35874162345850946, 0.3047558070155847], \"paths\": [], \"sharey\": [], \"sharex\": [], \"axesbgalpha\": null, \"axes\": [{\"scale\": \"linear\", \"tickformat\": null, \"grid\": {\"gridOn\": false}, \"visible\": true, \"fontsize\": 10.0, \"position\": \"bottom\", \"nticks\": 7, \"tickvalues\": null}, {\"scale\": \"linear\", \"tickformat\": null, \"grid\": {\"gridOn\": false}, \"visible\": true, \"fontsize\": 10.0, \"position\": \"left\", \"nticks\": 9, \"tickvalues\": null}], \"lines\": [{\"drawstyle\": \"default\", \"color\": \"#1F77B4\", \"yindex\": 1, \"coordinates\": \"data\", \"dasharray\": \"none\", \"zorder\": 2, \"alpha\": 1, \"xindex\": 0, \"linewidth\": 1.5, \"data\": \"data01\", \"id\": \"el858504822040656\"}, {\"drawstyle\": \"default\", \"color\": \"#FF0000\", \"yindex\": 1, \"coordinates\": \"data\", \"dasharray\": \"none\", \"zorder\": 2, \"alpha\": 1, \"xindex\": 0, \"linewidth\": 1.5, \"data\": \"data02\", \"id\": \"el858504821156368\"}], \"markers\": [], \"id\": \"el858504709801168\", \"ydomain\": [-0.35874162345850946, 0.3047558070155847], \"collections\": [], \"xscale\": \"date\", \"bbox\": [0.125, 0.125, 0.775, 0.755]}], \"height\": 288.0, \"width\": 432.0, \"plugins\": [{\"type\": \"reset\"}, {\"enabled\": false, \"button\": true, \"type\": \"zoom\"}, {\"enabled\": false, \"button\": true, \"type\": \"boxzoom\"}], \"data\": {\"data02\": [[732281.0, 0.00967262483353562], [732312.0, 0.0320467055159577], [732343.0, 0.04362849235204088], [732371.0, 0.010497113764509949], [732402.0, -0.02739158845298368], [732432.0, -0.0610818607278481], [732463.0, -0.051212940857151536], [732493.0, -0.05923401115575411], [732524.0, -0.05334264849757091], [732555.0, -0.008649316518559186], [732585.0, 0.05171507976132325], [732616.0, 0.08705222955881114], [732646.0, 0.11829539394174546], [732677.0, 0.12484475088326048], [732708.0, 0.09592468066197529], [732736.0, 0.05100434562436862], [732767.0, 0.0062136431251624755], [732797.0, -0.03076787733895814], [732828.0, -0.07624830724011457], [732858.0, -0.11096787112016926], [732889.0, -0.1023178657984477], [732920.0, -0.05421449027310046], [732950.0, 0.01383554731709849], [732981.0, 0.035437128285389266], [733011.0, 0.06587366076947], [733042.0, 0.07525785784306604], [733073.0, 0.043246957157019074], [733102.0, 0.011615419847394781], [733133.0, -0.039883684432453076], [733163.0, -0.054385555001186414], [733194.0, -0.08183073656629684], [733224.0, -0.09588509670541957], [733255.0, -0.06440408242649073], [733286.0, -0.006519012722326439], [733316.0, 0.057224276114006906], [733347.0, 0.08042990294807392], [733377.0, 0.11382977381930318], [733408.0, 0.11619275262721973], [733439.0, 0.0897548390619159], [733467.0, 0.05567048064795164], [733498.0, 0.004127985599233316], [733528.0, -0.038573541076058454], [733559.0, -0.08280261409122838], [733589.0, -0.122343757734282], [733620.0, -0.0963796147200074], [733651.0, -0.05042057278511411], [733681.0, 0.007304936764668368], [733712.0, 0.029468505910795584], [733742.0, 0.07261925278030155], [733773.0, 0.09584802340079035], [733804.0, 0.06793072579215315], [733832.0, 0.02658036859121693], [733863.0, -0.02151268802342482], [733893.0, -0.03662125949513463], [733924.0, -0.06474367345258643], [733954.0, -0.08580656224755889], [733985.0, -0.04766490309380536], [734016.0, 0.010651008862788233], [734046.0, 0.08424637075522742], [734077.0, 0.11374601020813602], [734107.0, 0.15549476426094783], [734138.0, 0.18543680491305167], [734169.0, 0.14464146864527921], [734197.0, 0.09154799298423347], [734228.0, 0.014767834113159087], [734258.0, -0.041244646196276186], [734289.0, -0.11559118786310643], [734319.0, -0.1621421223704295], [734350.0, -0.14473660940358488], [734381.0, -0.09598232199430033], [734411.0, -0.029029753548181686], [734442.0, 0.0034513239835762544], [734472.0, 0.05180345587185489], [734503.0, 0.09026430367823034], [734534.0, 0.08444419054573987], [734563.0, 0.05969955625347847], [734594.0, 0.018461749670866286], [734624.0, -0.011078237517055722], [734655.0, -0.06481416850782432], [734685.0, -0.09285794463035758], [734716.0, -0.06812786741812865], [734747.0, -0.01729254066426751], [734777.0, 0.048416714128053234], [734808.0, 0.0640991960384992], [734838.0, 0.09860761872781487], [734869.0, 0.11629796159058796], [734900.0, 0.08866923793854098], [734928.0, 0.04679126658609319], [734959.0, -0.0120861345886983], [734989.0, -0.05702310059903193], [735020.0, -0.11153052901280104], [735050.0, -0.14306826426088462], [735081.0, -0.11088990429065207], [735112.0, -0.04664916633438134], [735142.0, 0.029773890180774948], [735173.0, 0.06541303666185158], [735203.0, 0.1159775137580815], [735234.0, 0.1513825730366951], [735265.0, 0.13031313610169404], [735293.0, 0.0934877965863028], [735324.0, 0.033967774315539385], [735354.0, -0.017817830171384663], [735385.0, -0.08191872997733282], [735415.0, -0.13001252821868317], [735446.0, -0.1113411983610621], [735477.0, -0.05914082252746149], [735507.0, 0.007629184304566439], [735538.0, 0.041294605377442895], [735568.0, 0.09505359939862118], [735599.0, 0.13861527613737276], [735630.0, 0.13324510244384358], [735658.0, 0.11326777202348291], [735689.0, 0.06263743848732695], [735719.0, 0.01601955126882869], [735750.0, -0.05085825153917645], [735780.0, -0.10843304928528436], [735811.0, -0.08459113475424151], [735842.0, -0.03928811907307633], [735872.0, 0.023977526107388347], [735903.0, 0.05417889086369654], [735933.0, 0.09236638804692376], [735964.0, 0.12054537025457736], [735995.0, 0.09476869260520122], [736024.0, 0.057398795136524794], [736055.0, -0.007220644805776437], [736085.0, -0.04728729568227555], [736116.0, -0.10974483361799658], [736146.0, -0.15506221586687935], [736177.0, -0.12211018700311543], [736208.0, -0.06173999594248408], [736238.0, 0.012021940595428743], [736269.0, 0.04860004372651039], [736299.0, 0.10181736172582982], [736330.0, 0.1443549276997218], [736361.0, 0.1493224681630181], [736389.0, 0.10910658373678739], [736420.0, 0.047948677989021984], [736450.0, 0.003043700314900505], [736481.0, -0.06886599962919432], [736511.0, -0.11756137863290561], [736542.0, -0.09558478300343237], [736573.0, -0.05378156321440658], [736603.0, 0.012257736391513674]], \"data01\": [[732251.0, NaN], [732281.0, 0.10748591497013926], [732312.0, 0.1641100197300167], [732343.0, 0.07294899964616786], [732371.0, 0.01990115431729489], [732402.0, -0.07145896398214457], [732432.0, 0.09097177820572622], [732463.0, 0.0], [732493.0, -0.19105523676270852], [732524.0, -0.13102826240640475], [732555.0, -0.08338160893905044], [732585.0, 0.1786917887433752], [732616.0, -0.1292117314800061], [732646.0, 0.14723023698268456], [732677.0, 0.15923974933472973], [732708.0, 0.05433435096332939], [732736.0, 0.009569451016150587], [732767.0, -0.004773278752657539], [732797.0, 0.12993642170666408], [732828.0, 0.0], [732858.0, -0.17896584894698275], [732889.0, -0.1693408453212335], [732920.0, -0.10008345855698231], [732950.0, 0.25423413838424036], [732981.0, -0.06862850638909546], [733011.0, 0.08883121370661495], [733042.0, 0.21913552991667107], [733073.0, 0.008000042667076102], [733102.0, 0.14097374898064885], [733133.0, -0.14897379164772495], [733163.0, 0.11375888535665801], [733194.0, 0.0], [733224.0, -0.1844744101550555], [733255.0, -0.12861737782209381], [733286.0, -0.05026183478088786], [733316.0, 0.17887921260298167], [733347.0, -0.07609934353864745], [733377.0, 0.10582552380384858], [733408.0, 0.121958407066864], [733439.0, 0.03278982282299037], [733467.0, 0.09563596576583144], [733498.0, -0.006535970979784977], [733528.0, 0.05423976893699667], [733559.0, 0.05144856183604141], [733589.0, -0.2538460752026852], [733620.0, -0.08735709868710995], [733651.0, -0.051074929936414826], [733681.0, 0.1720800627417578], [733712.0, -0.09641372966802031], [733742.0, 0.05513207069471626], [733773.0, 0.23457224713783198], [733804.0, 0.09255155736524578], [733832.0, 0.061599122462013156], [733863.0, -0.12429771667757716], [733893.0, 0.08455738802806234], [733924.0, 0.029296369488431395], [733954.0, -0.24235580173601434], [733985.0, -0.11694726460898774], [734016.0, -0.1070327568501881], [734046.0, 0.16189111740223439], [734077.0, -0.08927858443852532], [734107.0, -0.027615167032974064], [734138.0, 0.27459683290312586], [734169.0, 0.061875403718087085], [734197.0, 0.11587645738580221], [734228.0, -0.06030660623099138], [734258.0, 0.13386917340800775], [734289.0, -0.0312150193479237], [734319.0, -0.22925977833164612], [734350.0, -0.1204706932542754], [734381.0, -0.0680047291140573], [734411.0, 0.17301916413164076], [734442.0, -0.051129346522603925], [734472.0, 0.016260520871780315], [734503.0, 0.18768349993534006], [734534.0, 0.10161017641078196], [734563.0, 0.09223122421603414], [734594.0, -0.0290523225945023], [734624.0, 0.14536585027152515], [734655.0, -0.04820210181787754], [734685.0, -0.21239901203123246], [734716.0, -0.130265194837901], [734747.0, -0.0909717782057271], [734777.0, 0.2110067047928128], [734808.0, -0.08304635721774556], [734838.0, 0.02754995176823094], [734869.0, 0.18774162426329344], [734900.0, 0.08211955161837547], [734928.0, 0.10245172490959487], [734959.0, -0.01890415463915307], [734989.0, 0.09808218435133575], [735020.0, -0.019214564944626034], [735050.0, -0.2378007091141825], [735081.0, -0.1467212251487382], [735112.0, -0.06973333801467518], [735142.0, 0.17301916413164076], [735173.0, -0.07518691489460583], [735203.0, 0.007528266420790963], [735234.0, 0.21913552991667107], [735265.0, 0.07353408404614914], [735293.0, 0.10610650599454807], [735324.0, -0.008424649659251493], [735354.0, 0.09669362480247035], [735385.0, 0.004597709248630011], [735415.0, -0.25065933490667636], [735446.0, -0.15251482145493256], [735477.0, -0.07358003549385739], [735507.0, 0.14637953510237178], [735538.0, -0.09360949912230776], [735568.0, -0.011751016535519021], [735599.0, 0.18113882454490593], [735630.0, 0.055623157479618435], [735658.0, 0.12932479609655534], [735689.0, -0.0016406894574600983], [735719.0, 0.12051602451245191], [735750.0, 0.028696373674224063], [735780.0, -0.32858264934605064], [735811.0, -0.11876583671829088], [735842.0, -0.09265883048270496], [735872.0, 0.13595563623602835], [735903.0, -0.03888178754420668], [735933.0, 0.0022002209096019243], [735964.0, 0.2218239997702014], [735995.0, 0.0713375384462056], [736024.0, 0.14615628032588468], [736055.0, -0.06586139764155607], [736085.0, 0.14873296151557014], [736116.0, 0.020645894623546823], [736146.0, -0.29494550964031063], [736177.0, -0.1279113411797228], [736208.0, -0.0644085750650083], [736238.0, 0.1644920336219906], [736269.0, -0.07696104113612812], [736299.0, -0.009569451016150587], [736330.0, 0.12119600825262378], [736361.0, 0.1902401502072646], [736389.0, 0.11055825159948629], [736420.0, -0.057084238117628416], [736450.0, 0.15090299333528367], [736481.0, -0.026761341060599797], [736511.0, -0.2814124594381857], [736542.0, -0.09671741950180657], [736573.0, -0.11284687368602242], [736603.0, 0.15332457486495343]]}, \"id\": \"el858504821157008\"});\n",
       "      });\n",
       "    });\n",
       "}else{\n",
       "    // require.js not available: dynamically load d3 & mpld3\n",
       "    mpld3_load_lib(\"https://mpld3.github.io/js/d3.v3.min.js\", function(){\n",
       "         mpld3_load_lib(\"https://mpld3.github.io/js/mpld3.v0.3.js\", function(){\n",
       "                 \n",
       "                 mpld3.draw_figure(\"fig_el8585048211570089574707583\", {\"axes\": [{\"xlim\": [732064.9, 736819.1], \"yscale\": \"linear\", \"axesbg\": \"#FFFFFF\", \"texts\": [], \"zoomable\": true, \"images\": [], \"xdomain\": [[2005, 3, 28, 21, 36, 0, 0.0], [2018, 4, 5, 2, 24, 0, 0.0]], \"ylim\": [-0.35874162345850946, 0.3047558070155847], \"paths\": [], \"sharey\": [], \"sharex\": [], \"axesbgalpha\": null, \"axes\": [{\"scale\": \"linear\", \"tickformat\": null, \"grid\": {\"gridOn\": false}, \"visible\": true, \"fontsize\": 10.0, \"position\": \"bottom\", \"nticks\": 7, \"tickvalues\": null}, {\"scale\": \"linear\", \"tickformat\": null, \"grid\": {\"gridOn\": false}, \"visible\": true, \"fontsize\": 10.0, \"position\": \"left\", \"nticks\": 9, \"tickvalues\": null}], \"lines\": [{\"drawstyle\": \"default\", \"color\": \"#1F77B4\", \"yindex\": 1, \"coordinates\": \"data\", \"dasharray\": \"none\", \"zorder\": 2, \"alpha\": 1, \"xindex\": 0, \"linewidth\": 1.5, \"data\": \"data01\", \"id\": \"el858504822040656\"}, {\"drawstyle\": \"default\", \"color\": \"#FF0000\", \"yindex\": 1, \"coordinates\": \"data\", \"dasharray\": \"none\", \"zorder\": 2, \"alpha\": 1, \"xindex\": 0, \"linewidth\": 1.5, \"data\": \"data02\", \"id\": \"el858504821156368\"}], \"markers\": [], \"id\": \"el858504709801168\", \"ydomain\": [-0.35874162345850946, 0.3047558070155847], \"collections\": [], \"xscale\": \"date\", \"bbox\": [0.125, 0.125, 0.775, 0.755]}], \"height\": 288.0, \"width\": 432.0, \"plugins\": [{\"type\": \"reset\"}, {\"enabled\": false, \"button\": true, \"type\": \"zoom\"}, {\"enabled\": false, \"button\": true, \"type\": \"boxzoom\"}], \"data\": {\"data02\": [[732281.0, 0.00967262483353562], [732312.0, 0.0320467055159577], [732343.0, 0.04362849235204088], [732371.0, 0.010497113764509949], [732402.0, -0.02739158845298368], [732432.0, -0.0610818607278481], [732463.0, -0.051212940857151536], [732493.0, -0.05923401115575411], [732524.0, -0.05334264849757091], [732555.0, -0.008649316518559186], [732585.0, 0.05171507976132325], [732616.0, 0.08705222955881114], [732646.0, 0.11829539394174546], [732677.0, 0.12484475088326048], [732708.0, 0.09592468066197529], [732736.0, 0.05100434562436862], [732767.0, 0.0062136431251624755], [732797.0, -0.03076787733895814], [732828.0, -0.07624830724011457], [732858.0, -0.11096787112016926], [732889.0, -0.1023178657984477], [732920.0, -0.05421449027310046], [732950.0, 0.01383554731709849], [732981.0, 0.035437128285389266], [733011.0, 0.06587366076947], [733042.0, 0.07525785784306604], [733073.0, 0.043246957157019074], [733102.0, 0.011615419847394781], [733133.0, -0.039883684432453076], [733163.0, -0.054385555001186414], [733194.0, -0.08183073656629684], [733224.0, -0.09588509670541957], [733255.0, -0.06440408242649073], [733286.0, -0.006519012722326439], [733316.0, 0.057224276114006906], [733347.0, 0.08042990294807392], [733377.0, 0.11382977381930318], [733408.0, 0.11619275262721973], [733439.0, 0.0897548390619159], [733467.0, 0.05567048064795164], [733498.0, 0.004127985599233316], [733528.0, -0.038573541076058454], [733559.0, -0.08280261409122838], [733589.0, -0.122343757734282], [733620.0, -0.0963796147200074], [733651.0, -0.05042057278511411], [733681.0, 0.007304936764668368], [733712.0, 0.029468505910795584], [733742.0, 0.07261925278030155], [733773.0, 0.09584802340079035], [733804.0, 0.06793072579215315], [733832.0, 0.02658036859121693], [733863.0, -0.02151268802342482], [733893.0, -0.03662125949513463], [733924.0, -0.06474367345258643], [733954.0, -0.08580656224755889], [733985.0, -0.04766490309380536], [734016.0, 0.010651008862788233], [734046.0, 0.08424637075522742], [734077.0, 0.11374601020813602], [734107.0, 0.15549476426094783], [734138.0, 0.18543680491305167], [734169.0, 0.14464146864527921], [734197.0, 0.09154799298423347], [734228.0, 0.014767834113159087], [734258.0, -0.041244646196276186], [734289.0, -0.11559118786310643], [734319.0, -0.1621421223704295], [734350.0, -0.14473660940358488], [734381.0, -0.09598232199430033], [734411.0, -0.029029753548181686], [734442.0, 0.0034513239835762544], [734472.0, 0.05180345587185489], [734503.0, 0.09026430367823034], [734534.0, 0.08444419054573987], [734563.0, 0.05969955625347847], [734594.0, 0.018461749670866286], [734624.0, -0.011078237517055722], [734655.0, -0.06481416850782432], [734685.0, -0.09285794463035758], [734716.0, -0.06812786741812865], [734747.0, -0.01729254066426751], [734777.0, 0.048416714128053234], [734808.0, 0.0640991960384992], [734838.0, 0.09860761872781487], [734869.0, 0.11629796159058796], [734900.0, 0.08866923793854098], [734928.0, 0.04679126658609319], [734959.0, -0.0120861345886983], [734989.0, -0.05702310059903193], [735020.0, -0.11153052901280104], [735050.0, -0.14306826426088462], [735081.0, -0.11088990429065207], [735112.0, -0.04664916633438134], [735142.0, 0.029773890180774948], [735173.0, 0.06541303666185158], [735203.0, 0.1159775137580815], [735234.0, 0.1513825730366951], [735265.0, 0.13031313610169404], [735293.0, 0.0934877965863028], [735324.0, 0.033967774315539385], [735354.0, -0.017817830171384663], [735385.0, -0.08191872997733282], [735415.0, -0.13001252821868317], [735446.0, -0.1113411983610621], [735477.0, -0.05914082252746149], [735507.0, 0.007629184304566439], [735538.0, 0.041294605377442895], [735568.0, 0.09505359939862118], [735599.0, 0.13861527613737276], [735630.0, 0.13324510244384358], [735658.0, 0.11326777202348291], [735689.0, 0.06263743848732695], [735719.0, 0.01601955126882869], [735750.0, -0.05085825153917645], [735780.0, -0.10843304928528436], [735811.0, -0.08459113475424151], [735842.0, -0.03928811907307633], [735872.0, 0.023977526107388347], [735903.0, 0.05417889086369654], [735933.0, 0.09236638804692376], [735964.0, 0.12054537025457736], [735995.0, 0.09476869260520122], [736024.0, 0.057398795136524794], [736055.0, -0.007220644805776437], [736085.0, -0.04728729568227555], [736116.0, -0.10974483361799658], [736146.0, -0.15506221586687935], [736177.0, -0.12211018700311543], [736208.0, -0.06173999594248408], [736238.0, 0.012021940595428743], [736269.0, 0.04860004372651039], [736299.0, 0.10181736172582982], [736330.0, 0.1443549276997218], [736361.0, 0.1493224681630181], [736389.0, 0.10910658373678739], [736420.0, 0.047948677989021984], [736450.0, 0.003043700314900505], [736481.0, -0.06886599962919432], [736511.0, -0.11756137863290561], [736542.0, -0.09558478300343237], [736573.0, -0.05378156321440658], [736603.0, 0.012257736391513674]], \"data01\": [[732251.0, NaN], [732281.0, 0.10748591497013926], [732312.0, 0.1641100197300167], [732343.0, 0.07294899964616786], [732371.0, 0.01990115431729489], [732402.0, -0.07145896398214457], [732432.0, 0.09097177820572622], [732463.0, 0.0], [732493.0, -0.19105523676270852], [732524.0, -0.13102826240640475], [732555.0, -0.08338160893905044], [732585.0, 0.1786917887433752], [732616.0, -0.1292117314800061], [732646.0, 0.14723023698268456], [732677.0, 0.15923974933472973], [732708.0, 0.05433435096332939], [732736.0, 0.009569451016150587], [732767.0, -0.004773278752657539], [732797.0, 0.12993642170666408], [732828.0, 0.0], [732858.0, -0.17896584894698275], [732889.0, -0.1693408453212335], [732920.0, -0.10008345855698231], [732950.0, 0.25423413838424036], [732981.0, -0.06862850638909546], [733011.0, 0.08883121370661495], [733042.0, 0.21913552991667107], [733073.0, 0.008000042667076102], [733102.0, 0.14097374898064885], [733133.0, -0.14897379164772495], [733163.0, 0.11375888535665801], [733194.0, 0.0], [733224.0, -0.1844744101550555], [733255.0, -0.12861737782209381], [733286.0, -0.05026183478088786], [733316.0, 0.17887921260298167], [733347.0, -0.07609934353864745], [733377.0, 0.10582552380384858], [733408.0, 0.121958407066864], [733439.0, 0.03278982282299037], [733467.0, 0.09563596576583144], [733498.0, -0.006535970979784977], [733528.0, 0.05423976893699667], [733559.0, 0.05144856183604141], [733589.0, -0.2538460752026852], [733620.0, -0.08735709868710995], [733651.0, -0.051074929936414826], [733681.0, 0.1720800627417578], [733712.0, -0.09641372966802031], [733742.0, 0.05513207069471626], [733773.0, 0.23457224713783198], [733804.0, 0.09255155736524578], [733832.0, 0.061599122462013156], [733863.0, -0.12429771667757716], [733893.0, 0.08455738802806234], [733924.0, 0.029296369488431395], [733954.0, -0.24235580173601434], [733985.0, -0.11694726460898774], [734016.0, -0.1070327568501881], [734046.0, 0.16189111740223439], [734077.0, -0.08927858443852532], [734107.0, -0.027615167032974064], [734138.0, 0.27459683290312586], [734169.0, 0.061875403718087085], [734197.0, 0.11587645738580221], [734228.0, -0.06030660623099138], [734258.0, 0.13386917340800775], [734289.0, -0.0312150193479237], [734319.0, -0.22925977833164612], [734350.0, -0.1204706932542754], [734381.0, -0.0680047291140573], [734411.0, 0.17301916413164076], [734442.0, -0.051129346522603925], [734472.0, 0.016260520871780315], [734503.0, 0.18768349993534006], [734534.0, 0.10161017641078196], [734563.0, 0.09223122421603414], [734594.0, -0.0290523225945023], [734624.0, 0.14536585027152515], [734655.0, -0.04820210181787754], [734685.0, -0.21239901203123246], [734716.0, -0.130265194837901], [734747.0, -0.0909717782057271], [734777.0, 0.2110067047928128], [734808.0, -0.08304635721774556], [734838.0, 0.02754995176823094], [734869.0, 0.18774162426329344], [734900.0, 0.08211955161837547], [734928.0, 0.10245172490959487], [734959.0, -0.01890415463915307], [734989.0, 0.09808218435133575], [735020.0, -0.019214564944626034], [735050.0, -0.2378007091141825], [735081.0, -0.1467212251487382], [735112.0, -0.06973333801467518], [735142.0, 0.17301916413164076], [735173.0, -0.07518691489460583], [735203.0, 0.007528266420790963], [735234.0, 0.21913552991667107], [735265.0, 0.07353408404614914], [735293.0, 0.10610650599454807], [735324.0, -0.008424649659251493], [735354.0, 0.09669362480247035], [735385.0, 0.004597709248630011], [735415.0, -0.25065933490667636], [735446.0, -0.15251482145493256], [735477.0, -0.07358003549385739], [735507.0, 0.14637953510237178], [735538.0, -0.09360949912230776], [735568.0, -0.011751016535519021], [735599.0, 0.18113882454490593], [735630.0, 0.055623157479618435], [735658.0, 0.12932479609655534], [735689.0, -0.0016406894574600983], [735719.0, 0.12051602451245191], [735750.0, 0.028696373674224063], [735780.0, -0.32858264934605064], [735811.0, -0.11876583671829088], [735842.0, -0.09265883048270496], [735872.0, 0.13595563623602835], [735903.0, -0.03888178754420668], [735933.0, 0.0022002209096019243], [735964.0, 0.2218239997702014], [735995.0, 0.0713375384462056], [736024.0, 0.14615628032588468], [736055.0, -0.06586139764155607], [736085.0, 0.14873296151557014], [736116.0, 0.020645894623546823], [736146.0, -0.29494550964031063], [736177.0, -0.1279113411797228], [736208.0, -0.0644085750650083], [736238.0, 0.1644920336219906], [736269.0, -0.07696104113612812], [736299.0, -0.009569451016150587], [736330.0, 0.12119600825262378], [736361.0, 0.1902401502072646], [736389.0, 0.11055825159948629], [736420.0, -0.057084238117628416], [736450.0, 0.15090299333528367], [736481.0, -0.026761341060599797], [736511.0, -0.2814124594381857], [736542.0, -0.09671741950180657], [736573.0, -0.11284687368602242], [736603.0, 0.15332457486495343]]}, \"id\": \"el858504821157008\"});\n",
       "            })\n",
       "         });\n",
       "}\n",
       "</script>"
      ],
      "text/plain": [
       "<matplotlib.figure.Figure at 0x11f5d0490>"
      ]
     },
     "metadata": {},
     "output_type": "display_data"
    }
   ],
   "source": [
    "import matplotlib.pyplot as plt\n",
    "plt.plot(df.difflog_hats_sold)\n",
    "plt.plot(results_ARIMA.fittedvalues, color='red')"
   ]
  },
  {
   "cell_type": "markdown",
   "metadata": {},
   "source": [
    "Looks good. Our model will never be able to capture some of the \"spikeyness\" of the data, as that can often be random, unpredictable noise.\n",
    "\n",
    "To convert this model back to our original data and pull the prediction, we have to reverse a lot of the steps we've taken. We've written some code below that does that automatically.\n",
    "\n"
   ]
  },
  {
   "cell_type": "code",
   "execution_count": 107,
   "metadata": {},
   "outputs": [
    {
     "data": {
      "application/vnd.jupyter.widget-view+json": {
       "model_id": "8c99a6a6ec56447a80ad94d3d1babf55"
      }
     },
     "metadata": {},
     "output_type": "display_data"
    }
   ],
   "source": [
    "def ARIMAforecast(series, params = [6,1, 2], steps = 20):   \n",
    "    \n",
    "    X = series                                                     #take the data\n",
    "    log_X = np.log(X)                                              #log the data\n",
    "    model = ARIMA(log_X, order=(params[0], params[1], params[2]))  #create ARIMA model\n",
    "    results_ARIMA = model.fit(disp =1)                              #fit ARIMA model\n",
    "    forecast = results_ARIMA.forecast(steps = steps)[0]            #forecast 'steps' number of steps\n",
    "    unlog_forecast = np.exp(forecast)                              #\"unlog\" the forecast\n",
    "    full_predict = np.append(X,unlog_forecast)                     #append it to the end of the column\n",
    "    return full_predict.tolist()                                   #return as list\n",
    "\n",
    "\n",
    "def plot_ARIMA(series, test_points, forecast_points, param1, param2, param3 = 2):\n",
    "    predictions = ARIMAforecast(series[:-test_points], params = [param1,param2,param3], steps = forecast_points)\n",
    "    _,ax = plt.subplots()\n",
    "    _,_,_ = ax.plot(predictions, color = \"red\"), ax.plot(series.values, color = \"blue\"), plt.show()\n",
    "    \n",
    "from ipywidgets import interact, interactive, fixed, interact_manual\n",
    "def custom_ARIMA(series):    \n",
    "    interact(plot_ARIMA, series=fixed(series), test_points=(1,10,1), forecast_points=(1,50,1), param1=(1,9,1), param2=(1,2,1), param3=(0,4,1))\n",
    "\n",
    "custom_ARIMA(df.hats_sold)    "
   ]
  },
  {
   "cell_type": "markdown",
   "metadata": {},
   "source": [
    "Does it look stationary now? If not, you can always difference again!\n",
    "\n",
    "Once you feel happy that your data is stationary we need to make sure that the variance is stationary too. Let's start by making a new column called `log_close` that is, you guessed it, the log of the `close` column! Then plot this new column as the y axis."
   ]
  },
  {
   "cell_type": "code",
   "execution_count": 108,
   "metadata": {},
   "outputs": [
    {
     "data": {
      "application/vnd.jupyter.widget-view+json": {
       "model_id": "ca9cc3040f344187811a0cd7b31f65bb"
      }
     },
     "metadata": {},
     "output_type": "display_data"
    }
   ],
   "source": [
    "apple = data.copy()\n",
    "apple.columns = ['close']\n",
    "custom_ARIMA(apple.close)"
   ]
  },
  {
   "cell_type": "markdown",
   "metadata": {},
   "source": [
    "Now let's bring the two together to calculate the difference of the `log_close` column and store it in another new column called `difflog_close`. Plot this new column as the y axis. "
   ]
  },
  {
   "cell_type": "markdown",
   "metadata": {},
   "source": [
    "Congratulations! We have built a model that can predict the future.\n",
    "\n",
    "This is a simplistic introduction to time series analysis, although these methods are the foundation to many of the cutting edge techniques used currently. If you'd like to like to investigate ARIMA further, we recommend following the introduction here:\n",
    "\n",
    "https://datascience.ibm.com/exchange/public/entry/view/815137c868b916821dec777bdc23013c\n",
    "\n",
    "## <font color='green'>You're now finished with this section! Let your facilitators know, and have a break.</font>\n",
    "\n",
    "![done](https://media.giphy.com/media/R6aNZ3Uc1aR1K/giphy.gif)"
   ]
  },
  {
   "cell_type": "markdown",
   "metadata": {},
   "source": [
    "## 4. Preparing for Visualization\n",
    "\n",
    "Let's get our data ready for a more snazzy visualization.\n",
    "\n",
    "Based on the [D3.js show reel](https://bl.ocks.org/mbostock/1256572), we need the data to be arranged like this:\n",
    "\n",
    "```\n",
    "symbol,date,price\n",
    "MSFT,Jan 2000,39.81\n",
    "MSFT,Feb 2000,36.35\n",
    "MSFT,Mar 2000,43.22\n",
    "MSFT,Apr 2000,28.37\n",
    "MSFT,May 2000,25.45```\n",
    "\n",
    "### 4.1 Replotting with forecasts\n",
    "\n",
    "First, we need to calculate our predictions for each stock (using the `params` values you've chosen) and append them to the end of our dataframe. We will predict 3 months ahead.\n",
    "\n",
    "Update `master_params` with the values you found above:"
   ]
  },
  {
   "cell_type": "code",
   "execution_count": 111,
   "metadata": {},
   "outputs": [
    {
     "name": "stderr",
     "output_type": "stream",
     "text": [
      "/Users/greg/anaconda/lib/python2.7/site-packages/statsmodels/base/model.py:496: ConvergenceWarning: Maximum Likelihood optimization failed to converge. Check mle_retvals\n",
      "  \"Check mle_retvals\", ConvergenceWarning)\n"
     ]
    },
    {
     "data": {
      "text/html": [
       "<div>\n",
       "<style>\n",
       "    .dataframe thead tr:only-child th {\n",
       "        text-align: right;\n",
       "    }\n",
       "\n",
       "    .dataframe thead th {\n",
       "        text-align: left;\n",
       "    }\n",
       "\n",
       "    .dataframe tbody tr th {\n",
       "        vertical-align: top;\n",
       "    }\n",
       "</style>\n",
       "<table border=\"1\" class=\"dataframe\">\n",
       "  <thead>\n",
       "    <tr style=\"text-align: right;\">\n",
       "      <th></th>\n",
       "      <th>KHC</th>\n",
       "      <th>WFC</th>\n",
       "      <th>AAPL</th>\n",
       "    </tr>\n",
       "  </thead>\n",
       "  <tbody>\n",
       "    <tr>\n",
       "      <th>2017-07-31</th>\n",
       "      <td>86.8326</td>\n",
       "      <td>53.5505</td>\n",
       "      <td>148.248</td>\n",
       "    </tr>\n",
       "    <tr>\n",
       "      <th>2017-08-31</th>\n",
       "      <td>80.75</td>\n",
       "      <td>51.07</td>\n",
       "      <td>164</td>\n",
       "    </tr>\n",
       "    <tr>\n",
       "      <th>2017-09-30</th>\n",
       "      <td>77.55</td>\n",
       "      <td>55.15</td>\n",
       "      <td>154.12</td>\n",
       "    </tr>\n",
       "    <tr>\n",
       "      <th>2017-10-31</th>\n",
       "      <td>77.33</td>\n",
       "      <td>55.265</td>\n",
       "      <td>156.405</td>\n",
       "    </tr>\n",
       "    <tr>\n",
       "      <th>2017-11-30</th>\n",
       "      <td>75.6428</td>\n",
       "      <td>55.5393</td>\n",
       "      <td>157.707</td>\n",
       "    </tr>\n",
       "    <tr>\n",
       "      <th>2017-12-31</th>\n",
       "      <td>77.1965</td>\n",
       "      <td>56.2728</td>\n",
       "      <td>159.141</td>\n",
       "    </tr>\n",
       "    <tr>\n",
       "      <th>2018-01-31</th>\n",
       "      <td>75.4015</td>\n",
       "      <td>55.9971</td>\n",
       "      <td>164.088</td>\n",
       "    </tr>\n",
       "    <tr>\n",
       "      <th>2018-02-28</th>\n",
       "      <td>78.1775</td>\n",
       "      <td>56.6281</td>\n",
       "      <td>163.874</td>\n",
       "    </tr>\n",
       "    <tr>\n",
       "      <th>2018-03-31</th>\n",
       "      <td>78.1149</td>\n",
       "      <td>57.0028</td>\n",
       "      <td>166.803</td>\n",
       "    </tr>\n",
       "    <tr>\n",
       "      <th>2018-04-30</th>\n",
       "      <td>77.4262</td>\n",
       "      <td>56.7713</td>\n",
       "      <td>170.31</td>\n",
       "    </tr>\n",
       "  </tbody>\n",
       "</table>\n",
       "</div>"
      ],
      "text/plain": [
       "                KHC      WFC     AAPL\n",
       "2017-07-31  86.8326  53.5505  148.248\n",
       "2017-08-31    80.75    51.07      164\n",
       "2017-09-30    77.55    55.15   154.12\n",
       "2017-10-31    77.33   55.265  156.405\n",
       "2017-11-30  75.6428  55.5393  157.707\n",
       "2017-12-31  77.1965  56.2728  159.141\n",
       "2018-01-31  75.4015  55.9971  164.088\n",
       "2018-02-28  78.1775  56.6281  163.874\n",
       "2018-03-31  78.1149  57.0028  166.803\n",
       "2018-04-30  77.4262  56.7713   170.31"
      ]
     },
     "execution_count": 111,
     "metadata": {},
     "output_type": "execute_result"
    }
   ],
   "source": [
    "import pandas as pd\n",
    "\n",
    "numberofmonths = 6 # how many predictions do we want to make?\n",
    "\n",
    "# Here we need to add numberofmonths onto the end of the dataframe using data.reindex:\n",
    "data3 = data2.reindex(pd.date_range(datetime.datetime.now().date(), periods=121 + numberofmonths, freq='MS')+pd.DateOffset(days=-1, months=-120),fill_value=\"NaN\")\n",
    "\n",
    "master_params = [7,1,0]\n",
    "\n",
    "for i, column in enumerate(data3):\n",
    "    if data3[column].isnull().values.any(): # select only the range of dates for which we have data\n",
    "        last_nan = np.where(data3[column].isnull().values)[0][-1]\n",
    "        stock = data3[column].iloc[(last_nan+1):-numberofmonths].values\n",
    "    else:\n",
    "        stock = data3[column].iloc[:-numberofmonths].values\n",
    "    \n",
    "    stock = stock.tolist()\n",
    "    forecast = ARIMAforecast(stock, params = master_params, steps = numberofmonths) # create our forecast\n",
    "    \n",
    "    col_forecast = pd.Series(forecast[-numberofmonths:], index = pd.date_range(start= datetime.datetime.now().date(), periods=numberofmonths, freq='MS') + pd.DateOffset(days=-1, months=1))\n",
    "    data3[column].iloc[-numberofmonths:] = col_forecast\n",
    "    \n",
    "\n",
    "data3.tail(10)"
   ]
  },
  {
   "cell_type": "markdown",
   "metadata": {},
   "source": [
    "How did your model fair on the other stocks? Let's visualize the results!\n",
    "\n",
    "Below, we create two overlapping plots, one with the existing data and one with our forecasts, marked in red."
   ]
  },
  {
   "cell_type": "code",
   "execution_count": 112,
   "metadata": {},
   "outputs": [
    {
     "data": {
      "image/png": "[encoded data removed]",
      "text/html": [
       "\n",
       "\n",
       "<style>\n",
       "\n",
       "</style>\n",
       "\n",
       "<div id=\"fig_el8585048493358883357966942\"></div>\n",
       "<script>\n",
       "function mpld3_load_lib(url, callback){\n",
       "  var s = document.createElement('script');\n",
       "  s.src = url;\n",
       "  s.async = true;\n",
       "  s.onreadystatechange = s.onload = callback;\n",
       "  s.onerror = function(){console.warn(\"failed to load library \" + url);};\n",
       "  document.getElementsByTagName(\"head\")[0].appendChild(s);\n",
       "}\n",
       "\n",
       "if(typeof(mpld3) !== \"undefined\" && mpld3._mpld3IsLoaded){\n",
       "   // already loaded: just create the figure\n",
       "   !function(mpld3){\n",
       "       \n",
       "       mpld3.draw_figure(\"fig_el8585048493358883357966942\", {\"axes\": [{\"xlim\": [732788.3, 737005.7], \"yscale\": \"linear\", \"axesbg\": \"#FFFFFF\", \"texts\": [], \"zoomable\": true, \"images\": [], \"xdomain\": [[2007, 3, 22, 7, 12, 0, 0.0], [2018, 10, 7, 16, 48, 0, 0.0]], \"ylim\": [1.971282838107646, 178.32602214378346], \"paths\": [], \"sharey\": [], \"sharex\": [], \"axesbgalpha\": null, \"axes\": [{\"scale\": \"linear\", \"tickformat\": null, \"grid\": {\"gridOn\": false}, \"visible\": true, \"fontsize\": 10.0, \"position\": \"bottom\", \"nticks\": 5, \"tickvalues\": null}, {\"scale\": \"linear\", \"tickformat\": null, \"grid\": {\"gridOn\": false}, \"visible\": true, \"fontsize\": 10.0, \"position\": \"left\", \"nticks\": 10, \"tickvalues\": null}], \"lines\": [{\"drawstyle\": \"default\", \"color\": \"#1F77B4\", \"yindex\": 1, \"coordinates\": \"data\", \"dasharray\": \"none\", \"zorder\": 2, \"alpha\": 1, \"xindex\": 0, \"linewidth\": 1.5, \"data\": \"data01\", \"id\": \"el858504849572176\"}, {\"drawstyle\": \"default\", \"color\": \"#FF7F0E\", \"yindex\": 2, \"coordinates\": \"data\", \"dasharray\": \"none\", \"zorder\": 2, \"alpha\": 1, \"xindex\": 0, \"linewidth\": 1.5, \"data\": \"data01\", \"id\": \"el858504876820432\"}, {\"drawstyle\": \"default\", \"color\": \"#2CA02C\", \"yindex\": 3, \"coordinates\": \"data\", \"dasharray\": \"none\", \"zorder\": 2, \"alpha\": 1, \"xindex\": 0, \"linewidth\": 1.5, \"data\": \"data01\", \"id\": \"el858504876964176\"}, {\"drawstyle\": \"default\", \"color\": \"#FF0000\", \"yindex\": 1, \"coordinates\": \"data\", \"dasharray\": \"none\", \"zorder\": 2, \"alpha\": 1, \"xindex\": 0, \"linewidth\": 1.5, \"data\": \"data02\", \"id\": \"el858504849335696\"}, {\"drawstyle\": \"default\", \"color\": \"#FF0000\", \"yindex\": 2, \"coordinates\": \"data\", \"dasharray\": \"none\", \"zorder\": 2, \"alpha\": 1, \"xindex\": 0, \"linewidth\": 1.5, \"data\": \"data02\", \"id\": \"el858504874191696\"}, {\"drawstyle\": \"default\", \"color\": \"#FF0000\", \"yindex\": 3, \"coordinates\": \"data\", \"dasharray\": \"none\", \"zorder\": 2, \"alpha\": 1, \"xindex\": 0, \"linewidth\": 1.5, \"data\": \"data02\", \"id\": \"el858504874191952\"}], \"markers\": [], \"id\": \"el858504849332432\", \"ydomain\": [1.971282838107646, 178.32602214378346], \"collections\": [], \"xscale\": \"date\", \"bbox\": [0.125, 0.125, 0.775, 0.755]}], \"height\": 288.0, \"width\": 432.0, \"plugins\": [{\"type\": \"reset\"}, {\"enabled\": false, \"button\": true, \"type\": \"zoom\"}, {\"enabled\": false, \"button\": true, \"type\": \"boxzoom\"}], \"data\": {\"data02\": [[736633.0, 77.33, 55.265, 156.405], [736663.0, 75.64284154848887, 55.53925899114512, 157.70669083756547], [736694.0, 77.19650805870421, 56.27278618552873, 159.14122953905434], [736725.0, 75.40148483235598, 55.99710727992883, 164.08829054719197], [736753.0, 78.17747128884143, 56.62812652306417, 163.87430250261374], [736784.0, 78.11490215170983, 57.00277701186151, 166.8029843620565], [736814.0, 77.42618822624947, 56.77133181822553, 170.3098976298891]], \"data01\": [[732980.0, NaN, 26.129162153867, 24.411222456723], [733010.0, NaN, 25.166378433743, 23.417809718684], [733041.0, NaN, 23.428090191635, 25.456040769822], [733072.0, NaN, 26.446813969225, 17.395646600379], [733101.0, NaN, 22.916878264786, 16.066812485072], [733132.0, NaN, 22.814955781912, 18.441750052855], [733162.0, NaN, 23.324568196284, 22.354999454314], [733193.0, NaN, 21.839512782252, 24.257005731542], [733223.0, NaN, 18.813508472198, 21.518373720209], [733254.0, NaN, 23.978311640144, 20.427290389556], [733285.0, NaN, 24.247286432544, 21.786967849899], [733315.0, NaN, 30.062790215176, 14.606894153362], [733346.0, NaN, 27.275193360691, 13.826814551823], [733376.0, NaN, 23.390226016419, 11.909386602077], [733407.0, NaN, 23.867908029216, 10.968664578475], [733438.0, NaN, 15.302017020088, 11.582961200445], [733466.0, NaN, 9.987407352002, 11.477579771571], [733497.0, NaN, 11.753775263844, 13.509385125826], [733527.0, NaN, 16.516365381286, 16.170908774569], [733558.0, NaN, 21.087051779849, 17.453477872322], [733588.0, NaN, 20.061642203104, 18.304240139569], [733619.0, NaN, 20.227030844514, 20.997892272724], [733650.0, NaN, 22.798086403311, 21.6173294522], [733680.0, NaN, 23.344842835948, 23.820058343531], [733711.0, NaN, 22.798086403311, 24.22487724713], [733741.0, NaN, 23.272169314678, 25.691221275723], [733772.0, NaN, 22.400707910241, 27.081999108977], [733803.0, NaN, 23.595854979183, 24.682772406979], [733831.0, NaN, 22.731513444209, 26.296521922057], [733862.0, NaN, 25.874348880168, 30.200775347881], [733892.0, NaN, 27.528910392749, 33.553703981184], [733923.0, NaN, 23.890473279224, 33.012660303675], [733953.0, NaN, 21.31739686121, 32.325110737244], [733984.0, NaN, 23.091070896928, 33.060210460605], [734015.0, NaN, 19.64544591999, 31.24173824285], [734045.0, NaN, 20.95097130703, 36.465829808345], [734076.0, NaN, 21.739291748406, 38.680124954064], [734106.0, NaN, 22.741515837121, 39.98711169997], [734137.0, NaN, 25.900756184946, 41.453455728563], [734168.0, NaN, 27.095918538753, 43.607349323587], [734196.0, NaN, 27.003395476407, 45.392407917553], [734227.0, NaN, 26.601924878653, 44.788071125751], [734257.0, NaN, 24.42075159942, 44.996584989589], [734288.0, NaN, 23.899191524973, 44.701002932993], [734318.0, NaN, 23.638044208345, 43.138273451162], [734349.0, NaN, 23.536954924489, 50.182122373789], [734380.0, NaN, 22.083565037547, 49.456018626063], [734410.0, NaN, 20.408260103664, 49.00493470491], [734441.0, NaN, 21.922803452983, 52.019871682192], [734471.0, NaN, 21.984155875193, 49.118026970042], [734502.0, NaN, 23.429363337986, 52.048144748475], [734533.0, NaN, 24.832064698932, 58.664042258726], [734562.0, NaN, 26.70711138368, 69.711100339167], [734593.0, NaN, 29.227048519308, 77.050531318391], [734623.0, NaN, 28.606380382914, 75.049569309172], [734654.0, NaN, 27.617624986873, 74.246357198856], [734684.0, NaN, 28.815394058067, 75.052139587925], [734715.0, NaN, 29.13422467414, 78.491172559453], [734746.0, NaN, 29.514551732024, 85.857594115654], [734776.0, NaN, 29.948206620828, 86.098295836876], [734807.0, NaN, 29.219666407637, 76.83353816507], [734837.0, NaN, 28.821283697695, 75.896485214554], [734868.0, NaN, 29.842819654262, 69.009794690466], [734899.0, NaN, 30.627742687255, 59.065900168086], [734927.0, NaN, 30.8475800594, 57.562728311726], [734958.0, NaN, 32.527137582588, 57.727044210395], [734988.0, NaN, 33.397693576283, 57.742693343602], [735019.0, NaN, 35.935834675552, 59.041313847026], [735049.0, NaN, 36.57390621603, 52.056549256254], [735080.0, NaN, 38.550155570567, 59.40824208744], [735111.0, NaN, 36.657933387445, 64.384993720396], [735141.0, NaN, 36.872098528949, 63.001924723734], [735172.0, NaN, 38.094624545034, 69.074424870362], [735202.0, NaN, 39.559129248138, 73.914215436527], [735233.0, NaN, 40.799283686175, 74.572181819196], [735264.0, NaN, 40.745363928, 66.541004275586], [735292.0, NaN, 41.998867254847, 70.365411763138], [735323.0, NaN, 45.002663878847, 71.76940390268], [735353.0, NaN, 44.912188076919, 78.903021106928], [735384.0, NaN, 46.269189547841, 85.114261733663], [735414.0, NaN, 47.891071339789, 87.468686256501], [735445.0, NaN, 46.378529893365, 89.98177559584], [735476.0, NaN, 47.198262137537, 96.956206806577], [735506.0, NaN, 47.592804375467, 95.30085693427], [735537.0, NaN, 48.712203283084, 102.15873497669], [735567.0, NaN, 50.314422309488, 112.98399738955], [735598.0, NaN, 50.628425679261, 104.8614616317], [735629.0, NaN, 47.950161642963, 111.30248998705], [735657.0, NaN, 50.934686156653, 122.5157567099], [735688.0, NaN, 50.572128616936, 118.67223733001], [735718.0, NaN, 51.222872918992, 119.35892069317], [735749.0, NaN, 52.377573352296, 124.76735316852], [735779.0, NaN, 52.639648415531, 120.11778685264], [735810.0, 74.490493466069, 54.165299676508, 116.16733143492], [735841.0, 68.107200896496, 50.240631438077, 108.47643694077], [735871.0, 66.120037864559, 48.375331414687, 105.77318412236], [735902.0, 73.084481886868, 51.003708720373, 114.96039565823], [735932.0, 69.632842445394, 52.264738901248, 114.29538877569], [735963.0, 69.307892228966, 51.562816818001, 101.69680999602], [735994.0, 74.356433031791, 47.645332758797, 94.044912454993], [736023.0, 73.365775968595, 44.856276527438, 93.919781198699], [736054.0, 75.384149765237, 46.232939745672, 105.86737979984], [736084.0, 74.913958403412, 47.781685866184, 91.054300233386], [736115.0, 80.3716622509, 48.865637028736, 97.591938528951], [736145.0, 85.482445918496, 45.599578086949, 93.428693404443], [736176.0, 83.463251615041, 46.216179185104, 101.84313953637], [736207.0, 87.041420911462, 49.333677703594, 104.24847718874], [736237.0, 87.060873681807, 43.001874974707, 111.07719459177], [736268.0, 86.51619611213, 44.681939195715, 111.55864373242], [736298.0, 79.999518046349, 51.824163421622, 109.15491652711], [736329.0, 85.554904051527, 53.968814175464, 114.38945378366], [736360.0, 87.485082257911, 55.163551125094, 119.85115020417], [736388.0, 89.660206937187, 57.066697924081, 135.8803615489], [736419.0, 89.558241906473, 54.877892302252, 142.49633360184], [736449.0, 89.104582713906, 53.083466071743, 142.48641460326], [736480.0, 91.538593974175, 50.770723940011, 152.14268890314], [736510.0, 85.005796269727, 55.00989076097, 143.43800769724], [736541.0, 86.832596843615, 53.550505461951, 148.24848941629], [736572.0, 80.75, 51.07, 164.0], [736602.0, 77.55, 55.15, 154.12], [736633.0, 77.33, 55.265, 156.405]]}, \"id\": \"el858504849335888\"});\n",
       "   }(mpld3);\n",
       "}else if(typeof define === \"function\" && define.amd){\n",
       "   // require.js is available: use it to load d3/mpld3\n",
       "   require.config({paths: {d3: \"https://mpld3.github.io/js/d3.v3.min\"}});\n",
       "   require([\"d3\"], function(d3){\n",
       "      window.d3 = d3;\n",
       "      mpld3_load_lib(\"https://mpld3.github.io/js/mpld3.v0.3.js\", function(){\n",
       "         \n",
       "         mpld3.draw_figure(\"fig_el8585048493358883357966942\", {\"axes\": [{\"xlim\": [732788.3, 737005.7], \"yscale\": \"linear\", \"axesbg\": \"#FFFFFF\", \"texts\": [], \"zoomable\": true, \"images\": [], \"xdomain\": [[2007, 3, 22, 7, 12, 0, 0.0], [2018, 10, 7, 16, 48, 0, 0.0]], \"ylim\": [1.971282838107646, 178.32602214378346], \"paths\": [], \"sharey\": [], \"sharex\": [], \"axesbgalpha\": null, \"axes\": [{\"scale\": \"linear\", \"tickformat\": null, \"grid\": {\"gridOn\": false}, \"visible\": true, \"fontsize\": 10.0, \"position\": \"bottom\", \"nticks\": 5, \"tickvalues\": null}, {\"scale\": \"linear\", \"tickformat\": null, \"grid\": {\"gridOn\": false}, \"visible\": true, \"fontsize\": 10.0, \"position\": \"left\", \"nticks\": 10, \"tickvalues\": null}], \"lines\": [{\"drawstyle\": \"default\", \"color\": \"#1F77B4\", \"yindex\": 1, \"coordinates\": \"data\", \"dasharray\": \"none\", \"zorder\": 2, \"alpha\": 1, \"xindex\": 0, \"linewidth\": 1.5, \"data\": \"data01\", \"id\": \"el858504849572176\"}, {\"drawstyle\": \"default\", \"color\": \"#FF7F0E\", \"yindex\": 2, \"coordinates\": \"data\", \"dasharray\": \"none\", \"zorder\": 2, \"alpha\": 1, \"xindex\": 0, \"linewidth\": 1.5, \"data\": \"data01\", \"id\": \"el858504876820432\"}, {\"drawstyle\": \"default\", \"color\": \"#2CA02C\", \"yindex\": 3, \"coordinates\": \"data\", \"dasharray\": \"none\", \"zorder\": 2, \"alpha\": 1, \"xindex\": 0, \"linewidth\": 1.5, \"data\": \"data01\", \"id\": \"el858504876964176\"}, {\"drawstyle\": \"default\", \"color\": \"#FF0000\", \"yindex\": 1, \"coordinates\": \"data\", \"dasharray\": \"none\", \"zorder\": 2, \"alpha\": 1, \"xindex\": 0, \"linewidth\": 1.5, \"data\": \"data02\", \"id\": \"el858504849335696\"}, {\"drawstyle\": \"default\", \"color\": \"#FF0000\", \"yindex\": 2, \"coordinates\": \"data\", \"dasharray\": \"none\", \"zorder\": 2, \"alpha\": 1, \"xindex\": 0, \"linewidth\": 1.5, \"data\": \"data02\", \"id\": \"el858504874191696\"}, {\"drawstyle\": \"default\", \"color\": \"#FF0000\", \"yindex\": 3, \"coordinates\": \"data\", \"dasharray\": \"none\", \"zorder\": 2, \"alpha\": 1, \"xindex\": 0, \"linewidth\": 1.5, \"data\": \"data02\", \"id\": \"el858504874191952\"}], \"markers\": [], \"id\": \"el858504849332432\", \"ydomain\": [1.971282838107646, 178.32602214378346], \"collections\": [], \"xscale\": \"date\", \"bbox\": [0.125, 0.125, 0.775, 0.755]}], \"height\": 288.0, \"width\": 432.0, \"plugins\": [{\"type\": \"reset\"}, {\"enabled\": false, \"button\": true, \"type\": \"zoom\"}, {\"enabled\": false, \"button\": true, \"type\": \"boxzoom\"}], \"data\": {\"data02\": [[736633.0, 77.33, 55.265, 156.405], [736663.0, 75.64284154848887, 55.53925899114512, 157.70669083756547], [736694.0, 77.19650805870421, 56.27278618552873, 159.14122953905434], [736725.0, 75.40148483235598, 55.99710727992883, 164.08829054719197], [736753.0, 78.17747128884143, 56.62812652306417, 163.87430250261374], [736784.0, 78.11490215170983, 57.00277701186151, 166.8029843620565], [736814.0, 77.42618822624947, 56.77133181822553, 170.3098976298891]], \"data01\": [[732980.0, NaN, 26.129162153867, 24.411222456723], [733010.0, NaN, 25.166378433743, 23.417809718684], [733041.0, NaN, 23.428090191635, 25.456040769822], [733072.0, NaN, 26.446813969225, 17.395646600379], [733101.0, NaN, 22.916878264786, 16.066812485072], [733132.0, NaN, 22.814955781912, 18.441750052855], [733162.0, NaN, 23.324568196284, 22.354999454314], [733193.0, NaN, 21.839512782252, 24.257005731542], [733223.0, NaN, 18.813508472198, 21.518373720209], [733254.0, NaN, 23.978311640144, 20.427290389556], [733285.0, NaN, 24.247286432544, 21.786967849899], [733315.0, NaN, 30.062790215176, 14.606894153362], [733346.0, NaN, 27.275193360691, 13.826814551823], [733376.0, NaN, 23.390226016419, 11.909386602077], [733407.0, NaN, 23.867908029216, 10.968664578475], [733438.0, NaN, 15.302017020088, 11.582961200445], [733466.0, NaN, 9.987407352002, 11.477579771571], [733497.0, NaN, 11.753775263844, 13.509385125826], [733527.0, NaN, 16.516365381286, 16.170908774569], [733558.0, NaN, 21.087051779849, 17.453477872322], [733588.0, NaN, 20.061642203104, 18.304240139569], [733619.0, NaN, 20.227030844514, 20.997892272724], [733650.0, NaN, 22.798086403311, 21.6173294522], [733680.0, NaN, 23.344842835948, 23.820058343531], [733711.0, NaN, 22.798086403311, 24.22487724713], [733741.0, NaN, 23.272169314678, 25.691221275723], [733772.0, NaN, 22.400707910241, 27.081999108977], [733803.0, NaN, 23.595854979183, 24.682772406979], [733831.0, NaN, 22.731513444209, 26.296521922057], [733862.0, NaN, 25.874348880168, 30.200775347881], [733892.0, NaN, 27.528910392749, 33.553703981184], [733923.0, NaN, 23.890473279224, 33.012660303675], [733953.0, NaN, 21.31739686121, 32.325110737244], [733984.0, NaN, 23.091070896928, 33.060210460605], [734015.0, NaN, 19.64544591999, 31.24173824285], [734045.0, NaN, 20.95097130703, 36.465829808345], [734076.0, NaN, 21.739291748406, 38.680124954064], [734106.0, NaN, 22.741515837121, 39.98711169997], [734137.0, NaN, 25.900756184946, 41.453455728563], [734168.0, NaN, 27.095918538753, 43.607349323587], [734196.0, NaN, 27.003395476407, 45.392407917553], [734227.0, NaN, 26.601924878653, 44.788071125751], [734257.0, NaN, 24.42075159942, 44.996584989589], [734288.0, NaN, 23.899191524973, 44.701002932993], [734318.0, NaN, 23.638044208345, 43.138273451162], [734349.0, NaN, 23.536954924489, 50.182122373789], [734380.0, NaN, 22.083565037547, 49.456018626063], [734410.0, NaN, 20.408260103664, 49.00493470491], [734441.0, NaN, 21.922803452983, 52.019871682192], [734471.0, NaN, 21.984155875193, 49.118026970042], [734502.0, NaN, 23.429363337986, 52.048144748475], [734533.0, NaN, 24.832064698932, 58.664042258726], [734562.0, NaN, 26.70711138368, 69.711100339167], [734593.0, NaN, 29.227048519308, 77.050531318391], [734623.0, NaN, 28.606380382914, 75.049569309172], [734654.0, NaN, 27.617624986873, 74.246357198856], [734684.0, NaN, 28.815394058067, 75.052139587925], [734715.0, NaN, 29.13422467414, 78.491172559453], [734746.0, NaN, 29.514551732024, 85.857594115654], [734776.0, NaN, 29.948206620828, 86.098295836876], [734807.0, NaN, 29.219666407637, 76.83353816507], [734837.0, NaN, 28.821283697695, 75.896485214554], [734868.0, NaN, 29.842819654262, 69.009794690466], [734899.0, NaN, 30.627742687255, 59.065900168086], [734927.0, NaN, 30.8475800594, 57.562728311726], [734958.0, NaN, 32.527137582588, 57.727044210395], [734988.0, NaN, 33.397693576283, 57.742693343602], [735019.0, NaN, 35.935834675552, 59.041313847026], [735049.0, NaN, 36.57390621603, 52.056549256254], [735080.0, NaN, 38.550155570567, 59.40824208744], [735111.0, NaN, 36.657933387445, 64.384993720396], [735141.0, NaN, 36.872098528949, 63.001924723734], [735172.0, NaN, 38.094624545034, 69.074424870362], [735202.0, NaN, 39.559129248138, 73.914215436527], [735233.0, NaN, 40.799283686175, 74.572181819196], [735264.0, NaN, 40.745363928, 66.541004275586], [735292.0, NaN, 41.998867254847, 70.365411763138], [735323.0, NaN, 45.002663878847, 71.76940390268], [735353.0, NaN, 44.912188076919, 78.903021106928], [735384.0, NaN, 46.269189547841, 85.114261733663], [735414.0, NaN, 47.891071339789, 87.468686256501], [735445.0, NaN, 46.378529893365, 89.98177559584], [735476.0, NaN, 47.198262137537, 96.956206806577], [735506.0, NaN, 47.592804375467, 95.30085693427], [735537.0, NaN, 48.712203283084, 102.15873497669], [735567.0, NaN, 50.314422309488, 112.98399738955], [735598.0, NaN, 50.628425679261, 104.8614616317], [735629.0, NaN, 47.950161642963, 111.30248998705], [735657.0, NaN, 50.934686156653, 122.5157567099], [735688.0, NaN, 50.572128616936, 118.67223733001], [735718.0, NaN, 51.222872918992, 119.35892069317], [735749.0, NaN, 52.377573352296, 124.76735316852], [735779.0, NaN, 52.639648415531, 120.11778685264], [735810.0, 74.490493466069, 54.165299676508, 116.16733143492], [735841.0, 68.107200896496, 50.240631438077, 108.47643694077], [735871.0, 66.120037864559, 48.375331414687, 105.77318412236], [735902.0, 73.084481886868, 51.003708720373, 114.96039565823], [735932.0, 69.632842445394, 52.264738901248, 114.29538877569], [735963.0, 69.307892228966, 51.562816818001, 101.69680999602], [735994.0, 74.356433031791, 47.645332758797, 94.044912454993], [736023.0, 73.365775968595, 44.856276527438, 93.919781198699], [736054.0, 75.384149765237, 46.232939745672, 105.86737979984], [736084.0, 74.913958403412, 47.781685866184, 91.054300233386], [736115.0, 80.3716622509, 48.865637028736, 97.591938528951], [736145.0, 85.482445918496, 45.599578086949, 93.428693404443], [736176.0, 83.463251615041, 46.216179185104, 101.84313953637], [736207.0, 87.041420911462, 49.333677703594, 104.24847718874], [736237.0, 87.060873681807, 43.001874974707, 111.07719459177], [736268.0, 86.51619611213, 44.681939195715, 111.55864373242], [736298.0, 79.999518046349, 51.824163421622, 109.15491652711], [736329.0, 85.554904051527, 53.968814175464, 114.38945378366], [736360.0, 87.485082257911, 55.163551125094, 119.85115020417], [736388.0, 89.660206937187, 57.066697924081, 135.8803615489], [736419.0, 89.558241906473, 54.877892302252, 142.49633360184], [736449.0, 89.104582713906, 53.083466071743, 142.48641460326], [736480.0, 91.538593974175, 50.770723940011, 152.14268890314], [736510.0, 85.005796269727, 55.00989076097, 143.43800769724], [736541.0, 86.832596843615, 53.550505461951, 148.24848941629], [736572.0, 80.75, 51.07, 164.0], [736602.0, 77.55, 55.15, 154.12], [736633.0, 77.33, 55.265, 156.405]]}, \"id\": \"el858504849335888\"});\n",
       "      });\n",
       "    });\n",
       "}else{\n",
       "    // require.js not available: dynamically load d3 & mpld3\n",
       "    mpld3_load_lib(\"https://mpld3.github.io/js/d3.v3.min.js\", function(){\n",
       "         mpld3_load_lib(\"https://mpld3.github.io/js/mpld3.v0.3.js\", function(){\n",
       "                 \n",
       "                 mpld3.draw_figure(\"fig_el8585048493358883357966942\", {\"axes\": [{\"xlim\": [732788.3, 737005.7], \"yscale\": \"linear\", \"axesbg\": \"#FFFFFF\", \"texts\": [], \"zoomable\": true, \"images\": [], \"xdomain\": [[2007, 3, 22, 7, 12, 0, 0.0], [2018, 10, 7, 16, 48, 0, 0.0]], \"ylim\": [1.971282838107646, 178.32602214378346], \"paths\": [], \"sharey\": [], \"sharex\": [], \"axesbgalpha\": null, \"axes\": [{\"scale\": \"linear\", \"tickformat\": null, \"grid\": {\"gridOn\": false}, \"visible\": true, \"fontsize\": 10.0, \"position\": \"bottom\", \"nticks\": 5, \"tickvalues\": null}, {\"scale\": \"linear\", \"tickformat\": null, \"grid\": {\"gridOn\": false}, \"visible\": true, \"fontsize\": 10.0, \"position\": \"left\", \"nticks\": 10, \"tickvalues\": null}], \"lines\": [{\"drawstyle\": \"default\", \"color\": \"#1F77B4\", \"yindex\": 1, \"coordinates\": \"data\", \"dasharray\": \"none\", \"zorder\": 2, \"alpha\": 1, \"xindex\": 0, \"linewidth\": 1.5, \"data\": \"data01\", \"id\": \"el858504849572176\"}, {\"drawstyle\": \"default\", \"color\": \"#FF7F0E\", \"yindex\": 2, \"coordinates\": \"data\", \"dasharray\": \"none\", \"zorder\": 2, \"alpha\": 1, \"xindex\": 0, \"linewidth\": 1.5, \"data\": \"data01\", \"id\": \"el858504876820432\"}, {\"drawstyle\": \"default\", \"color\": \"#2CA02C\", \"yindex\": 3, \"coordinates\": \"data\", \"dasharray\": \"none\", \"zorder\": 2, \"alpha\": 1, \"xindex\": 0, \"linewidth\": 1.5, \"data\": \"data01\", \"id\": \"el858504876964176\"}, {\"drawstyle\": \"default\", \"color\": \"#FF0000\", \"yindex\": 1, \"coordinates\": \"data\", \"dasharray\": \"none\", \"zorder\": 2, \"alpha\": 1, \"xindex\": 0, \"linewidth\": 1.5, \"data\": \"data02\", \"id\": \"el858504849335696\"}, {\"drawstyle\": \"default\", \"color\": \"#FF0000\", \"yindex\": 2, \"coordinates\": \"data\", \"dasharray\": \"none\", \"zorder\": 2, \"alpha\": 1, \"xindex\": 0, \"linewidth\": 1.5, \"data\": \"data02\", \"id\": \"el858504874191696\"}, {\"drawstyle\": \"default\", \"color\": \"#FF0000\", \"yindex\": 3, \"coordinates\": \"data\", \"dasharray\": \"none\", \"zorder\": 2, \"alpha\": 1, \"xindex\": 0, \"linewidth\": 1.5, \"data\": \"data02\", \"id\": \"el858504874191952\"}], \"markers\": [], \"id\": \"el858504849332432\", \"ydomain\": [1.971282838107646, 178.32602214378346], \"collections\": [], \"xscale\": \"date\", \"bbox\": [0.125, 0.125, 0.775, 0.755]}], \"height\": 288.0, \"width\": 432.0, \"plugins\": [{\"type\": \"reset\"}, {\"enabled\": false, \"button\": true, \"type\": \"zoom\"}, {\"enabled\": false, \"button\": true, \"type\": \"boxzoom\"}], \"data\": {\"data02\": [[736633.0, 77.33, 55.265, 156.405], [736663.0, 75.64284154848887, 55.53925899114512, 157.70669083756547], [736694.0, 77.19650805870421, 56.27278618552873, 159.14122953905434], [736725.0, 75.40148483235598, 55.99710727992883, 164.08829054719197], [736753.0, 78.17747128884143, 56.62812652306417, 163.87430250261374], [736784.0, 78.11490215170983, 57.00277701186151, 166.8029843620565], [736814.0, 77.42618822624947, 56.77133181822553, 170.3098976298891]], \"data01\": [[732980.0, NaN, 26.129162153867, 24.411222456723], [733010.0, NaN, 25.166378433743, 23.417809718684], [733041.0, NaN, 23.428090191635, 25.456040769822], [733072.0, NaN, 26.446813969225, 17.395646600379], [733101.0, NaN, 22.916878264786, 16.066812485072], [733132.0, NaN, 22.814955781912, 18.441750052855], [733162.0, NaN, 23.324568196284, 22.354999454314], [733193.0, NaN, 21.839512782252, 24.257005731542], [733223.0, NaN, 18.813508472198, 21.518373720209], [733254.0, NaN, 23.978311640144, 20.427290389556], [733285.0, NaN, 24.247286432544, 21.786967849899], [733315.0, NaN, 30.062790215176, 14.606894153362], [733346.0, NaN, 27.275193360691, 13.826814551823], [733376.0, NaN, 23.390226016419, 11.909386602077], [733407.0, NaN, 23.867908029216, 10.968664578475], [733438.0, NaN, 15.302017020088, 11.582961200445], [733466.0, NaN, 9.987407352002, 11.477579771571], [733497.0, NaN, 11.753775263844, 13.509385125826], [733527.0, NaN, 16.516365381286, 16.170908774569], [733558.0, NaN, 21.087051779849, 17.453477872322], [733588.0, NaN, 20.061642203104, 18.304240139569], [733619.0, NaN, 20.227030844514, 20.997892272724], [733650.0, NaN, 22.798086403311, 21.6173294522], [733680.0, NaN, 23.344842835948, 23.820058343531], [733711.0, NaN, 22.798086403311, 24.22487724713], [733741.0, NaN, 23.272169314678, 25.691221275723], [733772.0, NaN, 22.400707910241, 27.081999108977], [733803.0, NaN, 23.595854979183, 24.682772406979], [733831.0, NaN, 22.731513444209, 26.296521922057], [733862.0, NaN, 25.874348880168, 30.200775347881], [733892.0, NaN, 27.528910392749, 33.553703981184], [733923.0, NaN, 23.890473279224, 33.012660303675], [733953.0, NaN, 21.31739686121, 32.325110737244], [733984.0, NaN, 23.091070896928, 33.060210460605], [734015.0, NaN, 19.64544591999, 31.24173824285], [734045.0, NaN, 20.95097130703, 36.465829808345], [734076.0, NaN, 21.739291748406, 38.680124954064], [734106.0, NaN, 22.741515837121, 39.98711169997], [734137.0, NaN, 25.900756184946, 41.453455728563], [734168.0, NaN, 27.095918538753, 43.607349323587], [734196.0, NaN, 27.003395476407, 45.392407917553], [734227.0, NaN, 26.601924878653, 44.788071125751], [734257.0, NaN, 24.42075159942, 44.996584989589], [734288.0, NaN, 23.899191524973, 44.701002932993], [734318.0, NaN, 23.638044208345, 43.138273451162], [734349.0, NaN, 23.536954924489, 50.182122373789], [734380.0, NaN, 22.083565037547, 49.456018626063], [734410.0, NaN, 20.408260103664, 49.00493470491], [734441.0, NaN, 21.922803452983, 52.019871682192], [734471.0, NaN, 21.984155875193, 49.118026970042], [734502.0, NaN, 23.429363337986, 52.048144748475], [734533.0, NaN, 24.832064698932, 58.664042258726], [734562.0, NaN, 26.70711138368, 69.711100339167], [734593.0, NaN, 29.227048519308, 77.050531318391], [734623.0, NaN, 28.606380382914, 75.049569309172], [734654.0, NaN, 27.617624986873, 74.246357198856], [734684.0, NaN, 28.815394058067, 75.052139587925], [734715.0, NaN, 29.13422467414, 78.491172559453], [734746.0, NaN, 29.514551732024, 85.857594115654], [734776.0, NaN, 29.948206620828, 86.098295836876], [734807.0, NaN, 29.219666407637, 76.83353816507], [734837.0, NaN, 28.821283697695, 75.896485214554], [734868.0, NaN, 29.842819654262, 69.009794690466], [734899.0, NaN, 30.627742687255, 59.065900168086], [734927.0, NaN, 30.8475800594, 57.562728311726], [734958.0, NaN, 32.527137582588, 57.727044210395], [734988.0, NaN, 33.397693576283, 57.742693343602], [735019.0, NaN, 35.935834675552, 59.041313847026], [735049.0, NaN, 36.57390621603, 52.056549256254], [735080.0, NaN, 38.550155570567, 59.40824208744], [735111.0, NaN, 36.657933387445, 64.384993720396], [735141.0, NaN, 36.872098528949, 63.001924723734], [735172.0, NaN, 38.094624545034, 69.074424870362], [735202.0, NaN, 39.559129248138, 73.914215436527], [735233.0, NaN, 40.799283686175, 74.572181819196], [735264.0, NaN, 40.745363928, 66.541004275586], [735292.0, NaN, 41.998867254847, 70.365411763138], [735323.0, NaN, 45.002663878847, 71.76940390268], [735353.0, NaN, 44.912188076919, 78.903021106928], [735384.0, NaN, 46.269189547841, 85.114261733663], [735414.0, NaN, 47.891071339789, 87.468686256501], [735445.0, NaN, 46.378529893365, 89.98177559584], [735476.0, NaN, 47.198262137537, 96.956206806577], [735506.0, NaN, 47.592804375467, 95.30085693427], [735537.0, NaN, 48.712203283084, 102.15873497669], [735567.0, NaN, 50.314422309488, 112.98399738955], [735598.0, NaN, 50.628425679261, 104.8614616317], [735629.0, NaN, 47.950161642963, 111.30248998705], [735657.0, NaN, 50.934686156653, 122.5157567099], [735688.0, NaN, 50.572128616936, 118.67223733001], [735718.0, NaN, 51.222872918992, 119.35892069317], [735749.0, NaN, 52.377573352296, 124.76735316852], [735779.0, NaN, 52.639648415531, 120.11778685264], [735810.0, 74.490493466069, 54.165299676508, 116.16733143492], [735841.0, 68.107200896496, 50.240631438077, 108.47643694077], [735871.0, 66.120037864559, 48.375331414687, 105.77318412236], [735902.0, 73.084481886868, 51.003708720373, 114.96039565823], [735932.0, 69.632842445394, 52.264738901248, 114.29538877569], [735963.0, 69.307892228966, 51.562816818001, 101.69680999602], [735994.0, 74.356433031791, 47.645332758797, 94.044912454993], [736023.0, 73.365775968595, 44.856276527438, 93.919781198699], [736054.0, 75.384149765237, 46.232939745672, 105.86737979984], [736084.0, 74.913958403412, 47.781685866184, 91.054300233386], [736115.0, 80.3716622509, 48.865637028736, 97.591938528951], [736145.0, 85.482445918496, 45.599578086949, 93.428693404443], [736176.0, 83.463251615041, 46.216179185104, 101.84313953637], [736207.0, 87.041420911462, 49.333677703594, 104.24847718874], [736237.0, 87.060873681807, 43.001874974707, 111.07719459177], [736268.0, 86.51619611213, 44.681939195715, 111.55864373242], [736298.0, 79.999518046349, 51.824163421622, 109.15491652711], [736329.0, 85.554904051527, 53.968814175464, 114.38945378366], [736360.0, 87.485082257911, 55.163551125094, 119.85115020417], [736388.0, 89.660206937187, 57.066697924081, 135.8803615489], [736419.0, 89.558241906473, 54.877892302252, 142.49633360184], [736449.0, 89.104582713906, 53.083466071743, 142.48641460326], [736480.0, 91.538593974175, 50.770723940011, 152.14268890314], [736510.0, 85.005796269727, 55.00989076097, 143.43800769724], [736541.0, 86.832596843615, 53.550505461951, 148.24848941629], [736572.0, 80.75, 51.07, 164.0], [736602.0, 77.55, 55.15, 154.12], [736633.0, 77.33, 55.265, 156.405]]}, \"id\": \"el858504849335888\"});\n",
       "            })\n",
       "         });\n",
       "}\n",
       "</script>"
      ],
      "text/plain": [
       "<matplotlib.figure.Figure at 0x1210afe50>"
      ]
     },
     "metadata": {},
     "output_type": "display_data"
    }
   ],
   "source": [
    "fig, ax = plt.subplots()\n",
    "_ = ax.plot(data3.iloc[:-numberofmonths])\n",
    "_ = ax.plot(data3.iloc[-(numberofmonths+1):], color = \"Red\")"
   ]
  },
  {
   "cell_type": "markdown",
   "metadata": {},
   "source": [
    "What do you notice about our forecasts?\n",
    "\n",
    "### 4.2 Exporting for further visualization\n",
    "\n",
    "Next, we want to rearrange all of the data to be more like what we need for D3. Python comes with a function called `unstack()` that does just that!\n",
    "\n",
    "Below, make a variable called **`datalist`** and set it equal to **`data3.unstack()`**.\n",
    "\n",
    "Then show the top 10 rows of the datalist. (Hint, you've used this type of function before)"
   ]
  },
  {
   "cell_type": "code",
   "execution_count": 113,
   "metadata": {
    "collapsed": true
   },
   "outputs": [],
   "source": [
    "datalist=data3.unstack()"
   ]
  },
  {
   "cell_type": "markdown",
   "metadata": {},
   "source": [
    "Almost there! We've done the hard work, now we just need it in a CSV format.\n",
    "\n",
    "We've written this bit of code to clean the data a bit more and to output the data in a comma-separated value format."
   ]
  },
  {
   "cell_type": "code",
   "execution_count": 114,
   "metadata": {},
   "outputs": [
    {
     "name": "stdout",
     "output_type": "stream",
     "text": [
      "symbol,date,price\n",
      "KHC,Oct 2007,\n",
      "KHC,Nov 2007,\n",
      "KHC,Dec 2007,\n",
      "KHC,Jan 2008,\n",
      "KHC,Feb 2008,\n",
      "KHC,Mar 2008,\n",
      "KHC,Apr 2008,\n",
      "KHC,May 2008,\n",
      "KHC,Jun 2008,\n",
      "KHC,Jul 2008,\n",
      "KHC,Aug 2008,\n",
      "KHC,Sep 2008,\n",
      "KHC,Oct 2008,\n",
      "KHC,Nov 2008,\n",
      "KHC,Dec 2008,\n",
      "KHC,Jan 2009,\n",
      "KHC,Feb 2009,\n",
      "KHC,Mar 2009,\n",
      "KHC,Apr 2009,\n",
      "KHC,May 2009,\n",
      "KHC,Jun 2009,\n",
      "KHC,Jul 2009,\n",
      "KHC,Aug 2009,\n",
      "KHC,Sep 2009,\n",
      "KHC,Oct 2009,\n",
      "KHC,Nov 2009,\n",
      "KHC,Dec 2009,\n",
      "KHC,Jan 2010,\n",
      "KHC,Feb 2010,\n",
      "KHC,Mar 2010,\n",
      "KHC,Apr 2010,\n",
      "KHC,May 2010,\n",
      "KHC,Jun 2010,\n",
      "KHC,Jul 2010,\n",
      "KHC,Aug 2010,\n",
      "KHC,Sep 2010,\n",
      "KHC,Oct 2010,\n",
      "KHC,Nov 2010,\n",
      "KHC,Dec 2010,\n",
      "KHC,Jan 2011,\n",
      "KHC,Feb 2011,\n",
      "KHC,Mar 2011,\n",
      "KHC,Apr 2011,\n",
      "KHC,May 2011,\n",
      "KHC,Jun 2011,\n",
      "KHC,Jul 2011,\n",
      "KHC,Aug 2011,\n",
      "KHC,Sep 2011,\n",
      "KHC,Oct 2011,\n",
      "KHC,Nov 2011,\n",
      "KHC,Dec 2011,\n",
      "KHC,Jan 2012,\n",
      "KHC,Feb 2012,\n",
      "KHC,Mar 2012,\n",
      "KHC,Apr 2012,\n",
      "KHC,May 2012,\n",
      "KHC,Jun 2012,\n",
      "KHC,Jul 2012,\n",
      "KHC,Aug 2012,\n",
      "KHC,Sep 2012,\n",
      "KHC,Oct 2012,\n",
      "KHC,Nov 2012,\n",
      "KHC,Dec 2012,\n",
      "KHC,Jan 2013,\n",
      "KHC,Feb 2013,\n",
      "KHC,Mar 2013,\n",
      "KHC,Apr 2013,\n",
      "KHC,May 2013,\n",
      "KHC,Jun 2013,\n",
      "KHC,Jul 2013,\n",
      "KHC,Aug 2013,\n",
      "KHC,Sep 2013,\n",
      "KHC,Oct 2013,\n",
      "KHC,Nov 2013,\n",
      "KHC,Dec 2013,\n",
      "KHC,Jan 2014,\n",
      "KHC,Feb 2014,\n",
      "KHC,Mar 2014,\n",
      "KHC,Apr 2014,\n",
      "KHC,May 2014,\n",
      "KHC,Jun 2014,\n",
      "KHC,Jul 2014,\n",
      "KHC,Aug 2014,\n",
      "KHC,Sep 2014,\n",
      "KHC,Oct 2014,\n",
      "KHC,Nov 2014,\n",
      "KHC,Dec 2014,\n",
      "KHC,Jan 2015,\n",
      "KHC,Feb 2015,\n",
      "KHC,Mar 2015,\n",
      "KHC,Apr 2015,\n",
      "KHC,May 2015,\n",
      "KHC,Jun 2015,\n",
      "KHC,Jul 2015,74.490493466069\n",
      "KHC,Aug 2015,68.107200896496\n",
      "KHC,Sep 2015,66.120037864559\n",
      "KHC,Oct 2015,73.084481886868\n",
      "KHC,Nov 2015,69.632842445394\n",
      "KHC,Dec 2015,69.307892228966\n",
      "KHC,Jan 2016,74.356433031791\n",
      "KHC,Feb 2016,73.365775968595\n",
      "KHC,Mar 2016,75.384149765237\n",
      "KHC,Apr 2016,74.913958403412\n",
      "KHC,May 2016,80.3716622509\n",
      "KHC,Jun 2016,85.482445918496\n",
      "KHC,Jul 2016,83.463251615041\n",
      "KHC,Aug 2016,87.041420911462\n",
      "KHC,Sep 2016,87.060873681807\n",
      "KHC,Oct 2016,86.51619611213\n",
      "KHC,Nov 2016,79.999518046349\n",
      "KHC,Dec 2016,85.554904051527\n",
      "KHC,Jan 2017,87.485082257911\n",
      "KHC,Feb 2017,89.660206937187\n",
      "KHC,Mar 2017,89.558241906473\n",
      "KHC,Apr 2017,89.104582713906\n",
      "KHC,May 2017,91.538593974175\n",
      "KHC,Jun 2017,85.005796269727\n",
      "KHC,Jul 2017,86.832596843615\n",
      "KHC,Aug 2017,80.75\n",
      "KHC,Sep 2017,77.55\n",
      "KHC,Oct 2017,77.33\n",
      "KHC,Nov 2017,75.64284154848887\n",
      "KHC,Dec 2017,77.19650805870421\n",
      "KHC,Jan 2018,75.40148483235598\n",
      "KHC,Feb 2018,78.17747128884143\n",
      "KHC,Mar 2018,78.11490215170983\n",
      "KHC,Apr 2018,77.42618822624947\n",
      "WFC,Oct 2007,26.129162153867\n",
      "WFC,Nov 2007,25.166378433743\n",
      "WFC,Dec 2007,23.428090191635\n",
      "WFC,Jan 2008,26.446813969225\n",
      "WFC,Feb 2008,22.916878264786\n",
      "WFC,Mar 2008,22.814955781912\n",
      "WFC,Apr 2008,23.324568196284\n",
      "WFC,May 2008,21.839512782252\n",
      "WFC,Jun 2008,18.813508472198\n",
      "WFC,Jul 2008,23.978311640144\n",
      "WFC,Aug 2008,24.247286432544\n",
      "WFC,Sep 2008,30.062790215176\n",
      "WFC,Oct 2008,27.275193360691\n",
      "WFC,Nov 2008,23.390226016419\n",
      "WFC,Dec 2008,23.867908029216\n",
      "WFC,Jan 2009,15.302017020088\n",
      "WFC,Feb 2009,9.987407352002\n",
      "WFC,Mar 2009,11.753775263844\n",
      "WFC,Apr 2009,16.516365381286\n",
      "WFC,May 2009,21.087051779849\n",
      "WFC,Jun 2009,20.061642203104\n",
      "WFC,Jul 2009,20.227030844514\n",
      "WFC,Aug 2009,22.798086403311\n",
      "WFC,Sep 2009,23.344842835948\n",
      "WFC,Oct 2009,22.798086403311\n",
      "WFC,Nov 2009,23.272169314678\n",
      "WFC,Dec 2009,22.400707910241\n",
      "WFC,Jan 2010,23.595854979183\n",
      "WFC,Feb 2010,22.731513444209\n",
      "WFC,Mar 2010,25.874348880168\n",
      "WFC,Apr 2010,27.528910392749\n",
      "WFC,May 2010,23.890473279224\n",
      "WFC,Jun 2010,21.31739686121\n",
      "WFC,Jul 2010,23.091070896928\n",
      "WFC,Aug 2010,19.64544591999\n",
      "WFC,Sep 2010,20.95097130703\n",
      "WFC,Oct 2010,21.739291748406\n",
      "WFC,Nov 2010,22.741515837121\n",
      "WFC,Dec 2010,25.900756184946\n",
      "WFC,Jan 2011,27.095918538753\n",
      "WFC,Feb 2011,27.003395476407\n",
      "WFC,Mar 2011,26.601924878653\n",
      "WFC,Apr 2011,24.42075159942\n",
      "WFC,May 2011,23.899191524973\n",
      "WFC,Jun 2011,23.638044208345\n",
      "WFC,Jul 2011,23.536954924489\n",
      "WFC,Aug 2011,22.083565037547\n",
      "WFC,Sep 2011,20.408260103664\n",
      "WFC,Oct 2011,21.922803452983\n",
      "WFC,Nov 2011,21.984155875193\n",
      "WFC,Dec 2011,23.429363337986\n",
      "WFC,Jan 2012,24.832064698932\n",
      "WFC,Feb 2012,26.70711138368\n",
      "WFC,Mar 2012,29.227048519308\n",
      "WFC,Apr 2012,28.606380382914\n",
      "WFC,May 2012,27.617624986873\n",
      "WFC,Jun 2012,28.815394058067\n",
      "WFC,Jul 2012,29.13422467414\n",
      "WFC,Aug 2012,29.514551732024\n",
      "WFC,Sep 2012,29.948206620828\n",
      "WFC,Oct 2012,29.219666407637\n",
      "WFC,Nov 2012,28.821283697695\n",
      "WFC,Dec 2012,29.842819654262\n",
      "WFC,Jan 2013,30.627742687255\n",
      "WFC,Feb 2013,30.8475800594\n",
      "WFC,Mar 2013,32.527137582588\n",
      "WFC,Apr 2013,33.397693576283\n",
      "WFC,May 2013,35.935834675552\n",
      "WFC,Jun 2013,36.57390621603\n",
      "WFC,Jul 2013,38.550155570567\n",
      "WFC,Aug 2013,36.657933387445\n",
      "WFC,Sep 2013,36.872098528949\n",
      "WFC,Oct 2013,38.094624545034\n",
      "WFC,Nov 2013,39.559129248138\n",
      "WFC,Dec 2013,40.799283686175\n",
      "WFC,Jan 2014,40.745363928\n",
      "WFC,Feb 2014,41.998867254847\n",
      "WFC,Mar 2014,45.002663878847\n",
      "WFC,Apr 2014,44.912188076919\n",
      "WFC,May 2014,46.269189547841\n",
      "WFC,Jun 2014,47.891071339789\n",
      "WFC,Jul 2014,46.378529893365\n",
      "WFC,Aug 2014,47.198262137537\n",
      "WFC,Sep 2014,47.592804375467\n",
      "WFC,Oct 2014,48.712203283084\n",
      "WFC,Nov 2014,50.314422309488\n",
      "WFC,Dec 2014,50.628425679261\n",
      "WFC,Jan 2015,47.950161642963\n",
      "WFC,Feb 2015,50.934686156653\n",
      "WFC,Mar 2015,50.572128616936\n",
      "WFC,Apr 2015,51.222872918992\n",
      "WFC,May 2015,52.377573352296\n",
      "WFC,Jun 2015,52.639648415531\n",
      "WFC,Jul 2015,54.165299676508\n",
      "WFC,Aug 2015,50.240631438077\n",
      "WFC,Sep 2015,48.375331414687\n",
      "WFC,Oct 2015,51.003708720373\n",
      "WFC,Nov 2015,52.264738901248\n",
      "WFC,Dec 2015,51.562816818001\n",
      "WFC,Jan 2016,47.645332758797\n",
      "WFC,Feb 2016,44.856276527438\n",
      "WFC,Mar 2016,46.232939745672\n",
      "WFC,Apr 2016,47.781685866184\n",
      "WFC,May 2016,48.865637028736\n",
      "WFC,Jun 2016,45.599578086949\n",
      "WFC,Jul 2016,46.216179185104\n",
      "WFC,Aug 2016,49.333677703594\n",
      "WFC,Sep 2016,43.001874974707\n",
      "WFC,Oct 2016,44.681939195715\n",
      "WFC,Nov 2016,51.824163421622\n",
      "WFC,Dec 2016,53.968814175464\n",
      "WFC,Jan 2017,55.163551125094\n",
      "WFC,Feb 2017,57.066697924081\n",
      "WFC,Mar 2017,54.877892302252\n",
      "WFC,Apr 2017,53.083466071743\n",
      "WFC,May 2017,50.770723940011\n",
      "WFC,Jun 2017,55.00989076097\n",
      "WFC,Jul 2017,53.550505461951\n",
      "WFC,Aug 2017,51.07\n",
      "WFC,Sep 2017,55.15\n",
      "WFC,Oct 2017,55.265\n",
      "WFC,Nov 2017,55.53925899114512\n",
      "WFC,Dec 2017,56.27278618552873\n",
      "WFC,Jan 2018,55.99710727992883\n",
      "WFC,Feb 2018,56.62812652306417\n",
      "WFC,Mar 2018,57.00277701186151\n",
      "WFC,Apr 2018,56.77133181822553\n",
      "AAPL,Oct 2007,24.411222456723\n",
      "AAPL,Nov 2007,23.417809718684\n",
      "AAPL,Dec 2007,25.456040769822\n",
      "AAPL,Jan 2008,17.395646600379\n",
      "AAPL,Feb 2008,16.066812485072\n",
      "AAPL,Mar 2008,18.441750052855\n",
      "AAPL,Apr 2008,22.354999454314\n",
      "AAPL,May 2008,24.257005731542\n",
      "AAPL,Jun 2008,21.518373720209\n",
      "AAPL,Jul 2008,20.427290389556\n",
      "AAPL,Aug 2008,21.786967849899\n",
      "AAPL,Sep 2008,14.606894153362\n",
      "AAPL,Oct 2008,13.826814551823\n",
      "AAPL,Nov 2008,11.909386602077\n",
      "AAPL,Dec 2008,10.968664578475\n",
      "AAPL,Jan 2009,11.582961200445\n",
      "AAPL,Feb 2009,11.477579771571\n",
      "AAPL,Mar 2009,13.509385125826\n",
      "AAPL,Apr 2009,16.170908774569\n",
      "AAPL,May 2009,17.453477872322\n",
      "AAPL,Jun 2009,18.304240139569\n",
      "AAPL,Jul 2009,20.997892272724\n",
      "AAPL,Aug 2009,21.6173294522\n",
      "AAPL,Sep 2009,23.820058343531\n",
      "AAPL,Oct 2009,24.22487724713\n",
      "AAPL,Nov 2009,25.691221275723\n",
      "AAPL,Dec 2009,27.081999108977\n",
      "AAPL,Jan 2010,24.682772406979\n",
      "AAPL,Feb 2010,26.296521922057\n",
      "AAPL,Mar 2010,30.200775347881\n",
      "AAPL,Apr 2010,33.553703981184\n",
      "AAPL,May 2010,33.012660303675\n",
      "AAPL,Jun 2010,32.325110737244\n",
      "AAPL,Jul 2010,33.060210460605\n",
      "AAPL,Aug 2010,31.24173824285\n",
      "AAPL,Sep 2010,36.465829808345\n",
      "AAPL,Oct 2010,38.680124954064\n",
      "AAPL,Nov 2010,39.98711169997\n",
      "AAPL,Dec 2010,41.453455728563\n",
      "AAPL,Jan 2011,43.607349323587\n",
      "AAPL,Feb 2011,45.392407917553\n",
      "AAPL,Mar 2011,44.788071125751\n",
      "AAPL,Apr 2011,44.996584989589\n",
      "AAPL,May 2011,44.701002932993\n",
      "AAPL,Jun 2011,43.138273451162\n",
      "AAPL,Jul 2011,50.182122373789\n",
      "AAPL,Aug 2011,49.456018626063\n",
      "AAPL,Sep 2011,49.00493470491\n",
      "AAPL,Oct 2011,52.019871682192\n",
      "AAPL,Nov 2011,49.118026970042\n",
      "AAPL,Dec 2011,52.048144748475\n",
      "AAPL,Jan 2012,58.664042258726\n",
      "AAPL,Feb 2012,69.711100339167\n",
      "AAPL,Mar 2012,77.050531318391\n",
      "AAPL,Apr 2012,75.049569309172\n",
      "AAPL,May 2012,74.246357198856\n",
      "AAPL,Jun 2012,75.052139587925\n",
      "AAPL,Jul 2012,78.491172559453\n",
      "AAPL,Aug 2012,85.857594115654\n",
      "AAPL,Sep 2012,86.098295836876\n",
      "AAPL,Oct 2012,76.83353816507\n",
      "AAPL,Nov 2012,75.896485214554\n",
      "AAPL,Dec 2012,69.009794690466\n",
      "AAPL,Jan 2013,59.065900168086\n",
      "AAPL,Feb 2013,57.562728311726\n",
      "AAPL,Mar 2013,57.727044210395\n",
      "AAPL,Apr 2013,57.742693343602\n",
      "AAPL,May 2013,59.041313847026\n",
      "AAPL,Jun 2013,52.056549256254\n",
      "AAPL,Jul 2013,59.40824208744\n",
      "AAPL,Aug 2013,64.384993720396\n",
      "AAPL,Sep 2013,63.001924723734\n",
      "AAPL,Oct 2013,69.074424870362\n",
      "AAPL,Nov 2013,73.914215436527\n",
      "AAPL,Dec 2013,74.572181819196\n",
      "AAPL,Jan 2014,66.541004275586\n",
      "AAPL,Feb 2014,70.365411763138\n",
      "AAPL,Mar 2014,71.76940390268\n",
      "AAPL,Apr 2014,78.903021106928\n",
      "AAPL,May 2014,85.114261733663\n",
      "AAPL,Jun 2014,87.468686256501\n",
      "AAPL,Jul 2014,89.98177559584\n",
      "AAPL,Aug 2014,96.956206806577\n",
      "AAPL,Sep 2014,95.30085693427\n",
      "AAPL,Oct 2014,102.15873497669\n",
      "AAPL,Nov 2014,112.98399738955\n",
      "AAPL,Dec 2014,104.8614616317\n",
      "AAPL,Jan 2015,111.30248998705\n",
      "AAPL,Feb 2015,122.5157567099\n",
      "AAPL,Mar 2015,118.67223733001\n",
      "AAPL,Apr 2015,119.35892069317\n",
      "AAPL,May 2015,124.76735316852\n",
      "AAPL,Jun 2015,120.11778685264\n",
      "AAPL,Jul 2015,116.16733143492\n",
      "AAPL,Aug 2015,108.47643694077\n",
      "AAPL,Sep 2015,105.77318412236\n",
      "AAPL,Oct 2015,114.96039565823\n",
      "AAPL,Nov 2015,114.29538877569\n",
      "AAPL,Dec 2015,101.69680999602\n",
      "AAPL,Jan 2016,94.044912454993\n",
      "AAPL,Feb 2016,93.919781198699\n",
      "AAPL,Mar 2016,105.86737979984\n",
      "AAPL,Apr 2016,91.054300233386\n",
      "AAPL,May 2016,97.591938528951\n",
      "AAPL,Jun 2016,93.428693404443\n",
      "AAPL,Jul 2016,101.84313953637\n",
      "AAPL,Aug 2016,104.24847718874\n",
      "AAPL,Sep 2016,111.07719459177\n",
      "AAPL,Oct 2016,111.55864373242\n",
      "AAPL,Nov 2016,109.15491652711\n",
      "AAPL,Dec 2016,114.38945378366\n",
      "AAPL,Jan 2017,119.85115020417\n",
      "AAPL,Feb 2017,135.8803615489\n",
      "AAPL,Mar 2017,142.49633360184\n",
      "AAPL,Apr 2017,142.48641460326\n",
      "AAPL,May 2017,152.14268890314\n",
      "AAPL,Jun 2017,143.43800769724\n",
      "AAPL,Jul 2017,148.24848941629\n",
      "AAPL,Aug 2017,164.0\n",
      "AAPL,Sep 2017,154.12\n",
      "AAPL,Oct 2017,156.405\n",
      "AAPL,Nov 2017,157.70669083756547\n",
      "AAPL,Dec 2017,159.14122953905434\n",
      "AAPL,Jan 2018,164.08829054719197\n",
      "AAPL,Feb 2018,163.87430250261374\n",
      "AAPL,Mar 2018,166.8029843620565\n",
      "AAPL,Apr 2018,170.3098976298891\n",
      "\n"
     ]
    }
   ],
   "source": [
    "csv = datalist.to_csv(header=True, index_label=['symbol','date','price'], date_format='%b %Y', index=True)\n",
    "csv = csv.replace(\"price,0\",\"price\") # remove addition of ',0' on first line\n",
    "print csv"
   ]
  },
  {
   "cell_type": "markdown",
   "metadata": {},
   "source": [
    "We could copy & paste this into a new CSV file for our D3.js visualization, or we could write code to do that for us.\n",
    "\n",
    "To make the downloadable file, we've got to bring in a library called `base64` which will encode the file. Then we use that to create the file and add a bit of HTML to make it so we can download the file.\n",
    "\n",
    "Run the cell below, and download the resulting **`stocks.csv`** file."
   ]
  },
  {
   "cell_type": "code",
   "execution_count": 184,
   "metadata": {},
   "outputs": [
    {
     "data": {
      "text/html": [
       "<a download=\"stocks.csv\" href=\"data:text/csv;base64,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\" target=\"_blank\">stocks.csv</a>"
      ],
      "text/plain": [
       "<IPython.core.display.HTML object>"
      ]
     },
     "execution_count": 184,
     "metadata": {},
     "output_type": "execute_result"
    }
   ],
   "source": [
    "import base64\n",
    "from IPython.display import HTML\n",
    "\n",
    "b64 = base64.b64encode(csv.encode())\n",
    "payload = b64.decode()\n",
    "html = '<a download=\"{filename}\" href=\"data:text/csv;base64,{payload}\" target=\"_blank\">{filename}</a>'\n",
    "html = html.format(payload=payload,title=\"stocks.csv\",filename=\"stocks.csv\")\n",
    "HTML(html)\n"
   ]
  },
  {
   "cell_type": "markdown",
   "metadata": {},
   "source": [
    "Now you can import this file into your D3.js visualization."
   ]
  },
  {
   "cell_type": "markdown",
   "metadata": {},
   "source": [
    "## <font color='green'>You're done!</font>\n",
    "\n",
    "![done](https://media.giphy.com/media/15BuyagtKucHm/giphy.gif)"
   ]
  }
 ],
 "metadata": {
  "kernelspec": {
   "display_name": "Python 2",
   "language": "python",
   "name": "python2"
  },
  "language_info": {
   "codemirror_mode": {
    "name": "ipython",
    "version": 2
   },
   "file_extension": ".py",
   "mimetype": "text/x-python",
   "name": "python",
   "nbconvert_exporter": "python",
   "pygments_lexer": "ipython2",
   "version": "2.7.13"
  },
  "widgets": {
   "state": {},
   "version": "1.1.2"
  }
 },
 "nbformat": 4,
 "nbformat_minor": 2
}
